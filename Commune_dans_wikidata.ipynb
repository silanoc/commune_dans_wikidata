{
 "cells": [
  {
   "cell_type": "markdown",
   "metadata": {
    "hideCode": false,
    "hidePrompt": false
   },
   "source": [
    "<style>\n",
    "    h1{color: red;}\n",
    "        h2{color: red;}\n",
    "        h3{color: red;}\n",
    "        h4{color: red;}\n",
    "        h5{color: red;}\n",
    "</style>\n",
    "\n",
    "# La Commune de Paris 1871 en liberté\n",
    "ou La Commune dans Wikidata\n",
    "\n",
    "Ceci est un site personnel qui utilise des données issues de l'univers wikimédia dont wikipédia, commons, wikidata, wikisources..."
   ]
  },
  {
   "cell_type": "code",
   "execution_count": 1,
   "metadata": {
    "hideCode": false,
    "hideOutput": true,
    "hidePrompt": false
   },
   "outputs": [],
   "source": [
    "# pour exporter en html\n",
    "import plotly.io as pio\n",
    "pio.renderers.defaut = 'notebook'"
   ]
  },
  {
   "cell_type": "code",
   "execution_count": 2,
   "metadata": {},
   "outputs": [],
   "source": [
    "from IPython.display import HTML"
   ]
  },
  {
   "cell_type": "markdown",
   "metadata": {
    "hideCode": false,
    "hidePrompt": false
   },
   "source": [
    "Table des matières\n",
    "\n",
    "- [Présentation](#Présentation)\n",
    "    - [Point grammatical](#Point_grammatical)\n",
    "    - [Qui suis-je pour le faire ?](#Quisuis-jepourlefaire?)\n",
    "- [Méthodologie](#Méthodologie)\n",
    "    - [Wikidata : élément, propriété, valeurs.](#Wikidata:élément,propriété,valeurs.)\n",
    "- [Technique](#Technique)\n",
    "- [Faire une requête sur wikidata en python](#Faireunerequêtesurwikidataenpython)\n",
    "- [Portraits de Communardes et Communards](#PortraitsdeCommunardesetCommunards)\n",
    "    - [Trouver des communard·e·s sur wikidata](#Trouverdescommunard·e·ssurwikidata)\n",
    "        - L'élément \"communard ou communarde\"\n",
    "        - La propriété \"occupation\"\n",
    "        - Le triplet ?communard wdt:P106 wd:Q1780490.\n",
    "    - Les communard·e·s connu·e·s\n",
    "        - Liste complète\n",
    "        - Liste complète avec Reasonator\n",
    "        - Nombre\n",
    "        - Quelques tests possibles pour vérifier la fiabilité des données.\n",
    "            - Pour vérifier qu'ils ne sont pas née après ou mort avant la Commune\n",
    "            - Des êtres vivants\n",
    "            - Quelques sources\n",
    "    - Présentations et statistiques à propos des Communard-e-s\n",
    "        - Galerie de portrait\n",
    "        - Gender-gap \n",
    "        - A part avoir participer à la commune, que faisaient ces personnes ?\n",
    "            - Au moins deux personnes qui l'occupe\n",
    "        - Quel age avait ces personnes en 1871\n",
    "        - Une Commune internationale\n",
    "     - Relations entre communard·e·s\n",
    "        - Partenaires de vie\n",
    "            - Communard·e·s et leur conjoint·e ou partenaire de vie\n",
    "            - Communard·e·s vivant avec un·e autre communard·e·s\n",
    "            - Communard·e·s dont le nombre de partenaire est supérieur à 1\n",
    "        - Généalogie\n",
    "            - Communard·e·s et leurs enfants\n",
    "            - Communard·e·s dont les enfants sont communard·e·s\n",
    "            - Mini-arbres généalogiques parent(s)-> communard·e -> enfant(s)\n",
    "            - entitree\n",
    "        - Reseau social des communard·e·s sur wikidata\n",
    "            - Graph des communard·e·s et des organismes dont als sont membres\n",
    "            - nombre par organisme\n",
    "- [Les communardes et communards dans des cimetières](#Lescommunardesetcommunardsdansdescimetières)\n",
    "     - Généralités\n",
    "     - Nombre de personne par cimetière\n",
    "     - Cimetière du Montparnasse\n",
    "     - Cimetière du Père la Chaise\n",
    "- Une chronologie\n",
    "- Les affiches\n",
    "- Elle n'est pas morte\n",
    "    - Chansons de la commune et sur la commune\n",
    "        - chansons, oeuvre... par auteur, parolier...\n",
    "        - Pour consulter les paroles sur wikisources\n",
    "    - Commémore\n",
    "    - Des expositions\n",
    "- Me contacter"
   ]
  },
  {
   "cell_type": "markdown",
   "metadata": {
    "hideCode": false,
    "hideOutput": true,
    "hidePrompt": false
   },
   "source": [
    "## TODO"
   ]
  },
  {
   "cell_type": "markdown",
   "metadata": {
    "hideCode": false,
    "hideOutput": true,
    "hidePrompt": false
   },
   "source": [
    "- [ ] attention, langue autot est plutot en GB que fr, pas mal de mots sortent en anglais\n",
    "- [ ] point médian au lieu de -\n",
    "- [ ] attribuer une licence"
   ]
  },
  {
   "cell_type": "markdown",
   "metadata": {
    "hideCode": false,
    "hidePrompt": false
   },
   "source": [
    "## Présentation"
   ]
  },
  {
   "cell_type": "markdown",
   "metadata": {
    "hideCode": false,
    "hidePrompt": false
   },
   "source": [
    "### Point grammatical\n",
    "Pour un certains nombre de raison, j'use du genre grammatical neutre, en l'écrivant selon les règles de grammaire proposées par Alphératz dans son ouvrage Grammaire inclusive du Français. Je signale la première occurrence de ces mots par un \\*.\n",
    "\n",
    "J'emploie ces tournures pour parler de moi-même, et pour éviter des doubles flexions comme communardes et communards.\n",
    "\n",
    "En neutre, al* faudrait écrire an Communarx et des Communarz. Pour que les moteurs de recherche puissent trouver le site, je décide de garder selon les moments communardes et communards ou ça forme raccourcie communard·e·s.\n",
    "\n",
    "### Qui suis-je pour le faire ?\n",
    "Il se trouve que je suis membre de l'association les Amies et amis de la Commune de Paris 1871 depuis pas mal de temps (plus d'une décennie, c'est sûr) quand je n'oublie pas de cotiser... Toutefois, ce site est fait de façon autonome de l’association.\n",
    "\n",
    "Je ne suis pas du tout historian*, mais geekette, c'est à dire passionæ* d'informatique.\n",
    "J'ai commenæ à contribuer sur Wikipédia en 2006 puis sur Wikidata à partir de 2017. J'y contribue sous le pseudo Silanoc.\n",
    "\n",
    "Je ne sais pas aller chercher l'information dans les sources primaires de l'époque, dans les archives... c'est du ressort des histoirans. Par contre j'aime rendre les informations, la donnée, la data accessibles au plus grand nombre. Et c'est là que Wikidata intervient.\n",
    "\n",
    "C'est un projet libre et gratuit. Tout le monde peut y accéder, y contribuer. N'étant pas rédigé comme Wikipédia, mais étant une base de données, le système a été conçu comme naturellement multilinguistique. De ce fait, toutes les modifications sont accessibles par les locutaires* du monde entier (à quelques détails près). Et c'est très utilisé pour tout ce qui touche à \"l'intelligence artificielle\" car elle a besoin d'une base de données. Autant lui donner des informations sur un sujet trop souvent ignoré.\n",
    "\n",
    "> Wikidata est une base de connaissances libre et gratuite qui peut être lue et modifiée tant par des personnes que par des dispositifs informatisés. \n",
    "page d'acceuil de wikipédia</quote>\n",
    "\n",
    "Tout ce site/article est basé sur des données de Wikidata ou des images de Commons. Cela par définition sous licence libre (plusieurs existes). Mes propos sont également sous licence créative commons."
   ]
  },
  {
   "cell_type": "markdown",
   "metadata": {
    "hideCode": false,
    "hidePrompt": false
   },
   "source": [
    "## Méthodologie\n",
    "Mon objectif est de travailler qu'avec des données contenues dans l'univers wikimédia : wikidata, commons, wikipédia, éventuellement wikisources, wikiquote...\n",
    "\n",
    "Les données sont collaboratives. Cela nécessite de faire confiance au travail des autres sur lequel je m'appuie. Le maximum d'information doit être sourcé. Dans l'analyse statistique/globale, je fais le pari de leur fiabilité. En cas de doute, il est facile de vérifier au cas par cas.\n",
    "\n",
    "Les données sont celles que les autres personnes ont déjà rentrées. Il y a donc des trous, des blancs, des manques.\n",
    "\n",
    "Chacun de mes résultats est donc à introduire par : \"en fonction du contenu de wikidata...\".\n",
    "\n",
    "Ce n'est pas une vérité totale et absolue. Mais une partie de la vérité.\n",
    "\n",
    "C'est un travail vérifiable et reproductible. Toutes les données sont publiques (par définition) et mes méthodes de recherche/calcul sont communicables. Aussi, toute personne peut les évaluer et refaire.\n",
    "\n",
    "C'est un contenu évolutif en fonction des apports/modifications/suppressions fait à la base de données.\n",
    "\n",
    "J'apporte aussi du contenu dedans, par des photos, des ajouts, des précisions en fonction de ce que je peux remplir sans me tromper.\n",
    "\n",
    "### Wikidata : élément, propriété, valeurs.\n",
    "Wikidata stocke des éléments. Tout ce qui existe (au sens qui peut être décrit) est un potentiel élément. Aussi chaque communard·e·s, barricades, livres, événements... sont un élément. Ils commencent par la lettre Q, puis un nombre en fonction de son ordre de création.\n",
    "\n",
    "Chaque élément possède une ou plusieurs propriétés. Cela peut être un prénom, une date de création, un coordonnées géographique... Ils commence par un P.\n",
    "\n",
    "À chaque propriété d'un élément il existe une ou plusieurs valeurs.Cela peut être un nombre, une date, ou un autre élément de wikidata.\n",
    "\n",
    "Cela fait une série de triplets : éléments, propriété, valeurs.\n",
    "\n",
    "Plus de détails : https://www.wikidata.org/wiki/Wikidata:Introduction/fr"
   ]
  },
  {
   "cell_type": "markdown",
   "metadata": {
    "hideCode": false,
    "hideOutput": true,
    "hidePrompt": false
   },
   "source": [
    "## Faire une requête sur wikidata en python"
   ]
  },
  {
   "cell_type": "markdown",
   "metadata": {
    "hideCode": false,
    "hideOutput": true,
    "hidePrompt": false
   },
   "source": [
    "### Méthode\n",
    "\n",
    "La classe Extraction_wikidata, est une adaption du modèle de réquête en python qui se trouve sur https://query.wikidata.org/\n",
    "\n",
    "- dans la variable query, il faut copier/coller la requête faite dans query.wikidata.org\n",
    "- exécuter les cellules \"## 0\" à \"## 5\" comme si dessous afin d'obtenir le résultat dans un dataframe exploitable pour faire des manipulations de données."
   ]
  },
  {
   "cell_type": "code",
   "execution_count": 3,
   "metadata": {
    "hideCode": false,
    "hideOutput": true,
    "hidePrompt": false
   },
   "outputs": [
    {
     "name": "stdout",
     "output_type": "stream",
     "text": [
      "Defaulting to user installation because normal site-packages is not writeable\n",
      "Requirement already satisfied: sparqlwrapper in /home/gabriel-le/.local/lib/python3.10/site-packages (2.0.0)\n",
      "Requirement already satisfied: rdflib>=6.1.1 in /home/gabriel-le/.local/lib/python3.10/site-packages (from sparqlwrapper) (6.3.2)\n",
      "Requirement already satisfied: pyparsing<4,>=2.1.0 in /usr/lib/python3/dist-packages (from rdflib>=6.1.1->sparqlwrapper) (2.4.7)\n",
      "Requirement already satisfied: isodate<0.7.0,>=0.6.0 in /home/gabriel-le/.local/lib/python3.10/site-packages (from rdflib>=6.1.1->sparqlwrapper) (0.6.1)\n",
      "Requirement already satisfied: six in /home/gabriel-le/.local/lib/python3.10/site-packages (from isodate<0.7.0,>=0.6.0->rdflib>=6.1.1->sparqlwrapper) (1.16.0)\n"
     ]
    }
   ],
   "source": [
    "# les installations nécessaires\n",
    "# https://rdflib.github.io/sparqlwrapper/\n",
    "!pip install sparqlwrapper"
   ]
  },
  {
   "cell_type": "code",
   "execution_count": 4,
   "metadata": {
    "hideCode": false,
    "hideOutput": true,
    "hidePrompt": false
   },
   "outputs": [],
   "source": [
    "## 0 - import\n",
    "\n",
    "import sys\n",
    "from SPARQLWrapper import SPARQLWrapper, JSON\n",
    "import pandas as pd"
   ]
  },
  {
   "cell_type": "code",
   "execution_count": 5,
   "metadata": {
    "hideCode": false,
    "hideOutput": true,
    "hidePrompt": false
   },
   "outputs": [],
   "source": [
    "from IPython.display import HTML"
   ]
  },
  {
   "cell_type": "code",
   "execution_count": 6,
   "metadata": {
    "hideCode": false,
    "hideOutput": true,
    "hidePrompt": false
   },
   "outputs": [],
   "source": [
    "## 1 - les variables\n",
    "\n",
    "endpoint_url = \"https://query.wikidata.org/sparql\"\n",
    "\n",
    "query = \"\"\"SELECT ?communard_ou_communarde ?communard_ou_communardeLabel WHERE {\n",
    "  SERVICE wikibase:label { bd:serviceParam wikibase:language \"[AUTO_LANGUAGE],en\". }\n",
    "  ?communard_ou_communarde wdt:P106 wd:Q1780490.\n",
    "}\"\"\""
   ]
  },
  {
   "cell_type": "code",
   "execution_count": 7,
   "metadata": {
    "hideCode": false,
    "hideOutput": true,
    "hidePrompt": false
   },
   "outputs": [],
   "source": [
    "## 2 - l'objet\n",
    "\n",
    "class Extraction_wikidata():\n",
    "    def __init__(self, endpoint_url, query):\n",
    "        self.endpoint_url = endpoint_url\n",
    "        self.query = query\n",
    "        \n",
    "    \n",
    "    def get_results(self, endpoint_url, query):\n",
    "        user_agent = \"WDQS-example Python/%s.%s\" % (sys.version_info[0], sys.version_info[1])\n",
    "        # TODO adjust user agent; see https://w.wiki/CX6\n",
    "        sparql = SPARQLWrapper(endpoint_url, agent = user_agent)\n",
    "        sparql.setQuery(query)\n",
    "        sparql.setReturnFormat(JSON)\n",
    "        return sparql.query().convert()\n",
    "    \n",
    "    def json_to_df(self, entree):\n",
    "        #results = sparql.query().convert()\n",
    "        df_results = pd.json_normalize(entree[\"results\"][\"bindings\"])\n",
    "        return df_results\n",
    "    \n",
    "    def extraire_et_df(self):\n",
    "        extract_json = self.get_results(self.endpoint_url, self.query)\n",
    "        extract_df = self.json_to_df(extract_json)\n",
    "        return extract_df\n"
   ]
  },
  {
   "cell_type": "code",
   "execution_count": 8,
   "metadata": {
    "hideCode": false,
    "hideOutput": true,
    "hidePrompt": false
   },
   "outputs": [],
   "source": [
    "## 3 - instantiation de l'objet et récupération du df\n",
    "extraction_communard = Extraction_wikidata(endpoint_url, query)\n",
    "df_communard = extraction_communard.extraire_et_df()"
   ]
  },
  {
   "cell_type": "code",
   "execution_count": 9,
   "metadata": {
    "hideCode": false,
    "hideOutput": true,
    "hidePrompt": false
   },
   "outputs": [],
   "source": [
    "## 4 - afficher le df voulu\n",
    "#print(df_communard)"
   ]
  },
  {
   "cell_type": "code",
   "execution_count": 10,
   "metadata": {
    "hideCode": false,
    "hideOutput": true,
    "hidePrompt": false
   },
   "outputs": [
    {
     "data": {
      "text/html": [
       "<div>\n",
       "<style scoped>\n",
       "    .dataframe tbody tr th:only-of-type {\n",
       "        vertical-align: middle;\n",
       "    }\n",
       "\n",
       "    .dataframe tbody tr th {\n",
       "        vertical-align: top;\n",
       "    }\n",
       "\n",
       "    .dataframe thead th {\n",
       "        text-align: right;\n",
       "    }\n",
       "</style>\n",
       "<table border=\"1\" class=\"dataframe\">\n",
       "  <thead>\n",
       "    <tr style=\"text-align: right;\">\n",
       "      <th></th>\n",
       "      <th>communard_ou_communarde.type</th>\n",
       "      <th>communard_ou_communarde.value</th>\n",
       "      <th>communard_ou_communardeLabel.xml:lang</th>\n",
       "      <th>communard_ou_communardeLabel.type</th>\n",
       "      <th>communard_ou_communardeLabel.value</th>\n",
       "    </tr>\n",
       "  </thead>\n",
       "  <tbody>\n",
       "    <tr>\n",
       "      <th>count</th>\n",
       "      <td>298</td>\n",
       "      <td>298</td>\n",
       "      <td>294</td>\n",
       "      <td>298</td>\n",
       "      <td>298</td>\n",
       "    </tr>\n",
       "    <tr>\n",
       "      <th>unique</th>\n",
       "      <td>1</td>\n",
       "      <td>298</td>\n",
       "      <td>1</td>\n",
       "      <td>1</td>\n",
       "      <td>298</td>\n",
       "    </tr>\n",
       "    <tr>\n",
       "      <th>top</th>\n",
       "      <td>uri</td>\n",
       "      <td>http://www.wikidata.org/entity/Q20951</td>\n",
       "      <td>en</td>\n",
       "      <td>literal</td>\n",
       "      <td>Élisée Reclus</td>\n",
       "    </tr>\n",
       "    <tr>\n",
       "      <th>freq</th>\n",
       "      <td>298</td>\n",
       "      <td>1</td>\n",
       "      <td>294</td>\n",
       "      <td>298</td>\n",
       "      <td>1</td>\n",
       "    </tr>\n",
       "  </tbody>\n",
       "</table>\n",
       "</div>"
      ],
      "text/plain": [
       "       communard_ou_communarde.type          communard_ou_communarde.value   \n",
       "count                           298                                    298  \\\n",
       "unique                            1                                    298   \n",
       "top                             uri  http://www.wikidata.org/entity/Q20951   \n",
       "freq                            298                                      1   \n",
       "\n",
       "       communard_ou_communardeLabel.xml:lang   \n",
       "count                                    294  \\\n",
       "unique                                     1   \n",
       "top                                       en   \n",
       "freq                                     294   \n",
       "\n",
       "       communard_ou_communardeLabel.type communard_ou_communardeLabel.value  \n",
       "count                                298                                298  \n",
       "unique                                 1                                298  \n",
       "top                              literal                      Élisée Reclus  \n",
       "freq                                 298                                  1  "
      ]
     },
     "execution_count": 10,
     "metadata": {},
     "output_type": "execute_result"
    }
   ],
   "source": [
    "## 5 - quelques statistiques sur le df\n",
    "df_communard.describe()"
   ]
  },
  {
   "cell_type": "code",
   "execution_count": 11,
   "metadata": {
    "hideCode": false,
    "hideOutput": true,
    "hidePrompt": false
   },
   "outputs": [],
   "source": [
    "#df_communard_en_html = df_communard.to_html(columns = ['communard_ou_communarde.value', 'communard_ou_communardeLabel.value'])\n",
    "#HTML(df_communard_en_html)"
   ]
  },
  {
   "cell_type": "markdown",
   "metadata": {
    "hideCode": false,
    "hideOutput": true,
    "hidePrompt": false
   },
   "source": [
    "### Avoir TOUTES les informations sur les communard·e·s"
   ]
  },
  {
   "cell_type": "markdown",
   "metadata": {
    "hideCode": false,
    "hideOutput": true,
    "hidePrompt": false
   },
   "source": [
    "pour toutes les personnes, chercher les ?p ?q avec gestion des label.\n",
    "Attention : c'est lourd !"
   ]
  },
  {
   "cell_type": "code",
   "execution_count": 12,
   "metadata": {
    "hideCode": false,
    "hideOutput": true,
    "hidePrompt": false
   },
   "outputs": [],
   "source": [
    "endpoint_url = \"https://query.wikidata.org/sparql\"\n",
    "\n",
    "query = \"\"\"SELECT ?communard_ou_communarde ?communard_ou_communardeLabel ?p ?pLabel ?q ?qLabel WHERE {\n",
    "  SERVICE wikibase:label { bd:serviceParam wikibase:language \"fr,en\".\n",
    "                         ?communard_ou_communarde rdfs:label ?communard_ou_communardeLabel.\n",
    "                         ?p rdfs:label ?pLabel.\n",
    "                         ?q rdfs:label ?qLabel.}\n",
    "  \n",
    "  ?communard_ou_communarde wdt:P106 wd:Q1780490;\n",
    "                           ?p ?q. \n",
    "}\n",
    "\"\"\""
   ]
  },
  {
   "cell_type": "code",
   "execution_count": 13,
   "metadata": {
    "hideCode": false,
    "hideOutput": true,
    "hidePrompt": false
   },
   "outputs": [],
   "source": [
    "extraction_communard_tous_p_q = Extraction_wikidata(endpoint_url, query)\n",
    "df_communard_tous_p_q = extraction_communard_tous_p_q.extraire_et_df()"
   ]
  },
  {
   "cell_type": "code",
   "execution_count": 14,
   "metadata": {
    "hideCode": false,
    "hideOutput": true,
    "hidePrompt": false
   },
   "outputs": [],
   "source": [
    "#df_communard_tous_p_q"
   ]
  },
  {
   "cell_type": "code",
   "execution_count": 15,
   "metadata": {
    "hideCode": false,
    "hideOutput": true,
    "hidePrompt": false
   },
   "outputs": [],
   "source": [
    "#df_communard_tous_p_q.describe()"
   ]
  },
  {
   "cell_type": "markdown",
   "metadata": {
    "hideCode": false,
    "hidePrompt": false
   },
   "source": [
    "## Portraits de Communardes et Communards\n",
    "\n",
    "### Trouver des communard·e·s sur wikidata\n",
    "\n",
    "#### L'élément \"communard ou communarde\"\n",
    "Sur Wikidata, al existe l'élément communard ou communarde, sous le nombre Q1780490\n",
    "https://www.wikidata.org/wiki/Q1780490\n",
    "> communard ou communarde (Q1780490)\n",
    "personne participant à la Commune de Paris\n",
    "\n",
    "#### La propriété \"occupation\"\n",
    "Sur wikidata, la propriété P106, permet de renseigner l'occupation (au sens très large ) d'une personne.\n",
    "https://www.wikidata.org/wiki/Property:P106\n",
    "> occupation (P106)\n",
    "nature d'activité d'une personne (métier, hobby…) ; voir aussi « domaine d'activité » (P101) et « fonction » (P39)\n",
    "\n",
    "#### Le triplet ?communard wdt:P106 wd:Q1780490.\n",
    "Pour toutes les recherche je considère que la personne est communard·e via occupation communard, soit\n",
    "```?communard wdt:P106 wd:Q1780490.``` si la requête a été écrite avant le 7 janvier 2023 ou `?communard_ou_communarde wdt:P106 wd:Q1780490.` après.\n",
    "\n",
    "Quand j'ai commencé a m'intéresser à ce sujet c'était ce triplet qui était déjà majoritaire.  Il était en \"concurrence\" avec  allégeance à Commune, participant à la Commune, conflit commune... Cela aurait nécessité plus de changement.\n",
    "\n",
    "Pour mémoire il s'agit des triplet \n",
    "```\n",
    "?communard wdt:P945 wd:Q133132.\n",
    "?communard wdt:P945 wd:Q1249756.\n",
    "?communard wdt:P463 wd:Q1249756.\n",
    "?communard wdt:P463 wd:Q133132.\n",
    "?communard wdt:P607 wd:Q133132.\n",
    "```"
   ]
  },
  {
   "cell_type": "markdown",
   "metadata": {
    "hideCode": false,
    "hidePrompt": false
   },
   "source": [
    "### Les communard·e·s connu·e·s"
   ]
  },
  {
   "cell_type": "markdown",
   "metadata": {
    "hideCode": false,
    "hidePrompt": false
   },
   "source": [
    "#### Liste complète"
   ]
  },
  {
   "cell_type": "markdown",
   "metadata": {
    "hideCode": false,
    "hidePrompt": false,
    "raw_mimetype": "text/markdown"
   },
   "source": [
    "```\n",
    "SELECT ?communard_ou_communarde ?communard_ou_communardeLabel WHERE {\n",
    "  SERVICE wikibase:label { bd:serviceParam wikibase:language \"[AUTO_LANGUAGE],en\". }\n",
    "  ?communard_ou_communarde wdt:P106 wd:Q1780490.\n",
    "}\n",
    "```"
   ]
  },
  {
   "cell_type": "code",
   "execution_count": null,
   "metadata": {},
   "outputs": [],
   "source": []
  },
  {
   "cell_type": "code",
   "execution_count": 16,
   "metadata": {
    "hideCode": false,
    "hidePrompt": false
   },
   "outputs": [
    {
     "data": {
      "text/html": [
       "<iframe style=\"width: 95%; height: 50vh; border: none;\" \n",
       "src=\"https://query.wikidata.org/embed.html#SELECT%20%3Fcommunard_ou_communarde%20%3Fcommunard_ou_communardeLabel%20WHERE%20%7B%0A%20%20SERVICE%20wikibase%3Alabel%20%7B%20bd%3AserviceParam%20wikibase%3Alanguage%20%22%5BAUTO_LANGUAGE%5D%2Cen%22.%20%7D%0A%20%20%3Fcommunard_ou_communarde%20wdt%3AP106%20wd%3AQ1780490.%0A%7D%0A\" \n",
       "referrerpolicy=\"origin\" sandbox=\"allow-scripts allow-same-origin allow-popups\">\n",
       "</iframe>\n"
      ],
      "text/plain": [
       "<IPython.core.display.HTML object>"
      ]
     },
     "metadata": {},
     "output_type": "display_data"
    }
   ],
   "source": [
    "%%HTML\n",
    "<iframe style=\"width: 95%; height: 50vh; border: none;\" \n",
    "src=\"https://query.wikidata.org/embed.html#SELECT%20%3Fcommunard_ou_communarde%20%3Fcommunard_ou_communardeLabel%20WHERE%20%7B%0A%20%20SERVICE%20wikibase%3Alabel%20%7B%20bd%3AserviceParam%20wikibase%3Alanguage%20%22%5BAUTO_LANGUAGE%5D%2Cen%22.%20%7D%0A%20%20%3Fcommunard_ou_communarde%20wdt%3AP106%20wd%3AQ1780490.%0A%7D%0A\" \n",
    "referrerpolicy=\"origin\" sandbox=\"allow-scripts allow-same-origin allow-popups\">\n",
    "</iframe>"
   ]
  },
  {
   "cell_type": "markdown",
   "metadata": {
    "hideCode": false,
    "hidePrompt": false
   },
   "source": [
    "#### Liste complète avec Reasonator"
   ]
  },
  {
   "cell_type": "markdown",
   "metadata": {
    "hideCode": false,
    "hidePrompt": false
   },
   "source": [
    "```\n",
    "SELECT ?communard_ou_communarde ?communard_ou_communardeLabel\n",
    "#pour récuprer l'adresse de la page reasonator en fr\n",
    "(CONCAT(\"https://reasonator.toolforge.org/?q=\", STRAFTER( str(?communard_ou_communarde) ,\"http://www.wikidata.org/entity/\"),\"&lang=fr\") AS ?reasonator) \n",
    "#pour récuprer l'adresse de la page reasonator en fr au format html\n",
    "(CONCAT('<a href=\"','https://reasonator.toolforge.org/?q=', STRAFTER( str(?communard_ou_communarde) ,\"http://www.wikidata.org/entity/\"),'&lang=fr\">', ?communard_ou_communardeLabel ,'</a>') AS ?reasonatorlien)\n",
    "WHERE {\n",
    "  SERVICE wikibase:label { bd:serviceParam wikibase:language \"[AUTO_LANGUAGE],en\". }\n",
    "  ?communard_ou_communarde wdt:P106 wd:Q1780490.\n",
    "}\n",
    "```"
   ]
  },
  {
   "cell_type": "code",
   "execution_count": 17,
   "metadata": {
    "hideCode": false,
    "hidePrompt": false
   },
   "outputs": [
    {
     "data": {
      "text/html": [
       "<iframe style=\"width: 95%; height: 50vh; border: none;\" \n",
       "src=\"https://query.wikidata.org/embed.html#SELECT%20%3Fcommunard_ou_communarde%20%3Fcommunard_ou_communardeLabel%0A%23pour%20r%C3%A9cuprer%20l'adresse%20de%20la%20page%20reasonator%20en%20fr%0A(CONCAT(%22https%3A%2F%2Freasonator.toolforge.org%2F%3Fq%3D%22%2C%20STRAFTER(%20str(%3Fcommunard_ou_communarde)%20%2C%22http%3A%2F%2Fwww.wikidata.org%2Fentity%2F%22)%2C%22%26lang%3Dfr%22)%20AS%20%3Freasonator)%20%0A%23pour%20r%C3%A9cuprer%20l'adresse%20de%20la%20page%20reasonator%20en%20fr%20au%20format%20html%0A(CONCAT('%3Ca%20href%3D%22'%2C'https%3A%2F%2Freasonator.toolforge.org%2F%3Fq%3D'%2C%20STRAFTER(%20str(%3Fcommunard_ou_communarde)%20%2C%22http%3A%2F%2Fwww.wikidata.org%2Fentity%2F%22)%2C'%26lang%3Dfr%22%3E'%2C%20%3Fcommunard_ou_communardeLabel%20%2C'%3C%2Fa%3E')%20AS%20%3Freasonatorlien)%0AWHERE%20%7B%0A%20%20SERVICE%20wikibase%3Alabel%20%7B%20bd%3AserviceParam%20wikibase%3Alanguage%20%22%5BAUTO_LANGUAGE%5D%2Cen%22.%20%7D%0A%20%20%3Fcommunard_ou_communarde%20wdt%3AP106%20wd%3AQ1780490.%0A%7D\" \n",
       "referrerpolicy=\"origin\" sandbox=\"allow-scripts allow-same-origin allow-popups\">\n",
       "</iframe>\n"
      ],
      "text/plain": [
       "<IPython.core.display.HTML object>"
      ]
     },
     "metadata": {},
     "output_type": "display_data"
    }
   ],
   "source": [
    "%%HTML\n",
    "<iframe style=\"width: 95%; height: 50vh; border: none;\" \n",
    "src=\"https://query.wikidata.org/embed.html#SELECT%20%3Fcommunard_ou_communarde%20%3Fcommunard_ou_communardeLabel%0A%23pour%20r%C3%A9cuprer%20l'adresse%20de%20la%20page%20reasonator%20en%20fr%0A(CONCAT(%22https%3A%2F%2Freasonator.toolforge.org%2F%3Fq%3D%22%2C%20STRAFTER(%20str(%3Fcommunard_ou_communarde)%20%2C%22http%3A%2F%2Fwww.wikidata.org%2Fentity%2F%22)%2C%22%26lang%3Dfr%22)%20AS%20%3Freasonator)%20%0A%23pour%20r%C3%A9cuprer%20l'adresse%20de%20la%20page%20reasonator%20en%20fr%20au%20format%20html%0A(CONCAT('%3Ca%20href%3D%22'%2C'https%3A%2F%2Freasonator.toolforge.org%2F%3Fq%3D'%2C%20STRAFTER(%20str(%3Fcommunard_ou_communarde)%20%2C%22http%3A%2F%2Fwww.wikidata.org%2Fentity%2F%22)%2C'%26lang%3Dfr%22%3E'%2C%20%3Fcommunard_ou_communardeLabel%20%2C'%3C%2Fa%3E')%20AS%20%3Freasonatorlien)%0AWHERE%20%7B%0A%20%20SERVICE%20wikibase%3Alabel%20%7B%20bd%3AserviceParam%20wikibase%3Alanguage%20%22%5BAUTO_LANGUAGE%5D%2Cen%22.%20%7D%0A%20%20%3Fcommunard_ou_communarde%20wdt%3AP106%20wd%3AQ1780490.%0A%7D\" \n",
    "referrerpolicy=\"origin\" sandbox=\"allow-scripts allow-same-origin allow-popups\">\n",
    "</iframe>"
   ]
  },
  {
   "cell_type": "markdown",
   "metadata": {
    "hideCode": false,
    "hidePrompt": false
   },
   "source": [
    "#### Nombre\n",
    "- 9 mars 2022 : 248\n",
    "- 16 janvier 2023 : 297\n",
    "\n",
    "Compteur actualisé en temps réel :"
   ]
  },
  {
   "cell_type": "markdown",
   "metadata": {
    "hideCode": false,
    "hidePrompt": false
   },
   "source": [
    "```\n",
    "SELECT (Count(?communard_ou_communarde) as ?nombre_de_personne) WHERE {\n",
    "  ?communard_ou_communarde wdt:P106 wd:Q1780490.\n",
    "}\n",
    "group by ?nombre_de_personne\n",
    "```"
   ]
  },
  {
   "cell_type": "code",
   "execution_count": 18,
   "metadata": {
    "hideCode": false,
    "hidePrompt": false
   },
   "outputs": [
    {
     "data": {
      "text/html": [
       "<iframe style=\"width: 65%; height: 20vh; border: none\" \n",
       "src=\"https://query.wikidata.org/embed.html#SELECT%20(Count(%3Fcommunard_ou_communarde)%20as%20%3Fnombre_de_personne)%20WHERE%20%7B%0A%20%20%3Fcommunard_ou_communarde%20wdt%3AP106%20wd%3AQ1780490.%0A%7D%0Agroup%20by%20%3Fnombre_de_personne\" \n",
       "referrerpolicy=\"origin\" sandbox=\"allow-scripts allow-same-origin allow-popups\">\n",
       "</iframe>\n"
      ],
      "text/plain": [
       "<IPython.core.display.HTML object>"
      ]
     },
     "metadata": {},
     "output_type": "display_data"
    }
   ],
   "source": [
    "%%HTML\n",
    "<iframe style=\"width: 65%; height: 20vh; border: none\" \n",
    "src=\"https://query.wikidata.org/embed.html#SELECT%20(Count(%3Fcommunard_ou_communarde)%20as%20%3Fnombre_de_personne)%20WHERE%20%7B%0A%20%20%3Fcommunard_ou_communarde%20wdt%3AP106%20wd%3AQ1780490.%0A%7D%0Agroup%20by%20%3Fnombre_de_personne\" \n",
    "referrerpolicy=\"origin\" sandbox=\"allow-scripts allow-same-origin allow-popups\">\n",
    "</iframe>"
   ]
  },
  {
   "cell_type": "markdown",
   "metadata": {
    "hideCode": false,
    "hidePrompt": false
   },
   "source": [
    "#### Quelques tests possibles pour vérifier la fiabilité des données."
   ]
  },
  {
   "cell_type": "markdown",
   "metadata": {
    "hideCode": false,
    "hidePrompt": false
   },
   "source": [
    "##### Pour vérifier qu'ils ne sont pas née après ou mort avant la Commune\n",
    "```\n",
    "SELECT ?communard ?communardLabel ?naissance?deces WHERE {\n",
    "  SERVICE wikibase:label { bd:serviceParam wikibase:language \"[AUTO_LANGUAGE],en\". }\n",
    "  ?communard wdt:P106 wd:Q1780490;\n",
    "             wdt:P569 ?naissance;\n",
    "             wdt:P570 ?deces.\n",
    "   #FILTER(year(?deces)<1871 && year(?naissance)>1871) . \n",
    "}\n",
    "```\n",
    "-> au 16 janvier 2023 il y a entre 2 et 4 données à examiner correctement et corriger."
   ]
  },
  {
   "cell_type": "markdown",
   "metadata": {
    "hideCode": false,
    "hidePrompt": false
   },
   "source": [
    "##### Des êtres vivants"
   ]
  },
  {
   "cell_type": "markdown",
   "metadata": {
    "hideCode": false,
    "hidePrompt": false
   },
   "source": [
    "```\n",
    "SELECT  ?nature_de_l_élémentLabel (count(?nature_de_l_élément) as ?nb) WHERE {\n",
    "  SERVICE wikibase:label { bd:serviceParam wikibase:language \"[AUTO_LANGUAGE],en\". }\n",
    "  ?communard_ou_communarde wdt:P106 wd:Q1780490.\n",
    "  OPTIONAL { ?communard_ou_communarde wdt:P31 ?nature_de_l_élément. }\n",
    "}\n",
    "Group by  ?nature_de_l_élément ?nature_de_l_élémentLabel\n",
    "```"
   ]
  },
  {
   "cell_type": "code",
   "execution_count": 19,
   "metadata": {
    "hideCode": false,
    "hidePrompt": false
   },
   "outputs": [
    {
     "data": {
      "text/html": [
       "<iframe style=\"width:  65%; height: 25vh; border: none;\" \n",
       "src=\"https://query.wikidata.org/embed.html#SELECT%20%20%3Fnature_de_l_%C3%A9l%C3%A9mentLabel%20(count(%3Fnature_de_l_%C3%A9l%C3%A9ment)%20as%20%3Fnb)%20WHERE%20%7B%0A%20%20SERVICE%20wikibase%3Alabel%20%7B%20bd%3AserviceParam%20wikibase%3Alanguage%20%22%5BAUTO_LANGUAGE%5D%2Cen%22.%20%7D%0A%20%20%3Fcommunard_ou_communarde%20wdt%3AP106%20wd%3AQ1780490.%0A%20%20OPTIONAL%20%7B%20%3Fcommunard_ou_communarde%20wdt%3AP31%20%3Fnature_de_l_%C3%A9l%C3%A9ment.%20%7D%0A%7D%0AGroup%20by%20%20%3Fnature_de_l_%C3%A9l%C3%A9ment%20%3Fnature_de_l_%C3%A9l%C3%A9mentLabel\" \n",
       "referrerpolicy=\"origin\" sandbox=\"allow-scripts allow-same-origin allow-popups\">\n",
       "</iframe>\n"
      ],
      "text/plain": [
       "<IPython.core.display.HTML object>"
      ]
     },
     "metadata": {},
     "output_type": "display_data"
    }
   ],
   "source": [
    "%%HTML\n",
    "<iframe style=\"width:  65%; height: 25vh; border: none;\" \n",
    "src=\"https://query.wikidata.org/embed.html#SELECT%20%20%3Fnature_de_l_%C3%A9l%C3%A9mentLabel%20(count(%3Fnature_de_l_%C3%A9l%C3%A9ment)%20as%20%3Fnb)%20WHERE%20%7B%0A%20%20SERVICE%20wikibase%3Alabel%20%7B%20bd%3AserviceParam%20wikibase%3Alanguage%20%22%5BAUTO_LANGUAGE%5D%2Cen%22.%20%7D%0A%20%20%3Fcommunard_ou_communarde%20wdt%3AP106%20wd%3AQ1780490.%0A%20%20OPTIONAL%20%7B%20%3Fcommunard_ou_communarde%20wdt%3AP31%20%3Fnature_de_l_%C3%A9l%C3%A9ment.%20%7D%0A%7D%0AGroup%20by%20%20%3Fnature_de_l_%C3%A9l%C3%A9ment%20%3Fnature_de_l_%C3%A9l%C3%A9mentLabel\" \n",
    "referrerpolicy=\"origin\" sandbox=\"allow-scripts allow-same-origin allow-popups\">\n",
    "</iframe>"
   ]
  },
  {
   "cell_type": "markdown",
   "metadata": {
    "hideCode": false,
    "hidePrompt": false
   },
   "source": [
    "Wikidata permet de rentrer pleins de monde, y compris des êtres de fictions. Il existe quelques communard-e-s de fictions dans par exemple le cri du peule, la série de BD communardes...\n",
    "\n",
    "Au 16 janvier 2023 il y a 297 être humain (Q5) et 0 être humain de fiction (Q15632617).\n",
    "\n",
    "> être humain (Q5) individu appartenant à l’espèce Homo sapiens, la seule espèce restante du genre Homo – distinct de « humain fictif » et de « humain possiblement fictif »\n",
    "\n",
    "> humain de fiction (Q15632617)  \t\n",
    "être humain n'existant que dans des œuvres de fiction\n",
    "\n",
    "La plupart des requête recherches les communard-e-s sans vérifier ce critère. Les réquetes seront à revoir (ou pas) quand un certains nombre de ces êtres fictionnels arriveront dans wikidata.\n"
   ]
  },
  {
   "cell_type": "markdown",
   "metadata": {
    "hideCode": false,
    "hidePrompt": false
   },
   "source": [
    "##### Quelques sources\n",
    "\n",
    "Pour chaque personne, indique si possible :\n",
    "- l'article wikipédia en français\n",
    "- le numéro de sa page dans le maitron"
   ]
  },
  {
   "cell_type": "markdown",
   "metadata": {
    "hideCode": false,
    "hidePrompt": false
   },
   "source": [
    "> identifiant Maitron (P4724) identifiant d'une personne, d'un lieu de mémoire ou d'une monographie dans le Maitron en ligne, ensemble de dictionnaires biographiques du mouvement ouvrier"
   ]
  },
  {
   "cell_type": "markdown",
   "metadata": {
    "hideCode": false,
    "hidePrompt": false
   },
   "source": [
    "```\n",
    "SELECT ?communard_ou_communarde ?communard_ou_communardeLabel ?article ?maiton WHERE {\n",
    "  SERVICE wikibase:label { bd:serviceParam wikibase:language \"[AUTO_LANGUAGE],en\". }\n",
    "  ?communard_ou_communarde wdt:P106 wd:Q1780490.\n",
    "\n",
    "  optional {?article schema:about ?communard_ou_communarde .\n",
    " ?article schema:isPartOf <https://fr.wikipedia.org/> .} \n",
    "  \n",
    "  optional {?communard_ou_communarde wdt:P4724 ?maiton.}\n",
    "\n",
    "}\n",
    "```"
   ]
  },
  {
   "cell_type": "code",
   "execution_count": 20,
   "metadata": {
    "hideCode": true,
    "hidePrompt": true
   },
   "outputs": [
    {
     "data": {
      "text/html": [
       "<iframe style=\"width: 95%; height: 50vh; border: none;\" \n",
       "src=\"https://query.wikidata.org/embed.html#%0ASELECT%20%3Fcommunard_ou_communarde%20%3Fcommunard_ou_communardeLabel%20%3Farticle%20%3Fmaiton%20WHERE%20%7B%0A%20%20SERVICE%20wikibase%3Alabel%20%7B%20bd%3AserviceParam%20wikibase%3Alanguage%20%22%5BAUTO_LANGUAGE%5D%2Cen%22.%20%7D%0A%20%20%3Fcommunard_ou_communarde%20wdt%3AP106%20wd%3AQ1780490.%0A%0A%20%20optional%20%7B%3Farticle%20schema%3Aabout%20%3Fcommunard_ou_communarde%20.%0A%20%3Farticle%20schema%3AisPartOf%20%3Chttps%3A%2F%2Ffr.wikipedia.org%2F%3E%20.%7D%20%0A%20%20%0A%20%20optional%20%7B%3Fcommunard_ou_communarde%20wdt%3AP4724%20%3Fmaiton.%7D%0A%0A%7D%0A\" \n",
       "referrerpolicy=\"origin\" sandbox=\"allow-scripts allow-same-origin allow-popups\">\n",
       "</iframe>\n"
      ],
      "text/plain": [
       "<IPython.core.display.HTML object>"
      ]
     },
     "metadata": {},
     "output_type": "display_data"
    }
   ],
   "source": [
    "%%HTML\n",
    "<iframe style=\"width: 95%; height: 50vh; border: none;\" \n",
    "src=\"https://query.wikidata.org/embed.html#%0ASELECT%20%3Fcommunard_ou_communarde%20%3Fcommunard_ou_communardeLabel%20%3Farticle%20%3Fmaiton%20WHERE%20%7B%0A%20%20SERVICE%20wikibase%3Alabel%20%7B%20bd%3AserviceParam%20wikibase%3Alanguage%20%22%5BAUTO_LANGUAGE%5D%2Cen%22.%20%7D%0A%20%20%3Fcommunard_ou_communarde%20wdt%3AP106%20wd%3AQ1780490.%0A%0A%20%20optional%20%7B%3Farticle%20schema%3Aabout%20%3Fcommunard_ou_communarde%20.%0A%20%3Farticle%20schema%3AisPartOf%20%3Chttps%3A%2F%2Ffr.wikipedia.org%2F%3E%20.%7D%20%0A%20%20%0A%20%20optional%20%7B%3Fcommunard_ou_communarde%20wdt%3AP4724%20%3Fmaiton.%7D%0A%0A%7D%0A\" \n",
    "referrerpolicy=\"origin\" sandbox=\"allow-scripts allow-same-origin allow-popups\">\n",
    "</iframe>"
   ]
  },
  {
   "cell_type": "markdown",
   "metadata": {
    "hideCode": false,
    "hidePrompt": false
   },
   "source": [
    "On peut aussi compte combien de personnes ont un article dans wikipédia ou le maitron"
   ]
  },
  {
   "cell_type": "markdown",
   "metadata": {
    "hideCode": false,
    "hidePrompt": false
   },
   "source": [
    "```\n",
    "SELECT (COUNT(?article) AS ?nb_WP) (COUNT(?maitron) AS ?nb_maitron) WHERE {\n",
    "  SERVICE wikibase:label { bd:serviceParam wikibase:language \"[AUTO_LANGUAGE],en\". }\n",
    "  ?communard_ou_communarde wdt:P106 wd:Q1780490.\n",
    "  OPTIONAL {\n",
    "    ?article schema:about ?communard_ou_communarde;\n",
    "      schema:isPartOf <https://fr.wikipedia.org/>.\n",
    "  }\n",
    "  OPTIONAL { ?communard_ou_communarde wdt:P4724 ?maitron. }\n",
    "}\n",
    "```"
   ]
  },
  {
   "cell_type": "code",
   "execution_count": 21,
   "metadata": {
    "hideCode": true,
    "hidePrompt": true
   },
   "outputs": [
    {
     "data": {
      "text/html": [
       "<iframe style=\"width: 95%; height: 20vh; border: none;\" \n",
       "src=\"https://query.wikidata.org/embed.html#SELECT%20(COUNT(%3Farticle)%20AS%20%3Fnb_WP)%20(COUNT(%3Fmaitron)%20AS%20%3Fnb_maitron)%20WHERE%20%7B%0A%20%20SERVICE%20wikibase%3Alabel%20%7B%20bd%3AserviceParam%20wikibase%3Alanguage%20%22%5BAUTO_LANGUAGE%5D%2Cen%22.%20%7D%0A%20%20%3Fcommunard_ou_communarde%20wdt%3AP106%20wd%3AQ1780490.%0A%20%20OPTIONAL%20%7B%0A%20%20%20%20%3Farticle%20schema%3Aabout%20%3Fcommunard_ou_communarde%3B%0A%20%20%20%20%20%20schema%3AisPartOf%20%3Chttps%3A%2F%2Ffr.wikipedia.org%2F%3E.%0A%20%20%7D%0A%20%20OPTIONAL%20%7B%20%3Fcommunard_ou_communarde%20wdt%3AP4724%20%3Fmaitron.%20%7D%0A%7D\" \n",
       "referrerpolicy=\"origin\" sandbox=\"allow-scripts allow-same-origin allow-popups\">\n",
       "</iframe>\n"
      ],
      "text/plain": [
       "<IPython.core.display.HTML object>"
      ]
     },
     "metadata": {},
     "output_type": "display_data"
    }
   ],
   "source": [
    "%%HTML\n",
    "<iframe style=\"width: 95%; height: 20vh; border: none;\" \n",
    "src=\"https://query.wikidata.org/embed.html#SELECT%20(COUNT(%3Farticle)%20AS%20%3Fnb_WP)%20(COUNT(%3Fmaitron)%20AS%20%3Fnb_maitron)%20WHERE%20%7B%0A%20%20SERVICE%20wikibase%3Alabel%20%7B%20bd%3AserviceParam%20wikibase%3Alanguage%20%22%5BAUTO_LANGUAGE%5D%2Cen%22.%20%7D%0A%20%20%3Fcommunard_ou_communarde%20wdt%3AP106%20wd%3AQ1780490.%0A%20%20OPTIONAL%20%7B%0A%20%20%20%20%3Farticle%20schema%3Aabout%20%3Fcommunard_ou_communarde%3B%0A%20%20%20%20%20%20schema%3AisPartOf%20%3Chttps%3A%2F%2Ffr.wikipedia.org%2F%3E.%0A%20%20%7D%0A%20%20OPTIONAL%20%7B%20%3Fcommunard_ou_communarde%20wdt%3AP4724%20%3Fmaitron.%20%7D%0A%7D\" \n",
    "referrerpolicy=\"origin\" sandbox=\"allow-scripts allow-same-origin allow-popups\">\n",
    "</iframe>"
   ]
  },
  {
   "cell_type": "markdown",
   "metadata": {
    "hideCode": false,
    "hidePrompt": false
   },
   "source": [
    "### Présentations et statistiques à propos des Communard-e-s\n",
    "\n",
    "L'intérêt de wikidata est de pouvoir faire quelques statistiques et autres affichages."
   ]
  },
  {
   "cell_type": "markdown",
   "metadata": {
    "hideCode": false,
    "hidePrompt": false
   },
   "source": [
    "#### Galerie de portrait\n",
    "Tous ces portrait sont hébergé sur wikicommons et sont sous une licence libre (variable d'une image à l'autre) et donc réutilisable ."
   ]
  },
  {
   "cell_type": "markdown",
   "metadata": {
    "hideCode": false,
    "hidePrompt": false
   },
   "source": [
    "```\n",
    "#defaultView:ImageGrid\n",
    "SELECT DISTINCT ?communard_ou_communarde ?communard_ou_communardeLabel ?image WHERE {\n",
    "  SERVICE wikibase:label { bd:serviceParam wikibase:language \"[AUTO_LANGUAGE],en\". }\n",
    "  ?communard_ou_communarde wdt:P106 wd:Q1780490.\n",
    "  OPTIONAL { ?communard_ou_communarde wdt:P18 ?image. }\n",
    "}\n",
    "```"
   ]
  },
  {
   "cell_type": "code",
   "execution_count": 22,
   "metadata": {
    "hideCode": true,
    "hidePrompt": true
   },
   "outputs": [
    {
     "data": {
      "text/html": [
       "<iframe style=\"width: 95%; height: 50vh; border: none;\" \n",
       "src=\"https://query.wikidata.org/embed.html#%23defaultView%3AImageGrid%0ASELECT%20DISTINCT%20%3Fcommunard_ou_communarde%20%3Fcommunard_ou_communardeLabel%20%3Fimage%20WHERE%20%7B%0A%20%20SERVICE%20wikibase%3Alabel%20%7B%20bd%3AserviceParam%20wikibase%3Alanguage%20%22%5BAUTO_LANGUAGE%5D%2Cen%22.%20%7D%0A%20%20%3Fcommunard_ou_communarde%20wdt%3AP106%20wd%3AQ1780490.%0A%20%20OPTIONAL%20%7B%20%3Fcommunard_ou_communarde%20wdt%3AP18%20%3Fimage.%20%7D%0A%7D\" \n",
       "referrerpolicy=\"origin\" sandbox=\"allow-scripts allow-same-origin allow-popups\">\n",
       "</iframe>\n"
      ],
      "text/plain": [
       "<IPython.core.display.HTML object>"
      ]
     },
     "metadata": {},
     "output_type": "display_data"
    }
   ],
   "source": [
    "%%HTML\n",
    "<iframe style=\"width: 95%; height: 50vh; border: none;\" \n",
    "src=\"https://query.wikidata.org/embed.html#%23defaultView%3AImageGrid%0ASELECT%20DISTINCT%20%3Fcommunard_ou_communarde%20%3Fcommunard_ou_communardeLabel%20%3Fimage%20WHERE%20%7B%0A%20%20SERVICE%20wikibase%3Alabel%20%7B%20bd%3AserviceParam%20wikibase%3Alanguage%20%22%5BAUTO_LANGUAGE%5D%2Cen%22.%20%7D%0A%20%20%3Fcommunard_ou_communarde%20wdt%3AP106%20wd%3AQ1780490.%0A%20%20OPTIONAL%20%7B%20%3Fcommunard_ou_communarde%20wdt%3AP18%20%3Fimage.%20%7D%0A%7D\" \n",
    "referrerpolicy=\"origin\" sandbox=\"allow-scripts allow-same-origin allow-popups\">\n",
    "</iframe>"
   ]
  },
  {
   "cell_type": "markdown",
   "metadata": {
    "hideCode": false,
    "hidePrompt": false
   },
   "source": [
    "#### Gender-gap \n",
    "Ou en bon français, la répartition homme/femme.\n",
    "\n",
    "On mesure ici le nombre d'hommes et de femme référencé dans wikidata. On mesure donc le ratio entre les personnes rentrées dans wikidata et pas dans la réalité. Même si les critères d’admissibilité dans wikidata sont très généreux, il faut un minimum de sources."
   ]
  },
  {
   "cell_type": "markdown",
   "metadata": {
    "hideCode": false,
    "hidePrompt": false
   },
   "source": [
    "> sexe ou genre (P21) pour les humains, soit masculin (Q6581097), féminin (Q6581072), intersexué (Q1097630), femme transgenre (Q1052281), homme transgenre (Q2449503), non-binaire (Q48270) ; pour les animaux, mâle (Q44148) ou femelle (Q43445)"
   ]
  },
  {
   "cell_type": "markdown",
   "metadata": {
    "hideCode": false,
    "hidePrompt": false
   },
   "source": [
    "```\n",
    "#defaultView:BubbleChart\n",
    "SELECT ?sexe_ou_genreLabel (count(?sexe_ou_genre) as ?genre) WHERE {\n",
    "  SERVICE wikibase:label { bd:serviceParam wikibase:language \"[AUTO_LANGUAGE],en\". }\n",
    "  ?communard_ou_communarde wdt:P106 wd:Q1780490.\n",
    "  OPTIONAL { ?communard_ou_communarde wdt:P21 ?sexe_ou_genre. }\n",
    "}\n",
    "group by ?sexe_ou_genreLabel\n",
    "```"
   ]
  },
  {
   "cell_type": "code",
   "execution_count": 23,
   "metadata": {
    "hideCode": true,
    "hidePrompt": true
   },
   "outputs": [
    {
     "data": {
      "text/html": [
       "<iframe style=\"width: 95%; height: 40vh; border: none;\" \n",
       "src=\"https://query.wikidata.org/embed.html#%23defaultView%3ABubbleChart%0ASELECT%20%3Fsexe_ou_genreLabel%20(count(%3Fsexe_ou_genre)%20as%20%3Fgenre)%20WHERE%20%7B%0A%20%20SERVICE%20wikibase%3Alabel%20%7B%20bd%3AserviceParam%20wikibase%3Alanguage%20%22%5BAUTO_LANGUAGE%5D%2Cen%22.%20%7D%0A%20%20%3Fcommunard_ou_communarde%20wdt%3AP106%20wd%3AQ1780490.%0A%20%20OPTIONAL%20%7B%20%3Fcommunard_ou_communarde%20wdt%3AP21%20%3Fsexe_ou_genre.%20%7D%0A%7D%0Agroup%20by%20%3Fsexe_ou_genreLabel\" \n",
       "referrerpolicy=\"origin\" sandbox=\"allow-scripts allow-same-origin allow-popups\">\n",
       "</iframe>\n"
      ],
      "text/plain": [
       "<IPython.core.display.HTML object>"
      ]
     },
     "metadata": {},
     "output_type": "display_data"
    }
   ],
   "source": [
    "%%HTML\n",
    "<iframe style=\"width: 95%; height: 40vh; border: none;\" \n",
    "src=\"https://query.wikidata.org/embed.html#%23defaultView%3ABubbleChart%0ASELECT%20%3Fsexe_ou_genreLabel%20(count(%3Fsexe_ou_genre)%20as%20%3Fgenre)%20WHERE%20%7B%0A%20%20SERVICE%20wikibase%3Alabel%20%7B%20bd%3AserviceParam%20wikibase%3Alanguage%20%22%5BAUTO_LANGUAGE%5D%2Cen%22.%20%7D%0A%20%20%3Fcommunard_ou_communarde%20wdt%3AP106%20wd%3AQ1780490.%0A%20%20OPTIONAL%20%7B%20%3Fcommunard_ou_communarde%20wdt%3AP21%20%3Fsexe_ou_genre.%20%7D%0A%7D%0Agroup%20by%20%3Fsexe_ou_genreLabel\" \n",
    "referrerpolicy=\"origin\" sandbox=\"allow-scripts allow-same-origin allow-popups\">\n",
    "</iframe>"
   ]
  },
  {
   "cell_type": "markdown",
   "metadata": {
    "hideCode": false,
    "hidePrompt": false
   },
   "source": [
    "- 9 mars 2022 : 172 / 74 soit 2.32\n",
    "- 16 janvier 2023 : 190 / 107 soit 1.77"
   ]
  },
  {
   "cell_type": "markdown",
   "metadata": {
    "hideCode": false,
    "hidePrompt": false
   },
   "source": [
    "#### A part avoir participer à la commune, que faisaient ces personnes ?\n",
    "\n",
    "la propriété P106, déjà évoqué, permet de connaitre leur occupation : métiers, loisir...\n",
    "\n",
    "On peut compter combien de personne participe à chaque occupation. Une personen peut avoir de multiple occupation. Elles peuvent avoir été occupée avant/pendant/après les événements."
   ]
  },
  {
   "cell_type": "markdown",
   "metadata": {
    "hideCode": false,
    "hidePrompt": false
   },
   "source": [
    "##### Au moins deux personnes qui l'occupe"
   ]
  },
  {
   "cell_type": "markdown",
   "metadata": {
    "hideCode": false,
    "hidePrompt": false
   },
   "source": [
    "```\n",
    "SELECT ?occupation ?occupationLabel (COUNT(?communard_ou_communarde) AS ?nombre) WHERE {\n",
    "  SERVICE wikibase:label { bd:serviceParam wikibase:language \"[AUTO_LANGUAGE],en\". }\n",
    "  ?communard_ou_communarde wdt:P106 wd:Q1780490;\n",
    "                           wdt:P106 ?occupation.\n",
    "}\n",
    "GROUP BY ?occupation ?occupationLabel\n",
    "HAVING (((COUNT(?communard_ou_communarde)) > 1 ) && ((COUNT(?communard_ou_communarde)) < 290 ))# Sélectionner ceux dont il y a plus d'une occurence et moins de 290 pour supprimer communard qui est à plus de 297 le 12 janvier 2023\n",
    "\n",
    "ORDER BY DESC (?nombre)\n",
    "```"
   ]
  },
  {
   "cell_type": "code",
   "execution_count": 24,
   "metadata": {
    "hideCode": true,
    "hidePrompt": true
   },
   "outputs": [
    {
     "data": {
      "text/html": [
       "<iframe style=\"width: 95%; height: 50vh; border: none;\" \n",
       "src=\"https://query.wikidata.org/embed.html#SELECT%20%3Foccupation%20%3FoccupationLabel%20(COUNT(%3Fcommunard_ou_communarde)%20AS%20%3Fnombre)%20WHERE%20%7B%0A%20%20SERVICE%20wikibase%3Alabel%20%7B%20bd%3AserviceParam%20wikibase%3Alanguage%20%22%5BAUTO_LANGUAGE%5D%2Cen%22.%20%7D%0A%20%20%3Fcommunard_ou_communarde%20wdt%3AP106%20wd%3AQ1780490%3B%0A%20%20%20%20%20%20%20%20%20%20%20%20%20%20%20%20%20%20%20%20%20%20%20%20%20%20%20wdt%3AP106%20%3Foccupation.%0A%7D%0AGROUP%20BY%20%3Foccupation%20%3FoccupationLabel%0AHAVING%20(((COUNT(%3Fcommunard_ou_communarde))%20%3E%201%20)%20%26%26%20((COUNT(%3Fcommunard_ou_communarde))%20%3C%20290%20))%23%20S%C3%A9lectionner%20ceux%20dont%20il%20y%20a%20plus%20d'une%20occurence%20et%20moins%20de%20290%20pour%20supprimer%20communard%20qui%20est%20%C3%A0%20plus%20de%20297%20le%2012%20janvier%202023%0A%0AORDER%20BY%20DESC%20(%3Fnombre)\" \n",
       "referrerpolicy=\"origin\" sandbox=\"allow-scripts allow-same-origin allow-popups\">\n",
       "</iframe>\n"
      ],
      "text/plain": [
       "<IPython.core.display.HTML object>"
      ]
     },
     "metadata": {},
     "output_type": "display_data"
    }
   ],
   "source": [
    "%%HTML\n",
    "<iframe style=\"width: 95%; height: 50vh; border: none;\" \n",
    "src=\"https://query.wikidata.org/embed.html#SELECT%20%3Foccupation%20%3FoccupationLabel%20(COUNT(%3Fcommunard_ou_communarde)%20AS%20%3Fnombre)%20WHERE%20%7B%0A%20%20SERVICE%20wikibase%3Alabel%20%7B%20bd%3AserviceParam%20wikibase%3Alanguage%20%22%5BAUTO_LANGUAGE%5D%2Cen%22.%20%7D%0A%20%20%3Fcommunard_ou_communarde%20wdt%3AP106%20wd%3AQ1780490%3B%0A%20%20%20%20%20%20%20%20%20%20%20%20%20%20%20%20%20%20%20%20%20%20%20%20%20%20%20wdt%3AP106%20%3Foccupation.%0A%7D%0AGROUP%20BY%20%3Foccupation%20%3FoccupationLabel%0AHAVING%20(((COUNT(%3Fcommunard_ou_communarde))%20%3E%201%20)%20%26%26%20((COUNT(%3Fcommunard_ou_communarde))%20%3C%20290%20))%23%20S%C3%A9lectionner%20ceux%20dont%20il%20y%20a%20plus%20d'une%20occurence%20et%20moins%20de%20290%20pour%20supprimer%20communard%20qui%20est%20%C3%A0%20plus%20de%20297%20le%2012%20janvier%202023%0A%0AORDER%20BY%20DESC%20(%3Fnombre)\" \n",
    "referrerpolicy=\"origin\" sandbox=\"allow-scripts allow-same-origin allow-popups\">\n",
    "</iframe>"
   ]
  },
  {
   "cell_type": "markdown",
   "metadata": {
    "hideCode": false,
    "hidePrompt": false
   },
   "source": [
    "#### Quel âge avait ces personnes en 1871"
   ]
  },
  {
   "cell_type": "markdown",
   "metadata": {
    "hideCode": false,
    "hidePrompt": false
   },
   "source": [
    "```\n",
    "#defaultView:AreaChart\n",
    "SELECT \n",
    "  ?age_on_march_18th (COUNT(?communard) AS ?count_persons)\n",
    "WHERE {\n",
    "  ?communard wdt:P106 wd:Q1780490;\n",
    "             wdt:P569 ?birth_date.\n",
    "  BIND (YEAR(\"1871-03-18\"^^xsd:date) - YEAR(?birth_date) AS ?age_on_march_18th)\n",
    "  FILTER(?age_on_march_18th > 5)\n",
    "}\n",
    "GROUP BY ?age_on_march_18th\n",
    "```"
   ]
  },
  {
   "cell_type": "code",
   "execution_count": 25,
   "metadata": {
    "hideCode": false,
    "hidePrompt": false
   },
   "outputs": [
    {
     "data": {
      "text/html": [
       "<iframe style=\"width: 95%; height: 50vh; border: none;\" \n",
       "src=\"https://query.wikidata.org/embed.html#%23defaultView%3AAreaChart%0ASELECT%20%0A%20%20%3Fage_on_march_18th%20(COUNT(%3Fcommunard)%20AS%20%3Fcount_persons)%0AWHERE%20%7B%0A%20%20%3Fcommunard%20wdt%3AP106%20wd%3AQ1780490%3B%0A%20%20%20%20%20%20%20%20%20%20%20%20%20wdt%3AP569%20%3Fbirth_date.%0A%20%20BIND%20(YEAR(%221871-03-18%22%5E%5Exsd%3Adate)%20-%20YEAR(%3Fbirth_date)%20AS%20%3Fage_on_march_18th)%0A%20%20FILTER(%3Fage_on_march_18th%20%3E%205)%0A%7D%0AGROUP%20BY%20%3Fage_on_march_18th%0A\" \n",
       "referrerpolicy=\"origin\" sandbox=\"allow-scripts allow-same-origin allow-popups\">\n",
       "</iframe>\n"
      ],
      "text/plain": [
       "<IPython.core.display.HTML object>"
      ]
     },
     "metadata": {},
     "output_type": "display_data"
    }
   ],
   "source": [
    "%%HTML\n",
    "<iframe style=\"width: 95%; height: 50vh; border: none;\" \n",
    "src=\"https://query.wikidata.org/embed.html#%23defaultView%3AAreaChart%0ASELECT%20%0A%20%20%3Fage_on_march_18th%20(COUNT(%3Fcommunard)%20AS%20%3Fcount_persons)%0AWHERE%20%7B%0A%20%20%3Fcommunard%20wdt%3AP106%20wd%3AQ1780490%3B%0A%20%20%20%20%20%20%20%20%20%20%20%20%20wdt%3AP569%20%3Fbirth_date.%0A%20%20BIND%20(YEAR(%221871-03-18%22%5E%5Exsd%3Adate)%20-%20YEAR(%3Fbirth_date)%20AS%20%3Fage_on_march_18th)%0A%20%20FILTER(%3Fage_on_march_18th%20%3E%205)%0A%7D%0AGROUP%20BY%20%3Fage_on_march_18th%0A\" \n",
    "referrerpolicy=\"origin\" sandbox=\"allow-scripts allow-same-origin allow-popups\">\n",
    "</iframe>\n"
   ]
  },
  {
   "cell_type": "markdown",
   "metadata": {},
   "source": [
    "#### Une Commune internationale"
   ]
  },
  {
   "cell_type": "markdown",
   "metadata": {},
   "source": [
    "> pays de citoyenneté (P27)\n",
    "État dont la personne possède la nationalité\n",
    "\n",
    "Toute les personne n'ont pas le champs remplit."
   ]
  },
  {
   "cell_type": "markdown",
   "metadata": {},
   "source": [
    "```\n",
    "SELECT ?pays_de_citoyenneté ?pays_de_citoyennetéLabel (count(?pays_de_citoyenneté) as ?nb) WHERE {\n",
    "  SERVICE wikibase:label { bd:serviceParam wikibase:language \"[AUTO_LANGUAGE],en\". }\n",
    "  ?communard_ou_communarde wdt:P106 wd:Q1780490.\n",
    "  OPTIONAL { ?communard_ou_communarde wdt:P27 ?pays_de_citoyenneté. }\n",
    "}\n",
    "group by ?pays_de_citoyenneté ?pays_de_citoyennetéLabel\n",
    "order by desc(?nb)\n",
    "```"
   ]
  },
  {
   "cell_type": "code",
   "execution_count": 26,
   "metadata": {},
   "outputs": [
    {
     "data": {
      "text/html": [
       "<iframe style=\"width: 95%; height: 50vh; border: none;\" \n",
       "src=\"https://query.wikidata.org/embed.html#SELECT%20%3Fpays_de_citoyennet%C3%A9%20%3Fpays_de_citoyennet%C3%A9Label%20(count(%3Fpays_de_citoyennet%C3%A9)%20as%20%3Fnb)%20WHERE%20%7B%0A%20%20SERVICE%20wikibase%3Alabel%20%7B%20bd%3AserviceParam%20wikibase%3Alanguage%20%22%5BAUTO_LANGUAGE%5D%2Cen%22.%20%7D%0A%20%20%3Fcommunard_ou_communarde%20wdt%3AP106%20wd%3AQ1780490.%0A%20%20OPTIONAL%20%7B%20%3Fcommunard_ou_communarde%20wdt%3AP27%20%3Fpays_de_citoyennet%C3%A9.%20%7D%0A%7D%0A%0Agroup%20by%20%3Fpays_de_citoyennet%C3%A9%20%3Fpays_de_citoyennet%C3%A9Label%0Aorder%20by%20desc(%3Fnb)\" \n",
       "referrerpolicy=\"origin\" sandbox=\"allow-scripts allow-same-origin allow-popups\">\n",
       "</iframe>\n"
      ],
      "text/plain": [
       "<IPython.core.display.HTML object>"
      ]
     },
     "metadata": {},
     "output_type": "display_data"
    }
   ],
   "source": [
    "%%HTML\n",
    "<iframe style=\"width: 95%; height: 50vh; border: none;\" \n",
    "src=\"https://query.wikidata.org/embed.html#SELECT%20%3Fpays_de_citoyennet%C3%A9%20%3Fpays_de_citoyennet%C3%A9Label%20(count(%3Fpays_de_citoyennet%C3%A9)%20as%20%3Fnb)%20WHERE%20%7B%0A%20%20SERVICE%20wikibase%3Alabel%20%7B%20bd%3AserviceParam%20wikibase%3Alanguage%20%22%5BAUTO_LANGUAGE%5D%2Cen%22.%20%7D%0A%20%20%3Fcommunard_ou_communarde%20wdt%3AP106%20wd%3AQ1780490.%0A%20%20OPTIONAL%20%7B%20%3Fcommunard_ou_communarde%20wdt%3AP27%20%3Fpays_de_citoyennet%C3%A9.%20%7D%0A%7D%0A%0Agroup%20by%20%3Fpays_de_citoyennet%C3%A9%20%3Fpays_de_citoyennet%C3%A9Label%0Aorder%20by%20desc(%3Fnb)\" \n",
    "referrerpolicy=\"origin\" sandbox=\"allow-scripts allow-same-origin allow-popups\">\n",
    "</iframe>"
   ]
  },
  {
   "cell_type": "markdown",
   "metadata": {
    "hideCode": false,
    "hidePrompt": false
   },
   "source": [
    "### Relations entre communard·e·s"
   ]
  },
  {
   "cell_type": "markdown",
   "metadata": {},
   "source": [
    "### Partenaires de vie"
   ]
  },
  {
   "cell_type": "markdown",
   "metadata": {},
   "source": [
    "#### Communard·e·s et leur conjoint·e ou partenaire de vie "
   ]
  },
  {
   "cell_type": "markdown",
   "metadata": {},
   "source": [
    "```\n",
    "SELECT ?communard_ou_communarde ?communard_ou_communardeLabel ?vie_avec ?vie_avecLabel WHERE {\n",
    "  SERVICE wikibase:label { bd:serviceParam wikibase:language \"[AUTO_LANGUAGE],en\". }\n",
    "  ?communard_ou_communarde wdt:P106 wd:Q1780490;\n",
    "                           wdt:P26|wdt:P451 ?vie_avec.\n",
    "}\n",
    "```"
   ]
  },
  {
   "cell_type": "code",
   "execution_count": 4,
   "metadata": {},
   "outputs": [
    {
     "data": {
      "text/html": [
       "<iframe style=\"width: 95%; height: 50vh; border: none;\" \n",
       "src=\"https://query.wikidata.org/embed.html#SELECT%20%3Fcommunard_ou_communarde%20%3Fcommunard_ou_communardeLabel%20%3Fvie_avec%20%3Fvie_avecLabel%20WHERE%20%7B%0A%20%20SERVICE%20wikibase%3Alabel%20%7B%20bd%3AserviceParam%20wikibase%3Alanguage%20%22%5BAUTO_LANGUAGE%5D%2Cen%22.%20%7D%0A%20%20%3Fcommunard_ou_communarde%20wdt%3AP106%20wd%3AQ1780490%3B%0A%20%20%20%20%20%20%20%20%20%20%20%20%20%20%20%20%20%20%20%20%20%20%20%20%20%20%20wdt%3AP26%7Cwdt%3AP451%20%3Fvie_avec.%0A%7D%0A\" \n",
       "referrerpolicy=\"origin\" sandbox=\"allow-scripts allow-same-origin allow-popups\">\n",
       "</iframe>\n"
      ],
      "text/plain": [
       "<IPython.core.display.HTML object>"
      ]
     },
     "metadata": {},
     "output_type": "display_data"
    }
   ],
   "source": [
    "%%HTML\n",
    "<iframe style=\"width: 95%; height: 50vh; border: none;\" \n",
    "src=\"https://query.wikidata.org/embed.html#SELECT%20%3Fcommunard_ou_communarde%20%3Fcommunard_ou_communardeLabel%20%3Fvie_avec%20%3Fvie_avecLabel%20WHERE%20%7B%0A%20%20SERVICE%20wikibase%3Alabel%20%7B%20bd%3AserviceParam%20wikibase%3Alanguage%20%22%5BAUTO_LANGUAGE%5D%2Cen%22.%20%7D%0A%20%20%3Fcommunard_ou_communarde%20wdt%3AP106%20wd%3AQ1780490%3B%0A%20%20%20%20%20%20%20%20%20%20%20%20%20%20%20%20%20%20%20%20%20%20%20%20%20%20%20wdt%3AP26%7Cwdt%3AP451%20%3Fvie_avec.%0A%7D%0A\" \n",
    "referrerpolicy=\"origin\" sandbox=\"allow-scripts allow-same-origin allow-popups\">\n",
    "</iframe>"
   ]
  },
  {
   "cell_type": "markdown",
   "metadata": {},
   "source": [
    "#### Communard·e·s vivant avec un·e autre communard·e·s"
   ]
  },
  {
   "cell_type": "markdown",
   "metadata": {},
   "source": [
    "```\n",
    "SELECT ?communard_ou_communarde ?communard_ou_communardeLabel ?vie_avec ?vie_avecLabel WHERE {\n",
    "  SERVICE wikibase:label { bd:serviceParam wikibase:language \"[AUTO_LANGUAGE],en\". }\n",
    "  ?communard_ou_communarde wdt:P106 wd:Q1780490;\n",
    "                           wdt:P26|wdt:P451 ?vie_avec.\n",
    "  ?vie_avec wdt:P106 wd:Q1780490.\n",
    "}\n",
    "```"
   ]
  },
  {
   "cell_type": "code",
   "execution_count": 5,
   "metadata": {},
   "outputs": [
    {
     "data": {
      "text/html": [
       "<iframe style=\"width: 95%; height: 50vh; border: none;\" \n",
       "src=\"https://query.wikidata.org/embed.html#SELECT%20%3Fcommunard_ou_communarde%20%3Fcommunard_ou_communardeLabel%20%3Fvie_avec%20%3Fvie_avecLabel%20WHERE%20%7B%0A%20%20SERVICE%20wikibase%3Alabel%20%7B%20bd%3AserviceParam%20wikibase%3Alanguage%20%22%5BAUTO_LANGUAGE%5D%2Cen%22.%20%7D%0A%20%20%3Fcommunard_ou_communarde%20wdt%3AP106%20wd%3AQ1780490%3B%0A%20%20%20%20%20%20%20%20%20%20%20%20%20%20%20%20%20%20%20%20%20%20%20%20%20%20%20wdt%3AP26%7Cwdt%3AP451%20%3Fvie_avec.%0A%20%20%3Fvie_avec%20wdt%3AP106%20wd%3AQ1780490.%0A%7D%0A\" \n",
       "referrerpolicy=\"origin\" sandbox=\"allow-scripts allow-same-origin allow-popups\">\n",
       "</iframe>\n"
      ],
      "text/plain": [
       "<IPython.core.display.HTML object>"
      ]
     },
     "metadata": {},
     "output_type": "display_data"
    }
   ],
   "source": [
    "%%HTML\n",
    "<iframe style=\"width: 95%; height: 50vh; border: none;\" \n",
    "src=\"https://query.wikidata.org/embed.html#SELECT%20%3Fcommunard_ou_communarde%20%3Fcommunard_ou_communardeLabel%20%3Fvie_avec%20%3Fvie_avecLabel%20WHERE%20%7B%0A%20%20SERVICE%20wikibase%3Alabel%20%7B%20bd%3AserviceParam%20wikibase%3Alanguage%20%22%5BAUTO_LANGUAGE%5D%2Cen%22.%20%7D%0A%20%20%3Fcommunard_ou_communarde%20wdt%3AP106%20wd%3AQ1780490%3B%0A%20%20%20%20%20%20%20%20%20%20%20%20%20%20%20%20%20%20%20%20%20%20%20%20%20%20%20wdt%3AP26%7Cwdt%3AP451%20%3Fvie_avec.%0A%20%20%3Fvie_avec%20wdt%3AP106%20wd%3AQ1780490.%0A%7D%0A\" \n",
    "referrerpolicy=\"origin\" sandbox=\"allow-scripts allow-same-origin allow-popups\">\n",
    "</iframe>"
   ]
  },
  {
   "cell_type": "markdown",
   "metadata": {},
   "source": [
    "#### Communard·e·s dont le nombre de partenaire est supérieur à 1"
   ]
  },
  {
   "cell_type": "markdown",
   "metadata": {},
   "source": [
    "Entre la reconnaissance du divorce par la Commune, la durée de vie de certaines personnes... Certaines personnes ont pu vivre avec plusieurs personnes."
   ]
  },
  {
   "cell_type": "markdown",
   "metadata": {},
   "source": [
    "```\n",
    "SELECT ?communard_ou_communarde ?communard_ou_communardeLabel (count(?vie_avec)as ?nb_de_partenaire) WHERE {\n",
    "  SERVICE wikibase:label { bd:serviceParam wikibase:language \"[AUTO_LANGUAGE],en\". }\n",
    "  ?communard_ou_communarde wdt:P106 wd:Q1780490;\n",
    "                           wdt:P26|wdt:P451 ?vie_avec. \n",
    "}\n",
    "group by ?communard_ou_communarde ?communard_ou_communardeLabel\n",
    "HAVING(?nb_de_partenaire >1)\n",
    "```"
   ]
  },
  {
   "cell_type": "code",
   "execution_count": 7,
   "metadata": {},
   "outputs": [
    {
     "data": {
      "text/html": [
       "<iframe style=\"width: 95%; height: 50vh; border: none;\" \n",
       "src=\"https://query.wikidata.org/embed.html#SELECT%20%3Fcommunard_ou_communarde%20%3Fcommunard_ou_communardeLabel%20(count(%3Fvie_avec)as%20%3Fnb_de_partenaire)%20WHERE%20%7B%0A%20%20SERVICE%20wikibase%3Alabel%20%7B%20bd%3AserviceParam%20wikibase%3Alanguage%20%22%5BAUTO_LANGUAGE%5D%2Cen%22.%20%7D%0A%20%20%3Fcommunard_ou_communarde%20wdt%3AP106%20wd%3AQ1780490%3B%0A%20%20%20%20%20%20%20%20%20%20%20%20%20%20%20%20%20%20%20%20%20%20%20%20%20%20%20wdt%3AP26%7Cwdt%3AP451%20%3Fvie_avec.%0A%0A%20%20%0A%7D%0Agroup%20by%20%3Fcommunard_ou_communarde%20%3Fcommunard_ou_communardeLabel%0AHAVING(%3Fnb_de_partenaire%20%3E1)\" \n",
       "referrerpolicy=\"origin\" sandbox=\"allow-scripts allow-same-origin allow-popups\">\n",
       "</iframe>\n"
      ],
      "text/plain": [
       "<IPython.core.display.HTML object>"
      ]
     },
     "metadata": {},
     "output_type": "display_data"
    }
   ],
   "source": [
    "%%HTML\n",
    "<iframe style=\"width: 95%; height: 50vh; border: none;\" \n",
    "src=\"https://query.wikidata.org/embed.html#SELECT%20%3Fcommunard_ou_communarde%20%3Fcommunard_ou_communardeLabel%20(count(%3Fvie_avec)as%20%3Fnb_de_partenaire)%20WHERE%20%7B%0A%20%20SERVICE%20wikibase%3Alabel%20%7B%20bd%3AserviceParam%20wikibase%3Alanguage%20%22%5BAUTO_LANGUAGE%5D%2Cen%22.%20%7D%0A%20%20%3Fcommunard_ou_communarde%20wdt%3AP106%20wd%3AQ1780490%3B%0A%20%20%20%20%20%20%20%20%20%20%20%20%20%20%20%20%20%20%20%20%20%20%20%20%20%20%20wdt%3AP26%7Cwdt%3AP451%20%3Fvie_avec.%0A%0A%20%20%0A%7D%0Agroup%20by%20%3Fcommunard_ou_communarde%20%3Fcommunard_ou_communardeLabel%0AHAVING(%3Fnb_de_partenaire%20%3E1)\" \n",
    "referrerpolicy=\"origin\" sandbox=\"allow-scripts allow-same-origin allow-popups\">\n",
    "</iframe>"
   ]
  },
  {
   "cell_type": "markdown",
   "metadata": {},
   "source": [
    "Au 6 mai 2023 il y a :\n",
    "- 50 couples\n",
    "- 27 couples de communard·e·s\n",
    "- 4 personnes ayant vécues avec au moins 2 autres personnes distinctes"
   ]
  },
  {
   "cell_type": "markdown",
   "metadata": {
    "hideCode": false,
    "hidePrompt": false
   },
   "source": [
    "### Généalogie"
   ]
  },
  {
   "cell_type": "markdown",
   "metadata": {},
   "source": [
    "#### Communard·e·s et leurs enfants"
   ]
  },
  {
   "cell_type": "markdown",
   "metadata": {},
   "source": [
    "```\n",
    "SELECT ?communard ?communardLabel ?enfant ?enfantLabel\n",
    "WHERE {\n",
    "SERVICE wikibase:label { bd:serviceParam wikibase:language \"[AUTO_LANGUAGE],en\". }\n",
    "\n",
    "  ?communard wdt:P106 wd:Q1780490;\n",
    "              wdt:P40 ?enfant.\n",
    "}\n",
    "```"
   ]
  },
  {
   "cell_type": "code",
   "execution_count": 8,
   "metadata": {},
   "outputs": [
    {
     "data": {
      "text/html": [
       "<iframe style=\"width: 95%; height: 50vh; border: none;\" \n",
       "src=\"https://query.wikidata.org/embed.html#SELECT%20%3Fcommunard%20%3FcommunardLabel%20%3Fenfant%20%3FenfantLabel%0AWHERE%20%7B%0ASERVICE%20wikibase%3Alabel%20%7B%20bd%3AserviceParam%20wikibase%3Alanguage%20%22%5BAUTO_LANGUAGE%5D%2Cen%22.%20%7D%0A%0A%20%20%3Fcommunard%20wdt%3AP106%20wd%3AQ1780490%3B%0A%20%20%20%20%20%20%20%20%20%20%20%20%20%20wdt%3AP40%20%3Fenfant.%0A%7D\" \n",
       "referrerpolicy=\"origin\" sandbox=\"allow-scripts allow-same-origin allow-popups\">\n",
       "</iframe>\n"
      ],
      "text/plain": [
       "<IPython.core.display.HTML object>"
      ]
     },
     "metadata": {},
     "output_type": "display_data"
    }
   ],
   "source": [
    "%%HTML\n",
    "<iframe style=\"width: 95%; height: 50vh; border: none;\" \n",
    "src=\"https://query.wikidata.org/embed.html#SELECT%20%3Fcommunard%20%3FcommunardLabel%20%3Fenfant%20%3FenfantLabel%0AWHERE%20%7B%0ASERVICE%20wikibase%3Alabel%20%7B%20bd%3AserviceParam%20wikibase%3Alanguage%20%22%5BAUTO_LANGUAGE%5D%2Cen%22.%20%7D%0A%0A%20%20%3Fcommunard%20wdt%3AP106%20wd%3AQ1780490%3B%0A%20%20%20%20%20%20%20%20%20%20%20%20%20%20wdt%3AP40%20%3Fenfant.%0A%7D\" \n",
    "referrerpolicy=\"origin\" sandbox=\"allow-scripts allow-same-origin allow-popups\">\n",
    "</iframe>"
   ]
  },
  {
   "cell_type": "markdown",
   "metadata": {},
   "source": [
    "#### Communard·e·s dont les enfants sont communard·e·s"
   ]
  },
  {
   "cell_type": "code",
   "execution_count": null,
   "metadata": {},
   "outputs": [],
   "source": [
    "```\n",
    "SELECT ?communard ?communardLabel ?enfant ?enfantLabel\n",
    "WHERE {\n",
    "SERVICE wikibase:label { bd:serviceParam wikibase:language \"[AUTO_LANGUAGE],en\". }\n",
    "\n",
    "  ?communard wdt:P106 wd:Q1780490;\n",
    "              wdt:P40 ?enfant.\n",
    "  ?enfant wdt:P106 wd:Q1780490.\n",
    "}\n",
    "```"
   ]
  },
  {
   "cell_type": "code",
   "execution_count": 11,
   "metadata": {},
   "outputs": [
    {
     "data": {
      "text/html": [
       "<iframe style=\"width: 95%; height: 50vh; border: none;\" \n",
       "src=\"https://query.wikidata.org/embed.html#SELECT%20%3Fcommunard%20%3FcommunardLabel%20%3Fenfant%20%3FenfantLabel%0AWHERE%20%7B%0ASERVICE%20wikibase%3Alabel%20%7B%20bd%3AserviceParam%20wikibase%3Alanguage%20%22%5BAUTO_LANGUAGE%5D%2Cen%22.%20%7D%0A%0A%20%20%3Fcommunard%20wdt%3AP106%20wd%3AQ1780490%3B%0A%20%20%20%20%20%20%20%20%20%20%20%20%20%20wdt%3AP40%20%3Fenfant.%0A%20%20%3Fenfant%20wdt%3AP106%20wd%3AQ1780490.%0A%7D\" \n",
       "referrerpolicy=\"origin\" sandbox=\"allow-scripts allow-same-origin allow-popups\">\n",
       "</iframe>\n"
      ],
      "text/plain": [
       "<IPython.core.display.HTML object>"
      ]
     },
     "metadata": {},
     "output_type": "display_data"
    }
   ],
   "source": [
    "%%HTML\n",
    "<iframe style=\"width: 95%; height: 50vh; border: none;\" \n",
    "src=\"https://query.wikidata.org/embed.html#SELECT%20%3Fcommunard%20%3FcommunardLabel%20%3Fenfant%20%3FenfantLabel%0AWHERE%20%7B%0ASERVICE%20wikibase%3Alabel%20%7B%20bd%3AserviceParam%20wikibase%3Alanguage%20%22%5BAUTO_LANGUAGE%5D%2Cen%22.%20%7D%0A%0A%20%20%3Fcommunard%20wdt%3AP106%20wd%3AQ1780490%3B%0A%20%20%20%20%20%20%20%20%20%20%20%20%20%20wdt%3AP40%20%3Fenfant.%0A%20%20%3Fenfant%20wdt%3AP106%20wd%3AQ1780490.%0A%7D\" \n",
    "referrerpolicy=\"origin\" sandbox=\"allow-scripts allow-same-origin allow-popups\">\n",
    "</iframe>"
   ]
  },
  {
   "cell_type": "markdown",
   "metadata": {},
   "source": [
    "#### Mini-arbres généalogiques parent(s)-> communard·e -> enfant(s)"
   ]
  },
  {
   "cell_type": "markdown",
   "metadata": {},
   "source": [
    "```\n",
    "#defaultView:Graph\n",
    "SELECT ?parent ?parentLabel ?communard ?communardLabel ?enfant ?enfantLabel WHERE {\n",
    "SERVICE wikibase:label { bd:serviceParam wikibase:language \"[AUTO_LANGUAGE],en\". \n",
    "                         ?parent rdfs:label ?parentLabel.\n",
    "                         ?enfant rdfs:label ?enfantLabel.\n",
    "                         ?communard rdfs:label ?communardLabel }\n",
    "  \n",
    "  ?communard wdt:P106 wd:Q1780490.\n",
    "  Optional {?parent wdt:P40 ?communard.}\n",
    "  Optional {?communard wdt:P40 ?enfant.}\n",
    "  \n",
    "  filter(?parentLabel != \"\" || ?enfantLabel != \"\")\n",
    "}\n",
    "```"
   ]
  },
  {
   "cell_type": "code",
   "execution_count": 13,
   "metadata": {},
   "outputs": [
    {
     "data": {
      "text/html": [
       "<iframe style=\"width: 95%; height: 50vh; border: none;\" \n",
       "src=\"https://query.wikidata.org/embed.html#%23defaultView%3AGraph%0ASELECT%20%3Fparent%20%3FparentLabel%20%3Fcommunard%20%3FcommunardLabel%20%3Fenfant%20%3FenfantLabel%20WHERE%20%7B%0ASERVICE%20wikibase%3Alabel%20%7B%20bd%3AserviceParam%20wikibase%3Alanguage%20%22%5BAUTO_LANGUAGE%5D%2Cen%22.%20%0A%20%20%20%20%20%20%20%20%20%20%20%20%20%20%20%20%20%20%20%20%20%20%20%20%20%3Fparent%20rdfs%3Alabel%20%3FparentLabel.%0A%20%20%20%20%20%20%20%20%20%20%20%20%20%20%20%20%20%20%20%20%20%20%20%20%20%3Fenfant%20rdfs%3Alabel%20%3FenfantLabel.%0A%20%20%20%20%20%20%20%20%20%20%20%20%20%20%20%20%20%20%20%20%20%20%20%20%20%3Fcommunard%20rdfs%3Alabel%20%3FcommunardLabel%20%7D%0A%20%20%0A%20%20%3Fcommunard%20wdt%3AP106%20wd%3AQ1780490.%0A%20%20Optional%20%7B%3Fparent%20wdt%3AP40%20%3Fcommunard.%7D%0A%20%20Optional%20%7B%3Fcommunard%20wdt%3AP40%20%3Fenfant.%7D%0A%20%20%0A%20%20filter(%3FparentLabel%20!%3D%20%22%22%20%7C%7C%20%3FenfantLabel%20!%3D%20%22%22)%0A%7D%0A\" \n",
       "referrerpolicy=\"origin\" sandbox=\"allow-scripts allow-same-origin allow-popups\">\n",
       "</iframe>\n"
      ],
      "text/plain": [
       "<IPython.core.display.HTML object>"
      ]
     },
     "metadata": {},
     "output_type": "display_data"
    }
   ],
   "source": [
    "%%HTML\n",
    "<iframe style=\"width: 95%; height: 50vh; border: none;\" \n",
    "src=\"https://query.wikidata.org/embed.html#%23defaultView%3AGraph%0ASELECT%20%3Fparent%20%3FparentLabel%20%3Fcommunard%20%3FcommunardLabel%20%3Fenfant%20%3FenfantLabel%20WHERE%20%7B%0ASERVICE%20wikibase%3Alabel%20%7B%20bd%3AserviceParam%20wikibase%3Alanguage%20%22%5BAUTO_LANGUAGE%5D%2Cen%22.%20%0A%20%20%20%20%20%20%20%20%20%20%20%20%20%20%20%20%20%20%20%20%20%20%20%20%20%3Fparent%20rdfs%3Alabel%20%3FparentLabel.%0A%20%20%20%20%20%20%20%20%20%20%20%20%20%20%20%20%20%20%20%20%20%20%20%20%20%3Fenfant%20rdfs%3Alabel%20%3FenfantLabel.%0A%20%20%20%20%20%20%20%20%20%20%20%20%20%20%20%20%20%20%20%20%20%20%20%20%20%3Fcommunard%20rdfs%3Alabel%20%3FcommunardLabel%20%7D%0A%20%20%0A%20%20%3Fcommunard%20wdt%3AP106%20wd%3AQ1780490.%0A%20%20Optional%20%7B%3Fparent%20wdt%3AP40%20%3Fcommunard.%7D%0A%20%20Optional%20%7B%3Fcommunard%20wdt%3AP40%20%3Fenfant.%7D%0A%20%20%0A%20%20filter(%3FparentLabel%20!%3D%20%22%22%20%7C%7C%20%3FenfantLabel%20!%3D%20%22%22)%0A%7D%0A\" \n",
    "referrerpolicy=\"origin\" sandbox=\"allow-scripts allow-same-origin allow-popups\">\n",
    "</iframe>"
   ]
  },
  {
   "cell_type": "markdown",
   "metadata": {},
   "source": [
    "#### entitree"
   ]
  },
  {
   "cell_type": "markdown",
   "metadata": {},
   "source": [
    "Entitree est un outil de visualisation des données, notaments des arbres généalogiques.\n",
    "\n",
    "On peut regarder par exemple ceux d'<a herf=\"https://www.entitree.com/fr/family_tree/Herminie_Cadolle?0d0=d\">Herminie Cadolle</a> dont le petit fils est champion cycliste, ou celui de Charles Longuet.\n",
    "\n",
    "https://www.entitree.com/fr/family_tree/Herminie_Cadolle?0d0=d\n",
    "\n",
    "\n",
    "https://www.entitree.com/fr/arbre_g%C3%A9n%C3%A9alogique/Charles_Longuet?0d0=d&0d0d1=dr&0d1=dr&0d2=d&0d1d2=d"
   ]
  },
  {
   "cell_type": "markdown",
   "metadata": {
    "hideCode": false,
    "hidePrompt": false
   },
   "source": [
    "### Reseau social des communard·e·s sur wikidata"
   ]
  },
  {
   "cell_type": "markdown",
   "metadata": {
    "hideCode": false,
    "hidePrompt": false
   },
   "source": [
    "#### Graph des communard·e·s et des organismes dont als sont membres"
   ]
  },
  {
   "cell_type": "markdown",
   "metadata": {
    "hideCode": false,
    "hidePrompt": false
   },
   "source": [
    "membre de P463"
   ]
  },
  {
   "cell_type": "markdown",
   "metadata": {
    "hideCode": false,
    "hidePrompt": false
   },
   "source": [
    "```\n",
    "#defaultView:Graph\n",
    "SELECT ?communard_ou_communarde ?communard_ou_communardeLabel ?membre_de ?membre_deLabel WHERE {\n",
    "  SERVICE wikibase:label { bd:serviceParam wikibase:language \"[AUTO_LANGUAGE],en\". }\n",
    "  ?communard_ou_communarde wdt:P106 wd:Q1780490;\n",
    "                           wdt:P463 ?membre_de.\n",
    "}\n",
    "````"
   ]
  },
  {
   "cell_type": "code",
   "execution_count": 27,
   "metadata": {
    "hideCode": true,
    "hidePrompt": true
   },
   "outputs": [
    {
     "data": {
      "text/html": [
       "<iframe style=\"width: 95%; height: 50vh; border: none;\" \n",
       "src=\"https://query.wikidata.org/embed.html#%23defaultView%3AGraph%0ASELECT%20%3Fcommunard_ou_communarde%20%3Fcommunard_ou_communardeLabel%20%3Fmembre_de%20%3Fmembre_deLabel%20WHERE%20%7B%0A%20%20SERVICE%20wikibase%3Alabel%20%7B%20bd%3AserviceParam%20wikibase%3Alanguage%20%22%5BAUTO_LANGUAGE%5D%2Cen%22.%20%7D%0A%20%20%3Fcommunard_ou_communarde%20wdt%3AP106%20wd%3AQ1780490%3B%0A%20%20%20%20%20%20%20%20%20%20%20%20%20%20%20%20%20%20%20%20%20%20%20%20%20%20%20wdt%3AP463%20%3Fmembre_de.%0A%7D%0A\" \n",
       "referrerpolicy=\"origin\" sandbox=\"allow-scripts allow-same-origin allow-popups\">\n",
       "</iframe>\n"
      ],
      "text/plain": [
       "<IPython.core.display.HTML object>"
      ]
     },
     "metadata": {},
     "output_type": "display_data"
    }
   ],
   "source": [
    "%%HTML\n",
    "<iframe style=\"width: 95%; height: 50vh; border: none;\" \n",
    "src=\"https://query.wikidata.org/embed.html#%23defaultView%3AGraph%0ASELECT%20%3Fcommunard_ou_communarde%20%3Fcommunard_ou_communardeLabel%20%3Fmembre_de%20%3Fmembre_deLabel%20WHERE%20%7B%0A%20%20SERVICE%20wikibase%3Alabel%20%7B%20bd%3AserviceParam%20wikibase%3Alanguage%20%22%5BAUTO_LANGUAGE%5D%2Cen%22.%20%7D%0A%20%20%3Fcommunard_ou_communarde%20wdt%3AP106%20wd%3AQ1780490%3B%0A%20%20%20%20%20%20%20%20%20%20%20%20%20%20%20%20%20%20%20%20%20%20%20%20%20%20%20wdt%3AP463%20%3Fmembre_de.%0A%7D%0A\" \n",
    "referrerpolicy=\"origin\" sandbox=\"allow-scripts allow-same-origin allow-popups\">\n",
    "</iframe>"
   ]
  },
  {
   "cell_type": "markdown",
   "metadata": {
    "hideCode": false,
    "hidePrompt": false
   },
   "source": [
    "#### nombre par organisme"
   ]
  },
  {
   "cell_type": "markdown",
   "metadata": {
    "hideCode": false,
    "hidePrompt": false
   },
   "source": [
    "```\n",
    "SELECT ?membre_de ?membre_deLabel (count(?membre_deLabel) as ?nombre_de_membre) WHERE {\n",
    "  SERVICE wikibase:label { bd:serviceParam wikibase:language \"[AUTO_LANGUAGE],en\". }\n",
    "  ?communard_ou_communarde wdt:P106 wd:Q1780490;\n",
    "                           wdt:P463 ?membre_de.\n",
    "  optional {?membre_de wdt:P18 ?image.}\n",
    "}\n",
    "\n",
    "group by ?membre_de ?membre_deLabel\n",
    "order by desc(?nombre_de_membre)\n",
    "```"
   ]
  },
  {
   "cell_type": "code",
   "execution_count": 28,
   "metadata": {
    "hideCode": true,
    "hidePrompt": true
   },
   "outputs": [
    {
     "data": {
      "text/html": [
       "<iframe style=\"width: 95%; height: 50vh; border: none;\" \n",
       "src=\"https://query.wikidata.org/embed.html#SELECT%20%3Fmembre_de%20%3Fmembre_deLabel%20(count(%3Fmembre_deLabel)%20as%20%3Fnombre_de_membre)%20WHERE%20%7B%0A%20%20SERVICE%20wikibase%3Alabel%20%7B%20bd%3AserviceParam%20wikibase%3Alanguage%20%22%5BAUTO_LANGUAGE%5D%2Cen%22.%20%7D%0A%20%20%3Fcommunard_ou_communarde%20wdt%3AP106%20wd%3AQ1780490%3B%0A%20%20%20%20%20%20%20%20%20%20%20%20%20%20%20%20%20%20%20%20%20%20%20%20%20%20%20wdt%3AP463%20%3Fmembre_de.%0A%20%20optional%20%7B%3Fmembre_de%20wdt%3AP18%20%3Fimage.%7D%0A%7D%0A%0Agroup%20by%20%3Fmembre_de%20%3Fmembre_deLabel%0Aorder%20by%20desc(%3Fnombre_de_membre)\" \n",
       "referrerpolicy=\"origin\" sandbox=\"allow-scripts allow-same-origin allow-popups\">\n",
       "</iframe>\n"
      ],
      "text/plain": [
       "<IPython.core.display.HTML object>"
      ]
     },
     "metadata": {},
     "output_type": "display_data"
    }
   ],
   "source": [
    "%%HTML\n",
    "<iframe style=\"width: 95%; height: 50vh; border: none;\" \n",
    "src=\"https://query.wikidata.org/embed.html#SELECT%20%3Fmembre_de%20%3Fmembre_deLabel%20(count(%3Fmembre_deLabel)%20as%20%3Fnombre_de_membre)%20WHERE%20%7B%0A%20%20SERVICE%20wikibase%3Alabel%20%7B%20bd%3AserviceParam%20wikibase%3Alanguage%20%22%5BAUTO_LANGUAGE%5D%2Cen%22.%20%7D%0A%20%20%3Fcommunard_ou_communarde%20wdt%3AP106%20wd%3AQ1780490%3B%0A%20%20%20%20%20%20%20%20%20%20%20%20%20%20%20%20%20%20%20%20%20%20%20%20%20%20%20wdt%3AP463%20%3Fmembre_de.%0A%20%20optional%20%7B%3Fmembre_de%20wdt%3AP18%20%3Fimage.%7D%0A%7D%0A%0Agroup%20by%20%3Fmembre_de%20%3Fmembre_deLabel%0Aorder%20by%20desc(%3Fnombre_de_membre)\" \n",
    "referrerpolicy=\"origin\" sandbox=\"allow-scripts allow-same-origin allow-popups\">\n",
    "</iframe>"
   ]
  },
  {
   "cell_type": "markdown",
   "metadata": {
    "hideCode": false,
    "hidePrompt": false
   },
   "source": [
    "## Les communardes et communards dans des cimetières\n",
    "### Généralités\n",
    "Les communards étant touz* décédæ, c'est notamment dans les cimetières, quand les tombes existent, qu'on peut leur rendre hommage. N'oublions pas que beaucoup sont dans des fossés communes anonymes.\n",
    "\n",
    "En termes de méthode wikidata nous propose la propriété lieu de sépulture (P119). Selon les précisions cela peut être une ville ou un cimetière. Cet élément possède une propriété coordonnées géographiques.\n",
    "\n",
    "Pour certaines personnes, la propriété photo de la sépulture est rempli avec une photo de communs.\n",
    "Pour certaines personnes il existe même un élément pour leur leur tombe. \n",
    "\n",
    "On peut donc connaître le nombre de personnes par cimetière.\n",
    "On peut même les repérer sur un plan.\n",
    "\n",
    "Au 14 janvier seul le cimetière du Montparnasse est \"complet\". Celui du père Lachaise est quasiment finit. Aucun des deux ne prends en compte les monuments collectifs.\n",
    "\n",
    "Pour certain·e·s communard·e·s, le lieu de sépulture (P119) est connu. Pour certain·e·s les coordonnées géographiques de la tombe sont dans wikidata.\n"
   ]
  },
  {
   "cell_type": "markdown",
   "metadata": {
    "hideCode": false,
    "hidePrompt": false
   },
   "source": [
    "> lieu de sépulture (P119)\n",
    "lieu où le corps du sujet est conservé"
   ]
  },
  {
   "cell_type": "markdown",
   "metadata": {
    "hideCode": false,
    "hidePrompt": false
   },
   "source": [
    "### Nombre de personne par cimetière"
   ]
  },
  {
   "cell_type": "markdown",
   "metadata": {
    "hideCode": false,
    "hidePrompt": false
   },
   "source": [
    "```\n",
    "SELECT ?lieu_de_sépulture ?lieu_de_sépultureLabel ?coordonnees (COUNT(*) AS ?count) WHERE {\n",
    "  SERVICE wikibase:label { bd:serviceParam wikibase:language \"[AUTO_LANGUAGE],en\". }\n",
    " ?communard_ou_communarde wdt:P106 wd:Q1780490;\n",
    "                           wdt:P119 ?lieu_de_sépulture.\n",
    " ?lieu_de_sépulture wdt:P31/wdt:P279* wd:Q39614;\n",
    "                    wdt:P625 ?coordonnees.\n",
    "}\n",
    "\n",
    "group by ?lieu_de_sépulture ?lieu_de_sépultureLabel ?coordonnees\n",
    "order by desc (?count)\n",
    "```"
   ]
  },
  {
   "cell_type": "code",
   "execution_count": 29,
   "metadata": {
    "hideCode": false,
    "hidePrompt": true
   },
   "outputs": [
    {
     "data": {
      "text/html": [
       "<iframe style=\"width: 95%; height: 50vh; border: none;\" \n",
       "src=\"https://query.wikidata.org/embed.html#SELECT%20%3Flieu_de_s%C3%A9pulture%20%3Flieu_de_s%C3%A9pultureLabel%20%3Fcoordonnees%20(COUNT(*)%20AS%20%3Fcount)%20WHERE%20%7B%0A%20%20SERVICE%20wikibase%3Alabel%20%7B%20bd%3AserviceParam%20wikibase%3Alanguage%20%22%5BAUTO_LANGUAGE%5D%2Cen%22.%20%7D%0A%20%3Fcommunard_ou_communarde%20wdt%3AP106%20wd%3AQ1780490%3B%0A%20%20%20%20%20%20%20%20%20%20%20%20%20%20%20%20%20%20%20%20%20%20%20%20%20%20%20wdt%3AP119%20%3Flieu_de_s%C3%A9pulture.%0A%20%3Flieu_de_s%C3%A9pulture%20wdt%3AP31%2Fwdt%3AP279*%20wd%3AQ39614%3B%0A%20%20%20%20%20%20%20%20%20%20%20%20%20%20%20%20%20%20%20%20wdt%3AP625%20%3Fcoordonnees.%0A%7D%0A%0Agroup%20by%20%3Flieu_de_s%C3%A9pulture%20%3Flieu_de_s%C3%A9pultureLabel%20%3Fcoordonnees%0Aorder%20by%20desc%20(%3Fcount)\" \n",
       "referrerpolicy=\"origin\" sandbox=\"allow-scripts allow-same-origin allow-popups\">\n",
       "</iframe>\n"
      ],
      "text/plain": [
       "<IPython.core.display.HTML object>"
      ]
     },
     "metadata": {},
     "output_type": "display_data"
    }
   ],
   "source": [
    "%%HTML\n",
    "<iframe style=\"width: 95%; height: 50vh; border: none;\" \n",
    "src=\"https://query.wikidata.org/embed.html#SELECT%20%3Flieu_de_s%C3%A9pulture%20%3Flieu_de_s%C3%A9pultureLabel%20%3Fcoordonnees%20(COUNT(*)%20AS%20%3Fcount)%20WHERE%20%7B%0A%20%20SERVICE%20wikibase%3Alabel%20%7B%20bd%3AserviceParam%20wikibase%3Alanguage%20%22%5BAUTO_LANGUAGE%5D%2Cen%22.%20%7D%0A%20%3Fcommunard_ou_communarde%20wdt%3AP106%20wd%3AQ1780490%3B%0A%20%20%20%20%20%20%20%20%20%20%20%20%20%20%20%20%20%20%20%20%20%20%20%20%20%20%20wdt%3AP119%20%3Flieu_de_s%C3%A9pulture.%0A%20%3Flieu_de_s%C3%A9pulture%20wdt%3AP31%2Fwdt%3AP279*%20wd%3AQ39614%3B%0A%20%20%20%20%20%20%20%20%20%20%20%20%20%20%20%20%20%20%20%20wdt%3AP625%20%3Fcoordonnees.%0A%7D%0A%0Agroup%20by%20%3Flieu_de_s%C3%A9pulture%20%3Flieu_de_s%C3%A9pultureLabel%20%3Fcoordonnees%0Aorder%20by%20desc%20(%3Fcount)\" \n",
    "referrerpolicy=\"origin\" sandbox=\"allow-scripts allow-same-origin allow-popups\">\n",
    "</iframe>"
   ]
  },
  {
   "cell_type": "markdown",
   "metadata": {
    "hideCode": false,
    "hidePrompt": false
   },
   "source": [
    "### Cimetière du Montparnasse\n",
    "Cartes des tombes de communard·e·s ou de personnes ayant un lien avec la Commune dans le cimetière du Montparnasse (Q272208).\n"
   ]
  },
  {
   "cell_type": "markdown",
   "metadata": {
    "hideCode": false,
    "hidePrompt": false
   },
   "source": [
    "```\n",
    "#defaultView:Map\n",
    "SELECT Distinct ?tombe ?tombeLabel ?image_Tombe ?coordonnées ?tombe_deLabel ?image_personne WHERE {\n",
    "  SERVICE wikibase:label { bd:serviceParam wikibase:language \"[AUTO_LANGUAGE],en\". }\n",
    "  \n",
    "  #Qui, les communard-e-s et la liste des personnes lors de la cérémonie\n",
    "  ?communard wdt:P106 wd:Q1780490;\n",
    "             wdt:P119 wd:Q272208.\n",
    "  Values ?personnalite {wd:Q313709 \n",
    "                        wd:Q61897268 \n",
    "                        wd:Q5749\n",
    "                        wd:Q1959369\n",
    "                        wd:Q3047711\n",
    "                        wd:Q3022660\n",
    "                        wd:Q551648\n",
    "                        wd:Q704649\n",
    "                        wd:Q2826417\n",
    "                        wd:Q3302715\n",
    "                        wd:Q337628}\n",
    "  #Chercher les tombes du cimetière montparnasse                      \n",
    "  ?tombe wdt:P361 wd:Q272208;\n",
    "         wdt:P547 ?tombe_de.        \n",
    "  #Prendre les tombes voulues\n",
    "  filter (?tombe_de =?communard || ?tombe_de=?personnalite)\n",
    "  \n",
    "  OPTIONAL {?tombe wdt:P18 ?image_Tombe.}\n",
    "  OPTIONAL {?tombe wdt:P625 ?coordonnées.}\n",
    "  OPTIONAL {?tombe_de wdt:P18 ?image_personne.}\n",
    "  \n",
    "}\n",
    "```"
   ]
  },
  {
   "cell_type": "code",
   "execution_count": 30,
   "metadata": {
    "hideCode": true,
    "hidePrompt": true
   },
   "outputs": [
    {
     "data": {
      "text/html": [
       "<iframe style=\"width: 95%; height: 75vh; border: none;\" \n",
       "src=\"https://query.wikidata.org/embed.html#%23defaultView%3AMap%0ASELECT%20Distinct%20%3Ftombe%20%3FtombeLabel%20%3Fimage_Tombe%20%3Fcoordonn%C3%A9es%20%3Ftombe_deLabel%20%3Fimage_personne%20WHERE%20%7B%0A%20%20SERVICE%20wikibase%3Alabel%20%7B%20bd%3AserviceParam%20wikibase%3Alanguage%20%22%5BAUTO_LANGUAGE%5D%2Cen%22.%20%7D%0A%20%20%0A%20%20%23Qui%2C%20les%20communard-e-s%20et%20la%20liste%20des%20personnes%20lors%20de%20la%20c%C3%A9r%C3%A9monie%0A%20%20%3Fcommunard%20wdt%3AP106%20wd%3AQ1780490%3B%0A%20%20%20%20%20%20%20%20%20%20%20%20%20wdt%3AP119%20wd%3AQ272208.%0A%20%20Values%20%3Fpersonnalite%20%7Bwd%3AQ313709%20%0A%20%20%20%20%20%20%20%20%20%20%20%20%20%20%20%20%20%20%20%20%20%20%20%20wd%3AQ61897268%20%0A%20%20%20%20%20%20%20%20%20%20%20%20%20%20%20%20%20%20%20%20%20%20%20%20wd%3AQ5749%0A%20%20%20%20%20%20%20%20%20%20%20%20%20%20%20%20%20%20%20%20%20%20%20%20wd%3AQ1959369%0A%20%20%20%20%20%20%20%20%20%20%20%20%20%20%20%20%20%20%20%20%20%20%20%20wd%3AQ3047711%0A%20%20%20%20%20%20%20%20%20%20%20%20%20%20%20%20%20%20%20%20%20%20%20%20wd%3AQ3022660%0A%20%20%20%20%20%20%20%20%20%20%20%20%20%20%20%20%20%20%20%20%20%20%20%20wd%3AQ551648%0A%20%20%20%20%20%20%20%20%20%20%20%20%20%20%20%20%20%20%20%20%20%20%20%20wd%3AQ704649%0A%20%20%20%20%20%20%20%20%20%20%20%20%20%20%20%20%20%20%20%20%20%20%20%20wd%3AQ2826417%0A%20%20%20%20%20%20%20%20%20%20%20%20%20%20%20%20%20%20%20%20%20%20%20%20wd%3AQ3302715%0A%20%20%20%20%20%20%20%20%20%20%20%20%20%20%20%20%20%20%20%20%20%20%20%20wd%3AQ337628%7D%0A%20%20%23Chercher%20les%20tombes%20du%20cimeti%C3%A8re%20montparnasse%20%20%20%20%20%20%20%20%20%20%20%20%20%20%20%20%20%20%20%20%20%20%0A%20%20%3Ftombe%20wdt%3AP361%20wd%3AQ272208%3B%0A%20%20%20%20%20%20%20%20%20wdt%3AP547%20%3Ftombe_de.%20%20%20%20%20%20%20%20%0A%20%20%23Prendre%20les%20tombes%20voulues%0A%20%20filter%20(%3Ftombe_de%20%3D%3Fcommunard%20%7C%7C%20%3Ftombe_de%3D%3Fpersonnalite)%0A%20%20%0A%20%20OPTIONAL%20%7B%3Ftombe%20wdt%3AP18%20%3Fimage_Tombe.%7D%0A%20%20OPTIONAL%20%7B%3Ftombe%20wdt%3AP625%20%3Fcoordonn%C3%A9es.%7D%0A%20%20OPTIONAL%20%7B%3Ftombe_de%20wdt%3AP18%20%3Fimage_personne.%7D%0A%20%20%0A%7D\" \n",
       "referrerpolicy=\"origin\" \n",
       "sandbox=\"allow-scripts allow-same-origin allow-popups\">\n",
       "</iframe>\n"
      ],
      "text/plain": [
       "<IPython.core.display.HTML object>"
      ]
     },
     "metadata": {},
     "output_type": "display_data"
    }
   ],
   "source": [
    "%%HTML\n",
    "<iframe style=\"width: 95%; height: 75vh; border: none;\" \n",
    "src=\"https://query.wikidata.org/embed.html#%23defaultView%3AMap%0ASELECT%20Distinct%20%3Ftombe%20%3FtombeLabel%20%3Fimage_Tombe%20%3Fcoordonn%C3%A9es%20%3Ftombe_deLabel%20%3Fimage_personne%20WHERE%20%7B%0A%20%20SERVICE%20wikibase%3Alabel%20%7B%20bd%3AserviceParam%20wikibase%3Alanguage%20%22%5BAUTO_LANGUAGE%5D%2Cen%22.%20%7D%0A%20%20%0A%20%20%23Qui%2C%20les%20communard-e-s%20et%20la%20liste%20des%20personnes%20lors%20de%20la%20c%C3%A9r%C3%A9monie%0A%20%20%3Fcommunard%20wdt%3AP106%20wd%3AQ1780490%3B%0A%20%20%20%20%20%20%20%20%20%20%20%20%20wdt%3AP119%20wd%3AQ272208.%0A%20%20Values%20%3Fpersonnalite%20%7Bwd%3AQ313709%20%0A%20%20%20%20%20%20%20%20%20%20%20%20%20%20%20%20%20%20%20%20%20%20%20%20wd%3AQ61897268%20%0A%20%20%20%20%20%20%20%20%20%20%20%20%20%20%20%20%20%20%20%20%20%20%20%20wd%3AQ5749%0A%20%20%20%20%20%20%20%20%20%20%20%20%20%20%20%20%20%20%20%20%20%20%20%20wd%3AQ1959369%0A%20%20%20%20%20%20%20%20%20%20%20%20%20%20%20%20%20%20%20%20%20%20%20%20wd%3AQ3047711%0A%20%20%20%20%20%20%20%20%20%20%20%20%20%20%20%20%20%20%20%20%20%20%20%20wd%3AQ3022660%0A%20%20%20%20%20%20%20%20%20%20%20%20%20%20%20%20%20%20%20%20%20%20%20%20wd%3AQ551648%0A%20%20%20%20%20%20%20%20%20%20%20%20%20%20%20%20%20%20%20%20%20%20%20%20wd%3AQ704649%0A%20%20%20%20%20%20%20%20%20%20%20%20%20%20%20%20%20%20%20%20%20%20%20%20wd%3AQ2826417%0A%20%20%20%20%20%20%20%20%20%20%20%20%20%20%20%20%20%20%20%20%20%20%20%20wd%3AQ3302715%0A%20%20%20%20%20%20%20%20%20%20%20%20%20%20%20%20%20%20%20%20%20%20%20%20wd%3AQ337628%7D%0A%20%20%23Chercher%20les%20tombes%20du%20cimeti%C3%A8re%20montparnasse%20%20%20%20%20%20%20%20%20%20%20%20%20%20%20%20%20%20%20%20%20%20%0A%20%20%3Ftombe%20wdt%3AP361%20wd%3AQ272208%3B%0A%20%20%20%20%20%20%20%20%20wdt%3AP547%20%3Ftombe_de.%20%20%20%20%20%20%20%20%0A%20%20%23Prendre%20les%20tombes%20voulues%0A%20%20filter%20(%3Ftombe_de%20%3D%3Fcommunard%20%7C%7C%20%3Ftombe_de%3D%3Fpersonnalite)%0A%20%20%0A%20%20OPTIONAL%20%7B%3Ftombe%20wdt%3AP18%20%3Fimage_Tombe.%7D%0A%20%20OPTIONAL%20%7B%3Ftombe%20wdt%3AP625%20%3Fcoordonn%C3%A9es.%7D%0A%20%20OPTIONAL%20%7B%3Ftombe_de%20wdt%3AP18%20%3Fimage_personne.%7D%0A%20%20%0A%7D\" \n",
    "referrerpolicy=\"origin\" \n",
    "sandbox=\"allow-scripts allow-same-origin allow-popups\">\n",
    "</iframe>"
   ]
  },
  {
   "cell_type": "markdown",
   "metadata": {
    "hideCode": false,
    "hidePrompt": false
   },
   "source": [
    "### Cimetière du Père la Chaise\n",
    "Cartes des tombes de communard·e·s ou de personnes ayant un lien avec la Commune dans le cimetière du Père-Lahaise (Q311)."
   ]
  },
  {
   "cell_type": "markdown",
   "metadata": {
    "hideCode": false,
    "hidePrompt": false
   },
   "source": [
    "```\n",
    "#defaultView:Map\n",
    "SELECT Distinct ?tombe ?tombeLabel ?image_Tombe ?coordonnées ?tombe_deLabel ?image_personne WHERE {\n",
    "  SERVICE wikibase:label { bd:serviceParam wikibase:language \"[AUTO_LANGUAGE],en\". }\n",
    "  \n",
    "  #Qui, les communard-e-s\n",
    "  ?communard wdt:P106 wd:Q1780490;\n",
    "             wdt:P119 wd:Q311.\n",
    "\n",
    "  #Chercher les tombes du cimetière montparnasse                      \n",
    "  ?tombe wdt:P276 ?lieu;\n",
    "         wdt:P547 ?tombe_de. \n",
    "  \n",
    "  ?lieu wdt:P361 wd:Q311.\n",
    "        \n",
    "  #Prendre les tombes voulues\n",
    "  filter (?tombe_de =?communard)\n",
    "  \n",
    "  OPTIONAL {?tombe wdt:P18 ?image_Tombe.}\n",
    "  OPTIONAL {?tombe wdt:P625 ?coordonnées.}\n",
    "  OPTIONAL {?tombe_de wdt:P18 ?image_personne.}\n",
    "  \n",
    "}\n",
    "```"
   ]
  },
  {
   "cell_type": "code",
   "execution_count": 31,
   "metadata": {
    "hideCode": true,
    "hidePrompt": true,
    "scrolled": false
   },
   "outputs": [
    {
     "data": {
      "text/html": [
       "<iframe style=\"width: 95%; height: 50vh; border: none;\" \n",
       "src=\"https://query.wikidata.org/embed.html#%23defaultView%3AMap%0ASELECT%20Distinct%20%3Ftombe%20%3FtombeLabel%20%3Fimage_Tombe%20%3Fcoordonn%C3%A9es%20%3Ftombe_deLabel%20%3Fimage_personne%20WHERE%20%7B%0A%20%20SERVICE%20wikibase%3Alabel%20%7B%20bd%3AserviceParam%20wikibase%3Alanguage%20%22%5BAUTO_LANGUAGE%5D%2Cen%22.%20%7D%0A%20%20%0A%20%20%23Qui%2C%20les%20communard-e-s%0A%20%20%3Fcommunard%20wdt%3AP106%20wd%3AQ1780490%3B%0A%20%20%20%20%20%20%20%20%20%20%20%20%20wdt%3AP119%20wd%3AQ311.%0A%0A%20%20%23Chercher%20les%20tombes%20du%20cimeti%C3%A8re%20montparnasse%20%20%20%20%20%20%20%20%20%20%20%20%20%20%20%20%20%20%20%20%20%20%0A%20%20%3Ftombe%20wdt%3AP276%20%3Flieu%3B%0A%20%20%20%20%20%20%20%20%20wdt%3AP547%20%3Ftombe_de.%20%0A%20%20%0A%20%20%3Flieu%20wdt%3AP361%20wd%3AQ311.%0A%20%20%20%20%20%20%20%20%0A%20%20%23Prendre%20les%20tombes%20voulues%0A%20%20filter%20(%3Ftombe_de%20%3D%3Fcommunard)%0A%20%20%0A%20%20OPTIONAL%20%7B%3Ftombe%20wdt%3AP18%20%3Fimage_Tombe.%7D%0A%20%20OPTIONAL%20%7B%3Ftombe%20wdt%3AP625%20%3Fcoordonn%C3%A9es.%7D%0A%20%20OPTIONAL%20%7B%3Ftombe_de%20wdt%3AP18%20%3Fimage_personne.%7D%0A%20%20%0A%7D%0A\"referrerpolicy=\"origin\" \n",
       "sandbox=\"allow-scripts allow-same-origin allow-popups\">\n",
       "</iframe>\n"
      ],
      "text/plain": [
       "<IPython.core.display.HTML object>"
      ]
     },
     "metadata": {},
     "output_type": "display_data"
    }
   ],
   "source": [
    "%%HTML\n",
    "<iframe style=\"width: 95%; height: 50vh; border: none;\" \n",
    "src=\"https://query.wikidata.org/embed.html#%23defaultView%3AMap%0ASELECT%20Distinct%20%3Ftombe%20%3FtombeLabel%20%3Fimage_Tombe%20%3Fcoordonn%C3%A9es%20%3Ftombe_deLabel%20%3Fimage_personne%20WHERE%20%7B%0A%20%20SERVICE%20wikibase%3Alabel%20%7B%20bd%3AserviceParam%20wikibase%3Alanguage%20%22%5BAUTO_LANGUAGE%5D%2Cen%22.%20%7D%0A%20%20%0A%20%20%23Qui%2C%20les%20communard-e-s%0A%20%20%3Fcommunard%20wdt%3AP106%20wd%3AQ1780490%3B%0A%20%20%20%20%20%20%20%20%20%20%20%20%20wdt%3AP119%20wd%3AQ311.%0A%0A%20%20%23Chercher%20les%20tombes%20du%20cimeti%C3%A8re%20montparnasse%20%20%20%20%20%20%20%20%20%20%20%20%20%20%20%20%20%20%20%20%20%20%0A%20%20%3Ftombe%20wdt%3AP276%20%3Flieu%3B%0A%20%20%20%20%20%20%20%20%20wdt%3AP547%20%3Ftombe_de.%20%0A%20%20%0A%20%20%3Flieu%20wdt%3AP361%20wd%3AQ311.%0A%20%20%20%20%20%20%20%20%0A%20%20%23Prendre%20les%20tombes%20voulues%0A%20%20filter%20(%3Ftombe_de%20%3D%3Fcommunard)%0A%20%20%0A%20%20OPTIONAL%20%7B%3Ftombe%20wdt%3AP18%20%3Fimage_Tombe.%7D%0A%20%20OPTIONAL%20%7B%3Ftombe%20wdt%3AP625%20%3Fcoordonn%C3%A9es.%7D%0A%20%20OPTIONAL%20%7B%3Ftombe_de%20wdt%3AP18%20%3Fimage_personne.%7D%0A%20%20%0A%7D%0A\"referrerpolicy=\"origin\" \n",
    "sandbox=\"allow-scripts allow-same-origin allow-popups\">\n",
    "</iframe>\n"
   ]
  },
  {
   "cell_type": "markdown",
   "metadata": {
    "hideCode": false,
    "hidePrompt": false
   },
   "source": [
    "## Une chronologie de la Commune"
   ]
  },
  {
   "cell_type": "markdown",
   "metadata": {
    "hideCode": false,
    "hidePrompt": false
   },
   "source": [
    "Pour tous les éléments faisant partie de (P361) la Commune, affiche leurs dates connues.\n",
    "Idem pour les communard·e·s.\n",
    "\n",
    "De ce tableau ou peut faire une frise chronologique."
   ]
  },
  {
   "cell_type": "markdown",
   "metadata": {
    "hideCode": false,
    "hidePrompt": false
   },
   "source": [
    "```\n",
    "SELECT \n",
    "?Commune_de_Paris ?Commune_de_ParisLabel ?date ?date_de_début ?date_de_fin\n",
    "?Communard_ou_communarde ?Communard_ou_communardeLabel ?date_deces\n",
    "WHERE {\n",
    "  SERVICE wikibase:label { bd:serviceParam wikibase:language \"[AUTO_LANGUAGE],en\". }\n",
    "  {\n",
    "    # Partie de la Commune\n",
    "    ?Commune_de_Paris wdt:P361 wd:Q133132.\n",
    "  OPTIONAL { ?Commune_de_Paris wdt:P585 ?date. }\n",
    "  OPTIONAL { ?Commune_de_Paris wdt:P580 ?date_de_début. }\n",
    "  OPTIONAL { ?Commune_de_Paris wdt:P582 ?date_de_fin. }\n",
    "    }\n",
    "  Union\n",
    "  {\n",
    "  # Communard-e-s\n",
    "  ?Communard_ou_communarde wdt:P106 wd:Q1780490;\n",
    "                           wdt:P570 ?date_deces.\n",
    "    FILTER (year(?date_deces)<1872)\n",
    "    }\n",
    "}\n",
    "```"
   ]
  },
  {
   "cell_type": "code",
   "execution_count": 32,
   "metadata": {
    "hideCode": true,
    "hidePrompt": true
   },
   "outputs": [
    {
     "data": {
      "text/html": [
       "<iframe style=\"width: 95%; height: 50vh; border: none;\" \n",
       "src=\"https://query.wikidata.org/embed.html#SELECT%20%0A%3FCommune_de_Paris%20%3FCommune_de_ParisLabel%20%3Fdate%20%3Fdate_de_d%C3%A9but%20%3Fdate_de_fin%0A%3FCommunard_ou_communarde%20%3FCommunard_ou_communardeLabel%20%3Fdate_deces%0AWHERE%20%7B%0A%20%20SERVICE%20wikibase%3Alabel%20%7B%20bd%3AserviceParam%20wikibase%3Alanguage%20%22%5BAUTO_LANGUAGE%5D%2Cen%22.%20%7D%0A%20%20%23%20Partie%20de%20la%20Commune%0A%20%20%7B%0A%20%20%20%20%3FCommune_de_Paris%20wdt%3AP361%20wd%3AQ133132.%0A%20%20OPTIONAL%20%7B%20%3FCommune_de_Paris%20wdt%3AP585%20%3Fdate.%20%7D%0A%20%20OPTIONAL%20%7B%20%3FCommune_de_Paris%20wdt%3AP580%20%3Fdate_de_d%C3%A9but.%20%7D%0A%20%20OPTIONAL%20%7B%20%3FCommune_de_Paris%20wdt%3AP582%20%3Fdate_de_fin.%20%7D%0A%20%20%20%20%7D%0A%20%20Union%0A%20%20%7B%0A%20%20%23%20Communard-e-s%0A%20%20%3FCommunard_ou_communarde%20wdt%3AP106%20wd%3AQ1780490%3B%0A%20%20%20%20%20%20%20%20%20%20%20%20%20%20%20%20%20%20%20%20%20%20%20%20%20%20%20wdt%3AP570%20%3Fdate_deces.%0A%20%20%20%20FILTER%20(year(%3Fdate_deces)%3C1872)%0A%20%20%20%20%7D%0A%7D%0A\" \n",
       "referrerpolicy=\"origin\" sandbox=\"allow-scripts allow-same-origin allow-popups\">\n",
       "</iframe>\n"
      ],
      "text/plain": [
       "<IPython.core.display.HTML object>"
      ]
     },
     "metadata": {},
     "output_type": "display_data"
    }
   ],
   "source": [
    "%%HTML\n",
    "<iframe style=\"width: 95%; height: 50vh; border: none;\" \n",
    "src=\"https://query.wikidata.org/embed.html#SELECT%20%0A%3FCommune_de_Paris%20%3FCommune_de_ParisLabel%20%3Fdate%20%3Fdate_de_d%C3%A9but%20%3Fdate_de_fin%0A%3FCommunard_ou_communarde%20%3FCommunard_ou_communardeLabel%20%3Fdate_deces%0AWHERE%20%7B%0A%20%20SERVICE%20wikibase%3Alabel%20%7B%20bd%3AserviceParam%20wikibase%3Alanguage%20%22%5BAUTO_LANGUAGE%5D%2Cen%22.%20%7D%0A%20%20%23%20Partie%20de%20la%20Commune%0A%20%20%7B%0A%20%20%20%20%3FCommune_de_Paris%20wdt%3AP361%20wd%3AQ133132.%0A%20%20OPTIONAL%20%7B%20%3FCommune_de_Paris%20wdt%3AP585%20%3Fdate.%20%7D%0A%20%20OPTIONAL%20%7B%20%3FCommune_de_Paris%20wdt%3AP580%20%3Fdate_de_d%C3%A9but.%20%7D%0A%20%20OPTIONAL%20%7B%20%3FCommune_de_Paris%20wdt%3AP582%20%3Fdate_de_fin.%20%7D%0A%20%20%20%20%7D%0A%20%20Union%0A%20%20%7B%0A%20%20%23%20Communard-e-s%0A%20%20%3FCommunard_ou_communarde%20wdt%3AP106%20wd%3AQ1780490%3B%0A%20%20%20%20%20%20%20%20%20%20%20%20%20%20%20%20%20%20%20%20%20%20%20%20%20%20%20wdt%3AP570%20%3Fdate_deces.%0A%20%20%20%20FILTER%20(year(%3Fdate_deces)%3C1872)%0A%20%20%20%20%7D%0A%7D%0A\" \n",
    "referrerpolicy=\"origin\" sandbox=\"allow-scripts allow-same-origin allow-popups\">\n",
    "</iframe>"
   ]
  },
  {
   "cell_type": "markdown",
   "metadata": {
    "hideCode": false,
    "hidePrompt": false
   },
   "source": [
    "### version étendue\n",
    "avec commune, semaine sanglante, campagne de l'intérieur"
   ]
  },
  {
   "cell_type": "markdown",
   "metadata": {
    "hideCode": false,
    "hidePrompt": false
   },
   "source": [
    "```\n",
    "SELECT distinct\n",
    "?Commune_de_Paris ?Commune_de_ParisLabel ?date ?date_de_début ?date_de_fin ?date_de_publication\n",
    "?Communard_ou_communarde ?Communard_ou_communardeLabel ?date_deces\n",
    "WHERE {\n",
    "  SERVICE wikibase:label { bd:serviceParam wikibase:language \"[AUTO_LANGUAGE],en\". }\n",
    "  values ?periodes {wd:Q133132 #commune de Paris\n",
    "          wd:Q3478362 #semaine sanglante\n",
    "          wd:Q47007501 #campagne de l'intérieur\n",
    "          }\n",
    "          \n",
    "  {\n",
    "    # Partie de la Commune\n",
    "    ?Commune_de_Paris wdt:P361 ?periodes\n",
    "  OPTIONAL { ?Commune_de_Paris wdt:P585 ?date. }\n",
    "  OPTIONAL { ?Commune_de_Paris wdt:P580 ?date_de_début. }\n",
    "  OPTIONAL { ?Commune_de_Paris wdt:P582 ?date_de_fin. }\n",
    "  OPTIONAL { ?Commune_de_Paris wdt:P577 ?date_de_publication.}\n",
    "    }\n",
    "  Union\n",
    "  {\n",
    "  # Communard-e-s\n",
    "  ?Communard_ou_communarde wdt:P106 wd:Q1780490;\n",
    "                           wdt:P570 ?date_deces.\n",
    "    FILTER (year(?date_deces)<1872)\n",
    "    }\n",
    "}\n",
    "```"
   ]
  },
  {
   "cell_type": "code",
   "execution_count": 33,
   "metadata": {
    "hideCode": true,
    "hidePrompt": true
   },
   "outputs": [
    {
     "data": {
      "text/html": [
       "<iframe style=\"width: 95%; height: 50vh; border: none;\" \n",
       "src=\"https://query.wikidata.org/embed.html#SELECT%20distinct%0A%3FCommune_de_Paris%20%3FCommune_de_ParisLabel%20%3Fdate%20%3Fdate_de_d%C3%A9but%20%3Fdate_de_fin%20%3Fdate_de_publication%0A%3FCommunard_ou_communarde%20%3FCommunard_ou_communardeLabel%20%3Fdate_deces%0AWHERE%20%7B%0A%20%20SERVICE%20wikibase%3Alabel%20%7B%20bd%3AserviceParam%20wikibase%3Alanguage%20%22%5BAUTO_LANGUAGE%5D%2Cen%22.%20%7D%0A%20%20values%20%3Fperiodes%20%7Bwd%3AQ133132%20%23commune%20de%20Paris%0A%20%20%20%20%20%20%20%20%20%20wd%3AQ3478362%20%23semaine%20sanglante%0A%20%20%20%20%20%20%20%20%20%20wd%3AQ47007501%20%23campagne%20de%20l'int%C3%A9rieur%0A%20%20%20%20%20%20%20%20%20%20%7D%0A%20%20%20%20%20%20%20%20%20%20%0A%20%20%7B%0A%20%20%20%20%23%20Partie%20de%20la%20Commune%0A%20%20%20%20%3FCommune_de_Paris%20wdt%3AP361%20%3Fperiodes%0A%20%20OPTIONAL%20%7B%20%3FCommune_de_Paris%20wdt%3AP585%20%3Fdate.%20%7D%0A%20%20OPTIONAL%20%7B%20%3FCommune_de_Paris%20wdt%3AP580%20%3Fdate_de_d%C3%A9but.%20%7D%0A%20%20OPTIONAL%20%7B%20%3FCommune_de_Paris%20wdt%3AP582%20%3Fdate_de_fin.%20%7D%0A%20%20OPTIONAL%20%7B%20%3FCommune_de_Paris%20wdt%3AP577%20%3Fdate_de_publication.%7D%0A%20%20%20%20%7D%0A%20%20Union%0A%20%20%7B%0A%20%20%23%20Communard-e-s%0A%20%20%3FCommunard_ou_communarde%20wdt%3AP106%20wd%3AQ1780490%3B%0A%20%20%20%20%20%20%20%20%20%20%20%20%20%20%20%20%20%20%20%20%20%20%20%20%20%20%20wdt%3AP570%20%3Fdate_deces.%0A%20%20%20%20FILTER%20(year(%3Fdate_deces)%3C1872)%0A%20%20%20%20%7D%0A%7D%0A\" \n",
       "referrerpolicy=\"origin\" sandbox=\"allow-scripts allow-same-origin allow-popups\">\n",
       "</iframe>\n"
      ],
      "text/plain": [
       "<IPython.core.display.HTML object>"
      ]
     },
     "metadata": {},
     "output_type": "display_data"
    }
   ],
   "source": [
    "%%HTML\n",
    "<iframe style=\"width: 95%; height: 50vh; border: none;\" \n",
    "src=\"https://query.wikidata.org/embed.html#SELECT%20distinct%0A%3FCommune_de_Paris%20%3FCommune_de_ParisLabel%20%3Fdate%20%3Fdate_de_d%C3%A9but%20%3Fdate_de_fin%20%3Fdate_de_publication%0A%3FCommunard_ou_communarde%20%3FCommunard_ou_communardeLabel%20%3Fdate_deces%0AWHERE%20%7B%0A%20%20SERVICE%20wikibase%3Alabel%20%7B%20bd%3AserviceParam%20wikibase%3Alanguage%20%22%5BAUTO_LANGUAGE%5D%2Cen%22.%20%7D%0A%20%20values%20%3Fperiodes%20%7Bwd%3AQ133132%20%23commune%20de%20Paris%0A%20%20%20%20%20%20%20%20%20%20wd%3AQ3478362%20%23semaine%20sanglante%0A%20%20%20%20%20%20%20%20%20%20wd%3AQ47007501%20%23campagne%20de%20l'int%C3%A9rieur%0A%20%20%20%20%20%20%20%20%20%20%7D%0A%20%20%20%20%20%20%20%20%20%20%0A%20%20%7B%0A%20%20%20%20%23%20Partie%20de%20la%20Commune%0A%20%20%20%20%3FCommune_de_Paris%20wdt%3AP361%20%3Fperiodes%0A%20%20OPTIONAL%20%7B%20%3FCommune_de_Paris%20wdt%3AP585%20%3Fdate.%20%7D%0A%20%20OPTIONAL%20%7B%20%3FCommune_de_Paris%20wdt%3AP580%20%3Fdate_de_d%C3%A9but.%20%7D%0A%20%20OPTIONAL%20%7B%20%3FCommune_de_Paris%20wdt%3AP582%20%3Fdate_de_fin.%20%7D%0A%20%20OPTIONAL%20%7B%20%3FCommune_de_Paris%20wdt%3AP577%20%3Fdate_de_publication.%7D%0A%20%20%20%20%7D%0A%20%20Union%0A%20%20%7B%0A%20%20%23%20Communard-e-s%0A%20%20%3FCommunard_ou_communarde%20wdt%3AP106%20wd%3AQ1780490%3B%0A%20%20%20%20%20%20%20%20%20%20%20%20%20%20%20%20%20%20%20%20%20%20%20%20%20%20%20wdt%3AP570%20%3Fdate_deces.%0A%20%20%20%20FILTER%20(year(%3Fdate_deces)%3C1872)%0A%20%20%20%20%7D%0A%7D%0A\" \n",
    "referrerpolicy=\"origin\" sandbox=\"allow-scripts allow-same-origin allow-popups\">\n",
    "</iframe>"
   ]
  },
  {
   "cell_type": "markdown",
   "metadata": {
    "hideCode": false,
    "hidePrompt": false
   },
   "source": [
    "## Les affiches"
   ]
  },
  {
   "cell_type": "markdown",
   "metadata": {
    "hideCode": false,
    "hidePrompt": false
   },
   "source": [
    "```\n",
    "SELECT ?affiche ?afficheLabel ?date_de_publication ?image WHERE {\n",
    "  SERVICE wikibase:label { bd:serviceParam wikibase:language \"[AUTO_LANGUAGE],en\". }\n",
    "  ?affiche wdt:P31 wd:Q429785.\n",
    "  {?affiche wdt:P361 wd:Q690489.}\n",
    "  Union {?affiche wdt:P361 wd:Q133132}\n",
    "  OPTIONAL { ?affiche wdt:P577 ?date_de_publication. }\n",
    "  OPTIONAL { ?affiche wdt:P18 ?image. }\n",
    "}\n",
    "```"
   ]
  },
  {
   "cell_type": "code",
   "execution_count": 34,
   "metadata": {
    "hideCode": true,
    "hidePrompt": true
   },
   "outputs": [
    {
     "data": {
      "text/html": [
       "<iframe style=\"width: 95%; height: 50vh; border: none;\" \n",
       "src=\"https://query.wikidata.org/embed.html#SELECT%20%3Faffiche%20%3FafficheLabel%20%3Fdate_de_publication%20%3Fimage%20WHERE%20%7B%0A%20%20SERVICE%20wikibase%3Alabel%20%7B%20bd%3AserviceParam%20wikibase%3Alanguage%20%22%5BAUTO_LANGUAGE%5D%2Cen%22.%20%7D%0A%20%20%3Faffiche%20wdt%3AP31%20wd%3AQ429785.%0A%20%20%7B%3Faffiche%20wdt%3AP361%20wd%3AQ690489.%7D%0A%20%20Union%20%7B%3Faffiche%20wdt%3AP361%20wd%3AQ133132%7D%0A%20%20OPTIONAL%20%7B%20%3Faffiche%20wdt%3AP577%20%3Fdate_de_publication.%20%7D%0A%20%20OPTIONAL%20%7B%20%3Faffiche%20wdt%3AP18%20%3Fimage.%20%7D%0A%7D%0A\" \n",
       "referrerpolicy=\"origin\" sandbox=\"allow-scripts allow-same-origin allow-popups\">\n",
       "</iframe>\n"
      ],
      "text/plain": [
       "<IPython.core.display.HTML object>"
      ]
     },
     "metadata": {},
     "output_type": "display_data"
    }
   ],
   "source": [
    "%%HTML\n",
    "<iframe style=\"width: 95%; height: 50vh; border: none;\" \n",
    "src=\"https://query.wikidata.org/embed.html#SELECT%20%3Faffiche%20%3FafficheLabel%20%3Fdate_de_publication%20%3Fimage%20WHERE%20%7B%0A%20%20SERVICE%20wikibase%3Alabel%20%7B%20bd%3AserviceParam%20wikibase%3Alanguage%20%22%5BAUTO_LANGUAGE%5D%2Cen%22.%20%7D%0A%20%20%3Faffiche%20wdt%3AP31%20wd%3AQ429785.%0A%20%20%7B%3Faffiche%20wdt%3AP361%20wd%3AQ690489.%7D%0A%20%20Union%20%7B%3Faffiche%20wdt%3AP361%20wd%3AQ133132%7D%0A%20%20OPTIONAL%20%7B%20%3Faffiche%20wdt%3AP577%20%3Fdate_de_publication.%20%7D%0A%20%20OPTIONAL%20%7B%20%3Faffiche%20wdt%3AP18%20%3Fimage.%20%7D%0A%7D%0A\" \n",
    "referrerpolicy=\"origin\" sandbox=\"allow-scripts allow-same-origin allow-popups\">\n",
    "</iframe>"
   ]
  },
  {
   "cell_type": "markdown",
   "metadata": {
    "hideCode": false,
    "hidePrompt": false
   },
   "source": [
    "## Les barricades"
   ]
  },
  {
   "cell_type": "markdown",
   "metadata": {
    "hideCode": false,
    "hidePrompt": false
   },
   "source": [
    "```\n",
    "SELECT ?barricade ?barricadeLabel ?coordonnées_géographiques ?image ?catégorie_Commons ?date_de_début ?date_de_fin WHERE {\n",
    "  SERVICE wikibase:label { bd:serviceParam wikibase:language \"[AUTO_LANGUAGE],en\". }\n",
    "  ?barricade wdt:P31 wd:Q81715;\n",
    "    wdt:P361 wd:Q133132.\n",
    "  OPTIONAL { ?barricade wdt:P625 ?coordonnées_géographiques. }\n",
    "  OPTIONAL { ?barricade wdt:P18 ?image. }\n",
    "  OPTIONAL { ?barricade wdt:P373 ?catégorie_Commons. }\n",
    "  OPTIONAL { ?barricade wdt:P580 ?date_de_début. }\n",
    "  OPTIONAL { ?barricade wdt:P582 ?date_de_fin. }\n",
    "}\n",
    "```"
   ]
  },
  {
   "cell_type": "code",
   "execution_count": 35,
   "metadata": {
    "hideCode": true,
    "hidePrompt": true,
    "scrolled": true
   },
   "outputs": [
    {
     "data": {
      "text/html": [
       "<iframe style=\"width: 95%; height: 50vh; border: none;\" \n",
       "src=\"https://query.wikidata.org/embed.html#SELECT%20%3Fbarricade%20%3FbarricadeLabel%20%3Fcoordonn%C3%A9es_g%C3%A9ographiques%20%3Fimage%20%3Fcat%C3%A9gorie_Commons%20%3Fdate_de_d%C3%A9but%20%3Fdate_de_fin%20WHERE%20%7B%0A%20%20SERVICE%20wikibase%3Alabel%20%7B%20bd%3AserviceParam%20wikibase%3Alanguage%20%22%5BAUTO_LANGUAGE%5D%2Cen%22.%20%7D%0A%20%20%3Fbarricade%20wdt%3AP31%20wd%3AQ81715%3B%0A%20%20%20%20wdt%3AP361%20wd%3AQ133132.%0A%20%20OPTIONAL%20%7B%20%3Fbarricade%20wdt%3AP625%20%3Fcoordonn%C3%A9es_g%C3%A9ographiques.%20%7D%0A%20%20OPTIONAL%20%7B%20%3Fbarricade%20wdt%3AP18%20%3Fimage.%20%7D%0A%20%20OPTIONAL%20%7B%20%3Fbarricade%20wdt%3AP373%20%3Fcat%C3%A9gorie_Commons.%20%7D%0A%20%20OPTIONAL%20%7B%20%3Fbarricade%20wdt%3AP580%20%3Fdate_de_d%C3%A9but.%20%7D%0A%20%20OPTIONAL%20%7B%20%3Fbarricade%20wdt%3AP582%20%3Fdate_de_fin.%20%7D%0A%7D%0A\" \n",
       "referrerpolicy=\"origin\" sandbox=\"allow-scripts allow-same-origin allow-popups\">\n",
       "</iframe>\n"
      ],
      "text/plain": [
       "<IPython.core.display.HTML object>"
      ]
     },
     "metadata": {},
     "output_type": "display_data"
    }
   ],
   "source": [
    "%%HTML\n",
    "<iframe style=\"width: 95%; height: 50vh; border: none;\" \n",
    "src=\"https://query.wikidata.org/embed.html#SELECT%20%3Fbarricade%20%3FbarricadeLabel%20%3Fcoordonn%C3%A9es_g%C3%A9ographiques%20%3Fimage%20%3Fcat%C3%A9gorie_Commons%20%3Fdate_de_d%C3%A9but%20%3Fdate_de_fin%20WHERE%20%7B%0A%20%20SERVICE%20wikibase%3Alabel%20%7B%20bd%3AserviceParam%20wikibase%3Alanguage%20%22%5BAUTO_LANGUAGE%5D%2Cen%22.%20%7D%0A%20%20%3Fbarricade%20wdt%3AP31%20wd%3AQ81715%3B%0A%20%20%20%20wdt%3AP361%20wd%3AQ133132.%0A%20%20OPTIONAL%20%7B%20%3Fbarricade%20wdt%3AP625%20%3Fcoordonn%C3%A9es_g%C3%A9ographiques.%20%7D%0A%20%20OPTIONAL%20%7B%20%3Fbarricade%20wdt%3AP18%20%3Fimage.%20%7D%0A%20%20OPTIONAL%20%7B%20%3Fbarricade%20wdt%3AP373%20%3Fcat%C3%A9gorie_Commons.%20%7D%0A%20%20OPTIONAL%20%7B%20%3Fbarricade%20wdt%3AP580%20%3Fdate_de_d%C3%A9but.%20%7D%0A%20%20OPTIONAL%20%7B%20%3Fbarricade%20wdt%3AP582%20%3Fdate_de_fin.%20%7D%0A%7D%0A\" \n",
    "referrerpolicy=\"origin\" sandbox=\"allow-scripts allow-same-origin allow-popups\">\n",
    "</iframe>"
   ]
  },
  {
   "cell_type": "markdown",
   "metadata": {
    "hideCode": false,
    "hidePrompt": false
   },
   "source": [
    "## Elle n'est pas morte"
   ]
  },
  {
   "cell_type": "markdown",
   "metadata": {},
   "source": [
    "### Chansons de la commune et sur la commune"
   ]
  },
  {
   "cell_type": "markdown",
   "metadata": {},
   "source": [
    "#### chansons, oeuvre... par auteur, parolier... \n",
    "A trier/vérifier/compléter"
   ]
  },
  {
   "cell_type": "markdown",
   "metadata": {},
   "source": [
    "```\n",
    "SELECT DISTINCT ?chanson ?chansonLabel ?auteur ?auteurLabel ?date_creation WHERE {\n",
    "  SERVICE wikibase:label { bd:serviceParam wikibase:language \"[AUTO_LANGUAGE],en\". }\n",
    "  VALUES ?nature {\n",
    "    wd:Q105543609\n",
    "    wd:Q3331189\n",
    "  }\n",
    "  ?chanson wdt:P31 ?nature;\n",
    "    (wdt:P921|wdt:P547) wd:Q133132;\n",
    "    wdt:P7937 wd:Q7366.\n",
    "  OPTIONAL { ?chanson (wdt:P50|wdt:P676) ?auteur. }\n",
    "  OPTIONAL { ?chanson wdt:P571 ?date_creation. }\n",
    "}\n",
    "```"
   ]
  },
  {
   "cell_type": "code",
   "execution_count": 1,
   "metadata": {},
   "outputs": [
    {
     "data": {
      "text/html": [
       "<iframe style=\"width: 80vw; height: 50vh; border: none;\" \n",
       "src=\"https://query.wikidata.org/embed.html#SELECT%20DISTINCT%20%3Fchanson%20%3FchansonLabel%20%3Fauteur%20%3FauteurLabel%20%3Fdate_creation%20WHERE%20%7B%0A%20%20SERVICE%20wikibase%3Alabel%20%7B%20bd%3AserviceParam%20wikibase%3Alanguage%20%22%5BAUTO_LANGUAGE%5D%2Cen%22.%20%7D%0A%20%20VALUES%20%3Fnature%20%7B%0A%20%20%20%20wd%3AQ105543609%0A%20%20%20%20wd%3AQ3331189%0A%20%20%7D%0A%20%20%3Fchanson%20wdt%3AP31%20%3Fnature%3B%0A%20%20%20%20(wdt%3AP921%7Cwdt%3AP547)%20wd%3AQ133132%3B%0A%20%20%20%20wdt%3AP7937%20wd%3AQ7366.%0A%20%20OPTIONAL%20%7B%20%3Fchanson%20(wdt%3AP50%7Cwdt%3AP676)%20%3Fauteur.%20%7D%0A%20%20OPTIONAL%20%7B%20%3Fchanson%20wdt%3AP571%20%3Fdate_creation.%20%7D%0A%7D\" \n",
       "referrerpolicy=\"origin\" sandbox=\"allow-scripts allow-same-origin allow-popups\">\n",
       "</iframe>\n"
      ],
      "text/plain": [
       "<IPython.core.display.HTML object>"
      ]
     },
     "metadata": {},
     "output_type": "display_data"
    }
   ],
   "source": [
    "%%HTML\n",
    "<iframe style=\"width: 80vw; height: 50vh; border: none;\" \n",
    "src=\"https://query.wikidata.org/embed.html#SELECT%20DISTINCT%20%3Fchanson%20%3FchansonLabel%20%3Fauteur%20%3FauteurLabel%20%3Fdate_creation%20WHERE%20%7B%0A%20%20SERVICE%20wikibase%3Alabel%20%7B%20bd%3AserviceParam%20wikibase%3Alanguage%20%22%5BAUTO_LANGUAGE%5D%2Cen%22.%20%7D%0A%20%20VALUES%20%3Fnature%20%7B%0A%20%20%20%20wd%3AQ105543609%0A%20%20%20%20wd%3AQ3331189%0A%20%20%7D%0A%20%20%3Fchanson%20wdt%3AP31%20%3Fnature%3B%0A%20%20%20%20(wdt%3AP921%7Cwdt%3AP547)%20wd%3AQ133132%3B%0A%20%20%20%20wdt%3AP7937%20wd%3AQ7366.%0A%20%20OPTIONAL%20%7B%20%3Fchanson%20(wdt%3AP50%7Cwdt%3AP676)%20%3Fauteur.%20%7D%0A%20%20OPTIONAL%20%7B%20%3Fchanson%20wdt%3AP571%20%3Fdate_creation.%20%7D%0A%7D\" \n",
    "referrerpolicy=\"origin\" sandbox=\"allow-scripts allow-same-origin allow-popups\">\n",
    "</iframe>"
   ]
  },
  {
   "cell_type": "markdown",
   "metadata": {},
   "source": [
    "#### Pour consulter les paroles sur wikisources"
   ]
  },
  {
   "cell_type": "markdown",
   "metadata": {},
   "source": [
    "```\n",
    "SELECT DISTINCT ?chanson ?wikisourceSitelink WHERE {\n",
    "  ?wikisourceSitelink schema:isPartOf [ wikibase:wikiGroup \"wikisource\" ];\n",
    "                      schema:inLanguage \"fr\"; #?wikisourceLanguage;\n",
    "                      schema:about ?chanson.\n",
    "  values ?nature{wd:Q105543609 \n",
    "                  wd:Q3331189 }\n",
    "  \n",
    "  ?chanson wdt:P31 ?nature;\n",
    "         wdt:P921 wd:Q133132;\n",
    "         wdt:P7937 wd:Q7366.\n",
    "}\n",
    "```"
   ]
  },
  {
   "cell_type": "code",
   "execution_count": 2,
   "metadata": {},
   "outputs": [
    {
     "data": {
      "text/html": [
       "<iframe style=\"width: 80vw; height: 50vh; border: none;\" \n",
       "src=\"https://query.wikidata.org/embed.html#SELECT%20DISTINCT%20%3Fchanson%20%3FwikisourceSitelink%20WHERE%20%7B%0A%20%20%3FwikisourceSitelink%20schema%3AisPartOf%20%5B%20wikibase%3AwikiGroup%20%22wikisource%22%20%5D%3B%0A%20%20%20%20%20%20%20%20%20%20%20%20%20%20%20%20%20%20%20%20%20%20schema%3AinLanguage%20%22fr%22%3B%20%23%3FwikisourceLanguage%3B%0A%20%20%20%20%20%20%20%20%20%20%20%20%20%20%20%20%20%20%20%20%20%20schema%3Aabout%20%3Fchanson.%0A%20%20values%20%3Fnature%7Bwd%3AQ105543609%20%0A%20%20%20%20%20%20%20%20%20%20%20%20%20%20%20%20%20%20wd%3AQ3331189%20%7D%0A%20%20%0A%20%20%3Fchanson%20wdt%3AP31%20%3Fnature%3B%0A%20%20%20%20%20%20%20%20%20wdt%3AP921%20wd%3AQ133132%3B%0A%20%20%20%20%20%20%20%20%20wdt%3AP7937%20wd%3AQ7366.%0A%7D%0A\" \n",
       "referrerpolicy=\"origin\" sandbox=\"allow-scripts allow-same-origin allow-popups\">\n",
       "</iframe>\n"
      ],
      "text/plain": [
       "<IPython.core.display.HTML object>"
      ]
     },
     "metadata": {},
     "output_type": "display_data"
    }
   ],
   "source": [
    "%%HTML\n",
    "<iframe style=\"width: 80vw; height: 50vh; border: none;\" \n",
    "src=\"https://query.wikidata.org/embed.html#SELECT%20DISTINCT%20%3Fchanson%20%3FwikisourceSitelink%20WHERE%20%7B%0A%20%20%3FwikisourceSitelink%20schema%3AisPartOf%20%5B%20wikibase%3AwikiGroup%20%22wikisource%22%20%5D%3B%0A%20%20%20%20%20%20%20%20%20%20%20%20%20%20%20%20%20%20%20%20%20%20schema%3AinLanguage%20%22fr%22%3B%20%23%3FwikisourceLanguage%3B%0A%20%20%20%20%20%20%20%20%20%20%20%20%20%20%20%20%20%20%20%20%20%20schema%3Aabout%20%3Fchanson.%0A%20%20values%20%3Fnature%7Bwd%3AQ105543609%20%0A%20%20%20%20%20%20%20%20%20%20%20%20%20%20%20%20%20%20wd%3AQ3331189%20%7D%0A%20%20%0A%20%20%3Fchanson%20wdt%3AP31%20%3Fnature%3B%0A%20%20%20%20%20%20%20%20%20wdt%3AP921%20wd%3AQ133132%3B%0A%20%20%20%20%20%20%20%20%20wdt%3AP7937%20wd%3AQ7366.%0A%7D%0A\" \n",
    "referrerpolicy=\"origin\" sandbox=\"allow-scripts allow-same-origin allow-popups\">\n",
    "</iframe>"
   ]
  },
  {
   "cell_type": "markdown",
   "metadata": {},
   "source": [
    "### Commémore"
   ]
  },
  {
   "cell_type": "markdown",
   "metadata": {
    "hideCode": false,
    "hidePrompt": false
   },
   "source": [
    ">  commémore (P547)\n",
    "ce que commémore le lieu, le monument, le mémorial, le jour férié"
   ]
  },
  {
   "cell_type": "markdown",
   "metadata": {
    "hideCode": false,
    "hidePrompt": false
   },
   "source": [
    "```\n",
    "SELECT ?Commune_de_Paris ?Commune_de_ParisLabel WHERE {\n",
    "  SERVICE wikibase:label { bd:serviceParam wikibase:language \"[AUTO_LANGUAGE],en\". }\n",
    "  ?Commune_de_Paris wdt:P547 wd:Q133132.\n",
    "}\n",
    "LIMIT 100\n",
    "```"
   ]
  },
  {
   "cell_type": "code",
   "execution_count": 36,
   "metadata": {
    "hideCode": true,
    "hidePrompt": true
   },
   "outputs": [
    {
     "data": {
      "text/html": [
       "<iframe style=\"width: 95%; height: 50vh; border: none;\" \n",
       "src=\"https://query.wikidata.org/embed.html#SELECT%20%3FCommune_de_Paris%20%3FCommune_de_ParisLabel%20WHERE%20%7B%0A%20%20SERVICE%20wikibase%3Alabel%20%7B%20bd%3AserviceParam%20wikibase%3Alanguage%20%22%5BAUTO_LANGUAGE%5D%2Cen%22.%20%7D%0A%20%20%3FCommune_de_Paris%20wdt%3AP547%20wd%3AQ133132.%0A%7D%0ALIMIT%20100\" \n",
       "referrerpolicy=\"origin\" sandbox=\"allow-scripts allow-same-origin allow-popups\">\n",
       "</iframe>\n"
      ],
      "text/plain": [
       "<IPython.core.display.HTML object>"
      ]
     },
     "metadata": {},
     "output_type": "display_data"
    }
   ],
   "source": [
    "%%HTML\n",
    "<iframe style=\"width: 95%; height: 50vh; border: none;\" \n",
    "src=\"https://query.wikidata.org/embed.html#SELECT%20%3FCommune_de_Paris%20%3FCommune_de_ParisLabel%20WHERE%20%7B%0A%20%20SERVICE%20wikibase%3Alabel%20%7B%20bd%3AserviceParam%20wikibase%3Alanguage%20%22%5BAUTO_LANGUAGE%5D%2Cen%22.%20%7D%0A%20%20%3FCommune_de_Paris%20wdt%3AP547%20wd%3AQ133132.%0A%7D%0ALIMIT%20100\" \n",
    "referrerpolicy=\"origin\" sandbox=\"allow-scripts allow-same-origin allow-popups\">\n",
    "</iframe>"
   ]
  },
  {
   "cell_type": "markdown",
   "metadata": {},
   "source": [
    "### Des expositions"
   ]
  },
  {
   "cell_type": "markdown",
   "metadata": {},
   "source": [
    "```\n",
    "SELECT ?exposition ?expositionLabel WHERE {\n",
    "  SERVICE wikibase:label { bd:serviceParam wikibase:language \"[AUTO_LANGUAGE],en\". }\n",
    "  ?exposition (wdt:P31/wdt:P279) wd:Q464980;\n",
    "    wdt:P921 wd:Q133132.\n",
    "}\n",
    "```"
   ]
  },
  {
   "cell_type": "code",
   "execution_count": 37,
   "metadata": {},
   "outputs": [
    {
     "data": {
      "text/html": [
       "<iframe style=\"width: 95%; height: 50vh; border: none;\" \n",
       "src=\"https://query.wikidata.org/embed.html#SELECT%20%3Fexposition%20%3FexpositionLabel%20WHERE%20%7B%0A%20%20SERVICE%20wikibase%3Alabel%20%7B%20bd%3AserviceParam%20wikibase%3Alanguage%20%22%5BAUTO_LANGUAGE%5D%2Cen%22.%20%7D%0A%20%20%3Fexposition%20(wdt%3AP31%2Fwdt%3AP279)%20wd%3AQ464980%3B%0A%20%20%20%20wdt%3AP921%20wd%3AQ133132.%0A%7D\" \n",
       "referrerpolicy=\"origin\" sandbox=\"allow-scripts allow-same-origin allow-popups\">\n",
       "</iframe>\n"
      ],
      "text/plain": [
       "<IPython.core.display.HTML object>"
      ]
     },
     "metadata": {},
     "output_type": "display_data"
    }
   ],
   "source": [
    "%%HTML\n",
    "<iframe style=\"width: 95%; height: 50vh; border: none;\" \n",
    "src=\"https://query.wikidata.org/embed.html#SELECT%20%3Fexposition%20%3FexpositionLabel%20WHERE%20%7B%0A%20%20SERVICE%20wikibase%3Alabel%20%7B%20bd%3AserviceParam%20wikibase%3Alanguage%20%22%5BAUTO_LANGUAGE%5D%2Cen%22.%20%7D%0A%20%20%3Fexposition%20(wdt%3AP31%2Fwdt%3AP279)%20wd%3AQ464980%3B%0A%20%20%20%20wdt%3AP921%20wd%3AQ133132.%0A%7D\" \n",
    "referrerpolicy=\"origin\" sandbox=\"allow-scripts allow-same-origin allow-popups\">\n",
    "</iframe>"
   ]
  },
  {
   "cell_type": "markdown",
   "metadata": {},
   "source": [
    "## Me contacter\n",
    "- https://github.com/silanoc\n",
    "- silanoc@gmail.com\n",
    "- https://www.linkedin.com/in/gabriel-le-bernard/\n",
    "- mastondon : @Gabrielhle@pouet.chapril.org\n"
   ]
  },
  {
   "cell_type": "code",
   "execution_count": null,
   "metadata": {},
   "outputs": [],
   "source": []
  }
 ],
 "metadata": {
  "celltoolbar": "Hide code",
  "hide_code_all_hidden": false,
  "kernelspec": {
   "display_name": "Python 3 (ipykernel)",
   "language": "python",
   "name": "python3"
  },
  "language_info": {
   "codemirror_mode": {
    "name": "ipython",
    "version": 3
   },
   "file_extension": ".py",
   "mimetype": "text/x-python",
   "name": "python",
   "nbconvert_exporter": "python",
   "pygments_lexer": "ipython3",
   "version": "3.10.6"
  },
  "vscode": {
   "interpreter": {
    "hash": "31f2aee4e71d21fbe5cf8b01ff0e069b9275f58929596ceb00d14d90e3e16cd6"
   }
  }
 },
 "nbformat": 4,
 "nbformat_minor": 2
}
