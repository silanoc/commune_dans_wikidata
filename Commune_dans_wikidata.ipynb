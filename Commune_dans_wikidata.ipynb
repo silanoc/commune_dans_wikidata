{
 "cells": [
  {
   "cell_type": "markdown",
   "metadata": {
    "hideCode": false,
    "hidePrompt": false
   },
   "source": [
    "# La Commune de Paris 1871 en liberté\n",
    "ou La Commune dans Wikidata\n",
    "\n",
    "Ceci est un travail personnel qui utilise des données issues de l'univers wikimédia dont wikipédia, commons, wikidata, wikisources...\n",
    "\n",
    "Pour une même rubrique, il peut y avoir plusieurs pages :\n",
    "- version sparql : cela effectue une requate en directe sur wikidata. C'est le format le plus simple, un peu plus long a charger et compliqué à imprimer. \n",
    "- versin python : un script en python écrit les résultat des requêtes lors de la création de la page, qui ne peut être actualisé que par moi-même rapide, mieux indexable et plus facile à imprimer. Des morceaux de code.\n",
    "- version intégrale : c'est l'export de mon notebook, avec des monceaux de cde, des commentaires... Utile pour les personens qui veulent rentrer dans les détails techniques. \n",
    "\n",
    "## Table des matières\n",
    "\n",
    "- <a href=\"1_introduction.html\">1 - Introduction</a>\n",
    "- <a href=\"2_faire_une_requete_sur_wikidata_en_python.html\">2 - Faire une requête sur wikidata en python</a> Liste de tous les communard·e·s et partie technique\n",
    "- 3 - Portraits de communardes et communards\n",
    "    - <a href=\"3_Portraits_de_communardes_et_communards_sparql.html\">version sparql</a>\n",
    "    - <a href=\"3_Portraits_de_communardes_et_communards_python.html\">version python</a>\n",
    "    - <a href=\"3_Portraits_de_communardes_et_communards_intégrale.html\">version intégrale</a>\n",
    "- 4 - Présentations et statistiques à propos des communard-e-s\n",
    "    - <a href=\"4_Presentations_et_statistiques_a_propos_des_Communard-e-s_sparql.html\">version sparql</a>\n",
    "    - <a href=\"4_Presentations_et_statistiques_a_propos_des_Communard-e-s_python.html\">version python</a>\n",
    "    - <a href=\"4_Presentations_et_statistiques_a_propos_des_Communard-e-s_intégrale.html\">version intégrale</a>\n",
    "- 5 - Les communardes et communards dans des cimetières\n",
    "    - <a href=\"5_Les_communardes_et_communards_dans_des_cimetières_sparql.html\">version sparql</a>\n",
    "    - <a href=\"5_Les_communardes_et_communards_dans_des_cimetières_python.html\">version python</a>\n",
    "    - <a href=\"5_Les_communardes_et_communards_dans_des_cimetières_intégrale.html\">version intégrale</a>\n",
    "- 6 - Une chronologie de la Commune\n",
    "    - <a href=\"6_Une_chronologie_de_la_Commune_sparql.html\">version sparql</a>\n",
    "    - <a href=\"6_Une_chronologie_de_la_Commune_intégrale.html\">version intégral</a>\n",
    "- 7 - Média sur la Commune\n",
    "    - <a href=\"7_Média_sur_la_Commune_sparql.html\">version sparql</a>\n",
    "    - <a href=\"7_Média_sur_la_Commune_python.html\">version python</a>\n",
    "    - <a href=\"7_Média_sur_la_Commune_intégrale.html\">version intégrale</a>"
   ]
  },
  {
   "cell_type": "markdown",
   "metadata": {
    "hide_input": false
   },
   "source": [
    "## Licence\n",
    "\n",
    "Ce travail est sous licence libre plus précisement Creative Commons Attribution - Partage dans les Mêmes Conditions 4.0 International.\n",
    "\n",
    "Il est fait à partir de données libres (diverse licence) et logiciels ou formats libres.\n",
    "Citons python, notebook, makedon, mediawiki...\n",
    "J'autorise la diffusion commerciale pour payer les frais de papier si quelqu'an veut le diffuser en version papier.\n",
    "Par principe, la licence vous autorise à utiliser ce travail sans m'en informer, juste pour ma curiosité, merci de me le signaler.\n",
    "\n",
    "<a rel=\"license\" href=\"http://creativecommons.org/licenses/by-sa/4.0/\"><img alt=\"Licence Creative Commons\" style=\"border-width:0\" src=\"https://i.creativecommons.org/l/by-sa/4.0/88x31.png\" /></a><br />Cette œuvre est mise à disposition selon les termes de la <a rel=\"license\" href=\"http://creativecommons.org/licenses/by-sa/4.0/\">Licence Creative Commons Attribution -  Partage dans les Mêmes Conditions 4.0 International</a>.\n",
    "\n",
    "La version originale du travail et des fichiers liées sont versionnés et héberger sur github. \n",
    "https://github.com/silanoc/commune_dans_wikidata"
   ]
  },
  {
   "cell_type": "code",
   "execution_count": null,
   "metadata": {},
   "outputs": [],
   "source": []
  }
 ],
 "metadata": {
  "celltoolbar": "Hide code",
  "hide_code_all_hidden": false,
  "hide_input": false,
  "kernelspec": {
   "display_name": "Python 3 (ipykernel)",
   "language": "python",
   "name": "python3"
  },
  "language_info": {
   "codemirror_mode": {
    "name": "ipython",
    "version": 3
   },
   "file_extension": ".py",
   "mimetype": "text/x-python",
   "name": "python",
   "nbconvert_exporter": "python",
   "pygments_lexer": "ipython3",
   "version": "3.11.4"
  },
  "toc": {
   "base_numbering": 1,
   "nav_menu": {},
   "number_sections": true,
   "sideBar": true,
   "skip_h1_title": false,
   "title_cell": "Table of Contents",
   "title_sidebar": "Contents",
   "toc_cell": false,
   "toc_position": {
    "height": "calc(100% - 180px)",
    "left": "10px",
    "top": "150px",
    "width": "247px"
   },
   "toc_section_display": true,
   "toc_window_display": false
  },
  "vscode": {
   "interpreter": {
    "hash": "31f2aee4e71d21fbe5cf8b01ff0e069b9275f58929596ceb00d14d90e3e16cd6"
   }
  }
 },
 "nbformat": 4,
 "nbformat_minor": 2
}
