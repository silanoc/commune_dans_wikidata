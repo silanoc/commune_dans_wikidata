{
 "cells": [
  {
   "cell_type": "markdown",
   "metadata": {
    "hideCode": false,
    "hidePrompt": false
   },
   "source": [
    "# La Commune de Paris 1871 en liberté\n",
    "ou La Commune dans Wikidata\n",
    "\n",
    "Ceci est un site personnel qui utilise des données issues de l'univers wikimédia dont wikipédia, commons, wikidata, wikisources..."
   ]
  },
  {
   "cell_type": "code",
   "execution_count": 42,
   "metadata": {
    "hideCode": false,
    "hideOutput": false,
    "hidePrompt": false
   },
   "outputs": [],
   "source": [
    "# pour exporter en html\n",
    "#import plotly.io as pio\n",
    "#pio.renderers.defaut = 'notebook'"
   ]
  },
  {
   "cell_type": "markdown",
   "metadata": {
    "hideCode": false,
    "hidePrompt": false
   },
   "source": [
    "## Table des matières\n",
    "\n",
    "        \n",
    "        Les communardes et communards dans des cimetières\n",
    "            Généralités\n",
    "            Nombre de personne par cimetière\n",
    "                En sparql\n",
    "                En python\n",
    "            Cimetière du Montparnasse\n",
    "            Cimetière du Père la Chaise\n",
    "        Une chronologie de la Commune\n",
    "            version étendue\n",
    "        Les affiches\n",
    "        Les barricades\n",
    "        Bibliographie\n",
    "            En sparql\n",
    "            En python\n",
    "        Elle n'est pas morte\n",
    "            Chansons de la commune et sur la commune\n",
    "                chansons, oeuvre... par auteur, parolier...\n",
    "                Pour consulter les paroles sur wikisources\n",
    "            Commémore\n",
    "                En sparql\n",
    "                En python\n",
    "            Nommé en hommage à\n",
    "                En sparql\n",
    "            Des expositions\n",
    "                En sparql\n",
    "                En python\n",
    "        Remerciment\n",
    "        Licence\n",
    "        Me contacter"
   ]
  },
  {
   "cell_type": "markdown",
   "metadata": {},
   "source": [
    "1_introduction"
   ]
  },
  {
   "cell_type": "markdown",
   "metadata": {
    "hideCode": false,
    "hideOutput": false,
    "hidePrompt": false
   },
   "source": [
    "2_faire_une_requête_sur_wikidata_en_python"
   ]
  },
  {
   "cell_type": "markdown",
   "metadata": {
    "hideCode": false,
    "hidePrompt": false
   },
   "source": [
    "3_Portraits_de_communardes_et_communards\n",
    "\n"
   ]
  },
  {
   "cell_type": "markdown",
   "metadata": {
    "hideCode": false,
    "hidePrompt": false
   },
   "source": [
    "4_Présentations_et_statistiques_à_propos_des_Communard-e-s"
   ]
  },
  {
   "cell_type": "markdown",
   "metadata": {
    "hideCode": false,
    "hidePrompt": false
   },
   "source": [
    "## Les communardes et communards dans des cimetières\n",
    "### Généralités\n",
    "Les communards étant touz* décédæ, c'est notamment dans les cimetières, quand les tombes existent, qu'on peut leur rendre hommage. N'oublions pas que beaucoup sont dans des fossés communes anonymes.\n",
    "\n",
    "En termes de méthode wikidata nous propose la propriété lieu de sépulture (P119). Selon les précisions cela peut être une ville ou un cimetière. Cet élément possède une propriété coordonnées géographiques.\n",
    "\n",
    "Pour certaines personnes, la propriété photo de la sépulture est rempli avec une photo de communs.\n",
    "Pour certaines personnes il existe même un élément pour leur leur tombe. \n",
    "\n",
    "On peut donc connaître le nombre de personnes par cimetière.\n",
    "On peut même les repérer sur un plan.\n",
    "\n",
    "Au 14 janvier seul le cimetière du Montparnasse est \"complet\". Celui du père Lachaise est quasiment finit. Aucun des deux ne prends en compte les monuments collectifs.\n",
    "\n",
    "Pour certain·e·s communard·e·s, le lieu de sépulture (P119) est connu. Pour certain·e·s les coordonnées géographiques de la tombe sont dans wikidata.\n"
   ]
  },
  {
   "cell_type": "markdown",
   "metadata": {
    "hideCode": false,
    "hidePrompt": false
   },
   "source": [
    "> lieu de sépulture (P119)\n",
    "lieu où le corps du sujet est conservé"
   ]
  },
  {
   "cell_type": "markdown",
   "metadata": {
    "hideCode": false,
    "hidePrompt": false
   },
   "source": [
    "### Nombre de personne par cimetière"
   ]
  },
  {
   "cell_type": "markdown",
   "metadata": {
    "hideCode": false,
    "hidePrompt": false
   },
   "source": [
    "```sparql\n",
    "SELECT ?lieu_de_sépulture ?lieu_de_sépultureLabel ?coordonnees (COUNT(*) AS ?count) WHERE {\n",
    "  SERVICE wikibase:label { bd:serviceParam wikibase:language \"fr\". }\n",
    " ?communard_ou_communarde wdt:P106 wd:Q1780490;\n",
    "                           wdt:P119 ?lieu_de_sépulture.\n",
    " ?lieu_de_sépulture wdt:P31/wdt:P279* wd:Q39614;\n",
    "                    wdt:P625 ?coordonnees.\n",
    "}\n",
    "\n",
    "group by ?lieu_de_sépulture ?lieu_de_sépultureLabel ?coordonnees\n",
    "order by desc (?count)\n",
    "```"
   ]
  },
  {
   "cell_type": "markdown",
   "metadata": {},
   "source": [
    "#### En sparql"
   ]
  },
  {
   "cell_type": "code",
   "execution_count": 110,
   "metadata": {
    "hideCode": false,
    "hidePrompt": false
   },
   "outputs": [
    {
     "data": {
      "text/html": [
       "<iframe style=\"width: 95%; height: 50vh; border: none;\" \n",
       "src=\"https://query.wikidata.org/embed.html#SELECT%20%3Flieu_de_s%C3%A9pulture%20%3Flieu_de_s%C3%A9pultureLabel%20%3Fcoordonnees%20(COUNT(*)%20AS%20%3Fcount)%20WHERE%20%7B%0A%20%20SERVICE%20wikibase%3Alabel%20%7B%20bd%3AserviceParam%20wikibase%3Alanguage%20%22%5BAUTO_LANGUAGE%5D%2Cen%22.%20%7D%0A%20%3Fcommunard_ou_communarde%20wdt%3AP106%20wd%3AQ1780490%3B%0A%20%20%20%20%20%20%20%20%20%20%20%20%20%20%20%20%20%20%20%20%20%20%20%20%20%20%20wdt%3AP119%20%3Flieu_de_s%C3%A9pulture.%0A%20%3Flieu_de_s%C3%A9pulture%20wdt%3AP31%2Fwdt%3AP279*%20wd%3AQ39614%3B%0A%20%20%20%20%20%20%20%20%20%20%20%20%20%20%20%20%20%20%20%20wdt%3AP625%20%3Fcoordonnees.%0A%7D%0A%0Agroup%20by%20%3Flieu_de_s%C3%A9pulture%20%3Flieu_de_s%C3%A9pultureLabel%20%3Fcoordonnees%0Aorder%20by%20desc%20(%3Fcount)\" \n",
       "referrerpolicy=\"origin\" sandbox=\"allow-scripts allow-same-origin allow-popups\">\n",
       "</iframe>\n"
      ],
      "text/plain": [
       "<IPython.core.display.HTML object>"
      ]
     },
     "metadata": {},
     "output_type": "display_data"
    }
   ],
   "source": [
    "%%HTML\n",
    "<iframe style=\"width: 95%; height: 50vh; border: none;\" \n",
    "src=\"https://query.wikidata.org/embed.html#SELECT%20%3Flieu_de_s%C3%A9pulture%20%3Flieu_de_s%C3%A9pultureLabel%20%3Fcoordonnees%20(COUNT(*)%20AS%20%3Fcount)%20WHERE%20%7B%0A%20%20SERVICE%20wikibase%3Alabel%20%7B%20bd%3AserviceParam%20wikibase%3Alanguage%20%22%5BAUTO_LANGUAGE%5D%2Cen%22.%20%7D%0A%20%3Fcommunard_ou_communarde%20wdt%3AP106%20wd%3AQ1780490%3B%0A%20%20%20%20%20%20%20%20%20%20%20%20%20%20%20%20%20%20%20%20%20%20%20%20%20%20%20wdt%3AP119%20%3Flieu_de_s%C3%A9pulture.%0A%20%3Flieu_de_s%C3%A9pulture%20wdt%3AP31%2Fwdt%3AP279*%20wd%3AQ39614%3B%0A%20%20%20%20%20%20%20%20%20%20%20%20%20%20%20%20%20%20%20%20wdt%3AP625%20%3Fcoordonnees.%0A%7D%0A%0Agroup%20by%20%3Flieu_de_s%C3%A9pulture%20%3Flieu_de_s%C3%A9pultureLabel%20%3Fcoordonnees%0Aorder%20by%20desc%20(%3Fcount)\" \n",
    "referrerpolicy=\"origin\" sandbox=\"allow-scripts allow-same-origin allow-popups\">\n",
    "</iframe>"
   ]
  },
  {
   "cell_type": "markdown",
   "metadata": {},
   "source": [
    "On peut afficher la carte avec la localisation des différents lieux"
   ]
  },
  {
   "cell_type": "markdown",
   "metadata": {},
   "source": [
    "#### En python"
   ]
  },
  {
   "cell_type": "code",
   "execution_count": 111,
   "metadata": {},
   "outputs": [],
   "source": [
    "query = \"\"\"SELECT ?lieu_de_sépulture ?lieu_de_sépultureLabel ?coordonnees (COUNT(*) AS ?count) WHERE {\n",
    "  SERVICE wikibase:label { bd:serviceParam wikibase:language \"fr\". }\n",
    " ?communard_ou_communarde wdt:P106 wd:Q1780490;\n",
    "                           wdt:P119 ?lieu_de_sépulture.\n",
    " ?lieu_de_sépulture wdt:P31/wdt:P279* wd:Q39614;\n",
    "                    wdt:P625 ?coordonnees.\n",
    "}\n",
    "\n",
    "group by ?lieu_de_sépulture ?lieu_de_sépultureLabel ?coordonnees\n",
    "order by desc (?count)\n",
    "\"\"\"\n",
    "extraction_lieu_sepulture = Extraction_wikidata(endpoint_url, query)\n",
    "df_lieu_sepulture = extraction_lieu_sepulture.extraire_et_df()"
   ]
  },
  {
   "cell_type": "code",
   "execution_count": 112,
   "metadata": {},
   "outputs": [
    {
     "data": {
      "text/html": [
       "<table border=\"1\" class=\"dataframe\">\n",
       "  <thead>\n",
       "    <tr style=\"text-align: right;\">\n",
       "      <th></th>\n",
       "      <th>lieu_de_sépulture.value</th>\n",
       "      <th>lieu_de_sépultureLabel.value</th>\n",
       "      <th>count.value</th>\n",
       "      <th>coordonnees.value</th>\n",
       "    </tr>\n",
       "  </thead>\n",
       "  <tbody>\n",
       "    <tr>\n",
       "      <th>0</th>\n",
       "      <td>http://www.wikidata.org/entity/Q311</td>\n",
       "      <td>cimetière du Père-Lachaise</td>\n",
       "      <td>42</td>\n",
       "      <td>Point(2.394166666 48.861944444)</td>\n",
       "    </tr>\n",
       "    <tr>\n",
       "      <th>1</th>\n",
       "      <td>http://www.wikidata.org/entity/Q110481596</td>\n",
       "      <td>cimetière des condamnés</td>\n",
       "      <td>8</td>\n",
       "      <td>Point(167.443563 -22.636549)</td>\n",
       "    </tr>\n",
       "    <tr>\n",
       "      <th>2</th>\n",
       "      <td>http://www.wikidata.org/entity/Q272208</td>\n",
       "      <td>cimetière du Montparnasse</td>\n",
       "      <td>7</td>\n",
       "      <td>Point(2.32833 48.83778)</td>\n",
       "    </tr>\n",
       "    <tr>\n",
       "      <th>3</th>\n",
       "      <td>http://www.wikidata.org/entity/Q746647</td>\n",
       "      <td>cimetière de Montmartre</td>\n",
       "      <td>2</td>\n",
       "      <td>Point(2.330277777 48.887777777)</td>\n",
       "    </tr>\n",
       "    <tr>\n",
       "      <th>4</th>\n",
       "      <td>http://www.wikidata.org/entity/Q2972508</td>\n",
       "      <td>cimetière d'Auteuil</td>\n",
       "      <td>2</td>\n",
       "      <td>Point(2.25944 48.8411)</td>\n",
       "    </tr>\n",
       "    <tr>\n",
       "      <th>5</th>\n",
       "      <td>http://www.wikidata.org/entity/Q437930</td>\n",
       "      <td>cimetière ancien de Neuilly-sur-Seine</td>\n",
       "      <td>1</td>\n",
       "      <td>Point(2.264444444 48.881666666)</td>\n",
       "    </tr>\n",
       "    <tr>\n",
       "      <th>6</th>\n",
       "      <td>http://www.wikidata.org/entity/Q781858</td>\n",
       "      <td>cimetière de Charonne</td>\n",
       "      <td>1</td>\n",
       "      <td>Point(2.40347 48.8609)</td>\n",
       "    </tr>\n",
       "    <tr>\n",
       "      <th>7</th>\n",
       "      <td>http://www.wikidata.org/entity/Q779367</td>\n",
       "      <td>cimetière d'Ixelles</td>\n",
       "      <td>1</td>\n",
       "      <td>Point(4.392778 50.815556)</td>\n",
       "    </tr>\n",
       "    <tr>\n",
       "      <th>8</th>\n",
       "      <td>http://www.wikidata.org/entity/Q252312</td>\n",
       "      <td>cimetière du Nord de Solna</td>\n",
       "      <td>1</td>\n",
       "      <td>Point(18.019166666 59.356666666)</td>\n",
       "    </tr>\n",
       "    <tr>\n",
       "      <th>9</th>\n",
       "      <td>http://www.wikidata.org/entity/Q288130</td>\n",
       "      <td>cimetière national de Fiumei út</td>\n",
       "      <td>1</td>\n",
       "      <td>Point(19.090586111 47.495769444)</td>\n",
       "    </tr>\n",
       "    <tr>\n",
       "      <th>10</th>\n",
       "      <td>http://www.wikidata.org/entity/Q2972531</td>\n",
       "      <td>cimetière de Levallois-Perret</td>\n",
       "      <td>1</td>\n",
       "      <td>Point(2.289 48.9)</td>\n",
       "    </tr>\n",
       "    <tr>\n",
       "      <th>11</th>\n",
       "      <td>http://www.wikidata.org/entity/Q16537155</td>\n",
       "      <td>Ancien cimetière catholique romain de Stanisławów</td>\n",
       "      <td>1</td>\n",
       "      <td>Point(24.7166 48.9168)</td>\n",
       "    </tr>\n",
       "    <tr>\n",
       "      <th>12</th>\n",
       "      <td>http://www.wikidata.org/entity/Q16652861</td>\n",
       "      <td>cimetière de Zaeltsovskoye</td>\n",
       "      <td>1</td>\n",
       "      <td>Point(82.880833333 55.097222222)</td>\n",
       "    </tr>\n",
       "    <tr>\n",
       "      <th>13</th>\n",
       "      <td>http://www.wikidata.org/entity/Q47528283</td>\n",
       "      <td>cimetière communal d'Ornans</td>\n",
       "      <td>1</td>\n",
       "      <td>Point(6.147487 47.102437)</td>\n",
       "    </tr>\n",
       "    <tr>\n",
       "      <th>14</th>\n",
       "      <td>http://www.wikidata.org/entity/Q83191638</td>\n",
       "      <td>cimetière de Denicé</td>\n",
       "      <td>1</td>\n",
       "      <td>Point(4.64405 46.00142)</td>\n",
       "    </tr>\n",
       "    <tr>\n",
       "      <th>15</th>\n",
       "      <td>http://www.wikidata.org/entity/Q76801752</td>\n",
       "      <td>cimetière du Mont-Valérien</td>\n",
       "      <td>1</td>\n",
       "      <td>Point(2.21596 48.87237)</td>\n",
       "    </tr>\n",
       "    <tr>\n",
       "      <th>16</th>\n",
       "      <td>http://www.wikidata.org/entity/Q110334415</td>\n",
       "      <td>cimetière de Vierzon (rue Etienne Nivet )</td>\n",
       "      <td>1</td>\n",
       "      <td>Point(2.0743 47.2228)</td>\n",
       "    </tr>\n",
       "    <tr>\n",
       "      <th>17</th>\n",
       "      <td>http://www.wikidata.org/entity/Q372937</td>\n",
       "      <td>cimetière parisien de Saint-Ouen</td>\n",
       "      <td>1</td>\n",
       "      <td>Point(2.3475 48.9075)</td>\n",
       "    </tr>\n",
       "    <tr>\n",
       "      <th>18</th>\n",
       "      <td>http://www.wikidata.org/entity/Q2655037</td>\n",
       "      <td>cimetière des Batignolles</td>\n",
       "      <td>1</td>\n",
       "      <td>Point(2.316666666 48.897777777)</td>\n",
       "    </tr>\n",
       "    <tr>\n",
       "      <th>19</th>\n",
       "      <td>http://www.wikidata.org/entity/Q2972509</td>\n",
       "      <td>cimetière de Bercy</td>\n",
       "      <td>1</td>\n",
       "      <td>Point(2.39764 48.8328)</td>\n",
       "    </tr>\n",
       "    <tr>\n",
       "      <th>20</th>\n",
       "      <td>http://www.wikidata.org/entity/Q15411497</td>\n",
       "      <td>cimetière de la Villette</td>\n",
       "      <td>1</td>\n",
       "      <td>Point(2.38889 48.8846)</td>\n",
       "    </tr>\n",
       "  </tbody>\n",
       "</table>"
      ],
      "text/plain": [
       "<IPython.core.display.HTML object>"
      ]
     },
     "execution_count": 112,
     "metadata": {},
     "output_type": "execute_result"
    }
   ],
   "source": [
    "df_lieu_sepulture = df_lieu_sepulture.loc[:,['lieu_de_sépulture.value', 'lieu_de_sépultureLabel.value', 'count.value', 'coordonnees.value']]\n",
    "HTML(df_lieu_sepulture.to_html())"
   ]
  },
  {
   "cell_type": "markdown",
   "metadata": {},
   "source": [
    "Todo : afficher la carte"
   ]
  },
  {
   "cell_type": "markdown",
   "metadata": {
    "hideCode": false,
    "hidePrompt": false
   },
   "source": [
    "### Cimetière du Montparnasse\n",
    "Cartes des tombes de communard·e·s ou de personnes ayant un lien avec la Commune dans le cimetière du Montparnasse (Q272208).\n"
   ]
  },
  {
   "cell_type": "markdown",
   "metadata": {
    "hideCode": false,
    "hidePrompt": false
   },
   "source": [
    "```sparql\n",
    "#defaultView:Map\n",
    "SELECT Distinct ?tombe ?tombeLabel ?image_Tombe ?coordonnées ?tombe_deLabel ?image_personne WHERE {\n",
    "  SERVICE wikibase:label { bd:serviceParam wikibase:language \"[AUTO_LANGUAGE],en\". }\n",
    "  \n",
    "  #Qui, les communard-e-s et la liste des personnes lors de la cérémonie\n",
    "  ?communard wdt:P106 wd:Q1780490;\n",
    "             wdt:P119 wd:Q272208.\n",
    "  Values ?personnalite {wd:Q313709 \n",
    "                        wd:Q61897268 \n",
    "                        wd:Q5749\n",
    "                        wd:Q1959369\n",
    "                        wd:Q3047711\n",
    "                        wd:Q3022660\n",
    "                        wd:Q551648\n",
    "                        wd:Q704649\n",
    "                        wd:Q2826417\n",
    "                        wd:Q3302715\n",
    "                        wd:Q337628}\n",
    "  #Chercher les tombes du cimetière montparnasse                      \n",
    "  ?tombe wdt:P361 wd:Q272208;\n",
    "         wdt:P547 ?tombe_de.        \n",
    "  #Prendre les tombes voulues\n",
    "  filter (?tombe_de =?communard || ?tombe_de=?personnalite)\n",
    "  \n",
    "  OPTIONAL {?tombe wdt:P18 ?image_Tombe.}\n",
    "  OPTIONAL {?tombe wdt:P625 ?coordonnées.}\n",
    "  OPTIONAL {?tombe_de wdt:P18 ?image_personne.}\n",
    "  \n",
    "}\n",
    "```"
   ]
  },
  {
   "cell_type": "code",
   "execution_count": 113,
   "metadata": {
    "hideCode": false,
    "hidePrompt": false
   },
   "outputs": [
    {
     "data": {
      "text/html": [
       "<iframe style=\"width: 95%; height: 75vh; border: none;\" \n",
       "src=\"https://query.wikidata.org/embed.html#%23defaultView%3AMap%0ASELECT%20Distinct%20%3Ftombe%20%3FtombeLabel%20%3Fimage_Tombe%20%3Fcoordonn%C3%A9es%20%3Ftombe_deLabel%20%3Fimage_personne%20WHERE%20%7B%0A%20%20SERVICE%20wikibase%3Alabel%20%7B%20bd%3AserviceParam%20wikibase%3Alanguage%20%22%5BAUTO_LANGUAGE%5D%2Cen%22.%20%7D%0A%20%20%0A%20%20%23Qui%2C%20les%20communard-e-s%20et%20la%20liste%20des%20personnes%20lors%20de%20la%20c%C3%A9r%C3%A9monie%0A%20%20%3Fcommunard%20wdt%3AP106%20wd%3AQ1780490%3B%0A%20%20%20%20%20%20%20%20%20%20%20%20%20wdt%3AP119%20wd%3AQ272208.%0A%20%20Values%20%3Fpersonnalite%20%7Bwd%3AQ313709%20%0A%20%20%20%20%20%20%20%20%20%20%20%20%20%20%20%20%20%20%20%20%20%20%20%20wd%3AQ61897268%20%0A%20%20%20%20%20%20%20%20%20%20%20%20%20%20%20%20%20%20%20%20%20%20%20%20wd%3AQ5749%0A%20%20%20%20%20%20%20%20%20%20%20%20%20%20%20%20%20%20%20%20%20%20%20%20wd%3AQ1959369%0A%20%20%20%20%20%20%20%20%20%20%20%20%20%20%20%20%20%20%20%20%20%20%20%20wd%3AQ3047711%0A%20%20%20%20%20%20%20%20%20%20%20%20%20%20%20%20%20%20%20%20%20%20%20%20wd%3AQ3022660%0A%20%20%20%20%20%20%20%20%20%20%20%20%20%20%20%20%20%20%20%20%20%20%20%20wd%3AQ551648%0A%20%20%20%20%20%20%20%20%20%20%20%20%20%20%20%20%20%20%20%20%20%20%20%20wd%3AQ704649%0A%20%20%20%20%20%20%20%20%20%20%20%20%20%20%20%20%20%20%20%20%20%20%20%20wd%3AQ2826417%0A%20%20%20%20%20%20%20%20%20%20%20%20%20%20%20%20%20%20%20%20%20%20%20%20wd%3AQ3302715%0A%20%20%20%20%20%20%20%20%20%20%20%20%20%20%20%20%20%20%20%20%20%20%20%20wd%3AQ337628%7D%0A%20%20%23Chercher%20les%20tombes%20du%20cimeti%C3%A8re%20montparnasse%20%20%20%20%20%20%20%20%20%20%20%20%20%20%20%20%20%20%20%20%20%20%0A%20%20%3Ftombe%20wdt%3AP361%20wd%3AQ272208%3B%0A%20%20%20%20%20%20%20%20%20wdt%3AP547%20%3Ftombe_de.%20%20%20%20%20%20%20%20%0A%20%20%23Prendre%20les%20tombes%20voulues%0A%20%20filter%20(%3Ftombe_de%20%3D%3Fcommunard%20%7C%7C%20%3Ftombe_de%3D%3Fpersonnalite)%0A%20%20%0A%20%20OPTIONAL%20%7B%3Ftombe%20wdt%3AP18%20%3Fimage_Tombe.%7D%0A%20%20OPTIONAL%20%7B%3Ftombe%20wdt%3AP625%20%3Fcoordonn%C3%A9es.%7D%0A%20%20OPTIONAL%20%7B%3Ftombe_de%20wdt%3AP18%20%3Fimage_personne.%7D%0A%20%20%0A%7D\" \n",
       "referrerpolicy=\"origin\" \n",
       "sandbox=\"allow-scripts allow-same-origin allow-popups\">\n",
       "</iframe>\n"
      ],
      "text/plain": [
       "<IPython.core.display.HTML object>"
      ]
     },
     "metadata": {},
     "output_type": "display_data"
    }
   ],
   "source": [
    "%%HTML\n",
    "<iframe style=\"width: 95%; height: 75vh; border: none;\" \n",
    "src=\"https://query.wikidata.org/embed.html#%23defaultView%3AMap%0ASELECT%20Distinct%20%3Ftombe%20%3FtombeLabel%20%3Fimage_Tombe%20%3Fcoordonn%C3%A9es%20%3Ftombe_deLabel%20%3Fimage_personne%20WHERE%20%7B%0A%20%20SERVICE%20wikibase%3Alabel%20%7B%20bd%3AserviceParam%20wikibase%3Alanguage%20%22%5BAUTO_LANGUAGE%5D%2Cen%22.%20%7D%0A%20%20%0A%20%20%23Qui%2C%20les%20communard-e-s%20et%20la%20liste%20des%20personnes%20lors%20de%20la%20c%C3%A9r%C3%A9monie%0A%20%20%3Fcommunard%20wdt%3AP106%20wd%3AQ1780490%3B%0A%20%20%20%20%20%20%20%20%20%20%20%20%20wdt%3AP119%20wd%3AQ272208.%0A%20%20Values%20%3Fpersonnalite%20%7Bwd%3AQ313709%20%0A%20%20%20%20%20%20%20%20%20%20%20%20%20%20%20%20%20%20%20%20%20%20%20%20wd%3AQ61897268%20%0A%20%20%20%20%20%20%20%20%20%20%20%20%20%20%20%20%20%20%20%20%20%20%20%20wd%3AQ5749%0A%20%20%20%20%20%20%20%20%20%20%20%20%20%20%20%20%20%20%20%20%20%20%20%20wd%3AQ1959369%0A%20%20%20%20%20%20%20%20%20%20%20%20%20%20%20%20%20%20%20%20%20%20%20%20wd%3AQ3047711%0A%20%20%20%20%20%20%20%20%20%20%20%20%20%20%20%20%20%20%20%20%20%20%20%20wd%3AQ3022660%0A%20%20%20%20%20%20%20%20%20%20%20%20%20%20%20%20%20%20%20%20%20%20%20%20wd%3AQ551648%0A%20%20%20%20%20%20%20%20%20%20%20%20%20%20%20%20%20%20%20%20%20%20%20%20wd%3AQ704649%0A%20%20%20%20%20%20%20%20%20%20%20%20%20%20%20%20%20%20%20%20%20%20%20%20wd%3AQ2826417%0A%20%20%20%20%20%20%20%20%20%20%20%20%20%20%20%20%20%20%20%20%20%20%20%20wd%3AQ3302715%0A%20%20%20%20%20%20%20%20%20%20%20%20%20%20%20%20%20%20%20%20%20%20%20%20wd%3AQ337628%7D%0A%20%20%23Chercher%20les%20tombes%20du%20cimeti%C3%A8re%20montparnasse%20%20%20%20%20%20%20%20%20%20%20%20%20%20%20%20%20%20%20%20%20%20%0A%20%20%3Ftombe%20wdt%3AP361%20wd%3AQ272208%3B%0A%20%20%20%20%20%20%20%20%20wdt%3AP547%20%3Ftombe_de.%20%20%20%20%20%20%20%20%0A%20%20%23Prendre%20les%20tombes%20voulues%0A%20%20filter%20(%3Ftombe_de%20%3D%3Fcommunard%20%7C%7C%20%3Ftombe_de%3D%3Fpersonnalite)%0A%20%20%0A%20%20OPTIONAL%20%7B%3Ftombe%20wdt%3AP18%20%3Fimage_Tombe.%7D%0A%20%20OPTIONAL%20%7B%3Ftombe%20wdt%3AP625%20%3Fcoordonn%C3%A9es.%7D%0A%20%20OPTIONAL%20%7B%3Ftombe_de%20wdt%3AP18%20%3Fimage_personne.%7D%0A%20%20%0A%7D\" \n",
    "referrerpolicy=\"origin\" \n",
    "sandbox=\"allow-scripts allow-same-origin allow-popups\">\n",
    "</iframe>"
   ]
  },
  {
   "cell_type": "markdown",
   "metadata": {
    "hideCode": false,
    "hidePrompt": false
   },
   "source": [
    "### Cimetière du Père la Chaise\n",
    "Cartes des tombes de communard·e·s ou de personnes ayant un lien avec la Commune dans le cimetière du Père-Lahaise (Q311)."
   ]
  },
  {
   "cell_type": "markdown",
   "metadata": {
    "hideCode": false,
    "hidePrompt": false
   },
   "source": [
    "```sparql\n",
    "#defaultView:Map\n",
    "SELECT Distinct ?tombe ?tombeLabel ?image_Tombe ?coordonnées ?tombe_deLabel ?image_personne WHERE {\n",
    "  SERVICE wikibase:label { bd:serviceParam wikibase:language \"[AUTO_LANGUAGE],en\". }\n",
    "  \n",
    "  #Qui, les communard-e-s\n",
    "  ?communard wdt:P106 wd:Q1780490;\n",
    "             wdt:P119 wd:Q311.\n",
    "\n",
    "  #Chercher les tombes du cimetière montparnasse                      \n",
    "  ?tombe wdt:P276 ?lieu;\n",
    "         wdt:P547 ?tombe_de. \n",
    "  \n",
    "  ?lieu wdt:P361 wd:Q311.\n",
    "        \n",
    "  #Prendre les tombes voulues\n",
    "  filter (?tombe_de =?communard)\n",
    "  \n",
    "  OPTIONAL {?tombe wdt:P18 ?image_Tombe.}\n",
    "  OPTIONAL {?tombe wdt:P625 ?coordonnées.}\n",
    "  OPTIONAL {?tombe_de wdt:P18 ?image_personne.}\n",
    "  \n",
    "}\n",
    "```"
   ]
  },
  {
   "cell_type": "code",
   "execution_count": 114,
   "metadata": {
    "hideCode": false,
    "hidePrompt": false,
    "scrolled": false
   },
   "outputs": [
    {
     "data": {
      "text/html": [
       "<iframe style=\"width: 95%; height: 50vh; border: none;\" \n",
       "src=\"https://query.wikidata.org/embed.html#%23defaultView%3AMap%0ASELECT%20Distinct%20%3Ftombe%20%3FtombeLabel%20%3Fimage_Tombe%20%3Fcoordonn%C3%A9es%20%3Ftombe_deLabel%20%3Fimage_personne%20WHERE%20%7B%0A%20%20SERVICE%20wikibase%3Alabel%20%7B%20bd%3AserviceParam%20wikibase%3Alanguage%20%22%5BAUTO_LANGUAGE%5D%2Cen%22.%20%7D%0A%20%20%0A%20%20%23Qui%2C%20les%20communard-e-s%0A%20%20%3Fcommunard%20wdt%3AP106%20wd%3AQ1780490%3B%0A%20%20%20%20%20%20%20%20%20%20%20%20%20wdt%3AP119%20wd%3AQ311.%0A%0A%20%20%23Chercher%20les%20tombes%20du%20cimeti%C3%A8re%20montparnasse%20%20%20%20%20%20%20%20%20%20%20%20%20%20%20%20%20%20%20%20%20%20%0A%20%20%3Ftombe%20wdt%3AP276%20%3Flieu%3B%0A%20%20%20%20%20%20%20%20%20wdt%3AP547%20%3Ftombe_de.%20%0A%20%20%0A%20%20%3Flieu%20wdt%3AP361%20wd%3AQ311.%0A%20%20%20%20%20%20%20%20%0A%20%20%23Prendre%20les%20tombes%20voulues%0A%20%20filter%20(%3Ftombe_de%20%3D%3Fcommunard)%0A%20%20%0A%20%20OPTIONAL%20%7B%3Ftombe%20wdt%3AP18%20%3Fimage_Tombe.%7D%0A%20%20OPTIONAL%20%7B%3Ftombe%20wdt%3AP625%20%3Fcoordonn%C3%A9es.%7D%0A%20%20OPTIONAL%20%7B%3Ftombe_de%20wdt%3AP18%20%3Fimage_personne.%7D%0A%20%20%0A%7D%0A\"referrerpolicy=\"origin\" \n",
       "sandbox=\"allow-scripts allow-same-origin allow-popups\">\n",
       "</iframe>\n"
      ],
      "text/plain": [
       "<IPython.core.display.HTML object>"
      ]
     },
     "metadata": {},
     "output_type": "display_data"
    }
   ],
   "source": [
    "%%HTML\n",
    "<iframe style=\"width: 95%; height: 50vh; border: none;\" \n",
    "src=\"https://query.wikidata.org/embed.html#%23defaultView%3AMap%0ASELECT%20Distinct%20%3Ftombe%20%3FtombeLabel%20%3Fimage_Tombe%20%3Fcoordonn%C3%A9es%20%3Ftombe_deLabel%20%3Fimage_personne%20WHERE%20%7B%0A%20%20SERVICE%20wikibase%3Alabel%20%7B%20bd%3AserviceParam%20wikibase%3Alanguage%20%22%5BAUTO_LANGUAGE%5D%2Cen%22.%20%7D%0A%20%20%0A%20%20%23Qui%2C%20les%20communard-e-s%0A%20%20%3Fcommunard%20wdt%3AP106%20wd%3AQ1780490%3B%0A%20%20%20%20%20%20%20%20%20%20%20%20%20wdt%3AP119%20wd%3AQ311.%0A%0A%20%20%23Chercher%20les%20tombes%20du%20cimeti%C3%A8re%20montparnasse%20%20%20%20%20%20%20%20%20%20%20%20%20%20%20%20%20%20%20%20%20%20%0A%20%20%3Ftombe%20wdt%3AP276%20%3Flieu%3B%0A%20%20%20%20%20%20%20%20%20wdt%3AP547%20%3Ftombe_de.%20%0A%20%20%0A%20%20%3Flieu%20wdt%3AP361%20wd%3AQ311.%0A%20%20%20%20%20%20%20%20%0A%20%20%23Prendre%20les%20tombes%20voulues%0A%20%20filter%20(%3Ftombe_de%20%3D%3Fcommunard)%0A%20%20%0A%20%20OPTIONAL%20%7B%3Ftombe%20wdt%3AP18%20%3Fimage_Tombe.%7D%0A%20%20OPTIONAL%20%7B%3Ftombe%20wdt%3AP625%20%3Fcoordonn%C3%A9es.%7D%0A%20%20OPTIONAL%20%7B%3Ftombe_de%20wdt%3AP18%20%3Fimage_personne.%7D%0A%20%20%0A%7D%0A\"referrerpolicy=\"origin\" \n",
    "sandbox=\"allow-scripts allow-same-origin allow-popups\">\n",
    "</iframe>\n"
   ]
  },
  {
   "cell_type": "markdown",
   "metadata": {
    "hideCode": false,
    "hidePrompt": false
   },
   "source": [
    "## Une chronologie de la Commune"
   ]
  },
  {
   "cell_type": "markdown",
   "metadata": {
    "hideCode": false,
    "hidePrompt": false
   },
   "source": [
    "Pour tous les éléments faisant partie de (P361) la Commune, affiche leurs dates connues.\n",
    "Idem pour les communard·e·s.\n",
    "\n",
    "De ce tableau ou peut faire une frise chronologique."
   ]
  },
  {
   "cell_type": "markdown",
   "metadata": {
    "hideCode": false,
    "hidePrompt": false
   },
   "source": [
    "```sparql\n",
    "SELECT \n",
    "?Commune_de_Paris ?Commune_de_ParisLabel ?date ?date_de_début ?date_de_fin\n",
    "?Communard_ou_communarde ?Communard_ou_communardeLabel ?date_deces\n",
    "WHERE {\n",
    "  SERVICE wikibase:label { bd:serviceParam wikibase:language \"[AUTO_LANGUAGE],fr\". }\n",
    "  {\n",
    "    # Partie de la Commune\n",
    "    ?Commune_de_Paris wdt:P361 wd:Q133132.\n",
    "  OPTIONAL { ?Commune_de_Paris wdt:P585 ?date. }\n",
    "  OPTIONAL { ?Commune_de_Paris wdt:P580 ?date_de_début. }\n",
    "  OPTIONAL { ?Commune_de_Paris wdt:P582 ?date_de_fin. }\n",
    "    }\n",
    "  Union\n",
    "  {\n",
    "  # Communard-e-s\n",
    "  ?Communard_ou_communarde wdt:P106 wd:Q1780490;\n",
    "                           wdt:P570 ?date_deces.\n",
    "    FILTER (year(?date_deces)<1872)\n",
    "    }\n",
    "}\n",
    "```"
   ]
  },
  {
   "cell_type": "code",
   "execution_count": 115,
   "metadata": {
    "hideCode": false,
    "hidePrompt": false,
    "scrolled": true
   },
   "outputs": [
    {
     "data": {
      "text/html": [
       "<iframe style=\"width: 95%; height: 50vh; border: none;\" \n",
       "src=\"https://query.wikidata.org/embed.html#SELECT%20%0A%3FCommune_de_Paris%20%3FCommune_de_ParisLabel%20%3Fdate%20%3Fdate_de_d%C3%A9but%20%3Fdate_de_fin%0A%3FCommunard_ou_communarde%20%3FCommunard_ou_communardeLabel%20%3Fdate_deces%0AWHERE%20%7B%0A%20%20SERVICE%20wikibase%3Alabel%20%7B%20bd%3AserviceParam%20wikibase%3Alanguage%20%22%5BAUTO_LANGUAGE%5D%2Cfr%22.%20%7D%0A%20%20%23%20Partie%20de%20la%20Commune%0A%20%20%7B%0A%20%20%20%20%3FCommune_de_Paris%20wdt%3AP361%20wd%3AQ133132.%0A%20%20OPTIONAL%20%7B%20%3FCommune_de_Paris%20wdt%3AP585%20%3Fdate.%20%7D%0A%20%20OPTIONAL%20%7B%20%3FCommune_de_Paris%20wdt%3AP580%20%3Fdate_de_d%C3%A9but.%20%7D%0A%20%20OPTIONAL%20%7B%20%3FCommune_de_Paris%20wdt%3AP582%20%3Fdate_de_fin.%20%7D%0A%20%20%20%20%7D%0A%20%20Union%0A%20%20%7B%0A%20%20%23%20Communard-e-s%0A%20%20%3FCommunard_ou_communarde%20wdt%3AP106%20wd%3AQ1780490%3B%0A%20%20%20%20%20%20%20%20%20%20%20%20%20%20%20%20%20%20%20%20%20%20%20%20%20%20%20wdt%3AP570%20%3Fdate_deces.%0A%20%20%20%20FILTER%20(year(%3Fdate_deces)%3C1872)%0A%20%20%20%20%7D%0A%7D%0A\" \n",
       "referrerpolicy=\"origin\" sandbox=\"allow-scripts allow-same-origin allow-popups\">\n",
       "</iframe>\n"
      ],
      "text/plain": [
       "<IPython.core.display.HTML object>"
      ]
     },
     "metadata": {},
     "output_type": "display_data"
    }
   ],
   "source": [
    "%%HTML\n",
    "<iframe style=\"width: 95%; height: 50vh; border: none;\" \n",
    "src=\"https://query.wikidata.org/embed.html#SELECT%20%0A%3FCommune_de_Paris%20%3FCommune_de_ParisLabel%20%3Fdate%20%3Fdate_de_d%C3%A9but%20%3Fdate_de_fin%0A%3FCommunard_ou_communarde%20%3FCommunard_ou_communardeLabel%20%3Fdate_deces%0AWHERE%20%7B%0A%20%20SERVICE%20wikibase%3Alabel%20%7B%20bd%3AserviceParam%20wikibase%3Alanguage%20%22%5BAUTO_LANGUAGE%5D%2Cfr%22.%20%7D%0A%20%20%23%20Partie%20de%20la%20Commune%0A%20%20%7B%0A%20%20%20%20%3FCommune_de_Paris%20wdt%3AP361%20wd%3AQ133132.%0A%20%20OPTIONAL%20%7B%20%3FCommune_de_Paris%20wdt%3AP585%20%3Fdate.%20%7D%0A%20%20OPTIONAL%20%7B%20%3FCommune_de_Paris%20wdt%3AP580%20%3Fdate_de_d%C3%A9but.%20%7D%0A%20%20OPTIONAL%20%7B%20%3FCommune_de_Paris%20wdt%3AP582%20%3Fdate_de_fin.%20%7D%0A%20%20%20%20%7D%0A%20%20Union%0A%20%20%7B%0A%20%20%23%20Communard-e-s%0A%20%20%3FCommunard_ou_communarde%20wdt%3AP106%20wd%3AQ1780490%3B%0A%20%20%20%20%20%20%20%20%20%20%20%20%20%20%20%20%20%20%20%20%20%20%20%20%20%20%20wdt%3AP570%20%3Fdate_deces.%0A%20%20%20%20FILTER%20(year(%3Fdate_deces)%3C1872)%0A%20%20%20%20%7D%0A%7D%0A\" \n",
    "referrerpolicy=\"origin\" sandbox=\"allow-scripts allow-same-origin allow-popups\">\n",
    "</iframe>"
   ]
  },
  {
   "cell_type": "markdown",
   "metadata": {
    "hideCode": false,
    "hidePrompt": false
   },
   "source": [
    "### version étendue\n",
    "avec commune, semaine sanglante, campagne de l'intérieur"
   ]
  },
  {
   "cell_type": "markdown",
   "metadata": {
    "hideCode": false,
    "hidePrompt": false
   },
   "source": [
    "```sparql\n",
    "SELECT distinct\n",
    "?Commune_de_Paris ?Commune_de_ParisLabel ?date ?date_de_début ?date_de_fin ?date_de_publication\n",
    "?Communard_ou_communarde ?Communard_ou_communardeLabel ?date_deces\n",
    "WHERE {\n",
    "  SERVICE wikibase:label { bd:serviceParam wikibase:language \"[AUTO_LANGUAGE],en\". }\n",
    "  values ?periodes {wd:Q133132 #commune de Paris\n",
    "          wd:Q3478362 #semaine sanglante\n",
    "          wd:Q47007501 #campagne de l'intérieur\n",
    "          }\n",
    "          \n",
    "  {\n",
    "    # Partie de la Commune\n",
    "    ?Commune_de_Paris wdt:P361 ?periodes\n",
    "  OPTIONAL { ?Commune_de_Paris wdt:P585 ?date. }\n",
    "  OPTIONAL { ?Commune_de_Paris wdt:P580 ?date_de_début. }\n",
    "  OPTIONAL { ?Commune_de_Paris wdt:P582 ?date_de_fin. }\n",
    "  OPTIONAL { ?Commune_de_Paris wdt:P577 ?date_de_publication.}\n",
    "    }\n",
    "  Union\n",
    "  {\n",
    "  # Communard-e-s\n",
    "  ?Communard_ou_communarde wdt:P106 wd:Q1780490;\n",
    "                           wdt:P570 ?date_deces.\n",
    "    FILTER (year(?date_deces)<1872)\n",
    "    }\n",
    "}\n",
    "```"
   ]
  },
  {
   "cell_type": "code",
   "execution_count": 116,
   "metadata": {
    "hideCode": false,
    "hidePrompt": false
   },
   "outputs": [
    {
     "data": {
      "text/html": [
       "<iframe style=\"width: 95%; height: 50vh; border: none;\" \n",
       "src=\"https://query.wikidata.org/embed.html#SELECT%20distinct%0A%3FCommune_de_Paris%20%3FCommune_de_ParisLabel%20%3Fdate%20%3Fdate_de_d%C3%A9but%20%3Fdate_de_fin%20%3Fdate_de_publication%0A%3FCommunard_ou_communarde%20%3FCommunard_ou_communardeLabel%20%3Fdate_deces%0AWHERE%20%7B%0A%20%20SERVICE%20wikibase%3Alabel%20%7B%20bd%3AserviceParam%20wikibase%3Alanguage%20%22%5BAUTO_LANGUAGE%5D%2Cen%22.%20%7D%0A%20%20values%20%3Fperiodes%20%7Bwd%3AQ133132%20%23commune%20de%20Paris%0A%20%20%20%20%20%20%20%20%20%20wd%3AQ3478362%20%23semaine%20sanglante%0A%20%20%20%20%20%20%20%20%20%20wd%3AQ47007501%20%23campagne%20de%20l'int%C3%A9rieur%0A%20%20%20%20%20%20%20%20%20%20%7D%0A%20%20%20%20%20%20%20%20%20%20%0A%20%20%7B%0A%20%20%20%20%23%20Partie%20de%20la%20Commune%0A%20%20%20%20%3FCommune_de_Paris%20wdt%3AP361%20%3Fperiodes%0A%20%20OPTIONAL%20%7B%20%3FCommune_de_Paris%20wdt%3AP585%20%3Fdate.%20%7D%0A%20%20OPTIONAL%20%7B%20%3FCommune_de_Paris%20wdt%3AP580%20%3Fdate_de_d%C3%A9but.%20%7D%0A%20%20OPTIONAL%20%7B%20%3FCommune_de_Paris%20wdt%3AP582%20%3Fdate_de_fin.%20%7D%0A%20%20OPTIONAL%20%7B%20%3FCommune_de_Paris%20wdt%3AP577%20%3Fdate_de_publication.%7D%0A%20%20%20%20%7D%0A%20%20Union%0A%20%20%7B%0A%20%20%23%20Communard-e-s%0A%20%20%3FCommunard_ou_communarde%20wdt%3AP106%20wd%3AQ1780490%3B%0A%20%20%20%20%20%20%20%20%20%20%20%20%20%20%20%20%20%20%20%20%20%20%20%20%20%20%20wdt%3AP570%20%3Fdate_deces.%0A%20%20%20%20FILTER%20(year(%3Fdate_deces)%3C1872)%0A%20%20%20%20%7D%0A%7D%0A\" \n",
       "referrerpolicy=\"origin\" sandbox=\"allow-scripts allow-same-origin allow-popups\">\n",
       "</iframe>\n"
      ],
      "text/plain": [
       "<IPython.core.display.HTML object>"
      ]
     },
     "metadata": {},
     "output_type": "display_data"
    }
   ],
   "source": [
    "%%HTML\n",
    "<iframe style=\"width: 95%; height: 50vh; border: none;\" \n",
    "src=\"https://query.wikidata.org/embed.html#SELECT%20distinct%0A%3FCommune_de_Paris%20%3FCommune_de_ParisLabel%20%3Fdate%20%3Fdate_de_d%C3%A9but%20%3Fdate_de_fin%20%3Fdate_de_publication%0A%3FCommunard_ou_communarde%20%3FCommunard_ou_communardeLabel%20%3Fdate_deces%0AWHERE%20%7B%0A%20%20SERVICE%20wikibase%3Alabel%20%7B%20bd%3AserviceParam%20wikibase%3Alanguage%20%22%5BAUTO_LANGUAGE%5D%2Cen%22.%20%7D%0A%20%20values%20%3Fperiodes%20%7Bwd%3AQ133132%20%23commune%20de%20Paris%0A%20%20%20%20%20%20%20%20%20%20wd%3AQ3478362%20%23semaine%20sanglante%0A%20%20%20%20%20%20%20%20%20%20wd%3AQ47007501%20%23campagne%20de%20l'int%C3%A9rieur%0A%20%20%20%20%20%20%20%20%20%20%7D%0A%20%20%20%20%20%20%20%20%20%20%0A%20%20%7B%0A%20%20%20%20%23%20Partie%20de%20la%20Commune%0A%20%20%20%20%3FCommune_de_Paris%20wdt%3AP361%20%3Fperiodes%0A%20%20OPTIONAL%20%7B%20%3FCommune_de_Paris%20wdt%3AP585%20%3Fdate.%20%7D%0A%20%20OPTIONAL%20%7B%20%3FCommune_de_Paris%20wdt%3AP580%20%3Fdate_de_d%C3%A9but.%20%7D%0A%20%20OPTIONAL%20%7B%20%3FCommune_de_Paris%20wdt%3AP582%20%3Fdate_de_fin.%20%7D%0A%20%20OPTIONAL%20%7B%20%3FCommune_de_Paris%20wdt%3AP577%20%3Fdate_de_publication.%7D%0A%20%20%20%20%7D%0A%20%20Union%0A%20%20%7B%0A%20%20%23%20Communard-e-s%0A%20%20%3FCommunard_ou_communarde%20wdt%3AP106%20wd%3AQ1780490%3B%0A%20%20%20%20%20%20%20%20%20%20%20%20%20%20%20%20%20%20%20%20%20%20%20%20%20%20%20wdt%3AP570%20%3Fdate_deces.%0A%20%20%20%20FILTER%20(year(%3Fdate_deces)%3C1872)%0A%20%20%20%20%7D%0A%7D%0A\" \n",
    "referrerpolicy=\"origin\" sandbox=\"allow-scripts allow-same-origin allow-popups\">\n",
    "</iframe>"
   ]
  },
  {
   "cell_type": "markdown",
   "metadata": {
    "hideCode": false,
    "hidePrompt": false
   },
   "source": [
    "## Les affiches"
   ]
  },
  {
   "cell_type": "markdown",
   "metadata": {
    "hideCode": false,
    "hidePrompt": false
   },
   "source": [
    "```sparql\n",
    "SELECT ?affiche ?afficheLabel ?date_de_publication ?image WHERE {\n",
    "  SERVICE wikibase:label { bd:serviceParam wikibase:language \"[AUTO_LANGUAGE],en\". }\n",
    "  ?affiche wdt:P31 wd:Q429785.\n",
    "  {?affiche wdt:P361 wd:Q690489.}\n",
    "  Union {?affiche wdt:P361 wd:Q133132}\n",
    "  OPTIONAL { ?affiche wdt:P577 ?date_de_publication. }\n",
    "  OPTIONAL { ?affiche wdt:P18 ?image. }\n",
    "}\n",
    "```"
   ]
  },
  {
   "cell_type": "code",
   "execution_count": 117,
   "metadata": {
    "hideCode": false,
    "hidePrompt": false
   },
   "outputs": [
    {
     "data": {
      "text/html": [
       "<iframe style=\"width: 95%; height: 50vh; border: none;\" \n",
       "src=\"https://query.wikidata.org/embed.html#SELECT%20%3Faffiche%20%3FafficheLabel%20%3Fdate_de_publication%20%3Fimage%20WHERE%20%7B%0A%20%20SERVICE%20wikibase%3Alabel%20%7B%20bd%3AserviceParam%20wikibase%3Alanguage%20%22%5BAUTO_LANGUAGE%5D%2Cen%22.%20%7D%0A%20%20%3Faffiche%20wdt%3AP31%20wd%3AQ429785.%0A%20%20%7B%3Faffiche%20wdt%3AP361%20wd%3AQ690489.%7D%0A%20%20Union%20%7B%3Faffiche%20wdt%3AP361%20wd%3AQ133132%7D%0A%20%20OPTIONAL%20%7B%20%3Faffiche%20wdt%3AP577%20%3Fdate_de_publication.%20%7D%0A%20%20OPTIONAL%20%7B%20%3Faffiche%20wdt%3AP18%20%3Fimage.%20%7D%0A%7D%0A\" \n",
       "referrerpolicy=\"origin\" sandbox=\"allow-scripts allow-same-origin allow-popups\">\n",
       "</iframe>\n"
      ],
      "text/plain": [
       "<IPython.core.display.HTML object>"
      ]
     },
     "metadata": {},
     "output_type": "display_data"
    }
   ],
   "source": [
    "%%HTML\n",
    "<iframe style=\"width: 95%; height: 50vh; border: none;\" \n",
    "src=\"https://query.wikidata.org/embed.html#SELECT%20%3Faffiche%20%3FafficheLabel%20%3Fdate_de_publication%20%3Fimage%20WHERE%20%7B%0A%20%20SERVICE%20wikibase%3Alabel%20%7B%20bd%3AserviceParam%20wikibase%3Alanguage%20%22%5BAUTO_LANGUAGE%5D%2Cen%22.%20%7D%0A%20%20%3Faffiche%20wdt%3AP31%20wd%3AQ429785.%0A%20%20%7B%3Faffiche%20wdt%3AP361%20wd%3AQ690489.%7D%0A%20%20Union%20%7B%3Faffiche%20wdt%3AP361%20wd%3AQ133132%7D%0A%20%20OPTIONAL%20%7B%20%3Faffiche%20wdt%3AP577%20%3Fdate_de_publication.%20%7D%0A%20%20OPTIONAL%20%7B%20%3Faffiche%20wdt%3AP18%20%3Fimage.%20%7D%0A%7D%0A\" \n",
    "referrerpolicy=\"origin\" sandbox=\"allow-scripts allow-same-origin allow-popups\">\n",
    "</iframe>"
   ]
  },
  {
   "cell_type": "markdown",
   "metadata": {
    "hideCode": false,
    "hidePrompt": false
   },
   "source": [
    "## Les barricades"
   ]
  },
  {
   "cell_type": "markdown",
   "metadata": {},
   "source": [
    "> barricade (Q81715)\n",
    "muraille désorganisée de pavés, galets, poutres, etc. qui barre une rue.\n",
    "\n",
    "De nombreuses barricades ont été dressées dans les rues de Paris. Certaines ont été prises en photo et ou mentionnées dans différents écrits.\n",
    "\n",
    "Dans un premier temps, à partir des photos de Commons (https://commons.wikimedia.org/wiki/Category:Barricades_during_Paris_Commune) on peut les rentrer dans wikidata et à l'aide de leurs coordonnées géographiques (P625) les placer sur une carte.\n",
    "\n",
    "Ces coordonnées sont inscrites dans la base de données via l'analyse des photos.\n",
    "À l'aide des bâtiments, nom de rue... on peut les identifier sur un plan et via les photos de Google street Map.\n",
    "C'est par exemple très visible sur les barricades autour de la Concorde et des bâtiments.\n",
    "Idem la position de la barricade du pont d'Arcole est affiné par un photo de destructions de l'hôtel de ville où le kiosque est visible."
   ]
  },
  {
   "cell_type": "markdown",
   "metadata": {
    "hideCode": false,
    "hidePrompt": false
   },
   "source": [
    "```sparql\n",
    "SELECT ?barricade ?barricadeLabel ?coordonnées_géographiques ?image ?catégorie_Commons ?date_de_début ?date_de_fin WHERE {\n",
    "  SERVICE wikibase:label { bd:serviceParam wikibase:language \"[AUTO_LANGUAGE],en\". }\n",
    "  ?barricade wdt:P31 wd:Q81715;\n",
    "    wdt:P361 wd:Q133132.\n",
    "  OPTIONAL { ?barricade wdt:P625 ?coordonnées_géographiques. }\n",
    "  OPTIONAL { ?barricade wdt:P18 ?image. }\n",
    "  OPTIONAL { ?barricade wdt:P373 ?catégorie_Commons. }\n",
    "  OPTIONAL { ?barricade wdt:P580 ?date_de_début. }\n",
    "  OPTIONAL { ?barricade wdt:P582 ?date_de_fin. }\n",
    "}\n",
    "```"
   ]
  },
  {
   "cell_type": "code",
   "execution_count": 118,
   "metadata": {
    "hideCode": false,
    "hidePrompt": false,
    "scrolled": true
   },
   "outputs": [
    {
     "data": {
      "text/html": [
       "<iframe style=\"width: 95%; height: 50vh; border: none;\" \n",
       "src=\"https://query.wikidata.org/embed.html#SELECT%20%3Fbarricade%20%3FbarricadeLabel%20%3Fcoordonn%C3%A9es_g%C3%A9ographiques%20%3Fimage%20%3Fcat%C3%A9gorie_Commons%20%3Fdate_de_d%C3%A9but%20%3Fdate_de_fin%20WHERE%20%7B%0A%20%20SERVICE%20wikibase%3Alabel%20%7B%20bd%3AserviceParam%20wikibase%3Alanguage%20%22%5BAUTO_LANGUAGE%5D%2Cen%22.%20%7D%0A%20%20%3Fbarricade%20wdt%3AP31%20wd%3AQ81715%3B%0A%20%20%20%20wdt%3AP361%20wd%3AQ133132.%0A%20%20OPTIONAL%20%7B%20%3Fbarricade%20wdt%3AP625%20%3Fcoordonn%C3%A9es_g%C3%A9ographiques.%20%7D%0A%20%20OPTIONAL%20%7B%20%3Fbarricade%20wdt%3AP18%20%3Fimage.%20%7D%0A%20%20OPTIONAL%20%7B%20%3Fbarricade%20wdt%3AP373%20%3Fcat%C3%A9gorie_Commons.%20%7D%0A%20%20OPTIONAL%20%7B%20%3Fbarricade%20wdt%3AP580%20%3Fdate_de_d%C3%A9but.%20%7D%0A%20%20OPTIONAL%20%7B%20%3Fbarricade%20wdt%3AP582%20%3Fdate_de_fin.%20%7D%0A%7D%0A\" \n",
       "referrerpolicy=\"origin\" sandbox=\"allow-scripts allow-same-origin allow-popups\">\n",
       "</iframe>\n"
      ],
      "text/plain": [
       "<IPython.core.display.HTML object>"
      ]
     },
     "metadata": {},
     "output_type": "display_data"
    }
   ],
   "source": [
    "%%HTML\n",
    "<iframe style=\"width: 95%; height: 50vh; border: none;\" \n",
    "src=\"https://query.wikidata.org/embed.html#SELECT%20%3Fbarricade%20%3FbarricadeLabel%20%3Fcoordonn%C3%A9es_g%C3%A9ographiques%20%3Fimage%20%3Fcat%C3%A9gorie_Commons%20%3Fdate_de_d%C3%A9but%20%3Fdate_de_fin%20WHERE%20%7B%0A%20%20SERVICE%20wikibase%3Alabel%20%7B%20bd%3AserviceParam%20wikibase%3Alanguage%20%22%5BAUTO_LANGUAGE%5D%2Cen%22.%20%7D%0A%20%20%3Fbarricade%20wdt%3AP31%20wd%3AQ81715%3B%0A%20%20%20%20wdt%3AP361%20wd%3AQ133132.%0A%20%20OPTIONAL%20%7B%20%3Fbarricade%20wdt%3AP625%20%3Fcoordonn%C3%A9es_g%C3%A9ographiques.%20%7D%0A%20%20OPTIONAL%20%7B%20%3Fbarricade%20wdt%3AP18%20%3Fimage.%20%7D%0A%20%20OPTIONAL%20%7B%20%3Fbarricade%20wdt%3AP373%20%3Fcat%C3%A9gorie_Commons.%20%7D%0A%20%20OPTIONAL%20%7B%20%3Fbarricade%20wdt%3AP580%20%3Fdate_de_d%C3%A9but.%20%7D%0A%20%20OPTIONAL%20%7B%20%3Fbarricade%20wdt%3AP582%20%3Fdate_de_fin.%20%7D%0A%7D%0A\" \n",
    "referrerpolicy=\"origin\" sandbox=\"allow-scripts allow-same-origin allow-popups\">\n",
    "</iframe>"
   ]
  },
  {
   "cell_type": "markdown",
   "metadata": {},
   "source": [
    "## Bibliographie"
   ]
  },
  {
   "cell_type": "code",
   "execution_count": null,
   "metadata": {},
   "outputs": [],
   "source": []
  },
  {
   "cell_type": "markdown",
   "metadata": {},
   "source": [
    "```sparql\n",
    "SELECT distinct ?ouvrage ?ouvrageLabel ?auteur ?auteurLabel ?titre ?editeur ?editeurLabel ?lieu_publication ?lieu_publicationLabel (year(?date) as ?date_publication) ?nombre_de_pages WHERE {\n",
    "  SERVICE wikibase:label { bd:serviceParam wikibase:language \"[AUTO_LANGUAGE],en\". }\n",
    "  values ?sujets {wd:Q133132 #commune de Paris\n",
    "          wd:Q3478362 #semaine sanglante\n",
    "          wd:Q47007501 #campagne de l'intérieur\n",
    "          wd:Q1780490 #communard\n",
    "          }\n",
    "  \n",
    "  ?communard wdt:P106 wd:Q1780490.\n",
    "  \n",
    "  {?ouvrage wdt:P31 wd:Q7725634;\n",
    "           wdt:P921 ?sujets.}\n",
    "  union\n",
    "    {?ouvrage wdt:P31 wd:Q7725634;\n",
    "           wdt:P921 ?communard.}\n",
    "  \n",
    "  OPTIONAL {?ouvrage wdt:P50 ?auteur}\n",
    "  OPTIONAL {?ouvrage wdt:P1476 ?titre}\n",
    "  OPTIONAL {?ouvrage wdt:P123 ?editeur}\n",
    "  OPTIONAL {?ouvrage wdt:P291 ?lieu_publication}\n",
    "  OPTIONAL {?ouvrage wdt:P577 ?date}\n",
    "  OPTIONAL {?ouvrage wdt:P1104 ?nombre_de_pages} \n",
    "\n",
    "}\n",
    "```"
   ]
  },
  {
   "cell_type": "markdown",
   "metadata": {},
   "source": [
    "### En sparql"
   ]
  },
  {
   "cell_type": "code",
   "execution_count": 119,
   "metadata": {},
   "outputs": [
    {
     "data": {
      "text/html": [
       "<iframe style=\"width: 95%; height: 50vh; border: none;\" \n",
       "src=\"https://query.wikidata.org/embed.html#SELECT%20distinct%20%3Fouvrage%20%3FouvrageLabel%20%3Fauteur%20%3FauteurLabel%20%3Ftitre%20%3Fediteur%20%3FediteurLabel%20%3Flieu_publication%20%3Flieu_publicationLabel%20(year(%3Fdate)%20as%20%3Fdate_publication)%20%3Fnombre_de_pages%20WHERE%20%7B%0A%20%20SERVICE%20wikibase%3Alabel%20%7B%20bd%3AserviceParam%20wikibase%3Alanguage%20%22%5BAUTO_LANGUAGE%5D%2Cen%22.%20%7D%0A%20%20values%20%3Fsujets%20%7Bwd%3AQ133132%20%23commune%20de%20Paris%0A%20%20%20%20%20%20%20%20%20%20wd%3AQ3478362%20%23semaine%20sanglante%0A%20%20%20%20%20%20%20%20%20%20wd%3AQ47007501%20%23campagne%20de%20l'int%C3%A9rieur%0A%20%20%20%20%20%20%20%20%20%20wd%3AQ1780490%20%23communard%0A%20%20%20%20%20%20%20%20%20%20%7D%0A%20%20%0A%20%20%3Fcommunard%20wdt%3AP106%20wd%3AQ1780490.%0A%20%20%0A%20%20%7B%3Fouvrage%20wdt%3AP31%20wd%3AQ7725634%3B%0A%20%20%20%20%20%20%20%20%20%20%20wdt%3AP921%20%3Fsujets.%7D%0A%20%20union%0A%20%20%20%20%7B%3Fouvrage%20wdt%3AP31%20wd%3AQ7725634%3B%0A%20%20%20%20%20%20%20%20%20%20%20wdt%3AP921%20%3Fcommunard.%7D%0A%20%20%0A%20%20OPTIONAL%20%7B%3Fouvrage%20wdt%3AP50%20%3Fauteur%7D%0A%20%20OPTIONAL%20%7B%3Fouvrage%20wdt%3AP1476%20%3Ftitre%7D%0A%20%20OPTIONAL%20%7B%3Fouvrage%20wdt%3AP123%20%3Fediteur%7D%0A%20%20OPTIONAL%20%7B%3Fouvrage%20wdt%3AP291%20%3Flieu_publication%7D%0A%20%20OPTIONAL%20%7B%3Fouvrage%20wdt%3AP577%20%3Fdate%7D%0A%20%20OPTIONAL%20%7B%3Fouvrage%20wdt%3AP1104%20%3Fnombre_de_pages%7D%20%0A%0A%7D\" \n",
       "referrerpolicy=\"origin\" sandbox=\"allow-scripts allow-same-origin allow-popups\">\n",
       "</iframe>\n"
      ],
      "text/plain": [
       "<IPython.core.display.HTML object>"
      ]
     },
     "metadata": {},
     "output_type": "display_data"
    }
   ],
   "source": [
    "%%HTML\n",
    "<iframe style=\"width: 95%; height: 50vh; border: none;\" \n",
    "src=\"https://query.wikidata.org/embed.html#SELECT%20distinct%20%3Fouvrage%20%3FouvrageLabel%20%3Fauteur%20%3FauteurLabel%20%3Ftitre%20%3Fediteur%20%3FediteurLabel%20%3Flieu_publication%20%3Flieu_publicationLabel%20(year(%3Fdate)%20as%20%3Fdate_publication)%20%3Fnombre_de_pages%20WHERE%20%7B%0A%20%20SERVICE%20wikibase%3Alabel%20%7B%20bd%3AserviceParam%20wikibase%3Alanguage%20%22%5BAUTO_LANGUAGE%5D%2Cen%22.%20%7D%0A%20%20values%20%3Fsujets%20%7Bwd%3AQ133132%20%23commune%20de%20Paris%0A%20%20%20%20%20%20%20%20%20%20wd%3AQ3478362%20%23semaine%20sanglante%0A%20%20%20%20%20%20%20%20%20%20wd%3AQ47007501%20%23campagne%20de%20l'int%C3%A9rieur%0A%20%20%20%20%20%20%20%20%20%20wd%3AQ1780490%20%23communard%0A%20%20%20%20%20%20%20%20%20%20%7D%0A%20%20%0A%20%20%3Fcommunard%20wdt%3AP106%20wd%3AQ1780490.%0A%20%20%0A%20%20%7B%3Fouvrage%20wdt%3AP31%20wd%3AQ7725634%3B%0A%20%20%20%20%20%20%20%20%20%20%20wdt%3AP921%20%3Fsujets.%7D%0A%20%20union%0A%20%20%20%20%7B%3Fouvrage%20wdt%3AP31%20wd%3AQ7725634%3B%0A%20%20%20%20%20%20%20%20%20%20%20wdt%3AP921%20%3Fcommunard.%7D%0A%20%20%0A%20%20OPTIONAL%20%7B%3Fouvrage%20wdt%3AP50%20%3Fauteur%7D%0A%20%20OPTIONAL%20%7B%3Fouvrage%20wdt%3AP1476%20%3Ftitre%7D%0A%20%20OPTIONAL%20%7B%3Fouvrage%20wdt%3AP123%20%3Fediteur%7D%0A%20%20OPTIONAL%20%7B%3Fouvrage%20wdt%3AP291%20%3Flieu_publication%7D%0A%20%20OPTIONAL%20%7B%3Fouvrage%20wdt%3AP577%20%3Fdate%7D%0A%20%20OPTIONAL%20%7B%3Fouvrage%20wdt%3AP1104%20%3Fnombre_de_pages%7D%20%0A%0A%7D\" \n",
    "referrerpolicy=\"origin\" sandbox=\"allow-scripts allow-same-origin allow-popups\">\n",
    "</iframe>"
   ]
  },
  {
   "cell_type": "markdown",
   "metadata": {},
   "source": [
    "### En python"
   ]
  },
  {
   "cell_type": "code",
   "execution_count": 120,
   "metadata": {},
   "outputs": [],
   "source": [
    "query:str = \"\"\"SELECT distinct ?ouvrage ?ouvrageLabel ?auteur ?auteurLabel ?titre ?editeur ?editeurLabel ?lieu_publication ?lieu_publicationLabel (year(?date) as ?date_publication) ?nombre_de_pages WHERE {\n",
    "  SERVICE wikibase:label { bd:serviceParam wikibase:language \"[AUTO_LANGUAGE],en\". }\n",
    "  values ?sujets {wd:Q133132 #commune de Paris\n",
    "          wd:Q3478362 #semaine sanglante\n",
    "          wd:Q47007501 #campagne de l'intérieur\n",
    "          wd:Q1780490 #communard\n",
    "          }\n",
    "  \n",
    "  ?communard wdt:P106 wd:Q1780490.\n",
    "  \n",
    "  {?ouvrage wdt:P31 wd:Q7725634;\n",
    "           wdt:P921 ?sujets.}\n",
    "  union\n",
    "    {?ouvrage wdt:P31 wd:Q7725634;\n",
    "           wdt:P921 ?communard.}\n",
    "  \n",
    "  OPTIONAL {?ouvrage wdt:P50 ?auteur}\n",
    "  OPTIONAL {?ouvrage wdt:P1476 ?titre}\n",
    "  OPTIONAL {?ouvrage wdt:P123 ?editeur}\n",
    "  OPTIONAL {?ouvrage wdt:P291 ?lieu_publication}\n",
    "  OPTIONAL {?ouvrage wdt:P577 ?date}\n",
    "  OPTIONAL {?ouvrage wdt:P1104 ?nombre_de_pages} \n",
    "\n",
    "}\n",
    "\"\"\""
   ]
  },
  {
   "cell_type": "code",
   "execution_count": 121,
   "metadata": {},
   "outputs": [],
   "source": [
    "extraction_biblio = Extraction_wikidata(endpoint_url, query)\n",
    "df_bibliographie = extraction_biblio.extraire_et_df()"
   ]
  },
  {
   "cell_type": "code",
   "execution_count": 122,
   "metadata": {},
   "outputs": [],
   "source": [
    "#HTML(df_bibliographie.to_html())"
   ]
  },
  {
   "cell_type": "code",
   "execution_count": null,
   "metadata": {},
   "outputs": [],
   "source": []
  },
  {
   "cell_type": "code",
   "execution_count": null,
   "metadata": {},
   "outputs": [],
   "source": []
  },
  {
   "cell_type": "code",
   "execution_count": 123,
   "metadata": {},
   "outputs": [
    {
     "name": "stdout",
     "output_type": "stream",
     "text": [
      "Prosper-Olivier Lissagaray, Histoire de la Commune de 1871\n",
      "Jules Jouy, Louise Michel\n",
      "Q123739718, Nathalie Le Mel. Une communarde bretonne, révolutionnaire et féministe\n",
      "Nordahl Grieg, Nederlaget / la défaite, 1937\n",
      "Élisée Reclus, éditions Pardès, 2013\n",
      "Louise Michel, Mémoires, 1886\n",
      "Pierre Vésinier, Histoire de la Commune de Paris\n",
      "Jacques Rougerie, Paris libre 1871, Éditions du Seuil, 1971\n",
      "Louise Michel, La Commune, Paris, 1898\n",
      "Élie Reclus, La Commune de Paris au jour le jour\n",
      "Victor Hugo, Sur une barricade, au milieu des pavés, 1872\n",
      "Jean-Pierre Chabrol, Le Canon Fraternité, Éditions Gallimard, 1970\n",
      "Jacques Laurent, La Communarde, Presses de la Cité, 1970\n",
      "René Du Mesnil de Maricourt, Au bout du fossé ! ! : la commune en l'an 2073, Hachette, 1874, 46\n",
      "Jean-Louis Robert, Nouvelle histoire de la Commune de Paris, 1871, Arbre bleu éditions, 2023\n"
     ]
    }
   ],
   "source": [
    "colonne:list = ['auteurLabel.value', 'titre.value', 'editeurLabel.value', 'lieu_publicationLabel.value', 'date_publication.value', 'nombre_de_pages.value']\n",
    "for item in range(df_bibliographie.shape[0]):\n",
    "    biblio = []\n",
    "    for i in colonne:\n",
    "        if str(df_bibliographie.iloc[item][i]) != \"nan\":\n",
    "            biblio.append(str(df_bibliographie.iloc[item][i]))\n",
    "    print(\", \".join(biblio))"
   ]
  },
  {
   "cell_type": "markdown",
   "metadata": {
    "hideCode": false,
    "hidePrompt": false
   },
   "source": [
    "## Elle n'est pas morte"
   ]
  },
  {
   "cell_type": "markdown",
   "metadata": {},
   "source": [
    "### Chansons de la commune et sur la commune"
   ]
  },
  {
   "cell_type": "markdown",
   "metadata": {},
   "source": [
    "#### chansons, oeuvre... par auteur, parolier... \n",
    "A trier/vérifier/compléter"
   ]
  },
  {
   "cell_type": "markdown",
   "metadata": {},
   "source": [
    "```sparql\n",
    "SELECT DISTINCT ?chanson ?chansonLabel ?auteur ?auteurLabel ?date_creation WHERE {\n",
    "  SERVICE wikibase:label { bd:serviceParam wikibase:language \"[AUTO_LANGUAGE],en\". }\n",
    "  VALUES ?nature {\n",
    "    wd:Q105543609\n",
    "    wd:Q3331189\n",
    "  }\n",
    "  ?chanson wdt:P31 ?nature;\n",
    "    (wdt:P921|wdt:P547) wd:Q133132;\n",
    "    wdt:P7937 wd:Q7366.\n",
    "  OPTIONAL { ?chanson (wdt:P50|wdt:P676) ?auteur. }\n",
    "  OPTIONAL { ?chanson wdt:P571 ?date_creation. }\n",
    "}\n",
    "```"
   ]
  },
  {
   "cell_type": "markdown",
   "metadata": {},
   "source": [
    "##### En sparql"
   ]
  },
  {
   "cell_type": "code",
   "execution_count": 124,
   "metadata": {},
   "outputs": [
    {
     "data": {
      "text/html": [
       "<iframe style=\"width: 95%; height: 50vh; border: none;\" \n",
       "src=\"https://query.wikidata.org/embed.html#SELECT%20DISTINCT%20%3Fchanson%20%3FchansonLabel%20%3Fauteur%20%3FauteurLabel%20%3Fdate_creation%20WHERE%20%7B%0A%20%20SERVICE%20wikibase%3Alabel%20%7B%20bd%3AserviceParam%20wikibase%3Alanguage%20%22%5BAUTO_LANGUAGE%5D%2Cen%22.%20%7D%0A%20%20VALUES%20%3Fnature%20%7B%0A%20%20%20%20wd%3AQ105543609%0A%20%20%20%20wd%3AQ3331189%0A%20%20%7D%0A%20%20%3Fchanson%20wdt%3AP31%20%3Fnature%3B%0A%20%20%20%20(wdt%3AP921%7Cwdt%3AP547)%20wd%3AQ133132%3B%0A%20%20%20%20wdt%3AP7937%20wd%3AQ7366.%0A%20%20OPTIONAL%20%7B%20%3Fchanson%20(wdt%3AP50%7Cwdt%3AP676)%20%3Fauteur.%20%7D%0A%20%20OPTIONAL%20%7B%20%3Fchanson%20wdt%3AP571%20%3Fdate_creation.%20%7D%0A%7D\" \n",
       "referrerpolicy=\"origin\" sandbox=\"allow-scripts allow-same-origin allow-popups\">\n",
       "</iframe>\n"
      ],
      "text/plain": [
       "<IPython.core.display.HTML object>"
      ]
     },
     "metadata": {},
     "output_type": "display_data"
    }
   ],
   "source": [
    "%%HTML\n",
    "<iframe style=\"width: 95%; height: 50vh; border: none;\" \n",
    "src=\"https://query.wikidata.org/embed.html#SELECT%20DISTINCT%20%3Fchanson%20%3FchansonLabel%20%3Fauteur%20%3FauteurLabel%20%3Fdate_creation%20WHERE%20%7B%0A%20%20SERVICE%20wikibase%3Alabel%20%7B%20bd%3AserviceParam%20wikibase%3Alanguage%20%22%5BAUTO_LANGUAGE%5D%2Cen%22.%20%7D%0A%20%20VALUES%20%3Fnature%20%7B%0A%20%20%20%20wd%3AQ105543609%0A%20%20%20%20wd%3AQ3331189%0A%20%20%7D%0A%20%20%3Fchanson%20wdt%3AP31%20%3Fnature%3B%0A%20%20%20%20(wdt%3AP921%7Cwdt%3AP547)%20wd%3AQ133132%3B%0A%20%20%20%20wdt%3AP7937%20wd%3AQ7366.%0A%20%20OPTIONAL%20%7B%20%3Fchanson%20(wdt%3AP50%7Cwdt%3AP676)%20%3Fauteur.%20%7D%0A%20%20OPTIONAL%20%7B%20%3Fchanson%20wdt%3AP571%20%3Fdate_creation.%20%7D%0A%7D\" \n",
    "referrerpolicy=\"origin\" sandbox=\"allow-scripts allow-same-origin allow-popups\">\n",
    "</iframe>"
   ]
  },
  {
   "cell_type": "markdown",
   "metadata": {},
   "source": [
    "##### En python"
   ]
  },
  {
   "cell_type": "code",
   "execution_count": 125,
   "metadata": {},
   "outputs": [],
   "source": [
    "query:str = \"\"\"SELECT DISTINCT ?chanson ?chansonLabel ?auteur ?auteurLabel ?date_creation WHERE {\n",
    "  SERVICE wikibase:label { bd:serviceParam wikibase:language \"fr\". }\n",
    "  VALUES ?nature {\n",
    "    wd:Q105543609\n",
    "    wd:Q3331189\n",
    "  }\n",
    "  ?chanson wdt:P31 ?nature;\n",
    "    (wdt:P921|wdt:P547) wd:Q133132;\n",
    "    wdt:P7937 wd:Q7366.\n",
    "  OPTIONAL { ?chanson (wdt:P50|wdt:P676) ?auteur. }\n",
    "  OPTIONAL { ?chanson wdt:P571 ?date_creation. }\n",
    "}\n",
    "\"\"\"\n",
    "extraction_communard = Extraction_wikidata(endpoint_url, query)\n",
    "df_chanson = extraction_communard.extraire_et_df()"
   ]
  },
  {
   "cell_type": "code",
   "execution_count": 126,
   "metadata": {},
   "outputs": [
    {
     "data": {
      "text/html": [
       "<div>\n",
       "<style scoped>\n",
       "    .dataframe tbody tr th:only-of-type {\n",
       "        vertical-align: middle;\n",
       "    }\n",
       "\n",
       "    .dataframe tbody tr th {\n",
       "        vertical-align: top;\n",
       "    }\n",
       "\n",
       "    .dataframe thead th {\n",
       "        text-align: right;\n",
       "    }\n",
       "</style>\n",
       "<table border=\"1\" class=\"dataframe\">\n",
       "  <thead>\n",
       "    <tr style=\"text-align: right;\">\n",
       "      <th></th>\n",
       "      <th>chanson.value</th>\n",
       "      <th>auteur.value</th>\n",
       "      <th>chansonLabel.value</th>\n",
       "      <th>auteurLabel.value</th>\n",
       "      <th>date_creation.value</th>\n",
       "    </tr>\n",
       "  </thead>\n",
       "  <tbody>\n",
       "    <tr>\n",
       "      <th>26</th>\n",
       "      <td>http://www.wikidata.org/entity/Q11692187</td>\n",
       "      <td>http://www.wikidata.org/entity/Q9176614</td>\n",
       "      <td>Drapeau rouge</td>\n",
       "      <td>Q9176614</td>\n",
       "      <td>1877-01-01T00:00:00Z</td>\n",
       "    </tr>\n",
       "    <tr>\n",
       "      <th>25</th>\n",
       "      <td>http://www.wikidata.org/entity/Q3039106</td>\n",
       "      <td>http://www.wikidata.org/entity/Q27132691</td>\n",
       "      <td>Drapeau rouge</td>\n",
       "      <td>Justin Bailly</td>\n",
       "      <td>1870-01-01T00:00:00Z</td>\n",
       "    </tr>\n",
       "    <tr>\n",
       "      <th>23</th>\n",
       "      <td>http://www.wikidata.org/entity/Q11692187</td>\n",
       "      <td>http://www.wikidata.org/entity/Q1153056</td>\n",
       "      <td>Drapeau rouge</td>\n",
       "      <td>Paul Brousse</td>\n",
       "      <td>1877-01-01T00:00:00Z</td>\n",
       "    </tr>\n",
       "    <tr>\n",
       "      <th>12</th>\n",
       "      <td>http://www.wikidata.org/entity/Q3051372</td>\n",
       "      <td>http://www.wikidata.org/entity/Q312915</td>\n",
       "      <td>Elle n'est pas morte !</td>\n",
       "      <td>Eugène Pottier</td>\n",
       "      <td>1886-05-01T00:00:00Z</td>\n",
       "    </tr>\n",
       "    <tr>\n",
       "      <th>9</th>\n",
       "      <td>http://www.wikidata.org/entity/Q19167479</td>\n",
       "      <td>http://www.wikidata.org/entity/Q312915</td>\n",
       "      <td>Elle n’est pas morte</td>\n",
       "      <td>Eugène Pottier</td>\n",
       "      <td>NaN</td>\n",
       "    </tr>\n",
       "    <tr>\n",
       "      <th>5</th>\n",
       "      <td>http://www.wikidata.org/entity/Q3053492</td>\n",
       "      <td>http://www.wikidata.org/entity/Q312915</td>\n",
       "      <td>En avant la classe ouvrière</td>\n",
       "      <td>Eugène Pottier</td>\n",
       "      <td>NaN</td>\n",
       "    </tr>\n",
       "    <tr>\n",
       "      <th>22</th>\n",
       "      <td>http://www.wikidata.org/entity/Q3173554</td>\n",
       "      <td>http://www.wikidata.org/entity/Q312915</td>\n",
       "      <td>Jean Misère</td>\n",
       "      <td>Eugène Pottier</td>\n",
       "      <td>1880-01-01T00:00:00Z</td>\n",
       "    </tr>\n",
       "    <tr>\n",
       "      <th>14</th>\n",
       "      <td>http://www.wikidata.org/entity/Q3202322</td>\n",
       "      <td>http://www.wikidata.org/entity/Q27132913</td>\n",
       "      <td>L'Armistice</td>\n",
       "      <td>Alphonse Leclerc</td>\n",
       "      <td>NaN</td>\n",
       "    </tr>\n",
       "    <tr>\n",
       "      <th>18</th>\n",
       "      <td>http://www.wikidata.org/entity/Q3204244</td>\n",
       "      <td>http://www.wikidata.org/entity/Q312915</td>\n",
       "      <td>L'Insurgé</td>\n",
       "      <td>Eugène Pottier</td>\n",
       "      <td>NaN</td>\n",
       "    </tr>\n",
       "    <tr>\n",
       "      <th>13</th>\n",
       "      <td>http://www.wikidata.org/entity/Q49617</td>\n",
       "      <td>http://www.wikidata.org/entity/Q312915</td>\n",
       "      <td>L'Internationale</td>\n",
       "      <td>Eugène Pottier</td>\n",
       "      <td>1871-01-01T00:00:00Z</td>\n",
       "    </tr>\n",
       "    <tr>\n",
       "      <th>4</th>\n",
       "      <td>http://www.wikidata.org/entity/Q3207638</td>\n",
       "      <td>http://www.wikidata.org/.well-known/genid/527a...</td>\n",
       "      <td>La Commune</td>\n",
       "      <td>http://www.wikidata.org/.well-known/genid/527a...</td>\n",
       "      <td>NaN</td>\n",
       "    </tr>\n",
       "    <tr>\n",
       "      <th>19</th>\n",
       "      <td>http://www.wikidata.org/entity/Q3207666</td>\n",
       "      <td>NaN</td>\n",
       "      <td>La Complainte de Rossel</td>\n",
       "      <td>NaN</td>\n",
       "      <td>NaN</td>\n",
       "    </tr>\n",
       "    <tr>\n",
       "      <th>27</th>\n",
       "      <td>http://www.wikidata.org/entity/Q3208137</td>\n",
       "      <td>http://www.wikidata.org/entity/Q216092</td>\n",
       "      <td>La Danse des bombes</td>\n",
       "      <td>Louise Michel</td>\n",
       "      <td>NaN</td>\n",
       "    </tr>\n",
       "    <tr>\n",
       "      <th>21</th>\n",
       "      <td>http://www.wikidata.org/entity/Q3208454</td>\n",
       "      <td>http://www.wikidata.org/.well-known/genid/c5e0...</td>\n",
       "      <td>La Défense de Paris</td>\n",
       "      <td>http://www.wikidata.org/.well-known/genid/c5e0...</td>\n",
       "      <td>1870-01-01T00:00:00Z</td>\n",
       "    </tr>\n",
       "    <tr>\n",
       "      <th>7</th>\n",
       "      <td>http://www.wikidata.org/entity/Q3209901</td>\n",
       "      <td>NaN</td>\n",
       "      <td>La Journée du 18 mars</td>\n",
       "      <td>NaN</td>\n",
       "      <td>NaN</td>\n",
       "    </tr>\n",
       "    <tr>\n",
       "      <th>11</th>\n",
       "      <td>http://www.wikidata.org/entity/Q6466239</td>\n",
       "      <td>NaN</td>\n",
       "      <td>La Marseillaise de la Commune</td>\n",
       "      <td>NaN</td>\n",
       "      <td>NaN</td>\n",
       "    </tr>\n",
       "    <tr>\n",
       "      <th>10</th>\n",
       "      <td>http://www.wikidata.org/entity/Q3212598</td>\n",
       "      <td>http://www.wikidata.org/entity/Q18012157</td>\n",
       "      <td>La République sociale</td>\n",
       "      <td>Emmanuel Delorme</td>\n",
       "      <td>1871-01-01T00:00:00Z</td>\n",
       "    </tr>\n",
       "    <tr>\n",
       "      <th>29</th>\n",
       "      <td>http://www.wikidata.org/entity/Q3212789</td>\n",
       "      <td>http://www.wikidata.org/entity/Q515589</td>\n",
       "      <td>La Semaine sanglante</td>\n",
       "      <td>Jean Baptiste Clément</td>\n",
       "      <td>NaN</td>\n",
       "    </tr>\n",
       "    <tr>\n",
       "      <th>16</th>\n",
       "      <td>http://www.wikidata.org/entity/Q3213133</td>\n",
       "      <td>http://www.wikidata.org/entity/Q312915</td>\n",
       "      <td>La Terreur blanche</td>\n",
       "      <td>Eugène Pottier</td>\n",
       "      <td>NaN</td>\n",
       "    </tr>\n",
       "    <tr>\n",
       "      <th>15</th>\n",
       "      <td>http://www.wikidata.org/entity/Q3220158</td>\n",
       "      <td>http://www.wikidata.org/entity/Q312915</td>\n",
       "      <td>Le 31 Octobre</td>\n",
       "      <td>Eugène Pottier</td>\n",
       "      <td>NaN</td>\n",
       "    </tr>\n",
       "    <tr>\n",
       "      <th>6</th>\n",
       "      <td>http://www.wikidata.org/entity/Q3220817</td>\n",
       "      <td>http://www.wikidata.org/entity/Q515589</td>\n",
       "      <td>Le Capitaine « Au mur »</td>\n",
       "      <td>Jean Baptiste Clément</td>\n",
       "      <td>NaN</td>\n",
       "    </tr>\n",
       "    <tr>\n",
       "      <th>8</th>\n",
       "      <td>http://www.wikidata.org/entity/Q3221000</td>\n",
       "      <td>http://www.wikidata.org/entity/Q3370764</td>\n",
       "      <td>Le Chant de l'internationale</td>\n",
       "      <td>Paul Burani</td>\n",
       "      <td>NaN</td>\n",
       "    </tr>\n",
       "    <tr>\n",
       "      <th>17</th>\n",
       "      <td>http://www.wikidata.org/entity/Q3224625</td>\n",
       "      <td>http://www.wikidata.org/entity/Q312915</td>\n",
       "      <td>Le Moblot</td>\n",
       "      <td>Eugène Pottier</td>\n",
       "      <td>NaN</td>\n",
       "    </tr>\n",
       "    <tr>\n",
       "      <th>30</th>\n",
       "      <td>http://www.wikidata.org/entity/Q3224837</td>\n",
       "      <td>http://www.wikidata.org/entity/Q27133198</td>\n",
       "      <td>Le Mouvement du 18 mars</td>\n",
       "      <td>Ferré Léger</td>\n",
       "      <td>NaN</td>\n",
       "    </tr>\n",
       "    <tr>\n",
       "      <th>1</th>\n",
       "      <td>http://www.wikidata.org/entity/Q3225664</td>\n",
       "      <td>NaN</td>\n",
       "      <td>Le Plan de Trochu</td>\n",
       "      <td>NaN</td>\n",
       "      <td>NaN</td>\n",
       "    </tr>\n",
       "    <tr>\n",
       "      <th>24</th>\n",
       "      <td>http://www.wikidata.org/entity/Q3225887</td>\n",
       "      <td>http://www.wikidata.org/entity/Q312915</td>\n",
       "      <td>Le Pressoir</td>\n",
       "      <td>Eugène Pottier</td>\n",
       "      <td>NaN</td>\n",
       "    </tr>\n",
       "    <tr>\n",
       "      <th>28</th>\n",
       "      <td>http://www.wikidata.org/entity/Q3227687</td>\n",
       "      <td>http://www.wikidata.org/entity/Q3188695</td>\n",
       "      <td>Le Tombeau des fusillés</td>\n",
       "      <td>Jules Jouy</td>\n",
       "      <td>NaN</td>\n",
       "    </tr>\n",
       "    <tr>\n",
       "      <th>20</th>\n",
       "      <td>http://www.wikidata.org/entity/Q3235793</td>\n",
       "      <td>http://www.wikidata.org/entity/Q539458</td>\n",
       "      <td>Les Transportés</td>\n",
       "      <td>Jean Allemane</td>\n",
       "      <td>NaN</td>\n",
       "    </tr>\n",
       "    <tr>\n",
       "      <th>0</th>\n",
       "      <td>http://www.wikidata.org/entity/Q3365349</td>\n",
       "      <td>http://www.wikidata.org/entity/Q18603742</td>\n",
       "      <td>Paris pour un beefsteak</td>\n",
       "      <td>Émile Dereux</td>\n",
       "      <td>NaN</td>\n",
       "    </tr>\n",
       "    <tr>\n",
       "      <th>2</th>\n",
       "      <td>http://www.wikidata.org/entity/Q3412943</td>\n",
       "      <td>http://www.wikidata.org/entity/Q312915</td>\n",
       "      <td>Quand viendra-t-elle ?</td>\n",
       "      <td>Eugène Pottier</td>\n",
       "      <td>NaN</td>\n",
       "    </tr>\n",
       "    <tr>\n",
       "      <th>3</th>\n",
       "      <td>http://www.wikidata.org/entity/Q3561457</td>\n",
       "      <td>http://www.wikidata.org/entity/Q3734478</td>\n",
       "      <td>Vive la Commune</td>\n",
       "      <td>Eugène Chatelain</td>\n",
       "      <td>NaN</td>\n",
       "    </tr>\n",
       "  </tbody>\n",
       "</table>\n",
       "</div>"
      ],
      "text/plain": [
       "                               chanson.value  \\\n",
       "26  http://www.wikidata.org/entity/Q11692187   \n",
       "25   http://www.wikidata.org/entity/Q3039106   \n",
       "23  http://www.wikidata.org/entity/Q11692187   \n",
       "12   http://www.wikidata.org/entity/Q3051372   \n",
       "9   http://www.wikidata.org/entity/Q19167479   \n",
       "5    http://www.wikidata.org/entity/Q3053492   \n",
       "22   http://www.wikidata.org/entity/Q3173554   \n",
       "14   http://www.wikidata.org/entity/Q3202322   \n",
       "18   http://www.wikidata.org/entity/Q3204244   \n",
       "13     http://www.wikidata.org/entity/Q49617   \n",
       "4    http://www.wikidata.org/entity/Q3207638   \n",
       "19   http://www.wikidata.org/entity/Q3207666   \n",
       "27   http://www.wikidata.org/entity/Q3208137   \n",
       "21   http://www.wikidata.org/entity/Q3208454   \n",
       "7    http://www.wikidata.org/entity/Q3209901   \n",
       "11   http://www.wikidata.org/entity/Q6466239   \n",
       "10   http://www.wikidata.org/entity/Q3212598   \n",
       "29   http://www.wikidata.org/entity/Q3212789   \n",
       "16   http://www.wikidata.org/entity/Q3213133   \n",
       "15   http://www.wikidata.org/entity/Q3220158   \n",
       "6    http://www.wikidata.org/entity/Q3220817   \n",
       "8    http://www.wikidata.org/entity/Q3221000   \n",
       "17   http://www.wikidata.org/entity/Q3224625   \n",
       "30   http://www.wikidata.org/entity/Q3224837   \n",
       "1    http://www.wikidata.org/entity/Q3225664   \n",
       "24   http://www.wikidata.org/entity/Q3225887   \n",
       "28   http://www.wikidata.org/entity/Q3227687   \n",
       "20   http://www.wikidata.org/entity/Q3235793   \n",
       "0    http://www.wikidata.org/entity/Q3365349   \n",
       "2    http://www.wikidata.org/entity/Q3412943   \n",
       "3    http://www.wikidata.org/entity/Q3561457   \n",
       "\n",
       "                                         auteur.value  \\\n",
       "26            http://www.wikidata.org/entity/Q9176614   \n",
       "25           http://www.wikidata.org/entity/Q27132691   \n",
       "23            http://www.wikidata.org/entity/Q1153056   \n",
       "12             http://www.wikidata.org/entity/Q312915   \n",
       "9              http://www.wikidata.org/entity/Q312915   \n",
       "5              http://www.wikidata.org/entity/Q312915   \n",
       "22             http://www.wikidata.org/entity/Q312915   \n",
       "14           http://www.wikidata.org/entity/Q27132913   \n",
       "18             http://www.wikidata.org/entity/Q312915   \n",
       "13             http://www.wikidata.org/entity/Q312915   \n",
       "4   http://www.wikidata.org/.well-known/genid/527a...   \n",
       "19                                                NaN   \n",
       "27             http://www.wikidata.org/entity/Q216092   \n",
       "21  http://www.wikidata.org/.well-known/genid/c5e0...   \n",
       "7                                                 NaN   \n",
       "11                                                NaN   \n",
       "10           http://www.wikidata.org/entity/Q18012157   \n",
       "29             http://www.wikidata.org/entity/Q515589   \n",
       "16             http://www.wikidata.org/entity/Q312915   \n",
       "15             http://www.wikidata.org/entity/Q312915   \n",
       "6              http://www.wikidata.org/entity/Q515589   \n",
       "8             http://www.wikidata.org/entity/Q3370764   \n",
       "17             http://www.wikidata.org/entity/Q312915   \n",
       "30           http://www.wikidata.org/entity/Q27133198   \n",
       "1                                                 NaN   \n",
       "24             http://www.wikidata.org/entity/Q312915   \n",
       "28            http://www.wikidata.org/entity/Q3188695   \n",
       "20             http://www.wikidata.org/entity/Q539458   \n",
       "0            http://www.wikidata.org/entity/Q18603742   \n",
       "2              http://www.wikidata.org/entity/Q312915   \n",
       "3             http://www.wikidata.org/entity/Q3734478   \n",
       "\n",
       "               chansonLabel.value  \\\n",
       "26                  Drapeau rouge   \n",
       "25                  Drapeau rouge   \n",
       "23                  Drapeau rouge   \n",
       "12         Elle n'est pas morte !   \n",
       "9            Elle n’est pas morte   \n",
       "5     En avant la classe ouvrière   \n",
       "22                    Jean Misère   \n",
       "14                    L'Armistice   \n",
       "18                      L'Insurgé   \n",
       "13               L'Internationale   \n",
       "4                      La Commune   \n",
       "19        La Complainte de Rossel   \n",
       "27            La Danse des bombes   \n",
       "21            La Défense de Paris   \n",
       "7           La Journée du 18 mars   \n",
       "11  La Marseillaise de la Commune   \n",
       "10          La République sociale   \n",
       "29           La Semaine sanglante   \n",
       "16             La Terreur blanche   \n",
       "15                  Le 31 Octobre   \n",
       "6         Le Capitaine « Au mur »   \n",
       "8    Le Chant de l'internationale   \n",
       "17                      Le Moblot   \n",
       "30        Le Mouvement du 18 mars   \n",
       "1               Le Plan de Trochu   \n",
       "24                    Le Pressoir   \n",
       "28        Le Tombeau des fusillés   \n",
       "20                Les Transportés   \n",
       "0         Paris pour un beefsteak   \n",
       "2          Quand viendra-t-elle ?   \n",
       "3                 Vive la Commune   \n",
       "\n",
       "                                    auteurLabel.value   date_creation.value  \n",
       "26                                           Q9176614  1877-01-01T00:00:00Z  \n",
       "25                                      Justin Bailly  1870-01-01T00:00:00Z  \n",
       "23                                       Paul Brousse  1877-01-01T00:00:00Z  \n",
       "12                                     Eugène Pottier  1886-05-01T00:00:00Z  \n",
       "9                                      Eugène Pottier                   NaN  \n",
       "5                                      Eugène Pottier                   NaN  \n",
       "22                                     Eugène Pottier  1880-01-01T00:00:00Z  \n",
       "14                                   Alphonse Leclerc                   NaN  \n",
       "18                                     Eugène Pottier                   NaN  \n",
       "13                                     Eugène Pottier  1871-01-01T00:00:00Z  \n",
       "4   http://www.wikidata.org/.well-known/genid/527a...                   NaN  \n",
       "19                                                NaN                   NaN  \n",
       "27                                      Louise Michel                   NaN  \n",
       "21  http://www.wikidata.org/.well-known/genid/c5e0...  1870-01-01T00:00:00Z  \n",
       "7                                                 NaN                   NaN  \n",
       "11                                                NaN                   NaN  \n",
       "10                                   Emmanuel Delorme  1871-01-01T00:00:00Z  \n",
       "29                              Jean Baptiste Clément                   NaN  \n",
       "16                                     Eugène Pottier                   NaN  \n",
       "15                                     Eugène Pottier                   NaN  \n",
       "6                               Jean Baptiste Clément                   NaN  \n",
       "8                                         Paul Burani                   NaN  \n",
       "17                                     Eugène Pottier                   NaN  \n",
       "30                                        Ferré Léger                   NaN  \n",
       "1                                                 NaN                   NaN  \n",
       "24                                     Eugène Pottier                   NaN  \n",
       "28                                         Jules Jouy                   NaN  \n",
       "20                                      Jean Allemane                   NaN  \n",
       "0                                        Émile Dereux                   NaN  \n",
       "2                                      Eugène Pottier                   NaN  \n",
       "3                                    Eugène Chatelain                   NaN  "
      ]
     },
     "execution_count": 126,
     "metadata": {},
     "output_type": "execute_result"
    }
   ],
   "source": [
    "df_chanson = df_chanson.loc[:,['chanson.value', 'auteur.value', 'chansonLabel.value', 'auteurLabel.value', 'date_creation.value']]\n",
    "df_chanson.sort_values(by = 'chansonLabel.value')"
   ]
  },
  {
   "cell_type": "markdown",
   "metadata": {},
   "source": [
    "#### Pour consulter les paroles sur wikisources"
   ]
  },
  {
   "cell_type": "markdown",
   "metadata": {},
   "source": [
    "```sparql\n",
    "SELECT DISTINCT ?chanson ?wikisourceSitelink WHERE {\n",
    "  ?wikisourceSitelink schema:isPartOf [ wikibase:wikiGroup \"wikisource\" ];\n",
    "                      schema:inLanguage \"fr\"; #?wikisourceLanguage;\n",
    "                      schema:about ?chanson.\n",
    "  values ?nature{wd:Q105543609 \n",
    "                  wd:Q3331189 }\n",
    "  \n",
    "  ?chanson wdt:P31 ?nature;\n",
    "         wdt:P921 wd:Q133132;\n",
    "         wdt:P7937 wd:Q7366.\n",
    "}\n",
    "```"
   ]
  },
  {
   "cell_type": "markdown",
   "metadata": {},
   "source": [
    "##### En sparql"
   ]
  },
  {
   "cell_type": "code",
   "execution_count": 140,
   "metadata": {},
   "outputs": [
    {
     "data": {
      "text/html": [
       "<iframe style=\"width: 95%; height: 50vh; border: none;\" \n",
       "src=\"https://query.wikidata.org/embed.html#SELECT%20DISTINCT%20%3Fchanson%20%3FwikisourceSitelink%20WHERE%20%7B%0A%20%20%3FwikisourceSitelink%20schema%3AisPartOf%20%5B%20wikibase%3AwikiGroup%20%22wikisource%22%20%5D%3B%0A%20%20%20%20%20%20%20%20%20%20%20%20%20%20%20%20%20%20%20%20%20%20schema%3AinLanguage%20%22fr%22%3B%20%23%3FwikisourceLanguage%3B%0A%20%20%20%20%20%20%20%20%20%20%20%20%20%20%20%20%20%20%20%20%20%20schema%3Aabout%20%3Fchanson.%0A%20%20values%20%3Fnature%7Bwd%3AQ105543609%20%0A%20%20%20%20%20%20%20%20%20%20%20%20%20%20%20%20%20%20wd%3AQ3331189%20%7D%0A%20%20%0A%20%20%3Fchanson%20wdt%3AP31%20%3Fnature%3B%0A%20%20%20%20%20%20%20%20%20wdt%3AP921%20wd%3AQ133132%3B%0A%20%20%20%20%20%20%20%20%20wdt%3AP7937%20wd%3AQ7366.%0A%7D%0A\" \n",
       "referrerpolicy=\"origin\" sandbox=\"allow-scripts allow-same-origin allow-popups\">\n",
       "</iframe>\n"
      ],
      "text/plain": [
       "<IPython.core.display.HTML object>"
      ]
     },
     "metadata": {},
     "output_type": "display_data"
    }
   ],
   "source": [
    "%%HTML\n",
    "<iframe style=\"width: 95%; height: 50vh; border: none;\" \n",
    "src=\"https://query.wikidata.org/embed.html#SELECT%20DISTINCT%20%3Fchanson%20%3FwikisourceSitelink%20WHERE%20%7B%0A%20%20%3FwikisourceSitelink%20schema%3AisPartOf%20%5B%20wikibase%3AwikiGroup%20%22wikisource%22%20%5D%3B%0A%20%20%20%20%20%20%20%20%20%20%20%20%20%20%20%20%20%20%20%20%20%20schema%3AinLanguage%20%22fr%22%3B%20%23%3FwikisourceLanguage%3B%0A%20%20%20%20%20%20%20%20%20%20%20%20%20%20%20%20%20%20%20%20%20%20schema%3Aabout%20%3Fchanson.%0A%20%20values%20%3Fnature%7Bwd%3AQ105543609%20%0A%20%20%20%20%20%20%20%20%20%20%20%20%20%20%20%20%20%20wd%3AQ3331189%20%7D%0A%20%20%0A%20%20%3Fchanson%20wdt%3AP31%20%3Fnature%3B%0A%20%20%20%20%20%20%20%20%20wdt%3AP921%20wd%3AQ133132%3B%0A%20%20%20%20%20%20%20%20%20wdt%3AP7937%20wd%3AQ7366.%0A%7D%0A\" \n",
    "referrerpolicy=\"origin\" sandbox=\"allow-scripts allow-same-origin allow-popups\">\n",
    "</iframe>"
   ]
  },
  {
   "cell_type": "markdown",
   "metadata": {},
   "source": [
    "##### En python"
   ]
  },
  {
   "cell_type": "code",
   "execution_count": 128,
   "metadata": {},
   "outputs": [
    {
     "data": {
      "text/html": [
       "<div>\n",
       "<style scoped>\n",
       "    .dataframe tbody tr th:only-of-type {\n",
       "        vertical-align: middle;\n",
       "    }\n",
       "\n",
       "    .dataframe tbody tr th {\n",
       "        vertical-align: top;\n",
       "    }\n",
       "\n",
       "    .dataframe thead th {\n",
       "        text-align: right;\n",
       "    }\n",
       "</style>\n",
       "<table border=\"1\" class=\"dataframe\">\n",
       "  <thead>\n",
       "    <tr style=\"text-align: right;\">\n",
       "      <th></th>\n",
       "      <th>wikisourceSitelink.type</th>\n",
       "      <th>wikisourceSitelink.value</th>\n",
       "      <th>chanson.type</th>\n",
       "      <th>chanson.value</th>\n",
       "    </tr>\n",
       "  </thead>\n",
       "  <tbody>\n",
       "    <tr>\n",
       "      <th>0</th>\n",
       "      <td>uri</td>\n",
       "      <td>https://fr.wikisource.org/wiki/Elle_n%E2%80%99...</td>\n",
       "      <td>uri</td>\n",
       "      <td>http://www.wikidata.org/entity/Q19167479</td>\n",
       "    </tr>\n",
       "    <tr>\n",
       "      <th>1</th>\n",
       "      <td>uri</td>\n",
       "      <td>https://fr.wikisource.org/wiki/Le_Drapeau_roug...</td>\n",
       "      <td>uri</td>\n",
       "      <td>http://www.wikidata.org/entity/Q3039106</td>\n",
       "    </tr>\n",
       "    <tr>\n",
       "      <th>2</th>\n",
       "      <td>uri</td>\n",
       "      <td>https://fr.wikisource.org/wiki/La_Complainte_d...</td>\n",
       "      <td>uri</td>\n",
       "      <td>http://www.wikidata.org/entity/Q3207666</td>\n",
       "    </tr>\n",
       "  </tbody>\n",
       "</table>\n",
       "</div>"
      ],
      "text/plain": [
       "  wikisourceSitelink.type                           wikisourceSitelink.value  \\\n",
       "0                     uri  https://fr.wikisource.org/wiki/Elle_n%E2%80%99...   \n",
       "1                     uri  https://fr.wikisource.org/wiki/Le_Drapeau_roug...   \n",
       "2                     uri  https://fr.wikisource.org/wiki/La_Complainte_d...   \n",
       "\n",
       "  chanson.type                             chanson.value  \n",
       "0          uri  http://www.wikidata.org/entity/Q19167479  \n",
       "1          uri   http://www.wikidata.org/entity/Q3039106  \n",
       "2          uri   http://www.wikidata.org/entity/Q3207666  "
      ]
     },
     "execution_count": 128,
     "metadata": {},
     "output_type": "execute_result"
    }
   ],
   "source": [
    "query = \"\"\"SELECT DISTINCT ?chanson ?wikisourceSitelink WHERE {\n",
    "  ?wikisourceSitelink schema:isPartOf [ wikibase:wikiGroup \"wikisource\" ];\n",
    "                      schema:inLanguage \"fr\"; #?wikisourceLanguage;\n",
    "                      schema:about ?chanson.\n",
    "  values ?nature{wd:Q105543609 \n",
    "                  wd:Q3331189 }\n",
    "  \n",
    "  ?chanson wdt:P31 ?nature;\n",
    "         wdt:P921 wd:Q133132;\n",
    "         wdt:P7937 wd:Q7366.\n",
    "}\n",
    "\"\"\"\n",
    "extraction_paroles = Extraction_wikidata(endpoint_url, query)\n",
    "df_paroles = extraction_paroles.extraire_et_df()\n",
    "df_paroles"
   ]
  },
  {
   "cell_type": "code",
   "execution_count": 129,
   "metadata": {},
   "outputs": [
    {
     "data": {
      "text/html": [
       "<table border=\"1\" class=\"dataframe\">\n",
       "  <thead>\n",
       "    <tr style=\"text-align: right;\">\n",
       "      <th></th>\n",
       "      <th>chanson.value</th>\n",
       "      <th>wikisourceSitelink.value</th>\n",
       "    </tr>\n",
       "  </thead>\n",
       "  <tbody>\n",
       "    <tr>\n",
       "      <th>0</th>\n",
       "      <td>http://www.wikidata.org/entity/Q19167479</td>\n",
       "      <td>https://fr.wikisource.org/wiki/Elle_n%E2%80%99est_pas_morte</td>\n",
       "    </tr>\n",
       "    <tr>\n",
       "      <th>1</th>\n",
       "      <td>http://www.wikidata.org/entity/Q3039106</td>\n",
       "      <td>https://fr.wikisource.org/wiki/Le_Drapeau_rouge_(Justin_Bailly)</td>\n",
       "    </tr>\n",
       "    <tr>\n",
       "      <th>2</th>\n",
       "      <td>http://www.wikidata.org/entity/Q3207666</td>\n",
       "      <td>https://fr.wikisource.org/wiki/La_Complainte_de_Rossel</td>\n",
       "    </tr>\n",
       "  </tbody>\n",
       "</table>"
      ],
      "text/plain": [
       "<IPython.core.display.HTML object>"
      ]
     },
     "execution_count": 129,
     "metadata": {},
     "output_type": "execute_result"
    }
   ],
   "source": [
    "df_paroles = df_paroles.loc[:,['chanson.value', 'wikisourceSitelink.value']]\n",
    "HTML(df_paroles.to_html())"
   ]
  },
  {
   "cell_type": "markdown",
   "metadata": {},
   "source": [
    "### Commémore"
   ]
  },
  {
   "cell_type": "markdown",
   "metadata": {
    "hideCode": false,
    "hidePrompt": false
   },
   "source": [
    ">  commémore (P547)\n",
    "ce que commémore le lieu, le monument, le mémorial, le jour férié"
   ]
  },
  {
   "cell_type": "markdown",
   "metadata": {
    "hideCode": false,
    "hidePrompt": false
   },
   "source": [
    "```sparql\n",
    "SELECT ?Commune_de_Paris ?Commune_de_ParisLabel WHERE {\n",
    "  SERVICE wikibase:label { bd:serviceParam wikibase:language \"fr\". }\n",
    "  ?Commune_de_Paris wdt:P547 wd:Q133132.\n",
    "}\n",
    "```"
   ]
  },
  {
   "cell_type": "markdown",
   "metadata": {},
   "source": [
    "#### En sparql"
   ]
  },
  {
   "cell_type": "code",
   "execution_count": 130,
   "metadata": {
    "hideCode": false,
    "hidePrompt": false
   },
   "outputs": [
    {
     "data": {
      "text/html": [
       "<iframe style=\"width: 95%; height: 50vh; border: none;\" \n",
       "src=\"https://query.wikidata.org/embed.html#SELECT%20%3FCommune_de_Paris%20%3FCommune_de_ParisLabel%20WHERE%20%7B%0A%20%20SERVICE%20wikibase%3Alabel%20%7B%20bd%3AserviceParam%20wikibase%3Alanguage%20%22%5BAUTO_LANGUAGE%5D%2Cen%22.%20%7D%0A%20%20%3FCommune_de_Paris%20wdt%3AP547%20wd%3AQ133132.%0A%7D%0ALIMIT%20100\" \n",
       "referrerpolicy=\"origin\" sandbox=\"allow-scripts allow-same-origin allow-popups\">\n",
       "</iframe>\n"
      ],
      "text/plain": [
       "<IPython.core.display.HTML object>"
      ]
     },
     "metadata": {},
     "output_type": "display_data"
    }
   ],
   "source": [
    "%%HTML\n",
    "<iframe style=\"width: 95%; height: 50vh; border: none;\" \n",
    "src=\"https://query.wikidata.org/embed.html#SELECT%20%3FCommune_de_Paris%20%3FCommune_de_ParisLabel%20WHERE%20%7B%0A%20%20SERVICE%20wikibase%3Alabel%20%7B%20bd%3AserviceParam%20wikibase%3Alanguage%20%22%5BAUTO_LANGUAGE%5D%2Cen%22.%20%7D%0A%20%20%3FCommune_de_Paris%20wdt%3AP547%20wd%3AQ133132.%0A%7D%0ALIMIT%20100\" \n",
    "referrerpolicy=\"origin\" sandbox=\"allow-scripts allow-same-origin allow-popups\">\n",
    "</iframe>"
   ]
  },
  {
   "cell_type": "markdown",
   "metadata": {},
   "source": [
    "#### En python"
   ]
  },
  {
   "cell_type": "code",
   "execution_count": 131,
   "metadata": {},
   "outputs": [],
   "source": [
    "query = \"\"\"SELECT ?Commune_de_Paris ?Commune_de_ParisLabel WHERE {\n",
    "  SERVICE wikibase:label { bd:serviceParam wikibase:language \"fr\". }\n",
    "  ?Commune_de_Paris wdt:P547 wd:Q133132.\n",
    "}\n",
    "\"\"\"\n",
    "extraction_communard = Extraction_wikidata(endpoint_url, query)\n",
    "df_tout_ce_qui_commemore = extraction_communard.extraire_et_df()"
   ]
  },
  {
   "cell_type": "code",
   "execution_count": 132,
   "metadata": {},
   "outputs": [
    {
     "data": {
      "text/html": [
       "<table border=\"1\" class=\"dataframe\">\n",
       "  <thead>\n",
       "    <tr style=\"text-align: right;\">\n",
       "      <th></th>\n",
       "      <th>Commune_de_Paris.value</th>\n",
       "      <th>Commune_de_ParisLabel.value</th>\n",
       "    </tr>\n",
       "  </thead>\n",
       "  <tbody>\n",
       "    <tr>\n",
       "      <th>0</th>\n",
       "      <td>http://www.wikidata.org/entity/Q42401130</td>\n",
       "      <td>plaque commémorative de la barricade au n°17 de la rue Fontaine-au-Roi</td>\n",
       "    </tr>\n",
       "    <tr>\n",
       "      <th>1</th>\n",
       "      <td>http://www.wikidata.org/entity/Q57441810</td>\n",
       "      <td>Mémorial de la Commune de Paris à České Budějovice</td>\n",
       "    </tr>\n",
       "    <tr>\n",
       "      <th>2</th>\n",
       "      <td>http://www.wikidata.org/entity/Q104641243</td>\n",
       "      <td>centenaire de la Commune de Paris</td>\n",
       "    </tr>\n",
       "    <tr>\n",
       "      <th>3</th>\n",
       "      <td>http://www.wikidata.org/entity/Q104641253</td>\n",
       "      <td>150e anniversaire de la Commune de Paris</td>\n",
       "    </tr>\n",
       "    <tr>\n",
       "      <th>4</th>\n",
       "      <td>http://www.wikidata.org/entity/Q111522339</td>\n",
       "      <td>Jour de la Commune de Paris</td>\n",
       "    </tr>\n",
       "    <tr>\n",
       "      <th>5</th>\n",
       "      <td>http://www.wikidata.org/entity/Q116742120</td>\n",
       "      <td>manifestation commémorative de la Commune à Berne</td>\n",
       "    </tr>\n",
       "  </tbody>\n",
       "</table>"
      ],
      "text/plain": [
       "<IPython.core.display.HTML object>"
      ]
     },
     "execution_count": 132,
     "metadata": {},
     "output_type": "execute_result"
    }
   ],
   "source": [
    "df_tout_ce_qui_commemore = df_tout_ce_qui_commemore.loc[:,['Commune_de_Paris.value', 'Commune_de_ParisLabel.value']]\n",
    "HTML(df_tout_ce_qui_commemore.to_html())"
   ]
  },
  {
   "cell_type": "markdown",
   "metadata": {},
   "source": [
    "### Nommé en hommage à"
   ]
  },
  {
   "cell_type": "markdown",
   "metadata": {},
   "source": [
    "```sparql\n",
    "SELECT  ?Commune_de_Paris ?Commune_de_ParisLabel ?nature_de_l_élément ?nature_de_l_élémentLabel WHERE {\n",
    "  SERVICE wikibase:label { bd:serviceParam wikibase:language \"fr, [AUTO_LANGUAGE]\". }\n",
    "  ?Commune_de_Paris wdt:P138 wd:Q133132.\n",
    "  OPTIONAL { ?Commune_de_Paris wdt:P31 ?nature_de_l_élément. }\n",
    "}\n",
    "order by ?Commune_de_ParisLabel\n",
    "```"
   ]
  },
  {
   "cell_type": "markdown",
   "metadata": {},
   "source": [
    "#### En sparql"
   ]
  },
  {
   "cell_type": "code",
   "execution_count": 133,
   "metadata": {},
   "outputs": [
    {
     "data": {
      "text/html": [
       "<iframe style=\"width: 95%; height: 50vh; border: none;\" \n",
       "src=\"https://query.wikidata.org/embed.html#SELECT%20%20%3FCommune_de_Paris%20%3FCommune_de_ParisLabel%20%3Fnature_de_l_%C3%A9l%C3%A9ment%20%3Fnature_de_l_%C3%A9l%C3%A9mentLabel%20WHERE%20%7B%0A%20%20SERVICE%20wikibase%3Alabel%20%7B%20bd%3AserviceParam%20wikibase%3Alanguage%20%22fr%2C%20%5BAUTO_LANGUAGE%5D%22.%20%7D%0A%20%20%3FCommune_de_Paris%20wdt%3AP138%20wd%3AQ133132.%0A%20%20OPTIONAL%20%7B%20%3FCommune_de_Paris%20wdt%3AP31%20%3Fnature_de_l_%C3%A9l%C3%A9ment.%20%7D%0A%7D%0Aorder%20by%20%3FCommune_de_ParisLabel\" \n",
       "referrerpolicy=\"origin\" sandbox=\"allow-scripts allow-same-origin allow-popups\">\n",
       "</iframe>\n"
      ],
      "text/plain": [
       "<IPython.core.display.HTML object>"
      ]
     },
     "metadata": {},
     "output_type": "display_data"
    }
   ],
   "source": [
    "%%HTML\n",
    "<iframe style=\"width: 95%; height: 50vh; border: none;\" \n",
    "src=\"https://query.wikidata.org/embed.html#SELECT%20%20%3FCommune_de_Paris%20%3FCommune_de_ParisLabel%20%3Fnature_de_l_%C3%A9l%C3%A9ment%20%3Fnature_de_l_%C3%A9l%C3%A9mentLabel%20WHERE%20%7B%0A%20%20SERVICE%20wikibase%3Alabel%20%7B%20bd%3AserviceParam%20wikibase%3Alanguage%20%22fr%2C%20%5BAUTO_LANGUAGE%5D%22.%20%7D%0A%20%20%3FCommune_de_Paris%20wdt%3AP138%20wd%3AQ133132.%0A%20%20OPTIONAL%20%7B%20%3FCommune_de_Paris%20wdt%3AP31%20%3Fnature_de_l_%C3%A9l%C3%A9ment.%20%7D%0A%7D%0Aorder%20by%20%3FCommune_de_ParisLabel\" \n",
    "referrerpolicy=\"origin\" sandbox=\"allow-scripts allow-same-origin allow-popups\">\n",
    "</iframe>"
   ]
  },
  {
   "cell_type": "code",
   "execution_count": 134,
   "metadata": {},
   "outputs": [],
   "source": [
    "#### En python"
   ]
  },
  {
   "cell_type": "code",
   "execution_count": 135,
   "metadata": {},
   "outputs": [],
   "source": [
    "query = \"\"\"SELECT  ?Commune_de_Paris ?Commune_de_ParisLabel ?nature_de_l_élément ?nature_de_l_élémentLabel WHERE {\n",
    "  SERVICE wikibase:label { bd:serviceParam wikibase:language \"fr, [AUTO_LANGUAGE]\". }\n",
    "  ?Commune_de_Paris wdt:P138 wd:Q133132.\n",
    "  OPTIONAL { ?Commune_de_Paris wdt:P31 ?nature_de_l_élément. }\n",
    "}\n",
    "order by ?Commune_de_ParisLabel\n",
    "\"\"\"\n",
    "extraction_nomme = Extraction_wikidata(endpoint_url, query)\n",
    "df_nomme = extraction_nomme.extraire_et_df()"
   ]
  },
  {
   "cell_type": "code",
   "execution_count": 136,
   "metadata": {},
   "outputs": [
    {
     "data": {
      "text/html": [
       "<table border=\"1\" class=\"dataframe\">\n",
       "  <thead>\n",
       "    <tr style=\"text-align: right;\">\n",
       "      <th></th>\n",
       "      <th>Commune_de_Paris.value</th>\n",
       "      <th>Commune_de_ParisLabel.value</th>\n",
       "      <th>nature_de_l_élément.value</th>\n",
       "      <th>nature_de_l_élémentLabel.value</th>\n",
       "    </tr>\n",
       "  </thead>\n",
       "  <tbody>\n",
       "    <tr>\n",
       "      <th>0</th>\n",
       "      <td>http://www.wikidata.org/entity/Q113533729</td>\n",
       "      <td>Q113533729</td>\n",
       "      <td>http://www.wikidata.org/entity/Q123705</td>\n",
       "      <td>quartier</td>\n",
       "    </tr>\n",
       "    <tr>\n",
       "      <th>1</th>\n",
       "      <td>http://www.wikidata.org/entity/Q123703760</td>\n",
       "      <td>Q123703760</td>\n",
       "      <td>http://www.wikidata.org/entity/Q79007</td>\n",
       "      <td>rue</td>\n",
       "    </tr>\n",
       "    <tr>\n",
       "      <th>2</th>\n",
       "      <td>http://www.wikidata.org/entity/Q123950599</td>\n",
       "      <td>Q123950599</td>\n",
       "      <td>http://www.wikidata.org/entity/Q79007</td>\n",
       "      <td>rue</td>\n",
       "    </tr>\n",
       "    <tr>\n",
       "      <th>3</th>\n",
       "      <td>http://www.wikidata.org/entity/Q1120344</td>\n",
       "      <td>Bataillon Commune de Paris</td>\n",
       "      <td>http://www.wikidata.org/entity/Q6382533</td>\n",
       "      <td>bataillon</td>\n",
       "    </tr>\n",
       "    <tr>\n",
       "      <th>4</th>\n",
       "      <td>http://www.wikidata.org/entity/Q2989462</td>\n",
       "      <td>Commune populaire de Shanghai</td>\n",
       "      <td>http://www.wikidata.org/entity/Q1323212</td>\n",
       "      <td>insurrection</td>\n",
       "    </tr>\n",
       "    <tr>\n",
       "      <th>5</th>\n",
       "      <td>http://www.wikidata.org/entity/Q2989462</td>\n",
       "      <td>Commune populaire de Shanghai</td>\n",
       "      <td>http://www.wikidata.org/entity/Q7318739</td>\n",
       "      <td>Q7318739</td>\n",
       "    </tr>\n",
       "    <tr>\n",
       "      <th>6</th>\n",
       "      <td>http://www.wikidata.org/entity/Q7137569</td>\n",
       "      <td>Glacier Parizhskaya Kommuna</td>\n",
       "      <td>http://www.wikidata.org/entity/Q35666</td>\n",
       "      <td>glacier</td>\n",
       "    </tr>\n",
       "    <tr>\n",
       "      <th>7</th>\n",
       "      <td>http://www.wikidata.org/entity/Q111522339</td>\n",
       "      <td>Jour de la Commune de Paris</td>\n",
       "      <td>http://www.wikidata.org/entity/Q15275719</td>\n",
       "      <td>événement périodique</td>\n",
       "    </tr>\n",
       "    <tr>\n",
       "      <th>8</th>\n",
       "      <td>http://www.wikidata.org/entity/Q2867465</td>\n",
       "      <td>Les Amies et Amis de la Commune de Paris 1871</td>\n",
       "      <td>http://www.wikidata.org/entity/Q43229</td>\n",
       "      <td>organisation</td>\n",
       "    </tr>\n",
       "    <tr>\n",
       "      <th>9</th>\n",
       "      <td>http://www.wikidata.org/entity/Q7729258</td>\n",
       "      <td>Les Jours de la Commune</td>\n",
       "      <td>http://www.wikidata.org/entity/Q7725634</td>\n",
       "      <td>œuvre littéraire</td>\n",
       "    </tr>\n",
       "    <tr>\n",
       "      <th>10</th>\n",
       "      <td>http://www.wikidata.org/entity/Q4345127</td>\n",
       "      <td>Parijskaïa Kommuna</td>\n",
       "      <td>http://www.wikidata.org/entity/Q11446</td>\n",
       "      <td>navire</td>\n",
       "    </tr>\n",
       "    <tr>\n",
       "      <th>11</th>\n",
       "      <td>http://www.wikidata.org/entity/Q288199</td>\n",
       "      <td>Pariske komune</td>\n",
       "      <td>http://www.wikidata.org/entity/Q79007</td>\n",
       "      <td>rue</td>\n",
       "    </tr>\n",
       "    <tr>\n",
       "      <th>12</th>\n",
       "      <td>http://www.wikidata.org/entity/Q1570972</td>\n",
       "      <td>Sebastopol</td>\n",
       "      <td>http://www.wikidata.org/entity/Q182531</td>\n",
       "      <td>cuirassé</td>\n",
       "    </tr>\n",
       "    <tr>\n",
       "      <th>13</th>\n",
       "      <td>http://www.wikidata.org/entity/Q832693</td>\n",
       "      <td>Straße der Pariser Kommune</td>\n",
       "      <td>http://www.wikidata.org/entity/Q79007</td>\n",
       "      <td>rue</td>\n",
       "    </tr>\n",
       "    <tr>\n",
       "      <th>14</th>\n",
       "      <td>http://www.wikidata.org/entity/Q105097545</td>\n",
       "      <td>allée de la Commune</td>\n",
       "      <td>http://www.wikidata.org/entity/Q207934</td>\n",
       "      <td>allée</td>\n",
       "    </tr>\n",
       "    <tr>\n",
       "      <th>15</th>\n",
       "      <td>http://www.wikidata.org/entity/Q101029740</td>\n",
       "      <td>avenue de la Commune-de-Paris</td>\n",
       "      <td>http://www.wikidata.org/entity/Q7543083</td>\n",
       "      <td>avenue</td>\n",
       "    </tr>\n",
       "    <tr>\n",
       "      <th>16</th>\n",
       "      <td>http://www.wikidata.org/entity/Q115799722</td>\n",
       "      <td>avenue de la Commune-de-Paris</td>\n",
       "      <td>http://www.wikidata.org/entity/Q7543083</td>\n",
       "      <td>avenue</td>\n",
       "    </tr>\n",
       "    <tr>\n",
       "      <th>17</th>\n",
       "      <td>http://www.wikidata.org/entity/Q100740014</td>\n",
       "      <td>boulevard de la Commune-de-Paris</td>\n",
       "      <td>http://www.wikidata.org/entity/Q54114</td>\n",
       "      <td>boulevard</td>\n",
       "    </tr>\n",
       "    <tr>\n",
       "      <th>18</th>\n",
       "      <td>http://www.wikidata.org/entity/Q108781389</td>\n",
       "      <td>esplanade de la Commune de Paris</td>\n",
       "      <td>http://www.wikidata.org/entity/Q88372</td>\n",
       "      <td>esplanade</td>\n",
       "    </tr>\n",
       "    <tr>\n",
       "      <th>19</th>\n",
       "      <td>http://www.wikidata.org/entity/Q93882327</td>\n",
       "      <td>parc de la Commune-de-Paris</td>\n",
       "      <td>http://www.wikidata.org/entity/Q22698</td>\n",
       "      <td>parc</td>\n",
       "    </tr>\n",
       "    <tr>\n",
       "      <th>20</th>\n",
       "      <td>http://www.wikidata.org/entity/Q59149090</td>\n",
       "      <td>place de la Commune</td>\n",
       "      <td>http://www.wikidata.org/entity/Q174782</td>\n",
       "      <td>place</td>\n",
       "    </tr>\n",
       "    <tr>\n",
       "      <th>21</th>\n",
       "      <td>http://www.wikidata.org/entity/Q101070982</td>\n",
       "      <td>place de la Commune</td>\n",
       "      <td>http://www.wikidata.org/entity/Q174782</td>\n",
       "      <td>place</td>\n",
       "    </tr>\n",
       "    <tr>\n",
       "      <th>22</th>\n",
       "      <td>http://www.wikidata.org/entity/Q105099832</td>\n",
       "      <td>place de la Commune</td>\n",
       "      <td>http://www.wikidata.org/entity/Q174782</td>\n",
       "      <td>place</td>\n",
       "    </tr>\n",
       "    <tr>\n",
       "      <th>23</th>\n",
       "      <td>http://www.wikidata.org/entity/Q116438113</td>\n",
       "      <td>place de la Commune de Paris</td>\n",
       "      <td>http://www.wikidata.org/entity/Q174782</td>\n",
       "      <td>place</td>\n",
       "    </tr>\n",
       "    <tr>\n",
       "      <th>24</th>\n",
       "      <td>http://www.wikidata.org/entity/Q20859653</td>\n",
       "      <td>place de la Commune de Paris à Łódź</td>\n",
       "      <td>http://www.wikidata.org/entity/Q174782</td>\n",
       "      <td>place</td>\n",
       "    </tr>\n",
       "    <tr>\n",
       "      <th>25</th>\n",
       "      <td>http://www.wikidata.org/entity/Q3390354</td>\n",
       "      <td>place de la Commune-de-Paris</td>\n",
       "      <td>http://www.wikidata.org/entity/Q174782</td>\n",
       "      <td>place</td>\n",
       "    </tr>\n",
       "    <tr>\n",
       "      <th>26</th>\n",
       "      <td>http://www.wikidata.org/entity/Q121564294</td>\n",
       "      <td>rond-point de la Commune de Paris</td>\n",
       "      <td>http://www.wikidata.org/entity/Q1529</td>\n",
       "      <td>rond-point</td>\n",
       "    </tr>\n",
       "    <tr>\n",
       "      <th>27</th>\n",
       "      <td>http://www.wikidata.org/entity/Q110416795</td>\n",
       "      <td>rue Komuny Paryskiej à Siemianowice Śląskie</td>\n",
       "      <td>http://www.wikidata.org/entity/Q79007</td>\n",
       "      <td>rue</td>\n",
       "    </tr>\n",
       "    <tr>\n",
       "      <th>28</th>\n",
       "      <td>http://www.wikidata.org/entity/Q84348003</td>\n",
       "      <td>rue Paryžskaj Kamuny</td>\n",
       "      <td>http://www.wikidata.org/entity/Q79007</td>\n",
       "      <td>rue</td>\n",
       "    </tr>\n",
       "    <tr>\n",
       "      <th>29</th>\n",
       "      <td>http://www.wikidata.org/entity/Q16510761</td>\n",
       "      <td>rue de la Commune</td>\n",
       "      <td>http://www.wikidata.org/entity/Q79007</td>\n",
       "      <td>rue</td>\n",
       "    </tr>\n",
       "    <tr>\n",
       "      <th>30</th>\n",
       "      <td>http://www.wikidata.org/entity/Q108939007</td>\n",
       "      <td>rue de la Commune</td>\n",
       "      <td>http://www.wikidata.org/entity/Q79007</td>\n",
       "      <td>rue</td>\n",
       "    </tr>\n",
       "    <tr>\n",
       "      <th>31</th>\n",
       "      <td>http://www.wikidata.org/entity/Q111250096</td>\n",
       "      <td>rue de la Commune</td>\n",
       "      <td>http://www.wikidata.org/entity/Q79007</td>\n",
       "      <td>rue</td>\n",
       "    </tr>\n",
       "    <tr>\n",
       "      <th>32</th>\n",
       "      <td>http://www.wikidata.org/entity/Q58854315</td>\n",
       "      <td>rue de la Commune de 1871</td>\n",
       "      <td>http://www.wikidata.org/entity/Q79007</td>\n",
       "      <td>rue</td>\n",
       "    </tr>\n",
       "    <tr>\n",
       "      <th>33</th>\n",
       "      <td>http://www.wikidata.org/entity/Q106606789</td>\n",
       "      <td>rue de la Commune de Paris</td>\n",
       "      <td>http://www.wikidata.org/entity/Q79007</td>\n",
       "      <td>rue</td>\n",
       "    </tr>\n",
       "    <tr>\n",
       "      <th>34</th>\n",
       "      <td>http://www.wikidata.org/entity/Q106918583</td>\n",
       "      <td>rue de la Commune de Paris</td>\n",
       "      <td>http://www.wikidata.org/entity/Q79007</td>\n",
       "      <td>rue</td>\n",
       "    </tr>\n",
       "    <tr>\n",
       "      <th>35</th>\n",
       "      <td>http://www.wikidata.org/entity/Q112065706</td>\n",
       "      <td>rue de la Commune de Paris</td>\n",
       "      <td>http://www.wikidata.org/entity/Q79007</td>\n",
       "      <td>rue</td>\n",
       "    </tr>\n",
       "    <tr>\n",
       "      <th>36</th>\n",
       "      <td>http://www.wikidata.org/entity/Q113448072</td>\n",
       "      <td>rue de la Commune de Paris</td>\n",
       "      <td>http://www.wikidata.org/entity/Q79007</td>\n",
       "      <td>rue</td>\n",
       "    </tr>\n",
       "    <tr>\n",
       "      <th>37</th>\n",
       "      <td>http://www.wikidata.org/entity/Q17307074</td>\n",
       "      <td>rue de la Commune-de-Paris</td>\n",
       "      <td>http://www.wikidata.org/entity/Q79007</td>\n",
       "      <td>rue</td>\n",
       "    </tr>\n",
       "    <tr>\n",
       "      <th>38</th>\n",
       "      <td>http://www.wikidata.org/entity/Q113413382</td>\n",
       "      <td>rue de la Commune-de-Paris</td>\n",
       "      <td>http://www.wikidata.org/entity/Q79007</td>\n",
       "      <td>rue</td>\n",
       "    </tr>\n",
       "    <tr>\n",
       "      <th>39</th>\n",
       "      <td>http://www.wikidata.org/entity/Q108784076</td>\n",
       "      <td>rue des Fédérés</td>\n",
       "      <td>http://www.wikidata.org/entity/Q79007</td>\n",
       "      <td>rue</td>\n",
       "    </tr>\n",
       "    <tr>\n",
       "      <th>40</th>\n",
       "      <td>http://www.wikidata.org/entity/Q108939006</td>\n",
       "      <td>sentier de la Commune</td>\n",
       "      <td>http://www.wikidata.org/entity/Q628179</td>\n",
       "      <td>sentier</td>\n",
       "    </tr>\n",
       "  </tbody>\n",
       "</table>"
      ],
      "text/plain": [
       "<IPython.core.display.HTML object>"
      ]
     },
     "execution_count": 136,
     "metadata": {},
     "output_type": "execute_result"
    }
   ],
   "source": [
    "df_nomme = df_nomme.loc[:,['Commune_de_Paris.value', 'Commune_de_ParisLabel.value', 'nature_de_l_élément.value', 'nature_de_l_élémentLabel.value' ]]\n",
    "df_nomme.sort_values(by = 'Commune_de_ParisLabel.value')\n",
    "HTML(df_nomme.to_html())"
   ]
  },
  {
   "cell_type": "markdown",
   "metadata": {},
   "source": [
    "### Des expositions"
   ]
  },
  {
   "cell_type": "markdown",
   "metadata": {},
   "source": [
    "```sparql\n",
    "SELECT ?exposition ?expositionLabel WHERE {\n",
    "  SERVICE wikibase:label { bd:serviceParam wikibase:language \"[AUTO_LANGUAGE],en\". }\n",
    "  ?exposition (wdt:P31/wdt:P279) wd:Q464980;\n",
    "    wdt:P921 wd:Q133132.\n",
    "}\n",
    "```"
   ]
  },
  {
   "cell_type": "markdown",
   "metadata": {},
   "source": [
    "#### En sparql"
   ]
  },
  {
   "cell_type": "code",
   "execution_count": 137,
   "metadata": {},
   "outputs": [
    {
     "data": {
      "text/html": [
       "<iframe style=\"width: 95%; height: 50vh; border: none;\" \n",
       "src=\"https://query.wikidata.org/embed.html#SELECT%20%3Fexposition%20%3FexpositionLabel%20WHERE%20%7B%0A%20%20SERVICE%20wikibase%3Alabel%20%7B%20bd%3AserviceParam%20wikibase%3Alanguage%20%22%5BAUTO_LANGUAGE%5D%2Cen%22.%20%7D%0A%20%20%3Fexposition%20(wdt%3AP31%2Fwdt%3AP279)%20wd%3AQ464980%3B%0A%20%20%20%20wdt%3AP921%20wd%3AQ133132.%0A%7D\" \n",
       "referrerpolicy=\"origin\" sandbox=\"allow-scripts allow-same-origin allow-popups\">\n",
       "</iframe>\n"
      ],
      "text/plain": [
       "<IPython.core.display.HTML object>"
      ]
     },
     "metadata": {},
     "output_type": "display_data"
    }
   ],
   "source": [
    "%%HTML\n",
    "<iframe style=\"width: 95%; height: 50vh; border: none;\" \n",
    "src=\"https://query.wikidata.org/embed.html#SELECT%20%3Fexposition%20%3FexpositionLabel%20WHERE%20%7B%0A%20%20SERVICE%20wikibase%3Alabel%20%7B%20bd%3AserviceParam%20wikibase%3Alanguage%20%22%5BAUTO_LANGUAGE%5D%2Cen%22.%20%7D%0A%20%20%3Fexposition%20(wdt%3AP31%2Fwdt%3AP279)%20wd%3AQ464980%3B%0A%20%20%20%20wdt%3AP921%20wd%3AQ133132.%0A%7D\" \n",
    "referrerpolicy=\"origin\" sandbox=\"allow-scripts allow-same-origin allow-popups\">\n",
    "</iframe>"
   ]
  },
  {
   "cell_type": "markdown",
   "metadata": {},
   "source": [
    "#### En python"
   ]
  },
  {
   "cell_type": "code",
   "execution_count": 138,
   "metadata": {},
   "outputs": [],
   "source": [
    "query = \"\"\"SELECT ?exposition ?expositionLabel WHERE {\n",
    "  SERVICE wikibase:label { bd:serviceParam wikibase:language \"fr\". }\n",
    "  ?exposition (wdt:P31/wdt:P279) wd:Q464980;\n",
    "    wdt:P921 wd:Q133132.\n",
    "}\n",
    "\"\"\"\n",
    "extraction_communard = Extraction_wikidata(endpoint_url, query)\n",
    "df_expo = extraction_communard.extraire_et_df()"
   ]
  },
  {
   "cell_type": "code",
   "execution_count": 139,
   "metadata": {},
   "outputs": [
    {
     "data": {
      "text/html": [
       "<table border=\"1\" class=\"dataframe\">\n",
       "  <thead>\n",
       "    <tr style=\"text-align: right;\">\n",
       "      <th></th>\n",
       "      <th>exposition.value</th>\n",
       "      <th>expositionLabel.value</th>\n",
       "    </tr>\n",
       "  </thead>\n",
       "  <tbody>\n",
       "    <tr>\n",
       "      <th>0</th>\n",
       "      <td>http://www.wikidata.org/entity/Q106542876</td>\n",
       "      <td>Les 72 jours de la Commune</td>\n",
       "    </tr>\n",
       "    <tr>\n",
       "      <th>1</th>\n",
       "      <td>http://www.wikidata.org/entity/Q116701738</td>\n",
       "      <td>France-Allemagne(s), 1870-1871, La guerre, la Commune, les mémoires</td>\n",
       "    </tr>\n",
       "  </tbody>\n",
       "</table>"
      ],
      "text/plain": [
       "<IPython.core.display.HTML object>"
      ]
     },
     "execution_count": 139,
     "metadata": {},
     "output_type": "execute_result"
    }
   ],
   "source": [
    "df_expo = df_expo.loc[:,['exposition.value', 'expositionLabel.value']]\n",
    "HTML(df_expo.to_html())"
   ]
  },
  {
   "cell_type": "markdown",
   "metadata": {},
   "source": [
    "## Remerciment\n",
    "- Le Reset pour m'avoir montré lors d'un atelier la beauté et puissance de Wikidata\n",
    "- Nicolas Vigneron pour ces vidéos pédagogiques\n",
    "- Mon oncle pour m'avoir parlé de la Commune quand j'étais au collège\n",
    "- Les amies et amis de la Commune de Paris 1871 pour m'avoir accuilli"
   ]
  },
  {
   "cell_type": "markdown",
   "metadata": {},
   "source": [
    "## Licence\n",
    "\n",
    "Ce travail est sous licence libre plus précisement Creative Commons Attribution - Partage dans les Mêmes Conditions 4.0 International.\n",
    "Il est fait à partir de données libres (diverse licence) et logiciels ou formats libres.\n",
    "Citons python, notebook, makedon, mediawiki...\n",
    "J'autorise la diffusion commerciale pour payer les frais de papier si quelqu'an veut le diffuser en version papier.\n",
    "Par principe, la licence vous autorise à utiliser ce travail sans m'en informer, juste pour ma curiosité, merci de me le signaler."
   ]
  },
  {
   "cell_type": "markdown",
   "metadata": {},
   "source": [
    "<a rel=\"license\" href=\"http://creativecommons.org/licenses/by-sa/4.0/\"><img alt=\"Licence Creative Commons\" style=\"border-width:0\" src=\"https://i.creativecommons.org/l/by-sa/4.0/88x31.png\" /></a><br />Cette œuvre est mise à disposition selon les termes de la <a rel=\"license\" href=\"http://creativecommons.org/licenses/by-sa/4.0/\">Licence Creative Commons Attribution -  Partage dans les Mêmes Conditions 4.0 International</a>."
   ]
  },
  {
   "cell_type": "markdown",
   "metadata": {},
   "source": [
    "La version originale du notebook et des fichiers liées sont versionnés et héberger sur github. \n",
    "https://github.com/silanoc/commune_dans_wikidata"
   ]
  },
  {
   "cell_type": "markdown",
   "metadata": {},
   "source": [
    "## Me contacter\n",
    "- https://github.com/silanoc\n",
    "- silanoc@gmail.com\n",
    "- https://www.linkedin.com/in/gabriel-le-bernard/\n",
    "- mastondon : @Gabrielhle@pouet.chapril.org\n"
   ]
  }
 ],
 "metadata": {
  "celltoolbar": "Hide code",
  "hide_code_all_hidden": false,
  "hide_input": false,
  "kernelspec": {
   "display_name": "Python 3 (ipykernel)",
   "language": "python",
   "name": "python3"
  },
  "language_info": {
   "codemirror_mode": {
    "name": "ipython",
    "version": 3
   },
   "file_extension": ".py",
   "mimetype": "text/x-python",
   "name": "python",
   "nbconvert_exporter": "python",
   "pygments_lexer": "ipython3",
   "version": "3.11.4"
  },
  "toc": {
   "base_numbering": 1,
   "nav_menu": {},
   "number_sections": true,
   "sideBar": true,
   "skip_h1_title": false,
   "title_cell": "Table of Contents",
   "title_sidebar": "Contents",
   "toc_cell": false,
   "toc_position": {
    "height": "calc(100% - 180px)",
    "left": "10px",
    "top": "150px",
    "width": "249px"
   },
   "toc_section_display": true,
   "toc_window_display": false
  },
  "vscode": {
   "interpreter": {
    "hash": "31f2aee4e71d21fbe5cf8b01ff0e069b9275f58929596ceb00d14d90e3e16cd6"
   }
  }
 },
 "nbformat": 4,
 "nbformat_minor": 2
}
