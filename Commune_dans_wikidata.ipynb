{
 "cells": [
  {
   "cell_type": "markdown",
   "metadata": {},
   "source": [
    "# La Commune de Paris 1871 en liberté\n",
    "ou La Commune dans Wikidata\n",
    "\n",
    "Ceci est un site personnel qui utilise des données issues de l'univers wikimédia dont wikipédia, commons, wikidata, wikisources..."
   ]
  },
  {
   "cell_type": "markdown",
   "metadata": {},
   "source": [
    "Table des matières\n",
    "1. [Technique](#Technique)\n",
    "2. [Faire une requête sur wikidata en python](#Faireunerequêtesurwikidataenpython)\n",
    "3. [Wikidata](#Wikidata) \n",
    "4. [Les communardes et communards dans des cimetières](#Lescommunardesetcommunardsdansdescimetières)"
   ]
  },
  {
   "cell_type": "markdown",
   "metadata": {},
   "source": [
    "## Présentation"
   ]
  },
  {
   "cell_type": "markdown",
   "metadata": {},
   "source": [
    "### Point grammatical\n",
    "Pour un certains nombre de raison, j'use du genre grammatical neutre, en l'écrivant selon les règles de grammaire proposées par Alphératz dans son ouvrage Grammaire inclusive du Français. Je signale la première occurrence de ces mots par un \\*.\n",
    "\n",
    "J'emploie ces tournures pour parler de moi-même, et pour éviter des doubles flexions comme communardes et communards.\n",
    "\n",
    "En neutre, al* faudrait écrire an Communarx et des Communarz. Pour que les moteurs de recherche puissent trouver le site, je décide de garder selon les moments communardes et communards ou ça forme raccourcie communard·e·s.\n",
    "\n",
    "### Qui suis-je pour le faire ?\n",
    "Il se trouve que je suis membre de l'association les Amies et amis de la Commune de Paris 1871 depuis pas mal de temps (plus d'une décennie, c'est sûr) quand je n'oublie pas de cotiser... Toutefois, ce site est fait de façon autonome de l’association.\n",
    "\n",
    "Je ne suis pas du tout historian*, mais geekette, c'est à dire passionæ* d'informatique.\n",
    "J'ai commenæ à contribuer sur Wikipédia en 2006 puis sur Wikidata à partir de 2017. J'y contribue sous le pseudo Silanoc.\n",
    "\n",
    "Je ne sais pas aller chercher l'information dans les sources primaires de l'époque, dans les archives... c'est du ressort des histoirans. Par contre j'aime rendre les informations, la donnée, la data accessibles au plus grand nombre. Et c'est là que Wikidata intervient.\n",
    "\n",
    "C'est un projet libre et gratuit. Tout le monde peut y accéder, y contribuer. N'étant pas rédigé comme Wikipédia, mais étant une base de données, le système a été conçu comme naturellement multilinguistique. De ce fait, toutes les modifications sont accessibles par les locutaires* du monde entier (à quelques détails près). Et c'est très utilisé pour tout ce qui touche à \"l'intelligence artificielle\" car elle a besoin d'une base de données. Autant lui donner des informations sur un sujet trop souvent ignoré.\n",
    "\n",
    "> Wikidata est une base de connaissances libre et gratuite qui peut être lue et modifiée tant par des personnes que par des dispositifs informatisés. \n",
    "page d'acceuil de wikipédia</quote>\n",
    "\n",
    "Tout ce site/article est basé sur des données de Wikidata ou des images de Commons. Cela par définition sous licence libre (plusieurs existes). Mes propos sont également sous licence créative commons."
   ]
  },
  {
   "cell_type": "markdown",
   "metadata": {},
   "source": [
    "## Méthodologie\n",
    "Mon objectif est de travailler qu'avec des données contenues dans l'univers wikimédia : wikidata, commons, wikipédia, éventuellement wikisources, wikiquote...\n",
    "\n",
    "Les données sont collaboratives. Cela nécessite de faire confiance au travail des autres sur lequel je m'appuie. Le maximum d'information doit être sourcé. Dans l'analyse statistique/globale, je fais le pari de leur fiabilité. En cas de doute, il est facile de vérifier au cas par cas.\n",
    "\n",
    "Les données sont celles que les autres personnes ont déjà rentrées. Il y a donc des trous, des blancs, des manques.\n",
    "\n",
    "Chacun de mes résultats est donc à introduire par : \"en fonction du contenu de wikidata...\".\n",
    "\n",
    "Ce n'est pas une vérité totale et absolue. Mais une partie de la vérité.\n",
    "\n",
    "C'est un travail vérifiable et reproductible. Toutes les données sont publiques (par définition) et mes méthodes de recherche/calcul sont communicables. Aussi, toute personne peut les évaluer et refaire.\n",
    "\n",
    "C'est un contenu évolutif en fonction des apports/modifications/suppressions fait à la base de données.\n",
    "\n",
    "J'apporte aussi du contenu dedans, par des photos, des ajouts, des précisions en fonction de ce que je peux remplir sans me tromper.\n",
    "\n",
    "### Wikidata : élément, propriété, valeurs.\n",
    "Wikidata stocke des éléments. Tout ce qui existe (au sens qui peut être décrit) est un potentiel élément. Aussi chaque communard·e·s, barricades, livres, événements... sont un élément. Ils commencent par la lettre Q, puis un nombre en fonction de son ordre de création.\n",
    "\n",
    "Chaque élément possède une ou plusieurs propriétés. Cela peut être un prénom, une date de création, un coordonnées géographique... Ils commence par un P.\n",
    "\n",
    "À chaque propriété d'un élément il existe une ou plusieurs valeurs.Cela peut être un nombre, une date, ou un autre élément de wikidata.\n",
    "\n",
    "Cela fait une série de triplets : éléments, propriété, valeurs.\n",
    "\n",
    "Plus de détails : https://www.wikidata.org/wiki/Wikidata:Introduction/fr"
   ]
  },
  {
   "cell_type": "markdown",
   "metadata": {},
   "source": [
    "## Technique"
   ]
  },
  {
   "cell_type": "code",
   "execution_count": 1,
   "metadata": {},
   "outputs": [
    {
     "name": "stdout",
     "output_type": "stream",
     "text": [
      "Defaulting to user installation because normal site-packages is not writeable\n",
      "Requirement already satisfied: sparqlwrapper in ./.local/lib/python3.10/site-packages (2.0.0)\n",
      "Requirement already satisfied: rdflib>=6.1.1 in ./.local/lib/python3.10/site-packages (from sparqlwrapper) (6.3.2)\n",
      "Requirement already satisfied: pyparsing<4,>=2.1.0 in /usr/lib/python3/dist-packages (from rdflib>=6.1.1->sparqlwrapper) (2.4.7)\n",
      "Requirement already satisfied: isodate<0.7.0,>=0.6.0 in ./.local/lib/python3.10/site-packages (from rdflib>=6.1.1->sparqlwrapper) (0.6.1)\n",
      "Requirement already satisfied: six in ./.local/lib/python3.10/site-packages (from isodate<0.7.0,>=0.6.0->rdflib>=6.1.1->sparqlwrapper) (1.16.0)\n"
     ]
    }
   ],
   "source": [
    "# les installations nécessaires\n",
    "# https://rdflib.github.io/sparqlwrapper/\n",
    "!pip install sparqlwrapper"
   ]
  },
  {
   "cell_type": "code",
   "execution_count": 2,
   "metadata": {},
   "outputs": [],
   "source": [
    "import sys\n",
    "from SPARQLWrapper import SPARQLWrapper, JSON\n",
    "import pandas as pd"
   ]
  },
  {
   "cell_type": "markdown",
   "metadata": {},
   "source": [
    "## Faire une requête sur wikidata en python"
   ]
  },
  {
   "cell_type": "markdown",
   "metadata": {},
   "source": [
    "Mettre dans query, la requête faite dans wikida"
   ]
  },
  {
   "cell_type": "code",
   "execution_count": 3,
   "metadata": {},
   "outputs": [],
   "source": [
    "endpoint_url = \"https://query.wikidata.org/sparql\"\n",
    "\n",
    "query = \"\"\"SELECT ?communard_ou_communarde ?communard_ou_communardeLabel WHERE {\n",
    "  SERVICE wikibase:label { bd:serviceParam wikibase:language \"[AUTO_LANGUAGE],en\". }\n",
    "  ?communard_ou_communarde wdt:P106 wd:Q1780490.\n",
    "}\"\"\""
   ]
  },
  {
   "cell_type": "code",
   "execution_count": 4,
   "metadata": {},
   "outputs": [],
   "source": [
    "def get_results(endpoint_url, query):\n",
    "    user_agent = \"WDQS-example Python/%s.%s\" % (sys.version_info[0], sys.version_info[1])\n",
    "    # TODO adjust user agent; see https://w.wiki/CX6\n",
    "    sparql = SPARQLWrapper(endpoint_url, agent=user_agent)\n",
    "    sparql.setQuery(query)\n",
    "    sparql.setReturnFormat(JSON)\n",
    "    return sparql.query().convert()\n",
    "\n",
    "\n",
    "results = get_results(endpoint_url, query)\n"
   ]
  },
  {
   "cell_type": "markdown",
   "metadata": {},
   "source": [
    "Afficher les résultats bruts"
   ]
  },
  {
   "cell_type": "code",
   "execution_count": 5,
   "metadata": {},
   "outputs": [
    {
     "name": "stdout",
     "output_type": "stream",
     "text": [
      "{'communard_ou_communarde': {'type': 'uri', 'value': 'http://www.wikidata.org/entity/Q20951'}, 'communard_ou_communardeLabel': {'xml:lang': 'en', 'type': 'literal', 'value': 'Élisée Reclus'}}\n",
      "{'communard_ou_communarde': {'type': 'uri', 'value': 'http://www.wikidata.org/entity/Q34618'}, 'communard_ou_communardeLabel': {'xml:lang': 'en', 'type': 'literal', 'value': 'Gustave Courbet'}}\n",
      "{'communard_ou_communarde': {'type': 'uri', 'value': 'http://www.wikidata.org/entity/Q184535'}, 'communard_ou_communardeLabel': {'xml:lang': 'en', 'type': 'literal', 'value': 'Sofia Kovalevskaya'}}\n",
      "{'communard_ou_communarde': {'type': 'uri', 'value': 'http://www.wikidata.org/entity/Q216092'}, 'communard_ou_communardeLabel': {'xml:lang': 'en', 'type': 'literal', 'value': 'Louise Michel'}}\n",
      "{'communard_ou_communarde': {'type': 'uri', 'value': 'http://www.wikidata.org/entity/Q257950'}, 'communard_ou_communardeLabel': {'xml:lang': 'en', 'type': 'literal', 'value': 'Auguste-Jean-Marie Vermorel'}}\n",
      "{'communard_ou_communarde': {'type': 'uri', 'value': 'http://www.wikidata.org/entity/Q274464'}, 'communard_ou_communardeLabel': {'xml:lang': 'en', 'type': 'literal', 'value': 'Édouard Vaillant'}}\n",
      "{'communard_ou_communarde': {'type': 'uri', 'value': 'http://www.wikidata.org/entity/Q309722'}, 'communard_ou_communardeLabel': {'xml:lang': 'en', 'type': 'literal', 'value': 'Louis Auguste Blanqui'}}\n",
      "{'communard_ou_communarde': {'type': 'uri', 'value': 'http://www.wikidata.org/entity/Q312915'}, 'communard_ou_communardeLabel': {'xml:lang': 'en', 'type': 'literal', 'value': 'Eugène Pottier'}}\n",
      "{'communard_ou_communarde': {'type': 'uri', 'value': 'http://www.wikidata.org/entity/Q337628'}, 'communard_ou_communardeLabel': {'xml:lang': 'en', 'type': 'literal', 'value': 'Pyotr Lavrov'}}\n",
      "{'communard_ou_communarde': {'type': 'uri', 'value': 'http://www.wikidata.org/entity/Q349485'}, 'communard_ou_communardeLabel': {'xml:lang': 'en', 'type': 'literal', 'value': 'Jules Allix'}}\n",
      "{'communard_ou_communarde': {'type': 'uri', 'value': 'http://www.wikidata.org/entity/Q386390'}, 'communard_ou_communardeLabel': {'xml:lang': 'en', 'type': 'literal', 'value': 'Olivier Souêtre'}}\n",
      "{'communard_ou_communarde': {'type': 'uri', 'value': 'http://www.wikidata.org/entity/Q441121'}, 'communard_ou_communardeLabel': {'xml:lang': 'en', 'type': 'literal', 'value': 'Jean-Louis Pindy'}}\n",
      "{'communard_ou_communarde': {'type': 'uri', 'value': 'http://www.wikidata.org/entity/Q454246'}, 'communard_ou_communardeLabel': {'xml:lang': 'en', 'type': 'literal', 'value': 'Nina de Callias'}}\n",
      "{'communard_ou_communarde': {'type': 'uri', 'value': 'http://www.wikidata.org/entity/Q458559'}, 'communard_ou_communardeLabel': {'xml:lang': 'en', 'type': 'literal', 'value': 'Victoire Léodile Béra'}}\n",
      "{'communard_ou_communarde': {'type': 'uri', 'value': 'http://www.wikidata.org/entity/Q465213'}, 'communard_ou_communardeLabel': {'xml:lang': 'en', 'type': 'literal', 'value': 'Jarosław Dąbrowski'}}\n",
      "{'communard_ou_communarde': {'type': 'uri', 'value': 'http://www.wikidata.org/entity/Q515589'}, 'communard_ou_communardeLabel': {'xml:lang': 'en', 'type': 'literal', 'value': 'Jean-Baptiste Clément'}}\n",
      "{'communard_ou_communarde': {'type': 'uri', 'value': 'http://www.wikidata.org/entity/Q517027'}, 'communard_ou_communardeLabel': {'xml:lang': 'en', 'type': 'literal', 'value': 'Gustave Flourens'}}\n",
      "{'communard_ou_communarde': {'type': 'uri', 'value': 'http://www.wikidata.org/entity/Q518827'}, 'communard_ou_communardeLabel': {'xml:lang': 'en', 'type': 'literal', 'value': 'André Gill'}}\n",
      "{'communard_ou_communarde': {'type': 'uri', 'value': 'http://www.wikidata.org/entity/Q520977'}, 'communard_ou_communardeLabel': {'xml:lang': 'en', 'type': 'literal', 'value': 'Charles Beslay'}}\n",
      "{'communard_ou_communarde': {'type': 'uri', 'value': 'http://www.wikidata.org/entity/Q539458'}, 'communard_ou_communardeLabel': {'xml:lang': 'en', 'type': 'literal', 'value': 'Jean Allemane'}}\n",
      "{'communard_ou_communarde': {'type': 'uri', 'value': 'http://www.wikidata.org/entity/Q551597'}, 'communard_ou_communardeLabel': {'xml:lang': 'en', 'type': 'literal', 'value': 'Jules Vallès'}}\n",
      "{'communard_ou_communarde': {'type': 'uri', 'value': 'http://www.wikidata.org/entity/Q551648'}, 'communard_ou_communardeLabel': {'xml:lang': 'en', 'type': 'literal', 'value': 'Jules Dalou'}}\n",
      "{'communard_ou_communarde': {'type': 'uri', 'value': 'http://www.wikidata.org/entity/Q598272'}, 'communard_ou_communardeLabel': {'xml:lang': 'en', 'type': 'literal', 'value': 'Jules Andrieu'}}\n",
      "{'communard_ou_communarde': {'type': 'uri', 'value': 'http://www.wikidata.org/entity/Q621029'}, 'communard_ou_communardeLabel': {'xml:lang': 'en', 'type': 'literal', 'value': 'Louis Charles Delescluze'}}\n",
      "{'communard_ou_communarde': {'type': 'uri', 'value': 'http://www.wikidata.org/entity/Q642060'}, 'communard_ou_communardeLabel': {'xml:lang': 'en', 'type': 'literal', 'value': 'Henri Rochefort'}}\n",
      "{'communard_ou_communarde': {'type': 'uri', 'value': 'http://www.wikidata.org/entity/Q656691'}, 'communard_ou_communardeLabel': {'xml:lang': 'en', 'type': 'literal', 'value': 'Émile Eudes'}}\n",
      "{'communard_ou_communarde': {'type': 'uri', 'value': 'http://www.wikidata.org/entity/Q684449'}, 'communard_ou_communardeLabel': {'xml:lang': 'en', 'type': 'literal', 'value': 'Gustave Paul Cluseret'}}\n",
      "{'communard_ou_communarde': {'type': 'uri', 'value': 'http://www.wikidata.org/entity/Q700018'}, 'communard_ou_communardeLabel': {'xml:lang': 'en', 'type': 'literal', 'value': 'Leó Frankel'}}\n",
      "{'communard_ou_communarde': {'type': 'uri', 'value': 'http://www.wikidata.org/entity/Q709672'}, 'communard_ou_communardeLabel': {'xml:lang': 'en', 'type': 'literal', 'value': 'Louis Rossel'}}\n",
      "{'communard_ou_communarde': {'type': 'uri', 'value': 'http://www.wikidata.org/entity/Q726985'}, 'communard_ou_communardeLabel': {'xml:lang': 'en', 'type': 'literal', 'value': 'Walery Antoni Wróblewski'}}\n",
      "{'communard_ou_communarde': {'type': 'uri', 'value': 'http://www.wikidata.org/entity/Q744276'}, 'communard_ou_communardeLabel': {'xml:lang': 'en', 'type': 'literal', 'value': 'Jacques Louis Durand'}}\n",
      "{'communard_ou_communarde': {'type': 'uri', 'value': 'http://www.wikidata.org/entity/Q744469'}, 'communard_ou_communardeLabel': {'xml:lang': 'en', 'type': 'literal', 'value': 'Eugène Vermersch'}}\n",
      "{'communard_ou_communarde': {'type': 'uri', 'value': 'http://www.wikidata.org/entity/Q950710'}, 'communard_ou_communardeLabel': {'xml:lang': 'en', 'type': 'literal', 'value': 'Henri Chouteau'}}\n",
      "{'communard_ou_communarde': {'type': 'uri', 'value': 'http://www.wikidata.org/entity/Q955905'}, 'communard_ou_communardeLabel': {'xml:lang': 'en', 'type': 'literal', 'value': 'Auguste Serraillier'}}\n",
      "{'communard_ou_communarde': {'type': 'uri', 'value': 'http://www.wikidata.org/entity/Q1065362'}, 'communard_ou_communardeLabel': {'xml:lang': 'en', 'type': 'literal', 'value': 'Charles Longuet'}}\n",
      "{'communard_ou_communarde': {'type': 'uri', 'value': 'http://www.wikidata.org/entity/Q1117646'}, 'communard_ou_communardeLabel': {'xml:lang': 'en', 'type': 'literal', 'value': 'Charles Lullier'}}\n",
      "{'communard_ou_communarde': {'type': 'uri', 'value': 'http://www.wikidata.org/entity/Q1118848'}, 'communard_ou_communardeLabel': {'xml:lang': 'en', 'type': 'literal', 'value': 'Paschal Grousset'}}\n",
      "{'communard_ou_communarde': {'type': 'uri', 'value': 'http://www.wikidata.org/entity/Q1122778'}, 'communard_ou_communardeLabel': {'xml:lang': 'en', 'type': 'literal', 'value': 'Émile Léopold Clément'}}\n",
      "{'communard_ou_communarde': {'type': 'uri', 'value': 'http://www.wikidata.org/entity/Q1125847'}, 'communard_ou_communardeLabel': {'xml:lang': 'en', 'type': 'literal', 'value': 'Henry Bauër'}}\n",
      "{'communard_ou_communarde': {'type': 'uri', 'value': 'http://www.wikidata.org/entity/Q1959369'}, 'communard_ou_communardeLabel': {'xml:lang': 'en', 'type': 'literal', 'value': 'François Jourde'}}\n",
      "{'communard_ou_communarde': {'type': 'uri', 'value': 'http://www.wikidata.org/entity/Q2008597'}, 'communard_ou_communardeLabel': {'xml:lang': 'en', 'type': 'literal', 'value': 'Anne Jaclard'}}\n",
      "{'communard_ou_communarde': {'type': 'uri', 'value': 'http://www.wikidata.org/entity/Q2015151'}, 'communard_ou_communardeLabel': {'xml:lang': 'en', 'type': 'literal', 'value': 'Benoît Malon'}}\n",
      "{'communard_ou_communarde': {'type': 'uri', 'value': 'http://www.wikidata.org/entity/Q2020304'}, 'communard_ou_communardeLabel': {'xml:lang': 'en', 'type': 'literal', 'value': 'Jules-Paul Johannard'}}\n",
      "{'communard_ou_communarde': {'type': 'uri', 'value': 'http://www.wikidata.org/entity/Q2021981'}, 'communard_ou_communardeLabel': {'xml:lang': 'en', 'type': 'literal', 'value': 'Arthur Ranc'}}\n",
      "{'communard_ou_communarde': {'type': 'uri', 'value': 'http://www.wikidata.org/entity/Q2332848'}, 'communard_ou_communardeLabel': {'xml:lang': 'en', 'type': 'literal', 'value': 'Raoul Rigault'}}\n",
      "{'communard_ou_communarde': {'type': 'uri', 'value': 'http://www.wikidata.org/entity/Q2376768'}, 'communard_ou_communardeLabel': {'xml:lang': 'en', 'type': 'literal', 'value': 'Armand Antoine Jules Arnaud'}}\n",
      "{'communard_ou_communarde': {'type': 'uri', 'value': 'http://www.wikidata.org/entity/Q2383390'}, 'communard_ou_communardeLabel': {'xml:lang': 'en', 'type': 'literal', 'value': 'Gustave Maroteau'}}\n",
      "{'communard_ou_communarde': {'type': 'uri', 'value': 'http://www.wikidata.org/entity/Q2426660'}, 'communard_ou_communardeLabel': {'xml:lang': 'en', 'type': 'literal', 'value': 'Eugène Varlin'}}\n",
      "{'communard_ou_communarde': {'type': 'uri', 'value': 'http://www.wikidata.org/entity/Q2476089'}, 'communard_ou_communardeLabel': {'xml:lang': 'en', 'type': 'literal', 'value': 'Napoléon La Cécilia'}}\n",
      "{'communard_ou_communarde': {'type': 'uri', 'value': 'http://www.wikidata.org/entity/Q2477042'}, 'communard_ou_communardeLabel': {'xml:lang': 'en', 'type': 'literal', 'value': 'Gustave Lefrançais'}}\n",
      "{'communard_ou_communarde': {'type': 'uri', 'value': 'http://www.wikidata.org/entity/Q2512019'}, 'communard_ou_communardeLabel': {'xml:lang': 'en', 'type': 'literal', 'value': 'Julien Tanguy'}}\n",
      "{'communard_ou_communarde': {'type': 'uri', 'value': 'http://www.wikidata.org/entity/Q2631188'}, 'communard_ou_communardeLabel': {'xml:lang': 'en', 'type': 'literal', 'value': 'Théophile Ferré'}}\n",
      "{'communard_ou_communarde': {'type': 'uri', 'value': 'http://www.wikidata.org/entity/Q2643165'}, 'communard_ou_communardeLabel': {'xml:lang': 'en', 'type': 'literal', 'value': 'Arthur Arnould'}}\n",
      "{'communard_ou_communarde': {'type': 'uri', 'value': 'http://www.wikidata.org/entity/Q2706181'}, 'communard_ou_communardeLabel': {'xml:lang': 'en', 'type': 'literal', 'value': 'Nathalie Lemel'}}\n",
      "{'communard_ou_communarde': {'type': 'uri', 'value': 'http://www.wikidata.org/entity/Q2707971'}, 'communard_ou_communardeLabel': {'xml:lang': 'en', 'type': 'literal', 'value': 'Elisabeth Dmitrieff'}}\n",
      "{'communard_ou_communarde': {'type': 'uri', 'value': 'http://www.wikidata.org/entity/Q2711077'}, 'communard_ou_communardeLabel': {'xml:lang': 'en', 'type': 'literal', 'value': 'Pierre Vésinier'}}\n",
      "{'communard_ou_communarde': {'type': 'uri', 'value': 'http://www.wikidata.org/entity/Q2754922'}, 'communard_ou_communardeLabel': {'xml:lang': 'en', 'type': 'literal', 'value': 'Amilcare Cipriani'}}\n",
      "{'communard_ou_communarde': {'type': 'uri', 'value': 'http://www.wikidata.org/entity/Q2823036'}, 'communard_ou_communardeLabel': {'xml:lang': 'en', 'type': 'literal', 'value': 'Achille Ballière'}}\n",
      "{'communard_ou_communarde': {'type': 'uri', 'value': 'http://www.wikidata.org/entity/Q2824709'}, 'communard_ou_communardeLabel': {'xml:lang': 'en', 'type': 'literal', 'value': 'Adolf Rozwadowski'}}\n",
      "{'communard_ou_communarde': {'type': 'uri', 'value': 'http://www.wikidata.org/entity/Q2824769'}, 'communard_ou_communardeLabel': {'xml:lang': 'en', 'type': 'literal', 'value': 'Adolphe Assi'}}\n",
      "{'communard_ou_communarde': {'type': 'uri', 'value': 'http://www.wikidata.org/entity/Q2824796'}, 'communard_ou_communardeLabel': {'xml:lang': 'en', 'type': 'literal', 'value': 'Adolphe Clémence'}}\n",
      "{'communard_ou_communarde': {'type': 'uri', 'value': 'http://www.wikidata.org/entity/Q2825426'}, 'communard_ou_communardeLabel': {'xml:lang': 'en', 'type': 'literal', 'value': 'Adèle Esquiros'}}\n",
      "{'communard_ou_communarde': {'type': 'uri', 'value': 'http://www.wikidata.org/entity/Q2826417'}, 'communard_ou_communardeLabel': {'xml:lang': 'en', 'type': 'literal', 'value': 'Marie Léonide Charvin'}}\n",
      "{'communard_ou_communarde': {'type': 'uri', 'value': 'http://www.wikidata.org/entity/Q2831493'}, 'communard_ou_communardeLabel': {'xml:lang': 'en', 'type': 'literal', 'value': 'Albert Regnard'}}\n",
      "{'communard_ou_communarde': {'type': 'uri', 'value': 'http://www.wikidata.org/entity/Q2831579'}, 'communard_ou_communardeLabel': {'xml:lang': 'en', 'type': 'literal', 'value': 'Albert Theisz'}}\n",
      "{'communard_ou_communarde': {'type': 'uri', 'value': 'http://www.wikidata.org/entity/Q2834577'}, 'communard_ou_communardeLabel': {'xml:lang': 'en', 'type': 'literal', 'value': 'Alexis Louis Trinquet'}}\n",
      "{'communard_ou_communarde': {'type': 'uri', 'value': 'http://www.wikidata.org/entity/Q2834925'}, 'communard_ou_communardeLabel': {'xml:lang': 'en', 'type': 'literal', 'value': 'Alfred-Édouard Billioray'}}\n",
      "{'communard_ou_communarde': {'type': 'uri', 'value': 'http://www.wikidata.org/entity/Q2839835'}, 'communard_ou_communardeLabel': {'xml:lang': 'en', 'type': 'literal', 'value': 'Alphonse Humbert'}}\n",
      "{'communard_ou_communarde': {'type': 'uri', 'value': 'http://www.wikidata.org/entity/Q2839884'}, 'communard_ou_communardeLabel': {'xml:lang': 'en', 'type': 'literal', 'value': 'Alphonse Nicolas Lonclas'}}\n",
      "{'communard_ou_communarde': {'type': 'uri', 'value': 'http://www.wikidata.org/entity/Q2847227'}, 'communard_ou_communardeLabel': {'xml:lang': 'en', 'type': 'literal', 'value': 'André Bastelica'}}\n",
      "{'communard_ou_communarde': {'type': 'uri', 'value': 'http://www.wikidata.org/entity/Q2848644'}, 'communard_ou_communardeLabel': {'xml:lang': 'en', 'type': 'literal', 'value': 'André Slomszynski'}}\n",
      "{'communard_ou_communarde': {'type': 'uri', 'value': 'http://www.wikidata.org/entity/Q2853856'}, 'communard_ou_communardeLabel': {'xml:lang': 'en', 'type': 'literal', 'value': 'Antoine Demay'}}\n",
      "{'communard_ou_communarde': {'type': 'uri', 'value': 'http://www.wikidata.org/entity/Q2857112'}, 'communard_ou_communardeLabel': {'xml:lang': 'en', 'type': 'literal', 'value': 'Antonin Desfarges'}}\n",
      "{'communard_ou_communarde': {'type': 'uri', 'value': 'http://www.wikidata.org/entity/Q2861847'}, 'communard_ou_communardeLabel': {'xml:lang': 'en', 'type': 'literal', 'value': 'Armand Félix Marie Jobbé-Duval'}}\n",
      "{'communard_ou_communarde': {'type': 'uri', 'value': 'http://www.wikidata.org/entity/Q2871401'}, 'communard_ou_communardeLabel': {'xml:lang': 'en', 'type': 'literal', 'value': 'Auguste Sicard'}}\n",
      "{'communard_ou_communarde': {'type': 'uri', 'value': 'http://www.wikidata.org/entity/Q2871440'}, 'communard_ou_communardeLabel': {'xml:lang': 'en', 'type': 'literal', 'value': 'Auguste Viard'}}\n",
      "{'communard_ou_communarde': {'type': 'uri', 'value': 'http://www.wikidata.org/entity/Q2871514'}, 'communard_ou_communardeLabel': {'xml:lang': 'en', 'type': 'literal', 'value': 'Augustin Moreau-Vauthier'}}\n",
      "{'communard_ou_communarde': {'type': 'uri', 'value': 'http://www.wikidata.org/entity/Q2871534'}, 'communard_ou_communardeLabel': {'xml:lang': 'en', 'type': 'literal', 'value': 'Augustin Avrial'}}\n",
      "{'communard_ou_communarde': {'type': 'uri', 'value': 'http://www.wikidata.org/entity/Q2871658'}, 'communard_ou_communardeLabel': {'xml:lang': 'en', 'type': 'literal', 'value': 'Augustin Verdure'}}\n",
      "{'communard_ou_communarde': {'type': 'uri', 'value': 'http://www.wikidata.org/entity/Q2883660'}, 'communard_ou_communardeLabel': {'xml:lang': 'en', 'type': 'literal', 'value': 'Baptiste Descamps'}}\n",
      "{'communard_ou_communarde': {'type': 'uri', 'value': 'http://www.wikidata.org/entity/Q2934978'}, 'communard_ou_communardeLabel': {'xml:lang': 'en', 'type': 'literal', 'value': 'Camille Langevin'}}\n",
      "{'communard_ou_communarde': {'type': 'uri', 'value': 'http://www.wikidata.org/entity/Q2958191'}, 'communard_ou_communardeLabel': {'xml:lang': 'en', 'type': 'literal', 'value': 'Charles-Louis Chassin'}}\n",
      "{'communard_ou_communarde': {'type': 'uri', 'value': 'http://www.wikidata.org/entity/Q2958311'}, 'communard_ou_communardeLabel': {'xml:lang': 'en', 'type': 'literal', 'value': 'Charles-Romain Capellaro'}}\n",
      "{'communard_ou_communarde': {'type': 'uri', 'value': 'http://www.wikidata.org/entity/Q2958387'}, 'communard_ou_communardeLabel': {'xml:lang': 'en', 'type': 'literal', 'value': 'Charles Amouroux'}}\n",
      "{'communard_ou_communarde': {'type': 'uri', 'value': 'http://www.wikidata.org/entity/Q2959051'}, 'communard_ou_communardeLabel': {'xml:lang': 'en', 'type': 'literal', 'value': 'Charles Ferdinand Gambon'}}\n",
      "{'communard_ou_communarde': {'type': 'uri', 'value': 'http://www.wikidata.org/entity/Q2959294'}, 'communard_ou_communardeLabel': {'xml:lang': 'en', 'type': 'literal', 'value': 'Charles Gérardin'}}\n",
      "{'communard_ou_communarde': {'type': 'uri', 'value': 'http://www.wikidata.org/entity/Q2959626'}, 'communard_ou_communardeLabel': {'xml:lang': 'en', 'type': 'literal', 'value': 'Charles François Ledroit'}}\n",
      "{'communard_ou_communarde': {'type': 'uri', 'value': 'http://www.wikidata.org/entity/Q2976758'}, 'communard_ou_communardeLabel': {'xml:lang': 'en', 'type': 'literal', 'value': 'Claude-Jules Duruof'}}\n",
      "{'communard_ou_communarde': {'type': 'uri', 'value': 'http://www.wikidata.org/entity/Q2979754'}, 'communard_ou_communardeLabel': {'xml:lang': 'en', 'type': 'literal', 'value': 'Clovis Dupont'}}\n",
      "{'communard_ou_communarde': {'type': 'uri', 'value': 'http://www.wikidata.org/entity/Q2984196'}, 'communard_ou_communardeLabel': {'xml:lang': 'en', 'type': 'literal', 'value': 'Colonel Delorme'}}\n",
      "{'communard_ou_communarde': {'type': 'uri', 'value': 'http://www.wikidata.org/entity/Q2994871'}, 'communard_ou_communardeLabel': {'xml:lang': 'en', 'type': 'literal', 'value': 'Constant Marie'}}\n",
      "{'communard_ou_communarde': {'type': 'uri', 'value': 'http://www.wikidata.org/entity/Q3035446'}, 'communard_ou_communardeLabel': {'xml:lang': 'en', 'type': 'literal', 'value': 'Dominique Régère'}}\n",
      "{'communard_ou_communarde': {'type': 'uri', 'value': 'http://www.wikidata.org/entity/Q3047469'}, 'communard_ou_communardeLabel': {'xml:lang': 'en', 'type': 'literal', 'value': 'Edgar Monteil'}}\n",
      "{'communard_ou_communarde': {'type': 'uri', 'value': 'http://www.wikidata.org/entity/Q3047711'}, 'communard_ou_communardeLabel': {'xml:lang': 'en', 'type': 'literal', 'value': 'Edmond-Alfred Goupy'}}\n",
      "{'communard_ou_communarde': {'type': 'uri', 'value': 'http://www.wikidata.org/entity/Q3056990'}, 'communard_ou_communardeLabel': {'xml:lang': 'en', 'type': 'literal', 'value': 'Ernest Granger'}}\n",
      "{'communard_ou_communarde': {'type': 'uri', 'value': 'http://www.wikidata.org/entity/Q3057150'}, 'communard_ou_communardeLabel': {'xml:lang': 'en', 'type': 'literal', 'value': 'Ernest Puget'}}\n",
      "{'communard_ou_communarde': {'type': 'uri', 'value': 'http://www.wikidata.org/entity/Q3059921'}, 'communard_ou_communardeLabel': {'xml:lang': 'en', 'type': 'literal', 'value': 'Eugène Gérardin'}}\n",
      "{'communard_ou_communarde': {'type': 'uri', 'value': 'http://www.wikidata.org/entity/Q3060114'}, 'communard_ou_communardeLabel': {'xml:lang': 'en', 'type': 'literal', 'value': 'Eugène Protot'}}\n",
      "{'communard_ou_communarde': {'type': 'uri', 'value': 'http://www.wikidata.org/entity/Q3078592'}, 'communard_ou_communardeLabel': {'xml:lang': 'en', 'type': 'literal', 'value': 'Fortuné Henry'}}\n",
      "{'communard_ou_communarde': {'type': 'uri', 'value': 'http://www.wikidata.org/entity/Q3083334'}, 'communard_ou_communardeLabel': {'xml:lang': 'en', 'type': 'literal', 'value': 'Charles Ostyn'}}\n",
      "{'communard_ou_communarde': {'type': 'uri', 'value': 'http://www.wikidata.org/entity/Q3083515'}, 'communard_ou_communardeLabel': {'xml:lang': 'en', 'type': 'literal', 'value': 'François Louis Parisel'}}\n",
      "{'communard_ou_communarde': {'type': 'uri', 'value': 'http://www.wikidata.org/entity/Q3089740'}, 'communard_ou_communardeLabel': {'xml:lang': 'en', 'type': 'literal', 'value': 'Frédéric Cournet'}}\n",
      "{'communard_ou_communarde': {'type': 'uri', 'value': 'http://www.wikidata.org/entity/Q3093932'}, 'communard_ou_communardeLabel': {'xml:lang': 'en', 'type': 'literal', 'value': 'Gabriel Ranvier'}}\n",
      "{'communard_ou_communarde': {'type': 'uri', 'value': 'http://www.wikidata.org/entity/Q3098972'}, 'communard_ou_communardeLabel': {'xml:lang': 'en', 'type': 'literal', 'value': 'Gaston Da Costa'}}\n",
      "{'communard_ou_communarde': {'type': 'uri', 'value': 'http://www.wikidata.org/entity/Q3099150'}, 'communard_ou_communardeLabel': {'xml:lang': 'en', 'type': 'literal', 'value': 'Gaston Save'}}\n",
      "{'communard_ou_communarde': {'type': 'uri', 'value': 'http://www.wikidata.org/entity/Q3102209'}, 'communard_ou_communardeLabel': {'xml:lang': 'en', 'type': 'literal', 'value': 'Georges Arnold'}}\n",
      "{'communard_ou_communarde': {'type': 'uri', 'value': 'http://www.wikidata.org/entity/Q3121343'}, 'communard_ou_communardeLabel': {'xml:lang': 'en', 'type': 'literal', 'value': 'Gustave Tridon'}}\n",
      "{'communard_ou_communarde': {'type': 'uri', 'value': 'http://www.wikidata.org/entity/Q3131679'}, 'communard_ou_communardeLabel': {'xml:lang': 'en', 'type': 'literal', 'value': 'Henri Mortier'}}\n",
      "{'communard_ou_communarde': {'type': 'uri', 'value': 'http://www.wikidata.org/entity/Q3132923'}, 'communard_ou_communardeLabel': {'xml:lang': 'en', 'type': 'literal', 'value': 'Henry Louis Champy'}}\n",
      "{'communard_ou_communarde': {'type': 'uri', 'value': 'http://www.wikidata.org/entity/Q3134238'}, 'communard_ou_communardeLabel': {'xml:lang': 'en', 'type': 'literal', 'value': 'Herminie Cadolle'}}\n",
      "{'communard_ou_communarde': {'type': 'uri', 'value': 'http://www.wikidata.org/entity/Q3136110'}, 'communard_ou_communardeLabel': {'xml:lang': 'en', 'type': 'literal', 'value': 'Hippolyte Moulin'}}\n",
      "{'communard_ou_communarde': {'type': 'uri', 'value': 'http://www.wikidata.org/entity/Q3163774'}, 'communard_ou_communardeLabel': {'xml:lang': 'en', 'type': 'literal', 'value': 'Hubert Geresme'}}\n",
      "{'communard_ou_communarde': {'type': 'uri', 'value': 'http://www.wikidata.org/entity/Q3163940'}, 'communard_ou_communardeLabel': {'xml:lang': 'en', 'type': 'literal', 'value': 'Jean-Baptiste Chardon'}}\n",
      "{'communard_ou_communarde': {'type': 'uri', 'value': 'http://www.wikidata.org/entity/Q3166386'}, 'communard_ou_communardeLabel': {'xml:lang': 'en', 'type': 'literal', 'value': 'Jean-Jacques Pillot'}}\n",
      "{'communard_ou_communarde': {'type': 'uri', 'value': 'http://www.wikidata.org/entity/Q3167882'}, 'communard_ou_communardeLabel': {'xml:lang': 'en', 'type': 'literal', 'value': 'Aminthe Dupont'}}\n",
      "{'communard_ou_communarde': {'type': 'uri', 'value': 'http://www.wikidata.org/entity/Q3184742'}, 'communard_ou_communardeLabel': {'xml:lang': 'en', 'type': 'literal', 'value': 'Joseph Charlemont'}}\n",
      "{'communard_ou_communarde': {'type': 'uri', 'value': 'http://www.wikidata.org/entity/Q3188340'}, 'communard_ou_communardeLabel': {'xml:lang': 'en', 'type': 'literal', 'value': 'Jules-Ferdinand Baulard'}}\n",
      "{'communard_ou_communarde': {'type': 'uri', 'value': 'http://www.wikidata.org/entity/Q3188353'}, 'communard_ou_communardeLabel': {'xml:lang': 'en', 'type': 'literal', 'value': 'Jules Bergeret'}}\n",
      "{'communard_ou_communarde': {'type': 'uri', 'value': 'http://www.wikidata.org/entity/Q3188374'}, 'communard_ou_communardeLabel': {'xml:lang': 'en', 'type': 'literal', 'value': 'Jules Babick'}}\n",
      "{'communard_ou_communarde': {'type': 'uri', 'value': 'http://www.wikidata.org/entity/Q3188690'}, 'communard_ou_communardeLabel': {'xml:lang': 'en', 'type': 'literal', 'value': 'Jules François Alexandre Joffrin'}}\n",
      "{'communard_ou_communarde': {'type': 'uri', 'value': 'http://www.wikidata.org/entity/Q3188764'}, 'communard_ou_communardeLabel': {'xml:lang': 'en', 'type': 'literal', 'value': 'Jules Martelet'}}\n",
      "{'communard_ou_communarde': {'type': 'uri', 'value': 'http://www.wikidata.org/entity/Q3188794'}, 'communard_ou_communardeLabel': {'xml:lang': 'en', 'type': 'literal', 'value': 'Jules Miot'}}\n",
      "{'communard_ou_communarde': {'type': 'uri', 'value': 'http://www.wikidata.org/entity/Q3188805'}, 'communard_ou_communardeLabel': {'xml:lang': 'en', 'type': 'literal', 'value': 'Jules Montels'}}\n",
      "{'communard_ou_communarde': {'type': 'uri', 'value': 'http://www.wikidata.org/entity/Q3260380'}, 'communard_ou_communardeLabel': {'xml:lang': 'en', 'type': 'literal', 'value': 'Louis-Augustin Rogeard'}}\n",
      "{'communard_ou_communarde': {'type': 'uri', 'value': 'http://www.wikidata.org/entity/Q3260451'}, 'communard_ou_communardeLabel': {'xml:lang': 'en', 'type': 'literal', 'value': 'Louis-Denis Chalain'}}\n",
      "{'communard_ou_communarde': {'type': 'uri', 'value': 'http://www.wikidata.org/entity/Q3260564'}, 'communard_ou_communardeLabel': {'xml:lang': 'en', 'type': 'literal', 'value': 'Louis-Guillaume Debock'}}\n",
      "{'communard_ou_communarde': {'type': 'uri', 'value': 'http://www.wikidata.org/entity/Q3260879'}, 'communard_ou_communardeLabel': {'xml:lang': 'en', 'type': 'literal', 'value': 'Louis-Simon Dereure'}}\n",
      "{'communard_ou_communarde': {'type': 'uri', 'value': 'http://www.wikidata.org/entity/Q3265543'}, 'communard_ou_communardeLabel': {'xml:lang': 'en', 'type': 'literal', 'value': 'Lucien Henry'}}\n",
      "{'communard_ou_communarde': {'type': 'uri', 'value': 'http://www.wikidata.org/entity/Q3270527'}, 'communard_ou_communardeLabel': {'xml:lang': 'en', 'type': 'literal', 'value': 'Léo Melliet'}}\n",
      "{'communard_ou_communarde': {'type': 'uri', 'value': 'http://www.wikidata.org/entity/Q3289600'}, 'communard_ou_communardeLabel': {'xml:lang': 'en', 'type': 'literal', 'value': 'Marcelle Tinayre'}}\n",
      "{'communard_ou_communarde': {'type': 'uri', 'value': 'http://www.wikidata.org/entity/Q3292524'}, 'communard_ou_communardeLabel': {'xml:lang': 'en', 'type': 'literal', 'value': 'Marie Ferré'}}\n",
      "{'communard_ou_communarde': {'type': 'uri', 'value': 'http://www.wikidata.org/entity/Q3296465'}, 'communard_ou_communardeLabel': {'xml:lang': 'en', 'type': 'literal', 'value': 'Maria Pantazi'}}\n",
      "{'communard_ou_communarde': {'type': 'uri', 'value': 'http://www.wikidata.org/entity/Q3302642'}, 'communard_ou_communardeLabel': {'xml:lang': 'en', 'type': 'literal', 'value': 'Maxime Lisbonne'}}\n",
      "{'communard_ou_communarde': {'type': 'uri', 'value': 'http://www.wikidata.org/entity/Q3302715'}, 'communard_ou_communardeLabel': {'xml:lang': 'en', 'type': 'literal', 'value': 'Maxime Vuillaume'}}\n",
      "{'communard_ou_communarde': {'type': 'uri', 'value': 'http://www.wikidata.org/entity/Q3370494'}, 'communard_ou_communardeLabel': {'xml:lang': 'en', 'type': 'literal', 'value': 'Paul Antoine Brunel'}}\n",
      "{'communard_ou_communarde': {'type': 'uri', 'value': 'http://www.wikidata.org/entity/Q3371845'}, 'communard_ou_communardeLabel': {'xml:lang': 'en', 'type': 'literal', 'value': 'Paul Milliet'}}\n",
      "{'communard_ou_communarde': {'type': 'uri', 'value': 'http://www.wikidata.org/entity/Q3372006'}, 'communard_ou_communardeLabel': {'xml:lang': 'en', 'type': 'literal', 'value': 'Paul Philémon Rastoul'}}\n",
      "{'communard_ou_communarde': {'type': 'uri', 'value': 'http://www.wikidata.org/entity/Q3372612'}, 'communard_ou_communardeLabel': {'xml:lang': 'en', 'type': 'literal', 'value': 'Paule Mink'}}\n",
      "{'communard_ou_communarde': {'type': 'uri', 'value': 'http://www.wikidata.org/entity/Q3379196'}, 'communard_ou_communardeLabel': {'xml:lang': 'en', 'type': 'literal', 'value': 'Jean Philippe Fenouillas'}}\n",
      "{'communard_ou_communarde': {'type': 'uri', 'value': 'http://www.wikidata.org/entity/Q3381282'}, 'communard_ou_communardeLabel': {'xml:lang': 'en', 'type': 'literal', 'value': 'Philéas Félix Bermond'}}\n",
      "{'communard_ou_communarde': {'type': 'uri', 'value': 'http://www.wikidata.org/entity/Q3384147'}, 'communard_ou_communardeLabel': {'xml:lang': 'en', 'type': 'literal', 'value': 'Pierre Bourgeois'}}\n",
      "{'communard_ou_communarde': {'type': 'uri', 'value': 'http://www.wikidata.org/entity/Q3388495'}, 'communard_ou_communardeLabel': {'xml:lang': 'en', 'type': 'literal', 'value': 'Pilotell'}}\n",
      "{'communard_ou_communarde': {'type': 'uri', 'value': 'http://www.wikidata.org/entity/Q3419285'}, 'communard_ou_communardeLabel': {'xml:lang': 'en', 'type': 'literal', 'value': 'Raoul Urbain'}}\n",
      "{'communard_ou_communarde': {'type': 'uri', 'value': 'http://www.wikidata.org/entity/Q3434759'}, 'communard_ou_communardeLabel': {'xml:lang': 'en', 'type': 'literal', 'value': 'Robert Caze'}}\n",
      "{'communard_ou_communarde': {'type': 'uri', 'value': 'http://www.wikidata.org/entity/Q3496713'}, 'communard_ou_communardeLabel': {'xml:lang': 'en', 'type': 'literal', 'value': 'Stanislas Pourille'}}\n",
      "{'communard_ou_communarde': {'type': 'uri', 'value': 'http://www.wikidata.org/entity/Q3531828'}, 'communard_ou_communardeLabel': {'xml:lang': 'en', 'type': 'literal', 'value': 'Tony Moilin'}}\n",
      "{'communard_ou_communarde': {'type': 'uri', 'value': 'http://www.wikidata.org/entity/Q3548154'}, 'communard_ou_communardeLabel': {'xml:lang': 'en', 'type': 'literal', 'value': 'Ulysse Parent'}}\n",
      "{'communard_ou_communarde': {'type': 'uri', 'value': 'http://www.wikidata.org/entity/Q3557232'}, 'communard_ou_communardeLabel': {'xml:lang': 'en', 'type': 'literal', 'value': 'Victor Clément'}}\n",
      "{'communard_ou_communarde': {'type': 'uri', 'value': 'http://www.wikidata.org/entity/Q3557506'}, 'communard_ou_communardeLabel': {'xml:lang': 'en', 'type': 'literal', 'value': 'Victor Pilhes'}}\n",
      "{'communard_ou_communarde': {'type': 'uri', 'value': 'http://www.wikidata.org/entity/Q3588302'}, 'communard_ou_communardeLabel': {'xml:lang': 'en', 'type': 'literal', 'value': 'Émile Victor Duval'}}\n",
      "{'communard_ou_communarde': {'type': 'uri', 'value': 'http://www.wikidata.org/entity/Q3588681'}, 'communard_ou_communardeLabel': {'xml:lang': 'en', 'type': 'literal', 'value': 'Émile Oudet'}}\n",
      "{'communard_ou_communarde': {'type': 'uri', 'value': 'http://www.wikidata.org/entity/Q3622668'}, 'communard_ou_communardeLabel': {'xml:lang': 'en', 'type': 'literal', 'value': 'Aristide Claris'}}\n",
      "{'communard_ou_communarde': {'type': 'uri', 'value': 'http://www.wikidata.org/entity/Q3666443'}, 'communard_ou_communardeLabel': {'xml:lang': 'en', 'type': 'literal', 'value': 'Louis-Charles Maljournal'}}\n",
      "{'communard_ou_communarde': {'type': 'uri', 'value': 'http://www.wikidata.org/entity/Q3679798'}, 'communard_ou_communardeLabel': {'xml:lang': 'en', 'type': 'literal', 'value': 'Claude Dominique Napias'}}\n",
      "{'communard_ou_communarde': {'type': 'uri', 'value': 'http://www.wikidata.org/entity/Q3734489'}, 'communard_ou_communardeLabel': {'xml:lang': 'en', 'type': 'literal', 'value': 'Eugène Razoua'}}\n",
      "{'communard_ou_communarde': {'type': 'uri', 'value': 'http://www.wikidata.org/entity/Q3757536'}, 'communard_ou_communardeLabel': {'xml:lang': 'en', 'type': 'literal', 'value': 'Galdric Verdaguer'}}\n",
      "{'communard_ou_communarde': {'type': 'uri', 'value': 'http://www.wikidata.org/entity/Q4025364'}, 'communard_ou_communardeLabel': {'xml:lang': 'en', 'type': 'literal', 'value': 'Édouard Moreau'}}\n",
      "{'communard_ou_communarde': {'type': 'uri', 'value': 'http://www.wikidata.org/entity/Q4383990'}, 'communard_ou_communardeLabel': {'xml:lang': 'en', 'type': 'literal', 'value': 'Anna Henryka Pustowojtowna'}}\n",
      "{'communard_ou_communarde': {'type': 'uri', 'value': 'http://www.wikidata.org/entity/Q11686965'}, 'communard_ou_communardeLabel': {'xml:lang': 'en', 'type': 'literal', 'value': 'Auguste Adolphe Okolowicz'}}\n",
      "{'communard_ou_communarde': {'type': 'uri', 'value': 'http://www.wikidata.org/entity/Q11736385'}, 'communard_ou_communardeLabel': {'xml:lang': 'en', 'type': 'literal', 'value': 'Karol Świdziński'}}\n",
      "{'communard_ou_communarde': {'type': 'uri', 'value': 'http://www.wikidata.org/entity/Q11779281'}, 'communard_ou_communardeLabel': {'xml:lang': 'en', 'type': 'literal', 'value': 'Michał Szweycer'}}\n",
      "{'communard_ou_communarde': {'type': 'uri', 'value': 'http://www.wikidata.org/entity/Q13077222'}, 'communard_ou_communardeLabel': {'xml:lang': 'en', 'type': 'literal', 'value': 'Alexandre Girault'}}\n",
      "{'communard_ou_communarde': {'type': 'uri', 'value': 'http://www.wikidata.org/entity/Q13080861'}, 'communard_ou_communardeLabel': {'xml:lang': 'en', 'type': 'literal', 'value': 'Emmanuel Chauvière'}}\n",
      "{'communard_ou_communarde': {'type': 'uri', 'value': 'http://www.wikidata.org/entity/Q13088837'}, 'communard_ou_communardeLabel': {'xml:lang': 'en', 'type': 'literal', 'value': 'Pascal Faberot'}}\n",
      "{'communard_ou_communarde': {'type': 'uri', 'value': 'http://www.wikidata.org/entity/Q13091113'}, 'communard_ou_communardeLabel': {'xml:lang': 'en', 'type': 'literal', 'value': 'Prudent Prudent-Dervillers'}}\n",
      "{'communard_ou_communarde': {'type': 'uri', 'value': 'http://www.wikidata.org/entity/Q13091118'}, 'communard_ou_communardeLabel': {'xml:lang': 'en', 'type': 'literal', 'value': 'Victor Renou'}}\n",
      "{'communard_ou_communarde': {'type': 'uri', 'value': 'http://www.wikidata.org/entity/Q15727906'}, 'communard_ou_communardeLabel': {'xml:lang': 'en', 'type': 'literal', 'value': 'Edmé-Charles Chabert'}}\n",
      "{'communard_ou_communarde': {'type': 'uri', 'value': 'http://www.wikidata.org/entity/Q15941575'}, 'communard_ou_communardeLabel': {'xml:lang': 'en', 'type': 'literal', 'value': 'Adrien Lejeune'}}\n",
      "{'communard_ou_communarde': {'type': 'uri', 'value': 'http://www.wikidata.org/entity/Q15969714'}, 'communard_ou_communardeLabel': {'xml:lang': 'en', 'type': 'literal', 'value': 'Pierre Denis'}}\n",
      "{'communard_ou_communarde': {'type': 'uri', 'value': 'http://www.wikidata.org/entity/Q15973755'}, 'communard_ou_communardeLabel': {'xml:lang': 'en', 'type': 'literal', 'value': 'Sainte Suzanne Melvil-Bloncourt'}}\n",
      "{'communard_ou_communarde': {'type': 'uri', 'value': 'http://www.wikidata.org/entity/Q16026799'}, 'communard_ou_communardeLabel': {'xml:lang': 'en', 'type': 'literal', 'value': 'François Edmond Rattier'}}\n",
      "{'communard_ou_communarde': {'type': 'uri', 'value': 'http://www.wikidata.org/entity/Q16058886'}, 'communard_ou_communardeLabel': {'xml:lang': 'en', 'type': 'literal', 'value': 'Eliska Vincent'}}\n",
      "{'communard_ou_communarde': {'type': 'uri', 'value': 'http://www.wikidata.org/entity/Q16190483'}, 'communard_ou_communardeLabel': {'xml:lang': 'en', 'type': 'literal', 'value': 'Giovanni Defendi'}}\n",
      "{'communard_ou_communarde': {'type': 'uri', 'value': 'http://www.wikidata.org/entity/Q16216142'}, 'communard_ou_communardeLabel': {'xml:lang': 'en', 'type': 'literal', 'value': 'Charles Élie Ducoudray'}}\n",
      "{'communard_ou_communarde': {'type': 'uri', 'value': 'http://www.wikidata.org/entity/Q16641555'}, 'communard_ou_communardeLabel': {'xml:lang': 'en', 'type': 'literal', 'value': 'Henri Brissac'}}\n",
      "{'communard_ou_communarde': {'type': 'uri', 'value': 'http://www.wikidata.org/entity/Q16663053'}, 'communard_ou_communardeLabel': {'xml:lang': 'en', 'type': 'literal', 'value': 'Marie Catherine Rogissart'}}\n",
      "{'communard_ou_communarde': {'type': 'uri', 'value': 'http://www.wikidata.org/entity/Q16739687'}, 'communard_ou_communardeLabel': {'xml:lang': 'en', 'type': 'literal', 'value': 'Louis-Ernest Pichio'}}\n",
      "{'communard_ou_communarde': {'type': 'uri', 'value': 'http://www.wikidata.org/entity/Q19630533'}, 'communard_ou_communardeLabel': {'xml:lang': 'en', 'type': 'literal', 'value': 'Napoléon Gaillard'}}\n",
      "{'communard_ou_communarde': {'type': 'uri', 'value': 'http://www.wikidata.org/entity/Q19924415'}, 'communard_ou_communardeLabel': {'xml:lang': 'en', 'type': 'literal', 'value': 'Louis Lucipia'}}\n",
      "{'communard_ou_communarde': {'type': 'uri', 'value': 'http://www.wikidata.org/entity/Q21197410'}, 'communard_ou_communardeLabel': {'xml:lang': 'en', 'type': 'literal', 'value': 'Victor-Charles Langevin'}}\n",
      "{'communard_ou_communarde': {'type': 'uri', 'value': 'http://www.wikidata.org/entity/Q23765947'}, 'communard_ou_communardeLabel': {'xml:lang': 'en', 'type': 'literal', 'value': 'Paul Martine'}}\n",
      "{'communard_ou_communarde': {'type': 'uri', 'value': 'http://www.wikidata.org/entity/Q23800888'}, 'communard_ou_communardeLabel': {'xml:lang': 'en', 'type': 'literal', 'value': 'Georges Cavalier'}}\n",
      "{'communard_ou_communarde': {'type': 'uri', 'value': 'http://www.wikidata.org/entity/Q24255752'}, 'communard_ou_communardeLabel': {'xml:lang': 'en', 'type': 'literal', 'value': 'Mina Puccinelli'}}\n",
      "{'communard_ou_communarde': {'type': 'uri', 'value': 'http://www.wikidata.org/entity/Q29478111'}, 'communard_ou_communardeLabel': {'xml:lang': 'en', 'type': 'literal', 'value': 'Camille Bias'}}\n",
      "{'communard_ou_communarde': {'type': 'uri', 'value': 'http://www.wikidata.org/entity/Q29877025'}, 'communard_ou_communardeLabel': {'xml:lang': 'en', 'type': 'literal', 'value': 'Victorine Brocher'}}\n",
      "{'communard_ou_communarde': {'type': 'uri', 'value': 'http://www.wikidata.org/entity/Q29882256'}, 'communard_ou_communardeLabel': {'xml:lang': 'en', 'type': 'literal', 'value': 'Marc-Amédée Gromier'}}\n",
      "{'communard_ou_communarde': {'type': 'uri', 'value': 'http://www.wikidata.org/entity/Q47091499'}, 'communard_ou_communardeLabel': {'xml:lang': 'en', 'type': 'literal', 'value': 'Blanche Lefebvre'}}\n",
      "{'communard_ou_communarde': {'type': 'uri', 'value': 'http://www.wikidata.org/entity/Q56878237'}, 'communard_ou_communardeLabel': {'xml:lang': 'en', 'type': 'literal', 'value': 'Victoire Tinayre'}}\n",
      "{'communard_ou_communarde': {'type': 'uri', 'value': 'http://www.wikidata.org/entity/Q60632636'}, 'communard_ou_communardeLabel': {'xml:lang': 'en', 'type': 'literal', 'value': 'Noémi Reclus'}}\n",
      "{'communard_ou_communarde': {'type': 'uri', 'value': 'http://www.wikidata.org/entity/Q63057053'}, 'communard_ou_communardeLabel': {'xml:lang': 'en', 'type': 'literal', 'value': 'Jules Fontaine'}}\n",
      "{'communard_ou_communarde': {'type': 'uri', 'value': 'http://www.wikidata.org/entity/Q63081291'}, 'communard_ou_communardeLabel': {'xml:lang': 'en', 'type': 'literal', 'value': 'Paul Ferrat'}}\n",
      "{'communard_ou_communarde': {'type': 'uri', 'value': 'http://www.wikidata.org/entity/Q80465269'}, 'communard_ou_communardeLabel': {'xml:lang': 'en', 'type': 'literal', 'value': \"Georges Ganier d'Abin\"}}\n",
      "{'communard_ou_communarde': {'type': 'uri', 'value': 'http://www.wikidata.org/entity/Q94651250'}, 'communard_ou_communardeLabel': {'xml:lang': 'en', 'type': 'literal', 'value': 'Maurice Garreau'}}\n",
      "{'communard_ou_communarde': {'type': 'uri', 'value': 'http://www.wikidata.org/entity/Q97707916'}, 'communard_ou_communardeLabel': {'xml:lang': 'en', 'type': 'literal', 'value': 'Alix Payen'}}\n",
      "{'communard_ou_communarde': {'type': 'uri', 'value': 'http://www.wikidata.org/entity/Q97734601'}, 'communard_ou_communardeLabel': {'xml:lang': 'en', 'type': 'literal', 'value': 'Hortense David'}}\n",
      "{'communard_ou_communarde': {'type': 'uri', 'value': 'http://www.wikidata.org/entity/Q97760931'}, 'communard_ou_communardeLabel': {'xml:lang': 'en', 'type': 'literal', 'value': 'Henri Payen'}}\n",
      "{'communard_ou_communarde': {'type': 'uri', 'value': 'http://www.wikidata.org/entity/Q98276735'}, 'communard_ou_communardeLabel': {'xml:lang': 'en', 'type': 'literal', 'value': 'Józef Achilles Bonoldi'}}\n",
      "{'communard_ou_communarde': {'type': 'uri', 'value': 'http://www.wikidata.org/entity/Q98314343'}, 'communard_ou_communardeLabel': {'xml:lang': 'en', 'type': 'literal', 'value': 'Louise Bonenfant'}}\n",
      "{'communard_ou_communarde': {'type': 'uri', 'value': 'http://www.wikidata.org/entity/Q98341787'}, 'communard_ou_communardeLabel': {'xml:lang': 'en', 'type': 'literal', 'value': 'Lucie Bocquin'}}\n",
      "{'communard_ou_communarde': {'type': 'uri', 'value': 'http://www.wikidata.org/entity/Q98342030'}, 'communard_ou_communardeLabel': {'xml:lang': 'en', 'type': 'literal', 'value': 'Florence Baruteau'}}\n",
      "{'communard_ou_communarde': {'type': 'uri', 'value': 'http://www.wikidata.org/entity/Q98342898'}, 'communard_ou_communardeLabel': {'xml:lang': 'en', 'type': 'literal', 'value': 'Angelina Courcelles'}}\n",
      "{'communard_ou_communarde': {'type': 'uri', 'value': 'http://www.wikidata.org/entity/Q98343449'}, 'communard_ou_communardeLabel': {'xml:lang': 'en', 'type': 'literal', 'value': 'Elisabeth Javelin'}}\n",
      "{'communard_ou_communarde': {'type': 'uri', 'value': 'http://www.wikidata.org/entity/Q98380401'}, 'communard_ou_communardeLabel': {'xml:lang': 'en', 'type': 'literal', 'value': 'Marie Lecourt'}}\n",
      "{'communard_ou_communarde': {'type': 'uri', 'value': 'http://www.wikidata.org/entity/Q98380459'}, 'communard_ou_communardeLabel': {'xml:lang': 'en', 'type': 'literal', 'value': 'Laure Boulant'}}\n",
      "{'communard_ou_communarde': {'type': 'uri', 'value': 'http://www.wikidata.org/entity/Q98380475'}, 'communard_ou_communardeLabel': {'xml:lang': 'en', 'type': 'literal', 'value': 'Lise Bourette'}}\n",
      "{'communard_ou_communarde': {'type': 'uri', 'value': 'http://www.wikidata.org/entity/Q98433895'}, 'communard_ou_communardeLabel': {'xml:lang': 'en', 'type': 'literal', 'value': 'Louise Boutin'}}\n",
      "{'communard_ou_communarde': {'type': 'uri', 'value': 'http://www.wikidata.org/entity/Q98433896'}, 'communard_ou_communardeLabel': {'xml:lang': 'en', 'type': 'literal', 'value': 'Arthur'}}\n",
      "{'communard_ou_communarde': {'type': 'uri', 'value': 'http://www.wikidata.org/entity/Q98433903'}, 'communard_ou_communardeLabel': {'xml:lang': 'en', 'type': 'literal', 'value': 'Joséphine Michel Bocquin'}}\n",
      "{'communard_ou_communarde': {'type': 'uri', 'value': 'http://www.wikidata.org/entity/Q98433906'}, 'communard_ou_communardeLabel': {'xml:lang': 'en', 'type': 'literal', 'value': 'Eugénie Boulanger'}}\n",
      "{'communard_ou_communarde': {'type': 'uri', 'value': 'http://www.wikidata.org/entity/Q98433928'}, 'communard_ou_communardeLabel': {'xml:lang': 'en', 'type': 'literal', 'value': 'Clériot'}}\n",
      "{'communard_ou_communarde': {'type': 'uri', 'value': 'http://www.wikidata.org/entity/Q98433931'}, 'communard_ou_communardeLabel': {'xml:lang': 'en', 'type': 'literal', 'value': 'Reine Cottin'}}\n",
      "{'communard_ou_communarde': {'type': 'uri', 'value': 'http://www.wikidata.org/entity/Q98433932'}, 'communard_ou_communardeLabel': {'xml:lang': 'en', 'type': 'literal', 'value': 'Blanche de Corbie'}}\n",
      "{'communard_ou_communarde': {'type': 'uri', 'value': 'http://www.wikidata.org/entity/Q98433959'}, 'communard_ou_communardeLabel': {'xml:lang': 'en', 'type': 'literal', 'value': 'Marie Christine Dargent'}}\n",
      "{'communard_ou_communarde': {'type': 'uri', 'value': 'http://www.wikidata.org/entity/Q98435230'}, 'communard_ou_communardeLabel': {'xml:lang': 'en', 'type': 'literal', 'value': 'Jean Charles Rouchy'}}\n",
      "{'communard_ou_communarde': {'type': 'uri', 'value': 'http://www.wikidata.org/entity/Q99601893'}, 'communard_ou_communardeLabel': {'xml:lang': 'en', 'type': 'literal', 'value': 'Céleste Hardouin'}}\n",
      "{'communard_ou_communarde': {'type': 'uri', 'value': 'http://www.wikidata.org/entity/Q99654427'}, 'communard_ou_communardeLabel': {'xml:lang': 'en', 'type': 'literal', 'value': 'Lucienne Prins'}}\n",
      "{'communard_ou_communarde': {'type': 'uri', 'value': 'http://www.wikidata.org/entity/Q100900468'}, 'communard_ou_communardeLabel': {'xml:lang': 'en', 'type': 'literal', 'value': 'Sophie Poirier'}}\n",
      "{'communard_ou_communarde': {'type': 'uri', 'value': 'http://www.wikidata.org/entity/Q100979871'}, 'communard_ou_communardeLabel': {'xml:lang': 'en', 'type': 'literal', 'value': 'Béatrix Excoffon'}}\n",
      "{'communard_ou_communarde': {'type': 'uri', 'value': 'http://www.wikidata.org/entity/Q101137829'}, 'communard_ou_communardeLabel': {'xml:lang': 'en', 'type': 'literal', 'value': 'Marie Chiffon'}}\n",
      "{'communard_ou_communarde': {'type': 'uri', 'value': 'http://www.wikidata.org/entity/Q101423043'}, 'communard_ou_communardeLabel': {'xml:lang': 'en', 'type': 'literal', 'value': 'Victorine Eudes'}}\n",
      "{'communard_ou_communarde': {'type': 'uri', 'value': 'http://www.wikidata.org/entity/Q101589436'}, 'communard_ou_communardeLabel': {'xml:lang': 'en', 'type': 'literal', 'value': 'Marie Manière'}}\n",
      "{'communard_ou_communarde': {'type': 'uri', 'value': 'http://www.wikidata.org/entity/Q103900449'}, 'communard_ou_communardeLabel': {'xml:lang': 'en', 'type': 'literal', 'value': 'Auguste Durassier'}}\n",
      "{'communard_ou_communarde': {'type': 'uri', 'value': 'http://www.wikidata.org/entity/Q104131597'}, 'communard_ou_communardeLabel': {'xml:lang': 'en', 'type': 'literal', 'value': 'Fornarina de Fonseca'}}\n",
      "{'communard_ou_communarde': {'type': 'uri', 'value': 'http://www.wikidata.org/entity/Q104144736'}, 'communard_ou_communardeLabel': {'xml:lang': 'en', 'type': 'literal', 'value': 'Louise Laffitte'}}\n",
      "{'communard_ou_communarde': {'type': 'uri', 'value': 'http://www.wikidata.org/entity/Q104144758'}, 'communard_ou_communardeLabel': {'xml:lang': 'en', 'type': 'literal', 'value': 'Pierre Laffitte'}}\n",
      "{'communard_ou_communarde': {'type': 'uri', 'value': 'http://www.wikidata.org/entity/Q104161935'}, 'communard_ou_communardeLabel': {'xml:lang': 'en', 'type': 'literal', 'value': 'Amélie Payen'}}\n",
      "{'communard_ou_communarde': {'type': 'uri', 'value': 'http://www.wikidata.org/entity/Q104484264'}, 'communard_ou_communardeLabel': {'xml:lang': 'en', 'type': 'literal', 'value': 'Jean-Baptiste Noro'}}\n",
      "{'communard_ou_communarde': {'type': 'uri', 'value': 'http://www.wikidata.org/entity/Q104590651'}, 'communard_ou_communardeLabel': {'xml:lang': 'en', 'type': 'literal', 'value': 'Joséphine Marchais'}}\n",
      "{'communard_ou_communarde': {'type': 'uri', 'value': 'http://www.wikidata.org/entity/Q104590742'}, 'communard_ou_communardeLabel': {'xml:lang': 'en', 'type': 'literal', 'value': 'Eulalie Papavoine'}}\n",
      "{'communard_ou_communarde': {'type': 'uri', 'value': 'http://www.wikidata.org/entity/Q104590760'}, 'communard_ou_communardeLabel': {'xml:lang': 'en', 'type': 'literal', 'value': 'Coralie Chérelle'}}\n",
      "{'communard_ou_communarde': {'type': 'uri', 'value': 'http://www.wikidata.org/entity/Q104597460'}, 'communard_ou_communardeLabel': {'xml:lang': 'en', 'type': 'literal', 'value': 'Lucie Maris'}}\n",
      "{'communard_ou_communarde': {'type': 'uri', 'value': 'http://www.wikidata.org/entity/Q104597508'}, 'communard_ou_communardeLabel': {'xml:lang': 'en', 'type': 'literal', 'value': 'Léontine Suétens'}}\n",
      "{'communard_ou_communarde': {'type': 'uri', 'value': 'http://www.wikidata.org/entity/Q104597524'}, 'communard_ou_communardeLabel': {'xml:lang': 'en', 'type': 'literal', 'value': 'Élisabeth Rétiffe'}}\n",
      "{'communard_ou_communarde': {'type': 'uri', 'value': 'http://www.wikidata.org/entity/Q104597568'}, 'communard_ou_communardeLabel': {'xml:lang': 'en', 'type': 'literal', 'value': 'Marie-Jeanne Moussu'}}\n",
      "{'communard_ou_communarde': {'type': 'uri', 'value': 'http://www.wikidata.org/entity/Q104597670'}, 'communard_ou_communardeLabel': {'xml:lang': 'en', 'type': 'literal', 'value': 'Louise Bonnehaut'}}\n",
      "{'communard_ou_communarde': {'type': 'uri', 'value': 'http://www.wikidata.org/entity/Q104598101'}, 'communard_ou_communardeLabel': {'xml:lang': 'en', 'type': 'literal', 'value': 'Eugénie Chilly'}}\n",
      "{'communard_ou_communarde': {'type': 'uri', 'value': 'http://www.wikidata.org/entity/Q104600460'}, 'communard_ou_communardeLabel': {'xml:lang': 'en', 'type': 'literal', 'value': 'Valentin Bouteilhe'}}\n",
      "{'communard_ou_communarde': {'type': 'uri', 'value': 'http://www.wikidata.org/entity/Q104603386'}, 'communard_ou_communardeLabel': {'xml:lang': 'en', 'type': 'literal', 'value': 'Marie La Cécilia'}}\n",
      "{'communard_ou_communarde': {'type': 'uri', 'value': 'http://www.wikidata.org/entity/Q105768338'}, 'communard_ou_communardeLabel': {'xml:lang': 'en', 'type': 'literal', 'value': 'Marie Mercier'}}\n",
      "{'communard_ou_communarde': {'type': 'uri', 'value': 'http://www.wikidata.org/entity/Q105778677'}, 'communard_ou_communardeLabel': {'xml:lang': 'en', 'type': 'literal', 'value': 'Victorine Gorget'}}\n",
      "{'communard_ou_communarde': {'type': 'uri', 'value': 'http://www.wikidata.org/entity/Q105798573'}, 'communard_ou_communardeLabel': {'xml:lang': 'en', 'type': 'literal', 'value': 'Maria Verdure'}}\n",
      "{'communard_ou_communarde': {'type': 'uri', 'value': 'http://www.wikidata.org/entity/Q105834768'}, 'communard_ou_communardeLabel': {'xml:lang': 'en', 'type': 'literal', 'value': 'Adélaïde Valentin'}}\n",
      "{'communard_ou_communarde': {'type': 'uri', 'value': 'http://www.wikidata.org/entity/Q105890109'}, 'communard_ou_communardeLabel': {'xml:lang': 'en', 'type': 'literal', 'value': 'Hortense Machu'}}\n",
      "{'communard_ou_communarde': {'type': 'uri', 'value': 'http://www.wikidata.org/entity/Q105919861'}, 'communard_ou_communardeLabel': {'xml:lang': 'en', 'type': 'literal', 'value': 'Malvina Poulain'}}\n",
      "{'communard_ou_communarde': {'type': 'uri', 'value': 'http://www.wikidata.org/entity/Q105946421'}, 'communard_ou_communardeLabel': {'xml:lang': 'en', 'type': 'literal', 'value': 'Marguerite Lachaise'}}\n",
      "{'communard_ou_communarde': {'type': 'uri', 'value': 'http://www.wikidata.org/entity/Q106042268'}, 'communard_ou_communardeLabel': {'xml:lang': 'en', 'type': 'literal', 'value': 'Octavie Tardif'}}\n",
      "{'communard_ou_communarde': {'type': 'uri', 'value': 'http://www.wikidata.org/entity/Q106042309'}, 'communard_ou_communardeLabel': {'xml:lang': 'en', 'type': 'literal', 'value': 'Marie Soulange'}}\n",
      "{'communard_ou_communarde': {'type': 'uri', 'value': 'http://www.wikidata.org/entity/Q106094340'}, 'communard_ou_communardeLabel': {'xml:lang': 'en', 'type': 'literal', 'value': 'Claude Payet'}}\n",
      "{'communard_ou_communarde': {'type': 'uri', 'value': 'http://www.wikidata.org/entity/Q106255792'}, 'communard_ou_communardeLabel': {'xml:lang': 'en', 'type': 'literal', 'value': 'Florence Van de Walle'}}\n",
      "{'communard_ou_communarde': {'type': 'uri', 'value': 'http://www.wikidata.org/entity/Q106299219'}, 'communard_ou_communardeLabel': {'xml:lang': 'en', 'type': 'literal', 'value': 'Anne-Marie Ménand'}}\n",
      "{'communard_ou_communarde': {'type': 'uri', 'value': 'http://www.wikidata.org/entity/Q106314923'}, 'communard_ou_communardeLabel': {'xml:lang': 'en', 'type': 'literal', 'value': 'Henri Donninger'}}\n",
      "{'communard_ou_communarde': {'type': 'uri', 'value': 'http://www.wikidata.org/entity/Q106631166'}, 'communard_ou_communardeLabel': {'xml:lang': 'en', 'type': 'literal', 'value': 'Eugène Cléray'}}\n",
      "{'communard_ou_communarde': {'type': 'uri', 'value': 'http://www.wikidata.org/entity/Q106832188'}, 'communard_ou_communardeLabel': {'xml:lang': 'en', 'type': 'literal', 'value': 'Eugenio Defendi'}}\n",
      "{'communard_ou_communarde': {'type': 'uri', 'value': 'http://www.wikidata.org/entity/Q108400533'}, 'communard_ou_communardeLabel': {'xml:lang': 'en', 'type': 'literal', 'value': 'Louise Neckbecker'}}\n",
      "{'communard_ou_communarde': {'type': 'uri', 'value': 'http://www.wikidata.org/entity/Q108404382'}, 'communard_ou_communardeLabel': {'xml:lang': 'en', 'type': 'literal', 'value': 'Julie Magot'}}\n",
      "{'communard_ou_communarde': {'type': 'uri', 'value': 'http://www.wikidata.org/entity/Q108847530'}, 'communard_ou_communardeLabel': {'xml:lang': 'en', 'type': 'literal', 'value': 'Kswaiera Ladojska Kawecka'}}\n",
      "{'communard_ou_communarde': {'type': 'uri', 'value': 'http://www.wikidata.org/entity/Q108847545'}, 'communard_ou_communardeLabel': {'xml:lang': 'en', 'type': 'literal', 'value': 'Constantin Kawecki'}}\n",
      "{'communard_ou_communarde': {'type': 'uri', 'value': 'http://www.wikidata.org/entity/Q109315486'}, 'communard_ou_communardeLabel': {'xml:lang': 'en', 'type': 'literal', 'value': 'Jules Honoré Vinot'}}\n",
      "{'communard_ou_communarde': {'type': 'uri', 'value': 'http://www.wikidata.org/entity/Q110741242'}, 'communard_ou_communardeLabel': {'xml:lang': 'en', 'type': 'literal', 'value': 'Julien Fruneau'}}\n",
      "{'communard_ou_communarde': {'type': 'uri', 'value': 'http://www.wikidata.org/entity/Q110741413'}, 'communard_ou_communardeLabel': {'xml:lang': 'en', 'type': 'literal', 'value': 'Benjamin Barré'}}\n",
      "{'communard_ou_communarde': {'type': 'uri', 'value': 'http://www.wikidata.org/entity/Q110797780'}, 'communard_ou_communardeLabel': {'xml:lang': 'en', 'type': 'literal', 'value': 'Henri Ranvier'}}\n",
      "{'communard_ou_communarde': {'type': 'uri', 'value': 'http://www.wikidata.org/entity/Q110918322'}, 'communard_ou_communardeLabel': {'type': 'literal', 'value': 'Q110918322'}}\n",
      "{'communard_ou_communarde': {'type': 'uri', 'value': 'http://www.wikidata.org/entity/Q111017800'}, 'communard_ou_communardeLabel': {'xml:lang': 'en', 'type': 'literal', 'value': 'Louise Talbot'}}\n",
      "{'communard_ou_communarde': {'type': 'uri', 'value': 'http://www.wikidata.org/entity/Q111018075'}, 'communard_ou_communardeLabel': {'xml:lang': 'en', 'type': 'literal', 'value': 'Émilie Noro'}}\n",
      "{'communard_ou_communarde': {'type': 'uri', 'value': 'http://www.wikidata.org/entity/Q112043429'}, 'communard_ou_communardeLabel': {'xml:lang': 'en', 'type': 'literal', 'value': 'Ernest Philippe Cadolle'}}\n",
      "{'communard_ou_communarde': {'type': 'uri', 'value': 'http://www.wikidata.org/entity/Q114165675'}, 'communard_ou_communardeLabel': {'xml:lang': 'en', 'type': 'literal', 'value': 'Claude Perret'}}\n",
      "{'communard_ou_communarde': {'type': 'uri', 'value': 'http://www.wikidata.org/entity/Q114369842'}, 'communard_ou_communardeLabel': {'xml:lang': 'en', 'type': 'literal', 'value': 'Jules Théodore Chiffon'}}\n",
      "{'communard_ou_communarde': {'type': 'uri', 'value': 'http://www.wikidata.org/entity/Q115179017'}, 'communard_ou_communardeLabel': {'type': 'literal', 'value': 'Q115179017'}}\n",
      "{'communard_ou_communarde': {'type': 'uri', 'value': 'http://www.wikidata.org/entity/Q115257357'}, 'communard_ou_communardeLabel': {'xml:lang': 'en', 'type': 'literal', 'value': 'Anna Maillet'}}\n",
      "{'communard_ou_communarde': {'type': 'uri', 'value': 'http://www.wikidata.org/entity/Q115257358'}, 'communard_ou_communardeLabel': {'xml:lang': 'en', 'type': 'literal', 'value': 'Mme Marquant'}}\n",
      "{'communard_ou_communarde': {'type': 'uri', 'value': 'http://www.wikidata.org/entity/Q115257359'}, 'communard_ou_communardeLabel': {'xml:lang': 'en', 'type': 'literal', 'value': 'Angelina Sabatier'}}\n",
      "{'communard_ou_communarde': {'type': 'uri', 'value': 'http://www.wikidata.org/entity/Q115257361'}, 'communard_ou_communardeLabel': {'xml:lang': 'en', 'type': 'literal', 'value': 'Victorine Piesvaux'}}\n",
      "{'communard_ou_communarde': {'type': 'uri', 'value': 'http://www.wikidata.org/entity/Q115257362'}, 'communard_ou_communardeLabel': {'xml:lang': 'en', 'type': 'literal', 'value': 'Octavie Vataire'}}\n",
      "{'communard_ou_communarde': {'type': 'uri', 'value': 'http://www.wikidata.org/entity/Q115257364'}, 'communard_ou_communardeLabel': {'xml:lang': 'en', 'type': 'literal', 'value': 'Marie Picot'}}\n",
      "{'communard_ou_communarde': {'type': 'uri', 'value': 'http://www.wikidata.org/entity/Q115257365'}, 'communard_ou_communardeLabel': {'xml:lang': 'en', 'type': 'literal', 'value': 'Mme Bessaiche'}}\n",
      "{'communard_ou_communarde': {'type': 'uri', 'value': 'http://www.wikidata.org/entity/Q115257366'}, 'communard_ou_communardeLabel': {'xml:lang': 'en', 'type': 'literal', 'value': 'Marie Leloup'}}\n",
      "{'communard_ou_communarde': {'type': 'uri', 'value': 'http://www.wikidata.org/entity/Q115257367'}, 'communard_ou_communardeLabel': {'type': 'literal', 'value': 'Q115257367'}}\n",
      "{'communard_ou_communarde': {'type': 'uri', 'value': 'http://www.wikidata.org/entity/Q115257368'}, 'communard_ou_communardeLabel': {'xml:lang': 'en', 'type': 'literal', 'value': 'Marie Tissereau'}}\n",
      "{'communard_ou_communarde': {'type': 'uri', 'value': 'http://www.wikidata.org/entity/Q115257369'}, 'communard_ou_communardeLabel': {'xml:lang': 'en', 'type': 'literal', 'value': 'Joséphine Clément'}}\n",
      "{'communard_ou_communarde': {'type': 'uri', 'value': 'http://www.wikidata.org/entity/Q115257371'}, 'communard_ou_communardeLabel': {'xml:lang': 'en', 'type': 'literal', 'value': 'Joséphine Duflot'}}\n",
      "{'communard_ou_communarde': {'type': 'uri', 'value': 'http://www.wikidata.org/entity/Q115257372'}, 'communard_ou_communardeLabel': {'xml:lang': 'en', 'type': 'literal', 'value': 'Marie Prussovski'}}\n",
      "{'communard_ou_communarde': {'type': 'uri', 'value': 'http://www.wikidata.org/entity/Q115257373'}, 'communard_ou_communardeLabel': {'xml:lang': 'en', 'type': 'literal', 'value': 'Anna Joubert'}}\n",
      "{'communard_ou_communarde': {'type': 'uri', 'value': 'http://www.wikidata.org/entity/Q115257374'}, 'communard_ou_communardeLabel': {'xml:lang': 'en', 'type': 'literal', 'value': 'Antoinette Legai'}}\n",
      "{'communard_ou_communarde': {'type': 'uri', 'value': 'http://www.wikidata.org/entity/Q115257375'}, 'communard_ou_communardeLabel': {'xml:lang': 'en', 'type': 'literal', 'value': 'Julie Beauchéry'}}\n",
      "{'communard_ou_communarde': {'type': 'uri', 'value': 'http://www.wikidata.org/entity/Q115257376'}, 'communard_ou_communardeLabel': {'xml:lang': 'en', 'type': 'literal', 'value': 'Mme Duval'}}\n",
      "{'communard_ou_communarde': {'type': 'uri', 'value': 'http://www.wikidata.org/entity/Q115257377'}, 'communard_ou_communardeLabel': {'type': 'literal', 'value': 'Q115257377'}}\n",
      "{'communard_ou_communarde': {'type': 'uri', 'value': 'http://www.wikidata.org/entity/Q115257378'}, 'communard_ou_communardeLabel': {'xml:lang': 'en', 'type': 'literal', 'value': 'Aline Jacquier'}}\n",
      "{'communard_ou_communarde': {'type': 'uri', 'value': 'http://www.wikidata.org/entity/Q115257379'}, 'communard_ou_communardeLabel': {'xml:lang': 'en', 'type': 'literal', 'value': 'Aglaé Jarry'}}\n",
      "{'communard_ou_communarde': {'type': 'uri', 'value': 'http://www.wikidata.org/entity/Q115257380'}, 'communard_ou_communardeLabel': {'xml:lang': 'en', 'type': 'literal', 'value': 'Alice Bontemps'}}\n",
      "{'communard_ou_communarde': {'type': 'uri', 'value': 'http://www.wikidata.org/entity/Q115257381'}, 'communard_ou_communardeLabel': {'xml:lang': 'en', 'type': 'literal', 'value': 'Mme Blondeau'}}\n",
      "{'communard_ou_communarde': {'type': 'uri', 'value': 'http://www.wikidata.org/entity/Q115257382'}, 'communard_ou_communardeLabel': {'xml:lang': 'en', 'type': 'literal', 'value': 'Jeanne Musset'}}\n",
      "{'communard_ou_communarde': {'type': 'uri', 'value': 'http://www.wikidata.org/entity/Q115257383'}, 'communard_ou_communardeLabel': {'xml:lang': 'en', 'type': 'literal', 'value': 'Mme Gauvain'}}\n",
      "{'communard_ou_communarde': {'type': 'uri', 'value': 'http://www.wikidata.org/entity/Q115257384'}, 'communard_ou_communardeLabel': {'xml:lang': 'en', 'type': 'literal', 'value': 'Noémie Colleville'}}\n",
      "{'communard_ou_communarde': {'type': 'uri', 'value': 'http://www.wikidata.org/entity/Q115257385'}, 'communard_ou_communardeLabel': {'xml:lang': 'en', 'type': 'literal', 'value': 'Sophie Graix'}}\n",
      "{'communard_ou_communarde': {'type': 'uri', 'value': 'http://www.wikidata.org/entity/Q115257386'}, 'communard_ou_communardeLabel': {'xml:lang': 'en', 'type': 'literal', 'value': 'Joséphine Pratt'}}\n",
      "{'communard_ou_communarde': {'type': 'uri', 'value': 'http://www.wikidata.org/entity/Q115257387'}, 'communard_ou_communardeLabel': {'xml:lang': 'en', 'type': 'literal', 'value': 'Céline Delvainquier'}}\n",
      "{'communard_ou_communarde': {'type': 'uri', 'value': 'http://www.wikidata.org/entity/Q115257388'}, 'communard_ou_communardeLabel': {'xml:lang': 'en', 'type': 'literal', 'value': 'Aimée Delvainquier'}}\n"
     ]
    }
   ],
   "source": [
    "#print(results)\n",
    "for result in results[\"results\"][\"bindings\"]:\n",
    "    print(result)"
   ]
  },
  {
   "cell_type": "markdown",
   "metadata": {},
   "source": [
    "Mettre les résultats dans un dataframe et pouvoir les exploiter avec la bibliothèque Pandas"
   ]
  },
  {
   "cell_type": "code",
   "execution_count": 6,
   "metadata": {},
   "outputs": [],
   "source": [
    "user_agent = \"WDQS-example Python/%s.%s\" % (sys.version_info[0], sys.version_info[1])\n",
    "sparql = SPARQLWrapper(endpoint_url, agent=user_agent)\n",
    "sparql.setQuery(query)\n",
    "sparql.setReturnFormat(JSON)\n",
    "#--- transformation en dataframe\n",
    "results = sparql.query().convert()\n",
    "df_results = pd.json_normalize(results[\"results\"][\"bindings\"])"
   ]
  },
  {
   "cell_type": "code",
   "execution_count": 7,
   "metadata": {},
   "outputs": [
    {
     "name": "stdout",
     "output_type": "stream",
     "text": [
      "    communard_ou_communarde.type              communard_ou_communarde.value   \n",
      "0                            uri      http://www.wikidata.org/entity/Q20951  \\\n",
      "1                            uri      http://www.wikidata.org/entity/Q34618   \n",
      "2                            uri     http://www.wikidata.org/entity/Q184535   \n",
      "3                            uri     http://www.wikidata.org/entity/Q216092   \n",
      "4                            uri     http://www.wikidata.org/entity/Q257950   \n",
      "..                           ...                                        ...   \n",
      "292                          uri  http://www.wikidata.org/entity/Q115257384   \n",
      "293                          uri  http://www.wikidata.org/entity/Q115257385   \n",
      "294                          uri  http://www.wikidata.org/entity/Q115257386   \n",
      "295                          uri  http://www.wikidata.org/entity/Q115257387   \n",
      "296                          uri  http://www.wikidata.org/entity/Q115257388   \n",
      "\n",
      "    communard_ou_communardeLabel.xml:lang communard_ou_communardeLabel.type   \n",
      "0                                      en                           literal  \\\n",
      "1                                      en                           literal   \n",
      "2                                      en                           literal   \n",
      "3                                      en                           literal   \n",
      "4                                      en                           literal   \n",
      "..                                    ...                               ...   \n",
      "292                                    en                           literal   \n",
      "293                                    en                           literal   \n",
      "294                                    en                           literal   \n",
      "295                                    en                           literal   \n",
      "296                                    en                           literal   \n",
      "\n",
      "    communard_ou_communardeLabel.value  \n",
      "0                        Élisée Reclus  \n",
      "1                      Gustave Courbet  \n",
      "2                   Sofia Kovalevskaya  \n",
      "3                        Louise Michel  \n",
      "4          Auguste-Jean-Marie Vermorel  \n",
      "..                                 ...  \n",
      "292                  Noémie Colleville  \n",
      "293                       Sophie Graix  \n",
      "294                    Joséphine Pratt  \n",
      "295                Céline Delvainquier  \n",
      "296                 Aimée Delvainquier  \n",
      "\n",
      "[297 rows x 5 columns]\n"
     ]
    }
   ],
   "source": [
    "print(df_results)"
   ]
  },
  {
   "cell_type": "markdown",
   "metadata": {},
   "source": [
    "la mettre en html"
   ]
  },
  {
   "cell_type": "code",
   "execution_count": 8,
   "metadata": {},
   "outputs": [
    {
     "name": "stdout",
     "output_type": "stream",
     "text": [
      "<bound method DataFrame.to_html of     communard_ou_communarde.type              communard_ou_communarde.value   \n",
      "0                            uri      http://www.wikidata.org/entity/Q20951  \\\n",
      "1                            uri      http://www.wikidata.org/entity/Q34618   \n",
      "2                            uri     http://www.wikidata.org/entity/Q184535   \n",
      "3                            uri     http://www.wikidata.org/entity/Q216092   \n",
      "4                            uri     http://www.wikidata.org/entity/Q257950   \n",
      "..                           ...                                        ...   \n",
      "292                          uri  http://www.wikidata.org/entity/Q115257384   \n",
      "293                          uri  http://www.wikidata.org/entity/Q115257385   \n",
      "294                          uri  http://www.wikidata.org/entity/Q115257386   \n",
      "295                          uri  http://www.wikidata.org/entity/Q115257387   \n",
      "296                          uri  http://www.wikidata.org/entity/Q115257388   \n",
      "\n",
      "    communard_ou_communardeLabel.xml:lang communard_ou_communardeLabel.type   \n",
      "0                                      en                           literal  \\\n",
      "1                                      en                           literal   \n",
      "2                                      en                           literal   \n",
      "3                                      en                           literal   \n",
      "4                                      en                           literal   \n",
      "..                                    ...                               ...   \n",
      "292                                    en                           literal   \n",
      "293                                    en                           literal   \n",
      "294                                    en                           literal   \n",
      "295                                    en                           literal   \n",
      "296                                    en                           literal   \n",
      "\n",
      "    communard_ou_communardeLabel.value  \n",
      "0                        Élisée Reclus  \n",
      "1                      Gustave Courbet  \n",
      "2                   Sofia Kovalevskaya  \n",
      "3                        Louise Michel  \n",
      "4          Auguste-Jean-Marie Vermorel  \n",
      "..                                 ...  \n",
      "292                  Noémie Colleville  \n",
      "293                       Sophie Graix  \n",
      "294                    Joséphine Pratt  \n",
      "295                Céline Delvainquier  \n",
      "296                 Aimée Delvainquier  \n",
      "\n",
      "[297 rows x 5 columns]>\n"
     ]
    }
   ],
   "source": [
    "print(df_results.to_html)"
   ]
  },
  {
   "cell_type": "markdown",
   "metadata": {},
   "source": [
    "## Portraits de Communardes et Communards\n",
    "\n",
    "### Trouver des communard·e·s sur wikidata\n",
    "\n",
    "#### L'élément \"communard ou communarde\"\n",
    "Sur Wikidata, al existe l'élément communard ou communarde, sous le nombre Q1780490\n",
    "https://www.wikidata.org/wiki/Q1780490\n",
    "> communard ou communarde (Q1780490)\n",
    "personne participant à la Commune de Paris\n",
    "\n",
    "#### La propriété \"occupation\"\n",
    "Sur wikidata, la propriété P106, permet de renseigner l'occupation (au sens très large ) d'une personne.\n",
    "https://www.wikidata.org/wiki/Property:P106\n",
    "> occupation (P106)\n",
    "nature d'activité d'une personne (métier, hobby…) ; voir aussi « domaine d'activité » (P101) et « fonction » (P39)\n",
    "\n",
    "#### Le triplet ?communard wdt:P106 wd:Q1780490.\n",
    "Pour toutes les recherche je considère que la personne est communard·e via occupation communard, soit\n",
    "```?communard wdt:P106 wd:Q1780490.``` si la requête a été écrite avant le 7 janvier 2023 ou `?communard_ou_communarde wdt:P106 wd:Q1780490.` après.\n",
    "\n",
    "Quand j'ai commencé a m'intéresser à ce sujet c'était ce triplet qui était déjà majoritaire.  Il était en \"concurrence\" avec  allégeance à Commune, participant à la Commune, conflit commune... Cela aurait nécessité plus de changement.\n",
    "\n",
    "Pour mémoire il s'agit des triplet \n",
    "```\n",
    "?communard wdt:P945 wd:Q133132.\n",
    "?communard wdt:P945 wd:Q1249756.\n",
    "?communard wdt:P463 wd:Q1249756.\n",
    "?communard wdt:P463 wd:Q133132.\n",
    "?communard wdt:P607 wd:Q133132.\n",
    "```"
   ]
  },
  {
   "cell_type": "markdown",
   "metadata": {},
   "source": [
    "### Les communard·e·s connues"
   ]
  },
  {
   "cell_type": "markdown",
   "metadata": {},
   "source": [
    "#### Liste complète"
   ]
  },
  {
   "cell_type": "code",
   "execution_count": 9,
   "metadata": {
    "scrolled": true
   },
   "outputs": [
    {
     "data": {
      "text/html": [
       "<iframe style=\"width: 80vw; height: 50vh; border: none;\" \n",
       "src=\"https://query.wikidata.org/embed.html#SELECT%20%3Fcommunard_ou_communarde%20%3Fcommunard_ou_communardeLabel%20WHERE%20%7B%0A%20%20SERVICE%20wikibase%3Alabel%20%7B%20bd%3AserviceParam%20wikibase%3Alanguage%20%22%5BAUTO_LANGUAGE%5D%2Cen%22.%20%7D%0A%20%20%3Fcommunard_ou_communarde%20wdt%3AP106%20wd%3AQ1780490.%0A%7D%0A\" \n",
       "referrerpolicy=\"origin\" sandbox=\"allow-scripts allow-same-origin allow-popups\">\n",
       "</iframe>\n"
      ],
      "text/plain": [
       "<IPython.core.display.HTML object>"
      ]
     },
     "metadata": {},
     "output_type": "display_data"
    }
   ],
   "source": [
    "%%HTML\n",
    "<iframe style=\"width: 80vw; height: 50vh; border: none;\" \n",
    "src=\"https://query.wikidata.org/embed.html#SELECT%20%3Fcommunard_ou_communarde%20%3Fcommunard_ou_communardeLabel%20WHERE%20%7B%0A%20%20SERVICE%20wikibase%3Alabel%20%7B%20bd%3AserviceParam%20wikibase%3Alanguage%20%22%5BAUTO_LANGUAGE%5D%2Cen%22.%20%7D%0A%20%20%3Fcommunard_ou_communarde%20wdt%3AP106%20wd%3AQ1780490.%0A%7D%0A\" \n",
    "referrerpolicy=\"origin\" sandbox=\"allow-scripts allow-same-origin allow-popups\">\n",
    "</iframe>\n"
   ]
  },
  {
   "cell_type": "markdown",
   "metadata": {},
   "source": [
    "#### nombre\n",
    "- 9 mars 2022 : 248\n",
    "- 16 janvier 2023 : 297\n",
    "\n",
    "Compteur actualisé en temps réel"
   ]
  },
  {
   "cell_type": "code",
   "execution_count": 10,
   "metadata": {},
   "outputs": [
    {
     "data": {
      "text/html": [
       "<iframe style=\"width: 95%; height: 20vh; border: none;\" \n",
       "src=\"https://query.wikidata.org/embed.html#SELECT%20(Count(%3Fcommunard_ou_communarde)%20as%20%3Fnombre_de_personne)%20WHERE%20%7B%0A%20%20%3Fcommunard_ou_communarde%20wdt%3AP106%20wd%3AQ1780490.%0A%7D%0Agroup%20by%20%3Fnombre_de_personne\" \n",
       "referrerpolicy=\"origin\" sandbox=\"allow-scripts allow-same-origin allow-popups\">\n",
       "</iframe>\n"
      ],
      "text/plain": [
       "<IPython.core.display.HTML object>"
      ]
     },
     "metadata": {},
     "output_type": "display_data"
    }
   ],
   "source": [
    "%%HTML\n",
    "<iframe style=\"width: 95%; height: 20vh; border: none;\" \n",
    "src=\"https://query.wikidata.org/embed.html#SELECT%20(Count(%3Fcommunard_ou_communarde)%20as%20%3Fnombre_de_personne)%20WHERE%20%7B%0A%20%20%3Fcommunard_ou_communarde%20wdt%3AP106%20wd%3AQ1780490.%0A%7D%0Agroup%20by%20%3Fnombre_de_personne\" \n",
    "referrerpolicy=\"origin\" sandbox=\"allow-scripts allow-same-origin allow-popups\">\n",
    "</iframe>"
   ]
  },
  {
   "cell_type": "markdown",
   "metadata": {},
   "source": [
    "#### Quelques tests possibles pour vérifier la fiabilité des données."
   ]
  },
  {
   "cell_type": "markdown",
   "metadata": {},
   "source": [
    "##### Pour vérifier qu'ils ne sont pas née après ou mort avant la Commune\n",
    "```\n",
    "SELECT ?communard ?communardLabel ?naissance?deces WHERE {\n",
    "  SERVICE wikibase:label { bd:serviceParam wikibase:language \"[AUTO_LANGUAGE],en\". }\n",
    "  ?communard wdt:P106 wd:Q1780490;\n",
    "             wdt:P569 ?naissance;\n",
    "             wdt:P570 ?deces.\n",
    "   #FILTER(year(?deces)<1871 && year(?naissance)>1871) . \n",
    "}\n",
    "```\n",
    "-> au 16 janvier 2023 il y a entre 2 et 4 données à examiner correctement et corriger."
   ]
  },
  {
   "cell_type": "code",
   "execution_count": 11,
   "metadata": {},
   "outputs": [],
   "source": [
    "##### Des êtres vivants"
   ]
  },
  {
   "cell_type": "code",
   "execution_count": 12,
   "metadata": {},
   "outputs": [
    {
     "data": {
      "text/html": [
       "<iframe style=\"width:  95%; height: 25vh; border: none;\" \n",
       "src=\"https://query.wikidata.org/embed.html#SELECT%20%20%3Fnature_de_l_%C3%A9l%C3%A9mentLabel%20(count(%3Fnature_de_l_%C3%A9l%C3%A9ment)%20as%20%3Fnb)%20WHERE%20%7B%0A%20%20SERVICE%20wikibase%3Alabel%20%7B%20bd%3AserviceParam%20wikibase%3Alanguage%20%22%5BAUTO_LANGUAGE%5D%2Cen%22.%20%7D%0A%20%20%3Fcommunard_ou_communarde%20wdt%3AP106%20wd%3AQ1780490.%0A%20%20OPTIONAL%20%7B%20%3Fcommunard_ou_communarde%20wdt%3AP31%20%3Fnature_de_l_%C3%A9l%C3%A9ment.%20%7D%0A%7D%0AGroup%20by%20%20%3Fnature_de_l_%C3%A9l%C3%A9ment%20%3Fnature_de_l_%C3%A9l%C3%A9mentLabel\" \n",
       "referrerpolicy=\"origin\" sandbox=\"allow-scripts allow-same-origin allow-popups\">\n",
       "</iframe>\n"
      ],
      "text/plain": [
       "<IPython.core.display.HTML object>"
      ]
     },
     "metadata": {},
     "output_type": "display_data"
    }
   ],
   "source": [
    "%%HTML\n",
    "<iframe style=\"width:  95%; height: 25vh; border: none;\" \n",
    "src=\"https://query.wikidata.org/embed.html#SELECT%20%20%3Fnature_de_l_%C3%A9l%C3%A9mentLabel%20(count(%3Fnature_de_l_%C3%A9l%C3%A9ment)%20as%20%3Fnb)%20WHERE%20%7B%0A%20%20SERVICE%20wikibase%3Alabel%20%7B%20bd%3AserviceParam%20wikibase%3Alanguage%20%22%5BAUTO_LANGUAGE%5D%2Cen%22.%20%7D%0A%20%20%3Fcommunard_ou_communarde%20wdt%3AP106%20wd%3AQ1780490.%0A%20%20OPTIONAL%20%7B%20%3Fcommunard_ou_communarde%20wdt%3AP31%20%3Fnature_de_l_%C3%A9l%C3%A9ment.%20%7D%0A%7D%0AGroup%20by%20%20%3Fnature_de_l_%C3%A9l%C3%A9ment%20%3Fnature_de_l_%C3%A9l%C3%A9mentLabel\" \n",
    "referrerpolicy=\"origin\" sandbox=\"allow-scripts allow-same-origin allow-popups\">\n",
    "</iframe>"
   ]
  },
  {
   "cell_type": "markdown",
   "metadata": {},
   "source": [
    "Wikidata permet de rentrer pleins de monde, y compris des êtres de fictions. Il existe quelques communard-e-s de fictions dans par exemple le cri du peule, la série de BD communardes...\n",
    "\n",
    "Au 16 janvier 2023 il y a 297 être humain (Q5) et 0 être humain de fiction (Q15632617).\n",
    "\n",
    "La plupart des requête recherches les communard-e-s sans vérifier ce critère. Les réquetes seront à revoir (ou pas) quand un certains nombre de ces êtres fictionnels arriveront dans wikidata.\n"
   ]
  },
  {
   "cell_type": "markdown",
   "metadata": {},
   "source": [
    "### Présentations et statistiques à propos des Communard-e-s\n",
    "\n",
    "L'intérêt de wikidata est de pouvoir faire quelques statistiques et autres affichages."
   ]
  },
  {
   "cell_type": "markdown",
   "metadata": {},
   "source": [
    "#### Galerie de portrait\n",
    "Tous ces portrait sont hébergé sur wikicommons et sont sous une licence libre (variable d'une image à l'autre) et donc réutilisable ."
   ]
  },
  {
   "cell_type": "code",
   "execution_count": 13,
   "metadata": {},
   "outputs": [
    {
     "data": {
      "text/html": [
       "<iframe style=\"width: 95%; height: 50vh; border: none;\" \n",
       "src=\"https://query.wikidata.org/embed.html#%23defaultView%3AImageGrid%0ASELECT%20DISTINCT%20%3Fcommunard_ou_communarde%20%3Fcommunard_ou_communardeLabel%20%3Fimage%20WHERE%20%7B%0A%20%20SERVICE%20wikibase%3Alabel%20%7B%20bd%3AserviceParam%20wikibase%3Alanguage%20%22%5BAUTO_LANGUAGE%5D%2Cen%22.%20%7D%0A%20%20%3Fcommunard_ou_communarde%20wdt%3AP106%20wd%3AQ1780490.%0A%20%20OPTIONAL%20%7B%20%3Fcommunard_ou_communarde%20wdt%3AP18%20%3Fimage.%20%7D%0A%7D\" \n",
       "referrerpolicy=\"origin\" sandbox=\"allow-scripts allow-same-origin allow-popups\">\n",
       "</iframe>\n"
      ],
      "text/plain": [
       "<IPython.core.display.HTML object>"
      ]
     },
     "metadata": {},
     "output_type": "display_data"
    }
   ],
   "source": [
    "%%HTML\n",
    "<iframe style=\"width: 95%; height: 50vh; border: none;\" \n",
    "src=\"https://query.wikidata.org/embed.html#%23defaultView%3AImageGrid%0ASELECT%20DISTINCT%20%3Fcommunard_ou_communarde%20%3Fcommunard_ou_communardeLabel%20%3Fimage%20WHERE%20%7B%0A%20%20SERVICE%20wikibase%3Alabel%20%7B%20bd%3AserviceParam%20wikibase%3Alanguage%20%22%5BAUTO_LANGUAGE%5D%2Cen%22.%20%7D%0A%20%20%3Fcommunard_ou_communarde%20wdt%3AP106%20wd%3AQ1780490.%0A%20%20OPTIONAL%20%7B%20%3Fcommunard_ou_communarde%20wdt%3AP18%20%3Fimage.%20%7D%0A%7D\" \n",
    "referrerpolicy=\"origin\" sandbox=\"allow-scripts allow-same-origin allow-popups\">\n",
    "</iframe>"
   ]
  },
  {
   "cell_type": "markdown",
   "metadata": {},
   "source": [
    "#### gender-gap \n",
    "Ou en bon français, la répartition homme/femme.\n",
    "\n",
    "On mesure ici le nombre d'hommes et de femme référencé dans wikidata. On mesure donc le ratio entre les personnes rentrées dans wikidata et pas dans la réalité. Même si les critères d’admissibilité dans wikidata sont très généreux, il faut un minimum de sources."
   ]
  },
  {
   "cell_type": "code",
   "execution_count": 14,
   "metadata": {},
   "outputs": [
    {
     "data": {
      "text/html": [
       "<iframe style=\"width: 95%; height: 40vh; border: none;\" \n",
       "src=\"https://query.wikidata.org/embed.html#%23defaultView%3ABubbleChart%0ASELECT%20%3Fsexe_ou_genreLabel%20(count(%3Fsexe_ou_genre)%20as%20%3Fgenre)%20WHERE%20%7B%0A%20%20SERVICE%20wikibase%3Alabel%20%7B%20bd%3AserviceParam%20wikibase%3Alanguage%20%22%5BAUTO_LANGUAGE%5D%2Cen%22.%20%7D%0A%20%20%3Fcommunard_ou_communarde%20wdt%3AP106%20wd%3AQ1780490.%0A%20%20OPTIONAL%20%7B%20%3Fcommunard_ou_communarde%20wdt%3AP21%20%3Fsexe_ou_genre.%20%7D%0A%7D%0Agroup%20by%20%3Fsexe_ou_genreLabel\" \n",
       "referrerpolicy=\"origin\" sandbox=\"allow-scripts allow-same-origin allow-popups\">\n",
       "</iframe>\n"
      ],
      "text/plain": [
       "<IPython.core.display.HTML object>"
      ]
     },
     "metadata": {},
     "output_type": "display_data"
    }
   ],
   "source": [
    "%%HTML\n",
    "<iframe style=\"width: 95%; height: 40vh; border: none;\" \n",
    "src=\"https://query.wikidata.org/embed.html#%23defaultView%3ABubbleChart%0ASELECT%20%3Fsexe_ou_genreLabel%20(count(%3Fsexe_ou_genre)%20as%20%3Fgenre)%20WHERE%20%7B%0A%20%20SERVICE%20wikibase%3Alabel%20%7B%20bd%3AserviceParam%20wikibase%3Alanguage%20%22%5BAUTO_LANGUAGE%5D%2Cen%22.%20%7D%0A%20%20%3Fcommunard_ou_communarde%20wdt%3AP106%20wd%3AQ1780490.%0A%20%20OPTIONAL%20%7B%20%3Fcommunard_ou_communarde%20wdt%3AP21%20%3Fsexe_ou_genre.%20%7D%0A%7D%0Agroup%20by%20%3Fsexe_ou_genreLabel\" \n",
    "referrerpolicy=\"origin\" sandbox=\"allow-scripts allow-same-origin allow-popups\">\n",
    "</iframe>"
   ]
  },
  {
   "cell_type": "markdown",
   "metadata": {},
   "source": [
    "- 9 mars 2022 : 172 / 74 soit 2.32\n",
    "- 16 janvier 2023 : 190 / 107 soit 1.77"
   ]
  },
  {
   "cell_type": "markdown",
   "metadata": {},
   "source": [
    "### Généalogie\n",
    "communard dont les enfants sont communards\n",
    "```\n",
    "SELECT ?communard ?communardLabel ?enfant ?enfantLabel\n",
    "WHERE {\n",
    "SERVICE wikibase:label { bd:serviceParam wikibase:language \"[AUTO_LANGUAGE],en\". }\n",
    "\n",
    "  ?communard wdt:P106 wd:Q1780490;\n",
    "              wdt:P40 ?enfant.\n",
    "  ?enfant wdt:P106 wd:Q1780490.\n",
    "}\n",
    "```\n",
    "\n",
    "grand parent -> petits enfants\n",
    "```\n",
    "SELECT ?grand_parent ?grand_parentLabel ?parent ?parentLabel ?communard ?communardLabel ?enfant ?enfantLabel ?petit_enfant ?petit_enfantLabel\n",
    "WHERE {\n",
    "SERVICE wikibase:label { bd:serviceParam wikibase:language \"[AUTO_LANGUAGE],en\". }\n",
    "\n",
    "  ?communard wdt:P106 wd:Q1780490.\n",
    "  #Optional {?parent wdt:P40 ?communard.}\n",
    "  #Optional {?grand_parent wdt:P40 ?parent.}\n",
    "  Optional {?communard wdt:P40 ?enfant.}\n",
    "  #Optional {?enfant wdt:P40 ?petit_enfant.}\n",
    "}\n",
    "```\n",
    "\n",
    "https://www.entitree.com/en/family_tree/Herminie_Cadolle?0d0=d\n",
    "-> petit fils champion cycliste\n",
    "\n",
    "https://www.entitree.com/fr/arbre_g%C3%A9n%C3%A9alogique/Charles_Longuet?0d0=d&0d0d1=dr&0d1=dr&0d2=d&0d1d2=d"
   ]
  },
  {
   "cell_type": "markdown",
   "metadata": {},
   "source": [
    "## Elle n'est pas morte"
   ]
  },
  {
   "cell_type": "markdown",
   "metadata": {},
   "source": [
    "commémore  P547"
   ]
  },
  {
   "cell_type": "code",
   "execution_count": 15,
   "metadata": {},
   "outputs": [
    {
     "data": {
      "text/html": [
       "<iframe style=\"width: 95%; height: 50vh; border: none;\" \n",
       "src=\"https://query.wikidata.org/embed.html#SELECT%20%3FCommune_de_Paris%20%3FCommune_de_ParisLabel%20WHERE%20%7B%0A%20%20SERVICE%20wikibase%3Alabel%20%7B%20bd%3AserviceParam%20wikibase%3Alanguage%20%22%5BAUTO_LANGUAGE%5D%2Cen%22.%20%7D%0A%20%20%3FCommune_de_Paris%20wdt%3AP547%20wd%3AQ133132.%0A%7D%0ALIMIT%20100\" \n",
       "referrerpolicy=\"origin\" sandbox=\"allow-scripts allow-same-origin allow-popups\">\n",
       "</iframe>\n"
      ],
      "text/plain": [
       "<IPython.core.display.HTML object>"
      ]
     },
     "metadata": {},
     "output_type": "display_data"
    }
   ],
   "source": [
    "%%HTML\n",
    "<iframe style=\"width: 95%; height: 50vh; border: none;\" \n",
    "src=\"https://query.wikidata.org/embed.html#SELECT%20%3FCommune_de_Paris%20%3FCommune_de_ParisLabel%20WHERE%20%7B%0A%20%20SERVICE%20wikibase%3Alabel%20%7B%20bd%3AserviceParam%20wikibase%3Alanguage%20%22%5BAUTO_LANGUAGE%5D%2Cen%22.%20%7D%0A%20%20%3FCommune_de_Paris%20wdt%3AP547%20wd%3AQ133132.%0A%7D%0ALIMIT%20100\" \n",
    "referrerpolicy=\"origin\" sandbox=\"allow-scripts allow-same-origin allow-popups\">\n",
    "</iframe>"
   ]
  },
  {
   "cell_type": "markdown",
   "metadata": {},
   "source": [
    "## Les communardes et communards dans des cimetières\n",
    "### Généralités\n",
    "Les communards étant touz* décédæ, c'est notamment dans les cimetières, quand les tombes existent, qu'on peut leur rendre hommage. N'oublions pas que beaucoup sont dans des fossés communes anonymes.\n",
    "\n",
    "En termes de méthode wikidata nous propose la propriété lieu de sépulture (P119). Selon les précisions cela peut être une ville ou un cimetière. Cet élément possède une propriété coordonnées géographiques.\n",
    "\n",
    "Pour certaines personnes, la propriété photo de la sépulture est rempli avec une photo de communs.\n",
    "Pour certaines personnes il existe même un élément pour leur leur tombe. \n",
    "\n",
    "On peut donc connaître le nombre de personnes par cimetière.\n",
    "On peut même les repérer sur un plan.\n",
    "\n",
    "Au 14 janvier seul le cimetière du Montparnasse est \"complet\". Celui du père Lachaise est quasiment finit. Aucun des deux ne prends en compte les monuments collectifs.\n",
    "\n",
    "Pour certain·e·s communard·e·s, le lieu de sépulture (P119) est connu. Pour certain·e·s les coordonnées géographiques de la tombe sont dans wikidata.\n"
   ]
  },
  {
   "cell_type": "markdown",
   "metadata": {},
   "source": [
    "### Cimetière du Montparnasse\n",
    "Cartes des tombes de communard·e·s ou de personnes ayant un lien avec la Commune dans le cimetière du Montparnasse (Q272208).\n"
   ]
  },
  {
   "cell_type": "code",
   "execution_count": 16,
   "metadata": {},
   "outputs": [
    {
     "data": {
      "text/html": [
       "<iframe style=\"width: 80vw; height: 75vh; border: none;\" \n",
       "src=\"https://query.wikidata.org/embed.html#%23defaultView%3AMap%0ASELECT%20Distinct%20%3Ftombe%20%3FtombeLabel%20%3Fimage_Tombe%20%3Fcoordonn%C3%A9es%20%3Ftombe_deLabel%20%3Fimage_personne%20WHERE%20%7B%0A%20%20SERVICE%20wikibase%3Alabel%20%7B%20bd%3AserviceParam%20wikibase%3Alanguage%20%22%5BAUTO_LANGUAGE%5D%2Cen%22.%20%7D%0A%20%20%0A%20%20%23Qui%2C%20les%20communard-e-s%20et%20la%20liste%20des%20personnes%20lors%20de%20la%20c%C3%A9r%C3%A9monie%0A%20%20%3Fcommunard%20wdt%3AP106%20wd%3AQ1780490%3B%0A%20%20%20%20%20%20%20%20%20%20%20%20%20wdt%3AP119%20wd%3AQ272208.%0A%20%20Values%20%3Fpersonnalite%20%7Bwd%3AQ313709%20%0A%20%20%20%20%20%20%20%20%20%20%20%20%20%20%20%20%20%20%20%20%20%20%20%20wd%3AQ61897268%20%0A%20%20%20%20%20%20%20%20%20%20%20%20%20%20%20%20%20%20%20%20%20%20%20%20wd%3AQ5749%0A%20%20%20%20%20%20%20%20%20%20%20%20%20%20%20%20%20%20%20%20%20%20%20%20wd%3AQ1959369%0A%20%20%20%20%20%20%20%20%20%20%20%20%20%20%20%20%20%20%20%20%20%20%20%20wd%3AQ3047711%0A%20%20%20%20%20%20%20%20%20%20%20%20%20%20%20%20%20%20%20%20%20%20%20%20wd%3AQ3022660%0A%20%20%20%20%20%20%20%20%20%20%20%20%20%20%20%20%20%20%20%20%20%20%20%20wd%3AQ551648%0A%20%20%20%20%20%20%20%20%20%20%20%20%20%20%20%20%20%20%20%20%20%20%20%20wd%3AQ704649%0A%20%20%20%20%20%20%20%20%20%20%20%20%20%20%20%20%20%20%20%20%20%20%20%20wd%3AQ2826417%0A%20%20%20%20%20%20%20%20%20%20%20%20%20%20%20%20%20%20%20%20%20%20%20%20wd%3AQ3302715%0A%20%20%20%20%20%20%20%20%20%20%20%20%20%20%20%20%20%20%20%20%20%20%20%20wd%3AQ337628%7D%0A%20%20%23Chercher%20les%20tombes%20du%20cimeti%C3%A8re%20montparnasse%20%20%20%20%20%20%20%20%20%20%20%20%20%20%20%20%20%20%20%20%20%20%0A%20%20%3Ftombe%20wdt%3AP361%20wd%3AQ272208%3B%0A%20%20%20%20%20%20%20%20%20wdt%3AP547%20%3Ftombe_de.%20%20%20%20%20%20%20%20%0A%20%20%23Prendre%20les%20tombes%20voulues%0A%20%20filter%20(%3Ftombe_de%20%3D%3Fcommunard%20%7C%7C%20%3Ftombe_de%3D%3Fpersonnalite)%0A%20%20%0A%20%20OPTIONAL%20%7B%3Ftombe%20wdt%3AP18%20%3Fimage_Tombe.%7D%0A%20%20OPTIONAL%20%7B%3Ftombe%20wdt%3AP625%20%3Fcoordonn%C3%A9es.%7D%0A%20%20OPTIONAL%20%7B%3Ftombe_de%20wdt%3AP18%20%3Fimage_personne.%7D%0A%20%20%0A%7D\" \n",
       "referrerpolicy=\"origin\" \n",
       "sandbox=\"allow-scripts allow-same-origin allow-popups\">\n",
       "</iframe>\n"
      ],
      "text/plain": [
       "<IPython.core.display.HTML object>"
      ]
     },
     "metadata": {},
     "output_type": "display_data"
    }
   ],
   "source": [
    "%%HTML\n",
    "<iframe style=\"width: 80vw; height: 75vh; border: none;\" \n",
    "src=\"https://query.wikidata.org/embed.html#%23defaultView%3AMap%0ASELECT%20Distinct%20%3Ftombe%20%3FtombeLabel%20%3Fimage_Tombe%20%3Fcoordonn%C3%A9es%20%3Ftombe_deLabel%20%3Fimage_personne%20WHERE%20%7B%0A%20%20SERVICE%20wikibase%3Alabel%20%7B%20bd%3AserviceParam%20wikibase%3Alanguage%20%22%5BAUTO_LANGUAGE%5D%2Cen%22.%20%7D%0A%20%20%0A%20%20%23Qui%2C%20les%20communard-e-s%20et%20la%20liste%20des%20personnes%20lors%20de%20la%20c%C3%A9r%C3%A9monie%0A%20%20%3Fcommunard%20wdt%3AP106%20wd%3AQ1780490%3B%0A%20%20%20%20%20%20%20%20%20%20%20%20%20wdt%3AP119%20wd%3AQ272208.%0A%20%20Values%20%3Fpersonnalite%20%7Bwd%3AQ313709%20%0A%20%20%20%20%20%20%20%20%20%20%20%20%20%20%20%20%20%20%20%20%20%20%20%20wd%3AQ61897268%20%0A%20%20%20%20%20%20%20%20%20%20%20%20%20%20%20%20%20%20%20%20%20%20%20%20wd%3AQ5749%0A%20%20%20%20%20%20%20%20%20%20%20%20%20%20%20%20%20%20%20%20%20%20%20%20wd%3AQ1959369%0A%20%20%20%20%20%20%20%20%20%20%20%20%20%20%20%20%20%20%20%20%20%20%20%20wd%3AQ3047711%0A%20%20%20%20%20%20%20%20%20%20%20%20%20%20%20%20%20%20%20%20%20%20%20%20wd%3AQ3022660%0A%20%20%20%20%20%20%20%20%20%20%20%20%20%20%20%20%20%20%20%20%20%20%20%20wd%3AQ551648%0A%20%20%20%20%20%20%20%20%20%20%20%20%20%20%20%20%20%20%20%20%20%20%20%20wd%3AQ704649%0A%20%20%20%20%20%20%20%20%20%20%20%20%20%20%20%20%20%20%20%20%20%20%20%20wd%3AQ2826417%0A%20%20%20%20%20%20%20%20%20%20%20%20%20%20%20%20%20%20%20%20%20%20%20%20wd%3AQ3302715%0A%20%20%20%20%20%20%20%20%20%20%20%20%20%20%20%20%20%20%20%20%20%20%20%20wd%3AQ337628%7D%0A%20%20%23Chercher%20les%20tombes%20du%20cimeti%C3%A8re%20montparnasse%20%20%20%20%20%20%20%20%20%20%20%20%20%20%20%20%20%20%20%20%20%20%0A%20%20%3Ftombe%20wdt%3AP361%20wd%3AQ272208%3B%0A%20%20%20%20%20%20%20%20%20wdt%3AP547%20%3Ftombe_de.%20%20%20%20%20%20%20%20%0A%20%20%23Prendre%20les%20tombes%20voulues%0A%20%20filter%20(%3Ftombe_de%20%3D%3Fcommunard%20%7C%7C%20%3Ftombe_de%3D%3Fpersonnalite)%0A%20%20%0A%20%20OPTIONAL%20%7B%3Ftombe%20wdt%3AP18%20%3Fimage_Tombe.%7D%0A%20%20OPTIONAL%20%7B%3Ftombe%20wdt%3AP625%20%3Fcoordonn%C3%A9es.%7D%0A%20%20OPTIONAL%20%7B%3Ftombe_de%20wdt%3AP18%20%3Fimage_personne.%7D%0A%20%20%0A%7D\" \n",
    "referrerpolicy=\"origin\" \n",
    "sandbox=\"allow-scripts allow-same-origin allow-popups\">\n",
    "</iframe>"
   ]
  },
  {
   "cell_type": "markdown",
   "metadata": {},
   "source": [
    "### Cimetière du Père la Chaise\n",
    "Cartes des tombes de communard·e·s ou de personnes ayant un lien avec la Commune dans le cimetière du Père-Lahaise (Q311)."
   ]
  },
  {
   "cell_type": "code",
   "execution_count": 17,
   "metadata": {
    "scrolled": false
   },
   "outputs": [
    {
     "data": {
      "text/html": [
       "<iframe style=\"width: 80vw; height: 50vh; border: none;\" \n",
       "src=\"https://query.wikidata.org/embed.html#%23defaultView%3AMap%0ASELECT%20Distinct%20%3Ftombe%20%3FtombeLabel%20%3Fimage_Tombe%20%3Fcoordonn%C3%A9es%20%3Ftombe_deLabel%20%3Fimage_personne%20WHERE%20%7B%0A%20%20SERVICE%20wikibase%3Alabel%20%7B%20bd%3AserviceParam%20wikibase%3Alanguage%20%22%5BAUTO_LANGUAGE%5D%2Cen%22.%20%7D%0A%20%20%0A%20%20%23Qui%2C%20les%20communard-e-s%0A%20%20%3Fcommunard%20wdt%3AP106%20wd%3AQ1780490%3B%0A%20%20%20%20%20%20%20%20%20%20%20%20%20wdt%3AP119%20wd%3AQ311.%0A%0A%20%20%23Chercher%20les%20tombes%20du%20cimeti%C3%A8re%20montparnasse%20%20%20%20%20%20%20%20%20%20%20%20%20%20%20%20%20%20%20%20%20%20%0A%20%20%3Ftombe%20wdt%3AP361%20wd%3AQ311%3B%0A%20%20%20%20%20%20%20%20%20wdt%3AP547%20%3Ftombe_de.%20%20%20%20%20%20%20%20%0A%20%20%23Prendre%20les%20tombes%20voulues%0A%20%20filter%20(%3Ftombe_de%20%3D%3Fcommunard)%0A%20%20%0A%20%20OPTIONAL%20%7B%3Ftombe%20wdt%3AP18%20%3Fimage_Tombe.%7D%0A%20%20OPTIONAL%20%7B%3Ftombe%20wdt%3AP625%20%3Fcoordonn%C3%A9es.%7D%0A%20%20OPTIONAL%20%7B%3Ftombe_de%20wdt%3AP18%20%3Fimage_personne.%7D%0A%20%20%0A%7D\" \n",
       "referrerpolicy=\"origin\" \n",
       "sandbox=\"allow-scripts allow-same-origin allow-popups\">\n",
       "</iframe>\n"
      ],
      "text/plain": [
       "<IPython.core.display.HTML object>"
      ]
     },
     "metadata": {},
     "output_type": "display_data"
    }
   ],
   "source": [
    "%%HTML\n",
    "<iframe style=\"width: 80vw; height: 50vh; border: none;\" \n",
    "src=\"https://query.wikidata.org/embed.html#%23defaultView%3AMap%0ASELECT%20Distinct%20%3Ftombe%20%3FtombeLabel%20%3Fimage_Tombe%20%3Fcoordonn%C3%A9es%20%3Ftombe_deLabel%20%3Fimage_personne%20WHERE%20%7B%0A%20%20SERVICE%20wikibase%3Alabel%20%7B%20bd%3AserviceParam%20wikibase%3Alanguage%20%22%5BAUTO_LANGUAGE%5D%2Cen%22.%20%7D%0A%20%20%0A%20%20%23Qui%2C%20les%20communard-e-s%0A%20%20%3Fcommunard%20wdt%3AP106%20wd%3AQ1780490%3B%0A%20%20%20%20%20%20%20%20%20%20%20%20%20wdt%3AP119%20wd%3AQ311.%0A%0A%20%20%23Chercher%20les%20tombes%20du%20cimeti%C3%A8re%20montparnasse%20%20%20%20%20%20%20%20%20%20%20%20%20%20%20%20%20%20%20%20%20%20%0A%20%20%3Ftombe%20wdt%3AP361%20wd%3AQ311%3B%0A%20%20%20%20%20%20%20%20%20wdt%3AP547%20%3Ftombe_de.%20%20%20%20%20%20%20%20%0A%20%20%23Prendre%20les%20tombes%20voulues%0A%20%20filter%20(%3Ftombe_de%20%3D%3Fcommunard)%0A%20%20%0A%20%20OPTIONAL%20%7B%3Ftombe%20wdt%3AP18%20%3Fimage_Tombe.%7D%0A%20%20OPTIONAL%20%7B%3Ftombe%20wdt%3AP625%20%3Fcoordonn%C3%A9es.%7D%0A%20%20OPTIONAL%20%7B%3Ftombe_de%20wdt%3AP18%20%3Fimage_personne.%7D%0A%20%20%0A%7D\" \n",
    "referrerpolicy=\"origin\" \n",
    "sandbox=\"allow-scripts allow-same-origin allow-popups\">\n",
    "</iframe>\n"
   ]
  },
  {
   "cell_type": "markdown",
   "metadata": {},
   "source": [
    "## Les affiches"
   ]
  },
  {
   "cell_type": "code",
   "execution_count": 18,
   "metadata": {},
   "outputs": [
    {
     "data": {
      "text/html": [
       "<iframe style=\"width: 95%; height: 50vh; border: none;\" \n",
       "src=\"https://query.wikidata.org/embed.html#SELECT%20%3Faffiche%20%3FafficheLabel%20%3Fdate_de_publication%20%3Fimage%20WHERE%20%7B%0A%20%20SERVICE%20wikibase%3Alabel%20%7B%20bd%3AserviceParam%20wikibase%3Alanguage%20%22%5BAUTO_LANGUAGE%5D%2Cen%22.%20%7D%0A%20%20%3Faffiche%20wdt%3AP31%20wd%3AQ429785.%0A%20%20%7B%3Faffiche%20wdt%3AP361%20wd%3AQ690489.%7D%0A%20%20Union%20%7B%3Faffiche%20wdt%3AP361%20wd%3AQ133132%7D%0A%20%20OPTIONAL%20%7B%20%3Faffiche%20wdt%3AP577%20%3Fdate_de_publication.%20%7D%0A%20%20OPTIONAL%20%7B%20%3Faffiche%20wdt%3AP18%20%3Fimage.%20%7D%0A%7D%0A\" \n",
       "referrerpolicy=\"origin\" sandbox=\"allow-scripts allow-same-origin allow-popups\">\n",
       "</iframe>\n"
      ],
      "text/plain": [
       "<IPython.core.display.HTML object>"
      ]
     },
     "metadata": {},
     "output_type": "display_data"
    }
   ],
   "source": [
    "%%HTML\n",
    "<iframe style=\"width: 95%; height: 50vh; border: none;\" \n",
    "src=\"https://query.wikidata.org/embed.html#SELECT%20%3Faffiche%20%3FafficheLabel%20%3Fdate_de_publication%20%3Fimage%20WHERE%20%7B%0A%20%20SERVICE%20wikibase%3Alabel%20%7B%20bd%3AserviceParam%20wikibase%3Alanguage%20%22%5BAUTO_LANGUAGE%5D%2Cen%22.%20%7D%0A%20%20%3Faffiche%20wdt%3AP31%20wd%3AQ429785.%0A%20%20%7B%3Faffiche%20wdt%3AP361%20wd%3AQ690489.%7D%0A%20%20Union%20%7B%3Faffiche%20wdt%3AP361%20wd%3AQ133132%7D%0A%20%20OPTIONAL%20%7B%20%3Faffiche%20wdt%3AP577%20%3Fdate_de_publication.%20%7D%0A%20%20OPTIONAL%20%7B%20%3Faffiche%20wdt%3AP18%20%3Fimage.%20%7D%0A%7D%0A\" \n",
    "referrerpolicy=\"origin\" sandbox=\"allow-scripts allow-same-origin allow-popups\">\n",
    "</iframe>"
   ]
  },
  {
   "cell_type": "code",
   "execution_count": null,
   "metadata": {},
   "outputs": [],
   "source": []
  }
 ],
 "metadata": {
  "celltoolbar": "Format de la Cellule Texte Brut",
  "kernelspec": {
   "display_name": "Python 3 (ipykernel)",
   "language": "python",
   "name": "python3"
  },
  "language_info": {
   "codemirror_mode": {
    "name": "ipython",
    "version": 3
   },
   "file_extension": ".py",
   "mimetype": "text/x-python",
   "name": "python",
   "nbconvert_exporter": "python",
   "pygments_lexer": "ipython3",
   "version": "3.10.6"
  },
  "vscode": {
   "interpreter": {
    "hash": "31f2aee4e71d21fbe5cf8b01ff0e069b9275f58929596ceb00d14d90e3e16cd6"
   }
  }
 },
 "nbformat": 4,
 "nbformat_minor": 2
}
