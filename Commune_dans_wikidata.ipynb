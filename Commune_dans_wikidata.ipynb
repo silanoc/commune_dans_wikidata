{
 "cells": [
  {
   "cell_type": "markdown",
   "metadata": {
    "hideCode": false,
    "hidePrompt": false
   },
   "source": [
    "# La Commune de Paris 1871 en liberté\n",
    "ou La Commune dans Wikidata\n",
    "\n",
    "Ceci est un site personnel qui utilise des données issues de l'univers wikimédia dont wikipédia, commons, wikidata, wikisources..."
   ]
  },
  {
   "cell_type": "code",
   "execution_count": null,
   "metadata": {
    "hideCode": false,
    "hideOutput": false,
    "hidePrompt": false
   },
   "outputs": [],
   "source": [
    "# pour exporter en html\n",
    "import plotly.io as pio\n",
    "pio.renderers.defaut = 'notebook'"
   ]
  },
  {
   "cell_type": "markdown",
   "metadata": {
    "hideCode": false,
    "hidePrompt": false
   },
   "source": [
    "## Table des matières\n",
    "\n",
    "    La Commune de Paris 1871 en liberté\n",
    "        Table des matières\n",
    "        TODO\n",
    "        Présentation\n",
    "            Point grammatical\n",
    "            Qui suis-je pour le faire ?\n",
    "        Méthodologie\n",
    "            Wikidata : élément, propriété, valeurs.\n",
    "            Sparql et/ou Python\n",
    "            Ma stack / mes outils\n",
    "        Faire une requête sur wikidata en python\n",
    "            Méthode\n",
    "            Avoir TOUTES les informations sur les communard·e·s\n",
    "                Aller chercher les valeurs et les mettre dans un dataframe (df) nommé df_communard_tous_p_q\n",
    "                Quelques apperçu de travail sur ce df\n",
    "                Nettoyer le df et le mettre dans df_tout_sur_tous_communard\n",
    "        Portraits de Communardes et Communards\n",
    "            Trouver des communard·e·s sur wikidata\n",
    "                L'élément \"communard ou communarde\"\n",
    "                La propriété \"occupation\"\n",
    "                Le triplet ?communard wdt:P106 wd:Q1780490.\n",
    "            Les communard·e·s connu·e·s\n",
    "                Liste complète\n",
    "                Liste complète avec Reasonator\n",
    "                Nombre\n",
    "                Quelques tests possibles pour vérifier la fiabilité des données.\n",
    "            Présentations et statistiques à propos des Communard-e-s\n",
    "                Galerie de portrait\n",
    "                Images de communard·e·s\n",
    "                Gender-gap\n",
    "                A part avoir participer à la commune, que faisaient ces personnes ?\n",
    "                Quel âge avait ces personnes en 1871\n",
    "                Une Commune internationale\n",
    "            Relations entre communard·e·s\n",
    "            Partenaires de vie\n",
    "                Communard·e·s et leur conjoint·e ou partenaire de vie\n",
    "                Communard·e·s vivant avec un·e autre communard·e·s\n",
    "                Communard·e·s dont le nombre de partenaire est supérieur à 1\n",
    "            Généalogie\n",
    "                Communard·e·s et leurs enfants\n",
    "                Communard·e·s dont les enfants sont communard·e·s\n",
    "                Mini-arbres généalogiques parent(s)-> communard·e -> enfant(s)\n",
    "                entitree\n",
    "            Reseau social des communard·e·s sur wikidata\n",
    "                Graph des communard·e·s et des organismes dont als sont membres\n",
    "                nombre par organisme\n",
    "        Les communardes et communards dans des cimetières\n",
    "            Généralités\n",
    "            Nombre de personne par cimetière\n",
    "            Cimetière du Montparnasse\n",
    "            Cimetière du Père la Chaise\n",
    "        Une chronologie de la Commune\n",
    "            version étendue\n",
    "        Les affiches\n",
    "        Les barricades\n",
    "        Elle n'est pas morte\n",
    "            Chansons de la commune et sur la commune\n",
    "                chansons, oeuvre... par auteur, parolier...\n",
    "                Pour consulter les paroles sur wikisources\n",
    "            Commémore\n",
    "            Des expositions\n",
    "        Licence\n",
    "        Me contacter"
   ]
  },
  {
   "cell_type": "markdown",
   "metadata": {
    "hideCode": false,
    "hidePrompt": false
   },
   "source": [
    "## Présentation"
   ]
  },
  {
   "cell_type": "markdown",
   "metadata": {
    "hideCode": false,
    "hidePrompt": false
   },
   "source": [
    "### Point grammatical\n",
    "Pour un certains nombre de raison, j'use du genre grammatical neutre, en l'écrivant selon les règles de grammaire proposées par Alphératz dans son ouvrage Grammaire inclusive du Français. Je signale la première occurrence de ces mots par un \\*.\n",
    "\n",
    "J'emploie ces tournures pour parler de moi-même, et pour éviter des doubles flexions comme communardes et communards.\n",
    "\n",
    "En neutre, al* faudrait écrire an Communarx et des Communarz. Pour que les moteurs de recherche puissent trouver le site, je décide de garder selon les moments communardes et communards ou ça forme raccourcie communard·e·s.\n",
    "\n",
    "### Qui suis-je pour le faire ?\n",
    "Il se trouve que je suis membre de l'association les Amies et amis de la Commune de Paris 1871 depuis pas mal de temps (plus d'une décennie, c'est sûr) quand je n'oublie pas de cotiser... Toutefois, ce site est fait de façon autonome de l’association.\n",
    "\n",
    "Je ne suis pas du tout historian*, mais geekette, c'est à dire passionæ* d'informatique.\n",
    "J'ai commenæ à contribuer sur Wikipédia en 2006 puis sur Wikidata à partir de 2017. J'y contribue sous le pseudo Silanoc.\n",
    "\n",
    "Je ne sais pas aller chercher l'information dans les sources primaires de l'époque, dans les archives... c'est du ressort des histoirans. Par contre j'aime rendre les informations, la donnée, la data accessibles au plus grand nombre. Et c'est là que Wikidata intervient.\n",
    "\n",
    "C'est un projet libre et gratuit. Tout le monde peut y accéder, y contribuer. N'étant pas rédigé comme Wikipédia, mais étant une base de données, le système a été conçu comme naturellement multilinguistique. De ce fait, toutes les modifications sont accessibles par les locutaires* du monde entier (à quelques détails près). Et c'est très utilisé pour tout ce qui touche à \"l'intelligence artificielle\" car elle a besoin d'une base de données. Autant lui donner des informations sur un sujet trop souvent ignoré.\n",
    "\n",
    "> Wikidata est une base de connaissances libre et gratuite qui peut être lue et modifiée tant par des personnes que par des dispositifs informatisés. \n",
    "page d'acceuil de wikipédia</quote>\n",
    "\n",
    "Tout ce site/article est basé sur des données de Wikidata ou des images de Commons. Cela par définition sous licence libre (plusieurs existes). Mes propos sont également sous licence créative commons."
   ]
  },
  {
   "cell_type": "markdown",
   "metadata": {
    "hideCode": false,
    "hidePrompt": false
   },
   "source": [
    "## Méthodologie\n",
    "Mon objectif est de travailler qu'avec des données contenues dans l'univers wikimédia : wikidata, commons, wikipédia, éventuellement wikisources, wikiquote...\n",
    "\n",
    "Les données sont collaboratives. Cela nécessite de faire confiance au travail des autres sur lequel je m'appuie. Le maximum d'information doit être sourcé. Dans l'analyse statistique/globale, je fais le pari de leur fiabilité. En cas de doute, il est facile de vérifier au cas par cas.\n",
    "\n",
    "Les données sont celles que les autres personnes ont déjà rentrées. Il y a donc des trous, des blancs, des manques.\n",
    "\n",
    "Chacun de mes résultats est donc à introduire par : \"en fonction du contenu de wikidata...\".\n",
    "\n",
    "Ce n'est pas une vérité totale et absolue. Mais une partie de la vérité.\n",
    "\n",
    "C'est un travail vérifiable et reproductible. Toutes les données sont publiques (par définition) et mes méthodes de recherche/calcul sont communicables. Aussi, toute personne peut les évaluer et refaire.\n",
    "\n",
    "C'est un contenu évolutif en fonction des apports/modifications/suppressions fait à la base de données.\n",
    "\n",
    "J'apporte aussi du contenu dedans, par des photos, des ajouts, des précisions en fonction de ce que je peux remplir sans me tromper.\n",
    "\n",
    "### Wikidata : élément, propriété, valeurs.\n",
    "Wikidata stocke des éléments. Tout ce qui existe (au sens qui peut être décrit) est un potentiel élément. Aussi chaque communard·e·s, barricades, livres, événements... sont un élément. Ils commencent par la lettre Q, puis un nombre en fonction de son ordre de création.\n",
    "\n",
    "Chaque élément possède une ou plusieurs propriétés. Cela peut être un prénom, une date de création, un coordonnées géographique... Ils commence par un P.\n",
    "\n",
    "À chaque propriété d'un élément il existe une ou plusieurs valeurs.Cela peut être un nombre, une date, ou un autre élément de wikidata.\n",
    "\n",
    "Cela fait une série de triplets : éléments, propriété, valeurs.\n",
    "\n",
    "Plus de détails : https://www.wikidata.org/wiki/Wikidata:Introduction/fr"
   ]
  },
  {
   "cell_type": "markdown",
   "metadata": {},
   "source": [
    "### Sparql et/ou Python\n",
    "\n",
    "En plus de travailler sur la Commune mes objectifs sont d'avoir une pratique amatrice en programmation, data analyse et améliorer mes compétences dans ces domaines.\n",
    "\n",
    "Pour explorer les données sur wikidata, il existe un outils intégré sur le site : https://query.wikidata.org. Il est très utilisé par les personnes travaillant sur le projet. Afin de le mettre en avant, et pour sa facilité d'usage, les requêtes sont d'abord faites en sparql sur l'outil puis insérées dans ce notebook par des iframes.\n",
    "\n",
    "A chaque fois, je mets la requête telle que l'on peut l'écrire en spraql et la copier/coller. Ce qui vous permet de tout tester et revérifier.\n",
    "\n",
    "Afin de continuer à pratiquer le Python, et avoir une autres approches les requêtes pourront aussi être refaites dans ce langage de programmation.\n",
    "\n",
    "### Ma stack / mes outils\n",
    "- wikidata\n",
    "- commons\n",
    "- query.wikidata.org\n",
    "- openrefine\n",
    "- jupyter notebook\n",
    "- python\n",
    "    - pandas\n",
    "    - seaborn"
   ]
  },
  {
   "cell_type": "markdown",
   "metadata": {
    "hideCode": false,
    "hideOutput": false,
    "hidePrompt": false
   },
   "source": [
    "## Faire une requête sur wikidata en python"
   ]
  },
  {
   "cell_type": "markdown",
   "metadata": {
    "hideCode": false,
    "hideOutput": false,
    "hidePrompt": false
   },
   "source": [
    "### Méthode\n",
    "\n",
    "La classe Extraction_wikidata, est une adaption du modèle de réquête en python qui se trouve sur https://query.wikidata.org/\n",
    "\n",
    "- dans la variable query, il faut copier/coller la requête faite dans query.wikidata.org\n",
    "- exécuter les cellules \"## 0\" à \"## 5\" comme si dessous afin d'obtenir le résultat dans un dataframe exploitable pour faire des manipulations de données."
   ]
  },
  {
   "cell_type": "code",
   "execution_count": null,
   "metadata": {
    "hideCode": false,
    "hideOutput": false,
    "hidePrompt": false
   },
   "outputs": [],
   "source": [
    "# les installations nécessaires\n",
    "# https://rdflib.github.io/sparqlwrapper/\n",
    "#!pip install sparqlwrapper\n",
    "#!pip install seaborn"
   ]
  },
  {
   "cell_type": "code",
   "execution_count": 5,
   "metadata": {
    "hideCode": false,
    "hideOutput": false,
    "hidePrompt": false
   },
   "outputs": [],
   "source": [
    "## 0 - import\n",
    "import sys\n",
    "\n",
    "from SPARQLWrapper import SPARQLWrapper, JSON\n",
    "\n",
    "import pandas as pd\n",
    "import seaborn as sns\n",
    "import matplotlib.pyplot as plt\n",
    "\n",
    "from IPython.display import HTML"
   ]
  },
  {
   "cell_type": "code",
   "execution_count": 6,
   "metadata": {
    "hideCode": false,
    "hideOutput": false,
    "hidePrompt": false
   },
   "outputs": [],
   "source": [
    "## 1 - les variables\n",
    "endpoint_url = \"https://query.wikidata.org/sparql\""
   ]
  },
  {
   "cell_type": "code",
   "execution_count": 7,
   "metadata": {},
   "outputs": [],
   "source": [
    "query = \"\"\"SELECT ?communard_ou_communarde ?communard_ou_communardeLabel WHERE {\n",
    "  SERVICE wikibase:label { bd:serviceParam wikibase:language \"[AUTO_LANGUAGE],en\". }\n",
    "  ?communard_ou_communarde wdt:P106 wd:Q1780490.\n",
    "}\"\"\""
   ]
  },
  {
   "cell_type": "code",
   "execution_count": 8,
   "metadata": {
    "hideCode": false,
    "hideOutput": false,
    "hidePrompt": false
   },
   "outputs": [],
   "source": [
    "## 2 - l'objet\n",
    "class Extraction_wikidata():\n",
    "    def __init__(self, endpoint_url:str, query:str):\n",
    "        self.endpoint_url:str = endpoint_url\n",
    "        self.query:str = query\n",
    "        \n",
    "    def get_results(self, endpoint_url:str, query:str):\n",
    "        user_agent = \"WDQS-example Python/%s.%s\" % (sys.version_info[0], sys.version_info[1])\n",
    "        # TODO adjust user agent; see https://w.wiki/CX6\n",
    "        sparql = SPARQLWrapper(endpoint_url, agent = user_agent)\n",
    "        sparql.setQuery(query)\n",
    "        sparql.setReturnFormat(JSON)\n",
    "        return sparql.query().convert()\n",
    "    \n",
    "    def json_to_df(self, entree):\n",
    "        #results = sparql.query().convert()\n",
    "        df_results = pd.json_normalize(entree[\"results\"][\"bindings\"])\n",
    "        return df_results\n",
    "    \n",
    "    def extraire_et_df(self):\n",
    "        extract_json = self.get_results(self.endpoint_url, self.query)\n",
    "        extract_df = self.json_to_df(extract_json)\n",
    "        return extract_df\n"
   ]
  },
  {
   "cell_type": "code",
   "execution_count": 9,
   "metadata": {
    "hideCode": false,
    "hideOutput": false,
    "hidePrompt": false
   },
   "outputs": [],
   "source": [
    "## 3 - instantiation de l'objet et récupération du df\n",
    "extraction_communard = Extraction_wikidata(endpoint_url, query)\n",
    "df_communard = extraction_communard.extraire_et_df()"
   ]
  },
  {
   "cell_type": "code",
   "execution_count": 6,
   "metadata": {
    "hideCode": false,
    "hideOutput": false,
    "hidePrompt": false
   },
   "outputs": [
    {
     "name": "stdout",
     "output_type": "stream",
     "text": [
      "    communard_ou_communarde.type              communard_ou_communarde.value   \n",
      "0                            uri      http://www.wikidata.org/entity/Q20951  \\\n",
      "1                            uri      http://www.wikidata.org/entity/Q34618   \n",
      "2                            uri     http://www.wikidata.org/entity/Q184535   \n",
      "3                            uri     http://www.wikidata.org/entity/Q216092   \n",
      "4                            uri     http://www.wikidata.org/entity/Q257950   \n",
      "..                           ...                                        ...   \n",
      "295                          uri  http://www.wikidata.org/entity/Q115257385   \n",
      "296                          uri  http://www.wikidata.org/entity/Q115257386   \n",
      "297                          uri  http://www.wikidata.org/entity/Q115257387   \n",
      "298                          uri  http://www.wikidata.org/entity/Q115257388   \n",
      "299                          uri  http://www.wikidata.org/entity/Q118198782   \n",
      "\n",
      "    communard_ou_communardeLabel.xml:lang communard_ou_communardeLabel.type   \n",
      "0                                      en                           literal  \\\n",
      "1                                      en                           literal   \n",
      "2                                      en                           literal   \n",
      "3                                      en                           literal   \n",
      "4                                      en                           literal   \n",
      "..                                    ...                               ...   \n",
      "295                                    en                           literal   \n",
      "296                                    en                           literal   \n",
      "297                                    en                           literal   \n",
      "298                                    en                           literal   \n",
      "299                                    en                           literal   \n",
      "\n",
      "    communard_ou_communardeLabel.value  \n",
      "0                        Élisée Reclus  \n",
      "1                      Gustave Courbet  \n",
      "2                   Sofia Kovalevskaya  \n",
      "3                        Louise Michel  \n",
      "4          Auguste-Jean-Marie Vermorel  \n",
      "..                                 ...  \n",
      "295                       Sophie Graix  \n",
      "296                    Joséphine Pratt  \n",
      "297                Céline Delvainquier  \n",
      "298                 Aimée Delvainquier  \n",
      "299                     Michel Sérigné  \n",
      "\n",
      "[300 rows x 5 columns]\n"
     ]
    }
   ],
   "source": [
    "## 4 - afficher le df voulu\n",
    "print(df_communard)"
   ]
  },
  {
   "cell_type": "code",
   "execution_count": null,
   "metadata": {
    "hideCode": false,
    "hideOutput": false,
    "hidePrompt": false
   },
   "outputs": [],
   "source": [
    "## 5 - quelques statistiques sur le df\n",
    "df_communard.describe()"
   ]
  },
  {
   "cell_type": "code",
   "execution_count": null,
   "metadata": {
    "hideCode": false,
    "hideOutput": false,
    "hidePrompt": false
   },
   "outputs": [],
   "source": [
    "#df_communard_en_html = df_communard.to_html(columns = ['communard_ou_communarde.value', 'communard_ou_communardeLabel.value'])\n",
    "#HTML(df_communard_en_html)"
   ]
  },
  {
   "cell_type": "markdown",
   "metadata": {
    "hideCode": false,
    "hideOutput": false,
    "hidePrompt": false
   },
   "source": [
    "### Avoir TOUTES les informations sur les communard·e·s"
   ]
  },
  {
   "cell_type": "markdown",
   "metadata": {
    "hideCode": false,
    "hideOutput": false,
    "hidePrompt": false
   },
   "source": [
    "pour toutes les personnes, chercher les ?p ?q avec gestion des label.\n",
    "Attention : c'est lourd !"
   ]
  },
  {
   "cell_type": "markdown",
   "metadata": {},
   "source": [
    "#### Aller chercher les valeurs et les mettre dans un dataframe (df) nommé df_communard_tous_p_q"
   ]
  },
  {
   "cell_type": "code",
   "execution_count": 39,
   "metadata": {
    "hideCode": false,
    "hideOutput": false,
    "hidePrompt": false
   },
   "outputs": [],
   "source": [
    "query = \"\"\"SELECT ?communard_ou_communarde ?communard_ou_communardeLabel ?p ?pLabel ?q ?qLabel WHERE {\n",
    "  SERVICE wikibase:label { bd:serviceParam wikibase:language \"fr,en\".\n",
    "                         ?communard_ou_communarde rdfs:label ?communard_ou_communardeLabel.\n",
    "                         ?p rdfs:label ?pLabel.\n",
    "                         ?q rdfs:label ?qLabel.}\n",
    "  \n",
    "  ?communard_ou_communarde wdt:P106 wd:Q1780490;\n",
    "                           ?p ?q. \n",
    "}\n",
    "\"\"\""
   ]
  },
  {
   "cell_type": "code",
   "execution_count": 40,
   "metadata": {
    "hideCode": false,
    "hideOutput": false,
    "hidePrompt": false
   },
   "outputs": [],
   "source": [
    "extraction_communard_tous_p_q = Extraction_wikidata(endpoint_url, query)\n",
    "df_communard_tous_p_q = extraction_communard_tous_p_q.extraire_et_df()"
   ]
  },
  {
   "cell_type": "code",
   "execution_count": 41,
   "metadata": {
    "hideCode": false,
    "hideOutput": false,
    "hidePrompt": false
   },
   "outputs": [
    {
     "data": {
      "text/html": [
       "<div>\n",
       "<style scoped>\n",
       "    .dataframe tbody tr th:only-of-type {\n",
       "        vertical-align: middle;\n",
       "    }\n",
       "\n",
       "    .dataframe tbody tr th {\n",
       "        vertical-align: top;\n",
       "    }\n",
       "\n",
       "    .dataframe thead th {\n",
       "        text-align: right;\n",
       "    }\n",
       "</style>\n",
       "<table border=\"1\" class=\"dataframe\">\n",
       "  <thead>\n",
       "    <tr style=\"text-align: right;\">\n",
       "      <th></th>\n",
       "      <th>communard_ou_communarde.type</th>\n",
       "      <th>communard_ou_communarde.value</th>\n",
       "      <th>p.type</th>\n",
       "      <th>p.value</th>\n",
       "      <th>q.type</th>\n",
       "      <th>q.value</th>\n",
       "      <th>communard_ou_communardeLabel.xml:lang</th>\n",
       "      <th>communard_ou_communardeLabel.type</th>\n",
       "      <th>communard_ou_communardeLabel.value</th>\n",
       "      <th>pLabel.type</th>\n",
       "      <th>pLabel.value</th>\n",
       "      <th>qLabel.xml:lang</th>\n",
       "      <th>qLabel.type</th>\n",
       "      <th>qLabel.value</th>\n",
       "      <th>q.datatype</th>\n",
       "      <th>q.xml:lang</th>\n",
       "    </tr>\n",
       "  </thead>\n",
       "  <tbody>\n",
       "    <tr>\n",
       "      <th>0</th>\n",
       "      <td>uri</td>\n",
       "      <td>http://www.wikidata.org/entity/Q20951</td>\n",
       "      <td>uri</td>\n",
       "      <td>http://www.wikidata.org/prop/direct/P25</td>\n",
       "      <td>uri</td>\n",
       "      <td>http://www.wikidata.org/entity/Q42529847</td>\n",
       "      <td>fr</td>\n",
       "      <td>literal</td>\n",
       "      <td>Élisée Reclus</td>\n",
       "      <td>literal</td>\n",
       "      <td>http://www.wikidata.org/prop/direct/P25</td>\n",
       "      <td>fr</td>\n",
       "      <td>literal</td>\n",
       "      <td>Zéline Reclus</td>\n",
       "      <td>NaN</td>\n",
       "      <td>NaN</td>\n",
       "    </tr>\n",
       "    <tr>\n",
       "      <th>1</th>\n",
       "      <td>uri</td>\n",
       "      <td>http://www.wikidata.org/entity/Q20951</td>\n",
       "      <td>uri</td>\n",
       "      <td>http://www.wikidata.org/prop/direct/P27</td>\n",
       "      <td>uri</td>\n",
       "      <td>http://www.wikidata.org/entity/Q142</td>\n",
       "      <td>fr</td>\n",
       "      <td>literal</td>\n",
       "      <td>Élisée Reclus</td>\n",
       "      <td>literal</td>\n",
       "      <td>http://www.wikidata.org/prop/direct/P27</td>\n",
       "      <td>fr</td>\n",
       "      <td>literal</td>\n",
       "      <td>France</td>\n",
       "      <td>NaN</td>\n",
       "      <td>NaN</td>\n",
       "    </tr>\n",
       "    <tr>\n",
       "      <th>2</th>\n",
       "      <td>uri</td>\n",
       "      <td>http://www.wikidata.org/entity/Q20951</td>\n",
       "      <td>uri</td>\n",
       "      <td>http://www.wikidata.org/prop/direct/P31</td>\n",
       "      <td>uri</td>\n",
       "      <td>http://www.wikidata.org/entity/Q5</td>\n",
       "      <td>fr</td>\n",
       "      <td>literal</td>\n",
       "      <td>Élisée Reclus</td>\n",
       "      <td>literal</td>\n",
       "      <td>http://www.wikidata.org/prop/direct/P31</td>\n",
       "      <td>fr</td>\n",
       "      <td>literal</td>\n",
       "      <td>être humain</td>\n",
       "      <td>NaN</td>\n",
       "      <td>NaN</td>\n",
       "    </tr>\n",
       "    <tr>\n",
       "      <th>3</th>\n",
       "      <td>uri</td>\n",
       "      <td>http://www.wikidata.org/entity/Q20951</td>\n",
       "      <td>uri</td>\n",
       "      <td>http://www.wikidata.org/prop/direct/P69</td>\n",
       "      <td>uri</td>\n",
       "      <td>http://www.wikidata.org/entity/Q2086107</td>\n",
       "      <td>fr</td>\n",
       "      <td>literal</td>\n",
       "      <td>Élisée Reclus</td>\n",
       "      <td>literal</td>\n",
       "      <td>http://www.wikidata.org/prop/direct/P69</td>\n",
       "      <td>fr</td>\n",
       "      <td>literal</td>\n",
       "      <td>Université nouvelle de Bruxelles</td>\n",
       "      <td>NaN</td>\n",
       "      <td>NaN</td>\n",
       "    </tr>\n",
       "    <tr>\n",
       "      <th>4</th>\n",
       "      <td>uri</td>\n",
       "      <td>http://www.wikidata.org/entity/Q20951</td>\n",
       "      <td>uri</td>\n",
       "      <td>http://www.wikidata.org/prop/direct/P103</td>\n",
       "      <td>uri</td>\n",
       "      <td>http://www.wikidata.org/entity/Q150</td>\n",
       "      <td>fr</td>\n",
       "      <td>literal</td>\n",
       "      <td>Élisée Reclus</td>\n",
       "      <td>literal</td>\n",
       "      <td>http://www.wikidata.org/prop/direct/P103</td>\n",
       "      <td>fr</td>\n",
       "      <td>literal</td>\n",
       "      <td>français</td>\n",
       "      <td>NaN</td>\n",
       "      <td>NaN</td>\n",
       "    </tr>\n",
       "    <tr>\n",
       "      <th>...</th>\n",
       "      <td>...</td>\n",
       "      <td>...</td>\n",
       "      <td>...</td>\n",
       "      <td>...</td>\n",
       "      <td>...</td>\n",
       "      <td>...</td>\n",
       "      <td>...</td>\n",
       "      <td>...</td>\n",
       "      <td>...</td>\n",
       "      <td>...</td>\n",
       "      <td>...</td>\n",
       "      <td>...</td>\n",
       "      <td>...</td>\n",
       "      <td>...</td>\n",
       "      <td>...</td>\n",
       "      <td>...</td>\n",
       "    </tr>\n",
       "    <tr>\n",
       "      <th>32904</th>\n",
       "      <td>uri</td>\n",
       "      <td>http://www.wikidata.org/entity/Q3083334</td>\n",
       "      <td>uri</td>\n",
       "      <td>http://www.wikidata.org/prop/P1559</td>\n",
       "      <td>uri</td>\n",
       "      <td>http://www.wikidata.org/entity/statement/Q3083...</td>\n",
       "      <td>fr</td>\n",
       "      <td>literal</td>\n",
       "      <td>François-Charles Ostyn</td>\n",
       "      <td>literal</td>\n",
       "      <td>http://www.wikidata.org/prop/P1559</td>\n",
       "      <td>NaN</td>\n",
       "      <td>literal</td>\n",
       "      <td>statement/Q3083334-33D4CDC9-BF5D-462E-8FC6-1C2...</td>\n",
       "      <td>NaN</td>\n",
       "      <td>NaN</td>\n",
       "    </tr>\n",
       "    <tr>\n",
       "      <th>32905</th>\n",
       "      <td>uri</td>\n",
       "      <td>http://www.wikidata.org/entity/Q3083334</td>\n",
       "      <td>uri</td>\n",
       "      <td>http://www.wikidata.org/prop/P1596</td>\n",
       "      <td>uri</td>\n",
       "      <td>http://www.wikidata.org/entity/statement/Q3083...</td>\n",
       "      <td>fr</td>\n",
       "      <td>literal</td>\n",
       "      <td>François-Charles Ostyn</td>\n",
       "      <td>literal</td>\n",
       "      <td>http://www.wikidata.org/prop/P1596</td>\n",
       "      <td>NaN</td>\n",
       "      <td>literal</td>\n",
       "      <td>statement/Q3083334-a595fcea-4679-4726-6e3c-aa4...</td>\n",
       "      <td>NaN</td>\n",
       "      <td>NaN</td>\n",
       "    </tr>\n",
       "    <tr>\n",
       "      <th>32906</th>\n",
       "      <td>uri</td>\n",
       "      <td>http://www.wikidata.org/entity/Q3083334</td>\n",
       "      <td>uri</td>\n",
       "      <td>http://www.wikidata.org/prop/P1871</td>\n",
       "      <td>uri</td>\n",
       "      <td>http://www.wikidata.org/entity/statement/Q3083...</td>\n",
       "      <td>fr</td>\n",
       "      <td>literal</td>\n",
       "      <td>François-Charles Ostyn</td>\n",
       "      <td>literal</td>\n",
       "      <td>http://www.wikidata.org/prop/P1871</td>\n",
       "      <td>NaN</td>\n",
       "      <td>literal</td>\n",
       "      <td>statement/Q3083334-CB0C6830-4848-461E-A378-A5E...</td>\n",
       "      <td>NaN</td>\n",
       "      <td>NaN</td>\n",
       "    </tr>\n",
       "    <tr>\n",
       "      <th>32907</th>\n",
       "      <td>uri</td>\n",
       "      <td>http://www.wikidata.org/entity/Q3083334</td>\n",
       "      <td>uri</td>\n",
       "      <td>http://www.wikidata.org/prop/P2671</td>\n",
       "      <td>uri</td>\n",
       "      <td>http://www.wikidata.org/entity/statement/Q3083...</td>\n",
       "      <td>fr</td>\n",
       "      <td>literal</td>\n",
       "      <td>François-Charles Ostyn</td>\n",
       "      <td>literal</td>\n",
       "      <td>http://www.wikidata.org/prop/P2671</td>\n",
       "      <td>NaN</td>\n",
       "      <td>literal</td>\n",
       "      <td>statement/Q3083334-0E7B6F0B-748D-4AD4-B56A-8B9...</td>\n",
       "      <td>NaN</td>\n",
       "      <td>NaN</td>\n",
       "    </tr>\n",
       "    <tr>\n",
       "      <th>32908</th>\n",
       "      <td>uri</td>\n",
       "      <td>http://www.wikidata.org/entity/Q3083334</td>\n",
       "      <td>uri</td>\n",
       "      <td>http://www.wikidata.org/prop/P4724</td>\n",
       "      <td>uri</td>\n",
       "      <td>http://www.wikidata.org/entity/statement/Q3083...</td>\n",
       "      <td>fr</td>\n",
       "      <td>literal</td>\n",
       "      <td>François-Charles Ostyn</td>\n",
       "      <td>literal</td>\n",
       "      <td>http://www.wikidata.org/prop/P4724</td>\n",
       "      <td>NaN</td>\n",
       "      <td>literal</td>\n",
       "      <td>statement/Q3083334-f8cf1e76-4de0-4080-4f6f-641...</td>\n",
       "      <td>NaN</td>\n",
       "      <td>NaN</td>\n",
       "    </tr>\n",
       "  </tbody>\n",
       "</table>\n",
       "<p>32909 rows × 16 columns</p>\n",
       "</div>"
      ],
      "text/plain": [
       "      communard_ou_communarde.type            communard_ou_communarde.value   \n",
       "0                              uri    http://www.wikidata.org/entity/Q20951  \\\n",
       "1                              uri    http://www.wikidata.org/entity/Q20951   \n",
       "2                              uri    http://www.wikidata.org/entity/Q20951   \n",
       "3                              uri    http://www.wikidata.org/entity/Q20951   \n",
       "4                              uri    http://www.wikidata.org/entity/Q20951   \n",
       "...                            ...                                      ...   \n",
       "32904                          uri  http://www.wikidata.org/entity/Q3083334   \n",
       "32905                          uri  http://www.wikidata.org/entity/Q3083334   \n",
       "32906                          uri  http://www.wikidata.org/entity/Q3083334   \n",
       "32907                          uri  http://www.wikidata.org/entity/Q3083334   \n",
       "32908                          uri  http://www.wikidata.org/entity/Q3083334   \n",
       "\n",
       "      p.type                                   p.value q.type   \n",
       "0        uri   http://www.wikidata.org/prop/direct/P25    uri  \\\n",
       "1        uri   http://www.wikidata.org/prop/direct/P27    uri   \n",
       "2        uri   http://www.wikidata.org/prop/direct/P31    uri   \n",
       "3        uri   http://www.wikidata.org/prop/direct/P69    uri   \n",
       "4        uri  http://www.wikidata.org/prop/direct/P103    uri   \n",
       "...      ...                                       ...    ...   \n",
       "32904    uri        http://www.wikidata.org/prop/P1559    uri   \n",
       "32905    uri        http://www.wikidata.org/prop/P1596    uri   \n",
       "32906    uri        http://www.wikidata.org/prop/P1871    uri   \n",
       "32907    uri        http://www.wikidata.org/prop/P2671    uri   \n",
       "32908    uri        http://www.wikidata.org/prop/P4724    uri   \n",
       "\n",
       "                                                 q.value   \n",
       "0               http://www.wikidata.org/entity/Q42529847  \\\n",
       "1                    http://www.wikidata.org/entity/Q142   \n",
       "2                      http://www.wikidata.org/entity/Q5   \n",
       "3                http://www.wikidata.org/entity/Q2086107   \n",
       "4                    http://www.wikidata.org/entity/Q150   \n",
       "...                                                  ...   \n",
       "32904  http://www.wikidata.org/entity/statement/Q3083...   \n",
       "32905  http://www.wikidata.org/entity/statement/Q3083...   \n",
       "32906  http://www.wikidata.org/entity/statement/Q3083...   \n",
       "32907  http://www.wikidata.org/entity/statement/Q3083...   \n",
       "32908  http://www.wikidata.org/entity/statement/Q3083...   \n",
       "\n",
       "      communard_ou_communardeLabel.xml:lang communard_ou_communardeLabel.type   \n",
       "0                                        fr                           literal  \\\n",
       "1                                        fr                           literal   \n",
       "2                                        fr                           literal   \n",
       "3                                        fr                           literal   \n",
       "4                                        fr                           literal   \n",
       "...                                     ...                               ...   \n",
       "32904                                    fr                           literal   \n",
       "32905                                    fr                           literal   \n",
       "32906                                    fr                           literal   \n",
       "32907                                    fr                           literal   \n",
       "32908                                    fr                           literal   \n",
       "\n",
       "      communard_ou_communardeLabel.value pLabel.type   \n",
       "0                          Élisée Reclus     literal  \\\n",
       "1                          Élisée Reclus     literal   \n",
       "2                          Élisée Reclus     literal   \n",
       "3                          Élisée Reclus     literal   \n",
       "4                          Élisée Reclus     literal   \n",
       "...                                  ...         ...   \n",
       "32904             François-Charles Ostyn     literal   \n",
       "32905             François-Charles Ostyn     literal   \n",
       "32906             François-Charles Ostyn     literal   \n",
       "32907             François-Charles Ostyn     literal   \n",
       "32908             François-Charles Ostyn     literal   \n",
       "\n",
       "                                   pLabel.value qLabel.xml:lang qLabel.type   \n",
       "0       http://www.wikidata.org/prop/direct/P25              fr     literal  \\\n",
       "1       http://www.wikidata.org/prop/direct/P27              fr     literal   \n",
       "2       http://www.wikidata.org/prop/direct/P31              fr     literal   \n",
       "3       http://www.wikidata.org/prop/direct/P69              fr     literal   \n",
       "4      http://www.wikidata.org/prop/direct/P103              fr     literal   \n",
       "...                                         ...             ...         ...   \n",
       "32904        http://www.wikidata.org/prop/P1559             NaN     literal   \n",
       "32905        http://www.wikidata.org/prop/P1596             NaN     literal   \n",
       "32906        http://www.wikidata.org/prop/P1871             NaN     literal   \n",
       "32907        http://www.wikidata.org/prop/P2671             NaN     literal   \n",
       "32908        http://www.wikidata.org/prop/P4724             NaN     literal   \n",
       "\n",
       "                                            qLabel.value q.datatype q.xml:lang  \n",
       "0                                          Zéline Reclus        NaN        NaN  \n",
       "1                                                 France        NaN        NaN  \n",
       "2                                            être humain        NaN        NaN  \n",
       "3                       Université nouvelle de Bruxelles        NaN        NaN  \n",
       "4                                               français        NaN        NaN  \n",
       "...                                                  ...        ...        ...  \n",
       "32904  statement/Q3083334-33D4CDC9-BF5D-462E-8FC6-1C2...        NaN        NaN  \n",
       "32905  statement/Q3083334-a595fcea-4679-4726-6e3c-aa4...        NaN        NaN  \n",
       "32906  statement/Q3083334-CB0C6830-4848-461E-A378-A5E...        NaN        NaN  \n",
       "32907  statement/Q3083334-0E7B6F0B-748D-4AD4-B56A-8B9...        NaN        NaN  \n",
       "32908  statement/Q3083334-f8cf1e76-4de0-4080-4f6f-641...        NaN        NaN  \n",
       "\n",
       "[32909 rows x 16 columns]"
      ]
     },
     "execution_count": 41,
     "metadata": {},
     "output_type": "execute_result"
    }
   ],
   "source": [
    "df_communard_tous_p_q"
   ]
  },
  {
   "cell_type": "markdown",
   "metadata": {},
   "source": [
    "#### Quelques apperçu de travail sur ce df"
   ]
  },
  {
   "cell_type": "code",
   "execution_count": null,
   "metadata": {
    "hideCode": false,
    "hideOutput": false,
    "hidePrompt": false
   },
   "outputs": [],
   "source": [
    "df_communard_tous_p_q.describe()"
   ]
  },
  {
   "cell_type": "code",
   "execution_count": null,
   "metadata": {},
   "outputs": [],
   "source": [
    "df_communard_tous_p_q.columns"
   ]
  },
  {
   "cell_type": "code",
   "execution_count": null,
   "metadata": {},
   "outputs": [],
   "source": [
    "df_communard_tous_p_q.tail(50)"
   ]
  },
  {
   "cell_type": "markdown",
   "metadata": {},
   "source": [
    "#### Nettoyer le df et le mettre dans df_tout_sur_tous_communard"
   ]
  },
  {
   "cell_type": "code",
   "execution_count": null,
   "metadata": {},
   "outputs": [],
   "source": [
    "# retirer les colonnes \"inutiles\"\n",
    "df_nettoyage_colonne = df_communard_tous_p_q.loc[:,['communard_ou_communarde.value','p.value','q.value','communard_ou_communardeLabel.xml:lang','communard_ou_communardeLabel.value', 'pLabel.value','qLabel.value', 'q.xml:lang']]\n",
    "# garder le français\n",
    "df_nettoyage_langue = df_nettoyage_colonne[df_nettoyage_colonne['q.xml:lang'] == (\"fr\" or \"NaN\")]"
   ]
  },
  {
   "cell_type": "code",
   "execution_count": null,
   "metadata": {},
   "outputs": [],
   "source": [
    "df_nettoyage_langue.describe()"
   ]
  },
  {
   "cell_type": "code",
   "execution_count": null,
   "metadata": {},
   "outputs": [],
   "source": [
    "# Avoir un df exploitable pour la suite\n",
    "df_tout_sur_tous_communard = df_nettoyage_langue"
   ]
  },
  {
   "cell_type": "markdown",
   "metadata": {
    "hideCode": false,
    "hidePrompt": false
   },
   "source": [
    "## Portraits de Communardes et Communards\n",
    "\n",
    "### Trouver des communard·e·s sur wikidata\n",
    "\n",
    "#### L'élément \"communard ou communarde\"\n",
    "Sur Wikidata, al existe l'élément communard ou communarde, sous le nombre Q1780490\n",
    "https://www.wikidata.org/wiki/Q1780490\n",
    "> communard ou communarde (Q1780490)\n",
    "personne participant à la Commune de Paris\n",
    "\n",
    "#### La propriété \"occupation\"\n",
    "Sur wikidata, la propriété P106, permet de renseigner l'occupation (au sens très large ) d'une personne.\n",
    "https://www.wikidata.org/wiki/Property:P106\n",
    "> occupation (P106)\n",
    "nature d'activité d'une personne (métier, hobby…) ; voir aussi « domaine d'activité » (P101) et « fonction » (P39)\n",
    "\n",
    "#### Le triplet ?communard wdt:P106 wd:Q1780490.\n",
    "Pour toutes les recherche je considère que la personne est communard·e via occupation communard, soit\n",
    "```?communard wdt:P106 wd:Q1780490.``` si la requête a été écrite avant le 7 janvier 2023 ou `?communard_ou_communarde wdt:P106 wd:Q1780490.` après.\n",
    "\n",
    "Quand j'ai commencé a m'intéresser à ce sujet c'était ce triplet qui était déjà majoritaire.  Il était en \"concurrence\" avec  allégeance à Commune, participant à la Commune, conflit commune... Cela aurait nécessité plus de changement.\n",
    "\n",
    "Pour mémoire il s'agit des triplet \n",
    "```\n",
    "?communard wdt:P945 wd:Q133132.\n",
    "?communard wdt:P945 wd:Q1249756.\n",
    "?communard wdt:P463 wd:Q1249756.\n",
    "?communard wdt:P463 wd:Q133132.\n",
    "?communard wdt:P607 wd:Q133132.\n",
    "```"
   ]
  },
  {
   "cell_type": "markdown",
   "metadata": {
    "hideCode": false,
    "hidePrompt": false
   },
   "source": [
    "### Les communard·e·s connu·e·s"
   ]
  },
  {
   "cell_type": "markdown",
   "metadata": {
    "hideCode": false,
    "hidePrompt": false
   },
   "source": [
    "#### Liste complète"
   ]
  },
  {
   "cell_type": "markdown",
   "metadata": {},
   "source": [
    "##### En sparql "
   ]
  },
  {
   "cell_type": "markdown",
   "metadata": {
    "hideCode": false,
    "hidePrompt": false,
    "raw_mimetype": "text/markdown"
   },
   "source": [
    "```\n",
    "SELECT ?communard_ou_communarde ?communard_ou_communardeLabel WHERE {\n",
    "  SERVICE wikibase:label { bd:serviceParam wikibase:language \"[AUTO_LANGUAGE],en\". }\n",
    "  ?communard_ou_communarde wdt:P106 wd:Q1780490.\n",
    "}\n",
    "```"
   ]
  },
  {
   "cell_type": "code",
   "execution_count": null,
   "metadata": {
    "hideCode": false,
    "hidePrompt": false
   },
   "outputs": [],
   "source": [
    "%%HTML\n",
    "<iframe style=\"width: 95%; height: 50vh; border: none;\" \n",
    "src=\"https://query.wikidata.org/embed.html#SELECT%20%3Fcommunard_ou_communarde%20%3Fcommunard_ou_communardeLabel%20WHERE%20%7B%0A%20%20SERVICE%20wikibase%3Alabel%20%7B%20bd%3AserviceParam%20wikibase%3Alanguage%20%22%5BAUTO_LANGUAGE%5D%2Cen%22.%20%7D%0A%20%20%3Fcommunard_ou_communarde%20wdt%3AP106%20wd%3AQ1780490.%0A%7D%0A\" \n",
    "referrerpolicy=\"origin\" sandbox=\"allow-scripts allow-same-origin allow-popups\">\n",
    "</iframe>"
   ]
  },
  {
   "cell_type": "markdown",
   "metadata": {},
   "source": [
    "##### En python"
   ]
  },
  {
   "cell_type": "code",
   "execution_count": null,
   "metadata": {},
   "outputs": [],
   "source": [
    "#prendre que les label des items (déjà filtré en fr)\n",
    "df_Q_label_communard = df_tout_sur_tous_communard[df_tout_sur_tous_communard['p.value']== 'http://www.w3.org/2000/01/rdf-schema#label']\n",
    "# prendre que les colonnes intéressante\n",
    "df_Q_label_communard = df_Q_label_communard.loc[:,['communard_ou_communarde.value','q.value']]"
   ]
  },
  {
   "cell_type": "code",
   "execution_count": null,
   "metadata": {},
   "outputs": [],
   "source": [
    "# retirer l'index, trier par ordre alphabétique\n",
    "df_Q_label_communard = df_Q_label_communard.set_index('communard_ou_communarde.value')\n",
    "df_Q_label_communard = df_Q_label_communard.sort_values(by = \"q.value\")"
   ]
  },
  {
   "cell_type": "code",
   "execution_count": null,
   "metadata": {},
   "outputs": [],
   "source": [
    "print(df_Q_label_communard.to_markdown())"
   ]
  },
  {
   "cell_type": "markdown",
   "metadata": {
    "hideCode": false,
    "hidePrompt": false
   },
   "source": [
    "#### Liste complète avec Reasonator"
   ]
  },
  {
   "cell_type": "markdown",
   "metadata": {},
   "source": [
    "##### En sparql"
   ]
  },
  {
   "cell_type": "markdown",
   "metadata": {
    "hideCode": false,
    "hidePrompt": false
   },
   "source": [
    "```\n",
    "SELECT ?communard_ou_communarde ?communard_ou_communardeLabel\n",
    "#pour récuprer l'adresse de la page reasonator en fr\n",
    "(CONCAT(\"https://reasonator.toolforge.org/?q=\", STRAFTER( str(?communard_ou_communarde) ,\"http://www.wikidata.org/entity/\"),\"&lang=fr\") AS ?reasonator) \n",
    "#pour récuprer l'adresse de la page reasonator en fr au format html\n",
    "(CONCAT('<a href=\"','https://reasonator.toolforge.org/?q=', STRAFTER( str(?communard_ou_communarde) ,\"http://www.wikidata.org/entity/\"),'&lang=fr\">', ?communard_ou_communardeLabel ,'</a>') AS ?reasonatorlien)\n",
    "WHERE {\n",
    "  SERVICE wikibase:label { bd:serviceParam wikibase:language \"[AUTO_LANGUAGE],en\". }\n",
    "  ?communard_ou_communarde wdt:P106 wd:Q1780490.\n",
    "}\n",
    "```"
   ]
  },
  {
   "cell_type": "code",
   "execution_count": null,
   "metadata": {
    "hideCode": false,
    "hidePrompt": false
   },
   "outputs": [],
   "source": [
    "%%HTML\n",
    "<iframe style=\"width: 95%; height: 50vh; border: none;\" \n",
    "src=\"https://query.wikidata.org/embed.html#SELECT%20%3Fcommunard_ou_communarde%20%3Fcommunard_ou_communardeLabel%0A%23pour%20r%C3%A9cuprer%20l'adresse%20de%20la%20page%20reasonator%20en%20fr%0A(CONCAT(%22https%3A%2F%2Freasonator.toolforge.org%2F%3Fq%3D%22%2C%20STRAFTER(%20str(%3Fcommunard_ou_communarde)%20%2C%22http%3A%2F%2Fwww.wikidata.org%2Fentity%2F%22)%2C%22%26lang%3Dfr%22)%20AS%20%3Freasonator)%20%0A%23pour%20r%C3%A9cuprer%20l'adresse%20de%20la%20page%20reasonator%20en%20fr%20au%20format%20html%0A(CONCAT('%3Ca%20href%3D%22'%2C'https%3A%2F%2Freasonator.toolforge.org%2F%3Fq%3D'%2C%20STRAFTER(%20str(%3Fcommunard_ou_communarde)%20%2C%22http%3A%2F%2Fwww.wikidata.org%2Fentity%2F%22)%2C'%26lang%3Dfr%22%3E'%2C%20%3Fcommunard_ou_communardeLabel%20%2C'%3C%2Fa%3E')%20AS%20%3Freasonatorlien)%0AWHERE%20%7B%0A%20%20SERVICE%20wikibase%3Alabel%20%7B%20bd%3AserviceParam%20wikibase%3Alanguage%20%22%5BAUTO_LANGUAGE%5D%2Cen%22.%20%7D%0A%20%20%3Fcommunard_ou_communarde%20wdt%3AP106%20wd%3AQ1780490.%0A%7D\" \n",
    "referrerpolicy=\"origin\" sandbox=\"allow-scripts allow-same-origin allow-popups\">\n",
    "</iframe>"
   ]
  },
  {
   "cell_type": "markdown",
   "metadata": {
    "hideCode": false,
    "hidePrompt": false
   },
   "source": [
    "#### Nombre\n",
    "- 9 mars 2022 : 248\n",
    "- 16 janvier 2023 : 297\n",
    "\n",
    "Compteur actualisé en temps réel :"
   ]
  },
  {
   "cell_type": "markdown",
   "metadata": {
    "hideCode": false,
    "hidePrompt": false
   },
   "source": [
    "```\n",
    "SELECT (Count(?communard_ou_communarde) as ?nombre_de_personne) WHERE {\n",
    "  ?communard_ou_communarde wdt:P106 wd:Q1780490.\n",
    "}\n",
    "group by ?nombre_de_personne\n",
    "```"
   ]
  },
  {
   "cell_type": "code",
   "execution_count": null,
   "metadata": {
    "hideCode": false,
    "hidePrompt": false
   },
   "outputs": [],
   "source": [
    "%%HTML\n",
    "<iframe style=\"width: 65%; height: 20vh; border: none\" \n",
    "src=\"https://query.wikidata.org/embed.html#SELECT%20(Count(%3Fcommunard_ou_communarde)%20as%20%3Fnombre_de_personne)%20WHERE%20%7B%0A%20%20%3Fcommunard_ou_communarde%20wdt%3AP106%20wd%3AQ1780490.%0A%7D%0Agroup%20by%20%3Fnombre_de_personne\" \n",
    "referrerpolicy=\"origin\" sandbox=\"allow-scripts allow-same-origin allow-popups\">\n",
    "</iframe>"
   ]
  },
  {
   "cell_type": "code",
   "execution_count": null,
   "metadata": {},
   "outputs": [],
   "source": [
    "nb_communard = df_Q_label_communard.size\n",
    "print(f\"Dans le tableau df_Q_label_communard, on compte {nb_communard} communard·e·s.\")"
   ]
  },
  {
   "cell_type": "markdown",
   "metadata": {
    "hideCode": false,
    "hidePrompt": false
   },
   "source": [
    "#### Quelques tests possibles pour vérifier la fiabilité des données."
   ]
  },
  {
   "cell_type": "markdown",
   "metadata": {
    "hideCode": false,
    "hidePrompt": false
   },
   "source": [
    "##### Pour vérifier qu'ils ne sont pas née après ou mort avant la Commune\n",
    "```\n",
    "SELECT ?communard ?communardLabel ?naissance?deces WHERE {\n",
    "  SERVICE wikibase:label { bd:serviceParam wikibase:language \"[AUTO_LANGUAGE],en\". }\n",
    "  ?communard wdt:P106 wd:Q1780490;\n",
    "             wdt:P569 ?naissance;\n",
    "             wdt:P570 ?deces.\n",
    "   #FILTER(year(?deces)<1871 && year(?naissance)>1871) . \n",
    "}\n",
    "```\n",
    "-> au 16 janvier 2023 il y a entre 2 et 4 données à examiner correctement et corriger."
   ]
  },
  {
   "cell_type": "markdown",
   "metadata": {
    "hideCode": false,
    "hidePrompt": false
   },
   "source": [
    "##### Des êtres vivants"
   ]
  },
  {
   "cell_type": "markdown",
   "metadata": {
    "hideCode": false,
    "hidePrompt": false
   },
   "source": [
    "```\n",
    "SELECT  ?nature_de_l_élémentLabel (count(?nature_de_l_élément) as ?nb) WHERE {\n",
    "  SERVICE wikibase:label { bd:serviceParam wikibase:language \"[AUTO_LANGUAGE],en\". }\n",
    "  ?communard_ou_communarde wdt:P106 wd:Q1780490.\n",
    "  OPTIONAL { ?communard_ou_communarde wdt:P31 ?nature_de_l_élément. }\n",
    "}\n",
    "Group by  ?nature_de_l_élément ?nature_de_l_élémentLabel\n",
    "```"
   ]
  },
  {
   "cell_type": "code",
   "execution_count": null,
   "metadata": {
    "hideCode": false,
    "hidePrompt": false
   },
   "outputs": [],
   "source": [
    "%%HTML\n",
    "<iframe style=\"width:  65%; height: 25vh; border: none;\" \n",
    "src=\"https://query.wikidata.org/embed.html#SELECT%20%20%3Fnature_de_l_%C3%A9l%C3%A9mentLabel%20(count(%3Fnature_de_l_%C3%A9l%C3%A9ment)%20as%20%3Fnb)%20WHERE%20%7B%0A%20%20SERVICE%20wikibase%3Alabel%20%7B%20bd%3AserviceParam%20wikibase%3Alanguage%20%22%5BAUTO_LANGUAGE%5D%2Cen%22.%20%7D%0A%20%20%3Fcommunard_ou_communarde%20wdt%3AP106%20wd%3AQ1780490.%0A%20%20OPTIONAL%20%7B%20%3Fcommunard_ou_communarde%20wdt%3AP31%20%3Fnature_de_l_%C3%A9l%C3%A9ment.%20%7D%0A%7D%0AGroup%20by%20%20%3Fnature_de_l_%C3%A9l%C3%A9ment%20%3Fnature_de_l_%C3%A9l%C3%A9mentLabel\" \n",
    "referrerpolicy=\"origin\" sandbox=\"allow-scripts allow-same-origin allow-popups\">\n",
    "</iframe>"
   ]
  },
  {
   "cell_type": "markdown",
   "metadata": {
    "hideCode": false,
    "hidePrompt": false
   },
   "source": [
    "Wikidata permet de rentrer pleins de monde, y compris des êtres de fictions. Il existe quelques communard-e-s de fictions dans par exemple le cri du peule, la série de BD communardes...\n",
    "\n",
    "Au 16 janvier 2023 il y a 297 être humain (Q5) et 0 être humain de fiction (Q15632617).\n",
    "\n",
    "> être humain (Q5) individu appartenant à l’espèce Homo sapiens, la seule espèce restante du genre Homo – distinct de « humain fictif » et de « humain possiblement fictif »\n",
    "\n",
    "> humain de fiction (Q15632617)  \t\n",
    "être humain n'existant que dans des œuvres de fiction\n",
    "\n",
    "La plupart des requête recherches les communard-e-s sans vérifier ce critère. Les requêtes seront à revoir (ou pas) quand un certains nombre de ces êtres fictionnels arriveront dans wikidata.\n"
   ]
  },
  {
   "cell_type": "markdown",
   "metadata": {
    "hideCode": false,
    "hidePrompt": false
   },
   "source": [
    "##### Quelques sources\n",
    "\n",
    "Pour chaque personne, indique si possible :\n",
    "- l'article wikipédia en français\n",
    "- le numéro de sa page dans le maitron"
   ]
  },
  {
   "cell_type": "markdown",
   "metadata": {
    "hideCode": false,
    "hidePrompt": false
   },
   "source": [
    "> identifiant Maitron (P4724) identifiant d'une personne, d'un lieu de mémoire ou d'une monographie dans le Maitron en ligne, ensemble de dictionnaires biographiques du mouvement ouvrier"
   ]
  },
  {
   "cell_type": "markdown",
   "metadata": {
    "hideCode": false,
    "hidePrompt": false
   },
   "source": [
    "```\n",
    "SELECT ?communard_ou_communarde ?communard_ou_communardeLabel ?article ?maiton WHERE {\n",
    "  SERVICE wikibase:label { bd:serviceParam wikibase:language \"[AUTO_LANGUAGE],en\". }\n",
    "  ?communard_ou_communarde wdt:P106 wd:Q1780490.\n",
    "\n",
    "  optional {?article schema:about ?communard_ou_communarde .\n",
    " ?article schema:isPartOf <https://fr.wikipedia.org/> .} \n",
    "  \n",
    "  optional {?communard_ou_communarde wdt:P4724 ?maiton.}\n",
    "\n",
    "}\n",
    "```"
   ]
  },
  {
   "cell_type": "code",
   "execution_count": null,
   "metadata": {
    "hideCode": false,
    "hidePrompt": false
   },
   "outputs": [],
   "source": [
    "%%HTML\n",
    "<iframe style=\"width: 95%; height: 50vh; border: none;\" \n",
    "src=\"https://query.wikidata.org/embed.html#%0ASELECT%20%3Fcommunard_ou_communarde%20%3Fcommunard_ou_communardeLabel%20%3Farticle%20%3Fmaiton%20WHERE%20%7B%0A%20%20SERVICE%20wikibase%3Alabel%20%7B%20bd%3AserviceParam%20wikibase%3Alanguage%20%22%5BAUTO_LANGUAGE%5D%2Cen%22.%20%7D%0A%20%20%3Fcommunard_ou_communarde%20wdt%3AP106%20wd%3AQ1780490.%0A%0A%20%20optional%20%7B%3Farticle%20schema%3Aabout%20%3Fcommunard_ou_communarde%20.%0A%20%3Farticle%20schema%3AisPartOf%20%3Chttps%3A%2F%2Ffr.wikipedia.org%2F%3E%20.%7D%20%0A%20%20%0A%20%20optional%20%7B%3Fcommunard_ou_communarde%20wdt%3AP4724%20%3Fmaiton.%7D%0A%0A%7D%0A\" \n",
    "referrerpolicy=\"origin\" sandbox=\"allow-scripts allow-same-origin allow-popups\">\n",
    "</iframe>"
   ]
  },
  {
   "cell_type": "markdown",
   "metadata": {
    "hideCode": false,
    "hidePrompt": false
   },
   "source": [
    "On peut aussi compte combien de personnes ont un article dans wikipédia ou le maitron"
   ]
  },
  {
   "cell_type": "markdown",
   "metadata": {
    "hideCode": false,
    "hidePrompt": false
   },
   "source": [
    "```\n",
    "SELECT (COUNT(?article) AS ?nb_WP) (COUNT(?maitron) AS ?nb_maitron) WHERE {\n",
    "  SERVICE wikibase:label { bd:serviceParam wikibase:language \"[AUTO_LANGUAGE],en\". }\n",
    "  ?communard_ou_communarde wdt:P106 wd:Q1780490.\n",
    "  OPTIONAL {\n",
    "    ?article schema:about ?communard_ou_communarde;\n",
    "      schema:isPartOf <https://fr.wikipedia.org/>.\n",
    "  }\n",
    "  OPTIONAL { ?communard_ou_communarde wdt:P4724 ?maitron. }\n",
    "}\n",
    "```"
   ]
  },
  {
   "cell_type": "code",
   "execution_count": null,
   "metadata": {
    "hideCode": false,
    "hidePrompt": false
   },
   "outputs": [],
   "source": [
    "%%HTML\n",
    "<iframe style=\"width: 95%; height: 20vh; border: none;\" \n",
    "src=\"https://query.wikidata.org/embed.html#SELECT%20(COUNT(%3Farticle)%20AS%20%3Fnb_WP)%20(COUNT(%3Fmaitron)%20AS%20%3Fnb_maitron)%20WHERE%20%7B%0A%20%20SERVICE%20wikibase%3Alabel%20%7B%20bd%3AserviceParam%20wikibase%3Alanguage%20%22%5BAUTO_LANGUAGE%5D%2Cen%22.%20%7D%0A%20%20%3Fcommunard_ou_communarde%20wdt%3AP106%20wd%3AQ1780490.%0A%20%20OPTIONAL%20%7B%0A%20%20%20%20%3Farticle%20schema%3Aabout%20%3Fcommunard_ou_communarde%3B%0A%20%20%20%20%20%20schema%3AisPartOf%20%3Chttps%3A%2F%2Ffr.wikipedia.org%2F%3E.%0A%20%20%7D%0A%20%20OPTIONAL%20%7B%20%3Fcommunard_ou_communarde%20wdt%3AP4724%20%3Fmaitron.%20%7D%0A%7D\" \n",
    "referrerpolicy=\"origin\" sandbox=\"allow-scripts allow-same-origin allow-popups\">\n",
    "</iframe>"
   ]
  },
  {
   "cell_type": "markdown",
   "metadata": {
    "hideCode": false,
    "hidePrompt": false
   },
   "source": [
    "### Présentations et statistiques à propos des Communard-e-s\n",
    "\n",
    "L'intérêt de wikidata est de pouvoir faire quelques statistiques et autres affichages."
   ]
  },
  {
   "cell_type": "markdown",
   "metadata": {
    "hideCode": false,
    "hidePrompt": false
   },
   "source": [
    "#### Galerie de portrait\n",
    "Tous ces portrait sont hébergé sur wikicommons et sont sous une licence libre (variable d'une image à l'autre) et donc réutilisable ."
   ]
  },
  {
   "cell_type": "markdown",
   "metadata": {
    "hideCode": false,
    "hidePrompt": false
   },
   "source": [
    "```\n",
    "#defaultView:ImageGrid\n",
    "SELECT DISTINCT ?communard_ou_communarde ?communard_ou_communardeLabel ?image WHERE {\n",
    "  SERVICE wikibase:label { bd:serviceParam wikibase:language \"[AUTO_LANGUAGE],en\". }\n",
    "  ?communard_ou_communarde wdt:P106 wd:Q1780490.\n",
    "  OPTIONAL { ?communard_ou_communarde wdt:P18 ?image. }\n",
    "}\n",
    "```"
   ]
  },
  {
   "cell_type": "code",
   "execution_count": null,
   "metadata": {
    "hideCode": false,
    "hidePrompt": false
   },
   "outputs": [],
   "source": [
    "%%HTML\n",
    "<iframe style=\"width: 95%; height: 50vh; border: none;\" \n",
    "src=\"https://query.wikidata.org/embed.html#%23defaultView%3AImageGrid%0ASELECT%20DISTINCT%20%3Fcommunard_ou_communarde%20%3Fcommunard_ou_communardeLabel%20%3Fimage%20WHERE%20%7B%0A%20%20SERVICE%20wikibase%3Alabel%20%7B%20bd%3AserviceParam%20wikibase%3Alanguage%20%22%5BAUTO_LANGUAGE%5D%2Cen%22.%20%7D%0A%20%20%3Fcommunard_ou_communarde%20wdt%3AP106%20wd%3AQ1780490.%0A%20%20OPTIONAL%20%7B%20%3Fcommunard_ou_communarde%20wdt%3AP18%20%3Fimage.%20%7D%0A%7D\" \n",
    "referrerpolicy=\"origin\" sandbox=\"allow-scripts allow-same-origin allow-popups\">\n",
    "</iframe>"
   ]
  },
  {
   "cell_type": "markdown",
   "metadata": {},
   "source": [
    "#### Images de communard·e·s"
   ]
  },
  {
   "cell_type": "markdown",
   "metadata": {},
   "source": [
    "De nombreux communard·e·s ont été représenté de façon plus ou moins anonymes. Voyons les images P18 qui dépeignent des communard·e·s."
   ]
  },
  {
   "cell_type": "markdown",
   "metadata": {},
   "source": [
    "```\n",
    "#defaultView:ImageGrid\n",
    "SELECT ?oeuvre ?oeuvreLabel ?image WHERE {\n",
    "  SERVICE wikibase:label { bd:serviceParam wikibase:language \"fr,en\". }\n",
    "  ?oeuvre wdt:P180 wd:Q1780490.\n",
    "  OPTIONAL { ?oeuvre wdt:P18 ?image. }\n",
    "}\n",
    "```"
   ]
  },
  {
   "cell_type": "code",
   "execution_count": null,
   "metadata": {},
   "outputs": [],
   "source": [
    "%%HTML\n",
    "<iframe style=\"width: 95%; height: 50vh; border: none;\" \n",
    "src=\"https://query.wikidata.org/embed.html#%23defaultView%3AImageGrid%0ASELECT%20%3Foeuvre%20%3FoeuvreLabel%20%3Fimage%20WHERE%20%7B%0A%20%20SERVICE%20wikibase%3Alabel%20%7B%20bd%3AserviceParam%20wikibase%3Alanguage%20%22fr%2Cen%22.%20%7D%0A%20%20%3Foeuvre%20wdt%3AP180%20wd%3AQ1780490.%0A%20%20OPTIONAL%20%7B%20%3Foeuvre%20wdt%3AP18%20%3Fimage.%20%7D%0A%7D\" \n",
    "referrerpolicy=\"origin\" sandbox=\"allow-scripts allow-same-origin allow-popups\">\n",
    "</iframe>"
   ]
  },
  {
   "cell_type": "markdown",
   "metadata": {
    "hideCode": false,
    "hidePrompt": false
   },
   "source": [
    "#### Gender-gap \n",
    "Ou en bon français, la répartition homme/femme.\n",
    "\n",
    "On mesure ici le nombre d'hommes et de femme référencé dans wikidata. On mesure donc le ratio entre les personnes rentrées dans wikidata et pas dans la réalité. Même si les critères d’admissibilité dans wikidata sont très généreux, il faut un minimum de sources."
   ]
  },
  {
   "cell_type": "markdown",
   "metadata": {
    "hideCode": false,
    "hidePrompt": false
   },
   "source": [
    "> sexe ou genre (P21) pour les humains, soit masculin (Q6581097), féminin (Q6581072), intersexué (Q1097630), femme transgenre (Q1052281), homme transgenre (Q2449503), non-binaire (Q48270) ; pour les animaux, mâle (Q44148) ou femelle (Q43445)"
   ]
  },
  {
   "cell_type": "markdown",
   "metadata": {},
   "source": [
    "##### Sparql"
   ]
  },
  {
   "cell_type": "markdown",
   "metadata": {
    "hideCode": false,
    "hidePrompt": false
   },
   "source": [
    "```\n",
    "#defaultView:BubbleChart\n",
    "SELECT ?sexe_ou_genreLabel (count(?sexe_ou_genre) as ?genre) WHERE {\n",
    "  SERVICE wikibase:label { bd:serviceParam wikibase:language \"[AUTO_LANGUAGE],en\". }\n",
    "  ?communard_ou_communarde wdt:P106 wd:Q1780490.\n",
    "  OPTIONAL { ?communard_ou_communarde wdt:P21 ?sexe_ou_genre. }\n",
    "}\n",
    "group by ?sexe_ou_genreLabel\n",
    "```"
   ]
  },
  {
   "cell_type": "code",
   "execution_count": null,
   "metadata": {
    "hideCode": false,
    "hidePrompt": false
   },
   "outputs": [],
   "source": [
    "%%HTML\n",
    "<iframe style=\"width: 95%; height: 40vh; border: none;\" \n",
    "src=\"https://query.wikidata.org/embed.html#%23defaultView%3ABubbleChart%0ASELECT%20%3Fsexe_ou_genreLabel%20(count(%3Fsexe_ou_genre)%20as%20%3Fgenre)%20WHERE%20%7B%0A%20%20SERVICE%20wikibase%3Alabel%20%7B%20bd%3AserviceParam%20wikibase%3Alanguage%20%22%5BAUTO_LANGUAGE%5D%2Cen%22.%20%7D%0A%20%20%3Fcommunard_ou_communarde%20wdt%3AP106%20wd%3AQ1780490.%0A%20%20OPTIONAL%20%7B%20%3Fcommunard_ou_communarde%20wdt%3AP21%20%3Fsexe_ou_genre.%20%7D%0A%7D%0Agroup%20by%20%3Fsexe_ou_genreLabel\" \n",
    "referrerpolicy=\"origin\" sandbox=\"allow-scripts allow-same-origin allow-popups\">\n",
    "</iframe>"
   ]
  },
  {
   "cell_type": "markdown",
   "metadata": {
    "hideCode": false,
    "hidePrompt": false
   },
   "source": [
    "- 9 mars 2022 : 172 / 74 soit 2.32\n",
    "- 16 janvier 2023 : 190 / 107 soit 1.77"
   ]
  },
  {
   "cell_type": "markdown",
   "metadata": {},
   "source": [
    "##### en python"
   ]
  },
  {
   "cell_type": "code",
   "execution_count": 74,
   "metadata": {},
   "outputs": [],
   "source": [
    "# faire un df_genre d'une seule colonne des valeurs sur le genre (P21)\n",
    "df_genre = df_communard_tous_p_q[df_communard_tous_p_q['p.value']=='http://www.wikidata.org/prop/direct/P21']\n",
    "df_genre = df_genre['qLabel.value']"
   ]
  },
  {
   "cell_type": "code",
   "execution_count": 75,
   "metadata": {},
   "outputs": [
    {
     "data": {
      "text/html": [
       "<div>\n",
       "<style scoped>\n",
       "    .dataframe tbody tr th:only-of-type {\n",
       "        vertical-align: middle;\n",
       "    }\n",
       "\n",
       "    .dataframe tbody tr th {\n",
       "        vertical-align: top;\n",
       "    }\n",
       "\n",
       "    .dataframe thead th {\n",
       "        text-align: right;\n",
       "    }\n",
       "</style>\n",
       "<table border=\"1\" class=\"dataframe\">\n",
       "  <thead>\n",
       "    <tr style=\"text-align: right;\">\n",
       "      <th></th>\n",
       "      <th>qLabel.value</th>\n",
       "      <th>count</th>\n",
       "    </tr>\n",
       "  </thead>\n",
       "  <tbody>\n",
       "    <tr>\n",
       "      <th>0</th>\n",
       "      <td>masculin</td>\n",
       "      <td>192</td>\n",
       "    </tr>\n",
       "    <tr>\n",
       "      <th>1</th>\n",
       "      <td>féminin</td>\n",
       "      <td>108</td>\n",
       "    </tr>\n",
       "  </tbody>\n",
       "</table>\n",
       "</div>"
      ],
      "text/plain": [
       "  qLabel.value  count\n",
       "0     masculin    192\n",
       "1      féminin    108"
      ]
     },
     "execution_count": 75,
     "metadata": {},
     "output_type": "execute_result"
    }
   ],
   "source": [
    "# faire un df du nombre de personne par genre\n",
    "data = df_genre.value_counts()\n",
    "df_data = pd.DataFrame(data)\n",
    "df_data = df_data.reset_index('qLabel.value')\n",
    "df_data"
   ]
  },
  {
   "cell_type": "code",
   "execution_count": null,
   "metadata": {},
   "outputs": [],
   "source": [
    "df_data.to_markdown()"
   ]
  },
  {
   "cell_type": "code",
   "execution_count": null,
   "metadata": {},
   "outputs": [],
   "source": [
    "# faire des phrases\n",
    "print(f\"On peut compter {df_genre.value_counts()[0]} hommes et {df_genre.value_counts()[1]} femmes.\")"
   ]
  },
  {
   "cell_type": "code",
   "execution_count": null,
   "metadata": {},
   "outputs": [],
   "source": [
    "# graphique\n",
    "donnee = df_data['count']\n",
    "label = df_data['qLabel.value']\n",
    "couleur = sns.color_palette(\"pastel\")\n",
    "plt.pie(donnee, labels = label, colors = couleur, autopct = lambda p : '{:.0f}%  ({:,.0f})'.format(p,p * sum(donnee)/100))\n",
    "plt.show()"
   ]
  },
  {
   "cell_type": "markdown",
   "metadata": {
    "hideCode": false,
    "hidePrompt": false
   },
   "source": [
    "#### A part avoir participer à la commune, que faisaient ces personnes ?\n",
    "\n",
    "la propriété P106, déjà évoqué, permet de connaitre leur occupation : métiers, loisir...\n",
    "\n",
    "On peut compter combien de personne participe à chaque occupation. Une personen peut avoir de multiple occupation. Elles peuvent avoir été occupée avant/pendant/après les événements."
   ]
  },
  {
   "cell_type": "markdown",
   "metadata": {
    "hideCode": false,
    "hidePrompt": false
   },
   "source": [
    "##### Au moins deux personnes qui l'occupe"
   ]
  },
  {
   "cell_type": "markdown",
   "metadata": {
    "hideCode": false,
    "hidePrompt": false
   },
   "source": [
    "```\n",
    "SELECT ?occupation ?occupationLabel (COUNT(?communard_ou_communarde) AS ?nombre) WHERE {\n",
    "  SERVICE wikibase:label { bd:serviceParam wikibase:language \"[AUTO_LANGUAGE],en\". }\n",
    "  ?communard_ou_communarde wdt:P106 wd:Q1780490;\n",
    "                           wdt:P106 ?occupation.\n",
    "}\n",
    "GROUP BY ?occupation ?occupationLabel\n",
    "HAVING (((COUNT(?communard_ou_communarde)) > 1 ) && ((COUNT(?communard_ou_communarde)) < 290 ))# Sélectionner ceux dont il y a plus d'une occurence et moins de 290 pour supprimer communard qui est à plus de 297 le 12 janvier 2023\n",
    "\n",
    "ORDER BY DESC (?nombre)\n",
    "```"
   ]
  },
  {
   "cell_type": "markdown",
   "metadata": {},
   "source": [
    "###### En sparql"
   ]
  },
  {
   "cell_type": "code",
   "execution_count": null,
   "metadata": {
    "hideCode": false,
    "hidePrompt": false
   },
   "outputs": [],
   "source": [
    "%%HTML\n",
    "<iframe style=\"width: 95%; height: 50vh; border: none;\" \n",
    "src=\"https://query.wikidata.org/embed.html#SELECT%20%3Foccupation%20%3FoccupationLabel%20(COUNT(%3Fcommunard_ou_communarde)%20AS%20%3Fnombre)%20WHERE%20%7B%0A%20%20SERVICE%20wikibase%3Alabel%20%7B%20bd%3AserviceParam%20wikibase%3Alanguage%20%22%5BAUTO_LANGUAGE%5D%2Cen%22.%20%7D%0A%20%20%3Fcommunard_ou_communarde%20wdt%3AP106%20wd%3AQ1780490%3B%0A%20%20%20%20%20%20%20%20%20%20%20%20%20%20%20%20%20%20%20%20%20%20%20%20%20%20%20wdt%3AP106%20%3Foccupation.%0A%7D%0AGROUP%20BY%20%3Foccupation%20%3FoccupationLabel%0AHAVING%20(((COUNT(%3Fcommunard_ou_communarde))%20%3E%201%20)%20%26%26%20((COUNT(%3Fcommunard_ou_communarde))%20%3C%20290%20))%23%20S%C3%A9lectionner%20ceux%20dont%20il%20y%20a%20plus%20d'une%20occurence%20et%20moins%20de%20290%20pour%20supprimer%20communard%20qui%20est%20%C3%A0%20plus%20de%20297%20le%2012%20janvier%202023%0A%0AORDER%20BY%20DESC%20(%3Fnombre)\" \n",
    "referrerpolicy=\"origin\" sandbox=\"allow-scripts allow-same-origin allow-popups\">\n",
    "</iframe>"
   ]
  },
  {
   "cell_type": "markdown",
   "metadata": {},
   "source": [
    "###### En python"
   ]
  },
  {
   "cell_type": "code",
   "execution_count": 149,
   "metadata": {},
   "outputs": [],
   "source": [
    "# faire un df_genre d'une seule colonne des valeurs sur l'occupation (P16)\n",
    "df_occupation = df_communard_tous_p_q[df_communard_tous_p_q['p.value']=='http://www.wikidata.org/prop/direct/P106']\n",
    "df_occupation = df_occupation['qLabel.value']"
   ]
  },
  {
   "cell_type": "code",
   "execution_count": 150,
   "metadata": {},
   "outputs": [],
   "source": [
    "# faire un df du nombre de personne par occupation\n",
    "data = df_occupation.value_counts()\n",
    "df_data = pd.DataFrame(data)\n",
    "df_data = df_data.reset_index('qLabel.value')\n",
    "df_data_plusieurs = df_data[df_data['count'] > 1]\n",
    "df_data_plusieurs = df_data_plusieurs.iloc[1:,:] #retirer la première ligne correspondant à communard"
   ]
  },
  {
   "cell_type": "code",
   "execution_count": 151,
   "metadata": {},
   "outputs": [],
   "source": []
  },
  {
   "cell_type": "code",
   "execution_count": 152,
   "metadata": {},
   "outputs": [
    {
     "data": {
      "text/html": [
       "<table border=\"1\" class=\"dataframe\">\n",
       "  <thead>\n",
       "    <tr style=\"text-align: right;\">\n",
       "      <th></th>\n",
       "      <th>qLabel.value</th>\n",
       "      <th>count</th>\n",
       "    </tr>\n",
       "  </thead>\n",
       "  <tbody>\n",
       "    <tr>\n",
       "      <th>1</th>\n",
       "      <td>personnalité politique</td>\n",
       "      <td>67</td>\n",
       "    </tr>\n",
       "    <tr>\n",
       "      <th>2</th>\n",
       "      <td>journaliste</td>\n",
       "      <td>53</td>\n",
       "    </tr>\n",
       "    <tr>\n",
       "      <th>3</th>\n",
       "      <td>écrivain ou écrivaine</td>\n",
       "      <td>28</td>\n",
       "    </tr>\n",
       "    <tr>\n",
       "      <th>4</th>\n",
       "      <td>ouvrier</td>\n",
       "      <td>16</td>\n",
       "    </tr>\n",
       "    <tr>\n",
       "      <th>5</th>\n",
       "      <td>militaire</td>\n",
       "      <td>16</td>\n",
       "    </tr>\n",
       "    <tr>\n",
       "      <th>6</th>\n",
       "      <td>peintre</td>\n",
       "      <td>16</td>\n",
       "    </tr>\n",
       "    <tr>\n",
       "      <th>7</th>\n",
       "      <td>enseignant ou enseignante</td>\n",
       "      <td>13</td>\n",
       "    </tr>\n",
       "    <tr>\n",
       "      <th>8</th>\n",
       "      <td>poète ou poétesse</td>\n",
       "      <td>12</td>\n",
       "    </tr>\n",
       "    <tr>\n",
       "      <th>9</th>\n",
       "      <td>syndicaliste</td>\n",
       "      <td>12</td>\n",
       "    </tr>\n",
       "    <tr>\n",
       "      <th>10</th>\n",
       "      <td>anarchiste</td>\n",
       "      <td>10</td>\n",
       "    </tr>\n",
       "    <tr>\n",
       "      <th>11</th>\n",
       "      <td>militant ou militante pour les droits des femmes</td>\n",
       "      <td>10</td>\n",
       "    </tr>\n",
       "    <tr>\n",
       "      <th>12</th>\n",
       "      <td>cordonnier</td>\n",
       "      <td>9</td>\n",
       "    </tr>\n",
       "    <tr>\n",
       "      <th>13</th>\n",
       "      <td>révolutionnaire</td>\n",
       "      <td>9</td>\n",
       "    </tr>\n",
       "    <tr>\n",
       "      <th>14</th>\n",
       "      <td>officier</td>\n",
       "      <td>9</td>\n",
       "    </tr>\n",
       "    <tr>\n",
       "      <th>15</th>\n",
       "      <td>médecin</td>\n",
       "      <td>8</td>\n",
       "    </tr>\n",
       "    <tr>\n",
       "      <th>16</th>\n",
       "      <td>franc-maçon</td>\n",
       "      <td>7</td>\n",
       "    </tr>\n",
       "    <tr>\n",
       "      <th>17</th>\n",
       "      <td>dessinateur ou dessinatrice</td>\n",
       "      <td>6</td>\n",
       "    </tr>\n",
       "    <tr>\n",
       "      <th>18</th>\n",
       "      <td>couturier</td>\n",
       "      <td>6</td>\n",
       "    </tr>\n",
       "    <tr>\n",
       "      <th>19</th>\n",
       "      <td>vivandière</td>\n",
       "      <td>6</td>\n",
       "    </tr>\n",
       "    <tr>\n",
       "      <th>20</th>\n",
       "      <td>sculpteur ou sculptrice</td>\n",
       "      <td>5</td>\n",
       "    </tr>\n",
       "    <tr>\n",
       "      <th>21</th>\n",
       "      <td>romancier ou romancière</td>\n",
       "      <td>5</td>\n",
       "    </tr>\n",
       "    <tr>\n",
       "      <th>22</th>\n",
       "      <td>dramaturge</td>\n",
       "      <td>5</td>\n",
       "    </tr>\n",
       "    <tr>\n",
       "      <th>23</th>\n",
       "      <td>lavandière</td>\n",
       "      <td>5</td>\n",
       "    </tr>\n",
       "    <tr>\n",
       "      <th>24</th>\n",
       "      <td>chansonnier</td>\n",
       "      <td>4</td>\n",
       "    </tr>\n",
       "    <tr>\n",
       "      <th>25</th>\n",
       "      <td>avocat ou avocate</td>\n",
       "      <td>4</td>\n",
       "    </tr>\n",
       "    <tr>\n",
       "      <th>26</th>\n",
       "      <td>haut fonctionnaire</td>\n",
       "      <td>4</td>\n",
       "    </tr>\n",
       "    <tr>\n",
       "      <th>27</th>\n",
       "      <td>bijoutier</td>\n",
       "      <td>4</td>\n",
       "    </tr>\n",
       "    <tr>\n",
       "      <th>28</th>\n",
       "      <td>militant ou militante</td>\n",
       "      <td>4</td>\n",
       "    </tr>\n",
       "    <tr>\n",
       "      <th>29</th>\n",
       "      <td>soldat</td>\n",
       "      <td>4</td>\n",
       "    </tr>\n",
       "    <tr>\n",
       "      <th>30</th>\n",
       "      <td>ingénieur</td>\n",
       "      <td>4</td>\n",
       "    </tr>\n",
       "    <tr>\n",
       "      <th>31</th>\n",
       "      <td>ouvriers</td>\n",
       "      <td>3</td>\n",
       "    </tr>\n",
       "    <tr>\n",
       "      <th>32</th>\n",
       "      <td>ambulancier</td>\n",
       "      <td>3</td>\n",
       "    </tr>\n",
       "    <tr>\n",
       "      <th>33</th>\n",
       "      <td>comptable</td>\n",
       "      <td>3</td>\n",
       "    </tr>\n",
       "    <tr>\n",
       "      <th>34</th>\n",
       "      <td>relieur</td>\n",
       "      <td>3</td>\n",
       "    </tr>\n",
       "    <tr>\n",
       "      <th>35</th>\n",
       "      <td>tailleur de pierre</td>\n",
       "      <td>3</td>\n",
       "    </tr>\n",
       "    <tr>\n",
       "      <th>36</th>\n",
       "      <td>philosophe</td>\n",
       "      <td>3</td>\n",
       "    </tr>\n",
       "    <tr>\n",
       "      <th>37</th>\n",
       "      <td>journalier</td>\n",
       "      <td>3</td>\n",
       "    </tr>\n",
       "    <tr>\n",
       "      <th>38</th>\n",
       "      <td>clerc d'avoué</td>\n",
       "      <td>3</td>\n",
       "    </tr>\n",
       "    <tr>\n",
       "      <th>39</th>\n",
       "      <td>éditeur ou éditrice</td>\n",
       "      <td>3</td>\n",
       "    </tr>\n",
       "    <tr>\n",
       "      <th>40</th>\n",
       "      <td>architecte</td>\n",
       "      <td>3</td>\n",
       "    </tr>\n",
       "    <tr>\n",
       "      <th>41</th>\n",
       "      <td>photographe</td>\n",
       "      <td>3</td>\n",
       "    </tr>\n",
       "    <tr>\n",
       "      <th>42</th>\n",
       "      <td>inventeur</td>\n",
       "      <td>3</td>\n",
       "    </tr>\n",
       "    <tr>\n",
       "      <th>43</th>\n",
       "      <td>historien ou historienne</td>\n",
       "      <td>3</td>\n",
       "    </tr>\n",
       "    <tr>\n",
       "      <th>44</th>\n",
       "      <td>typographe</td>\n",
       "      <td>3</td>\n",
       "    </tr>\n",
       "    <tr>\n",
       "      <th>45</th>\n",
       "      <td>menuisier</td>\n",
       "      <td>2</td>\n",
       "    </tr>\n",
       "    <tr>\n",
       "      <th>46</th>\n",
       "      <td>instituteur ou institutrice</td>\n",
       "      <td>2</td>\n",
       "    </tr>\n",
       "    <tr>\n",
       "      <th>47</th>\n",
       "      <td>lingère</td>\n",
       "      <td>2</td>\n",
       "    </tr>\n",
       "    <tr>\n",
       "      <th>48</th>\n",
       "      <td>traducteur</td>\n",
       "      <td>2</td>\n",
       "    </tr>\n",
       "    <tr>\n",
       "      <th>49</th>\n",
       "      <td>paramédic</td>\n",
       "      <td>2</td>\n",
       "    </tr>\n",
       "    <tr>\n",
       "      <th>50</th>\n",
       "      <td>caricaturiste</td>\n",
       "      <td>2</td>\n",
       "    </tr>\n",
       "    <tr>\n",
       "      <th>51</th>\n",
       "      <td>mémorialiste</td>\n",
       "      <td>2</td>\n",
       "    </tr>\n",
       "    <tr>\n",
       "      <th>52</th>\n",
       "      <td>précepteur</td>\n",
       "      <td>2</td>\n",
       "    </tr>\n",
       "    <tr>\n",
       "      <th>53</th>\n",
       "      <td>chapelier</td>\n",
       "      <td>2</td>\n",
       "    </tr>\n",
       "    <tr>\n",
       "      <th>54</th>\n",
       "      <td>mathématicien ou mathématicienne</td>\n",
       "      <td>2</td>\n",
       "    </tr>\n",
       "    <tr>\n",
       "      <th>55</th>\n",
       "      <td>publiciste</td>\n",
       "      <td>2</td>\n",
       "    </tr>\n",
       "    <tr>\n",
       "      <th>56</th>\n",
       "      <td>illustrateur ou illustratrice</td>\n",
       "      <td>2</td>\n",
       "    </tr>\n",
       "    <tr>\n",
       "      <th>57</th>\n",
       "      <td>auteur ou autrice de littérature pour la jeunesse</td>\n",
       "      <td>2</td>\n",
       "    </tr>\n",
       "    <tr>\n",
       "      <th>58</th>\n",
       "      <td>passementier ou passementière</td>\n",
       "      <td>2</td>\n",
       "    </tr>\n",
       "    <tr>\n",
       "      <th>59</th>\n",
       "      <td>archéologue</td>\n",
       "      <td>2</td>\n",
       "    </tr>\n",
       "    <tr>\n",
       "      <th>60</th>\n",
       "      <td>graveur ou graveuse</td>\n",
       "      <td>2</td>\n",
       "    </tr>\n",
       "    <tr>\n",
       "      <th>61</th>\n",
       "      <td>rentier</td>\n",
       "      <td>2</td>\n",
       "    </tr>\n",
       "    <tr>\n",
       "      <th>62</th>\n",
       "      <td>mécanicien</td>\n",
       "      <td>2</td>\n",
       "    </tr>\n",
       "    <tr>\n",
       "      <th>63</th>\n",
       "      <td>piqueuse</td>\n",
       "      <td>2</td>\n",
       "    </tr>\n",
       "    <tr>\n",
       "      <th>64</th>\n",
       "      <td>tailleur</td>\n",
       "      <td>2</td>\n",
       "    </tr>\n",
       "  </tbody>\n",
       "</table>"
      ],
      "text/plain": [
       "<IPython.core.display.HTML object>"
      ]
     },
     "execution_count": 152,
     "metadata": {},
     "output_type": "execute_result"
    }
   ],
   "source": [
    "#HTML('<style> table{color: red;} </style>')\n",
    "HTML(df_data_plusieurs.to_html())"
   ]
  },
  {
   "cell_type": "markdown",
   "metadata": {},
   "source": [
    "##### Occupations avec une seule personne "
   ]
  },
  {
   "cell_type": "code",
   "execution_count": 127,
   "metadata": {},
   "outputs": [],
   "source": [
    "df_data_unique = df_data[df_data['count'] == 1]"
   ]
  },
  {
   "cell_type": "code",
   "execution_count": 126,
   "metadata": {},
   "outputs": [
    {
     "data": {
      "text/plain": [
       "\"Les métiers occupés par une seule personnes sont : artisan, Maçons de la Creuse, marchand ou marchande d'art, collectionneur ou collectionneuse, imprimeur, critique dramatique, orfèvre, collectionneur ou collectionneuse d'œuvres d'art, conseiller de rédaction, ingénieur des mines, bronzier ou bronzière, maçon, fonctionnaire, aide de camp, infirmière ou infirmier, autobiographe, auteur-compositeur-interprète, commerçant, vétérinaire, allumeur de réverbères, lingier, métreur, artilleur, cheminot, coloriste, vannier, vendeur ou vendeuse, peintre sur porcelaine, cartographe, artiste lyrique, gouvernante, directeur de prison, salarié, serrurier ou serrurière, aérostier, clerc de notaire, homme de lettres, écrivain ou écrivaine de science-fiction, aventurier ou aventurière, acteur ou actrice, fondeur ou fondeuse, professeur des écoles, entrepreneur en bâtiment, salonnier ou salonnière, parfumeur, professeur ou professeure d'université, physicien ou physicienne, verrier, fabricante de casquette, producteur, entraîneur de boxe, boxeur, maître d'armes, chaudronnier, chimiste, militant ou militante politique, entrepreneur ou entrepreneuse, caissier de banque, correcteur, corsetier, personnalité du monde des affaires, coutelier, restaurateur, maître d'école, directeur ou directrice d'école, franc-tireur, géographe, universitaire, fabricant de pipes en terre, commissaire-priseur, pharmacien, anthropologue, sociologue, marin, cartonnier, Brocheuse, conseiller municipal, artiste graphique, artiste, Chamarreuse, intellectuel, astronome, charpentier, assureur, rebelle, professeur ou professeure, prostitué ou prostituée, tabletier, cuisinier ou cuisinière, pamphlétaire, pédagogue, femme de lettres, maroquinier.\""
      ]
     },
     "execution_count": 126,
     "metadata": {},
     "output_type": "execute_result"
    }
   ],
   "source": [
    "list_metiers_uniques = df_data_unique['qLabel.value'].tolist()\n",
    "str_liste_metier = f\"Les métiers occupés par une seule personnes sont : {', '.join(list_metiers_uniques)}.\"\n",
    "str_liste_metier"
   ]
  },
  {
   "cell_type": "markdown",
   "metadata": {
    "hideCode": false,
    "hidePrompt": false
   },
   "source": [
    "#### Quel âge avait ces personnes en 1871"
   ]
  },
  {
   "cell_type": "markdown",
   "metadata": {
    "hideCode": false,
    "hidePrompt": false
   },
   "source": [
    "```\n",
    "#defaultView:AreaChart\n",
    "SELECT \n",
    "  ?age_on_march_18th (COUNT(?communard) AS ?count_persons)\n",
    "WHERE {\n",
    "  ?communard wdt:P106 wd:Q1780490;\n",
    "             wdt:P569 ?birth_date.\n",
    "  BIND (YEAR(\"1871-03-18\"^^xsd:date) - YEAR(?birth_date) AS ?age_on_march_18th)\n",
    "  FILTER(?age_on_march_18th > 5)\n",
    "}\n",
    "GROUP BY ?age_on_march_18th\n",
    "```"
   ]
  },
  {
   "cell_type": "code",
   "execution_count": null,
   "metadata": {
    "hideCode": false,
    "hidePrompt": false
   },
   "outputs": [],
   "source": [
    "%%HTML\n",
    "<iframe style=\"width: 95%; height: 50vh; border: none;\" \n",
    "src=\"https://query.wikidata.org/embed.html#%23defaultView%3AAreaChart%0ASELECT%20%0A%20%20%3Fage_on_march_18th%20(COUNT(%3Fcommunard)%20AS%20%3Fcount_persons)%0AWHERE%20%7B%0A%20%20%3Fcommunard%20wdt%3AP106%20wd%3AQ1780490%3B%0A%20%20%20%20%20%20%20%20%20%20%20%20%20wdt%3AP569%20%3Fbirth_date.%0A%20%20BIND%20(YEAR(%221871-03-18%22%5E%5Exsd%3Adate)%20-%20YEAR(%3Fbirth_date)%20AS%20%3Fage_on_march_18th)%0A%20%20FILTER(%3Fage_on_march_18th%20%3E%205)%0A%7D%0AGROUP%20BY%20%3Fage_on_march_18th%0A\" \n",
    "referrerpolicy=\"origin\" sandbox=\"allow-scripts allow-same-origin allow-popups\">\n",
    "</iframe>\n"
   ]
  },
  {
   "cell_type": "markdown",
   "metadata": {},
   "source": [
    "#### Une Commune internationale"
   ]
  },
  {
   "cell_type": "markdown",
   "metadata": {},
   "source": [
    "> pays de citoyenneté (P27)\n",
    "État dont la personne possède la nationalité\n",
    "\n",
    "Toute les personne n'ont pas le champs remplit."
   ]
  },
  {
   "cell_type": "markdown",
   "metadata": {},
   "source": [
    "```\n",
    "SELECT ?pays_de_citoyenneté ?pays_de_citoyennetéLabel (count(?pays_de_citoyenneté) as ?nb) WHERE {\n",
    "  SERVICE wikibase:label { bd:serviceParam wikibase:language \"[AUTO_LANGUAGE],en\". }\n",
    "  ?communard_ou_communarde wdt:P106 wd:Q1780490.\n",
    "  OPTIONAL { ?communard_ou_communarde wdt:P27 ?pays_de_citoyenneté. }\n",
    "}\n",
    "group by ?pays_de_citoyenneté ?pays_de_citoyennetéLabel\n",
    "order by desc(?nb)\n",
    "```"
   ]
  },
  {
   "cell_type": "code",
   "execution_count": null,
   "metadata": {},
   "outputs": [],
   "source": [
    "%%HTML\n",
    "<iframe style=\"width: 95%; height: 50vh; border: none;\" \n",
    "src=\"https://query.wikidata.org/embed.html#SELECT%20%3Fpays_de_citoyennet%C3%A9%20%3Fpays_de_citoyennet%C3%A9Label%20(count(%3Fpays_de_citoyennet%C3%A9)%20as%20%3Fnb)%20WHERE%20%7B%0A%20%20SERVICE%20wikibase%3Alabel%20%7B%20bd%3AserviceParam%20wikibase%3Alanguage%20%22%5BAUTO_LANGUAGE%5D%2Cen%22.%20%7D%0A%20%20%3Fcommunard_ou_communarde%20wdt%3AP106%20wd%3AQ1780490.%0A%20%20OPTIONAL%20%7B%20%3Fcommunard_ou_communarde%20wdt%3AP27%20%3Fpays_de_citoyennet%C3%A9.%20%7D%0A%7D%0A%0Agroup%20by%20%3Fpays_de_citoyennet%C3%A9%20%3Fpays_de_citoyennet%C3%A9Label%0Aorder%20by%20desc(%3Fnb)\" \n",
    "referrerpolicy=\"origin\" sandbox=\"allow-scripts allow-same-origin allow-popups\">\n",
    "</iframe>"
   ]
  },
  {
   "cell_type": "markdown",
   "metadata": {
    "hideCode": false,
    "hidePrompt": false
   },
   "source": [
    "### Relations entre communard·e·s"
   ]
  },
  {
   "cell_type": "markdown",
   "metadata": {},
   "source": [
    "### Partenaires de vie"
   ]
  },
  {
   "cell_type": "markdown",
   "metadata": {},
   "source": [
    "#### Communard·e·s et leur conjoint·e ou partenaire de vie "
   ]
  },
  {
   "cell_type": "markdown",
   "metadata": {},
   "source": [
    "```\n",
    "SELECT ?communard_ou_communarde ?communard_ou_communardeLabel ?vie_avec ?vie_avecLabel WHERE {\n",
    "  SERVICE wikibase:label { bd:serviceParam wikibase:language \"[AUTO_LANGUAGE],en\". }\n",
    "  ?communard_ou_communarde wdt:P106 wd:Q1780490;\n",
    "                           wdt:P26|wdt:P451 ?vie_avec.\n",
    "}\n",
    "```"
   ]
  },
  {
   "cell_type": "code",
   "execution_count": null,
   "metadata": {},
   "outputs": [],
   "source": [
    "%%HTML\n",
    "<iframe style=\"width: 95%; height: 50vh; border: none;\" \n",
    "src=\"https://query.wikidata.org/embed.html#SELECT%20%3Fcommunard_ou_communarde%20%3Fcommunard_ou_communardeLabel%20%3Fvie_avec%20%3Fvie_avecLabel%20WHERE%20%7B%0A%20%20SERVICE%20wikibase%3Alabel%20%7B%20bd%3AserviceParam%20wikibase%3Alanguage%20%22%5BAUTO_LANGUAGE%5D%2Cen%22.%20%7D%0A%20%20%3Fcommunard_ou_communarde%20wdt%3AP106%20wd%3AQ1780490%3B%0A%20%20%20%20%20%20%20%20%20%20%20%20%20%20%20%20%20%20%20%20%20%20%20%20%20%20%20wdt%3AP26%7Cwdt%3AP451%20%3Fvie_avec.%0A%7D%0A\" \n",
    "referrerpolicy=\"origin\" sandbox=\"allow-scripts allow-same-origin allow-popups\">\n",
    "</iframe>"
   ]
  },
  {
   "cell_type": "markdown",
   "metadata": {},
   "source": [
    "#### Communard·e·s vivant avec un·e autre communard·e·s"
   ]
  },
  {
   "cell_type": "markdown",
   "metadata": {},
   "source": [
    "```\n",
    "SELECT ?communard_ou_communarde ?communard_ou_communardeLabel ?vie_avec ?vie_avecLabel WHERE {\n",
    "  SERVICE wikibase:label { bd:serviceParam wikibase:language \"[AUTO_LANGUAGE],en\". }\n",
    "  ?communard_ou_communarde wdt:P106 wd:Q1780490;\n",
    "                           wdt:P26|wdt:P451 ?vie_avec.\n",
    "  ?vie_avec wdt:P106 wd:Q1780490.\n",
    "}\n",
    "```"
   ]
  },
  {
   "cell_type": "code",
   "execution_count": null,
   "metadata": {},
   "outputs": [],
   "source": [
    "%%HTML\n",
    "<iframe style=\"width: 95%; height: 50vh; border: none;\" \n",
    "src=\"https://query.wikidata.org/embed.html#SELECT%20%3Fcommunard_ou_communarde%20%3Fcommunard_ou_communardeLabel%20%3Fvie_avec%20%3Fvie_avecLabel%20WHERE%20%7B%0A%20%20SERVICE%20wikibase%3Alabel%20%7B%20bd%3AserviceParam%20wikibase%3Alanguage%20%22%5BAUTO_LANGUAGE%5D%2Cen%22.%20%7D%0A%20%20%3Fcommunard_ou_communarde%20wdt%3AP106%20wd%3AQ1780490%3B%0A%20%20%20%20%20%20%20%20%20%20%20%20%20%20%20%20%20%20%20%20%20%20%20%20%20%20%20wdt%3AP26%7Cwdt%3AP451%20%3Fvie_avec.%0A%20%20%3Fvie_avec%20wdt%3AP106%20wd%3AQ1780490.%0A%7D%0A\" \n",
    "referrerpolicy=\"origin\" sandbox=\"allow-scripts allow-same-origin allow-popups\">\n",
    "</iframe>"
   ]
  },
  {
   "cell_type": "markdown",
   "metadata": {},
   "source": [
    "#### Communard·e·s dont le nombre de partenaire est supérieur à 1"
   ]
  },
  {
   "cell_type": "markdown",
   "metadata": {},
   "source": [
    "Entre la reconnaissance du divorce par la Commune, la durée de vie de certaines personnes... Certaines personnes ont pu vivre avec plusieurs personnes."
   ]
  },
  {
   "cell_type": "markdown",
   "metadata": {},
   "source": [
    "```\n",
    "SELECT ?communard_ou_communarde ?communard_ou_communardeLabel (count(?vie_avec)as ?nb_de_partenaire) WHERE {\n",
    "  SERVICE wikibase:label { bd:serviceParam wikibase:language \"[AUTO_LANGUAGE],en\". }\n",
    "  ?communard_ou_communarde wdt:P106 wd:Q1780490;\n",
    "                           wdt:P26|wdt:P451 ?vie_avec. \n",
    "}\n",
    "group by ?communard_ou_communarde ?communard_ou_communardeLabel\n",
    "HAVING(?nb_de_partenaire >1)\n",
    "```"
   ]
  },
  {
   "cell_type": "code",
   "execution_count": null,
   "metadata": {},
   "outputs": [],
   "source": [
    "%%HTML\n",
    "<iframe style=\"width: 95%; height: 50vh; border: none;\" \n",
    "src=\"https://query.wikidata.org/embed.html#SELECT%20%3Fcommunard_ou_communarde%20%3Fcommunard_ou_communardeLabel%20(count(%3Fvie_avec)as%20%3Fnb_de_partenaire)%20WHERE%20%7B%0A%20%20SERVICE%20wikibase%3Alabel%20%7B%20bd%3AserviceParam%20wikibase%3Alanguage%20%22%5BAUTO_LANGUAGE%5D%2Cen%22.%20%7D%0A%20%20%3Fcommunard_ou_communarde%20wdt%3AP106%20wd%3AQ1780490%3B%0A%20%20%20%20%20%20%20%20%20%20%20%20%20%20%20%20%20%20%20%20%20%20%20%20%20%20%20wdt%3AP26%7Cwdt%3AP451%20%3Fvie_avec.%0A%0A%20%20%0A%7D%0Agroup%20by%20%3Fcommunard_ou_communarde%20%3Fcommunard_ou_communardeLabel%0AHAVING(%3Fnb_de_partenaire%20%3E1)\" \n",
    "referrerpolicy=\"origin\" sandbox=\"allow-scripts allow-same-origin allow-popups\">\n",
    "</iframe>"
   ]
  },
  {
   "cell_type": "markdown",
   "metadata": {},
   "source": [
    "Au 6 mai 2023 il y a :\n",
    "- 50 couples\n",
    "- 27 couples de communard·e·s\n",
    "- 4 personnes ayant vécues avec au moins 2 autres personnes distinctes"
   ]
  },
  {
   "cell_type": "markdown",
   "metadata": {
    "hideCode": false,
    "hidePrompt": false
   },
   "source": [
    "### Généalogie"
   ]
  },
  {
   "cell_type": "markdown",
   "metadata": {},
   "source": [
    "#### Communard·e·s et leurs enfants"
   ]
  },
  {
   "cell_type": "markdown",
   "metadata": {},
   "source": [
    "```\n",
    "SELECT ?communard ?communardLabel ?enfant ?enfantLabel\n",
    "WHERE {\n",
    "SERVICE wikibase:label { bd:serviceParam wikibase:language \"[AUTO_LANGUAGE],en\". }\n",
    "\n",
    "  ?communard wdt:P106 wd:Q1780490;\n",
    "              wdt:P40 ?enfant.\n",
    "}\n",
    "```"
   ]
  },
  {
   "cell_type": "code",
   "execution_count": null,
   "metadata": {},
   "outputs": [],
   "source": [
    "%%HTML\n",
    "<iframe style=\"width: 95%; height: 50vh; border: none;\" \n",
    "src=\"https://query.wikidata.org/embed.html#SELECT%20%3Fcommunard%20%3FcommunardLabel%20%3Fenfant%20%3FenfantLabel%0AWHERE%20%7B%0ASERVICE%20wikibase%3Alabel%20%7B%20bd%3AserviceParam%20wikibase%3Alanguage%20%22%5BAUTO_LANGUAGE%5D%2Cen%22.%20%7D%0A%0A%20%20%3Fcommunard%20wdt%3AP106%20wd%3AQ1780490%3B%0A%20%20%20%20%20%20%20%20%20%20%20%20%20%20wdt%3AP40%20%3Fenfant.%0A%7D\" \n",
    "referrerpolicy=\"origin\" sandbox=\"allow-scripts allow-same-origin allow-popups\">\n",
    "</iframe>"
   ]
  },
  {
   "cell_type": "markdown",
   "metadata": {},
   "source": [
    "#### Communard·e·s dont les enfants sont communard·e·s"
   ]
  },
  {
   "cell_type": "markdown",
   "metadata": {},
   "source": [
    "```\n",
    "SELECT ?communard ?communardLabel ?enfant ?enfantLabel\n",
    "WHERE {\n",
    "SERVICE wikibase:label { bd:serviceParam wikibase:language \"[AUTO_LANGUAGE],en\". }\n",
    "\n",
    "  ?communard wdt:P106 wd:Q1780490;\n",
    "              wdt:P40 ?enfant.\n",
    "  ?enfant wdt:P106 wd:Q1780490.\n",
    "}\n",
    "```"
   ]
  },
  {
   "cell_type": "code",
   "execution_count": null,
   "metadata": {},
   "outputs": [],
   "source": [
    "%%HTML\n",
    "<iframe style=\"width: 95%; height: 50vh; border: none;\" \n",
    "src=\"https://query.wikidata.org/embed.html#SELECT%20%3Fcommunard%20%3FcommunardLabel%20%3Fenfant%20%3FenfantLabel%0AWHERE%20%7B%0ASERVICE%20wikibase%3Alabel%20%7B%20bd%3AserviceParam%20wikibase%3Alanguage%20%22%5BAUTO_LANGUAGE%5D%2Cen%22.%20%7D%0A%0A%20%20%3Fcommunard%20wdt%3AP106%20wd%3AQ1780490%3B%0A%20%20%20%20%20%20%20%20%20%20%20%20%20%20wdt%3AP40%20%3Fenfant.%0A%20%20%3Fenfant%20wdt%3AP106%20wd%3AQ1780490.%0A%7D\" \n",
    "referrerpolicy=\"origin\" sandbox=\"allow-scripts allow-same-origin allow-popups\">\n",
    "</iframe>"
   ]
  },
  {
   "cell_type": "markdown",
   "metadata": {},
   "source": [
    "#### Mini-arbres généalogiques parent(s)-> communard·e -> enfant(s)"
   ]
  },
  {
   "cell_type": "markdown",
   "metadata": {},
   "source": [
    "```\n",
    "#defaultView:Graph\n",
    "SELECT ?parent ?parentLabel ?communard ?communardLabel ?enfant ?enfantLabel WHERE {\n",
    "SERVICE wikibase:label { bd:serviceParam wikibase:language \"[AUTO_LANGUAGE],en\". \n",
    "                         ?parent rdfs:label ?parentLabel.\n",
    "                         ?enfant rdfs:label ?enfantLabel.\n",
    "                         ?communard rdfs:label ?communardLabel }\n",
    "  \n",
    "  ?communard wdt:P106 wd:Q1780490.\n",
    "  Optional {?parent wdt:P40 ?communard.}\n",
    "  Optional {?communard wdt:P40 ?enfant.}\n",
    "  \n",
    "  filter(?parentLabel != \"\" || ?enfantLabel != \"\")\n",
    "}\n",
    "```"
   ]
  },
  {
   "cell_type": "code",
   "execution_count": null,
   "metadata": {},
   "outputs": [],
   "source": [
    "%%HTML\n",
    "<iframe style=\"width: 95%; height: 50vh; border: none;\" \n",
    "src=\"https://query.wikidata.org/embed.html#%23defaultView%3AGraph%0ASELECT%20%3Fparent%20%3FparentLabel%20%3Fcommunard%20%3FcommunardLabel%20%3Fenfant%20%3FenfantLabel%20WHERE%20%7B%0ASERVICE%20wikibase%3Alabel%20%7B%20bd%3AserviceParam%20wikibase%3Alanguage%20%22%5BAUTO_LANGUAGE%5D%2Cen%22.%20%0A%20%20%20%20%20%20%20%20%20%20%20%20%20%20%20%20%20%20%20%20%20%20%20%20%20%3Fparent%20rdfs%3Alabel%20%3FparentLabel.%0A%20%20%20%20%20%20%20%20%20%20%20%20%20%20%20%20%20%20%20%20%20%20%20%20%20%3Fenfant%20rdfs%3Alabel%20%3FenfantLabel.%0A%20%20%20%20%20%20%20%20%20%20%20%20%20%20%20%20%20%20%20%20%20%20%20%20%20%3Fcommunard%20rdfs%3Alabel%20%3FcommunardLabel%20%7D%0A%20%20%0A%20%20%3Fcommunard%20wdt%3AP106%20wd%3AQ1780490.%0A%20%20Optional%20%7B%3Fparent%20wdt%3AP40%20%3Fcommunard.%7D%0A%20%20Optional%20%7B%3Fcommunard%20wdt%3AP40%20%3Fenfant.%7D%0A%20%20%0A%20%20filter(%3FparentLabel%20!%3D%20%22%22%20%7C%7C%20%3FenfantLabel%20!%3D%20%22%22)%0A%7D%0A\" \n",
    "referrerpolicy=\"origin\" sandbox=\"allow-scripts allow-same-origin allow-popups\">\n",
    "</iframe>"
   ]
  },
  {
   "cell_type": "markdown",
   "metadata": {},
   "source": [
    "#### entitree"
   ]
  },
  {
   "cell_type": "markdown",
   "metadata": {},
   "source": [
    "Entitree est un outil de visualisation des données, notaments des arbres généalogiques.\n",
    "\n",
    "On peut regarder par exemple ceux d'<a herf=\"https://www.entitree.com/fr/family_tree/Herminie_Cadolle?0d0=d\">Herminie Cadolle</a> dont le petit fils est champion cycliste, ou celui de Charles Longuet.\n",
    "\n",
    "https://www.entitree.com/fr/family_tree/Herminie_Cadolle?0d0=d\n",
    "\n",
    "\n",
    "https://www.entitree.com/fr/arbre_g%C3%A9n%C3%A9alogique/Charles_Longuet?0d0=d&0d0d1=dr&0d1=dr&0d2=d&0d1d2=d"
   ]
  },
  {
   "cell_type": "markdown",
   "metadata": {
    "hideCode": false,
    "hidePrompt": false
   },
   "source": [
    "### Reseau social des communard·e·s sur wikidata"
   ]
  },
  {
   "cell_type": "markdown",
   "metadata": {
    "hideCode": false,
    "hidePrompt": false
   },
   "source": [
    "#### Graph des communard·e·s et des organismes dont als sont membres"
   ]
  },
  {
   "cell_type": "markdown",
   "metadata": {
    "hideCode": false,
    "hidePrompt": false
   },
   "source": [
    "membre de P463"
   ]
  },
  {
   "cell_type": "markdown",
   "metadata": {
    "hideCode": false,
    "hidePrompt": false
   },
   "source": [
    "```\n",
    "#defaultView:Graph\n",
    "SELECT ?communard_ou_communarde ?communard_ou_communardeLabel ?membre_de ?membre_deLabel WHERE {\n",
    "  SERVICE wikibase:label { bd:serviceParam wikibase:language \"[AUTO_LANGUAGE],en\". }\n",
    "  ?communard_ou_communarde wdt:P106 wd:Q1780490;\n",
    "                           wdt:P463 ?membre_de.\n",
    "}\n",
    "````"
   ]
  },
  {
   "cell_type": "code",
   "execution_count": null,
   "metadata": {
    "hideCode": false,
    "hidePrompt": false
   },
   "outputs": [],
   "source": [
    "%%HTML\n",
    "<iframe style=\"width: 95%; height: 50vh; border: none;\" \n",
    "src=\"https://query.wikidata.org/embed.html#%23defaultView%3AGraph%0ASELECT%20%3Fcommunard_ou_communarde%20%3Fcommunard_ou_communardeLabel%20%3Fmembre_de%20%3Fmembre_deLabel%20WHERE%20%7B%0A%20%20SERVICE%20wikibase%3Alabel%20%7B%20bd%3AserviceParam%20wikibase%3Alanguage%20%22%5BAUTO_LANGUAGE%5D%2Cen%22.%20%7D%0A%20%20%3Fcommunard_ou_communarde%20wdt%3AP106%20wd%3AQ1780490%3B%0A%20%20%20%20%20%20%20%20%20%20%20%20%20%20%20%20%20%20%20%20%20%20%20%20%20%20%20wdt%3AP463%20%3Fmembre_de.%0A%7D%0A\" \n",
    "referrerpolicy=\"origin\" sandbox=\"allow-scripts allow-same-origin allow-popups\">\n",
    "</iframe>"
   ]
  },
  {
   "cell_type": "markdown",
   "metadata": {
    "hideCode": false,
    "hidePrompt": false
   },
   "source": [
    "#### nombre par organisme"
   ]
  },
  {
   "cell_type": "markdown",
   "metadata": {
    "hideCode": false,
    "hidePrompt": false
   },
   "source": [
    "```\n",
    "SELECT ?membre_de ?membre_deLabel (count(?membre_deLabel) as ?nombre_de_membre) WHERE {\n",
    "  SERVICE wikibase:label { bd:serviceParam wikibase:language \"[AUTO_LANGUAGE],en\". }\n",
    "  ?communard_ou_communarde wdt:P106 wd:Q1780490;\n",
    "                           wdt:P463 ?membre_de.\n",
    "  optional {?membre_de wdt:P18 ?image.}\n",
    "}\n",
    "\n",
    "group by ?membre_de ?membre_deLabel\n",
    "order by desc(?nombre_de_membre)\n",
    "```"
   ]
  },
  {
   "cell_type": "code",
   "execution_count": null,
   "metadata": {
    "hideCode": false,
    "hidePrompt": false
   },
   "outputs": [],
   "source": [
    "%%HTML\n",
    "<iframe style=\"width: 95%; height: 50vh; border: none;\" \n",
    "src=\"https://query.wikidata.org/embed.html#SELECT%20%3Fmembre_de%20%3Fmembre_deLabel%20(count(%3Fmembre_deLabel)%20as%20%3Fnombre_de_membre)%20WHERE%20%7B%0A%20%20SERVICE%20wikibase%3Alabel%20%7B%20bd%3AserviceParam%20wikibase%3Alanguage%20%22%5BAUTO_LANGUAGE%5D%2Cen%22.%20%7D%0A%20%20%3Fcommunard_ou_communarde%20wdt%3AP106%20wd%3AQ1780490%3B%0A%20%20%20%20%20%20%20%20%20%20%20%20%20%20%20%20%20%20%20%20%20%20%20%20%20%20%20wdt%3AP463%20%3Fmembre_de.%0A%20%20optional%20%7B%3Fmembre_de%20wdt%3AP18%20%3Fimage.%7D%0A%7D%0A%0Agroup%20by%20%3Fmembre_de%20%3Fmembre_deLabel%0Aorder%20by%20desc(%3Fnombre_de_membre)\" \n",
    "referrerpolicy=\"origin\" sandbox=\"allow-scripts allow-same-origin allow-popups\">\n",
    "</iframe>"
   ]
  },
  {
   "cell_type": "markdown",
   "metadata": {
    "hideCode": false,
    "hidePrompt": false
   },
   "source": [
    "## Les communardes et communards dans des cimetières\n",
    "### Généralités\n",
    "Les communards étant touz* décédæ, c'est notamment dans les cimetières, quand les tombes existent, qu'on peut leur rendre hommage. N'oublions pas que beaucoup sont dans des fossés communes anonymes.\n",
    "\n",
    "En termes de méthode wikidata nous propose la propriété lieu de sépulture (P119). Selon les précisions cela peut être une ville ou un cimetière. Cet élément possède une propriété coordonnées géographiques.\n",
    "\n",
    "Pour certaines personnes, la propriété photo de la sépulture est rempli avec une photo de communs.\n",
    "Pour certaines personnes il existe même un élément pour leur leur tombe. \n",
    "\n",
    "On peut donc connaître le nombre de personnes par cimetière.\n",
    "On peut même les repérer sur un plan.\n",
    "\n",
    "Au 14 janvier seul le cimetière du Montparnasse est \"complet\". Celui du père Lachaise est quasiment finit. Aucun des deux ne prends en compte les monuments collectifs.\n",
    "\n",
    "Pour certain·e·s communard·e·s, le lieu de sépulture (P119) est connu. Pour certain·e·s les coordonnées géographiques de la tombe sont dans wikidata.\n"
   ]
  },
  {
   "cell_type": "markdown",
   "metadata": {
    "hideCode": false,
    "hidePrompt": false
   },
   "source": [
    "> lieu de sépulture (P119)\n",
    "lieu où le corps du sujet est conservé"
   ]
  },
  {
   "cell_type": "markdown",
   "metadata": {
    "hideCode": false,
    "hidePrompt": false
   },
   "source": [
    "### Nombre de personne par cimetière"
   ]
  },
  {
   "cell_type": "markdown",
   "metadata": {
    "hideCode": false,
    "hidePrompt": false
   },
   "source": [
    "```\n",
    "SELECT ?lieu_de_sépulture ?lieu_de_sépultureLabel ?coordonnees (COUNT(*) AS ?count) WHERE {\n",
    "  SERVICE wikibase:label { bd:serviceParam wikibase:language \"fr\". }\n",
    " ?communard_ou_communarde wdt:P106 wd:Q1780490;\n",
    "                           wdt:P119 ?lieu_de_sépulture.\n",
    " ?lieu_de_sépulture wdt:P31/wdt:P279* wd:Q39614;\n",
    "                    wdt:P625 ?coordonnees.\n",
    "}\n",
    "\n",
    "group by ?lieu_de_sépulture ?lieu_de_sépultureLabel ?coordonnees\n",
    "order by desc (?count)\n",
    "```"
   ]
  },
  {
   "cell_type": "markdown",
   "metadata": {},
   "source": [
    "#### En sparql"
   ]
  },
  {
   "cell_type": "code",
   "execution_count": 54,
   "metadata": {
    "hideCode": false,
    "hidePrompt": false
   },
   "outputs": [
    {
     "data": {
      "text/html": [
       "<iframe style=\"width: 95%; height: 50vh; border: none;\" \n",
       "src=\"https://query.wikidata.org/embed.html#SELECT%20%3Flieu_de_s%C3%A9pulture%20%3Flieu_de_s%C3%A9pultureLabel%20%3Fcoordonnees%20(COUNT(*)%20AS%20%3Fcount)%20WHERE%20%7B%0A%20%20SERVICE%20wikibase%3Alabel%20%7B%20bd%3AserviceParam%20wikibase%3Alanguage%20%22%5BAUTO_LANGUAGE%5D%2Cen%22.%20%7D%0A%20%3Fcommunard_ou_communarde%20wdt%3AP106%20wd%3AQ1780490%3B%0A%20%20%20%20%20%20%20%20%20%20%20%20%20%20%20%20%20%20%20%20%20%20%20%20%20%20%20wdt%3AP119%20%3Flieu_de_s%C3%A9pulture.%0A%20%3Flieu_de_s%C3%A9pulture%20wdt%3AP31%2Fwdt%3AP279*%20wd%3AQ39614%3B%0A%20%20%20%20%20%20%20%20%20%20%20%20%20%20%20%20%20%20%20%20wdt%3AP625%20%3Fcoordonnees.%0A%7D%0A%0Agroup%20by%20%3Flieu_de_s%C3%A9pulture%20%3Flieu_de_s%C3%A9pultureLabel%20%3Fcoordonnees%0Aorder%20by%20desc%20(%3Fcount)\" \n",
       "referrerpolicy=\"origin\" sandbox=\"allow-scripts allow-same-origin allow-popups\">\n",
       "</iframe>\n"
      ],
      "text/plain": [
       "<IPython.core.display.HTML object>"
      ]
     },
     "metadata": {},
     "output_type": "display_data"
    }
   ],
   "source": [
    "%%HTML\n",
    "<iframe style=\"width: 95%; height: 50vh; border: none;\" \n",
    "src=\"https://query.wikidata.org/embed.html#SELECT%20%3Flieu_de_s%C3%A9pulture%20%3Flieu_de_s%C3%A9pultureLabel%20%3Fcoordonnees%20(COUNT(*)%20AS%20%3Fcount)%20WHERE%20%7B%0A%20%20SERVICE%20wikibase%3Alabel%20%7B%20bd%3AserviceParam%20wikibase%3Alanguage%20%22%5BAUTO_LANGUAGE%5D%2Cen%22.%20%7D%0A%20%3Fcommunard_ou_communarde%20wdt%3AP106%20wd%3AQ1780490%3B%0A%20%20%20%20%20%20%20%20%20%20%20%20%20%20%20%20%20%20%20%20%20%20%20%20%20%20%20wdt%3AP119%20%3Flieu_de_s%C3%A9pulture.%0A%20%3Flieu_de_s%C3%A9pulture%20wdt%3AP31%2Fwdt%3AP279*%20wd%3AQ39614%3B%0A%20%20%20%20%20%20%20%20%20%20%20%20%20%20%20%20%20%20%20%20wdt%3AP625%20%3Fcoordonnees.%0A%7D%0A%0Agroup%20by%20%3Flieu_de_s%C3%A9pulture%20%3Flieu_de_s%C3%A9pultureLabel%20%3Fcoordonnees%0Aorder%20by%20desc%20(%3Fcount)\" \n",
    "referrerpolicy=\"origin\" sandbox=\"allow-scripts allow-same-origin allow-popups\">\n",
    "</iframe>"
   ]
  },
  {
   "cell_type": "markdown",
   "metadata": {},
   "source": [
    "On peut afficher la carte avec la localisation des différents lieux"
   ]
  },
  {
   "cell_type": "markdown",
   "metadata": {},
   "source": [
    "#### En python"
   ]
  },
  {
   "cell_type": "code",
   "execution_count": 55,
   "metadata": {},
   "outputs": [],
   "source": [
    "query = \"\"\"SELECT ?lieu_de_sépulture ?lieu_de_sépultureLabel ?coordonnees (COUNT(*) AS ?count) WHERE {\n",
    "  SERVICE wikibase:label { bd:serviceParam wikibase:language \"fr\". }\n",
    " ?communard_ou_communarde wdt:P106 wd:Q1780490;\n",
    "                           wdt:P119 ?lieu_de_sépulture.\n",
    " ?lieu_de_sépulture wdt:P31/wdt:P279* wd:Q39614;\n",
    "                    wdt:P625 ?coordonnees.\n",
    "}\n",
    "\n",
    "group by ?lieu_de_sépulture ?lieu_de_sépultureLabel ?coordonnees\n",
    "order by desc (?count)\n",
    "\"\"\"\n",
    "extraction_lieu_sepulture = Extraction_wikidata(endpoint_url, query)\n",
    "df_lieu_sepulture = extraction_lieu_sepulture.extraire_et_df()"
   ]
  },
  {
   "cell_type": "code",
   "execution_count": 56,
   "metadata": {},
   "outputs": [
    {
     "data": {
      "text/html": [
       "<table border=\"1\" class=\"dataframe\">\n",
       "  <thead>\n",
       "    <tr style=\"text-align: right;\">\n",
       "      <th></th>\n",
       "      <th>lieu_de_sépulture.value</th>\n",
       "      <th>lieu_de_sépultureLabel.value</th>\n",
       "      <th>count.value</th>\n",
       "      <th>coordonnees.value</th>\n",
       "    </tr>\n",
       "  </thead>\n",
       "  <tbody>\n",
       "    <tr>\n",
       "      <th>0</th>\n",
       "      <td>http://www.wikidata.org/entity/Q311</td>\n",
       "      <td>cimetière du Père-Lachaise</td>\n",
       "      <td>41</td>\n",
       "      <td>Point(2.394166666 48.861944444)</td>\n",
       "    </tr>\n",
       "    <tr>\n",
       "      <th>1</th>\n",
       "      <td>http://www.wikidata.org/entity/Q272208</td>\n",
       "      <td>cimetière du Montparnasse</td>\n",
       "      <td>7</td>\n",
       "      <td>Point(2.32833 48.83778)</td>\n",
       "    </tr>\n",
       "    <tr>\n",
       "      <th>2</th>\n",
       "      <td>http://www.wikidata.org/entity/Q2972531</td>\n",
       "      <td>cimetière de Levallois-Perret</td>\n",
       "      <td>2</td>\n",
       "      <td>Point(2.289 48.9)</td>\n",
       "    </tr>\n",
       "    <tr>\n",
       "      <th>3</th>\n",
       "      <td>http://www.wikidata.org/entity/Q2972508</td>\n",
       "      <td>cimetière d'Auteuil</td>\n",
       "      <td>2</td>\n",
       "      <td>Point(2.25944 48.8411)</td>\n",
       "    </tr>\n",
       "    <tr>\n",
       "      <th>4</th>\n",
       "      <td>http://www.wikidata.org/entity/Q746647</td>\n",
       "      <td>cimetière de Montmartre</td>\n",
       "      <td>2</td>\n",
       "      <td>Point(2.330277777 48.887777777)</td>\n",
       "    </tr>\n",
       "    <tr>\n",
       "      <th>5</th>\n",
       "      <td>http://www.wikidata.org/entity/Q2972679</td>\n",
       "      <td>cimetière protestant de Nîmes</td>\n",
       "      <td>1</td>\n",
       "      <td>Point(4.34202 43.8388)</td>\n",
       "    </tr>\n",
       "    <tr>\n",
       "      <th>6</th>\n",
       "      <td>http://www.wikidata.org/entity/Q252312</td>\n",
       "      <td>cimetière du Nord de Solna</td>\n",
       "      <td>1</td>\n",
       "      <td>Point(18.019166666 59.356666666)</td>\n",
       "    </tr>\n",
       "    <tr>\n",
       "      <th>7</th>\n",
       "      <td>http://www.wikidata.org/entity/Q288130</td>\n",
       "      <td>cimetière national de Fiumei út</td>\n",
       "      <td>1</td>\n",
       "      <td>Point(19.090586111 47.495769444)</td>\n",
       "    </tr>\n",
       "    <tr>\n",
       "      <th>8</th>\n",
       "      <td>http://www.wikidata.org/entity/Q16537155</td>\n",
       "      <td>Ancien cimetière catholique romain de Stanisławów</td>\n",
       "      <td>1</td>\n",
       "      <td>Point(24.7166 48.9168)</td>\n",
       "    </tr>\n",
       "    <tr>\n",
       "      <th>9</th>\n",
       "      <td>http://www.wikidata.org/entity/Q16652861</td>\n",
       "      <td>cimetière de Zaeltsovskoye</td>\n",
       "      <td>1</td>\n",
       "      <td>Point(82.880833333 55.097222222)</td>\n",
       "    </tr>\n",
       "    <tr>\n",
       "      <th>10</th>\n",
       "      <td>http://www.wikidata.org/entity/Q779367</td>\n",
       "      <td>cimetière d'Ixelles</td>\n",
       "      <td>1</td>\n",
       "      <td>Point(4.392778 50.815556)</td>\n",
       "    </tr>\n",
       "    <tr>\n",
       "      <th>11</th>\n",
       "      <td>http://www.wikidata.org/entity/Q781858</td>\n",
       "      <td>cimetière de Charonne</td>\n",
       "      <td>1</td>\n",
       "      <td>Point(2.40347 48.8609)</td>\n",
       "    </tr>\n",
       "    <tr>\n",
       "      <th>12</th>\n",
       "      <td>http://www.wikidata.org/entity/Q47528283</td>\n",
       "      <td>cimetière communal d'Ornans</td>\n",
       "      <td>1</td>\n",
       "      <td>Point(6.147487 47.102437)</td>\n",
       "    </tr>\n",
       "    <tr>\n",
       "      <th>13</th>\n",
       "      <td>http://www.wikidata.org/entity/Q83191638</td>\n",
       "      <td>cimetière de Denicé</td>\n",
       "      <td>1</td>\n",
       "      <td>Point(4.64405 46.00142)</td>\n",
       "    </tr>\n",
       "    <tr>\n",
       "      <th>14</th>\n",
       "      <td>http://www.wikidata.org/entity/Q110334415</td>\n",
       "      <td>cimetière de Vierzon (rue Etienne Nivet )</td>\n",
       "      <td>1</td>\n",
       "      <td>Point(2.0743 47.2228)</td>\n",
       "    </tr>\n",
       "    <tr>\n",
       "      <th>15</th>\n",
       "      <td>http://www.wikidata.org/entity/Q15411497</td>\n",
       "      <td>cimetière de la Villette</td>\n",
       "      <td>1</td>\n",
       "      <td>Point(2.38889 48.8846)</td>\n",
       "    </tr>\n",
       "    <tr>\n",
       "      <th>16</th>\n",
       "      <td>http://www.wikidata.org/entity/Q2655037</td>\n",
       "      <td>cimetière des Batignolles</td>\n",
       "      <td>1</td>\n",
       "      <td>Point(2.316666666 48.897777777)</td>\n",
       "    </tr>\n",
       "    <tr>\n",
       "      <th>17</th>\n",
       "      <td>http://www.wikidata.org/entity/Q2972509</td>\n",
       "      <td>cimetière de Bercy</td>\n",
       "      <td>1</td>\n",
       "      <td>Point(2.39764 48.8328)</td>\n",
       "    </tr>\n",
       "    <tr>\n",
       "      <th>18</th>\n",
       "      <td>http://www.wikidata.org/entity/Q372937</td>\n",
       "      <td>cimetière parisien de Saint-Ouen</td>\n",
       "      <td>1</td>\n",
       "      <td>Point(2.3475 48.9075)</td>\n",
       "    </tr>\n",
       "  </tbody>\n",
       "</table>"
      ],
      "text/plain": [
       "<IPython.core.display.HTML object>"
      ]
     },
     "execution_count": 56,
     "metadata": {},
     "output_type": "execute_result"
    }
   ],
   "source": [
    "df_lieu_sepulture = df_lieu_sepulture.loc[:,['lieu_de_sépulture.value', 'lieu_de_sépultureLabel.value', 'count.value', 'coordonnees.value']]\n",
    "HTML(df_lieu_sepulture.to_html())"
   ]
  },
  {
   "cell_type": "markdown",
   "metadata": {},
   "source": [
    "Todo : afficher la carte"
   ]
  },
  {
   "cell_type": "markdown",
   "metadata": {
    "hideCode": false,
    "hidePrompt": false
   },
   "source": [
    "### Cimetière du Montparnasse\n",
    "Cartes des tombes de communard·e·s ou de personnes ayant un lien avec la Commune dans le cimetière du Montparnasse (Q272208).\n"
   ]
  },
  {
   "cell_type": "markdown",
   "metadata": {
    "hideCode": false,
    "hidePrompt": false
   },
   "source": [
    "```\n",
    "#defaultView:Map\n",
    "SELECT Distinct ?tombe ?tombeLabel ?image_Tombe ?coordonnées ?tombe_deLabel ?image_personne WHERE {\n",
    "  SERVICE wikibase:label { bd:serviceParam wikibase:language \"[AUTO_LANGUAGE],en\". }\n",
    "  \n",
    "  #Qui, les communard-e-s et la liste des personnes lors de la cérémonie\n",
    "  ?communard wdt:P106 wd:Q1780490;\n",
    "             wdt:P119 wd:Q272208.\n",
    "  Values ?personnalite {wd:Q313709 \n",
    "                        wd:Q61897268 \n",
    "                        wd:Q5749\n",
    "                        wd:Q1959369\n",
    "                        wd:Q3047711\n",
    "                        wd:Q3022660\n",
    "                        wd:Q551648\n",
    "                        wd:Q704649\n",
    "                        wd:Q2826417\n",
    "                        wd:Q3302715\n",
    "                        wd:Q337628}\n",
    "  #Chercher les tombes du cimetière montparnasse                      \n",
    "  ?tombe wdt:P361 wd:Q272208;\n",
    "         wdt:P547 ?tombe_de.        \n",
    "  #Prendre les tombes voulues\n",
    "  filter (?tombe_de =?communard || ?tombe_de=?personnalite)\n",
    "  \n",
    "  OPTIONAL {?tombe wdt:P18 ?image_Tombe.}\n",
    "  OPTIONAL {?tombe wdt:P625 ?coordonnées.}\n",
    "  OPTIONAL {?tombe_de wdt:P18 ?image_personne.}\n",
    "  \n",
    "}\n",
    "```"
   ]
  },
  {
   "cell_type": "code",
   "execution_count": null,
   "metadata": {
    "hideCode": false,
    "hidePrompt": false
   },
   "outputs": [],
   "source": [
    "%%HTML\n",
    "<iframe style=\"width: 95%; height: 75vh; border: none;\" \n",
    "src=\"https://query.wikidata.org/embed.html#%23defaultView%3AMap%0ASELECT%20Distinct%20%3Ftombe%20%3FtombeLabel%20%3Fimage_Tombe%20%3Fcoordonn%C3%A9es%20%3Ftombe_deLabel%20%3Fimage_personne%20WHERE%20%7B%0A%20%20SERVICE%20wikibase%3Alabel%20%7B%20bd%3AserviceParam%20wikibase%3Alanguage%20%22%5BAUTO_LANGUAGE%5D%2Cen%22.%20%7D%0A%20%20%0A%20%20%23Qui%2C%20les%20communard-e-s%20et%20la%20liste%20des%20personnes%20lors%20de%20la%20c%C3%A9r%C3%A9monie%0A%20%20%3Fcommunard%20wdt%3AP106%20wd%3AQ1780490%3B%0A%20%20%20%20%20%20%20%20%20%20%20%20%20wdt%3AP119%20wd%3AQ272208.%0A%20%20Values%20%3Fpersonnalite%20%7Bwd%3AQ313709%20%0A%20%20%20%20%20%20%20%20%20%20%20%20%20%20%20%20%20%20%20%20%20%20%20%20wd%3AQ61897268%20%0A%20%20%20%20%20%20%20%20%20%20%20%20%20%20%20%20%20%20%20%20%20%20%20%20wd%3AQ5749%0A%20%20%20%20%20%20%20%20%20%20%20%20%20%20%20%20%20%20%20%20%20%20%20%20wd%3AQ1959369%0A%20%20%20%20%20%20%20%20%20%20%20%20%20%20%20%20%20%20%20%20%20%20%20%20wd%3AQ3047711%0A%20%20%20%20%20%20%20%20%20%20%20%20%20%20%20%20%20%20%20%20%20%20%20%20wd%3AQ3022660%0A%20%20%20%20%20%20%20%20%20%20%20%20%20%20%20%20%20%20%20%20%20%20%20%20wd%3AQ551648%0A%20%20%20%20%20%20%20%20%20%20%20%20%20%20%20%20%20%20%20%20%20%20%20%20wd%3AQ704649%0A%20%20%20%20%20%20%20%20%20%20%20%20%20%20%20%20%20%20%20%20%20%20%20%20wd%3AQ2826417%0A%20%20%20%20%20%20%20%20%20%20%20%20%20%20%20%20%20%20%20%20%20%20%20%20wd%3AQ3302715%0A%20%20%20%20%20%20%20%20%20%20%20%20%20%20%20%20%20%20%20%20%20%20%20%20wd%3AQ337628%7D%0A%20%20%23Chercher%20les%20tombes%20du%20cimeti%C3%A8re%20montparnasse%20%20%20%20%20%20%20%20%20%20%20%20%20%20%20%20%20%20%20%20%20%20%0A%20%20%3Ftombe%20wdt%3AP361%20wd%3AQ272208%3B%0A%20%20%20%20%20%20%20%20%20wdt%3AP547%20%3Ftombe_de.%20%20%20%20%20%20%20%20%0A%20%20%23Prendre%20les%20tombes%20voulues%0A%20%20filter%20(%3Ftombe_de%20%3D%3Fcommunard%20%7C%7C%20%3Ftombe_de%3D%3Fpersonnalite)%0A%20%20%0A%20%20OPTIONAL%20%7B%3Ftombe%20wdt%3AP18%20%3Fimage_Tombe.%7D%0A%20%20OPTIONAL%20%7B%3Ftombe%20wdt%3AP625%20%3Fcoordonn%C3%A9es.%7D%0A%20%20OPTIONAL%20%7B%3Ftombe_de%20wdt%3AP18%20%3Fimage_personne.%7D%0A%20%20%0A%7D\" \n",
    "referrerpolicy=\"origin\" \n",
    "sandbox=\"allow-scripts allow-same-origin allow-popups\">\n",
    "</iframe>"
   ]
  },
  {
   "cell_type": "markdown",
   "metadata": {
    "hideCode": false,
    "hidePrompt": false
   },
   "source": [
    "### Cimetière du Père la Chaise\n",
    "Cartes des tombes de communard·e·s ou de personnes ayant un lien avec la Commune dans le cimetière du Père-Lahaise (Q311)."
   ]
  },
  {
   "cell_type": "markdown",
   "metadata": {
    "hideCode": false,
    "hidePrompt": false
   },
   "source": [
    "```\n",
    "#defaultView:Map\n",
    "SELECT Distinct ?tombe ?tombeLabel ?image_Tombe ?coordonnées ?tombe_deLabel ?image_personne WHERE {\n",
    "  SERVICE wikibase:label { bd:serviceParam wikibase:language \"[AUTO_LANGUAGE],en\". }\n",
    "  \n",
    "  #Qui, les communard-e-s\n",
    "  ?communard wdt:P106 wd:Q1780490;\n",
    "             wdt:P119 wd:Q311.\n",
    "\n",
    "  #Chercher les tombes du cimetière montparnasse                      \n",
    "  ?tombe wdt:P276 ?lieu;\n",
    "         wdt:P547 ?tombe_de. \n",
    "  \n",
    "  ?lieu wdt:P361 wd:Q311.\n",
    "        \n",
    "  #Prendre les tombes voulues\n",
    "  filter (?tombe_de =?communard)\n",
    "  \n",
    "  OPTIONAL {?tombe wdt:P18 ?image_Tombe.}\n",
    "  OPTIONAL {?tombe wdt:P625 ?coordonnées.}\n",
    "  OPTIONAL {?tombe_de wdt:P18 ?image_personne.}\n",
    "  \n",
    "}\n",
    "```"
   ]
  },
  {
   "cell_type": "code",
   "execution_count": null,
   "metadata": {
    "hideCode": false,
    "hidePrompt": false,
    "scrolled": false
   },
   "outputs": [],
   "source": [
    "%%HTML\n",
    "<iframe style=\"width: 95%; height: 50vh; border: none;\" \n",
    "src=\"https://query.wikidata.org/embed.html#%23defaultView%3AMap%0ASELECT%20Distinct%20%3Ftombe%20%3FtombeLabel%20%3Fimage_Tombe%20%3Fcoordonn%C3%A9es%20%3Ftombe_deLabel%20%3Fimage_personne%20WHERE%20%7B%0A%20%20SERVICE%20wikibase%3Alabel%20%7B%20bd%3AserviceParam%20wikibase%3Alanguage%20%22%5BAUTO_LANGUAGE%5D%2Cen%22.%20%7D%0A%20%20%0A%20%20%23Qui%2C%20les%20communard-e-s%0A%20%20%3Fcommunard%20wdt%3AP106%20wd%3AQ1780490%3B%0A%20%20%20%20%20%20%20%20%20%20%20%20%20wdt%3AP119%20wd%3AQ311.%0A%0A%20%20%23Chercher%20les%20tombes%20du%20cimeti%C3%A8re%20montparnasse%20%20%20%20%20%20%20%20%20%20%20%20%20%20%20%20%20%20%20%20%20%20%0A%20%20%3Ftombe%20wdt%3AP276%20%3Flieu%3B%0A%20%20%20%20%20%20%20%20%20wdt%3AP547%20%3Ftombe_de.%20%0A%20%20%0A%20%20%3Flieu%20wdt%3AP361%20wd%3AQ311.%0A%20%20%20%20%20%20%20%20%0A%20%20%23Prendre%20les%20tombes%20voulues%0A%20%20filter%20(%3Ftombe_de%20%3D%3Fcommunard)%0A%20%20%0A%20%20OPTIONAL%20%7B%3Ftombe%20wdt%3AP18%20%3Fimage_Tombe.%7D%0A%20%20OPTIONAL%20%7B%3Ftombe%20wdt%3AP625%20%3Fcoordonn%C3%A9es.%7D%0A%20%20OPTIONAL%20%7B%3Ftombe_de%20wdt%3AP18%20%3Fimage_personne.%7D%0A%20%20%0A%7D%0A\"referrerpolicy=\"origin\" \n",
    "sandbox=\"allow-scripts allow-same-origin allow-popups\">\n",
    "</iframe>\n"
   ]
  },
  {
   "cell_type": "markdown",
   "metadata": {
    "hideCode": false,
    "hidePrompt": false
   },
   "source": [
    "## Une chronologie de la Commune"
   ]
  },
  {
   "cell_type": "markdown",
   "metadata": {
    "hideCode": false,
    "hidePrompt": false
   },
   "source": [
    "Pour tous les éléments faisant partie de (P361) la Commune, affiche leurs dates connues.\n",
    "Idem pour les communard·e·s.\n",
    "\n",
    "De ce tableau ou peut faire une frise chronologique."
   ]
  },
  {
   "cell_type": "markdown",
   "metadata": {
    "hideCode": false,
    "hidePrompt": false
   },
   "source": [
    "```\n",
    "SELECT \n",
    "?Commune_de_Paris ?Commune_de_ParisLabel ?date ?date_de_début ?date_de_fin\n",
    "?Communard_ou_communarde ?Communard_ou_communardeLabel ?date_deces\n",
    "WHERE {\n",
    "  SERVICE wikibase:label { bd:serviceParam wikibase:language \"[AUTO_LANGUAGE],en\". }\n",
    "  {\n",
    "    # Partie de la Commune\n",
    "    ?Commune_de_Paris wdt:P361 wd:Q133132.\n",
    "  OPTIONAL { ?Commune_de_Paris wdt:P585 ?date. }\n",
    "  OPTIONAL { ?Commune_de_Paris wdt:P580 ?date_de_début. }\n",
    "  OPTIONAL { ?Commune_de_Paris wdt:P582 ?date_de_fin. }\n",
    "    }\n",
    "  Union\n",
    "  {\n",
    "  # Communard-e-s\n",
    "  ?Communard_ou_communarde wdt:P106 wd:Q1780490;\n",
    "                           wdt:P570 ?date_deces.\n",
    "    FILTER (year(?date_deces)<1872)\n",
    "    }\n",
    "}\n",
    "```"
   ]
  },
  {
   "cell_type": "code",
   "execution_count": null,
   "metadata": {
    "hideCode": false,
    "hidePrompt": false
   },
   "outputs": [],
   "source": [
    "%%HTML\n",
    "<iframe style=\"width: 95%; height: 50vh; border: none;\" \n",
    "src=\"https://query.wikidata.org/embed.html#SELECT%20%0A%3FCommune_de_Paris%20%3FCommune_de_ParisLabel%20%3Fdate%20%3Fdate_de_d%C3%A9but%20%3Fdate_de_fin%0A%3FCommunard_ou_communarde%20%3FCommunard_ou_communardeLabel%20%3Fdate_deces%0AWHERE%20%7B%0A%20%20SERVICE%20wikibase%3Alabel%20%7B%20bd%3AserviceParam%20wikibase%3Alanguage%20%22%5BAUTO_LANGUAGE%5D%2Cen%22.%20%7D%0A%20%20%23%20Partie%20de%20la%20Commune%0A%20%20%7B%0A%20%20%20%20%3FCommune_de_Paris%20wdt%3AP361%20wd%3AQ133132.%0A%20%20OPTIONAL%20%7B%20%3FCommune_de_Paris%20wdt%3AP585%20%3Fdate.%20%7D%0A%20%20OPTIONAL%20%7B%20%3FCommune_de_Paris%20wdt%3AP580%20%3Fdate_de_d%C3%A9but.%20%7D%0A%20%20OPTIONAL%20%7B%20%3FCommune_de_Paris%20wdt%3AP582%20%3Fdate_de_fin.%20%7D%0A%20%20%20%20%7D%0A%20%20Union%0A%20%20%7B%0A%20%20%23%20Communard-e-s%0A%20%20%3FCommunard_ou_communarde%20wdt%3AP106%20wd%3AQ1780490%3B%0A%20%20%20%20%20%20%20%20%20%20%20%20%20%20%20%20%20%20%20%20%20%20%20%20%20%20%20wdt%3AP570%20%3Fdate_deces.%0A%20%20%20%20FILTER%20(year(%3Fdate_deces)%3C1872)%0A%20%20%20%20%7D%0A%7D%0A\" \n",
    "referrerpolicy=\"origin\" sandbox=\"allow-scripts allow-same-origin allow-popups\">\n",
    "</iframe>"
   ]
  },
  {
   "cell_type": "markdown",
   "metadata": {
    "hideCode": false,
    "hidePrompt": false
   },
   "source": [
    "### version étendue\n",
    "avec commune, semaine sanglante, campagne de l'intérieur"
   ]
  },
  {
   "cell_type": "markdown",
   "metadata": {
    "hideCode": false,
    "hidePrompt": false
   },
   "source": [
    "```\n",
    "SELECT distinct\n",
    "?Commune_de_Paris ?Commune_de_ParisLabel ?date ?date_de_début ?date_de_fin ?date_de_publication\n",
    "?Communard_ou_communarde ?Communard_ou_communardeLabel ?date_deces\n",
    "WHERE {\n",
    "  SERVICE wikibase:label { bd:serviceParam wikibase:language \"[AUTO_LANGUAGE],en\". }\n",
    "  values ?periodes {wd:Q133132 #commune de Paris\n",
    "          wd:Q3478362 #semaine sanglante\n",
    "          wd:Q47007501 #campagne de l'intérieur\n",
    "          }\n",
    "          \n",
    "  {\n",
    "    # Partie de la Commune\n",
    "    ?Commune_de_Paris wdt:P361 ?periodes\n",
    "  OPTIONAL { ?Commune_de_Paris wdt:P585 ?date. }\n",
    "  OPTIONAL { ?Commune_de_Paris wdt:P580 ?date_de_début. }\n",
    "  OPTIONAL { ?Commune_de_Paris wdt:P582 ?date_de_fin. }\n",
    "  OPTIONAL { ?Commune_de_Paris wdt:P577 ?date_de_publication.}\n",
    "    }\n",
    "  Union\n",
    "  {\n",
    "  # Communard-e-s\n",
    "  ?Communard_ou_communarde wdt:P106 wd:Q1780490;\n",
    "                           wdt:P570 ?date_deces.\n",
    "    FILTER (year(?date_deces)<1872)\n",
    "    }\n",
    "}\n",
    "```"
   ]
  },
  {
   "cell_type": "code",
   "execution_count": null,
   "metadata": {
    "hideCode": false,
    "hidePrompt": false
   },
   "outputs": [],
   "source": [
    "%%HTML\n",
    "<iframe style=\"width: 95%; height: 50vh; border: none;\" \n",
    "src=\"https://query.wikidata.org/embed.html#SELECT%20distinct%0A%3FCommune_de_Paris%20%3FCommune_de_ParisLabel%20%3Fdate%20%3Fdate_de_d%C3%A9but%20%3Fdate_de_fin%20%3Fdate_de_publication%0A%3FCommunard_ou_communarde%20%3FCommunard_ou_communardeLabel%20%3Fdate_deces%0AWHERE%20%7B%0A%20%20SERVICE%20wikibase%3Alabel%20%7B%20bd%3AserviceParam%20wikibase%3Alanguage%20%22%5BAUTO_LANGUAGE%5D%2Cen%22.%20%7D%0A%20%20values%20%3Fperiodes%20%7Bwd%3AQ133132%20%23commune%20de%20Paris%0A%20%20%20%20%20%20%20%20%20%20wd%3AQ3478362%20%23semaine%20sanglante%0A%20%20%20%20%20%20%20%20%20%20wd%3AQ47007501%20%23campagne%20de%20l'int%C3%A9rieur%0A%20%20%20%20%20%20%20%20%20%20%7D%0A%20%20%20%20%20%20%20%20%20%20%0A%20%20%7B%0A%20%20%20%20%23%20Partie%20de%20la%20Commune%0A%20%20%20%20%3FCommune_de_Paris%20wdt%3AP361%20%3Fperiodes%0A%20%20OPTIONAL%20%7B%20%3FCommune_de_Paris%20wdt%3AP585%20%3Fdate.%20%7D%0A%20%20OPTIONAL%20%7B%20%3FCommune_de_Paris%20wdt%3AP580%20%3Fdate_de_d%C3%A9but.%20%7D%0A%20%20OPTIONAL%20%7B%20%3FCommune_de_Paris%20wdt%3AP582%20%3Fdate_de_fin.%20%7D%0A%20%20OPTIONAL%20%7B%20%3FCommune_de_Paris%20wdt%3AP577%20%3Fdate_de_publication.%7D%0A%20%20%20%20%7D%0A%20%20Union%0A%20%20%7B%0A%20%20%23%20Communard-e-s%0A%20%20%3FCommunard_ou_communarde%20wdt%3AP106%20wd%3AQ1780490%3B%0A%20%20%20%20%20%20%20%20%20%20%20%20%20%20%20%20%20%20%20%20%20%20%20%20%20%20%20wdt%3AP570%20%3Fdate_deces.%0A%20%20%20%20FILTER%20(year(%3Fdate_deces)%3C1872)%0A%20%20%20%20%7D%0A%7D%0A\" \n",
    "referrerpolicy=\"origin\" sandbox=\"allow-scripts allow-same-origin allow-popups\">\n",
    "</iframe>"
   ]
  },
  {
   "cell_type": "markdown",
   "metadata": {
    "hideCode": false,
    "hidePrompt": false
   },
   "source": [
    "## Les affiches"
   ]
  },
  {
   "cell_type": "markdown",
   "metadata": {
    "hideCode": false,
    "hidePrompt": false
   },
   "source": [
    "```\n",
    "SELECT ?affiche ?afficheLabel ?date_de_publication ?image WHERE {\n",
    "  SERVICE wikibase:label { bd:serviceParam wikibase:language \"[AUTO_LANGUAGE],en\". }\n",
    "  ?affiche wdt:P31 wd:Q429785.\n",
    "  {?affiche wdt:P361 wd:Q690489.}\n",
    "  Union {?affiche wdt:P361 wd:Q133132}\n",
    "  OPTIONAL { ?affiche wdt:P577 ?date_de_publication. }\n",
    "  OPTIONAL { ?affiche wdt:P18 ?image. }\n",
    "}\n",
    "```"
   ]
  },
  {
   "cell_type": "code",
   "execution_count": null,
   "metadata": {
    "hideCode": false,
    "hidePrompt": false
   },
   "outputs": [],
   "source": [
    "%%HTML\n",
    "<iframe style=\"width: 95%; height: 50vh; border: none;\" \n",
    "src=\"https://query.wikidata.org/embed.html#SELECT%20%3Faffiche%20%3FafficheLabel%20%3Fdate_de_publication%20%3Fimage%20WHERE%20%7B%0A%20%20SERVICE%20wikibase%3Alabel%20%7B%20bd%3AserviceParam%20wikibase%3Alanguage%20%22%5BAUTO_LANGUAGE%5D%2Cen%22.%20%7D%0A%20%20%3Faffiche%20wdt%3AP31%20wd%3AQ429785.%0A%20%20%7B%3Faffiche%20wdt%3AP361%20wd%3AQ690489.%7D%0A%20%20Union%20%7B%3Faffiche%20wdt%3AP361%20wd%3AQ133132%7D%0A%20%20OPTIONAL%20%7B%20%3Faffiche%20wdt%3AP577%20%3Fdate_de_publication.%20%7D%0A%20%20OPTIONAL%20%7B%20%3Faffiche%20wdt%3AP18%20%3Fimage.%20%7D%0A%7D%0A\" \n",
    "referrerpolicy=\"origin\" sandbox=\"allow-scripts allow-same-origin allow-popups\">\n",
    "</iframe>"
   ]
  },
  {
   "cell_type": "markdown",
   "metadata": {
    "hideCode": false,
    "hidePrompt": false
   },
   "source": [
    "## Les barricades"
   ]
  },
  {
   "cell_type": "markdown",
   "metadata": {},
   "source": [
    "> barricade (Q81715)\n",
    "muraille désorganisée de pavés, galets, poutres, etc. qui barre une rue.\n",
    "\n",
    "De nombreuses barricades ont été dressées dans les rues de Paris. Certaines ont été prises en photo et ou mentionnées dans différents écrits.\n",
    "\n",
    "Dans un premier temps, à partir des photos de Commons (https://commons.wikimedia.org/wiki/Category:Barricades_during_Paris_Commune) on peut les rentrer dans wikidata et à l'aide de leurs coordonnées géographiques (P625) les placer sur une carte.\n",
    "\n",
    "Ces coordonnées sont inscrites dans la base de données via l'analyse des photos.\n",
    "À l'aide des bâtiments, nom de rue... on peut les identifier sur un plan et via les photos de Google street Map.\n",
    "C'est par exemple très visible sur les barricades autour de la Concorde et des bâtiments.\n",
    "Idem la position de la barricade du pont d'Arcole est affiné par un photo de destructions de l'hôtel de ville où le kiosque est visible."
   ]
  },
  {
   "cell_type": "markdown",
   "metadata": {
    "hideCode": false,
    "hidePrompt": false
   },
   "source": [
    "```\n",
    "SELECT ?barricade ?barricadeLabel ?coordonnées_géographiques ?image ?catégorie_Commons ?date_de_début ?date_de_fin WHERE {\n",
    "  SERVICE wikibase:label { bd:serviceParam wikibase:language \"[AUTO_LANGUAGE],en\". }\n",
    "  ?barricade wdt:P31 wd:Q81715;\n",
    "    wdt:P361 wd:Q133132.\n",
    "  OPTIONAL { ?barricade wdt:P625 ?coordonnées_géographiques. }\n",
    "  OPTIONAL { ?barricade wdt:P18 ?image. }\n",
    "  OPTIONAL { ?barricade wdt:P373 ?catégorie_Commons. }\n",
    "  OPTIONAL { ?barricade wdt:P580 ?date_de_début. }\n",
    "  OPTIONAL { ?barricade wdt:P582 ?date_de_fin. }\n",
    "}\n",
    "```"
   ]
  },
  {
   "cell_type": "code",
   "execution_count": null,
   "metadata": {
    "hideCode": false,
    "hidePrompt": false,
    "scrolled": true
   },
   "outputs": [],
   "source": [
    "%%HTML\n",
    "<iframe style=\"width: 95%; height: 50vh; border: none;\" \n",
    "src=\"https://query.wikidata.org/embed.html#SELECT%20%3Fbarricade%20%3FbarricadeLabel%20%3Fcoordonn%C3%A9es_g%C3%A9ographiques%20%3Fimage%20%3Fcat%C3%A9gorie_Commons%20%3Fdate_de_d%C3%A9but%20%3Fdate_de_fin%20WHERE%20%7B%0A%20%20SERVICE%20wikibase%3Alabel%20%7B%20bd%3AserviceParam%20wikibase%3Alanguage%20%22%5BAUTO_LANGUAGE%5D%2Cen%22.%20%7D%0A%20%20%3Fbarricade%20wdt%3AP31%20wd%3AQ81715%3B%0A%20%20%20%20wdt%3AP361%20wd%3AQ133132.%0A%20%20OPTIONAL%20%7B%20%3Fbarricade%20wdt%3AP625%20%3Fcoordonn%C3%A9es_g%C3%A9ographiques.%20%7D%0A%20%20OPTIONAL%20%7B%20%3Fbarricade%20wdt%3AP18%20%3Fimage.%20%7D%0A%20%20OPTIONAL%20%7B%20%3Fbarricade%20wdt%3AP373%20%3Fcat%C3%A9gorie_Commons.%20%7D%0A%20%20OPTIONAL%20%7B%20%3Fbarricade%20wdt%3AP580%20%3Fdate_de_d%C3%A9but.%20%7D%0A%20%20OPTIONAL%20%7B%20%3Fbarricade%20wdt%3AP582%20%3Fdate_de_fin.%20%7D%0A%7D%0A\" \n",
    "referrerpolicy=\"origin\" sandbox=\"allow-scripts allow-same-origin allow-popups\">\n",
    "</iframe>"
   ]
  },
  {
   "cell_type": "markdown",
   "metadata": {
    "hideCode": false,
    "hidePrompt": false
   },
   "source": [
    "## Elle n'est pas morte"
   ]
  },
  {
   "cell_type": "markdown",
   "metadata": {},
   "source": [
    "### Chansons de la commune et sur la commune"
   ]
  },
  {
   "cell_type": "markdown",
   "metadata": {},
   "source": [
    "#### chansons, oeuvre... par auteur, parolier... \n",
    "A trier/vérifier/compléter"
   ]
  },
  {
   "cell_type": "markdown",
   "metadata": {},
   "source": [
    "```\n",
    "SELECT DISTINCT ?chanson ?chansonLabel ?auteur ?auteurLabel ?date_creation WHERE {\n",
    "  SERVICE wikibase:label { bd:serviceParam wikibase:language \"[AUTO_LANGUAGE],en\". }\n",
    "  VALUES ?nature {\n",
    "    wd:Q105543609\n",
    "    wd:Q3331189\n",
    "  }\n",
    "  ?chanson wdt:P31 ?nature;\n",
    "    (wdt:P921|wdt:P547) wd:Q133132;\n",
    "    wdt:P7937 wd:Q7366.\n",
    "  OPTIONAL { ?chanson (wdt:P50|wdt:P676) ?auteur. }\n",
    "  OPTIONAL { ?chanson wdt:P571 ?date_creation. }\n",
    "}\n",
    "```"
   ]
  },
  {
   "cell_type": "markdown",
   "metadata": {},
   "source": [
    "##### En sparql"
   ]
  },
  {
   "cell_type": "code",
   "execution_count": null,
   "metadata": {},
   "outputs": [],
   "source": [
    "%%HTML\n",
    "<iframe style=\"width: 95%; height: 50vh; border: none;\" \n",
    "src=\"https://query.wikidata.org/embed.html#SELECT%20DISTINCT%20%3Fchanson%20%3FchansonLabel%20%3Fauteur%20%3FauteurLabel%20%3Fdate_creation%20WHERE%20%7B%0A%20%20SERVICE%20wikibase%3Alabel%20%7B%20bd%3AserviceParam%20wikibase%3Alanguage%20%22%5BAUTO_LANGUAGE%5D%2Cen%22.%20%7D%0A%20%20VALUES%20%3Fnature%20%7B%0A%20%20%20%20wd%3AQ105543609%0A%20%20%20%20wd%3AQ3331189%0A%20%20%7D%0A%20%20%3Fchanson%20wdt%3AP31%20%3Fnature%3B%0A%20%20%20%20(wdt%3AP921%7Cwdt%3AP547)%20wd%3AQ133132%3B%0A%20%20%20%20wdt%3AP7937%20wd%3AQ7366.%0A%20%20OPTIONAL%20%7B%20%3Fchanson%20(wdt%3AP50%7Cwdt%3AP676)%20%3Fauteur.%20%7D%0A%20%20OPTIONAL%20%7B%20%3Fchanson%20wdt%3AP571%20%3Fdate_creation.%20%7D%0A%7D\" \n",
    "referrerpolicy=\"origin\" sandbox=\"allow-scripts allow-same-origin allow-popups\">\n",
    "</iframe>"
   ]
  },
  {
   "cell_type": "markdown",
   "metadata": {},
   "source": [
    "##### En python"
   ]
  },
  {
   "cell_type": "code",
   "execution_count": 31,
   "metadata": {},
   "outputs": [],
   "source": [
    "query = \"\"\"SELECT DISTINCT ?chanson ?chansonLabel ?auteur ?auteurLabel ?date_creation WHERE {\n",
    "  SERVICE wikibase:label { bd:serviceParam wikibase:language \"fr\". }\n",
    "  VALUES ?nature {\n",
    "    wd:Q105543609\n",
    "    wd:Q3331189\n",
    "  }\n",
    "  ?chanson wdt:P31 ?nature;\n",
    "    (wdt:P921|wdt:P547) wd:Q133132;\n",
    "    wdt:P7937 wd:Q7366.\n",
    "  OPTIONAL { ?chanson (wdt:P50|wdt:P676) ?auteur. }\n",
    "  OPTIONAL { ?chanson wdt:P571 ?date_creation. }\n",
    "}\n",
    "\"\"\"\n",
    "extraction_communard = Extraction_wikidata(endpoint_url, query)\n",
    "df_chanson = extraction_communard.extraire_et_df()"
   ]
  },
  {
   "cell_type": "code",
   "execution_count": 37,
   "metadata": {},
   "outputs": [
    {
     "data": {
      "text/html": [
       "<div>\n",
       "<style scoped>\n",
       "    .dataframe tbody tr th:only-of-type {\n",
       "        vertical-align: middle;\n",
       "    }\n",
       "\n",
       "    .dataframe tbody tr th {\n",
       "        vertical-align: top;\n",
       "    }\n",
       "\n",
       "    .dataframe thead th {\n",
       "        text-align: right;\n",
       "    }\n",
       "</style>\n",
       "<table border=\"1\" class=\"dataframe\">\n",
       "  <thead>\n",
       "    <tr style=\"text-align: right;\">\n",
       "      <th></th>\n",
       "      <th>chanson.value</th>\n",
       "      <th>auteur.value</th>\n",
       "      <th>chansonLabel.value</th>\n",
       "      <th>auteurLabel.value</th>\n",
       "      <th>date_creation.value</th>\n",
       "    </tr>\n",
       "  </thead>\n",
       "  <tbody>\n",
       "    <tr>\n",
       "      <th>26</th>\n",
       "      <td>http://www.wikidata.org/entity/Q11692187</td>\n",
       "      <td>http://www.wikidata.org/entity/Q9176614</td>\n",
       "      <td>Drapeau rouge</td>\n",
       "      <td>Q9176614</td>\n",
       "      <td>1877-01-01T00:00:00Z</td>\n",
       "    </tr>\n",
       "    <tr>\n",
       "      <th>25</th>\n",
       "      <td>http://www.wikidata.org/entity/Q3039106</td>\n",
       "      <td>http://www.wikidata.org/entity/Q27132691</td>\n",
       "      <td>Drapeau rouge</td>\n",
       "      <td>Justin Bailly</td>\n",
       "      <td>1870-01-01T00:00:00Z</td>\n",
       "    </tr>\n",
       "    <tr>\n",
       "      <th>23</th>\n",
       "      <td>http://www.wikidata.org/entity/Q11692187</td>\n",
       "      <td>http://www.wikidata.org/entity/Q1153056</td>\n",
       "      <td>Drapeau rouge</td>\n",
       "      <td>Paul Brousse</td>\n",
       "      <td>1877-01-01T00:00:00Z</td>\n",
       "    </tr>\n",
       "    <tr>\n",
       "      <th>12</th>\n",
       "      <td>http://www.wikidata.org/entity/Q3051372</td>\n",
       "      <td>http://www.wikidata.org/entity/Q312915</td>\n",
       "      <td>Elle n'est pas morte !</td>\n",
       "      <td>Eugène Pottier</td>\n",
       "      <td>1886-05-01T00:00:00Z</td>\n",
       "    </tr>\n",
       "    <tr>\n",
       "      <th>9</th>\n",
       "      <td>http://www.wikidata.org/entity/Q19167479</td>\n",
       "      <td>http://www.wikidata.org/entity/Q312915</td>\n",
       "      <td>Elle n’est pas morte</td>\n",
       "      <td>Eugène Pottier</td>\n",
       "      <td>NaN</td>\n",
       "    </tr>\n",
       "    <tr>\n",
       "      <th>5</th>\n",
       "      <td>http://www.wikidata.org/entity/Q3053492</td>\n",
       "      <td>http://www.wikidata.org/entity/Q312915</td>\n",
       "      <td>En avant la classe ouvrière</td>\n",
       "      <td>Eugène Pottier</td>\n",
       "      <td>NaN</td>\n",
       "    </tr>\n",
       "    <tr>\n",
       "      <th>22</th>\n",
       "      <td>http://www.wikidata.org/entity/Q3173554</td>\n",
       "      <td>http://www.wikidata.org/entity/Q312915</td>\n",
       "      <td>Jean Misère</td>\n",
       "      <td>Eugène Pottier</td>\n",
       "      <td>1880-01-01T00:00:00Z</td>\n",
       "    </tr>\n",
       "    <tr>\n",
       "      <th>14</th>\n",
       "      <td>http://www.wikidata.org/entity/Q3202322</td>\n",
       "      <td>http://www.wikidata.org/entity/Q27132913</td>\n",
       "      <td>L'Armistice</td>\n",
       "      <td>Alphonse Leclerc</td>\n",
       "      <td>NaN</td>\n",
       "    </tr>\n",
       "    <tr>\n",
       "      <th>18</th>\n",
       "      <td>http://www.wikidata.org/entity/Q3204244</td>\n",
       "      <td>http://www.wikidata.org/entity/Q312915</td>\n",
       "      <td>L'Insurgé</td>\n",
       "      <td>Eugène Pottier</td>\n",
       "      <td>NaN</td>\n",
       "    </tr>\n",
       "    <tr>\n",
       "      <th>13</th>\n",
       "      <td>http://www.wikidata.org/entity/Q49617</td>\n",
       "      <td>http://www.wikidata.org/entity/Q312915</td>\n",
       "      <td>L'Internationale</td>\n",
       "      <td>Eugène Pottier</td>\n",
       "      <td>1871-01-01T00:00:00Z</td>\n",
       "    </tr>\n",
       "    <tr>\n",
       "      <th>4</th>\n",
       "      <td>http://www.wikidata.org/entity/Q3207638</td>\n",
       "      <td>http://www.wikidata.org/.well-known/genid/527a...</td>\n",
       "      <td>La Commune</td>\n",
       "      <td>http://www.wikidata.org/.well-known/genid/527a...</td>\n",
       "      <td>NaN</td>\n",
       "    </tr>\n",
       "    <tr>\n",
       "      <th>19</th>\n",
       "      <td>http://www.wikidata.org/entity/Q3207666</td>\n",
       "      <td>NaN</td>\n",
       "      <td>La Complainte de Rossel</td>\n",
       "      <td>NaN</td>\n",
       "      <td>NaN</td>\n",
       "    </tr>\n",
       "    <tr>\n",
       "      <th>27</th>\n",
       "      <td>http://www.wikidata.org/entity/Q3208137</td>\n",
       "      <td>http://www.wikidata.org/entity/Q216092</td>\n",
       "      <td>La Danse des bombes</td>\n",
       "      <td>Louise Michel</td>\n",
       "      <td>NaN</td>\n",
       "    </tr>\n",
       "    <tr>\n",
       "      <th>21</th>\n",
       "      <td>http://www.wikidata.org/entity/Q3208454</td>\n",
       "      <td>http://www.wikidata.org/.well-known/genid/c5e0...</td>\n",
       "      <td>La Défense de Paris</td>\n",
       "      <td>http://www.wikidata.org/.well-known/genid/c5e0...</td>\n",
       "      <td>1870-01-01T00:00:00Z</td>\n",
       "    </tr>\n",
       "    <tr>\n",
       "      <th>7</th>\n",
       "      <td>http://www.wikidata.org/entity/Q3209901</td>\n",
       "      <td>NaN</td>\n",
       "      <td>La Journée du 18 mars</td>\n",
       "      <td>NaN</td>\n",
       "      <td>NaN</td>\n",
       "    </tr>\n",
       "    <tr>\n",
       "      <th>11</th>\n",
       "      <td>http://www.wikidata.org/entity/Q6466239</td>\n",
       "      <td>NaN</td>\n",
       "      <td>La Marseillaise de la Commune</td>\n",
       "      <td>NaN</td>\n",
       "      <td>NaN</td>\n",
       "    </tr>\n",
       "    <tr>\n",
       "      <th>10</th>\n",
       "      <td>http://www.wikidata.org/entity/Q3212598</td>\n",
       "      <td>http://www.wikidata.org/entity/Q18012157</td>\n",
       "      <td>La République sociale</td>\n",
       "      <td>Emmanuel Delorme</td>\n",
       "      <td>1871-01-01T00:00:00Z</td>\n",
       "    </tr>\n",
       "    <tr>\n",
       "      <th>29</th>\n",
       "      <td>http://www.wikidata.org/entity/Q3212789</td>\n",
       "      <td>http://www.wikidata.org/entity/Q515589</td>\n",
       "      <td>La Semaine sanglante</td>\n",
       "      <td>Jean Baptiste Clément</td>\n",
       "      <td>NaN</td>\n",
       "    </tr>\n",
       "    <tr>\n",
       "      <th>16</th>\n",
       "      <td>http://www.wikidata.org/entity/Q3213133</td>\n",
       "      <td>http://www.wikidata.org/entity/Q312915</td>\n",
       "      <td>La Terreur blanche</td>\n",
       "      <td>Eugène Pottier</td>\n",
       "      <td>NaN</td>\n",
       "    </tr>\n",
       "    <tr>\n",
       "      <th>15</th>\n",
       "      <td>http://www.wikidata.org/entity/Q3220158</td>\n",
       "      <td>http://www.wikidata.org/entity/Q312915</td>\n",
       "      <td>Le 31 Octobre</td>\n",
       "      <td>Eugène Pottier</td>\n",
       "      <td>NaN</td>\n",
       "    </tr>\n",
       "    <tr>\n",
       "      <th>6</th>\n",
       "      <td>http://www.wikidata.org/entity/Q3220817</td>\n",
       "      <td>http://www.wikidata.org/entity/Q515589</td>\n",
       "      <td>Le Capitaine « Au mur »</td>\n",
       "      <td>Jean Baptiste Clément</td>\n",
       "      <td>NaN</td>\n",
       "    </tr>\n",
       "    <tr>\n",
       "      <th>8</th>\n",
       "      <td>http://www.wikidata.org/entity/Q3221000</td>\n",
       "      <td>http://www.wikidata.org/entity/Q3370764</td>\n",
       "      <td>Le Chant de l'internationale</td>\n",
       "      <td>Paul Burani</td>\n",
       "      <td>NaN</td>\n",
       "    </tr>\n",
       "    <tr>\n",
       "      <th>17</th>\n",
       "      <td>http://www.wikidata.org/entity/Q3224625</td>\n",
       "      <td>http://www.wikidata.org/entity/Q312915</td>\n",
       "      <td>Le Moblot</td>\n",
       "      <td>Eugène Pottier</td>\n",
       "      <td>NaN</td>\n",
       "    </tr>\n",
       "    <tr>\n",
       "      <th>30</th>\n",
       "      <td>http://www.wikidata.org/entity/Q3224837</td>\n",
       "      <td>http://www.wikidata.org/entity/Q27133198</td>\n",
       "      <td>Le Mouvement du 18 mars</td>\n",
       "      <td>Ferré Léger</td>\n",
       "      <td>NaN</td>\n",
       "    </tr>\n",
       "    <tr>\n",
       "      <th>1</th>\n",
       "      <td>http://www.wikidata.org/entity/Q3225664</td>\n",
       "      <td>NaN</td>\n",
       "      <td>Le Plan de Trochu</td>\n",
       "      <td>NaN</td>\n",
       "      <td>NaN</td>\n",
       "    </tr>\n",
       "    <tr>\n",
       "      <th>24</th>\n",
       "      <td>http://www.wikidata.org/entity/Q3225887</td>\n",
       "      <td>http://www.wikidata.org/entity/Q312915</td>\n",
       "      <td>Le Pressoir</td>\n",
       "      <td>Eugène Pottier</td>\n",
       "      <td>NaN</td>\n",
       "    </tr>\n",
       "    <tr>\n",
       "      <th>28</th>\n",
       "      <td>http://www.wikidata.org/entity/Q3227687</td>\n",
       "      <td>http://www.wikidata.org/entity/Q3188695</td>\n",
       "      <td>Le Tombeau des fusillés</td>\n",
       "      <td>Jules Jouy</td>\n",
       "      <td>NaN</td>\n",
       "    </tr>\n",
       "    <tr>\n",
       "      <th>20</th>\n",
       "      <td>http://www.wikidata.org/entity/Q3235793</td>\n",
       "      <td>http://www.wikidata.org/entity/Q539458</td>\n",
       "      <td>Les Transportés</td>\n",
       "      <td>Jean Allemane</td>\n",
       "      <td>NaN</td>\n",
       "    </tr>\n",
       "    <tr>\n",
       "      <th>0</th>\n",
       "      <td>http://www.wikidata.org/entity/Q3365349</td>\n",
       "      <td>http://www.wikidata.org/entity/Q18603742</td>\n",
       "      <td>Paris pour un beefsteak</td>\n",
       "      <td>Émile Dereux</td>\n",
       "      <td>NaN</td>\n",
       "    </tr>\n",
       "    <tr>\n",
       "      <th>2</th>\n",
       "      <td>http://www.wikidata.org/entity/Q3412943</td>\n",
       "      <td>http://www.wikidata.org/entity/Q312915</td>\n",
       "      <td>Quand viendra-t-elle ?</td>\n",
       "      <td>Eugène Pottier</td>\n",
       "      <td>NaN</td>\n",
       "    </tr>\n",
       "    <tr>\n",
       "      <th>3</th>\n",
       "      <td>http://www.wikidata.org/entity/Q3561457</td>\n",
       "      <td>http://www.wikidata.org/entity/Q3734478</td>\n",
       "      <td>Vive la Commune</td>\n",
       "      <td>Eugène Chatelain</td>\n",
       "      <td>NaN</td>\n",
       "    </tr>\n",
       "  </tbody>\n",
       "</table>\n",
       "</div>"
      ],
      "text/plain": [
       "                               chanson.value   \n",
       "26  http://www.wikidata.org/entity/Q11692187  \\\n",
       "25   http://www.wikidata.org/entity/Q3039106   \n",
       "23  http://www.wikidata.org/entity/Q11692187   \n",
       "12   http://www.wikidata.org/entity/Q3051372   \n",
       "9   http://www.wikidata.org/entity/Q19167479   \n",
       "5    http://www.wikidata.org/entity/Q3053492   \n",
       "22   http://www.wikidata.org/entity/Q3173554   \n",
       "14   http://www.wikidata.org/entity/Q3202322   \n",
       "18   http://www.wikidata.org/entity/Q3204244   \n",
       "13     http://www.wikidata.org/entity/Q49617   \n",
       "4    http://www.wikidata.org/entity/Q3207638   \n",
       "19   http://www.wikidata.org/entity/Q3207666   \n",
       "27   http://www.wikidata.org/entity/Q3208137   \n",
       "21   http://www.wikidata.org/entity/Q3208454   \n",
       "7    http://www.wikidata.org/entity/Q3209901   \n",
       "11   http://www.wikidata.org/entity/Q6466239   \n",
       "10   http://www.wikidata.org/entity/Q3212598   \n",
       "29   http://www.wikidata.org/entity/Q3212789   \n",
       "16   http://www.wikidata.org/entity/Q3213133   \n",
       "15   http://www.wikidata.org/entity/Q3220158   \n",
       "6    http://www.wikidata.org/entity/Q3220817   \n",
       "8    http://www.wikidata.org/entity/Q3221000   \n",
       "17   http://www.wikidata.org/entity/Q3224625   \n",
       "30   http://www.wikidata.org/entity/Q3224837   \n",
       "1    http://www.wikidata.org/entity/Q3225664   \n",
       "24   http://www.wikidata.org/entity/Q3225887   \n",
       "28   http://www.wikidata.org/entity/Q3227687   \n",
       "20   http://www.wikidata.org/entity/Q3235793   \n",
       "0    http://www.wikidata.org/entity/Q3365349   \n",
       "2    http://www.wikidata.org/entity/Q3412943   \n",
       "3    http://www.wikidata.org/entity/Q3561457   \n",
       "\n",
       "                                         auteur.value   \n",
       "26            http://www.wikidata.org/entity/Q9176614  \\\n",
       "25           http://www.wikidata.org/entity/Q27132691   \n",
       "23            http://www.wikidata.org/entity/Q1153056   \n",
       "12             http://www.wikidata.org/entity/Q312915   \n",
       "9              http://www.wikidata.org/entity/Q312915   \n",
       "5              http://www.wikidata.org/entity/Q312915   \n",
       "22             http://www.wikidata.org/entity/Q312915   \n",
       "14           http://www.wikidata.org/entity/Q27132913   \n",
       "18             http://www.wikidata.org/entity/Q312915   \n",
       "13             http://www.wikidata.org/entity/Q312915   \n",
       "4   http://www.wikidata.org/.well-known/genid/527a...   \n",
       "19                                                NaN   \n",
       "27             http://www.wikidata.org/entity/Q216092   \n",
       "21  http://www.wikidata.org/.well-known/genid/c5e0...   \n",
       "7                                                 NaN   \n",
       "11                                                NaN   \n",
       "10           http://www.wikidata.org/entity/Q18012157   \n",
       "29             http://www.wikidata.org/entity/Q515589   \n",
       "16             http://www.wikidata.org/entity/Q312915   \n",
       "15             http://www.wikidata.org/entity/Q312915   \n",
       "6              http://www.wikidata.org/entity/Q515589   \n",
       "8             http://www.wikidata.org/entity/Q3370764   \n",
       "17             http://www.wikidata.org/entity/Q312915   \n",
       "30           http://www.wikidata.org/entity/Q27133198   \n",
       "1                                                 NaN   \n",
       "24             http://www.wikidata.org/entity/Q312915   \n",
       "28            http://www.wikidata.org/entity/Q3188695   \n",
       "20             http://www.wikidata.org/entity/Q539458   \n",
       "0            http://www.wikidata.org/entity/Q18603742   \n",
       "2              http://www.wikidata.org/entity/Q312915   \n",
       "3             http://www.wikidata.org/entity/Q3734478   \n",
       "\n",
       "               chansonLabel.value   \n",
       "26                  Drapeau rouge  \\\n",
       "25                  Drapeau rouge   \n",
       "23                  Drapeau rouge   \n",
       "12         Elle n'est pas morte !   \n",
       "9            Elle n’est pas morte   \n",
       "5     En avant la classe ouvrière   \n",
       "22                    Jean Misère   \n",
       "14                    L'Armistice   \n",
       "18                      L'Insurgé   \n",
       "13               L'Internationale   \n",
       "4                      La Commune   \n",
       "19        La Complainte de Rossel   \n",
       "27            La Danse des bombes   \n",
       "21            La Défense de Paris   \n",
       "7           La Journée du 18 mars   \n",
       "11  La Marseillaise de la Commune   \n",
       "10          La République sociale   \n",
       "29           La Semaine sanglante   \n",
       "16             La Terreur blanche   \n",
       "15                  Le 31 Octobre   \n",
       "6         Le Capitaine « Au mur »   \n",
       "8    Le Chant de l'internationale   \n",
       "17                      Le Moblot   \n",
       "30        Le Mouvement du 18 mars   \n",
       "1               Le Plan de Trochu   \n",
       "24                    Le Pressoir   \n",
       "28        Le Tombeau des fusillés   \n",
       "20                Les Transportés   \n",
       "0         Paris pour un beefsteak   \n",
       "2          Quand viendra-t-elle ?   \n",
       "3                 Vive la Commune   \n",
       "\n",
       "                                    auteurLabel.value   date_creation.value  \n",
       "26                                           Q9176614  1877-01-01T00:00:00Z  \n",
       "25                                      Justin Bailly  1870-01-01T00:00:00Z  \n",
       "23                                       Paul Brousse  1877-01-01T00:00:00Z  \n",
       "12                                     Eugène Pottier  1886-05-01T00:00:00Z  \n",
       "9                                      Eugène Pottier                   NaN  \n",
       "5                                      Eugène Pottier                   NaN  \n",
       "22                                     Eugène Pottier  1880-01-01T00:00:00Z  \n",
       "14                                   Alphonse Leclerc                   NaN  \n",
       "18                                     Eugène Pottier                   NaN  \n",
       "13                                     Eugène Pottier  1871-01-01T00:00:00Z  \n",
       "4   http://www.wikidata.org/.well-known/genid/527a...                   NaN  \n",
       "19                                                NaN                   NaN  \n",
       "27                                      Louise Michel                   NaN  \n",
       "21  http://www.wikidata.org/.well-known/genid/c5e0...  1870-01-01T00:00:00Z  \n",
       "7                                                 NaN                   NaN  \n",
       "11                                                NaN                   NaN  \n",
       "10                                   Emmanuel Delorme  1871-01-01T00:00:00Z  \n",
       "29                              Jean Baptiste Clément                   NaN  \n",
       "16                                     Eugène Pottier                   NaN  \n",
       "15                                     Eugène Pottier                   NaN  \n",
       "6                               Jean Baptiste Clément                   NaN  \n",
       "8                                         Paul Burani                   NaN  \n",
       "17                                     Eugène Pottier                   NaN  \n",
       "30                                        Ferré Léger                   NaN  \n",
       "1                                                 NaN                   NaN  \n",
       "24                                     Eugène Pottier                   NaN  \n",
       "28                                         Jules Jouy                   NaN  \n",
       "20                                      Jean Allemane                   NaN  \n",
       "0                                        Émile Dereux                   NaN  \n",
       "2                                      Eugène Pottier                   NaN  \n",
       "3                                    Eugène Chatelain                   NaN  "
      ]
     },
     "execution_count": 37,
     "metadata": {},
     "output_type": "execute_result"
    }
   ],
   "source": [
    "df_chanson = df_chanson.loc[:,['chanson.value', 'auteur.value', 'chansonLabel.value', 'auteurLabel.value', 'date_creation.value']]\n",
    "df_chanson.sort_values(by = 'chansonLabel.value')"
   ]
  },
  {
   "cell_type": "markdown",
   "metadata": {},
   "source": [
    "#### Pour consulter les paroles sur wikisources"
   ]
  },
  {
   "cell_type": "markdown",
   "metadata": {},
   "source": [
    "```\n",
    "SELECT DISTINCT ?chanson ?wikisourceSitelink WHERE {\n",
    "  ?wikisourceSitelink schema:isPartOf [ wikibase:wikiGroup \"wikisource\" ];\n",
    "                      schema:inLanguage \"fr\"; #?wikisourceLanguage;\n",
    "                      schema:about ?chanson.\n",
    "  values ?nature{wd:Q105543609 \n",
    "                  wd:Q3331189 }\n",
    "  \n",
    "  ?chanson wdt:P31 ?nature;\n",
    "         wdt:P921 wd:Q133132;\n",
    "         wdt:P7937 wd:Q7366.\n",
    "}\n",
    "```"
   ]
  },
  {
   "cell_type": "markdown",
   "metadata": {},
   "source": [
    "##### En sparql"
   ]
  },
  {
   "cell_type": "code",
   "execution_count": null,
   "metadata": {},
   "outputs": [],
   "source": [
    "%%HTML\n",
    "<iframe style=\"width: 95%; height: 50vh; border: none;\" \n",
    "src=\"https://query.wikidata.org/embed.html#SELECT%20DISTINCT%20%3Fchanson%20%3FwikisourceSitelink%20WHERE%20%7B%0A%20%20%3FwikisourceSitelink%20schema%3AisPartOf%20%5B%20wikibase%3AwikiGroup%20%22wikisource%22%20%5D%3B%0A%20%20%20%20%20%20%20%20%20%20%20%20%20%20%20%20%20%20%20%20%20%20schema%3AinLanguage%20%22fr%22%3B%20%23%3FwikisourceLanguage%3B%0A%20%20%20%20%20%20%20%20%20%20%20%20%20%20%20%20%20%20%20%20%20%20schema%3Aabout%20%3Fchanson.%0A%20%20values%20%3Fnature%7Bwd%3AQ105543609%20%0A%20%20%20%20%20%20%20%20%20%20%20%20%20%20%20%20%20%20wd%3AQ3331189%20%7D%0A%20%20%0A%20%20%3Fchanson%20wdt%3AP31%20%3Fnature%3B%0A%20%20%20%20%20%20%20%20%20wdt%3AP921%20wd%3AQ133132%3B%0A%20%20%20%20%20%20%20%20%20wdt%3AP7937%20wd%3AQ7366.%0A%7D%0A\" \n",
    "referrerpolicy=\"origin\" sandbox=\"allow-scripts allow-same-origin allow-popups\">\n",
    "</iframe>"
   ]
  },
  {
   "cell_type": "markdown",
   "metadata": {},
   "source": [
    "##### En python"
   ]
  },
  {
   "cell_type": "code",
   "execution_count": 35,
   "metadata": {},
   "outputs": [
    {
     "data": {
      "text/html": [
       "<div>\n",
       "<style scoped>\n",
       "    .dataframe tbody tr th:only-of-type {\n",
       "        vertical-align: middle;\n",
       "    }\n",
       "\n",
       "    .dataframe tbody tr th {\n",
       "        vertical-align: top;\n",
       "    }\n",
       "\n",
       "    .dataframe thead th {\n",
       "        text-align: right;\n",
       "    }\n",
       "</style>\n",
       "<table border=\"1\" class=\"dataframe\">\n",
       "  <thead>\n",
       "    <tr style=\"text-align: right;\">\n",
       "      <th></th>\n",
       "      <th>wikisourceSitelink.type</th>\n",
       "      <th>wikisourceSitelink.value</th>\n",
       "      <th>chanson.type</th>\n",
       "      <th>chanson.value</th>\n",
       "    </tr>\n",
       "  </thead>\n",
       "  <tbody>\n",
       "    <tr>\n",
       "      <th>0</th>\n",
       "      <td>uri</td>\n",
       "      <td>https://fr.wikisource.org/wiki/Elle_n%E2%80%99...</td>\n",
       "      <td>uri</td>\n",
       "      <td>http://www.wikidata.org/entity/Q19167479</td>\n",
       "    </tr>\n",
       "    <tr>\n",
       "      <th>1</th>\n",
       "      <td>uri</td>\n",
       "      <td>https://fr.wikisource.org/wiki/Le_Drapeau_roug...</td>\n",
       "      <td>uri</td>\n",
       "      <td>http://www.wikidata.org/entity/Q3039106</td>\n",
       "    </tr>\n",
       "    <tr>\n",
       "      <th>2</th>\n",
       "      <td>uri</td>\n",
       "      <td>https://fr.wikisource.org/wiki/La_Complainte_d...</td>\n",
       "      <td>uri</td>\n",
       "      <td>http://www.wikidata.org/entity/Q3207666</td>\n",
       "    </tr>\n",
       "  </tbody>\n",
       "</table>\n",
       "</div>"
      ],
      "text/plain": [
       "  wikisourceSitelink.type                           wikisourceSitelink.value   \n",
       "0                     uri  https://fr.wikisource.org/wiki/Elle_n%E2%80%99...  \\\n",
       "1                     uri  https://fr.wikisource.org/wiki/Le_Drapeau_roug...   \n",
       "2                     uri  https://fr.wikisource.org/wiki/La_Complainte_d...   \n",
       "\n",
       "  chanson.type                             chanson.value  \n",
       "0          uri  http://www.wikidata.org/entity/Q19167479  \n",
       "1          uri   http://www.wikidata.org/entity/Q3039106  \n",
       "2          uri   http://www.wikidata.org/entity/Q3207666  "
      ]
     },
     "execution_count": 35,
     "metadata": {},
     "output_type": "execute_result"
    }
   ],
   "source": [
    "query = \"\"\"SELECT DISTINCT ?chanson ?wikisourceSitelink WHERE {\n",
    "  ?wikisourceSitelink schema:isPartOf [ wikibase:wikiGroup \"wikisource\" ];\n",
    "                      schema:inLanguage \"fr\"; #?wikisourceLanguage;\n",
    "                      schema:about ?chanson.\n",
    "  values ?nature{wd:Q105543609 \n",
    "                  wd:Q3331189 }\n",
    "  \n",
    "  ?chanson wdt:P31 ?nature;\n",
    "         wdt:P921 wd:Q133132;\n",
    "         wdt:P7937 wd:Q7366.\n",
    "}\n",
    "\"\"\"\n",
    "extraction_paroles = Extraction_wikidata(endpoint_url, query)\n",
    "df_paroles = extraction_paroles.extraire_et_df()\n",
    "df_paroles"
   ]
  },
  {
   "cell_type": "code",
   "execution_count": 37,
   "metadata": {},
   "outputs": [
    {
     "data": {
      "text/html": [
       "<table border=\"1\" class=\"dataframe\">\n",
       "  <thead>\n",
       "    <tr style=\"text-align: right;\">\n",
       "      <th></th>\n",
       "      <th>chanson.value</th>\n",
       "      <th>wikisourceSitelink.value</th>\n",
       "    </tr>\n",
       "  </thead>\n",
       "  <tbody>\n",
       "    <tr>\n",
       "      <th>0</th>\n",
       "      <td>http://www.wikidata.org/entity/Q19167479</td>\n",
       "      <td>https://fr.wikisource.org/wiki/Elle_n%E2%80%99est_pas_morte</td>\n",
       "    </tr>\n",
       "    <tr>\n",
       "      <th>1</th>\n",
       "      <td>http://www.wikidata.org/entity/Q3039106</td>\n",
       "      <td>https://fr.wikisource.org/wiki/Le_Drapeau_rouge_(Justin_Bailly)</td>\n",
       "    </tr>\n",
       "    <tr>\n",
       "      <th>2</th>\n",
       "      <td>http://www.wikidata.org/entity/Q3207666</td>\n",
       "      <td>https://fr.wikisource.org/wiki/La_Complainte_de_Rossel</td>\n",
       "    </tr>\n",
       "  </tbody>\n",
       "</table>"
      ],
      "text/plain": [
       "<IPython.core.display.HTML object>"
      ]
     },
     "execution_count": 37,
     "metadata": {},
     "output_type": "execute_result"
    }
   ],
   "source": [
    "df_paroles = df_paroles.loc[:,['chanson.value', 'wikisourceSitelink.value']]\n",
    "HTML(df_paroles.to_html())"
   ]
  },
  {
   "cell_type": "markdown",
   "metadata": {},
   "source": [
    "### Commémore"
   ]
  },
  {
   "cell_type": "markdown",
   "metadata": {
    "hideCode": false,
    "hidePrompt": false
   },
   "source": [
    ">  commémore (P547)\n",
    "ce que commémore le lieu, le monument, le mémorial, le jour férié"
   ]
  },
  {
   "cell_type": "markdown",
   "metadata": {
    "hideCode": false,
    "hidePrompt": false
   },
   "source": [
    "```\n",
    "SELECT ?Commune_de_Paris ?Commune_de_ParisLabel WHERE {\n",
    "  SERVICE wikibase:label { bd:serviceParam wikibase:language \"fr\". }\n",
    "  ?Commune_de_Paris wdt:P547 wd:Q133132.\n",
    "}\n",
    "```"
   ]
  },
  {
   "cell_type": "markdown",
   "metadata": {},
   "source": [
    "#### En sparql"
   ]
  },
  {
   "cell_type": "code",
   "execution_count": null,
   "metadata": {
    "hideCode": false,
    "hidePrompt": false
   },
   "outputs": [],
   "source": [
    "%%HTML\n",
    "<iframe style=\"width: 95%; height: 50vh; border: none;\" \n",
    "src=\"https://query.wikidata.org/embed.html#SELECT%20%3FCommune_de_Paris%20%3FCommune_de_ParisLabel%20WHERE%20%7B%0A%20%20SERVICE%20wikibase%3Alabel%20%7B%20bd%3AserviceParam%20wikibase%3Alanguage%20%22%5BAUTO_LANGUAGE%5D%2Cen%22.%20%7D%0A%20%20%3FCommune_de_Paris%20wdt%3AP547%20wd%3AQ133132.%0A%7D%0ALIMIT%20100\" \n",
    "referrerpolicy=\"origin\" sandbox=\"allow-scripts allow-same-origin allow-popups\">\n",
    "</iframe>"
   ]
  },
  {
   "cell_type": "markdown",
   "metadata": {},
   "source": [
    "#### En python"
   ]
  },
  {
   "cell_type": "code",
   "execution_count": 17,
   "metadata": {},
   "outputs": [],
   "source": [
    "query = \"\"\"SELECT ?Commune_de_Paris ?Commune_de_ParisLabel WHERE {\n",
    "  SERVICE wikibase:label { bd:serviceParam wikibase:language \"fr\". }\n",
    "  ?Commune_de_Paris wdt:P547 wd:Q133132.\n",
    "}\n",
    "\"\"\"\n",
    "extraction_communard = Extraction_wikidata(endpoint_url, query)\n",
    "df_tout_ce_qui_commemore = extraction_communard.extraire_et_df()"
   ]
  },
  {
   "cell_type": "code",
   "execution_count": 18,
   "metadata": {},
   "outputs": [
    {
     "data": {
      "text/html": [
       "<table border=\"1\" class=\"dataframe\">\n",
       "  <thead>\n",
       "    <tr style=\"text-align: right;\">\n",
       "      <th></th>\n",
       "      <th>Commune_de_Paris.value</th>\n",
       "      <th>Commune_de_ParisLabel.value</th>\n",
       "    </tr>\n",
       "  </thead>\n",
       "  <tbody>\n",
       "    <tr>\n",
       "      <th>0</th>\n",
       "      <td>http://www.wikidata.org/entity/Q42401130</td>\n",
       "      <td>plaque commémorative de la barricade au n°17 de la rue Fontaine-au-Roi</td>\n",
       "    </tr>\n",
       "    <tr>\n",
       "      <th>1</th>\n",
       "      <td>http://www.wikidata.org/entity/Q57441810</td>\n",
       "      <td>Mémorial de la Commune de Paris à České Budějovice</td>\n",
       "    </tr>\n",
       "    <tr>\n",
       "      <th>2</th>\n",
       "      <td>http://www.wikidata.org/entity/Q104641243</td>\n",
       "      <td>centenaire de la Commune de Paris</td>\n",
       "    </tr>\n",
       "    <tr>\n",
       "      <th>3</th>\n",
       "      <td>http://www.wikidata.org/entity/Q104641253</td>\n",
       "      <td>150e anniversaire de la Commune de Paris</td>\n",
       "    </tr>\n",
       "    <tr>\n",
       "      <th>4</th>\n",
       "      <td>http://www.wikidata.org/entity/Q111522339</td>\n",
       "      <td>Jour de la Commune de Paris</td>\n",
       "    </tr>\n",
       "    <tr>\n",
       "      <th>5</th>\n",
       "      <td>http://www.wikidata.org/entity/Q116742120</td>\n",
       "      <td>manifestation commémorative de la Commune à Berne</td>\n",
       "    </tr>\n",
       "  </tbody>\n",
       "</table>"
      ],
      "text/plain": [
       "<IPython.core.display.HTML object>"
      ]
     },
     "execution_count": 18,
     "metadata": {},
     "output_type": "execute_result"
    }
   ],
   "source": [
    "df_tout_ce_qui_commemore = df_tout_ce_qui_commemore.loc[:,['Commune_de_Paris.value', 'Commune_de_ParisLabel.value']]\n",
    "HTML(df_tout_ce_qui_commemore.to_html())"
   ]
  },
  {
   "cell_type": "markdown",
   "metadata": {},
   "source": [
    "### Nommé en hommage à"
   ]
  },
  {
   "cell_type": "markdown",
   "metadata": {},
   "source": [
    "```\n",
    "SELECT  ?Commune_de_Paris ?Commune_de_ParisLabel ?nature_de_l_élément ?nature_de_l_élémentLabel WHERE {\n",
    "  SERVICE wikibase:label { bd:serviceParam wikibase:language \"fr, [AUTO_LANGUAGE]\". }\n",
    "  ?Commune_de_Paris wdt:P138 wd:Q133132.\n",
    "  OPTIONAL { ?Commune_de_Paris wdt:P31 ?nature_de_l_élément. }\n",
    "}\n",
    "order by ?Commune_de_ParisLabel\n",
    "```"
   ]
  },
  {
   "cell_type": "markdown",
   "metadata": {},
   "source": [
    "#### En sparql"
   ]
  },
  {
   "cell_type": "code",
   "execution_count": null,
   "metadata": {},
   "outputs": [],
   "source": [
    "%%HTML\n",
    "<iframe style=\"width: 95%; height: 50vh; border: none;\" \n",
    "src=\"https://query.wikidata.org/embed.html#SELECT%20%20%3FCommune_de_Paris%20%3FCommune_de_ParisLabel%20%3Fnature_de_l_%C3%A9l%C3%A9ment%20%3Fnature_de_l_%C3%A9l%C3%A9mentLabel%20WHERE%20%7B%0A%20%20SERVICE%20wikibase%3Alabel%20%7B%20bd%3AserviceParam%20wikibase%3Alanguage%20%22fr%2C%20%5BAUTO_LANGUAGE%5D%22.%20%7D%0A%20%20%3FCommune_de_Paris%20wdt%3AP138%20wd%3AQ133132.%0A%20%20OPTIONAL%20%7B%20%3FCommune_de_Paris%20wdt%3AP31%20%3Fnature_de_l_%C3%A9l%C3%A9ment.%20%7D%0A%7D%0Aorder%20by%20%3FCommune_de_ParisLabel\" \n",
    "referrerpolicy=\"origin\" sandbox=\"allow-scripts allow-same-origin allow-popups\">\n",
    "</iframe>"
   ]
  },
  {
   "cell_type": "code",
   "execution_count": 27,
   "metadata": {},
   "outputs": [],
   "source": [
    "#### En python"
   ]
  },
  {
   "cell_type": "code",
   "execution_count": 28,
   "metadata": {},
   "outputs": [],
   "source": [
    "query = \"\"\"SELECT  ?Commune_de_Paris ?Commune_de_ParisLabel ?nature_de_l_élément ?nature_de_l_élémentLabel WHERE {\n",
    "  SERVICE wikibase:label { bd:serviceParam wikibase:language \"fr, [AUTO_LANGUAGE]\". }\n",
    "  ?Commune_de_Paris wdt:P138 wd:Q133132.\n",
    "  OPTIONAL { ?Commune_de_Paris wdt:P31 ?nature_de_l_élément. }\n",
    "}\n",
    "order by ?Commune_de_ParisLabel\n",
    "\"\"\"\n",
    "extraction_nomme = Extraction_wikidata(endpoint_url, query)\n",
    "df_nomme = extraction_nomme.extraire_et_df()"
   ]
  },
  {
   "cell_type": "code",
   "execution_count": 29,
   "metadata": {},
   "outputs": [
    {
     "data": {
      "text/html": [
       "<table border=\"1\" class=\"dataframe\">\n",
       "  <thead>\n",
       "    <tr style=\"text-align: right;\">\n",
       "      <th></th>\n",
       "      <th>Commune_de_Paris.value</th>\n",
       "      <th>Commune_de_ParisLabel.value</th>\n",
       "      <th>nature_de_l_élément.value</th>\n",
       "      <th>nature_de_l_élémentLabel.value</th>\n",
       "    </tr>\n",
       "  </thead>\n",
       "  <tbody>\n",
       "    <tr>\n",
       "      <th>0</th>\n",
       "      <td>http://www.wikidata.org/entity/Q113533729</td>\n",
       "      <td>Q113533729</td>\n",
       "      <td>http://www.wikidata.org/entity/Q123705</td>\n",
       "      <td>quartier</td>\n",
       "    </tr>\n",
       "    <tr>\n",
       "      <th>1</th>\n",
       "      <td>http://www.wikidata.org/entity/Q1120344</td>\n",
       "      <td>Bataillon Commune de Paris</td>\n",
       "      <td>http://www.wikidata.org/entity/Q6382533</td>\n",
       "      <td>bataillon</td>\n",
       "    </tr>\n",
       "    <tr>\n",
       "      <th>2</th>\n",
       "      <td>http://www.wikidata.org/entity/Q2989462</td>\n",
       "      <td>Commune populaire de Shanghai</td>\n",
       "      <td>http://www.wikidata.org/entity/Q1323212</td>\n",
       "      <td>insurrection</td>\n",
       "    </tr>\n",
       "    <tr>\n",
       "      <th>3</th>\n",
       "      <td>http://www.wikidata.org/entity/Q2989462</td>\n",
       "      <td>Commune populaire de Shanghai</td>\n",
       "      <td>http://www.wikidata.org/entity/Q7318739</td>\n",
       "      <td>Q7318739</td>\n",
       "    </tr>\n",
       "    <tr>\n",
       "      <th>4</th>\n",
       "      <td>http://www.wikidata.org/entity/Q7137569</td>\n",
       "      <td>Glacier Parizhskaya Kommuna</td>\n",
       "      <td>http://www.wikidata.org/entity/Q35666</td>\n",
       "      <td>glacier</td>\n",
       "    </tr>\n",
       "    <tr>\n",
       "      <th>5</th>\n",
       "      <td>http://www.wikidata.org/entity/Q111522339</td>\n",
       "      <td>Jour de la Commune de Paris</td>\n",
       "      <td>http://www.wikidata.org/entity/Q15275719</td>\n",
       "      <td>événement périodique</td>\n",
       "    </tr>\n",
       "    <tr>\n",
       "      <th>6</th>\n",
       "      <td>http://www.wikidata.org/entity/Q2867465</td>\n",
       "      <td>Les Amies et Amis de la Commune de Paris 1871</td>\n",
       "      <td>http://www.wikidata.org/entity/Q163740</td>\n",
       "      <td>organisation à but non lucratif</td>\n",
       "    </tr>\n",
       "    <tr>\n",
       "      <th>7</th>\n",
       "      <td>http://www.wikidata.org/entity/Q7729258</td>\n",
       "      <td>Les Jours de la Commune</td>\n",
       "      <td>http://www.wikidata.org/entity/Q7725634</td>\n",
       "      <td>œuvre littéraire</td>\n",
       "    </tr>\n",
       "    <tr>\n",
       "      <th>8</th>\n",
       "      <td>http://www.wikidata.org/entity/Q93882327</td>\n",
       "      <td>Parc de la Commune-de-Paris</td>\n",
       "      <td>http://www.wikidata.org/entity/Q22698</td>\n",
       "      <td>parc</td>\n",
       "    </tr>\n",
       "    <tr>\n",
       "      <th>9</th>\n",
       "      <td>http://www.wikidata.org/entity/Q4345127</td>\n",
       "      <td>Parijskaïa Kommuna</td>\n",
       "      <td>http://www.wikidata.org/entity/Q11446</td>\n",
       "      <td>navire</td>\n",
       "    </tr>\n",
       "    <tr>\n",
       "      <th>10</th>\n",
       "      <td>http://www.wikidata.org/entity/Q288199</td>\n",
       "      <td>Pariske komune</td>\n",
       "      <td>http://www.wikidata.org/entity/Q79007</td>\n",
       "      <td>rue</td>\n",
       "    </tr>\n",
       "    <tr>\n",
       "      <th>11</th>\n",
       "      <td>http://www.wikidata.org/entity/Q20859653</td>\n",
       "      <td>Place de la Commune de Paris à Łódź</td>\n",
       "      <td>http://www.wikidata.org/entity/Q174782</td>\n",
       "      <td>place</td>\n",
       "    </tr>\n",
       "    <tr>\n",
       "      <th>12</th>\n",
       "      <td>http://www.wikidata.org/entity/Q110416795</td>\n",
       "      <td>Rue Komuny Paryskiej  à Siemianowice Śląskie</td>\n",
       "      <td>http://www.wikidata.org/entity/Q79007</td>\n",
       "      <td>rue</td>\n",
       "    </tr>\n",
       "    <tr>\n",
       "      <th>13</th>\n",
       "      <td>http://www.wikidata.org/entity/Q84348003</td>\n",
       "      <td>Rue Paryžskaj Kamuny</td>\n",
       "      <td>http://www.wikidata.org/entity/Q79007</td>\n",
       "      <td>rue</td>\n",
       "    </tr>\n",
       "    <tr>\n",
       "      <th>14</th>\n",
       "      <td>http://www.wikidata.org/entity/Q1570972</td>\n",
       "      <td>Sebastopol</td>\n",
       "      <td>http://www.wikidata.org/entity/Q182531</td>\n",
       "      <td>cuirassé</td>\n",
       "    </tr>\n",
       "    <tr>\n",
       "      <th>15</th>\n",
       "      <td>http://www.wikidata.org/entity/Q832693</td>\n",
       "      <td>Straße der Pariser Kommune</td>\n",
       "      <td>http://www.wikidata.org/entity/Q79007</td>\n",
       "      <td>rue</td>\n",
       "    </tr>\n",
       "    <tr>\n",
       "      <th>16</th>\n",
       "      <td>http://www.wikidata.org/entity/Q105097545</td>\n",
       "      <td>allée de la Commune</td>\n",
       "      <td>http://www.wikidata.org/entity/Q207934</td>\n",
       "      <td>allée</td>\n",
       "    </tr>\n",
       "    <tr>\n",
       "      <th>17</th>\n",
       "      <td>http://www.wikidata.org/entity/Q101029740</td>\n",
       "      <td>avenue de la Commune de Paris</td>\n",
       "      <td>http://www.wikidata.org/entity/Q7543083</td>\n",
       "      <td>avenue</td>\n",
       "    </tr>\n",
       "    <tr>\n",
       "      <th>18</th>\n",
       "      <td>http://www.wikidata.org/entity/Q115799722</td>\n",
       "      <td>avenue de la Commune de Paris</td>\n",
       "      <td>http://www.wikidata.org/entity/Q7543083</td>\n",
       "      <td>avenue</td>\n",
       "    </tr>\n",
       "    <tr>\n",
       "      <th>19</th>\n",
       "      <td>http://www.wikidata.org/entity/Q100740014</td>\n",
       "      <td>boulevard de la Commune-de-Paris</td>\n",
       "      <td>http://www.wikidata.org/entity/Q54114</td>\n",
       "      <td>boulevard</td>\n",
       "    </tr>\n",
       "    <tr>\n",
       "      <th>20</th>\n",
       "      <td>http://www.wikidata.org/entity/Q108781389</td>\n",
       "      <td>esplanade de la Commune de Paris</td>\n",
       "      <td>http://www.wikidata.org/entity/Q88372</td>\n",
       "      <td>esplanade</td>\n",
       "    </tr>\n",
       "    <tr>\n",
       "      <th>21</th>\n",
       "      <td>http://www.wikidata.org/entity/Q59149090</td>\n",
       "      <td>place de la Commune</td>\n",
       "      <td>http://www.wikidata.org/entity/Q174782</td>\n",
       "      <td>place</td>\n",
       "    </tr>\n",
       "    <tr>\n",
       "      <th>22</th>\n",
       "      <td>http://www.wikidata.org/entity/Q101070982</td>\n",
       "      <td>place de la Commune</td>\n",
       "      <td>http://www.wikidata.org/entity/Q174782</td>\n",
       "      <td>place</td>\n",
       "    </tr>\n",
       "    <tr>\n",
       "      <th>23</th>\n",
       "      <td>http://www.wikidata.org/entity/Q105099832</td>\n",
       "      <td>place de la Commune</td>\n",
       "      <td>http://www.wikidata.org/entity/Q174782</td>\n",
       "      <td>place</td>\n",
       "    </tr>\n",
       "    <tr>\n",
       "      <th>24</th>\n",
       "      <td>http://www.wikidata.org/entity/Q116438113</td>\n",
       "      <td>place de la Commune de Paris</td>\n",
       "      <td>http://www.wikidata.org/entity/Q174782</td>\n",
       "      <td>place</td>\n",
       "    </tr>\n",
       "    <tr>\n",
       "      <th>25</th>\n",
       "      <td>http://www.wikidata.org/entity/Q3390354</td>\n",
       "      <td>place de la Commune-de-Paris</td>\n",
       "      <td>http://www.wikidata.org/entity/Q174782</td>\n",
       "      <td>place</td>\n",
       "    </tr>\n",
       "    <tr>\n",
       "      <th>26</th>\n",
       "      <td>http://www.wikidata.org/entity/Q16510761</td>\n",
       "      <td>rue de la Commune</td>\n",
       "      <td>http://www.wikidata.org/entity/Q79007</td>\n",
       "      <td>rue</td>\n",
       "    </tr>\n",
       "    <tr>\n",
       "      <th>27</th>\n",
       "      <td>http://www.wikidata.org/entity/Q108939007</td>\n",
       "      <td>rue de la Commune</td>\n",
       "      <td>http://www.wikidata.org/entity/Q79007</td>\n",
       "      <td>rue</td>\n",
       "    </tr>\n",
       "    <tr>\n",
       "      <th>28</th>\n",
       "      <td>http://www.wikidata.org/entity/Q111250096</td>\n",
       "      <td>rue de la Commune</td>\n",
       "      <td>http://www.wikidata.org/entity/Q79007</td>\n",
       "      <td>rue</td>\n",
       "    </tr>\n",
       "    <tr>\n",
       "      <th>29</th>\n",
       "      <td>http://www.wikidata.org/entity/Q58854315</td>\n",
       "      <td>rue de la Commune de 1871</td>\n",
       "      <td>http://www.wikidata.org/entity/Q79007</td>\n",
       "      <td>rue</td>\n",
       "    </tr>\n",
       "    <tr>\n",
       "      <th>30</th>\n",
       "      <td>http://www.wikidata.org/entity/Q106606789</td>\n",
       "      <td>rue de la Commune de Paris</td>\n",
       "      <td>http://www.wikidata.org/entity/Q79007</td>\n",
       "      <td>rue</td>\n",
       "    </tr>\n",
       "    <tr>\n",
       "      <th>31</th>\n",
       "      <td>http://www.wikidata.org/entity/Q106918583</td>\n",
       "      <td>rue de la Commune de Paris</td>\n",
       "      <td>http://www.wikidata.org/entity/Q79007</td>\n",
       "      <td>rue</td>\n",
       "    </tr>\n",
       "    <tr>\n",
       "      <th>32</th>\n",
       "      <td>http://www.wikidata.org/entity/Q112065706</td>\n",
       "      <td>rue de la Commune de Paris</td>\n",
       "      <td>http://www.wikidata.org/entity/Q79007</td>\n",
       "      <td>rue</td>\n",
       "    </tr>\n",
       "    <tr>\n",
       "      <th>33</th>\n",
       "      <td>http://www.wikidata.org/entity/Q113413382</td>\n",
       "      <td>rue de la Commune de Paris</td>\n",
       "      <td>http://www.wikidata.org/entity/Q79007</td>\n",
       "      <td>rue</td>\n",
       "    </tr>\n",
       "    <tr>\n",
       "      <th>34</th>\n",
       "      <td>http://www.wikidata.org/entity/Q113448072</td>\n",
       "      <td>rue de la Commune de Paris</td>\n",
       "      <td>http://www.wikidata.org/entity/Q79007</td>\n",
       "      <td>rue</td>\n",
       "    </tr>\n",
       "    <tr>\n",
       "      <th>35</th>\n",
       "      <td>http://www.wikidata.org/entity/Q17307074</td>\n",
       "      <td>rue de la Commune-de-Paris</td>\n",
       "      <td>http://www.wikidata.org/entity/Q79007</td>\n",
       "      <td>rue</td>\n",
       "    </tr>\n",
       "    <tr>\n",
       "      <th>36</th>\n",
       "      <td>http://www.wikidata.org/entity/Q108784076</td>\n",
       "      <td>rue des Fédérés</td>\n",
       "      <td>http://www.wikidata.org/entity/Q79007</td>\n",
       "      <td>rue</td>\n",
       "    </tr>\n",
       "    <tr>\n",
       "      <th>37</th>\n",
       "      <td>http://www.wikidata.org/entity/Q108939006</td>\n",
       "      <td>sentier de la Commune</td>\n",
       "      <td>http://www.wikidata.org/entity/Q628179</td>\n",
       "      <td>sentier</td>\n",
       "    </tr>\n",
       "  </tbody>\n",
       "</table>"
      ],
      "text/plain": [
       "<IPython.core.display.HTML object>"
      ]
     },
     "execution_count": 29,
     "metadata": {},
     "output_type": "execute_result"
    }
   ],
   "source": [
    "df_nomme = df_nomme.loc[:,['Commune_de_Paris.value', 'Commune_de_ParisLabel.value', 'nature_de_l_élément.value', 'nature_de_l_élémentLabel.value' ]]\n",
    "df_nomme.sort_values(by = 'Commune_de_ParisLabel.value')\n",
    "HTML(df_nomme.to_html())"
   ]
  },
  {
   "cell_type": "markdown",
   "metadata": {},
   "source": [
    "### Des expositions"
   ]
  },
  {
   "cell_type": "markdown",
   "metadata": {},
   "source": [
    "```\n",
    "SELECT ?exposition ?expositionLabel WHERE {\n",
    "  SERVICE wikibase:label { bd:serviceParam wikibase:language \"[AUTO_LANGUAGE],en\". }\n",
    "  ?exposition (wdt:P31/wdt:P279) wd:Q464980;\n",
    "    wdt:P921 wd:Q133132.\n",
    "}\n",
    "```"
   ]
  },
  {
   "cell_type": "markdown",
   "metadata": {},
   "source": [
    "#### En sparql"
   ]
  },
  {
   "cell_type": "code",
   "execution_count": null,
   "metadata": {},
   "outputs": [],
   "source": [
    "%%HTML\n",
    "<iframe style=\"width: 95%; height: 50vh; border: none;\" \n",
    "src=\"https://query.wikidata.org/embed.html#SELECT%20%3Fexposition%20%3FexpositionLabel%20WHERE%20%7B%0A%20%20SERVICE%20wikibase%3Alabel%20%7B%20bd%3AserviceParam%20wikibase%3Alanguage%20%22%5BAUTO_LANGUAGE%5D%2Cen%22.%20%7D%0A%20%20%3Fexposition%20(wdt%3AP31%2Fwdt%3AP279)%20wd%3AQ464980%3B%0A%20%20%20%20wdt%3AP921%20wd%3AQ133132.%0A%7D\" \n",
    "referrerpolicy=\"origin\" sandbox=\"allow-scripts allow-same-origin allow-popups\">\n",
    "</iframe>"
   ]
  },
  {
   "cell_type": "markdown",
   "metadata": {},
   "source": [
    "#### En python"
   ]
  },
  {
   "cell_type": "code",
   "execution_count": 10,
   "metadata": {},
   "outputs": [],
   "source": [
    "query = \"\"\"SELECT ?exposition ?expositionLabel WHERE {\n",
    "  SERVICE wikibase:label { bd:serviceParam wikibase:language \"fr\". }\n",
    "  ?exposition (wdt:P31/wdt:P279) wd:Q464980;\n",
    "    wdt:P921 wd:Q133132.\n",
    "}\n",
    "\"\"\"\n",
    "extraction_communard = Extraction_wikidata(endpoint_url, query)\n",
    "df_expo = extraction_communard.extraire_et_df()"
   ]
  },
  {
   "cell_type": "code",
   "execution_count": 11,
   "metadata": {},
   "outputs": [
    {
     "data": {
      "text/html": [
       "<table border=\"1\" class=\"dataframe\">\n",
       "  <thead>\n",
       "    <tr style=\"text-align: right;\">\n",
       "      <th></th>\n",
       "      <th>exposition.value</th>\n",
       "      <th>expositionLabel.value</th>\n",
       "    </tr>\n",
       "  </thead>\n",
       "  <tbody>\n",
       "    <tr>\n",
       "      <th>0</th>\n",
       "      <td>http://www.wikidata.org/entity/Q106542876</td>\n",
       "      <td>Les 72 jours de la Commune</td>\n",
       "    </tr>\n",
       "    <tr>\n",
       "      <th>1</th>\n",
       "      <td>http://www.wikidata.org/entity/Q116701738</td>\n",
       "      <td>France-Allemagne(s), 1870-1871, La guerre, la Commune, les mémoires</td>\n",
       "    </tr>\n",
       "  </tbody>\n",
       "</table>"
      ],
      "text/plain": [
       "<IPython.core.display.HTML object>"
      ]
     },
     "execution_count": 11,
     "metadata": {},
     "output_type": "execute_result"
    }
   ],
   "source": [
    "df_expo = df_expo.loc[:,['exposition.value', 'expositionLabel.value']]\n",
    "HTML(df_expo.to_html())"
   ]
  },
  {
   "cell_type": "markdown",
   "metadata": {},
   "source": [
    "## Licence\n",
    "\n",
    "Ce travail est sous licence libre plus précisement Creative Commons Attribution - Partage dans les Mêmes Conditions 4.0 International.\n",
    "Il est fait à partir de données libres (diverse licence) et logiciels ou formats libres.\n",
    "Citons python, notebook, makedon, mediawiki...\n",
    "J'autorise la diffusion commerciale pour payer les frais de papier si quelqu'an veut le diffuser en version papier.\n",
    "Par principe, la licence vous autorise à utiliser ce travail sans m'en informer, juste pour ma curiosité, merci de me le signaler."
   ]
  },
  {
   "cell_type": "markdown",
   "metadata": {},
   "source": [
    "<a rel=\"license\" href=\"http://creativecommons.org/licenses/by-sa/4.0/\"><img alt=\"Licence Creative Commons\" style=\"border-width:0\" src=\"https://i.creativecommons.org/l/by-sa/4.0/88x31.png\" /></a><br />Cette œuvre est mise à disposition selon les termes de la <a rel=\"license\" href=\"http://creativecommons.org/licenses/by-sa/4.0/\">Licence Creative Commons Attribution -  Partage dans les Mêmes Conditions 4.0 International</a>."
   ]
  },
  {
   "cell_type": "markdown",
   "metadata": {},
   "source": [
    "## Me contacter\n",
    "- https://github.com/silanoc\n",
    "- silanoc@gmail.com\n",
    "- https://www.linkedin.com/in/gabriel-le-bernard/\n",
    "- mastondon : @Gabrielhle@pouet.chapril.org\n"
   ]
  },
  {
   "cell_type": "code",
   "execution_count": null,
   "metadata": {},
   "outputs": [],
   "source": []
  }
 ],
 "metadata": {
  "celltoolbar": "Hide code",
  "hide_code_all_hidden": false,
  "kernelspec": {
   "display_name": "Python 3 (ipykernel)",
   "language": "python",
   "name": "python3"
  },
  "language_info": {
   "codemirror_mode": {
    "name": "ipython",
    "version": 3
   },
   "file_extension": ".py",
   "mimetype": "text/x-python",
   "name": "python",
   "nbconvert_exporter": "python",
   "pygments_lexer": "ipython3",
   "version": "3.10.6"
  },
  "vscode": {
   "interpreter": {
    "hash": "31f2aee4e71d21fbe5cf8b01ff0e069b9275f58929596ceb00d14d90e3e16cd6"
   }
  }
 },
 "nbformat": 4,
 "nbformat_minor": 2
}
