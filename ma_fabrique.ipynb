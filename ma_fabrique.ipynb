{
 "cells": [
  {
   "cell_type": "markdown",
   "id": "ec18207c",
   "metadata": {
    "tags": [
     "titre"
    ]
   },
   "source": [
    "# Ma fabrique"
   ]
  },
  {
   "cell_type": "markdown",
   "id": "0ca0b0eb",
   "metadata": {
    "tags": [
     "msg"
    ]
   },
   "source": [
    "Pour passer du fichier complet à des version partielles et exploitables"
   ]
  },
  {
   "cell_type": "markdown",
   "id": "47ca4354",
   "metadata": {
    "tags": [
     "titre"
    ]
   },
   "source": [
    "## Les tags"
   ]
  },
  {
   "cell_type": "markdown",
   "id": "05ccdc70",
   "metadata": {
    "tags": [
     "msg"
    ]
   },
   "source": [
    "Par format :\n",
    "    \n",
    "- mk pour markdown\n",
    "- py pour python\n",
    "- sp pour sparl \n",
    "- html_sp pour les requete dans queryservice\n"
   ]
  },
  {
   "cell_type": "markdown",
   "id": "69be26a9",
   "metadata": {},
   "source": [
    "par sémantique :\n",
    "\n",
    "- titre_general\n",
    "- titre\n",
    "- config\n",
    "- toc\n",
    "\n",
    "- presentation\n",
    " - methodo\n",
    "- communard\n",
    "- cimetiere\n",
    "- chronologie\n",
    "- affiches\n",
    "- bibliographie\n",
    "- memoire\n",
    "- memoire/chanson\n",
    "- memoire/commemore\n",
    "- exposition\n",
    "\n",
    "- remerciment\n",
    "- licence\n",
    "- contact  "
   ]
  },
  {
   "cell_type": "markdown",
   "id": "e5a1358a",
   "metadata": {},
   "source": [
    "['toc', 'presentation', 'methodo', 'communard', 'cimetiere', 'chronologie', 'affiches', 'bibliographie', 'memoire', 'memoire/chanson', 'memoire/commemore', 'exposition']"
   ]
  },
  {
   "cell_type": "markdown",
   "id": "f40a0331",
   "metadata": {
    "tags": [
     "titre"
    ]
   },
   "source": [
    "## extraire avec convert"
   ]
  },
  {
   "cell_type": "markdown",
   "id": "ccb34f57",
   "metadata": {
    "tags": [
     "titre"
    ]
   },
   "source": [
    "### micro tuto"
   ]
  },
  {
   "cell_type": "markdown",
   "id": "2d4b6e05",
   "metadata": {
    "tags": [
     "msg"
    ]
   },
   "source": [
    "retirer un tag"
   ]
  },
  {
   "cell_type": "code",
   "execution_count": 4,
   "id": "0857731d",
   "metadata": {
    "tags": [
     "msg"
    ]
   },
   "outputs": [
    {
     "name": "stdout",
     "output_type": "stream",
     "text": [
      "[NbConvertApp] Converting notebook Commune_dans_wikidata.ipynb to markdown\n",
      "[NbConvertApp] Writing 283177 bytes to presentation.md\n"
     ]
    }
   ],
   "source": [
    "!jupyter nbconvert Commune_dans_wikidata.ipynb \\\n",
    "--TagRemovePreprocessor.remove_cell_tags='{\"mk\"}' \\\n",
    "--to markdown --output presentation.md"
   ]
  },
  {
   "cell_type": "markdown",
   "id": "8ecabed7",
   "metadata": {
    "tags": [
     "msg"
    ]
   },
   "source": [
    "retirer plusieurs tag"
   ]
  },
  {
   "cell_type": "code",
   "execution_count": 5,
   "id": "5ca51297",
   "metadata": {
    "tags": [
     "msg"
    ]
   },
   "outputs": [
    {
     "name": "stdout",
     "output_type": "stream",
     "text": [
      "/home/silanoc/anaconda3/lib/python3.11/site-packages/traitlets/traitlets.py:2915: FutureWarning: --TagRemovePreprocessor.remove_cell_tags=['py', 'mk'] for containers is deprecated in traitlets 5.0. You can pass `--TagRemovePreprocessor.remove_cell_tags item` ... multiple times to add items to a list.\n",
      "  warn(\n",
      "[NbConvertApp] WARNING | Unrecognized alias: 'o', it will have no effect.\n",
      "[NbConvertApp] Converting notebook Commune_dans_wikidata.ipynb to html\n",
      "[NbConvertApp] Writing 1093375 bytes to Commune_dans_wikidata.html\n"
     ]
    }
   ],
   "source": [
    "!jupyter nbconvert Commune_dans_wikidata.ipynb \\\n",
    "--TagRemovePreprocessor.enabled=True \\\n",
    "--TagRemovePreprocessor.remove_cell_tags=\"['py', 'mk']\" \\\n",
    "--to html -o test.html"
   ]
  },
  {
   "cell_type": "markdown",
   "id": "463283e2",
   "metadata": {
    "tags": [
     "titre"
    ]
   },
   "source": [
    "### Quelques selections"
   ]
  },
  {
   "cell_type": "markdown",
   "id": "36f3e3f0",
   "metadata": {
    "tags": [
     "msg"
    ]
   },
   "source": [
    "Que la partie non écécutable : mk et requete sparql"
   ]
  },
  {
   "cell_type": "code",
   "execution_count": 30,
   "id": "0188911a",
   "metadata": {
    "tags": [
     "msg"
    ]
   },
   "outputs": [
    {
     "name": "stdout",
     "output_type": "stream",
     "text": [
      "/home/silanoc/anaconda3/lib/python3.11/site-packages/traitlets/traitlets.py:2915: FutureWarning: --TagRemovePreprocessor.remove_cell_tags=['py', 'html_sp'] for containers is deprecated in traitlets 5.0. You can pass `--TagRemovePreprocessor.remove_cell_tags item` ... multiple times to add items to a list.\n",
      "  warn(\n",
      "[NbConvertApp] Converting notebook Commune_dans_wikidata.ipynb to html\n",
      "[NbConvertApp] Writing 743714 bytes to mk.html\n"
     ]
    }
   ],
   "source": [
    "!jupyter nbconvert Commune_dans_wikidata.ipynb \\\n",
    "--TagRemovePreprocessor.enabled=True \\\n",
    "--TagRemovePreprocessor.remove_cell_tags=\"['py', 'html_sp']\" \\\n",
    "--to html --output mk.html"
   ]
  },
  {
   "cell_type": "markdown",
   "id": "ff51b7ca",
   "metadata": {},
   "source": [
    "['toc', 'presentation', 'methodo', 'communard', 'cimetiere', 'chronologie', 'affiches', 'bibliographie', 'memoire', 'memoire/chanson', 'memoire/commemore', 'exposition']"
   ]
  },
  {
   "cell_type": "markdown",
   "id": "29394b4e",
   "metadata": {
    "tags": [
     "msg"
    ]
   },
   "source": [
    "### présentation du projet"
   ]
  },
  {
   "cell_type": "code",
   "execution_count": 14,
   "id": "7a1b93a0",
   "metadata": {},
   "outputs": [
    {
     "name": "stdout",
     "output_type": "stream",
     "text": [
      "/home/silanoc/anaconda3/lib/python3.11/site-packages/traitlets/traitlets.py:2915: FutureWarning: --TagRemovePreprocessor.remove_cell_tags=['communard', 'cimetiere', 'chronologie', 'affiches', 'bibliographie', 'memoire', 'memoire/chanson', 'memoire/commemore', 'exposition'] for containers is deprecated in traitlets 5.0. You can pass `--TagRemovePreprocessor.remove_cell_tags item` ... multiple times to add items to a list.\n",
      "  warn(\n",
      "[NbConvertApp] Converting notebook Commune_dans_wikidata.ipynb to html\n",
      "[NbConvertApp] Writing 612413 bytes to presentation_methodo.html\n"
     ]
    }
   ],
   "source": [
    "!jupyter nbconvert Commune_dans_wikidata.ipynb \\\n",
    "--TagRemovePreprocessor.enabled=True \\\n",
    "--TagRemovePreprocessor.remove_cell_tags=\"['toc', 'communard', 'cimetiere', 'chronologie', 'affiches', 'bibliographie', 'memoire', 'memoire/chanson', 'memoire/commemore', 'exposition']\" \\\n",
    "--to html --output export/presentation_methodo.html"
   ]
  },
  {
   "cell_type": "markdown",
   "id": "9329267f",
   "metadata": {},
   "source": [
    "### Communard-e-s"
   ]
  },
  {
   "cell_type": "markdown",
   "id": "8169195c",
   "metadata": {},
   "source": [
    "python et sparql"
   ]
  },
  {
   "cell_type": "code",
   "execution_count": 20,
   "id": "66eebe41",
   "metadata": {},
   "outputs": [
    {
     "name": "stdout",
     "output_type": "stream",
     "text": [
      "/home/silanoc/anaconda3/lib/python3.11/site-packages/traitlets/traitlets.py:2915: FutureWarning: --TagRemovePreprocessor.remove_cell_tags=['toc', 'presentation', 'methodo', 'cimetiere', 'chronologie', 'affiches', 'bibliographie', 'memoire', 'memoire/chanson', 'memoire/commemore', 'exposition', 'remerciment'] for containers is deprecated in traitlets 5.0. You can pass `--TagRemovePreprocessor.remove_cell_tags item` ... multiple times to add items to a list.\n",
      "  warn(\n",
      "[NbConvertApp] Converting notebook Commune_dans_wikidata.ipynb to html\n",
      "[NbConvertApp] Writing 891119 bytes to communard_e_s.html\n"
     ]
    }
   ],
   "source": [
    "!jupyter nbconvert Commune_dans_wikidata.ipynb \\\n",
    "--TagRemovePreprocessor.enabled=True \\\n",
    "--TagRemovePreprocessor.remove_cell_tags=\"['toc', 'presentation', 'methodo', 'cimetiere', 'chronologie', 'affiches', 'bibliographie', 'memoire', 'memoire/chanson', 'memoire/commemore', 'exposition', 'remerciment']\" \\\n",
    "--to html --output communard_e_s.html"
   ]
  },
  {
   "cell_type": "markdown",
   "id": "1cf4ddd3",
   "metadata": {},
   "source": [
    "python"
   ]
  },
  {
   "cell_type": "code",
   "execution_count": 25,
   "id": "4e5846eb",
   "metadata": {},
   "outputs": [
    {
     "name": "stdout",
     "output_type": "stream",
     "text": [
      "/home/silanoc/anaconda3/lib/python3.11/site-packages/traitlets/traitlets.py:2915: FutureWarning: --TagRemovePreprocessor.remove_cell_tags=['html_sp','toc', 'presentation', 'methodo', 'cimetiere', 'chronologie', 'affiches', 'bibliographie', 'memoire', 'memoire/chanson', 'memoire/commemore', 'exposition', 'remerciment'] for containers is deprecated in traitlets 5.0. You can pass `--TagRemovePreprocessor.remove_cell_tags item` ... multiple times to add items to a list.\n",
      "  warn(\n",
      "[NbConvertApp] Converting notebook Commune_dans_wikidata.ipynb to html\n",
      "[NbConvertApp] Writing 838505 bytes to communard_e_s_python.html\n"
     ]
    }
   ],
   "source": [
    "!jupyter nbconvert Commune_dans_wikidata.ipynb \\\n",
    "--TagRemovePreprocessor.enabled=True \\\n",
    "--TagRemovePreprocessor.remove_cell_tags=\"['html_sp','toc', 'presentation', 'methodo', 'cimetiere', 'chronologie', 'affiches', 'bibliographie', 'memoire', 'memoire/chanson', 'memoire/commemore', 'exposition', 'remerciment']\" \\\n",
    "--to html --output export/communard_e_s_python.html"
   ]
  },
  {
   "cell_type": "markdown",
   "id": "f6699783",
   "metadata": {},
   "source": [
    "sparql"
   ]
  },
  {
   "cell_type": "code",
   "execution_count": 42,
   "id": "feb8bb1a",
   "metadata": {},
   "outputs": [
    {
     "name": "stdout",
     "output_type": "stream",
     "text": [
      "/home/silanoc/anaconda3/lib/python3.11/site-packages/traitlets/traitlets.py:2915: FutureWarning: --TagRemovePreprocessor.remove_cell_tags=['py','toc', 'presentation', 'methodo', 'cimetiere', 'chronologie', 'affiches', 'bibliographie', 'memoire', 'memoire/chanson', 'memoire/commemore', 'exposition', 'remerciment'] for containers is deprecated in traitlets 5.0. You can pass `--TagRemovePreprocessor.remove_cell_tags item` ... multiple times to add items to a list.\n",
      "  warn(\n",
      "[NbConvertApp] Converting notebook Commune_dans_wikidata.ipynb to html\n",
      "[NbConvertApp] Writing 716239 bytes to communard_e_s_sparql.html\n"
     ]
    }
   ],
   "source": [
    "!jupyter nbconvert Commune_dans_wikidata.ipynb \\\n",
    "--TagRemovePreprocessor.enabled=True \\\n",
    "--TagRemovePreprocessor.remove_cell_tags=\"['py','toc', 'presentation', 'methodo', 'cimetiere', 'chronologie', 'affiches', 'bibliographie', 'memoire', 'memoire/chanson', 'memoire/commemore', 'exposition', 'remerciment']\" \\\n",
    "--to html --output export/communard_e_s_sparql.html"
   ]
  },
  {
   "cell_type": "markdown",
   "id": "328b89b8",
   "metadata": {},
   "source": [
    "### Cimetières"
   ]
  },
  {
   "cell_type": "code",
   "execution_count": 47,
   "id": "b2d8af97",
   "metadata": {
    "scrolled": true
   },
   "outputs": [
    {
     "name": "stdout",
     "output_type": "stream",
     "text": [
      "/home/silanoc/anaconda3/lib/python3.11/site-packages/traitlets/traitlets.py:2915: FutureWarning: --TagRemovePreprocessor.remove_cell_tags=['toc', 'presentation', 'methodo', 'communard', 'chronologie', 'affiches', 'bibliographie', 'memoire', 'memoire/chanson', 'memoire/commemore', 'exposition', 'remerciment'] for containers is deprecated in traitlets 5.0. You can pass `--TagRemovePreprocessor.remove_cell_tags item` ... multiple times to add items to a list.\n",
      "  warn(\n",
      "[NbConvertApp] Converting notebook Commune_dans_wikidata.ipynb to html\n",
      "[NbConvertApp] Writing 621040 bytes to export/cimetieres.html\n"
     ]
    }
   ],
   "source": [
    "!jupyter nbconvert Commune_dans_wikidata.ipynb \\\n",
    "--TagRemovePreprocessor.enabled=True \\\n",
    "--TagRemovePreprocessor.remove_cell_tags=\"['toc', 'presentation', 'methodo', 'communard', 'chronologie', 'affiches', 'bibliographie', 'memoire', 'memoire/chanson', 'memoire/commemore', 'exposition', 'remerciment']\" \\\n",
    "--to html --output export/cimetieres.html"
   ]
  },
  {
   "cell_type": "code",
   "execution_count": null,
   "id": "165130fd",
   "metadata": {},
   "outputs": [],
   "source": [
    "#???\n",
    "# pour exporter en html\n",
    "#import plotly.io as pio\n",
    "#pio.renderers.defaut = 'notebook'"
   ]
  }
 ],
 "metadata": {
  "celltoolbar": "Tags",
  "hide_input": false,
  "kernelspec": {
   "display_name": "Python 3 (ipykernel)",
   "language": "python",
   "name": "python3"
  },
  "language_info": {
   "codemirror_mode": {
    "name": "ipython",
    "version": 3
   },
   "file_extension": ".py",
   "mimetype": "text/x-python",
   "name": "python",
   "nbconvert_exporter": "python",
   "pygments_lexer": "ipython3",
   "version": "3.11.4"
  },
  "toc": {
   "base_numbering": 1,
   "nav_menu": {},
   "number_sections": true,
   "sideBar": true,
   "skip_h1_title": false,
   "title_cell": "Table of Contents",
   "title_sidebar": "Contents",
   "toc_cell": false,
   "toc_position": {},
   "toc_section_display": true,
   "toc_window_display": false
  }
 },
 "nbformat": 4,
 "nbformat_minor": 5
}
