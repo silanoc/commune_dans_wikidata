{
 "cells": [
  {
   "cell_type": "markdown",
   "id": "e7ad1d1d",
   "metadata": {},
   "source": [
    "# Article aléatoire du maitron sur les communard"
   ]
  },
  {
   "cell_type": "markdown",
   "id": "45c070ca",
   "metadata": {},
   "source": [
    "le code entier est dans le fichier maitron.py\n",
    "\n",
    "il est reproduit ici "
   ]
  },
  {
   "cell_type": "markdown",
   "id": "3c35aa70",
   "metadata": {},
   "source": [
    "```python\n",
    "import random\n",
    "\n",
    "try:\n",
    "    from googlesearch import search\n",
    "except ImportError:\n",
    "    print(\"No module named 'google' found\")\n",
    " \n",
    "def lst_maitron():\n",
    "\t# to search\n",
    "\tquery = \"site:maitron.fr communard\"\n",
    "\tlst = []\n",
    "\t#for j in search(query, tld=\"co.in\", num=10, stop=10, pause=2):\n",
    "\tfor j in search(query, num_results=100):\n",
    "\t   \tlst.append(j)\t\n",
    "\treturn lst\n",
    "    \n",
    "def faire_liste():\n",
    "\tlst_total = lst_maitron()\n",
    "\treturn lst_total\n",
    "\n",
    "def une_page_dans_la_liste(une_liste):\n",
    "\turl = une_liste[random.randint(0, len(une_liste) - 1)]\n",
    "\tprint(url)\n",
    "\tprint(\"firefox \" + url)\n",
    "\n",
    "if __name__ == \"__main__()\":\n",
    "\tles_articles_du_maitron = faire_liste()\n",
    "\tune_page_dans_la_liste(les_articles_du_maitron)\n",
    "\n",
    "```"
   ]
  },
  {
   "cell_type": "markdown",
   "id": "eddeec71",
   "metadata": {},
   "source": [
    "## pour exécution dans le notebook"
   ]
  },
  {
   "cell_type": "code",
   "execution_count": 1,
   "id": "edf752f5",
   "metadata": {},
   "outputs": [
    {
     "name": "stdout",
     "output_type": "stream",
     "text": [
      "No module named 'google' found\n"
     ]
    }
   ],
   "source": [
    "import maitron"
   ]
  },
  {
   "cell_type": "code",
   "execution_count": null,
   "id": "17222581",
   "metadata": {},
   "outputs": [],
   "source": []
  },
  {
   "cell_type": "code",
   "execution_count": 2,
   "id": "184ba3e2",
   "metadata": {},
   "outputs": [
    {
     "ename": "NameError",
     "evalue": "name 'search' is not defined",
     "output_type": "error",
     "traceback": [
      "\u001b[0;31m---------------------------------------------------------------------------\u001b[0m",
      "\u001b[0;31mNameError\u001b[0m                                 Traceback (most recent call last)",
      "Cell \u001b[0;32mIn[2], line 1\u001b[0m\n\u001b[0;32m----> 1\u001b[0m les_articles_du_maitron \u001b[38;5;241m=\u001b[39m maitron\u001b[38;5;241m.\u001b[39mfaire_liste()\n",
      "File \u001b[0;32m~/Dropbox/mes_depots_git/commune_dans_wikidata/maitron.py:21\u001b[0m, in \u001b[0;36mfaire_liste\u001b[0;34m()\u001b[0m\n\u001b[1;32m     20\u001b[0m \u001b[38;5;28;01mdef\u001b[39;00m \u001b[38;5;21mfaire_liste\u001b[39m():\n\u001b[0;32m---> 21\u001b[0m \tlst_total \u001b[38;5;241m=\u001b[39m lst_maitron()\n\u001b[1;32m     22\u001b[0m \t\u001b[38;5;28;01mreturn\u001b[39;00m lst_total\n",
      "File \u001b[0;32m~/Dropbox/mes_depots_git/commune_dans_wikidata/maitron.py:16\u001b[0m, in \u001b[0;36mlst_maitron\u001b[0;34m()\u001b[0m\n\u001b[1;32m     14\u001b[0m lst \u001b[38;5;241m=\u001b[39m []\n\u001b[1;32m     15\u001b[0m \u001b[38;5;66;03m#for j in search(query, tld=\"co.in\", num=10, stop=10, pause=2):\u001b[39;00m\n\u001b[0;32m---> 16\u001b[0m \u001b[38;5;28;01mfor\u001b[39;00m j \u001b[38;5;129;01min\u001b[39;00m search(query, num_results\u001b[38;5;241m=\u001b[39m\u001b[38;5;241m100\u001b[39m):\n\u001b[1;32m     17\u001b[0m    \tlst\u001b[38;5;241m.\u001b[39mappend(j)\t\n\u001b[1;32m     18\u001b[0m \u001b[38;5;28;01mreturn\u001b[39;00m lst\n",
      "\u001b[0;31mNameError\u001b[0m: name 'search' is not defined"
     ]
    }
   ],
   "source": [
    "les_articles_du_maitron = maitron.faire_liste()"
   ]
  },
  {
   "cell_type": "code",
   "execution_count": 10,
   "id": "b76232c1",
   "metadata": {},
   "outputs": [
    {
     "ename": "NameError",
     "evalue": "name 'les_articles_du_maitron' is not defined",
     "output_type": "error",
     "traceback": [
      "\u001b[0;31m---------------------------------------------------------------------------\u001b[0m",
      "\u001b[0;31mNameError\u001b[0m                                 Traceback (most recent call last)",
      "Cell \u001b[0;32mIn[10], line 1\u001b[0m\n\u001b[0;32m----> 1\u001b[0m maitron\u001b[38;5;241m.\u001b[39mune_page_dans_la_liste(les_articles_du_maitron)\n",
      "\u001b[0;31mNameError\u001b[0m: name 'les_articles_du_maitron' is not defined"
     ]
    }
   ],
   "source": [
    "maitron.une_page_dans_la_liste(les_articles_du_maitron)"
   ]
  },
  {
   "cell_type": "code",
   "execution_count": null,
   "id": "43fd5eff",
   "metadata": {},
   "outputs": [],
   "source": []
  }
 ],
 "metadata": {
  "hide_input": false,
  "kernelspec": {
   "display_name": "Python 3 (ipykernel)",
   "language": "python",
   "name": "python3"
  },
  "language_info": {
   "codemirror_mode": {
    "name": "ipython",
    "version": 3
   },
   "file_extension": ".py",
   "mimetype": "text/x-python",
   "name": "python",
   "nbconvert_exporter": "python",
   "pygments_lexer": "ipython3",
   "version": "3.11.4"
  },
  "toc": {
   "base_numbering": 1,
   "nav_menu": {},
   "number_sections": true,
   "sideBar": true,
   "skip_h1_title": false,
   "title_cell": "Table of Contents",
   "title_sidebar": "Contents",
   "toc_cell": false,
   "toc_position": {},
   "toc_section_display": true,
   "toc_window_display": false
  }
 },
 "nbformat": 4,
 "nbformat_minor": 5
}
