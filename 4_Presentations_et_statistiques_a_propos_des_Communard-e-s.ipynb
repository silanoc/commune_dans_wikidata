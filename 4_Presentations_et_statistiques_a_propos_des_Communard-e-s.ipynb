{
 "cells": [
  {
   "cell_type": "markdown",
   "id": "e1735217",
   "metadata": {},
   "source": [
    "# La Commune de Paris 1871 en liberté - Présentations et statistiques à propos des Communard-e-s"
   ]
  },
  {
   "cell_type": "markdown",
   "id": "8f780eda",
   "metadata": {},
   "source": [
    "L'intérêt de wikidata est de pouvoir faire quelques statistiques et autres affichages."
   ]
  },
  {
   "cell_type": "markdown",
   "id": "25fe0677",
   "metadata": {},
   "source": [
    "## Galerie de portrait\n",
    "Tous ces portrait sont hébergé sur Wikimedia Commons, sous une licence libre (variable d'une image à l'autre) et donc réutilisable.\n",
    "\n",
    "La propriété P18 permet d'illustrer l'élément avec une image. Dans quelques cas, mais cela est plutôt à éviter, al peut y en avoir plyusieurs.\n",
    "\n",
    "> image (P18)\n",
    "image de l'élément\n",
    "    photo\n",
    "    portrait\n",
    "    buste\n",
    "    statue\n",
    "    photographie\n",
    "    cliché\n",
    "    prise de vue\n",
    "    dessin\n",
    "    reproduction\n",
    "\n"
   ]
  },
  {
   "cell_type": "markdown",
   "id": "b47e7267",
   "metadata": {},
   "source": [
    "```sparql\n",
    "#defaultView:ImageGrid\n",
    "SELECT DISTINCT ?communard_ou_communarde ?communard_ou_communardeLabel ?image WHERE {\n",
    "  SERVICE wikibase:label { bd:serviceParam wikibase:language \"[AUTO_LANGUAGE],en\". }\n",
    "  ?communard_ou_communarde wdt:P106 wd:Q1780490.\n",
    "  OPTIONAL { ?communard_ou_communarde wdt:P18 ?image. }\n",
    "}\n",
    "```"
   ]
  },
  {
   "cell_type": "code",
   "execution_count": 1,
   "id": "bb0caa43",
   "metadata": {},
   "outputs": [
    {
     "data": {
      "text/html": [
       "<iframe style=\"width: 95%; height: 50vh; border: none;\" \n",
       "src=\"https://query.wikidata.org/embed.html#%23defaultView%3AImageGrid%0ASELECT%20DISTINCT%20%3Fcommunard_ou_communarde%20%3Fcommunard_ou_communardeLabel%20%3Fimage%20WHERE%20%7B%0A%20%20SERVICE%20wikibase%3Alabel%20%7B%20bd%3AserviceParam%20wikibase%3Alanguage%20%22%5BAUTO_LANGUAGE%5D%2Cen%22.%20%7D%0A%20%20%3Fcommunard_ou_communarde%20wdt%3AP106%20wd%3AQ1780490.%0A%20%20OPTIONAL%20%7B%20%3Fcommunard_ou_communarde%20wdt%3AP18%20%3Fimage.%20%7D%0A%7D\" \n",
       "referrerpolicy=\"origin\" sandbox=\"allow-scripts allow-same-origin allow-popups\">\n",
       "</iframe>\n"
      ],
      "text/plain": [
       "<IPython.core.display.HTML object>"
      ]
     },
     "metadata": {},
     "output_type": "display_data"
    }
   ],
   "source": [
    "%%HTML\n",
    "<iframe style=\"width: 95%; height: 50vh; border: none;\" \n",
    "src=\"https://query.wikidata.org/embed.html#%23defaultView%3AImageGrid%0ASELECT%20DISTINCT%20%3Fcommunard_ou_communarde%20%3Fcommunard_ou_communardeLabel%20%3Fimage%20WHERE%20%7B%0A%20%20SERVICE%20wikibase%3Alabel%20%7B%20bd%3AserviceParam%20wikibase%3Alanguage%20%22%5BAUTO_LANGUAGE%5D%2Cen%22.%20%7D%0A%20%20%3Fcommunard_ou_communarde%20wdt%3AP106%20wd%3AQ1780490.%0A%20%20OPTIONAL%20%7B%20%3Fcommunard_ou_communarde%20wdt%3AP18%20%3Fimage.%20%7D%0A%7D\" \n",
    "referrerpolicy=\"origin\" sandbox=\"allow-scripts allow-same-origin allow-popups\">\n",
    "</iframe>"
   ]
  },
  {
   "cell_type": "markdown",
   "id": "e3ec6b06",
   "metadata": {},
   "source": [
    "## Images de communard·e·s"
   ]
  },
  {
   "cell_type": "markdown",
   "id": "f58af875",
   "metadata": {},
   "source": [
    "De nombreux communard·e·s ont été représenté de façon plus ou moins anonymes. Voyons les images P18 qui dépeignent(P180) des communard·e·s.\n",
    "\n",
    "> dépeint (P180)\n",
    "personne, lieu, objet ou événement représenté dans l’œuvre ; voir aussi P921 \"sujet ou thème principal\""
   ]
  },
  {
   "cell_type": "markdown",
   "id": "0058b088",
   "metadata": {},
   "source": [
    "```sparql\n",
    "#defaultView:ImageGrid\n",
    "SELECT ?oeuvre ?oeuvreLabel ?image WHERE {\n",
    "  SERVICE wikibase:label { bd:serviceParam wikibase:language \"fr,en\". }\n",
    "  ?oeuvre wdt:P180 wd:Q1780490.\n",
    "  OPTIONAL { ?oeuvre wdt:P18 ?image. }\n",
    "}\n",
    "```"
   ]
  },
  {
   "cell_type": "code",
   "execution_count": 2,
   "id": "a9d72b50",
   "metadata": {},
   "outputs": [
    {
     "data": {
      "text/html": [
       "<iframe style=\"width: 95%; height: 50vh; border: none;\" \n",
       "src=\"https://query.wikidata.org/embed.html#%23defaultView%3AImageGrid%0ASELECT%20%3Foeuvre%20%3FoeuvreLabel%20%3Fimage%20WHERE%20%7B%0A%20%20SERVICE%20wikibase%3Alabel%20%7B%20bd%3AserviceParam%20wikibase%3Alanguage%20%22fr%2Cen%22.%20%7D%0A%20%20%3Foeuvre%20wdt%3AP180%20wd%3AQ1780490.%0A%20%20OPTIONAL%20%7B%20%3Foeuvre%20wdt%3AP18%20%3Fimage.%20%7D%0A%7D\" \n",
       "referrerpolicy=\"origin\" sandbox=\"allow-scripts allow-same-origin allow-popups\">\n",
       "</iframe>\n"
      ],
      "text/plain": [
       "<IPython.core.display.HTML object>"
      ]
     },
     "metadata": {},
     "output_type": "display_data"
    }
   ],
   "source": [
    "%%HTML\n",
    "<iframe style=\"width: 95%; height: 50vh; border: none;\" \n",
    "src=\"https://query.wikidata.org/embed.html#%23defaultView%3AImageGrid%0ASELECT%20%3Foeuvre%20%3FoeuvreLabel%20%3Fimage%20WHERE%20%7B%0A%20%20SERVICE%20wikibase%3Alabel%20%7B%20bd%3AserviceParam%20wikibase%3Alanguage%20%22fr%2Cen%22.%20%7D%0A%20%20%3Foeuvre%20wdt%3AP180%20wd%3AQ1780490.%0A%20%20OPTIONAL%20%7B%20%3Foeuvre%20wdt%3AP18%20%3Fimage.%20%7D%0A%7D\" \n",
    "referrerpolicy=\"origin\" sandbox=\"allow-scripts allow-same-origin allow-popups\">\n",
    "</iframe>"
   ]
  },
  {
   "cell_type": "markdown",
   "id": "3d8e2e8a",
   "metadata": {},
   "source": [
    "## Gender-gap \n",
    "Ou en bon français, la répartition homme/femme.\n",
    "\n",
    "On mesure ici le nombre d'hommes et de femmes référencæs dans wikidata. On mesure donc le ratio entre les personnes rentrées dans wikidata et pas dans la réalité. Même si les critères d’admissibilité dans wikidata sont très généreux, il faut un minimum de sources et le temsp de les rentrer.\n",
    "\n",
    "> sexe ou genre (P21) pour les humains, soit masculin (Q6581097), féminin (Q6581072), intersexué (Q1097630), femme transgenre (Q1052281), homme transgenre (Q2449503), non-binaire (Q48270) ; pour les animaux, mâle (Q44148) ou femelle (Q43445)"
   ]
  },
  {
   "cell_type": "markdown",
   "id": "055d9ce6",
   "metadata": {},
   "source": [
    "### Sparql"
   ]
  },
  {
   "cell_type": "markdown",
   "id": "db8be4b4",
   "metadata": {},
   "source": [
    "```sparql\n",
    "#defaultView:BubbleChart\n",
    "SELECT ?sexe_ou_genreLabel (count(?sexe_ou_genre) as ?genre) WHERE {\n",
    "  SERVICE wikibase:label { bd:serviceParam wikibase:language \"[AUTO_LANGUAGE],en\". }\n",
    "  ?communard_ou_communarde wdt:P106 wd:Q1780490.\n",
    "  OPTIONAL { ?communard_ou_communarde wdt:P21 ?sexe_ou_genre. }\n",
    "}\n",
    "group by ?sexe_ou_genreLabel\n",
    "```"
   ]
  },
  {
   "cell_type": "code",
   "execution_count": 3,
   "id": "3d79972a",
   "metadata": {},
   "outputs": [
    {
     "data": {
      "text/html": [
       "<iframe style=\"width: 95%; height: 40vh; border: none;\" \n",
       "src=\"https://query.wikidata.org/embed.html#%23defaultView%3ABubbleChart%0ASELECT%20%3Fsexe_ou_genreLabel%20(count(%3Fsexe_ou_genre)%20as%20%3Fgenre)%20WHERE%20%7B%0A%20%20SERVICE%20wikibase%3Alabel%20%7B%20bd%3AserviceParam%20wikibase%3Alanguage%20%22%5BAUTO_LANGUAGE%5D%2Cen%22.%20%7D%0A%20%20%3Fcommunard_ou_communarde%20wdt%3AP106%20wd%3AQ1780490.%0A%20%20OPTIONAL%20%7B%20%3Fcommunard_ou_communarde%20wdt%3AP21%20%3Fsexe_ou_genre.%20%7D%0A%7D%0Agroup%20by%20%3Fsexe_ou_genreLabel\" \n",
       "referrerpolicy=\"origin\" sandbox=\"allow-scripts allow-same-origin allow-popups\">\n",
       "</iframe>\n"
      ],
      "text/plain": [
       "<IPython.core.display.HTML object>"
      ]
     },
     "metadata": {},
     "output_type": "display_data"
    }
   ],
   "source": [
    "%%HTML\n",
    "<iframe style=\"width: 95%; height: 40vh; border: none;\" \n",
    "src=\"https://query.wikidata.org/embed.html#%23defaultView%3ABubbleChart%0ASELECT%20%3Fsexe_ou_genreLabel%20(count(%3Fsexe_ou_genre)%20as%20%3Fgenre)%20WHERE%20%7B%0A%20%20SERVICE%20wikibase%3Alabel%20%7B%20bd%3AserviceParam%20wikibase%3Alanguage%20%22%5BAUTO_LANGUAGE%5D%2Cen%22.%20%7D%0A%20%20%3Fcommunard_ou_communarde%20wdt%3AP106%20wd%3AQ1780490.%0A%20%20OPTIONAL%20%7B%20%3Fcommunard_ou_communarde%20wdt%3AP21%20%3Fsexe_ou_genre.%20%7D%0A%7D%0Agroup%20by%20%3Fsexe_ou_genreLabel\" \n",
    "referrerpolicy=\"origin\" sandbox=\"allow-scripts allow-same-origin allow-popups\">\n",
    "</iframe>"
   ]
  },
  {
   "cell_type": "markdown",
   "id": "304843fe",
   "metadata": {},
   "source": [
    "- 9 mars 2022 : 172 / 74 soit 2.32\n",
    "- 16 janvier 2023 : 190 / 107 soit 1.77"
   ]
  },
  {
   "cell_type": "markdown",
   "id": "3854737d",
   "metadata": {},
   "source": [
    "### en python"
   ]
  },
  {
   "cell_type": "code",
   "execution_count": 5,
   "id": "e2d522c1",
   "metadata": {},
   "outputs": [],
   "source": [
    "# faire un df_genre d'une seule colonne des valeurs sur le genre (P21)\n",
    "#df_genre = df_communard_tous_p_q[df_communard_tous_p_q['p.value']=='http://www.wikidata.org/prop/direct/P21']\n",
    "#df_genre = df_genre['qLabel.value']"
   ]
  },
  {
   "cell_type": "code",
   "execution_count": 6,
   "id": "4affc8e2",
   "metadata": {},
   "outputs": [],
   "source": [
    "# faire un df du nombre de personne par genre\n",
    "#data = df_genre.value_counts()\n",
    "#df_data = pd.DataFrame(data)\n",
    "#df_data = df_data.reset_index('qLabel.value')\n",
    "#df_data"
   ]
  },
  {
   "cell_type": "code",
   "execution_count": 7,
   "id": "b12da494",
   "metadata": {},
   "outputs": [],
   "source": [
    "#print(df_data.to_markdown())"
   ]
  },
  {
   "cell_type": "code",
   "execution_count": 8,
   "id": "2e149e31",
   "metadata": {},
   "outputs": [],
   "source": [
    "# faire des phrases\n",
    "#print(f\"On peut compter {df_genre.value_counts()[0]} hommes et {df_genre.value_counts()[1]} femmes.\")"
   ]
  },
  {
   "cell_type": "code",
   "execution_count": 9,
   "id": "0a7c2f29",
   "metadata": {},
   "outputs": [],
   "source": [
    "# graphique\n",
    "#donnee = df_data['count']\n",
    "#label = df_data['qLabel.value']\n",
    "#couleur = sns.color_palette(\"pastel\")\n",
    "#plt.pie(donnee, labels = label, colors = couleur, autopct = lambda p : '{:.0f}%  ({:,.0f})'.format(p,p * sum(donnee)/100))\n",
    "#plt.show()"
   ]
  },
  {
   "cell_type": "markdown",
   "id": "a15a7d82",
   "metadata": {},
   "source": [
    "## A part avoir participer à la Commune, que faisaient ces personnes ?\n",
    "\n",
    "La propriété P106, déjà évoqué, permet de connaitre leurs occupations : métiers, loisirs...\n",
    "\n",
    "On peut compter combien de personne participe à chaque occupation. Une personne peut avoir de multiple occupation. Elles peuvent avoir été occupées avant/pendant/après les événements."
   ]
  },
  {
   "cell_type": "markdown",
   "id": "c4cd97ef",
   "metadata": {},
   "source": [
    "### Au moins deux personnes qui l'occupe"
   ]
  },
  {
   "cell_type": "markdown",
   "id": "3ba750ef",
   "metadata": {},
   "source": [
    "```sparql\n",
    "SELECT ?occupation ?occupationLabel (COUNT(?communard_ou_communarde) AS ?nombre) WHERE {\n",
    "  SERVICE wikibase:label { bd:serviceParam wikibase:language \"[AUTO_LANGUAGE],en\". }\n",
    "  ?communard_ou_communarde wdt:P106 wd:Q1780490;\n",
    "                           wdt:P106 ?occupation.\n",
    "}\n",
    "GROUP BY ?occupation ?occupationLabel\n",
    "HAVING (((COUNT(?communard_ou_communarde)) > 1 ) && ((COUNT(?communard_ou_communarde)) < 290 ))# Sélectionner ceux dont il y a plus d'une occurence et moins de 290 pour supprimer communard qui est à plus de 297 le 12 janvier 2023\n",
    "\n",
    "ORDER BY DESC (?nombre)\n",
    "```"
   ]
  },
  {
   "cell_type": "markdown",
   "id": "70961cba",
   "metadata": {},
   "source": [
    "#### En sparql"
   ]
  },
  {
   "cell_type": "code",
   "execution_count": 10,
   "id": "9c786c7d",
   "metadata": {},
   "outputs": [
    {
     "data": {
      "text/html": [
       "<iframe style=\"width: 95%; height: 50vh; border: none;\" \n",
       "src=\"https://query.wikidata.org/embed.html#SELECT%20%3Foccupation%20%3FoccupationLabel%20(COUNT(%3Fcommunard_ou_communarde)%20AS%20%3Fnombre)%20WHERE%20%7B%0A%20%20SERVICE%20wikibase%3Alabel%20%7B%20bd%3AserviceParam%20wikibase%3Alanguage%20%22%5BAUTO_LANGUAGE%5D%2Cen%22.%20%7D%0A%20%20%3Fcommunard_ou_communarde%20wdt%3AP106%20wd%3AQ1780490%3B%0A%20%20%20%20%20%20%20%20%20%20%20%20%20%20%20%20%20%20%20%20%20%20%20%20%20%20%20wdt%3AP106%20%3Foccupation.%0A%7D%0AGROUP%20BY%20%3Foccupation%20%3FoccupationLabel%0AHAVING%20(((COUNT(%3Fcommunard_ou_communarde))%20%3E%201%20)%20%26%26%20((COUNT(%3Fcommunard_ou_communarde))%20%3C%20290%20))%23%20S%C3%A9lectionner%20ceux%20dont%20il%20y%20a%20plus%20d'une%20occurence%20et%20moins%20de%20290%20pour%20supprimer%20communard%20qui%20est%20%C3%A0%20plus%20de%20297%20le%2012%20janvier%202023%0A%0AORDER%20BY%20DESC%20(%3Fnombre)\" \n",
       "referrerpolicy=\"origin\" sandbox=\"allow-scripts allow-same-origin allow-popups\">\n",
       "</iframe>\n"
      ],
      "text/plain": [
       "<IPython.core.display.HTML object>"
      ]
     },
     "metadata": {},
     "output_type": "display_data"
    }
   ],
   "source": [
    "%%HTML\n",
    "<iframe style=\"width: 95%; height: 50vh; border: none;\" \n",
    "src=\"https://query.wikidata.org/embed.html#SELECT%20%3Foccupation%20%3FoccupationLabel%20(COUNT(%3Fcommunard_ou_communarde)%20AS%20%3Fnombre)%20WHERE%20%7B%0A%20%20SERVICE%20wikibase%3Alabel%20%7B%20bd%3AserviceParam%20wikibase%3Alanguage%20%22%5BAUTO_LANGUAGE%5D%2Cen%22.%20%7D%0A%20%20%3Fcommunard_ou_communarde%20wdt%3AP106%20wd%3AQ1780490%3B%0A%20%20%20%20%20%20%20%20%20%20%20%20%20%20%20%20%20%20%20%20%20%20%20%20%20%20%20wdt%3AP106%20%3Foccupation.%0A%7D%0AGROUP%20BY%20%3Foccupation%20%3FoccupationLabel%0AHAVING%20(((COUNT(%3Fcommunard_ou_communarde))%20%3E%201%20)%20%26%26%20((COUNT(%3Fcommunard_ou_communarde))%20%3C%20290%20))%23%20S%C3%A9lectionner%20ceux%20dont%20il%20y%20a%20plus%20d'une%20occurence%20et%20moins%20de%20290%20pour%20supprimer%20communard%20qui%20est%20%C3%A0%20plus%20de%20297%20le%2012%20janvier%202023%0A%0AORDER%20BY%20DESC%20(%3Fnombre)\" \n",
    "referrerpolicy=\"origin\" sandbox=\"allow-scripts allow-same-origin allow-popups\">\n",
    "</iframe>"
   ]
  },
  {
   "cell_type": "markdown",
   "id": "660af7c7",
   "metadata": {},
   "source": [
    "#### En python"
   ]
  },
  {
   "cell_type": "code",
   "execution_count": 11,
   "id": "29af6f7e",
   "metadata": {},
   "outputs": [],
   "source": [
    "# faire un df_genre d'une seule colonne des valeurs sur l'occupation (P16)\n",
    "#df_occupation = df_communard_tous_p_q[df_communard_tous_p_q['p.value']=='http://www.wikidata.org/prop/direct/P106']\n",
    "#df_occupation = df_occupation['qLabel.value']"
   ]
  },
  {
   "cell_type": "code",
   "execution_count": 12,
   "id": "51780734",
   "metadata": {},
   "outputs": [],
   "source": [
    "# faire un df du nombre de personne par occupation\n",
    "#data = df_occupation.value_counts()\n",
    "#df_data = pd.DataFrame(data)\n",
    "#df_data = df_data.reset_index('qLabel.value')\n",
    "#df_data_plusieurs = df_data[df_data['count'] > 1]\n",
    "#df_data_plusieurs = df_data_plusieurs.iloc[1:,:] #retirer la première ligne correspondant à communard"
   ]
  },
  {
   "cell_type": "code",
   "execution_count": 13,
   "id": "828be335",
   "metadata": {},
   "outputs": [],
   "source": [
    "#HTML('<style> table{color: red;} </style>')\n",
    "#HTML(df_data_plusieurs.to_html())"
   ]
  },
  {
   "cell_type": "markdown",
   "id": "eff666de",
   "metadata": {},
   "source": [
    "### Occupations avec une seule personne "
   ]
  },
  {
   "cell_type": "code",
   "execution_count": 14,
   "id": "9e3c52e4",
   "metadata": {},
   "outputs": [],
   "source": [
    "#df_data_unique = df_data[df_data['count'] == 1]"
   ]
  },
  {
   "cell_type": "code",
   "execution_count": 15,
   "id": "9e2a394b",
   "metadata": {},
   "outputs": [],
   "source": [
    "#list_metiers_uniques = df_data_unique['qLabel.value'].tolist()\n",
    "#str_liste_metier = f\"Les métiers occupés par une seule personnes sont : {', '.join(list_metiers_uniques)}.\"\n",
    "#str_liste_metier"
   ]
  },
  {
   "cell_type": "markdown",
   "id": "adf847a1",
   "metadata": {},
   "source": [
    "## Quel âge avait ces personnes en 1871 ?"
   ]
  },
  {
   "cell_type": "markdown",
   "id": "1a5afb63",
   "metadata": {},
   "source": [
    "```sparql\n",
    "#defaultView:AreaChart\n",
    "SELECT \n",
    "  ?age_on_march_18th (COUNT(?communard) AS ?count_persons)\n",
    "WHERE {\n",
    "  ?communard wdt:P106 wd:Q1780490;\n",
    "             wdt:P569 ?birth_date.\n",
    "  BIND (YEAR(\"1871-03-18\"^^xsd:date) - YEAR(?birth_date) AS ?age_on_march_18th)\n",
    "  FILTER(?age_on_march_18th > 5)\n",
    "}\n",
    "GROUP BY ?age_on_march_18th\n",
    "```"
   ]
  },
  {
   "cell_type": "code",
   "execution_count": 16,
   "id": "92267802",
   "metadata": {},
   "outputs": [
    {
     "data": {
      "text/html": [
       "<iframe style=\"width: 95%; height: 50vh; border: none;\" \n",
       "src=\"https://query.wikidata.org/embed.html#%23defaultView%3AAreaChart%0ASELECT%20%0A%20%20%3Fage_on_march_18th%20(COUNT(%3Fcommunard)%20AS%20%3Fcount_persons)%0AWHERE%20%7B%0A%20%20%3Fcommunard%20wdt%3AP106%20wd%3AQ1780490%3B%0A%20%20%20%20%20%20%20%20%20%20%20%20%20wdt%3AP569%20%3Fbirth_date.%0A%20%20BIND%20(YEAR(%221871-03-18%22%5E%5Exsd%3Adate)%20-%20YEAR(%3Fbirth_date)%20AS%20%3Fage_on_march_18th)%0A%20%20FILTER(%3Fage_on_march_18th%20%3E%205)%0A%7D%0AGROUP%20BY%20%3Fage_on_march_18th%0A\" \n",
       "referrerpolicy=\"origin\" sandbox=\"allow-scripts allow-same-origin allow-popups\">\n",
       "</iframe>\n"
      ],
      "text/plain": [
       "<IPython.core.display.HTML object>"
      ]
     },
     "metadata": {},
     "output_type": "display_data"
    }
   ],
   "source": [
    "%%HTML\n",
    "<iframe style=\"width: 95%; height: 50vh; border: none;\" \n",
    "src=\"https://query.wikidata.org/embed.html#%23defaultView%3AAreaChart%0ASELECT%20%0A%20%20%3Fage_on_march_18th%20(COUNT(%3Fcommunard)%20AS%20%3Fcount_persons)%0AWHERE%20%7B%0A%20%20%3Fcommunard%20wdt%3AP106%20wd%3AQ1780490%3B%0A%20%20%20%20%20%20%20%20%20%20%20%20%20wdt%3AP569%20%3Fbirth_date.%0A%20%20BIND%20(YEAR(%221871-03-18%22%5E%5Exsd%3Adate)%20-%20YEAR(%3Fbirth_date)%20AS%20%3Fage_on_march_18th)%0A%20%20FILTER(%3Fage_on_march_18th%20%3E%205)%0A%7D%0AGROUP%20BY%20%3Fage_on_march_18th%0A\" \n",
    "referrerpolicy=\"origin\" sandbox=\"allow-scripts allow-same-origin allow-popups\">\n",
    "</iframe>"
   ]
  },
  {
   "cell_type": "markdown",
   "id": "d4f1cb22",
   "metadata": {},
   "source": [
    "## Une Commune internationale\n",
    "\n",
    "> pays de citoyenneté (P27)\n",
    "État dont la personne possède la nationalité\n",
    "\n",
    "Toute les personne n'ont pas le champs remplit."
   ]
  },
  {
   "cell_type": "markdown",
   "id": "370fa90f",
   "metadata": {},
   "source": [
    "```sparql\n",
    "SELECT ?pays_de_citoyenneté ?pays_de_citoyennetéLabel (count(?pays_de_citoyenneté) as ?nb) WHERE {\n",
    "  SERVICE wikibase:label { bd:serviceParam wikibase:language \"[AUTO_LANGUAGE],en\". }\n",
    "  ?communard_ou_communarde wdt:P106 wd:Q1780490.\n",
    "  OPTIONAL { ?communard_ou_communarde wdt:P27 ?pays_de_citoyenneté. }\n",
    "}\n",
    "group by ?pays_de_citoyenneté ?pays_de_citoyennetéLabel\n",
    "order by desc(?nb)\n",
    "```"
   ]
  },
  {
   "cell_type": "code",
   "execution_count": 17,
   "id": "b0ba5981",
   "metadata": {},
   "outputs": [
    {
     "data": {
      "text/html": [
       "<iframe style=\"width: 95%; height: 50vh; border: none;\" \n",
       "src=\"https://query.wikidata.org/embed.html#SELECT%20%3Fpays_de_citoyennet%C3%A9%20%3Fpays_de_citoyennet%C3%A9Label%20(count(%3Fpays_de_citoyennet%C3%A9)%20as%20%3Fnb)%20WHERE%20%7B%0A%20%20SERVICE%20wikibase%3Alabel%20%7B%20bd%3AserviceParam%20wikibase%3Alanguage%20%22%5BAUTO_LANGUAGE%5D%2Cen%22.%20%7D%0A%20%20%3Fcommunard_ou_communarde%20wdt%3AP106%20wd%3AQ1780490.%0A%20%20OPTIONAL%20%7B%20%3Fcommunard_ou_communarde%20wdt%3AP27%20%3Fpays_de_citoyennet%C3%A9.%20%7D%0A%7D%0A%0Agroup%20by%20%3Fpays_de_citoyennet%C3%A9%20%3Fpays_de_citoyennet%C3%A9Label%0Aorder%20by%20desc(%3Fnb)\" \n",
       "referrerpolicy=\"origin\" sandbox=\"allow-scripts allow-same-origin allow-popups\">\n",
       "</iframe>\n"
      ],
      "text/plain": [
       "<IPython.core.display.HTML object>"
      ]
     },
     "metadata": {},
     "output_type": "display_data"
    }
   ],
   "source": [
    "%%HTML\n",
    "<iframe style=\"width: 95%; height: 50vh; border: none;\" \n",
    "src=\"https://query.wikidata.org/embed.html#SELECT%20%3Fpays_de_citoyennet%C3%A9%20%3Fpays_de_citoyennet%C3%A9Label%20(count(%3Fpays_de_citoyennet%C3%A9)%20as%20%3Fnb)%20WHERE%20%7B%0A%20%20SERVICE%20wikibase%3Alabel%20%7B%20bd%3AserviceParam%20wikibase%3Alanguage%20%22%5BAUTO_LANGUAGE%5D%2Cen%22.%20%7D%0A%20%20%3Fcommunard_ou_communarde%20wdt%3AP106%20wd%3AQ1780490.%0A%20%20OPTIONAL%20%7B%20%3Fcommunard_ou_communarde%20wdt%3AP27%20%3Fpays_de_citoyennet%C3%A9.%20%7D%0A%7D%0A%0Agroup%20by%20%3Fpays_de_citoyennet%C3%A9%20%3Fpays_de_citoyennet%C3%A9Label%0Aorder%20by%20desc(%3Fnb)\" \n",
    "referrerpolicy=\"origin\" sandbox=\"allow-scripts allow-same-origin allow-popups\">\n",
    "</iframe>"
   ]
  },
  {
   "cell_type": "markdown",
   "id": "dcd978cc",
   "metadata": {},
   "source": [
    "## Relations entre communard·e·s"
   ]
  },
  {
   "cell_type": "markdown",
   "id": "e4ab7a44",
   "metadata": {},
   "source": [
    "### Partenaires de vie"
   ]
  },
  {
   "cell_type": "markdown",
   "id": "1061cf18",
   "metadata": {},
   "source": [
    "#### Communard·e·s et leur conjoint·e ou partenaire de vie "
   ]
  },
  {
   "cell_type": "markdown",
   "id": "45dc462b",
   "metadata": {},
   "source": [
    "```sparql\n",
    "SELECT ?communard_ou_communarde ?communard_ou_communardeLabel ?vie_avec ?vie_avecLabel WHERE {\n",
    "  SERVICE wikibase:label { bd:serviceParam wikibase:language \"[AUTO_LANGUAGE],en\". }\n",
    "  ?communard_ou_communarde wdt:P106 wd:Q1780490;\n",
    "                           wdt:P26|wdt:P451 ?vie_avec.\n",
    "}\n",
    "```"
   ]
  },
  {
   "cell_type": "code",
   "execution_count": 19,
   "id": "a8d93f65",
   "metadata": {},
   "outputs": [
    {
     "data": {
      "text/html": [
       "<iframe style=\"width: 95%; height: 50vh; border: none;\" \n",
       "src=\"https://query.wikidata.org/embed.html#SELECT%20%3Fcommunard_ou_communarde%20%3Fcommunard_ou_communardeLabel%20%3Fvie_avec%20%3Fvie_avecLabel%20WHERE%20%7B%0A%20%20SERVICE%20wikibase%3Alabel%20%7B%20bd%3AserviceParam%20wikibase%3Alanguage%20%22%5BAUTO_LANGUAGE%5D%2Cen%22.%20%7D%0A%20%20%3Fcommunard_ou_communarde%20wdt%3AP106%20wd%3AQ1780490%3B%0A%20%20%20%20%20%20%20%20%20%20%20%20%20%20%20%20%20%20%20%20%20%20%20%20%20%20%20wdt%3AP26%7Cwdt%3AP451%20%3Fvie_avec.%0A%7D%0A\" \n",
       "referrerpolicy=\"origin\" sandbox=\"allow-scripts allow-same-origin allow-popups\">\n",
       "</iframe>\n"
      ],
      "text/plain": [
       "<IPython.core.display.HTML object>"
      ]
     },
     "metadata": {},
     "output_type": "display_data"
    }
   ],
   "source": [
    "%%HTML\n",
    "<iframe style=\"width: 95%; height: 50vh; border: none;\" \n",
    "src=\"https://query.wikidata.org/embed.html#SELECT%20%3Fcommunard_ou_communarde%20%3Fcommunard_ou_communardeLabel%20%3Fvie_avec%20%3Fvie_avecLabel%20WHERE%20%7B%0A%20%20SERVICE%20wikibase%3Alabel%20%7B%20bd%3AserviceParam%20wikibase%3Alanguage%20%22%5BAUTO_LANGUAGE%5D%2Cen%22.%20%7D%0A%20%20%3Fcommunard_ou_communarde%20wdt%3AP106%20wd%3AQ1780490%3B%0A%20%20%20%20%20%20%20%20%20%20%20%20%20%20%20%20%20%20%20%20%20%20%20%20%20%20%20wdt%3AP26%7Cwdt%3AP451%20%3Fvie_avec.%0A%7D%0A\" \n",
    "referrerpolicy=\"origin\" sandbox=\"allow-scripts allow-same-origin allow-popups\">\n",
    "</iframe>"
   ]
  },
  {
   "cell_type": "markdown",
   "id": "91f1a0af",
   "metadata": {},
   "source": [
    "#### Communard·e·s vivant avec un·e autre communard·e·s"
   ]
  },
  {
   "cell_type": "markdown",
   "id": "7623c6a5",
   "metadata": {},
   "source": [
    "```sparql\n",
    "SELECT ?communard_ou_communarde ?communard_ou_communardeLabel ?vie_avec ?vie_avecLabel WHERE {\n",
    "  SERVICE wikibase:label { bd:serviceParam wikibase:language \"[AUTO_LANGUAGE],en\". }\n",
    "  ?communard_ou_communarde wdt:P106 wd:Q1780490;\n",
    "                           wdt:P26|wdt:P451 ?vie_avec.\n",
    "  ?vie_avec wdt:P106 wd:Q1780490.\n",
    "}\n",
    "```"
   ]
  },
  {
   "cell_type": "code",
   "execution_count": 20,
   "id": "53dc1834",
   "metadata": {},
   "outputs": [
    {
     "data": {
      "text/html": [
       "<iframe style=\"width: 95%; height: 50vh; border: none;\" \n",
       "src=\"https://query.wikidata.org/embed.html#SELECT%20%3Fcommunard_ou_communarde%20%3Fcommunard_ou_communardeLabel%20%3Fvie_avec%20%3Fvie_avecLabel%20WHERE%20%7B%0A%20%20SERVICE%20wikibase%3Alabel%20%7B%20bd%3AserviceParam%20wikibase%3Alanguage%20%22%5BAUTO_LANGUAGE%5D%2Cen%22.%20%7D%0A%20%20%3Fcommunard_ou_communarde%20wdt%3AP106%20wd%3AQ1780490%3B%0A%20%20%20%20%20%20%20%20%20%20%20%20%20%20%20%20%20%20%20%20%20%20%20%20%20%20%20wdt%3AP26%7Cwdt%3AP451%20%3Fvie_avec.%0A%20%20%3Fvie_avec%20wdt%3AP106%20wd%3AQ1780490.%0A%7D%0A\" \n",
       "referrerpolicy=\"origin\" sandbox=\"allow-scripts allow-same-origin allow-popups\">\n",
       "</iframe>\n"
      ],
      "text/plain": [
       "<IPython.core.display.HTML object>"
      ]
     },
     "metadata": {},
     "output_type": "display_data"
    }
   ],
   "source": [
    "%%HTML\n",
    "<iframe style=\"width: 95%; height: 50vh; border: none;\" \n",
    "src=\"https://query.wikidata.org/embed.html#SELECT%20%3Fcommunard_ou_communarde%20%3Fcommunard_ou_communardeLabel%20%3Fvie_avec%20%3Fvie_avecLabel%20WHERE%20%7B%0A%20%20SERVICE%20wikibase%3Alabel%20%7B%20bd%3AserviceParam%20wikibase%3Alanguage%20%22%5BAUTO_LANGUAGE%5D%2Cen%22.%20%7D%0A%20%20%3Fcommunard_ou_communarde%20wdt%3AP106%20wd%3AQ1780490%3B%0A%20%20%20%20%20%20%20%20%20%20%20%20%20%20%20%20%20%20%20%20%20%20%20%20%20%20%20wdt%3AP26%7Cwdt%3AP451%20%3Fvie_avec.%0A%20%20%3Fvie_avec%20wdt%3AP106%20wd%3AQ1780490.%0A%7D%0A\" \n",
    "referrerpolicy=\"origin\" sandbox=\"allow-scripts allow-same-origin allow-popups\">\n",
    "</iframe>"
   ]
  },
  {
   "cell_type": "markdown",
   "id": "b742d628",
   "metadata": {},
   "source": [
    "#### Communard·e·s dont le nombre de partenaire est supérieur à 1\n",
    "\n",
    "Entre la reconnaissance du divorce par la Commune, la durée de vie de certaines personnes... Certaines personnes ont pu vivre avec plusieurs personnes."
   ]
  },
  {
   "cell_type": "markdown",
   "id": "0c07d77e",
   "metadata": {},
   "source": [
    "```sparql\n",
    "SELECT ?communard_ou_communarde ?communard_ou_communardeLabel (count(?vie_avec)as ?nb_de_partenaire) WHERE {\n",
    "  SERVICE wikibase:label { bd:serviceParam wikibase:language \"[AUTO_LANGUAGE],en\". }\n",
    "  ?communard_ou_communarde wdt:P106 wd:Q1780490;\n",
    "                           wdt:P26|wdt:P451 ?vie_avec. \n",
    "}\n",
    "group by ?communard_ou_communarde ?communard_ou_communardeLabel\n",
    "HAVING(?nb_de_partenaire >1)\n",
    "```"
   ]
  },
  {
   "cell_type": "code",
   "execution_count": 21,
   "id": "bb8745f3",
   "metadata": {},
   "outputs": [
    {
     "data": {
      "text/html": [
       "<iframe style=\"width: 95%; height: 50vh; border: none;\" \n",
       "src=\"https://query.wikidata.org/embed.html#SELECT%20%3Fcommunard_ou_communarde%20%3Fcommunard_ou_communardeLabel%20(count(%3Fvie_avec)as%20%3Fnb_de_partenaire)%20WHERE%20%7B%0A%20%20SERVICE%20wikibase%3Alabel%20%7B%20bd%3AserviceParam%20wikibase%3Alanguage%20%22%5BAUTO_LANGUAGE%5D%2Cen%22.%20%7D%0A%20%20%3Fcommunard_ou_communarde%20wdt%3AP106%20wd%3AQ1780490%3B%0A%20%20%20%20%20%20%20%20%20%20%20%20%20%20%20%20%20%20%20%20%20%20%20%20%20%20%20wdt%3AP26%7Cwdt%3AP451%20%3Fvie_avec.%0A%0A%20%20%0A%7D%0Agroup%20by%20%3Fcommunard_ou_communarde%20%3Fcommunard_ou_communardeLabel%0AHAVING(%3Fnb_de_partenaire%20%3E1)\" \n",
       "referrerpolicy=\"origin\" sandbox=\"allow-scripts allow-same-origin allow-popups\">\n",
       "</iframe>\n"
      ],
      "text/plain": [
       "<IPython.core.display.HTML object>"
      ]
     },
     "metadata": {},
     "output_type": "display_data"
    }
   ],
   "source": [
    "%%HTML\n",
    "<iframe style=\"width: 95%; height: 50vh; border: none;\" \n",
    "src=\"https://query.wikidata.org/embed.html#SELECT%20%3Fcommunard_ou_communarde%20%3Fcommunard_ou_communardeLabel%20(count(%3Fvie_avec)as%20%3Fnb_de_partenaire)%20WHERE%20%7B%0A%20%20SERVICE%20wikibase%3Alabel%20%7B%20bd%3AserviceParam%20wikibase%3Alanguage%20%22%5BAUTO_LANGUAGE%5D%2Cen%22.%20%7D%0A%20%20%3Fcommunard_ou_communarde%20wdt%3AP106%20wd%3AQ1780490%3B%0A%20%20%20%20%20%20%20%20%20%20%20%20%20%20%20%20%20%20%20%20%20%20%20%20%20%20%20wdt%3AP26%7Cwdt%3AP451%20%3Fvie_avec.%0A%0A%20%20%0A%7D%0Agroup%20by%20%3Fcommunard_ou_communarde%20%3Fcommunard_ou_communardeLabel%0AHAVING(%3Fnb_de_partenaire%20%3E1)\" \n",
    "referrerpolicy=\"origin\" sandbox=\"allow-scripts allow-same-origin allow-popups\">\n",
    "</iframe>"
   ]
  },
  {
   "cell_type": "markdown",
   "id": "36c3143a",
   "metadata": {},
   "source": [
    "Au 6 mai 2023 il y a :\n",
    "- 50 couples\n",
    "- 27 couples de communard·e·s\n",
    "- 4 personnes ayant vécues avec au moins 2 autres personnes distinctes"
   ]
  },
  {
   "cell_type": "markdown",
   "id": "f0a3ea82",
   "metadata": {},
   "source": [
    "### Généalogie"
   ]
  },
  {
   "cell_type": "markdown",
   "id": "afc187e9",
   "metadata": {},
   "source": [
    "#### Communard·e·s et leurs enfants"
   ]
  },
  {
   "cell_type": "markdown",
   "id": "e65d706a",
   "metadata": {},
   "source": [
    "```sparql\n",
    "SELECT ?communard ?communardLabel ?enfant ?enfantLabel\n",
    "WHERE {\n",
    "SERVICE wikibase:label { bd:serviceParam wikibase:language \"[AUTO_LANGUAGE],en\". }\n",
    "\n",
    "  ?communard wdt:P106 wd:Q1780490;\n",
    "              wdt:P40 ?enfant.\n",
    "}\n",
    "```"
   ]
  },
  {
   "cell_type": "code",
   "execution_count": 22,
   "id": "f6206e21",
   "metadata": {},
   "outputs": [
    {
     "data": {
      "text/html": [
       "<iframe style=\"width: 95%; height: 50vh; border: none;\" \n",
       "src=\"https://query.wikidata.org/embed.html#SELECT%20%3Fcommunard%20%3FcommunardLabel%20%3Fenfant%20%3FenfantLabel%0AWHERE%20%7B%0ASERVICE%20wikibase%3Alabel%20%7B%20bd%3AserviceParam%20wikibase%3Alanguage%20%22%5BAUTO_LANGUAGE%5D%2Cen%22.%20%7D%0A%0A%20%20%3Fcommunard%20wdt%3AP106%20wd%3AQ1780490%3B%0A%20%20%20%20%20%20%20%20%20%20%20%20%20%20wdt%3AP40%20%3Fenfant.%0A%7D\" \n",
       "referrerpolicy=\"origin\" sandbox=\"allow-scripts allow-same-origin allow-popups\">\n",
       "</iframe>\n"
      ],
      "text/plain": [
       "<IPython.core.display.HTML object>"
      ]
     },
     "metadata": {},
     "output_type": "display_data"
    }
   ],
   "source": [
    "%%HTML\n",
    "<iframe style=\"width: 95%; height: 50vh; border: none;\" \n",
    "src=\"https://query.wikidata.org/embed.html#SELECT%20%3Fcommunard%20%3FcommunardLabel%20%3Fenfant%20%3FenfantLabel%0AWHERE%20%7B%0ASERVICE%20wikibase%3Alabel%20%7B%20bd%3AserviceParam%20wikibase%3Alanguage%20%22%5BAUTO_LANGUAGE%5D%2Cen%22.%20%7D%0A%0A%20%20%3Fcommunard%20wdt%3AP106%20wd%3AQ1780490%3B%0A%20%20%20%20%20%20%20%20%20%20%20%20%20%20wdt%3AP40%20%3Fenfant.%0A%7D\" \n",
    "referrerpolicy=\"origin\" sandbox=\"allow-scripts allow-same-origin allow-popups\">\n",
    "</iframe>"
   ]
  },
  {
   "cell_type": "markdown",
   "id": "8c21eda3",
   "metadata": {},
   "source": [
    "#### Communard·e·s dont les enfants sont communard·e·s"
   ]
  },
  {
   "cell_type": "markdown",
   "id": "ce832b2e",
   "metadata": {},
   "source": [
    "```sparql\n",
    "SELECT ?communard ?communardLabel ?enfant ?enfantLabel\n",
    "WHERE {\n",
    "SERVICE wikibase:label { bd:serviceParam wikibase:language \"[AUTO_LANGUAGE],en\". }\n",
    "\n",
    "  ?communard wdt:P106 wd:Q1780490;\n",
    "              wdt:P40 ?enfant.\n",
    "  ?enfant wdt:P106 wd:Q1780490.\n",
    "}\n",
    "```"
   ]
  },
  {
   "cell_type": "code",
   "execution_count": 23,
   "id": "a2dc80f3",
   "metadata": {},
   "outputs": [
    {
     "data": {
      "text/html": [
       "<iframe style=\"width: 95%; height: 50vh; border: none;\" \n",
       "src=\"https://query.wikidata.org/embed.html#SELECT%20%3Fcommunard%20%3FcommunardLabel%20%3Fenfant%20%3FenfantLabel%0AWHERE%20%7B%0ASERVICE%20wikibase%3Alabel%20%7B%20bd%3AserviceParam%20wikibase%3Alanguage%20%22%5BAUTO_LANGUAGE%5D%2Cen%22.%20%7D%0A%0A%20%20%3Fcommunard%20wdt%3AP106%20wd%3AQ1780490%3B%0A%20%20%20%20%20%20%20%20%20%20%20%20%20%20wdt%3AP40%20%3Fenfant.%0A%20%20%3Fenfant%20wdt%3AP106%20wd%3AQ1780490.%0A%7D\" \n",
       "referrerpolicy=\"origin\" sandbox=\"allow-scripts allow-same-origin allow-popups\">\n",
       "</iframe>\n"
      ],
      "text/plain": [
       "<IPython.core.display.HTML object>"
      ]
     },
     "metadata": {},
     "output_type": "display_data"
    }
   ],
   "source": [
    "%%HTML\n",
    "<iframe style=\"width: 95%; height: 50vh; border: none;\" \n",
    "src=\"https://query.wikidata.org/embed.html#SELECT%20%3Fcommunard%20%3FcommunardLabel%20%3Fenfant%20%3FenfantLabel%0AWHERE%20%7B%0ASERVICE%20wikibase%3Alabel%20%7B%20bd%3AserviceParam%20wikibase%3Alanguage%20%22%5BAUTO_LANGUAGE%5D%2Cen%22.%20%7D%0A%0A%20%20%3Fcommunard%20wdt%3AP106%20wd%3AQ1780490%3B%0A%20%20%20%20%20%20%20%20%20%20%20%20%20%20wdt%3AP40%20%3Fenfant.%0A%20%20%3Fenfant%20wdt%3AP106%20wd%3AQ1780490.%0A%7D\" \n",
    "referrerpolicy=\"origin\" sandbox=\"allow-scripts allow-same-origin allow-popups\">\n",
    "</iframe>"
   ]
  },
  {
   "cell_type": "markdown",
   "id": "a18412e0",
   "metadata": {},
   "source": [
    "#### Mini-arbres généalogiques parent(s)-> communard·e -> enfant(s)"
   ]
  },
  {
   "cell_type": "markdown",
   "id": "232a6411",
   "metadata": {},
   "source": [
    "```sparql\n",
    "#defaultView:Graph\n",
    "SELECT ?parent ?parentLabel ?communard ?communardLabel ?enfant ?enfantLabel WHERE {\n",
    "SERVICE wikibase:label { bd:serviceParam wikibase:language \"[AUTO_LANGUAGE],en\". \n",
    "                         ?parent rdfs:label ?parentLabel.\n",
    "                         ?enfant rdfs:label ?enfantLabel.\n",
    "                         ?communard rdfs:label ?communardLabel }\n",
    "  \n",
    "  ?communard wdt:P106 wd:Q1780490.\n",
    "  Optional {?parent wdt:P40 ?communard.}\n",
    "  Optional {?communard wdt:P40 ?enfant.}\n",
    "  \n",
    "  filter(?parentLabel != \"\" || ?enfantLabel != \"\")\n",
    "}\n",
    "```"
   ]
  },
  {
   "cell_type": "code",
   "execution_count": 24,
   "id": "ddefc5ee",
   "metadata": {},
   "outputs": [
    {
     "data": {
      "text/html": [
       "<iframe style=\"width: 95%; height: 50vh; border: none;\" \n",
       "src=\"https://query.wikidata.org/embed.html#%23defaultView%3AGraph%0ASELECT%20%3Fparent%20%3FparentLabel%20%3Fcommunard%20%3FcommunardLabel%20%3Fenfant%20%3FenfantLabel%20WHERE%20%7B%0ASERVICE%20wikibase%3Alabel%20%7B%20bd%3AserviceParam%20wikibase%3Alanguage%20%22%5BAUTO_LANGUAGE%5D%2Cen%22.%20%0A%20%20%20%20%20%20%20%20%20%20%20%20%20%20%20%20%20%20%20%20%20%20%20%20%20%3Fparent%20rdfs%3Alabel%20%3FparentLabel.%0A%20%20%20%20%20%20%20%20%20%20%20%20%20%20%20%20%20%20%20%20%20%20%20%20%20%3Fenfant%20rdfs%3Alabel%20%3FenfantLabel.%0A%20%20%20%20%20%20%20%20%20%20%20%20%20%20%20%20%20%20%20%20%20%20%20%20%20%3Fcommunard%20rdfs%3Alabel%20%3FcommunardLabel%20%7D%0A%20%20%0A%20%20%3Fcommunard%20wdt%3AP106%20wd%3AQ1780490.%0A%20%20Optional%20%7B%3Fparent%20wdt%3AP40%20%3Fcommunard.%7D%0A%20%20Optional%20%7B%3Fcommunard%20wdt%3AP40%20%3Fenfant.%7D%0A%20%20%0A%20%20filter(%3FparentLabel%20!%3D%20%22%22%20%7C%7C%20%3FenfantLabel%20!%3D%20%22%22)%0A%7D%0A\" \n",
       "referrerpolicy=\"origin\" sandbox=\"allow-scripts allow-same-origin allow-popups\">\n",
       "</iframe>\n"
      ],
      "text/plain": [
       "<IPython.core.display.HTML object>"
      ]
     },
     "metadata": {},
     "output_type": "display_data"
    }
   ],
   "source": [
    "%%HTML\n",
    "<iframe style=\"width: 95%; height: 50vh; border: none;\" \n",
    "src=\"https://query.wikidata.org/embed.html#%23defaultView%3AGraph%0ASELECT%20%3Fparent%20%3FparentLabel%20%3Fcommunard%20%3FcommunardLabel%20%3Fenfant%20%3FenfantLabel%20WHERE%20%7B%0ASERVICE%20wikibase%3Alabel%20%7B%20bd%3AserviceParam%20wikibase%3Alanguage%20%22%5BAUTO_LANGUAGE%5D%2Cen%22.%20%0A%20%20%20%20%20%20%20%20%20%20%20%20%20%20%20%20%20%20%20%20%20%20%20%20%20%3Fparent%20rdfs%3Alabel%20%3FparentLabel.%0A%20%20%20%20%20%20%20%20%20%20%20%20%20%20%20%20%20%20%20%20%20%20%20%20%20%3Fenfant%20rdfs%3Alabel%20%3FenfantLabel.%0A%20%20%20%20%20%20%20%20%20%20%20%20%20%20%20%20%20%20%20%20%20%20%20%20%20%3Fcommunard%20rdfs%3Alabel%20%3FcommunardLabel%20%7D%0A%20%20%0A%20%20%3Fcommunard%20wdt%3AP106%20wd%3AQ1780490.%0A%20%20Optional%20%7B%3Fparent%20wdt%3AP40%20%3Fcommunard.%7D%0A%20%20Optional%20%7B%3Fcommunard%20wdt%3AP40%20%3Fenfant.%7D%0A%20%20%0A%20%20filter(%3FparentLabel%20!%3D%20%22%22%20%7C%7C%20%3FenfantLabel%20!%3D%20%22%22)%0A%7D%0A\" \n",
    "referrerpolicy=\"origin\" sandbox=\"allow-scripts allow-same-origin allow-popups\">\n",
    "</iframe>"
   ]
  },
  {
   "cell_type": "markdown",
   "id": "26c8bad7",
   "metadata": {},
   "source": [
    "#### entitree\n",
    "\n",
    "Entitree est un outil de visualisation des données, notaments des arbres généalogiques.\n",
    "\n",
    "On peut regarder par exemple ceux d'<a herf=\"https://www.entitree.com/fr/family_tree/Herminie_Cadolle?0d0=d\">Herminie Cadolle</a> dont le petit fils est champion cycliste, ou celui de Charles Longuet.\n",
    "\n",
    "https://www.entitree.com/fr/family_tree/Herminie_Cadolle?0d0=d\n",
    "https://www.entitree.com/fr/arbre_g%C3%A9n%C3%A9alogique/Charles_Longuet?0d0=d&0d0d1=dr&0d1=dr&0d2=d&0d1d2=d"
   ]
  },
  {
   "cell_type": "markdown",
   "id": "b3fc2f6a",
   "metadata": {},
   "source": [
    "### Reseau social des communard·e·s sur wikidata"
   ]
  },
  {
   "cell_type": "markdown",
   "id": "ba8d0cd3",
   "metadata": {},
   "source": [
    "#### Graph des communard·e·s et des organismes dont als sont membres\n",
    "\n",
    "membre de P463"
   ]
  },
  {
   "cell_type": "markdown",
   "id": "b4a09cac",
   "metadata": {},
   "source": [
    "```sparql\n",
    "#defaultView:Graph\n",
    "SELECT ?communard_ou_communarde ?communard_ou_communardeLabel ?membre_de ?membre_deLabel WHERE {\n",
    "  SERVICE wikibase:label { bd:serviceParam wikibase:language \"[AUTO_LANGUAGE],en\". }\n",
    "  ?communard_ou_communarde wdt:P106 wd:Q1780490;\n",
    "                           wdt:P463 ?membre_de.\n",
    "}\n",
    "````"
   ]
  },
  {
   "cell_type": "code",
   "execution_count": 25,
   "id": "45269d48",
   "metadata": {},
   "outputs": [
    {
     "data": {
      "text/html": [
       "<iframe style=\"width: 95%; height: 50vh; border: none;\" \n",
       "src=\"https://query.wikidata.org/embed.html#%23defaultView%3AGraph%0ASELECT%20%3Fcommunard_ou_communarde%20%3Fcommunard_ou_communardeLabel%20%3Fmembre_de%20%3Fmembre_deLabel%20WHERE%20%7B%0A%20%20SERVICE%20wikibase%3Alabel%20%7B%20bd%3AserviceParam%20wikibase%3Alanguage%20%22%5BAUTO_LANGUAGE%5D%2Cen%22.%20%7D%0A%20%20%3Fcommunard_ou_communarde%20wdt%3AP106%20wd%3AQ1780490%3B%0A%20%20%20%20%20%20%20%20%20%20%20%20%20%20%20%20%20%20%20%20%20%20%20%20%20%20%20wdt%3AP463%20%3Fmembre_de.%0A%7D%0A\" \n",
       "referrerpolicy=\"origin\" sandbox=\"allow-scripts allow-same-origin allow-popups\">\n",
       "</iframe>\n"
      ],
      "text/plain": [
       "<IPython.core.display.HTML object>"
      ]
     },
     "metadata": {},
     "output_type": "display_data"
    }
   ],
   "source": [
    "%%HTML\n",
    "<iframe style=\"width: 95%; height: 50vh; border: none;\" \n",
    "src=\"https://query.wikidata.org/embed.html#%23defaultView%3AGraph%0ASELECT%20%3Fcommunard_ou_communarde%20%3Fcommunard_ou_communardeLabel%20%3Fmembre_de%20%3Fmembre_deLabel%20WHERE%20%7B%0A%20%20SERVICE%20wikibase%3Alabel%20%7B%20bd%3AserviceParam%20wikibase%3Alanguage%20%22%5BAUTO_LANGUAGE%5D%2Cen%22.%20%7D%0A%20%20%3Fcommunard_ou_communarde%20wdt%3AP106%20wd%3AQ1780490%3B%0A%20%20%20%20%20%20%20%20%20%20%20%20%20%20%20%20%20%20%20%20%20%20%20%20%20%20%20wdt%3AP463%20%3Fmembre_de.%0A%7D%0A\" \n",
    "referrerpolicy=\"origin\" sandbox=\"allow-scripts allow-same-origin allow-popups\">\n",
    "</iframe>"
   ]
  },
  {
   "cell_type": "markdown",
   "id": "666131fd",
   "metadata": {},
   "source": [
    "#### nombre par organisme"
   ]
  },
  {
   "cell_type": "markdown",
   "id": "ed543926",
   "metadata": {},
   "source": [
    "```sparql\n",
    "SELECT ?membre_de ?membre_deLabel (count(?membre_deLabel) as ?nombre_de_membre) WHERE {\n",
    "  SERVICE wikibase:label { bd:serviceParam wikibase:language \"[AUTO_LANGUAGE],en\". }\n",
    "  ?communard_ou_communarde wdt:P106 wd:Q1780490;\n",
    "                           wdt:P463 ?membre_de.\n",
    "  optional {?membre_de wdt:P18 ?image.}\n",
    "}\n",
    "\n",
    "group by ?membre_de ?membre_deLabel\n",
    "order by desc(?nombre_de_membre)\n",
    "```"
   ]
  },
  {
   "cell_type": "code",
   "execution_count": 26,
   "id": "be182995",
   "metadata": {},
   "outputs": [
    {
     "data": {
      "text/html": [
       "<iframe style=\"width: 95%; height: 50vh; border: none;\" \n",
       "src=\"https://query.wikidata.org/embed.html#SELECT%20%3Fmembre_de%20%3Fmembre_deLabel%20(count(%3Fmembre_deLabel)%20as%20%3Fnombre_de_membre)%20WHERE%20%7B%0A%20%20SERVICE%20wikibase%3Alabel%20%7B%20bd%3AserviceParam%20wikibase%3Alanguage%20%22%5BAUTO_LANGUAGE%5D%2Cen%22.%20%7D%0A%20%20%3Fcommunard_ou_communarde%20wdt%3AP106%20wd%3AQ1780490%3B%0A%20%20%20%20%20%20%20%20%20%20%20%20%20%20%20%20%20%20%20%20%20%20%20%20%20%20%20wdt%3AP463%20%3Fmembre_de.%0A%20%20optional%20%7B%3Fmembre_de%20wdt%3AP18%20%3Fimage.%7D%0A%7D%0A%0Agroup%20by%20%3Fmembre_de%20%3Fmembre_deLabel%0Aorder%20by%20desc(%3Fnombre_de_membre)\" \n",
       "referrerpolicy=\"origin\" sandbox=\"allow-scripts allow-same-origin allow-popups\">\n",
       "</iframe>\n"
      ],
      "text/plain": [
       "<IPython.core.display.HTML object>"
      ]
     },
     "metadata": {},
     "output_type": "display_data"
    }
   ],
   "source": [
    "%%HTML\n",
    "<iframe style=\"width: 95%; height: 50vh; border: none;\" \n",
    "src=\"https://query.wikidata.org/embed.html#SELECT%20%3Fmembre_de%20%3Fmembre_deLabel%20(count(%3Fmembre_deLabel)%20as%20%3Fnombre_de_membre)%20WHERE%20%7B%0A%20%20SERVICE%20wikibase%3Alabel%20%7B%20bd%3AserviceParam%20wikibase%3Alanguage%20%22%5BAUTO_LANGUAGE%5D%2Cen%22.%20%7D%0A%20%20%3Fcommunard_ou_communarde%20wdt%3AP106%20wd%3AQ1780490%3B%0A%20%20%20%20%20%20%20%20%20%20%20%20%20%20%20%20%20%20%20%20%20%20%20%20%20%20%20wdt%3AP463%20%3Fmembre_de.%0A%20%20optional%20%7B%3Fmembre_de%20wdt%3AP18%20%3Fimage.%7D%0A%7D%0A%0Agroup%20by%20%3Fmembre_de%20%3Fmembre_deLabel%0Aorder%20by%20desc(%3Fnombre_de_membre)\" \n",
    "referrerpolicy=\"origin\" sandbox=\"allow-scripts allow-same-origin allow-popups\">\n",
    "</iframe>"
   ]
  },
  {
   "cell_type": "markdown",
   "id": "628c6330",
   "metadata": {},
   "source": [
    "## Licence\n",
    "\n",
    "Ce travail est sous licence libre plus précisement Creative Commons Attribution - Partage dans les Mêmes Conditions 4.0 International.\n",
    "\n",
    "Il est fait à partir de données libres (diverse licence) et logiciels ou formats libres.\n",
    "Citons python, notebook, makedon, mediawiki...\n",
    "J'autorise la diffusion commerciale pour payer les frais de papier si quelqu'an veut le diffuser en version papier.\n",
    "Par principe, la licence vous autorise à utiliser ce travail sans m'en informer, juste pour ma curiosité, merci de me le signaler.\n",
    "\n",
    "<a rel=\"license\" href=\"http://creativecommons.org/licenses/by-sa/4.0/\"><img alt=\"Licence Creative Commons\" style=\"border-width:0\" src=\"https://i.creativecommons.org/l/by-sa/4.0/88x31.png\" /></a><br />Cette œuvre est mise à disposition selon les termes de la <a rel=\"license\" href=\"http://creativecommons.org/licenses/by-sa/4.0/\">Licence Creative Commons Attribution -  Partage dans les Mêmes Conditions 4.0 International</a>.\n",
    "\n",
    "La version originale du notebook et des fichiers liées sont versionnés et héberger sur github. \n",
    "https://github.com/silanoc/commune_dans_wikidata\n",
    "\n"
   ]
  },
  {
   "cell_type": "code",
   "execution_count": null,
   "id": "8fcec5e5",
   "metadata": {},
   "outputs": [],
   "source": []
  }
 ],
 "metadata": {
  "hide_input": false,
  "kernelspec": {
   "display_name": "Python 3 (ipykernel)",
   "language": "python",
   "name": "python3"
  },
  "language_info": {
   "codemirror_mode": {
    "name": "ipython",
    "version": 3
   },
   "file_extension": ".py",
   "mimetype": "text/x-python",
   "name": "python",
   "nbconvert_exporter": "python",
   "pygments_lexer": "ipython3",
   "version": "3.11.4"
  },
  "toc": {
   "base_numbering": 1,
   "nav_menu": {},
   "number_sections": true,
   "sideBar": true,
   "skip_h1_title": false,
   "title_cell": "Table of Contents",
   "title_sidebar": "Contents",
   "toc_cell": false,
   "toc_position": {},
   "toc_section_display": true,
   "toc_window_display": false
  }
 },
 "nbformat": 4,
 "nbformat_minor": 5
}
