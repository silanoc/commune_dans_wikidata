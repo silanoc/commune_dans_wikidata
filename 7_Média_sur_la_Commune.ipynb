{
 "cells": [
  {
   "cell_type": "markdown",
   "id": "6669b2ae",
   "metadata": {},
   "source": [
    "# La Commune de Paris 1871 en liberté - Média sur la Commune"
   ]
  },
  {
   "cell_type": "markdown",
   "id": "f824ee7c",
   "metadata": {},
   "source": [
    "## Bibliographie"
   ]
  },
  {
   "cell_type": "markdown",
   "id": "eb638fd3",
   "metadata": {},
   "source": [
    "```sparql\n",
    "SELECT distinct ?ouvrage ?ouvrageLabel ?auteur ?auteurLabel ?titre ?editeur ?editeurLabel ?lieu_publication ?lieu_publicationLabel (year(?date) as ?date_publication) ?nombre_de_pages WHERE {\n",
    "  SERVICE wikibase:label { bd:serviceParam wikibase:language \"[AUTO_LANGUAGE],en\". }\n",
    "  values ?sujets {wd:Q133132 #commune de Paris\n",
    "          wd:Q3478362 #semaine sanglante\n",
    "          wd:Q47007501 #campagne de l'intérieur\n",
    "          wd:Q1780490 #communard\n",
    "          }\n",
    "  \n",
    "  ?communard wdt:P106 wd:Q1780490.\n",
    "  \n",
    "  {?ouvrage wdt:P31 wd:Q7725634;\n",
    "           wdt:P921 ?sujets.}\n",
    "  union\n",
    "    {?ouvrage wdt:P31 wd:Q7725634;\n",
    "           wdt:P921 ?communard.}\n",
    "  \n",
    "  OPTIONAL {?ouvrage wdt:P50 ?auteur}\n",
    "  OPTIONAL {?ouvrage wdt:P1476 ?titre}\n",
    "  OPTIONAL {?ouvrage wdt:P123 ?editeur}\n",
    "  OPTIONAL {?ouvrage wdt:P291 ?lieu_publication}\n",
    "  OPTIONAL {?ouvrage wdt:P577 ?date}\n",
    "  OPTIONAL {?ouvrage wdt:P1104 ?nombre_de_pages} \n",
    "\n",
    "}\n",
    "```"
   ]
  },
  {
   "cell_type": "markdown",
   "id": "66c6cbc0",
   "metadata": {},
   "source": [
    "### En sparql"
   ]
  },
  {
   "cell_type": "code",
   "execution_count": 6,
   "id": "dd6787d5",
   "metadata": {},
   "outputs": [
    {
     "data": {
      "text/html": [
       "<iframe style=\"width: 95%; height: 50vh; border: none;\" \n",
       "src=\"https://query.wikidata.org/embed.html#SELECT%20distinct%20%3Fouvrage%20%3FouvrageLabel%20%3Fauteur%20%3FauteurLabel%20%3Ftitre%20%3Fediteur%20%3FediteurLabel%20%3Flieu_publication%20%3Flieu_publicationLabel%20(year(%3Fdate)%20as%20%3Fdate_publication)%20%3Fnombre_de_pages%20WHERE%20%7B%0A%20%20SERVICE%20wikibase%3Alabel%20%7B%20bd%3AserviceParam%20wikibase%3Alanguage%20%22%5BAUTO_LANGUAGE%5D%2Cen%22.%20%7D%0A%20%20values%20%3Fsujets%20%7Bwd%3AQ133132%20%23commune%20de%20Paris%0A%20%20%20%20%20%20%20%20%20%20wd%3AQ3478362%20%23semaine%20sanglante%0A%20%20%20%20%20%20%20%20%20%20wd%3AQ47007501%20%23campagne%20de%20l'int%C3%A9rieur%0A%20%20%20%20%20%20%20%20%20%20wd%3AQ1780490%20%23communard%0A%20%20%20%20%20%20%20%20%20%20%7D%0A%20%20%0A%20%20%3Fcommunard%20wdt%3AP106%20wd%3AQ1780490.%0A%20%20%0A%20%20%7B%3Fouvrage%20wdt%3AP31%20wd%3AQ7725634%3B%0A%20%20%20%20%20%20%20%20%20%20%20wdt%3AP921%20%3Fsujets.%7D%0A%20%20union%0A%20%20%20%20%7B%3Fouvrage%20wdt%3AP31%20wd%3AQ7725634%3B%0A%20%20%20%20%20%20%20%20%20%20%20wdt%3AP921%20%3Fcommunard.%7D%0A%20%20%0A%20%20OPTIONAL%20%7B%3Fouvrage%20wdt%3AP50%20%3Fauteur%7D%0A%20%20OPTIONAL%20%7B%3Fouvrage%20wdt%3AP1476%20%3Ftitre%7D%0A%20%20OPTIONAL%20%7B%3Fouvrage%20wdt%3AP123%20%3Fediteur%7D%0A%20%20OPTIONAL%20%7B%3Fouvrage%20wdt%3AP291%20%3Flieu_publication%7D%0A%20%20OPTIONAL%20%7B%3Fouvrage%20wdt%3AP577%20%3Fdate%7D%0A%20%20OPTIONAL%20%7B%3Fouvrage%20wdt%3AP1104%20%3Fnombre_de_pages%7D%20%0A%0A%7D\" \n",
       "referrerpolicy=\"origin\" sandbox=\"allow-scripts allow-same-origin allow-popups\">\n",
       "</iframe>\n"
      ],
      "text/plain": [
       "<IPython.core.display.HTML object>"
      ]
     },
     "metadata": {},
     "output_type": "display_data"
    }
   ],
   "source": [
    "%%HTML\n",
    "<iframe style=\"width: 95%; height: 50vh; border: none;\" \n",
    "src=\"https://query.wikidata.org/embed.html#SELECT%20distinct%20%3Fouvrage%20%3FouvrageLabel%20%3Fauteur%20%3FauteurLabel%20%3Ftitre%20%3Fediteur%20%3FediteurLabel%20%3Flieu_publication%20%3Flieu_publicationLabel%20(year(%3Fdate)%20as%20%3Fdate_publication)%20%3Fnombre_de_pages%20WHERE%20%7B%0A%20%20SERVICE%20wikibase%3Alabel%20%7B%20bd%3AserviceParam%20wikibase%3Alanguage%20%22%5BAUTO_LANGUAGE%5D%2Cen%22.%20%7D%0A%20%20values%20%3Fsujets%20%7Bwd%3AQ133132%20%23commune%20de%20Paris%0A%20%20%20%20%20%20%20%20%20%20wd%3AQ3478362%20%23semaine%20sanglante%0A%20%20%20%20%20%20%20%20%20%20wd%3AQ47007501%20%23campagne%20de%20l'int%C3%A9rieur%0A%20%20%20%20%20%20%20%20%20%20wd%3AQ1780490%20%23communard%0A%20%20%20%20%20%20%20%20%20%20%7D%0A%20%20%0A%20%20%3Fcommunard%20wdt%3AP106%20wd%3AQ1780490.%0A%20%20%0A%20%20%7B%3Fouvrage%20wdt%3AP31%20wd%3AQ7725634%3B%0A%20%20%20%20%20%20%20%20%20%20%20wdt%3AP921%20%3Fsujets.%7D%0A%20%20union%0A%20%20%20%20%7B%3Fouvrage%20wdt%3AP31%20wd%3AQ7725634%3B%0A%20%20%20%20%20%20%20%20%20%20%20wdt%3AP921%20%3Fcommunard.%7D%0A%20%20%0A%20%20OPTIONAL%20%7B%3Fouvrage%20wdt%3AP50%20%3Fauteur%7D%0A%20%20OPTIONAL%20%7B%3Fouvrage%20wdt%3AP1476%20%3Ftitre%7D%0A%20%20OPTIONAL%20%7B%3Fouvrage%20wdt%3AP123%20%3Fediteur%7D%0A%20%20OPTIONAL%20%7B%3Fouvrage%20wdt%3AP291%20%3Flieu_publication%7D%0A%20%20OPTIONAL%20%7B%3Fouvrage%20wdt%3AP577%20%3Fdate%7D%0A%20%20OPTIONAL%20%7B%3Fouvrage%20wdt%3AP1104%20%3Fnombre_de_pages%7D%20%0A%0A%7D\" \n",
    "referrerpolicy=\"origin\" sandbox=\"allow-scripts allow-same-origin allow-popups\">\n",
    "</iframe>"
   ]
  },
  {
   "cell_type": "markdown",
   "id": "04c0e1dd",
   "metadata": {},
   "source": [
    "### En python"
   ]
  },
  {
   "cell_type": "code",
   "execution_count": 7,
   "id": "de356605",
   "metadata": {},
   "outputs": [],
   "source": [
    "query:str = \"\"\"SELECT distinct ?ouvrage ?ouvrageLabel ?auteur ?auteurLabel ?titre ?editeur ?editeurLabel ?lieu_publication ?lieu_publicationLabel (year(?date) as ?date_publication) ?nombre_de_pages WHERE {\n",
    "  SERVICE wikibase:label { bd:serviceParam wikibase:language \"[AUTO_LANGUAGE],en\". }\n",
    "  values ?sujets {wd:Q133132 #commune de Paris\n",
    "          wd:Q3478362 #semaine sanglante\n",
    "          wd:Q47007501 #campagne de l'intérieur\n",
    "          wd:Q1780490 #communard\n",
    "          }\n",
    "  \n",
    "  ?communard wdt:P106 wd:Q1780490.\n",
    "  \n",
    "  {?ouvrage wdt:P31 wd:Q7725634;\n",
    "           wdt:P921 ?sujets.}\n",
    "  union\n",
    "    {?ouvrage wdt:P31 wd:Q7725634;\n",
    "           wdt:P921 ?communard.}\n",
    "  \n",
    "  OPTIONAL {?ouvrage wdt:P50 ?auteur}\n",
    "  OPTIONAL {?ouvrage wdt:P1476 ?titre}\n",
    "  OPTIONAL {?ouvrage wdt:P123 ?editeur}\n",
    "  OPTIONAL {?ouvrage wdt:P291 ?lieu_publication}\n",
    "  OPTIONAL {?ouvrage wdt:P577 ?date}\n",
    "  OPTIONAL {?ouvrage wdt:P1104 ?nombre_de_pages} \n",
    "\n",
    "}\n",
    "\"\"\""
   ]
  },
  {
   "cell_type": "code",
   "execution_count": 8,
   "id": "76b4e5f2",
   "metadata": {},
   "outputs": [],
   "source": [
    "#extraction_biblio = Extraction_wikidata(endpoint_url, query)\n",
    "#df_bibliographie = extraction_biblio.extraire_et_df()"
   ]
  },
  {
   "cell_type": "code",
   "execution_count": 9,
   "id": "68f61cd3",
   "metadata": {},
   "outputs": [],
   "source": [
    "#HTML(df_bibliographie.to_html())"
   ]
  },
  {
   "cell_type": "code",
   "execution_count": 10,
   "id": "844c3d88",
   "metadata": {},
   "outputs": [],
   "source": [
    "#colonne:list = ['auteurLabel.value', 'titre.value', 'editeurLabel.value', 'lieu_publicationLabel.value', 'date_publication.value', 'nombre_de_pages.value']\n",
    "#for item in range(df_bibliographie.shape[0]):\n",
    "#    biblio = []\n",
    "#    for i in colonne:\n",
    "#        if str(df_bibliographie.iloc[item][i]) != \"nan\":\n",
    "#            biblio.append(str(df_bibliographie.iloc[item][i]))\n",
    "#    print(\", \".join(biblio))"
   ]
  },
  {
   "cell_type": "markdown",
   "id": "93a47498",
   "metadata": {},
   "source": [
    "## Elle n'est pas morte"
   ]
  },
  {
   "cell_type": "markdown",
   "id": "f4ab9910",
   "metadata": {},
   "source": [
    "### Chansons de la commune et sur la commune"
   ]
  },
  {
   "cell_type": "markdown",
   "id": "baff802e",
   "metadata": {},
   "source": [
    "#### chansons, oeuvre... par auteur, parolier... \n",
    "A trier/vérifier/compléter"
   ]
  },
  {
   "cell_type": "markdown",
   "id": "522dd7c6",
   "metadata": {},
   "source": [
    "```sparql\n",
    "SELECT DISTINCT ?chanson ?chansonLabel ?auteur ?auteurLabel ?date_creation WHERE {\n",
    "  SERVICE wikibase:label { bd:serviceParam wikibase:language \"[AUTO_LANGUAGE],en\". }\n",
    "  VALUES ?nature {\n",
    "    wd:Q105543609\n",
    "    wd:Q3331189\n",
    "  }\n",
    "  ?chanson wdt:P31 ?nature;\n",
    "    (wdt:P921|wdt:P547) wd:Q133132;\n",
    "    wdt:P7937 wd:Q7366.\n",
    "  OPTIONAL { ?chanson (wdt:P50|wdt:P676) ?auteur. }\n",
    "  OPTIONAL { ?chanson wdt:P571 ?date_creation. }\n",
    "}\n",
    "```"
   ]
  },
  {
   "cell_type": "markdown",
   "id": "d764039a",
   "metadata": {},
   "source": [
    "##### En sparql"
   ]
  },
  {
   "cell_type": "code",
   "execution_count": 11,
   "id": "55e0ce36",
   "metadata": {},
   "outputs": [
    {
     "data": {
      "text/html": [
       "<iframe style=\"width: 95%; height: 50vh; border: none;\" \n",
       "src=\"https://query.wikidata.org/embed.html#SELECT%20DISTINCT%20%3Fchanson%20%3FchansonLabel%20%3Fauteur%20%3FauteurLabel%20%3Fdate_creation%20WHERE%20%7B%0A%20%20SERVICE%20wikibase%3Alabel%20%7B%20bd%3AserviceParam%20wikibase%3Alanguage%20%22%5BAUTO_LANGUAGE%5D%2Cen%22.%20%7D%0A%20%20VALUES%20%3Fnature%20%7B%0A%20%20%20%20wd%3AQ105543609%0A%20%20%20%20wd%3AQ3331189%0A%20%20%7D%0A%20%20%3Fchanson%20wdt%3AP31%20%3Fnature%3B%0A%20%20%20%20(wdt%3AP921%7Cwdt%3AP547)%20wd%3AQ133132%3B%0A%20%20%20%20wdt%3AP7937%20wd%3AQ7366.%0A%20%20OPTIONAL%20%7B%20%3Fchanson%20(wdt%3AP50%7Cwdt%3AP676)%20%3Fauteur.%20%7D%0A%20%20OPTIONAL%20%7B%20%3Fchanson%20wdt%3AP571%20%3Fdate_creation.%20%7D%0A%7D\" \n",
       "referrerpolicy=\"origin\" sandbox=\"allow-scripts allow-same-origin allow-popups\">\n",
       "</iframe>\n"
      ],
      "text/plain": [
       "<IPython.core.display.HTML object>"
      ]
     },
     "metadata": {},
     "output_type": "display_data"
    }
   ],
   "source": [
    "%%HTML\n",
    "<iframe style=\"width: 95%; height: 50vh; border: none;\" \n",
    "src=\"https://query.wikidata.org/embed.html#SELECT%20DISTINCT%20%3Fchanson%20%3FchansonLabel%20%3Fauteur%20%3FauteurLabel%20%3Fdate_creation%20WHERE%20%7B%0A%20%20SERVICE%20wikibase%3Alabel%20%7B%20bd%3AserviceParam%20wikibase%3Alanguage%20%22%5BAUTO_LANGUAGE%5D%2Cen%22.%20%7D%0A%20%20VALUES%20%3Fnature%20%7B%0A%20%20%20%20wd%3AQ105543609%0A%20%20%20%20wd%3AQ3331189%0A%20%20%7D%0A%20%20%3Fchanson%20wdt%3AP31%20%3Fnature%3B%0A%20%20%20%20(wdt%3AP921%7Cwdt%3AP547)%20wd%3AQ133132%3B%0A%20%20%20%20wdt%3AP7937%20wd%3AQ7366.%0A%20%20OPTIONAL%20%7B%20%3Fchanson%20(wdt%3AP50%7Cwdt%3AP676)%20%3Fauteur.%20%7D%0A%20%20OPTIONAL%20%7B%20%3Fchanson%20wdt%3AP571%20%3Fdate_creation.%20%7D%0A%7D\" \n",
    "referrerpolicy=\"origin\" sandbox=\"allow-scripts allow-same-origin allow-popups\">\n",
    "</iframe>"
   ]
  },
  {
   "cell_type": "markdown",
   "id": "6e760d77",
   "metadata": {},
   "source": [
    "##### En python"
   ]
  },
  {
   "cell_type": "code",
   "execution_count": 12,
   "id": "9eedde75",
   "metadata": {},
   "outputs": [],
   "source": [
    "query:str = \"\"\"SELECT DISTINCT ?chanson ?chansonLabel ?auteur ?auteurLabel ?date_creation WHERE {\n",
    "  SERVICE wikibase:label { bd:serviceParam wikibase:language \"fr\". }\n",
    "  VALUES ?nature {\n",
    "    wd:Q105543609\n",
    "    wd:Q3331189\n",
    "  }\n",
    "  ?chanson wdt:P31 ?nature;\n",
    "    (wdt:P921|wdt:P547) wd:Q133132;\n",
    "    wdt:P7937 wd:Q7366.\n",
    "  OPTIONAL { ?chanson (wdt:P50|wdt:P676) ?auteur. }\n",
    "  OPTIONAL { ?chanson wdt:P571 ?date_creation. }\n",
    "}\n",
    "\"\"\"\n",
    "#extraction_communard = Extraction_wikidata(endpoint_url, query)\n",
    "#df_chanson = extraction_communard.extraire_et_df()"
   ]
  },
  {
   "cell_type": "code",
   "execution_count": 13,
   "id": "a0cd7de4",
   "metadata": {},
   "outputs": [],
   "source": [
    "#df_chanson = df_chanson.loc[:,['chanson.value', 'auteur.value', 'chansonLabel.value', 'auteurLabel.value', 'date_creation.value']]\n",
    "#df_chanson.sort_values(by = 'chansonLabel.value')"
   ]
  },
  {
   "cell_type": "markdown",
   "id": "aa0fbea3",
   "metadata": {},
   "source": [
    "#### Pour consulter les paroles sur wikisources"
   ]
  },
  {
   "cell_type": "markdown",
   "id": "8faedcb1",
   "metadata": {},
   "source": [
    "```sparql\n",
    "SELECT DISTINCT ?chanson ?wikisourceSitelink WHERE {\n",
    "  ?wikisourceSitelink schema:isPartOf [ wikibase:wikiGroup \"wikisource\" ];\n",
    "                      schema:inLanguage \"fr\"; #?wikisourceLanguage;\n",
    "                      schema:about ?chanson.\n",
    "  values ?nature{wd:Q105543609 \n",
    "                  wd:Q3331189 }\n",
    "  \n",
    "  ?chanson wdt:P31 ?nature;\n",
    "         wdt:P921 wd:Q133132;\n",
    "         wdt:P7937 wd:Q7366.\n",
    "}\n",
    "```"
   ]
  },
  {
   "cell_type": "markdown",
   "id": "0d870e4b",
   "metadata": {},
   "source": [
    "##### En sparql"
   ]
  },
  {
   "cell_type": "code",
   "execution_count": 14,
   "id": "d411ca33",
   "metadata": {},
   "outputs": [
    {
     "data": {
      "text/html": [
       "<iframe style=\"width: 95%; height: 50vh; border: none;\" \n",
       "src=\"https://query.wikidata.org/embed.html#SELECT%20DISTINCT%20%3Fchanson%20%3FwikisourceSitelink%20WHERE%20%7B%0A%20%20%3FwikisourceSitelink%20schema%3AisPartOf%20%5B%20wikibase%3AwikiGroup%20%22wikisource%22%20%5D%3B%0A%20%20%20%20%20%20%20%20%20%20%20%20%20%20%20%20%20%20%20%20%20%20schema%3AinLanguage%20%22fr%22%3B%20%23%3FwikisourceLanguage%3B%0A%20%20%20%20%20%20%20%20%20%20%20%20%20%20%20%20%20%20%20%20%20%20schema%3Aabout%20%3Fchanson.%0A%20%20values%20%3Fnature%7Bwd%3AQ105543609%20%0A%20%20%20%20%20%20%20%20%20%20%20%20%20%20%20%20%20%20wd%3AQ3331189%20%7D%0A%20%20%0A%20%20%3Fchanson%20wdt%3AP31%20%3Fnature%3B%0A%20%20%20%20%20%20%20%20%20wdt%3AP921%20wd%3AQ133132%3B%0A%20%20%20%20%20%20%20%20%20wdt%3AP7937%20wd%3AQ7366.%0A%7D%0A\" \n",
       "referrerpolicy=\"origin\" sandbox=\"allow-scripts allow-same-origin allow-popups\">\n",
       "</iframe>\n"
      ],
      "text/plain": [
       "<IPython.core.display.HTML object>"
      ]
     },
     "metadata": {},
     "output_type": "display_data"
    }
   ],
   "source": [
    "%%HTML\n",
    "<iframe style=\"width: 95%; height: 50vh; border: none;\" \n",
    "src=\"https://query.wikidata.org/embed.html#SELECT%20DISTINCT%20%3Fchanson%20%3FwikisourceSitelink%20WHERE%20%7B%0A%20%20%3FwikisourceSitelink%20schema%3AisPartOf%20%5B%20wikibase%3AwikiGroup%20%22wikisource%22%20%5D%3B%0A%20%20%20%20%20%20%20%20%20%20%20%20%20%20%20%20%20%20%20%20%20%20schema%3AinLanguage%20%22fr%22%3B%20%23%3FwikisourceLanguage%3B%0A%20%20%20%20%20%20%20%20%20%20%20%20%20%20%20%20%20%20%20%20%20%20schema%3Aabout%20%3Fchanson.%0A%20%20values%20%3Fnature%7Bwd%3AQ105543609%20%0A%20%20%20%20%20%20%20%20%20%20%20%20%20%20%20%20%20%20wd%3AQ3331189%20%7D%0A%20%20%0A%20%20%3Fchanson%20wdt%3AP31%20%3Fnature%3B%0A%20%20%20%20%20%20%20%20%20wdt%3AP921%20wd%3AQ133132%3B%0A%20%20%20%20%20%20%20%20%20wdt%3AP7937%20wd%3AQ7366.%0A%7D%0A\" \n",
    "referrerpolicy=\"origin\" sandbox=\"allow-scripts allow-same-origin allow-popups\">\n",
    "</iframe>"
   ]
  },
  {
   "cell_type": "markdown",
   "id": "1e87f5fc",
   "metadata": {},
   "source": [
    "##### En python"
   ]
  },
  {
   "cell_type": "code",
   "execution_count": 15,
   "id": "f660107f",
   "metadata": {},
   "outputs": [],
   "source": [
    "query = \"\"\"SELECT DISTINCT ?chanson ?wikisourceSitelink WHERE {\n",
    "  ?wikisourceSitelink schema:isPartOf [ wikibase:wikiGroup \"wikisource\" ];\n",
    "                      schema:inLanguage \"fr\"; #?wikisourceLanguage;\n",
    "                      schema:about ?chanson.\n",
    "  values ?nature{wd:Q105543609 \n",
    "                  wd:Q3331189 }\n",
    "  \n",
    "  ?chanson wdt:P31 ?nature;\n",
    "         wdt:P921 wd:Q133132;\n",
    "         wdt:P7937 wd:Q7366.\n",
    "}\n",
    "\"\"\"\n",
    "#extraction_paroles = Extraction_wikidata(endpoint_url, query)\n",
    "#df_paroles = extraction_paroles.extraire_et_df()\n",
    "#df_paroles"
   ]
  },
  {
   "cell_type": "code",
   "execution_count": 16,
   "id": "755716d3",
   "metadata": {},
   "outputs": [],
   "source": [
    "#df_paroles = df_paroles.loc[:,['chanson.value', 'wikisourceSitelink.value']]\n",
    "#HTML(df_paroles.to_html())"
   ]
  },
  {
   "cell_type": "markdown",
   "id": "46a4460c",
   "metadata": {},
   "source": [
    "### Commémore"
   ]
  },
  {
   "cell_type": "markdown",
   "id": "10f5a2a7",
   "metadata": {},
   "source": [
    ">  commémore (P547)\n",
    "ce que commémore le lieu, le monument, le mémorial, le jour férié"
   ]
  },
  {
   "cell_type": "markdown",
   "id": "7eefc2de",
   "metadata": {},
   "source": [
    "```sparql\n",
    "SELECT ?Commune_de_Paris ?Commune_de_ParisLabel WHERE {\n",
    "  SERVICE wikibase:label { bd:serviceParam wikibase:language \"fr\". }\n",
    "  ?Commune_de_Paris wdt:P547 wd:Q133132.\n",
    "}\n",
    "```"
   ]
  },
  {
   "cell_type": "markdown",
   "id": "02e3d81a",
   "metadata": {},
   "source": [
    "#### En sparql"
   ]
  },
  {
   "cell_type": "code",
   "execution_count": 17,
   "id": "e4e8c79b",
   "metadata": {},
   "outputs": [
    {
     "data": {
      "text/html": [
       "<iframe style=\"width: 95%; height: 50vh; border: none;\" \n",
       "src=\"https://query.wikidata.org/embed.html#SELECT%20%3FCommune_de_Paris%20%3FCommune_de_ParisLabel%20WHERE%20%7B%0A%20%20SERVICE%20wikibase%3Alabel%20%7B%20bd%3AserviceParam%20wikibase%3Alanguage%20%22%5BAUTO_LANGUAGE%5D%2Cen%22.%20%7D%0A%20%20%3FCommune_de_Paris%20wdt%3AP547%20wd%3AQ133132.%0A%7D%0ALIMIT%20100\" \n",
       "referrerpolicy=\"origin\" sandbox=\"allow-scripts allow-same-origin allow-popups\">\n",
       "</iframe>\n"
      ],
      "text/plain": [
       "<IPython.core.display.HTML object>"
      ]
     },
     "metadata": {},
     "output_type": "display_data"
    }
   ],
   "source": [
    "%%HTML\n",
    "<iframe style=\"width: 95%; height: 50vh; border: none;\" \n",
    "src=\"https://query.wikidata.org/embed.html#SELECT%20%3FCommune_de_Paris%20%3FCommune_de_ParisLabel%20WHERE%20%7B%0A%20%20SERVICE%20wikibase%3Alabel%20%7B%20bd%3AserviceParam%20wikibase%3Alanguage%20%22%5BAUTO_LANGUAGE%5D%2Cen%22.%20%7D%0A%20%20%3FCommune_de_Paris%20wdt%3AP547%20wd%3AQ133132.%0A%7D%0ALIMIT%20100\" \n",
    "referrerpolicy=\"origin\" sandbox=\"allow-scripts allow-same-origin allow-popups\">\n",
    "</iframe>"
   ]
  },
  {
   "cell_type": "markdown",
   "id": "1dcd5efb",
   "metadata": {},
   "source": [
    "#### En python"
   ]
  },
  {
   "cell_type": "code",
   "execution_count": 18,
   "id": "92fd77d6",
   "metadata": {},
   "outputs": [],
   "source": [
    "query = \"\"\"SELECT ?Commune_de_Paris ?Commune_de_ParisLabel WHERE {\n",
    "  SERVICE wikibase:label { bd:serviceParam wikibase:language \"fr\". }\n",
    "  ?Commune_de_Paris wdt:P547 wd:Q133132.\n",
    "}\n",
    "\"\"\"\n",
    "#extraction_communard = Extraction_wikidata(endpoint_url, query)\n",
    "#df_tout_ce_qui_commemore = extraction_communard.extraire_et_df()"
   ]
  },
  {
   "cell_type": "code",
   "execution_count": 19,
   "id": "625214ce",
   "metadata": {},
   "outputs": [],
   "source": [
    "#df_tout_ce_qui_commemore = df_tout_ce_qui_commemore.loc[:,['Commune_de_Paris.value', 'Commune_de_ParisLabel.value']]\n",
    "#HTML(df_tout_ce_qui_commemore.to_html())"
   ]
  },
  {
   "cell_type": "markdown",
   "id": "45eaed62",
   "metadata": {},
   "source": [
    "### Nommé en hommage à"
   ]
  },
  {
   "cell_type": "markdown",
   "id": "3966e660",
   "metadata": {},
   "source": [
    "```sparql\n",
    "SELECT  ?Commune_de_Paris ?Commune_de_ParisLabel ?nature_de_l_élément ?nature_de_l_élémentLabel WHERE {\n",
    "  SERVICE wikibase:label { bd:serviceParam wikibase:language \"fr, [AUTO_LANGUAGE]\". }\n",
    "  ?Commune_de_Paris wdt:P138 wd:Q133132.\n",
    "  OPTIONAL { ?Commune_de_Paris wdt:P31 ?nature_de_l_élément. }\n",
    "}\n",
    "order by ?Commune_de_ParisLabel\n",
    "```"
   ]
  },
  {
   "cell_type": "markdown",
   "id": "01115adf",
   "metadata": {},
   "source": [
    "#### En sparql"
   ]
  },
  {
   "cell_type": "code",
   "execution_count": 20,
   "id": "9deb81a0",
   "metadata": {},
   "outputs": [
    {
     "data": {
      "text/html": [
       "<iframe style=\"width: 95%; height: 50vh; border: none;\" \n",
       "src=\"https://query.wikidata.org/embed.html#SELECT%20%20%3FCommune_de_Paris%20%3FCommune_de_ParisLabel%20%3Fnature_de_l_%C3%A9l%C3%A9ment%20%3Fnature_de_l_%C3%A9l%C3%A9mentLabel%20WHERE%20%7B%0A%20%20SERVICE%20wikibase%3Alabel%20%7B%20bd%3AserviceParam%20wikibase%3Alanguage%20%22fr%2C%20%5BAUTO_LANGUAGE%5D%22.%20%7D%0A%20%20%3FCommune_de_Paris%20wdt%3AP138%20wd%3AQ133132.%0A%20%20OPTIONAL%20%7B%20%3FCommune_de_Paris%20wdt%3AP31%20%3Fnature_de_l_%C3%A9l%C3%A9ment.%20%7D%0A%7D%0Aorder%20by%20%3FCommune_de_ParisLabel\" \n",
       "referrerpolicy=\"origin\" sandbox=\"allow-scripts allow-same-origin allow-popups\">\n",
       "</iframe>\n"
      ],
      "text/plain": [
       "<IPython.core.display.HTML object>"
      ]
     },
     "metadata": {},
     "output_type": "display_data"
    }
   ],
   "source": [
    "%%HTML\n",
    "<iframe style=\"width: 95%; height: 50vh; border: none;\" \n",
    "src=\"https://query.wikidata.org/embed.html#SELECT%20%20%3FCommune_de_Paris%20%3FCommune_de_ParisLabel%20%3Fnature_de_l_%C3%A9l%C3%A9ment%20%3Fnature_de_l_%C3%A9l%C3%A9mentLabel%20WHERE%20%7B%0A%20%20SERVICE%20wikibase%3Alabel%20%7B%20bd%3AserviceParam%20wikibase%3Alanguage%20%22fr%2C%20%5BAUTO_LANGUAGE%5D%22.%20%7D%0A%20%20%3FCommune_de_Paris%20wdt%3AP138%20wd%3AQ133132.%0A%20%20OPTIONAL%20%7B%20%3FCommune_de_Paris%20wdt%3AP31%20%3Fnature_de_l_%C3%A9l%C3%A9ment.%20%7D%0A%7D%0Aorder%20by%20%3FCommune_de_ParisLabel\" \n",
    "referrerpolicy=\"origin\" sandbox=\"allow-scripts allow-same-origin allow-popups\">\n",
    "</iframe>"
   ]
  },
  {
   "cell_type": "markdown",
   "id": "845c1993",
   "metadata": {},
   "source": [
    "#### En python"
   ]
  },
  {
   "cell_type": "code",
   "execution_count": 21,
   "id": "e1fd297f",
   "metadata": {},
   "outputs": [],
   "source": [
    "query = \"\"\"SELECT  ?Commune_de_Paris ?Commune_de_ParisLabel ?nature_de_l_élément ?nature_de_l_élémentLabel WHERE {\n",
    "  SERVICE wikibase:label { bd:serviceParam wikibase:language \"fr, [AUTO_LANGUAGE]\". }\n",
    "  ?Commune_de_Paris wdt:P138 wd:Q133132.\n",
    "  OPTIONAL { ?Commune_de_Paris wdt:P31 ?nature_de_l_élément. }\n",
    "}\n",
    "order by ?Commune_de_ParisLabel\n",
    "\"\"\"\n",
    "#extraction_nomme = Extraction_wikidata(endpoint_url, query)\n",
    "#df_nomme = extraction_nomme.extraire_et_df()"
   ]
  },
  {
   "cell_type": "code",
   "execution_count": 22,
   "id": "610484cb",
   "metadata": {},
   "outputs": [],
   "source": [
    "#df_nomme = df_nomme.loc[:,['Commune_de_Paris.value', 'Commune_de_ParisLabel.value', 'nature_de_l_élément.value', 'nature_de_l_élémentLabel.value' ]]\n",
    "#df_nomme.sort_values(by = 'Commune_de_ParisLabel.value')\n",
    "#HTML(df_nomme.to_html())"
   ]
  },
  {
   "cell_type": "markdown",
   "id": "58fe84c3",
   "metadata": {},
   "source": [
    "### Des expositions"
   ]
  },
  {
   "cell_type": "markdown",
   "id": "dcde8402",
   "metadata": {},
   "source": [
    "```sparql\n",
    "SELECT ?exposition ?expositionLabel WHERE {\n",
    "  SERVICE wikibase:label { bd:serviceParam wikibase:language \"[AUTO_LANGUAGE],en\". }\n",
    "  ?exposition (wdt:P31/wdt:P279) wd:Q464980;\n",
    "    wdt:P921 wd:Q133132.\n",
    "}\n",
    "```"
   ]
  },
  {
   "cell_type": "markdown",
   "id": "b9194304",
   "metadata": {},
   "source": [
    "#### En sparql"
   ]
  },
  {
   "cell_type": "code",
   "execution_count": 23,
   "id": "1a70e1ec",
   "metadata": {},
   "outputs": [
    {
     "data": {
      "text/html": [
       "<iframe style=\"width: 95%; height: 50vh; border: none;\" \n",
       "src=\"https://query.wikidata.org/embed.html#SELECT%20%3Fexposition%20%3FexpositionLabel%20WHERE%20%7B%0A%20%20SERVICE%20wikibase%3Alabel%20%7B%20bd%3AserviceParam%20wikibase%3Alanguage%20%22%5BAUTO_LANGUAGE%5D%2Cen%22.%20%7D%0A%20%20%3Fexposition%20(wdt%3AP31%2Fwdt%3AP279)%20wd%3AQ464980%3B%0A%20%20%20%20wdt%3AP921%20wd%3AQ133132.%0A%7D\" \n",
       "referrerpolicy=\"origin\" sandbox=\"allow-scripts allow-same-origin allow-popups\">\n",
       "</iframe>\n"
      ],
      "text/plain": [
       "<IPython.core.display.HTML object>"
      ]
     },
     "metadata": {},
     "output_type": "display_data"
    }
   ],
   "source": [
    "%%HTML\n",
    "<iframe style=\"width: 95%; height: 50vh; border: none;\" \n",
    "src=\"https://query.wikidata.org/embed.html#SELECT%20%3Fexposition%20%3FexpositionLabel%20WHERE%20%7B%0A%20%20SERVICE%20wikibase%3Alabel%20%7B%20bd%3AserviceParam%20wikibase%3Alanguage%20%22%5BAUTO_LANGUAGE%5D%2Cen%22.%20%7D%0A%20%20%3Fexposition%20(wdt%3AP31%2Fwdt%3AP279)%20wd%3AQ464980%3B%0A%20%20%20%20wdt%3AP921%20wd%3AQ133132.%0A%7D\" \n",
    "referrerpolicy=\"origin\" sandbox=\"allow-scripts allow-same-origin allow-popups\">\n",
    "</iframe>"
   ]
  },
  {
   "cell_type": "markdown",
   "id": "441e3009",
   "metadata": {},
   "source": [
    "#### En python"
   ]
  },
  {
   "cell_type": "code",
   "execution_count": 24,
   "id": "b182ed19",
   "metadata": {},
   "outputs": [],
   "source": [
    "query = \"\"\"SELECT ?exposition ?expositionLabel WHERE {\n",
    "  SERVICE wikibase:label { bd:serviceParam wikibase:language \"fr\". }\n",
    "  ?exposition (wdt:P31/wdt:P279) wd:Q464980;\n",
    "    wdt:P921 wd:Q133132.\n",
    "}\n",
    "\"\"\"\n",
    "#extraction_communard = Extraction_wikidata(endpoint_url, query)\n",
    "#df_expo = extraction_communard.extraire_et_df()"
   ]
  },
  {
   "cell_type": "code",
   "execution_count": 25,
   "id": "7f85fe4b",
   "metadata": {},
   "outputs": [],
   "source": [
    "#df_expo = df_expo.loc[:,['exposition.value', 'expositionLabel.value']]\n",
    "#HTML(df_expo.to_html())"
   ]
  },
  {
   "cell_type": "markdown",
   "id": "83fbd7be",
   "metadata": {},
   "source": [
    "## Licence\n",
    "\n",
    "Ce travail est sous licence libre plus précisement Creative Commons Attribution - Partage dans les Mêmes Conditions 4.0 International.\n",
    "\n",
    "Il est fait à partir de données libres (diverse licence) et logiciels ou formats libres.\n",
    "Citons python, notebook, makedon, mediawiki...\n",
    "J'autorise la diffusion commerciale pour payer les frais de papier si quelqu'an veut le diffuser en version papier.\n",
    "Par principe, la licence vous autorise à utiliser ce travail sans m'en informer, juste pour ma curiosité, merci de me le signaler.\n",
    "\n",
    "<a rel=\"license\" href=\"http://creativecommons.org/licenses/by-sa/4.0/\"><img alt=\"Licence Creative Commons\" style=\"border-width:0\" src=\"https://i.creativecommons.org/l/by-sa/4.0/88x31.png\" /></a><br />Cette œuvre est mise à disposition selon les termes de la <a rel=\"license\" href=\"http://creativecommons.org/licenses/by-sa/4.0/\">Licence Creative Commons Attribution -  Partage dans les Mêmes Conditions 4.0 International</a>.\n",
    "\n",
    "La version originale du notebook et des fichiers liées sont versionnés et héberger sur github. \n",
    "https://github.com/silanoc/commune_dans_wikidata"
   ]
  },
  {
   "cell_type": "code",
   "execution_count": null,
   "id": "4448d1e1",
   "metadata": {},
   "outputs": [],
   "source": []
  }
 ],
 "metadata": {
  "hide_input": false,
  "kernelspec": {
   "display_name": "Python 3 (ipykernel)",
   "language": "python",
   "name": "python3"
  },
  "language_info": {
   "codemirror_mode": {
    "name": "ipython",
    "version": 3
   },
   "file_extension": ".py",
   "mimetype": "text/x-python",
   "name": "python",
   "nbconvert_exporter": "python",
   "pygments_lexer": "ipython3",
   "version": "3.11.4"
  },
  "toc": {
   "base_numbering": 1,
   "nav_menu": {},
   "number_sections": true,
   "sideBar": true,
   "skip_h1_title": false,
   "title_cell": "Table of Contents",
   "title_sidebar": "Contents",
   "toc_cell": false,
   "toc_position": {},
   "toc_section_display": true,
   "toc_window_display": false
  }
 },
 "nbformat": 4,
 "nbformat_minor": 5
}
