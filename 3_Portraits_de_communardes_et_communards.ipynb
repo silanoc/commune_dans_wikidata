{
 "cells": [
  {
   "cell_type": "markdown",
   "id": "604701ff",
   "metadata": {},
   "source": [
    "# La Commune de Paris 1871 en liberté - Portraits de communardes et communards"
   ]
  },
  {
   "cell_type": "markdown",
   "id": "0aaf7cc7",
   "metadata": {},
   "source": [
    "## Trouver des communard·e·s sur Wikidata\n",
    "\n",
    "### Un élément : un numéro et des labels\n",
    "Afin d'être multilinguisitique et facilement interropérable, chaque élément est caractérisé par un identifiant commençant par Q. On luio attribue ensuite un label par langue voulue.\n",
    "Ainsi l'élément Q133132 a pour labels \"Paris Commune\", \"Commune de Paris\", \"Comuna de París\", \"Pariser Kommune\"...\n",
    "\n",
    "### L'élément \"communard ou communarde\"\n",
    "Sur Wikidata, al existe l'élément communard ou communarde, sous le nombre Q1780490\n",
    "https://www.wikidata.org/wiki/Q1780490\n",
    "> communard ou communarde (Q1780490)\n",
    "personne participant à la Commune de Paris\n",
    "\n",
    "### La propriété \"occupation\"\n",
    "Sur wikidata, la propriété P106, permet de renseigner l'occupation (au sens très large) d'une personne.\n",
    "https://www.wikidata.org/wiki/Property:P106\n",
    "> occupation (P106)\n",
    "nature d'activité d'une personne (métier, hobby…) ; voir aussi « domaine d'activité » (P101) et « fonction » (P39)\n",
    "\n",
    "### Le triplet ?communard wdt:P106 wd:Q1780490.\n",
    "Pour toutes les recherche je considère que la personne est communard·e via occupation communard, soit\n",
    "```?communard wdt:P106 wd:Q1780490.``` si la requête a été écrite avant le 7 janvier 2023 ou `?communard_ou_communarde wdt:P106 wd:Q1780490.` après.\n",
    "\n",
    "Quand j'ai commencé à m'intéresser à ce sujet c'était ce triplet qui était déjà majoritaire.  Il était en \"concurrence\" avec allégeance à Commune, participant à la Commune, conflit Commune... Cela aurait nécessité plus de changement.\n",
    "\n",
    "Pour mémoire il s'agit des triplet \n",
    "```\n",
    "?communard wdt:P945 wd:Q133132.\n",
    "?communard wdt:P945 wd:Q1249756.\n",
    "?communard wdt:P463 wd:Q1249756.\n",
    "?communard wdt:P463 wd:Q133132.\n",
    "?communard wdt:P607 wd:Q133132.\n",
    "```"
   ]
  },
  {
   "cell_type": "markdown",
   "id": "0b44e3ac",
   "metadata": {},
   "source": [
    "## Les communard·e·s connu·e·s"
   ]
  },
  {
   "cell_type": "markdown",
   "id": "2f1854d5",
   "metadata": {},
   "source": [
    "### Liste complète"
   ]
  },
  {
   "cell_type": "markdown",
   "id": "bad7bbbc",
   "metadata": {},
   "source": [
    "```sparql\n",
    "SELECT ?communard_ou_communarde ?communard_ou_communardeLabel WHERE {\n",
    "  SERVICE wikibase:label { bd:serviceParam wikibase:language \"fr,en\". }\n",
    "  ?communard_ou_communarde wdt:P106 wd:Q1780490.\n",
    "}\n",
    "```"
   ]
  },
  {
   "cell_type": "markdown",
   "id": "3f7cdd52",
   "metadata": {},
   "source": [
    "#### En sparql "
   ]
  },
  {
   "cell_type": "code",
   "execution_count": 13,
   "id": "f54748ee",
   "metadata": {},
   "outputs": [
    {
     "data": {
      "text/html": [
       "<iframe style=\"width: 95%; height: 50vh; border: none;\" \n",
       "src=\"https://query.wikidata.org/embed.html#SELECT%20%3Fcommunard_ou_communarde%20%3Fcommunard_ou_communardeLabel%20WHERE%20%7B%0A%20%20SERVICE%20wikibase%3Alabel%20%7B%20bd%3AserviceParam%20wikibase%3Alanguage%20%22fr%2Cen%22.%20%7D%0A%20%20%3Fcommunard_ou_communarde%20wdt%3AP106%20wd%3AQ1780490.%0A%7D%0A\" \n",
       "referrerpolicy=\"origin\" sandbox=\"allow-scripts allow-same-origin allow-popups\">\n",
       "</iframe>\n"
      ],
      "text/plain": [
       "<IPython.core.display.HTML object>"
      ]
     },
     "metadata": {},
     "output_type": "display_data"
    }
   ],
   "source": [
    "%%HTML\n",
    "<iframe style=\"width: 95%; height: 50vh; border: none;\" \n",
    "src=\"https://query.wikidata.org/embed.html#SELECT%20%3Fcommunard_ou_communarde%20%3Fcommunard_ou_communardeLabel%20WHERE%20%7B%0A%20%20SERVICE%20wikibase%3Alabel%20%7B%20bd%3AserviceParam%20wikibase%3Alanguage%20%22fr%2Cen%22.%20%7D%0A%20%20%3Fcommunard_ou_communarde%20wdt%3AP106%20wd%3AQ1780490.%0A%7D%0A\" \n",
    "referrerpolicy=\"origin\" sandbox=\"allow-scripts allow-same-origin allow-popups\">\n",
    "</iframe>"
   ]
  },
  {
   "cell_type": "markdown",
   "id": "9a329e0b",
   "metadata": {},
   "source": [
    "#### En python"
   ]
  },
  {
   "cell_type": "code",
   "execution_count": 14,
   "id": "3477d4b5",
   "metadata": {},
   "outputs": [],
   "source": [
    "#prendre que les label des items (déjà filtré en fr)\n",
    "#df_Q_label_communard = df_tout_sur_tous_communard[df_tout_sur_tous_communard['p.value']== 'http://www.w3.org/2000/01/rdf-schema#label']\n",
    "# prendre que les colonnes intéressante\n",
    "#df_Q_label_communard = df_Q_label_communard.loc[:,['communard_ou_communarde.value','q.value']]"
   ]
  },
  {
   "cell_type": "code",
   "execution_count": 15,
   "id": "4d4fb39e",
   "metadata": {},
   "outputs": [],
   "source": [
    "# retirer l'index, trier par ordre alphabétique\n",
    "#df_Q_label_communard = df_Q_label_communard.set_index('communard_ou_communarde.value')\n",
    "#df_Q_label_communard = df_Q_label_communard.sort_values(by = \"q.value\")"
   ]
  },
  {
   "cell_type": "code",
   "execution_count": 16,
   "id": "93fc9b64",
   "metadata": {},
   "outputs": [],
   "source": [
    "#print(df_Q_label_communard.to_markdown())"
   ]
  },
  {
   "cell_type": "markdown",
   "id": "6f2be3b9",
   "metadata": {},
   "source": [
    "### Liste complète avec Reasonator\n",
    "Reasonator est un outil permentant de visualiser facilement tous ce qui concerne un élément."
   ]
  },
  {
   "cell_type": "markdown",
   "id": "189265ee",
   "metadata": {},
   "source": [
    "#### En sparql"
   ]
  },
  {
   "cell_type": "markdown",
   "id": "9efaf732",
   "metadata": {},
   "source": [
    "```sparql\n",
    "SELECT ?communard_ou_communarde ?communard_ou_communardeLabel\n",
    "#pour récuprer l'adresse de la page reasonator en fr\n",
    "(CONCAT(\"https://reasonator.toolforge.org/?q=\", STRAFTER( str(?communard_ou_communarde) ,\"http://www.wikidata.org/entity/\"),\"&lang=fr\") AS ?reasonator) \n",
    "#pour récuprer l'adresse de la page reasonator en fr au format html\n",
    "(CONCAT('<a href=\"','https://reasonator.toolforge.org/?q=', STRAFTER( str(?communard_ou_communarde) ,\"http://www.wikidata.org/entity/\"),'&lang=fr\">', ?communard_ou_communardeLabel ,'</a>') AS ?reasonatorlien)\n",
    "WHERE {\n",
    "  SERVICE wikibase:label { bd:serviceParam wikibase:language \"[AUTO_LANGUAGE],en\". }\n",
    "  ?communard_ou_communarde wdt:P106 wd:Q1780490.\n",
    "}\n",
    "```"
   ]
  },
  {
   "cell_type": "code",
   "execution_count": 17,
   "id": "b2b9bd10",
   "metadata": {},
   "outputs": [
    {
     "data": {
      "text/html": [
       "<iframe style=\"width: 95%; height: 50vh; border: none;\" \n",
       "src=\"https://query.wikidata.org/embed.html#SELECT%20%3Fcommunard_ou_communarde%20%3Fcommunard_ou_communardeLabel%0A%23pour%20r%C3%A9cuprer%20l'adresse%20de%20la%20page%20reasonator%20en%20fr%0A(CONCAT(%22https%3A%2F%2Freasonator.toolforge.org%2F%3Fq%3D%22%2C%20STRAFTER(%20str(%3Fcommunard_ou_communarde)%20%2C%22http%3A%2F%2Fwww.wikidata.org%2Fentity%2F%22)%2C%22%26lang%3Dfr%22)%20AS%20%3Freasonator)%20%0A%23pour%20r%C3%A9cuprer%20l'adresse%20de%20la%20page%20reasonator%20en%20fr%20au%20format%20html%0A(CONCAT('%3Ca%20href%3D%22'%2C'https%3A%2F%2Freasonator.toolforge.org%2F%3Fq%3D'%2C%20STRAFTER(%20str(%3Fcommunard_ou_communarde)%20%2C%22http%3A%2F%2Fwww.wikidata.org%2Fentity%2F%22)%2C'%26lang%3Dfr%22%3E'%2C%20%3Fcommunard_ou_communardeLabel%20%2C'%3C%2Fa%3E')%20AS%20%3Freasonatorlien)%0AWHERE%20%7B%0A%20%20SERVICE%20wikibase%3Alabel%20%7B%20bd%3AserviceParam%20wikibase%3Alanguage%20%22%5BAUTO_LANGUAGE%5D%2Cen%22.%20%7D%0A%20%20%3Fcommunard_ou_communarde%20wdt%3AP106%20wd%3AQ1780490.%0A%7D\" \n",
       "referrerpolicy=\"origin\" sandbox=\"allow-scripts allow-same-origin allow-popups\">\n",
       "</iframe>\n"
      ],
      "text/plain": [
       "<IPython.core.display.HTML object>"
      ]
     },
     "metadata": {},
     "output_type": "display_data"
    }
   ],
   "source": [
    "%%HTML\n",
    "<iframe style=\"width: 95%; height: 50vh; border: none;\" \n",
    "src=\"https://query.wikidata.org/embed.html#SELECT%20%3Fcommunard_ou_communarde%20%3Fcommunard_ou_communardeLabel%0A%23pour%20r%C3%A9cuprer%20l'adresse%20de%20la%20page%20reasonator%20en%20fr%0A(CONCAT(%22https%3A%2F%2Freasonator.toolforge.org%2F%3Fq%3D%22%2C%20STRAFTER(%20str(%3Fcommunard_ou_communarde)%20%2C%22http%3A%2F%2Fwww.wikidata.org%2Fentity%2F%22)%2C%22%26lang%3Dfr%22)%20AS%20%3Freasonator)%20%0A%23pour%20r%C3%A9cuprer%20l'adresse%20de%20la%20page%20reasonator%20en%20fr%20au%20format%20html%0A(CONCAT('%3Ca%20href%3D%22'%2C'https%3A%2F%2Freasonator.toolforge.org%2F%3Fq%3D'%2C%20STRAFTER(%20str(%3Fcommunard_ou_communarde)%20%2C%22http%3A%2F%2Fwww.wikidata.org%2Fentity%2F%22)%2C'%26lang%3Dfr%22%3E'%2C%20%3Fcommunard_ou_communardeLabel%20%2C'%3C%2Fa%3E')%20AS%20%3Freasonatorlien)%0AWHERE%20%7B%0A%20%20SERVICE%20wikibase%3Alabel%20%7B%20bd%3AserviceParam%20wikibase%3Alanguage%20%22%5BAUTO_LANGUAGE%5D%2Cen%22.%20%7D%0A%20%20%3Fcommunard_ou_communarde%20wdt%3AP106%20wd%3AQ1780490.%0A%7D\" \n",
    "referrerpolicy=\"origin\" sandbox=\"allow-scripts allow-same-origin allow-popups\">\n",
    "</iframe>"
   ]
  },
  {
   "cell_type": "markdown",
   "id": "f9d8039a",
   "metadata": {},
   "source": [
    "#### En python"
   ]
  },
  {
   "cell_type": "code",
   "execution_count": 18,
   "id": "d3a1cda1",
   "metadata": {},
   "outputs": [],
   "source": [
    "#df_reasonator = df_Q_label_communard\n",
    "#df_reasonator['reasonator'] = df_reasonator.index\n",
    "#for valeur in df_reasonator['reasonator']:\n",
    "#    new = (valeur.replace('http://www.wikidata.org/entity/', 'https://reasonator.toolforge.org/?q='))\n",
    "#    new = new + '&lang=fr'\n",
    "#    df_reasonator.loc[valeur,['reasonator']] = new"
   ]
  },
  {
   "cell_type": "code",
   "execution_count": 19,
   "id": "4158686c",
   "metadata": {},
   "outputs": [],
   "source": [
    "#HTML(df_reasonator.to_html())"
   ]
  },
  {
   "cell_type": "markdown",
   "id": "3bec9ba6",
   "metadata": {},
   "source": [
    "### Nombre\n",
    "- 9 mars 2022 : 248\n",
    "- 16 janvier 2023 : 297\n",
    "- 24 juillet 2023 : 306\n",
    "\n",
    "Compteur actualisé en temps réel :"
   ]
  },
  {
   "cell_type": "markdown",
   "id": "58485ed5",
   "metadata": {},
   "source": [
    "```sparql\n",
    "SELECT (Count(?communard_ou_communarde) as ?nombre_de_personne) WHERE {\n",
    "  ?communard_ou_communarde wdt:P106 wd:Q1780490.\n",
    "}\n",
    "group by ?nombre_de_personne\n",
    "```"
   ]
  },
  {
   "cell_type": "code",
   "execution_count": 20,
   "id": "5d03f147",
   "metadata": {},
   "outputs": [
    {
     "data": {
      "text/html": [
       "<iframe style=\"width: 65%; height: 20vh; border: none\" \n",
       "src=\"https://query.wikidata.org/embed.html#SELECT%20(Count(%3Fcommunard_ou_communarde)%20as%20%3Fnombre_de_personne)%20WHERE%20%7B%0A%20%20%3Fcommunard_ou_communarde%20wdt%3AP106%20wd%3AQ1780490.%0A%7D%0Agroup%20by%20%3Fnombre_de_personne\" \n",
       "referrerpolicy=\"origin\" sandbox=\"allow-scripts allow-same-origin allow-popups\">\n",
       "</iframe>\n"
      ],
      "text/plain": [
       "<IPython.core.display.HTML object>"
      ]
     },
     "metadata": {},
     "output_type": "display_data"
    }
   ],
   "source": [
    "%%HTML\n",
    "<iframe style=\"width: 65%; height: 20vh; border: none\" \n",
    "src=\"https://query.wikidata.org/embed.html#SELECT%20(Count(%3Fcommunard_ou_communarde)%20as%20%3Fnombre_de_personne)%20WHERE%20%7B%0A%20%20%3Fcommunard_ou_communarde%20wdt%3AP106%20wd%3AQ1780490.%0A%7D%0Agroup%20by%20%3Fnombre_de_personne\" \n",
    "referrerpolicy=\"origin\" sandbox=\"allow-scripts allow-same-origin allow-popups\">\n",
    "</iframe>"
   ]
  },
  {
   "cell_type": "code",
   "execution_count": 21,
   "id": "fa09d275",
   "metadata": {},
   "outputs": [],
   "source": [
    "#nb_communard = df_Q_label_communard.shape[0]\n",
    "#print(f\"Dans le tableau df_Q_label_communard, on compte {nb_communard} communard·e·s.\")"
   ]
  },
  {
   "cell_type": "markdown",
   "id": "0173394a",
   "metadata": {},
   "source": [
    "### Quelques tests possibles pour vérifier la fiabilité des données.\n",
    "A défaut de consulter toutes les pages, toutes les données une à une, quelques recherches permettent de cherhcer les données abérentes. "
   ]
  },
  {
   "cell_type": "markdown",
   "id": "9cab2613",
   "metadata": {},
   "source": [
    "#### Pour vérifier qu'ils ne sont pas née après ou mort avant la Commune\n",
    "```sparql\n",
    "SELECT ?communard ?communardLabel ?naissance ?deces WHERE {\n",
    "  SERVICE wikibase:label { bd:serviceParam wikibase:language \"[AUTO_LANGUAGE],en\". }\n",
    "  ?communard wdt:P106 wd:Q1780490;\n",
    "             wdt:P569 ?naissance;\n",
    "             wdt:P570 ?deces.\n",
    "   #FILTER(year(?deces)<1871 && year(?naissance)>1871) . \n",
    "}\n",
    "```\n",
    "-> au 16 janvier 2023 il y a entre 2 et 4 données à examiner correctement et corriger."
   ]
  },
  {
   "cell_type": "markdown",
   "id": "f196ffd1",
   "metadata": {},
   "source": [
    "#### Des êtres vivants"
   ]
  },
  {
   "cell_type": "markdown",
   "id": "6d42983e",
   "metadata": {},
   "source": [
    "```sparql\n",
    "SELECT  ?nature_de_l_élémentLabel (count(?nature_de_l_élément) as ?nb) WHERE {\n",
    "  SERVICE wikibase:label { bd:serviceParam wikibase:language \"[AUTO_LANGUAGE],en\". }\n",
    "  ?communard_ou_communarde wdt:P106 wd:Q1780490.\n",
    "  OPTIONAL { ?communard_ou_communarde wdt:P31 ?nature_de_l_élément. }\n",
    "}\n",
    "Group by  ?nature_de_l_élément ?nature_de_l_élémentLabel\n",
    "```"
   ]
  },
  {
   "cell_type": "markdown",
   "id": "a6d7dc0b",
   "metadata": {},
   "source": [
    "##### en sparql"
   ]
  },
  {
   "cell_type": "code",
   "execution_count": 22,
   "id": "9ce9498c",
   "metadata": {},
   "outputs": [
    {
     "data": {
      "text/html": [
       "<iframe style=\"width:  65%; height: 25vh; border: none;\" \n",
       "src=\"https://query.wikidata.org/embed.html#SELECT%20%20%3Fnature_de_l_%C3%A9l%C3%A9mentLabel%20(count(%3Fnature_de_l_%C3%A9l%C3%A9ment)%20as%20%3Fnb)%20WHERE%20%7B%0A%20%20SERVICE%20wikibase%3Alabel%20%7B%20bd%3AserviceParam%20wikibase%3Alanguage%20%22%5BAUTO_LANGUAGE%5D%2Cen%22.%20%7D%0A%20%20%3Fcommunard_ou_communarde%20wdt%3AP106%20wd%3AQ1780490.%0A%20%20OPTIONAL%20%7B%20%3Fcommunard_ou_communarde%20wdt%3AP31%20%3Fnature_de_l_%C3%A9l%C3%A9ment.%20%7D%0A%7D%0AGroup%20by%20%20%3Fnature_de_l_%C3%A9l%C3%A9ment%20%3Fnature_de_l_%C3%A9l%C3%A9mentLabel\" \n",
       "referrerpolicy=\"origin\" sandbox=\"allow-scripts allow-same-origin allow-popups\">\n",
       "</iframe>\n"
      ],
      "text/plain": [
       "<IPython.core.display.HTML object>"
      ]
     },
     "metadata": {},
     "output_type": "display_data"
    }
   ],
   "source": [
    "%%HTML\n",
    "<iframe style=\"width:  65%; height: 25vh; border: none;\" \n",
    "src=\"https://query.wikidata.org/embed.html#SELECT%20%20%3Fnature_de_l_%C3%A9l%C3%A9mentLabel%20(count(%3Fnature_de_l_%C3%A9l%C3%A9ment)%20as%20%3Fnb)%20WHERE%20%7B%0A%20%20SERVICE%20wikibase%3Alabel%20%7B%20bd%3AserviceParam%20wikibase%3Alanguage%20%22%5BAUTO_LANGUAGE%5D%2Cen%22.%20%7D%0A%20%20%3Fcommunard_ou_communarde%20wdt%3AP106%20wd%3AQ1780490.%0A%20%20OPTIONAL%20%7B%20%3Fcommunard_ou_communarde%20wdt%3AP31%20%3Fnature_de_l_%C3%A9l%C3%A9ment.%20%7D%0A%7D%0AGroup%20by%20%20%3Fnature_de_l_%C3%A9l%C3%A9ment%20%3Fnature_de_l_%C3%A9l%C3%A9mentLabel\" \n",
    "referrerpolicy=\"origin\" sandbox=\"allow-scripts allow-same-origin allow-popups\">\n",
    "</iframe>"
   ]
  },
  {
   "cell_type": "markdown",
   "id": "00e03b34",
   "metadata": {},
   "source": [
    "##### en python"
   ]
  },
  {
   "cell_type": "code",
   "execution_count": 23,
   "id": "5475d828",
   "metadata": {},
   "outputs": [],
   "source": [
    "# faire un df_genre d'une seule colonne des valeurs sur la nature (P31)\n",
    "#df_nature = df_communard_tous_p_q[df_communard_tous_p_q['p.value']=='http://www.wikidata.org/prop/direct/P31']\n",
    "#df_nature = df_nature['qLabel.value'] \n",
    "# faire un df du nombre de personne par genre\n",
    "#data = df_nature.value_counts()\n",
    "#df_data = pd.DataFrame(data)\n",
    "#df_data = df_data.reset_index('qLabel.value')\n",
    "#df_data"
   ]
  },
  {
   "cell_type": "markdown",
   "id": "648a8c03",
   "metadata": {},
   "source": [
    "Wikidata permet de rentrer pleins de monde, y compris des êtres de fictions. Il existe quelques communard-e-s de fictions dans par exemple le cri du peule, la série de BD communardes...\n",
    "\n",
    "Au 16 janvier 2023 il y a 297 être humain (Q5) et 0 être humain de fiction (Q15632617).\n",
    "\n",
    "> être humain (Q5) individu appartenant à l’espèce Homo sapiens, la seule espèce restante du genre Homo – distinct de « humain fictif » et de « humain possiblement fictif »\n",
    "\n",
    "> humain de fiction (Q15632617)  \t\n",
    "être humain n'existant que dans des œuvres de fiction\n",
    "\n",
    "La plupart des requête recherches les communard-e-s sans vérifier ce critère. Les requêtes seront à revoir (ou pas) quand un certains nombre de ces êtres fictionnels arriveront dans wikidata.\n"
   ]
  },
  {
   "cell_type": "markdown",
   "id": "09f9b5e2",
   "metadata": {},
   "source": [
    "#### Quelques sources\n",
    "\n",
    "Pour chaque personne, indique si possible :\n",
    "- l'article wikipédia en français\n",
    "- le numéro de sa page dans le maitron\n",
    "\n",
    "> identifiant Maitron (P4724) identifiant d'une personne, d'un lieu de mémoire ou d'une monographie dans le Maitron en ligne, ensemble de dictionnaires biographiques du mouvement ouvrier"
   ]
  },
  {
   "cell_type": "markdown",
   "id": "f8a715d7",
   "metadata": {},
   "source": [
    "```sparql\n",
    "SELECT ?communard_ou_communarde ?communard_ou_communardeLabel ?article ?maitron WHERE {\n",
    "  SERVICE wikibase:label { bd:serviceParam wikibase:language \"[AUTO_LANGUAGE],en\". }\n",
    "  ?communard_ou_communarde wdt:P106 wd:Q1780490.\n",
    "\n",
    "  optional {?article schema:about ?communard_ou_communarde .\n",
    " ?article schema:isPartOf <https://fr.wikipedia.org/> .} \n",
    "  \n",
    "  optional {?communard_ou_communarde wdt:P4724 ?maitron.}\n",
    "\n",
    "}\n",
    "```"
   ]
  },
  {
   "cell_type": "markdown",
   "id": "ce204f9f",
   "metadata": {},
   "source": [
    "##### En sparql"
   ]
  },
  {
   "cell_type": "code",
   "execution_count": 24,
   "id": "6002e09f",
   "metadata": {},
   "outputs": [
    {
     "data": {
      "text/html": [
       "<iframe style=\"width: 95%; height: 50vh; border: none;\" \n",
       "src=\"https://query.wikidata.org/embed.html#%0ASELECT%20%3Fcommunard_ou_communarde%20%3Fcommunard_ou_communardeLabel%20%3Farticle%20%3Fmaitron%20WHERE%20%7B%0A%20%20SERVICE%20wikibase%3Alabel%20%7B%20bd%3AserviceParam%20wikibase%3Alanguage%20%22%5BAUTO_LANGUAGE%5D%2Cen%22.%20%7D%0A%20%20%3Fcommunard_ou_communarde%20wdt%3AP106%20wd%3AQ1780490.%0A%0A%20%20optional%20%7B%3Farticle%20schema%3Aabout%20%3Fcommunard_ou_communarde%20.%0A%20%3Farticle%20schema%3AisPartOf%20%3Chttps%3A%2F%2Ffr.wikipedia.org%2F%3E%20.%7D%20%0A%20%20%0A%20%20optional%20%7B%3Fcommunard_ou_communarde%20wdt%3AP4724%20%3Fmaitron.%7D%0A%0A%7D%0A\" \n",
       "referrerpolicy=\"origin\" sandbox=\"allow-scripts allow-same-origin allow-popups\">\n",
       "</iframe>\n"
      ],
      "text/plain": [
       "<IPython.core.display.HTML object>"
      ]
     },
     "metadata": {},
     "output_type": "display_data"
    }
   ],
   "source": [
    "%%HTML\n",
    "<iframe style=\"width: 95%; height: 50vh; border: none;\" \n",
    "src=\"https://query.wikidata.org/embed.html#%0ASELECT%20%3Fcommunard_ou_communarde%20%3Fcommunard_ou_communardeLabel%20%3Farticle%20%3Fmaitron%20WHERE%20%7B%0A%20%20SERVICE%20wikibase%3Alabel%20%7B%20bd%3AserviceParam%20wikibase%3Alanguage%20%22%5BAUTO_LANGUAGE%5D%2Cen%22.%20%7D%0A%20%20%3Fcommunard_ou_communarde%20wdt%3AP106%20wd%3AQ1780490.%0A%0A%20%20optional%20%7B%3Farticle%20schema%3Aabout%20%3Fcommunard_ou_communarde%20.%0A%20%3Farticle%20schema%3AisPartOf%20%3Chttps%3A%2F%2Ffr.wikipedia.org%2F%3E%20.%7D%20%0A%20%20%0A%20%20optional%20%7B%3Fcommunard_ou_communarde%20wdt%3AP4724%20%3Fmaitron.%7D%0A%0A%7D%0A\" \n",
    "referrerpolicy=\"origin\" sandbox=\"allow-scripts allow-same-origin allow-popups\">\n",
    "</iframe>"
   ]
  },
  {
   "cell_type": "markdown",
   "id": "1ca9b341",
   "metadata": {},
   "source": [
    "##### En python"
   ]
  },
  {
   "cell_type": "code",
   "execution_count": 25,
   "id": "f898f4cf",
   "metadata": {},
   "outputs": [],
   "source": [
    "query:str = \"\"\"SELECT ?communard_ou_communarde ?communard_ou_communardeLabel ?article ?maitron WHERE {\n",
    "  SERVICE wikibase:label { bd:serviceParam wikibase:language \"[AUTO_LANGUAGE],en\". }\n",
    "  ?communard_ou_communarde wdt:P106 wd:Q1780490.\n",
    "\n",
    "  optional {?article schema:about ?communard_ou_communarde .\n",
    " ?article schema:isPartOf <https://fr.wikipedia.org/> .} \n",
    "  \n",
    "  optional {?communard_ou_communarde wdt:P4724 ?maitron.}\n",
    "\n",
    "}\n",
    "\"\"\""
   ]
  },
  {
   "cell_type": "code",
   "execution_count": 27,
   "id": "63a3f3cc",
   "metadata": {},
   "outputs": [],
   "source": [
    "#extraction_wp_maitron = Extraction_wikidata(endpoint_url, query)\n",
    "#df_wp_maitron = extraction_wp_maitron.extraire_et_df()\n",
    "#df_wp_maitron = df_wp_maitron.loc[:,['communard_ou_communardeLabel.value', 'article.value', 'maitron.value']]"
   ]
  },
  {
   "cell_type": "code",
   "execution_count": 28,
   "id": "93dd5986",
   "metadata": {},
   "outputs": [],
   "source": [
    "#HTML(df_wp_maitron.to_html())"
   ]
  },
  {
   "cell_type": "markdown",
   "id": "c7bd6c66",
   "metadata": {},
   "source": [
    "On peut aussi compte combien de personnes ont un article dans wikipédia ou le maitron"
   ]
  },
  {
   "cell_type": "markdown",
   "id": "c1692c5d",
   "metadata": {},
   "source": [
    "```sparql\n",
    "SELECT (COUNT(?article) AS ?nb_WP) (COUNT(?maitron) AS ?nb_maitron) WHERE {\n",
    "  SERVICE wikibase:label { bd:serviceParam wikibase:language \"[AUTO_LANGUAGE],en\". }\n",
    "  ?communard_ou_communarde wdt:P106 wd:Q1780490.\n",
    "  OPTIONAL {\n",
    "    ?article schema:about ?communard_ou_communarde;\n",
    "      schema:isPartOf <https://fr.wikipedia.org/>.\n",
    "  }\n",
    "  OPTIONAL { ?communard_ou_communarde wdt:P4724 ?maitron. }\n",
    "}\n",
    "```"
   ]
  },
  {
   "cell_type": "code",
   "execution_count": 29,
   "id": "8e20ddbc",
   "metadata": {},
   "outputs": [
    {
     "data": {
      "text/html": [
       "<iframe style=\"width: 95%; height: 20vh; border: none;\" \n",
       "src=\"https://query.wikidata.org/embed.html#SELECT%20(COUNT(%3Farticle)%20AS%20%3Fnb_WP)%20(COUNT(%3Fmaitron)%20AS%20%3Fnb_maitron)%20WHERE%20%7B%0A%20%20SERVICE%20wikibase%3Alabel%20%7B%20bd%3AserviceParam%20wikibase%3Alanguage%20%22%5BAUTO_LANGUAGE%5D%2Cen%22.%20%7D%0A%20%20%3Fcommunard_ou_communarde%20wdt%3AP106%20wd%3AQ1780490.%0A%20%20OPTIONAL%20%7B%0A%20%20%20%20%3Farticle%20schema%3Aabout%20%3Fcommunard_ou_communarde%3B%0A%20%20%20%20%20%20schema%3AisPartOf%20%3Chttps%3A%2F%2Ffr.wikipedia.org%2F%3E.%0A%20%20%7D%0A%20%20OPTIONAL%20%7B%20%3Fcommunard_ou_communarde%20wdt%3AP4724%20%3Fmaitron.%20%7D%0A%7D\" \n",
       "referrerpolicy=\"origin\" sandbox=\"allow-scripts allow-same-origin allow-popups\">\n",
       "</iframe>\n"
      ],
      "text/plain": [
       "<IPython.core.display.HTML object>"
      ]
     },
     "metadata": {},
     "output_type": "display_data"
    }
   ],
   "source": [
    "%%HTML\n",
    "<iframe style=\"width: 95%; height: 20vh; border: none;\" \n",
    "src=\"https://query.wikidata.org/embed.html#SELECT%20(COUNT(%3Farticle)%20AS%20%3Fnb_WP)%20(COUNT(%3Fmaitron)%20AS%20%3Fnb_maitron)%20WHERE%20%7B%0A%20%20SERVICE%20wikibase%3Alabel%20%7B%20bd%3AserviceParam%20wikibase%3Alanguage%20%22%5BAUTO_LANGUAGE%5D%2Cen%22.%20%7D%0A%20%20%3Fcommunard_ou_communarde%20wdt%3AP106%20wd%3AQ1780490.%0A%20%20OPTIONAL%20%7B%0A%20%20%20%20%3Farticle%20schema%3Aabout%20%3Fcommunard_ou_communarde%3B%0A%20%20%20%20%20%20schema%3AisPartOf%20%3Chttps%3A%2F%2Ffr.wikipedia.org%2F%3E.%0A%20%20%7D%0A%20%20OPTIONAL%20%7B%20%3Fcommunard_ou_communarde%20wdt%3AP4724%20%3Fmaitron.%20%7D%0A%7D\" \n",
    "referrerpolicy=\"origin\" sandbox=\"allow-scripts allow-same-origin allow-popups\">\n",
    "</iframe>"
   ]
  },
  {
   "cell_type": "code",
   "execution_count": 31,
   "id": "dd95e03e",
   "metadata": {},
   "outputs": [],
   "source": [
    "#nb_wp = 0\n",
    "#nb_maitron = 0 \n",
    "#for i in range(df_wp_maitron.shape[0]):\n",
    "#    if str(df_wp_maitron.iloc[i]['article.value']) != 'nan':\n",
    "#        nb_wp += 1\n",
    "#    if str(df_wp_maitron.iloc[i]['maitron.value']) != 'nan':\n",
    "#        nb_maitron += 1\n",
    "#print(f\"il y a {nb_wp} personnes avec un article dans la wikipédia française et, {nb_maitron} qui ont une entré dans le mitron en ligne\")        \n"
   ]
  },
  {
   "cell_type": "code",
   "execution_count": null,
   "id": "9f0de58e",
   "metadata": {},
   "outputs": [],
   "source": []
  }
 ],
 "metadata": {
  "kernelspec": {
   "display_name": "Python 3 (ipykernel)",
   "language": "python",
   "name": "python3"
  },
  "language_info": {
   "codemirror_mode": {
    "name": "ipython",
    "version": 3
   },
   "file_extension": ".py",
   "mimetype": "text/x-python",
   "name": "python",
   "nbconvert_exporter": "python",
   "pygments_lexer": "ipython3",
   "version": "3.11.2"
  }
 },
 "nbformat": 4,
 "nbformat_minor": 5
}
