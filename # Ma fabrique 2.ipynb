{
 "cells": [
  {
   "cell_type": "markdown",
   "id": "bb31ad57",
   "metadata": {},
   "source": [
    "# Ma fabrique 2"
   ]
  },
  {
   "cell_type": "markdown",
   "id": "789edcf0",
   "metadata": {},
   "source": [
    "## Commune_dans_wikidata"
   ]
  },
  {
   "cell_type": "code",
   "execution_count": 15,
   "id": "a0f17042",
   "metadata": {},
   "outputs": [
    {
     "name": "stdout",
     "output_type": "stream",
     "text": [
      "[WARNING] This document format requires a nonempty <title> element.\r\n",
      "  Defaulting to 'Commune_dans_wikidata' as the title.\r\n",
      "  To specify a title, use 'title' in metadata or --metadata title=\"...\".\r\n"
     ]
    }
   ],
   "source": [
    "!pandoc -f ipynb -t html Commune_dans_wikidata.ipynb -o ./export_2/Commune_dans_wikidata \\\n",
    "--embed-resources --standalone --css=style.css"
   ]
  },
  {
   "cell_type": "markdown",
   "id": "327baf5f",
   "metadata": {},
   "source": [
    "## 1_introduction"
   ]
  },
  {
   "cell_type": "code",
   "execution_count": 5,
   "id": "d36abbc0",
   "metadata": {},
   "outputs": [
    {
     "name": "stdout",
     "output_type": "stream",
     "text": [
      "[WARNING] This document format requires a nonempty <title> element.\r\n",
      "  Defaulting to '1_introduction' as the title.\r\n",
      "  To specify a title, use 'title' in metadata or --metadata title=\"...\".\r\n"
     ]
    }
   ],
   "source": [
    "!pandoc -f ipynb -t html 1_introduction.ipynb -o ./export_2/1_introduction.html \\\n",
    "--embed-resources --standalone --css=style.css"
   ]
  },
  {
   "cell_type": "markdown",
   "id": "9891e394",
   "metadata": {},
   "source": [
    "## 2_faire_une_requete_sur_wikidata_en_python"
   ]
  },
  {
   "cell_type": "code",
   "execution_count": 9,
   "id": "7a2d18cf",
   "metadata": {},
   "outputs": [
    {
     "name": "stdout",
     "output_type": "stream",
     "text": [
      "[WARNING] This document format requires a nonempty <title> element.\r\n",
      "  Defaulting to '2_faire_une_requete_sur_wikidata_en_python' as the title.\r\n",
      "  To specify a title, use 'title' in metadata or --metadata title=\"...\".\r\n"
     ]
    }
   ],
   "source": [
    "!pandoc -f ipynb -t html 2_faire_une_requete_sur_wikidata_en_python.ipynb -o ./export_2/2_faire_une_requete_sur_wikidata_en_python.html \n",
    "\\--embed-resources --standalone --css=style.css"
   ]
  },
  {
   "cell_type": "markdown",
   "id": "867e8acd",
   "metadata": {},
   "source": [
    "## 3_Portraits_de_communardes_et_communards"
   ]
  },
  {
   "cell_type": "code",
   "execution_count": 1,
   "id": "ec1ab306",
   "metadata": {},
   "outputs": [],
   "source": [
    "#!pandoc -f ipynb -t html 3_Portraits_de_communardes_et_communards.ipynb -o ./export_2/3_Portraits_de_communardes_et_communards.html \\\n",
    "#--embed-resources --standalone --css=style.css"
   ]
  },
  {
   "cell_type": "code",
   "execution_count": 2,
   "id": "704ccc42",
   "metadata": {},
   "outputs": [
    {
     "name": "stdout",
     "output_type": "stream",
     "text": [
      "[NbConvertApp] Converting notebook 3_Portraits_de_communardes_et_communards.ipynb to html\n",
      "[NbConvertApp] Writing 767316 bytes to export_2/3_Portraits_de_communardes_et_communards_intégrale.html\n"
     ]
    }
   ],
   "source": [
    "!jupyter nbconvert 3_Portraits_de_communardes_et_communards.ipynb \\\n",
    "--to html --output ./export_2/3_Portraits_de_communardes_et_communards_intégrale "
   ]
  },
  {
   "cell_type": "code",
   "execution_count": 6,
   "id": "ce5c9089",
   "metadata": {},
   "outputs": [
    {
     "name": "stdout",
     "output_type": "stream",
     "text": [
      "/home/silanoc/anaconda3/lib/python3.11/site-packages/traitlets/traitlets.py:2915: FutureWarning: --TagRemovePreprocessor.remove_cell_tags=['sparql'] for containers is deprecated in traitlets 5.0. You can pass `--TagRemovePreprocessor.remove_cell_tags item` ... multiple times to add items to a list.\n",
      "  warn(\n",
      "[NbConvertApp] Converting notebook 3_Portraits_de_communardes_et_communards.ipynb to html\n",
      "[NbConvertApp] Writing 731932 bytes to export_2/3_Portraits_de_communardes_et_communards_python.html\n"
     ]
    }
   ],
   "source": [
    "!jupyter nbconvert 3_Portraits_de_communardes_et_communards.ipynb \\\n",
    "--TagRemovePreprocessor.remove_cell_tags=\"['sparql']\" \\\n",
    "--no-input \\\n",
    "--to html --output ./export_2/3_Portraits_de_communardes_et_communards_python "
   ]
  },
  {
   "cell_type": "code",
   "execution_count": 4,
   "id": "1aa00717",
   "metadata": {},
   "outputs": [
    {
     "name": "stdout",
     "output_type": "stream",
     "text": [
      "/home/silanoc/anaconda3/lib/python3.11/site-packages/traitlets/traitlets.py:2915: FutureWarning: --TagRemovePreprocessor.remove_cell_tags=['python'] for containers is deprecated in traitlets 5.0. You can pass `--TagRemovePreprocessor.remove_cell_tags item` ... multiple times to add items to a list.\n",
      "  warn(\n",
      "[NbConvertApp] Converting notebook 3_Portraits_de_communardes_et_communards.ipynb to html\n",
      "[NbConvertApp] Writing 607191 bytes to export_2/3_Portraits_de_communardes_et_communards_sparql.html\n"
     ]
    }
   ],
   "source": [
    "!jupyter nbconvert 3_Portraits_de_communardes_et_communards.ipynb \\\n",
    "--TagRemovePreprocessor.remove_cell_tags=\"['python']\" \\\n",
    "--no-input \\\n",
    "--to html --output ./export_2/3_Portraits_de_communardes_et_communards_sparql "
   ]
  },
  {
   "cell_type": "markdown",
   "id": "a8d34807",
   "metadata": {},
   "source": [
    "## 4_Presentations_et_statistiques_a_propos_des_Communard-e-s"
   ]
  },
  {
   "cell_type": "code",
   "execution_count": 12,
   "id": "6af35661",
   "metadata": {},
   "outputs": [
    {
     "name": "stdout",
     "output_type": "stream",
     "text": [
      "[NbConvertApp] Converting notebook 4_Presentations_et_statistiques_a_propos_des_Communard-e-s.ipynb to html\n",
      "[NbConvertApp] Writing 708450 bytes to export_2/4_Presentations_et_statistiques_a_propos_des_Communard-e-s_intégrale.html\n"
     ]
    }
   ],
   "source": [
    "!jupyter nbconvert 4_Presentations_et_statistiques_a_propos_des_Communard-e-s \\\n",
    "--to html --output ./export_2/4_Presentations_et_statistiques_a_propos_des_Communard-e-s_intégrale "
   ]
  },
  {
   "cell_type": "code",
   "execution_count": 13,
   "id": "eb4a6421",
   "metadata": {},
   "outputs": [
    {
     "name": "stdout",
     "output_type": "stream",
     "text": [
      "/home/silanoc/anaconda3/lib/python3.11/site-packages/traitlets/traitlets.py:2915: FutureWarning: --TagRemovePreprocessor.remove_cell_tags=['python'] for containers is deprecated in traitlets 5.0. You can pass `--TagRemovePreprocessor.remove_cell_tags item` ... multiple times to add items to a list.\n",
      "  warn(\n",
      "[NbConvertApp] Converting notebook 4_Presentations_et_statistiques_a_propos_des_Communard-e-s.ipynb to html\n",
      "[NbConvertApp] Writing 658570 bytes to export_2/4_Presentations_et_statistiques_a_propos_des_Communard-e-s_sparql.html\n"
     ]
    }
   ],
   "source": [
    "!jupyter nbconvert 4_Presentations_et_statistiques_a_propos_des_Communard-e-s \\\n",
    "--TagRemovePreprocessor.remove_cell_tags=\"['python']\" \\\n",
    "--no-input \\\n",
    "--to html --output ./export_2/4_Presentations_et_statistiques_a_propos_des_Communard-e-s_sparql"
   ]
  },
  {
   "cell_type": "code",
   "execution_count": 14,
   "id": "38d0d967",
   "metadata": {},
   "outputs": [
    {
     "name": "stdout",
     "output_type": "stream",
     "text": [
      "/home/silanoc/anaconda3/lib/python3.11/site-packages/traitlets/traitlets.py:2915: FutureWarning: --TagRemovePreprocessor.remove_cell_tags=['sparql'] for containers is deprecated in traitlets 5.0. You can pass `--TagRemovePreprocessor.remove_cell_tags item` ... multiple times to add items to a list.\n",
      "  warn(\n",
      "[NbConvertApp] Converting notebook 4_Presentations_et_statistiques_a_propos_des_Communard-e-s.ipynb to html\n",
      "[NbConvertApp] Writing 584296 bytes to export_2/4_Presentations_et_statistiques_a_propos_des_Communard-e-s_python.html\n"
     ]
    }
   ],
   "source": [
    "!jupyter nbconvert 4_Presentations_et_statistiques_a_propos_des_Communard-e-s \\\n",
    "--TagRemovePreprocessor.remove_cell_tags=\"['sparql']\" \\\n",
    "--no-input \\\n",
    "--to html --output ./export_2/4_Presentations_et_statistiques_a_propos_des_Communard-e-s_python"
   ]
  },
  {
   "cell_type": "markdown",
   "id": "77ab4127",
   "metadata": {},
   "source": [
    "## 5_ Les_communardes_et_communards_dans_des_cimetières"
   ]
  },
  {
   "cell_type": "code",
   "execution_count": 2,
   "id": "93a214f7",
   "metadata": {},
   "outputs": [
    {
     "name": "stdout",
     "output_type": "stream",
     "text": [
      "[NbConvertApp] Converting notebook 5_ Les_communardes_et_communards_dans_des_cimetières.ipynb to html\n",
      "[NbConvertApp] Writing 614574 bytes to export_2/5_Les_communardes_et_communards_dans_des_cimetières_intégral.html\n"
     ]
    }
   ],
   "source": [
    "!jupyter nbconvert \"5_ Les_communardes_et_communards_dans_des_cimetières\" \\\n",
    "--to html --output ./export_2/5_Les_communardes_et_communards_dans_des_cimetières_intégrale "
   ]
  },
  {
   "cell_type": "code",
   "execution_count": 3,
   "id": "1583583e",
   "metadata": {},
   "outputs": [
    {
     "name": "stdout",
     "output_type": "stream",
     "text": [
      "/home/silanoc/anaconda3/lib/python3.11/site-packages/traitlets/traitlets.py:2915: FutureWarning: --TagRemovePreprocessor.remove_cell_tags=['sparql'] for containers is deprecated in traitlets 5.0. You can pass `--TagRemovePreprocessor.remove_cell_tags item` ... multiple times to add items to a list.\n",
      "  warn(\n",
      "[NbConvertApp] Converting notebook 5_ Les_communardes_et_communards_dans_des_cimetières.ipynb to html\n",
      "[NbConvertApp] Writing 586644 bytes to export_2/5_Les_communardes_et_communards_dans_des_cimetières_python.html\n"
     ]
    }
   ],
   "source": [
    "!jupyter nbconvert \"5_ Les_communardes_et_communards_dans_des_cimetières\" \\\n",
    "--TagRemovePreprocessor.enabled=True \\\n",
    "--TagRemovePreprocessor.remove_cell_tags=\"['sparql']\" \\\n",
    "--no-input \\\n",
    "--to html --output ./export_2/5_Les_communardes_et_communards_dans_des_cimetières_python "
   ]
  },
  {
   "cell_type": "code",
   "execution_count": 4,
   "id": "df3fa59e",
   "metadata": {},
   "outputs": [
    {
     "name": "stdout",
     "output_type": "stream",
     "text": [
      "/home/silanoc/anaconda3/lib/python3.11/site-packages/traitlets/traitlets.py:2915: FutureWarning: --TagRemovePreprocessor.remove_cell_tags=['python'] for containers is deprecated in traitlets 5.0. You can pass `--TagRemovePreprocessor.remove_cell_tags item` ... multiple times to add items to a list.\n",
      "  warn(\n",
      "[NbConvertApp] Converting notebook 5_ Les_communardes_et_communards_dans_des_cimetières.ipynb to html\n",
      "[NbConvertApp] Writing 596611 bytes to export_2/5_Les_communardes_et_communards_dans_des_cimetières_sparql.html\n"
     ]
    }
   ],
   "source": [
    "!jupyter nbconvert \"5_ Les_communardes_et_communards_dans_des_cimetières\" \\\n",
    "--TagRemovePreprocessor.enabled=True \\\n",
    "--TagRemovePreprocessor.remove_cell_tags=\"['python']\" \\\n",
    "--no-input \\\n",
    "--to html --output ./export_2/5_Les_communardes_et_communards_dans_des_cimetières_sparql "
   ]
  },
  {
   "cell_type": "markdown",
   "id": "b2aeb07a",
   "metadata": {},
   "source": [
    "## 6_Une_chronologie_de_la_Commune"
   ]
  },
  {
   "cell_type": "code",
   "execution_count": 1,
   "id": "9cf5d473",
   "metadata": {},
   "outputs": [
    {
     "name": "stdout",
     "output_type": "stream",
     "text": [
      "[NbConvertApp] Converting notebook 6_Une_chronologie_de_la_Commune.ipynb to html\n",
      "[NbConvertApp] Writing 609654 bytes to export_2/6_Une_chronologie_de_la_Commune_intégrale.html\n"
     ]
    }
   ],
   "source": [
    "!jupyter nbconvert 6_Une_chronologie_de_la_Commune \\\n",
    "--to html --output ./export_2/6_Une_chronologie_de_la_Commune_intégrale"
   ]
  },
  {
   "cell_type": "code",
   "execution_count": 2,
   "id": "74128462",
   "metadata": {},
   "outputs": [
    {
     "name": "stdout",
     "output_type": "stream",
     "text": [
      "/home/silanoc/anaconda3/lib/python3.11/site-packages/traitlets/traitlets.py:2915: FutureWarning: --TagRemovePreprocessor.remove_cell_tags=['python'] for containers is deprecated in traitlets 5.0. You can pass `--TagRemovePreprocessor.remove_cell_tags item` ... multiple times to add items to a list.\n",
      "  warn(\n",
      "[NbConvertApp] Converting notebook 6_Une_chronologie_de_la_Commune.ipynb to html\n",
      "[NbConvertApp] Writing 599960 bytes to export_2/6_Une_chronologie_de_la_Commune_sparql.html\n"
     ]
    }
   ],
   "source": [
    "!jupyter nbconvert 6_Une_chronologie_de_la_Commune \\\n",
    "--TagRemovePreprocessor.remove_cell_tags=\"['python']\" \\\n",
    "--no-input \\\n",
    "--to html --output ./export_2/6_Une_chronologie_de_la_Commune_sparql"
   ]
  },
  {
   "cell_type": "markdown",
   "id": "c09fbbd0",
   "metadata": {},
   "source": [
    "## 7_Média_sur_la_Commune"
   ]
  },
  {
   "cell_type": "code",
   "execution_count": 5,
   "id": "67529709",
   "metadata": {},
   "outputs": [
    {
     "name": "stdout",
     "output_type": "stream",
     "text": [
      "[NbConvertApp] Converting notebook 7_Média_sur_la_Commune.ipynb to html\n",
      "[NbConvertApp] Writing 663578 bytes to export_2/7_Média_sur_la_Commune_intégrale.html\n"
     ]
    }
   ],
   "source": [
    "!jupyter nbconvert \"7_Média_sur_la_Commune\" \\\n",
    "--to html --output ./export_2/7_Média_sur_la_Commune_intégrale"
   ]
  },
  {
   "cell_type": "code",
   "execution_count": 6,
   "id": "4b09b345",
   "metadata": {},
   "outputs": [
    {
     "name": "stdout",
     "output_type": "stream",
     "text": [
      "/home/silanoc/anaconda3/lib/python3.11/site-packages/traitlets/traitlets.py:2915: FutureWarning: --TagRemovePreprocessor.remove_cell_tags=['python'] for containers is deprecated in traitlets 5.0. You can pass `--TagRemovePreprocessor.remove_cell_tags item` ... multiple times to add items to a list.\n",
      "  warn(\n",
      "[NbConvertApp] Converting notebook 7_Média_sur_la_Commune.ipynb to html\n",
      "[NbConvertApp] Writing 604677 bytes to export_2/7_Média_sur_la_Commune_sparql.html\n"
     ]
    }
   ],
   "source": [
    "!jupyter nbconvert \"7_Média_sur_la_Commune\" \\\n",
    "--TagRemovePreprocessor.remove_cell_tags=\"['python']\" \\\n",
    "--no-input \\\n",
    "--to html --output ./export_2/7_Média_sur_la_Commune_sparql"
   ]
  },
  {
   "cell_type": "code",
   "execution_count": 7,
   "id": "791eec84",
   "metadata": {},
   "outputs": [
    {
     "name": "stdout",
     "output_type": "stream",
     "text": [
      "/home/silanoc/anaconda3/lib/python3.11/site-packages/traitlets/traitlets.py:2915: FutureWarning: --TagRemovePreprocessor.remove_cell_tags=['sparql'] for containers is deprecated in traitlets 5.0. You can pass `--TagRemovePreprocessor.remove_cell_tags item` ... multiple times to add items to a list.\n",
      "  warn(\n",
      "[NbConvertApp] Converting notebook 7_Média_sur_la_Commune.ipynb to html\n",
      "[NbConvertApp] Writing 622160 bytes to export_2/7_Média_sur_la_Commune_python.html\n"
     ]
    }
   ],
   "source": [
    "!jupyter nbconvert \"7_Média_sur_la_Commune\" \\\n",
    "--TagRemovePreprocessor.remove_cell_tags=\"['sparql']\" \\\n",
    "--no-input \\\n",
    "--to html --output ./export_2/7_Média_sur_la_Commune_python"
   ]
  },
  {
   "cell_type": "code",
   "execution_count": null,
   "id": "35be9dd5",
   "metadata": {},
   "outputs": [],
   "source": []
  }
 ],
 "metadata": {
  "hide_input": false,
  "kernelspec": {
   "display_name": "Python 3 (ipykernel)",
   "language": "python",
   "name": "python3"
  },
  "language_info": {
   "codemirror_mode": {
    "name": "ipython",
    "version": 3
   },
   "file_extension": ".py",
   "mimetype": "text/x-python",
   "name": "python",
   "nbconvert_exporter": "python",
   "pygments_lexer": "ipython3",
   "version": "3.11.4"
  },
  "toc": {
   "base_numbering": 1,
   "nav_menu": {},
   "number_sections": true,
   "sideBar": true,
   "skip_h1_title": false,
   "title_cell": "Table of Contents",
   "title_sidebar": "Contents",
   "toc_cell": false,
   "toc_position": {},
   "toc_section_display": true,
   "toc_window_display": false
  }
 },
 "nbformat": 4,
 "nbformat_minor": 5
}
