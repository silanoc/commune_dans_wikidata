{
 "cells": [
  {
   "cell_type": "markdown",
   "id": "bb31ad57",
   "metadata": {},
   "source": [
    "# Ma fabrique 2"
   ]
  },
  {
   "cell_type": "markdown",
   "id": "789edcf0",
   "metadata": {},
   "source": [
    "## Commune_dans_wikidata"
   ]
  },
  {
   "cell_type": "code",
   "execution_count": 36,
   "id": "a0f17042",
   "metadata": {},
   "outputs": [
    {
     "name": "stdout",
     "output_type": "stream",
     "text": [
      "[WARNING] This document format requires a nonempty <title> element.\r\n",
      "  Defaulting to 'Commune_dans_wikidata' as the title.\r\n",
      "  To specify a title, use 'title' in metadata or --metadata title=\"...\".\r\n"
     ]
    }
   ],
   "source": [
    "!pandoc -f ipynb -t html Commune_dans_wikidata.ipynb -o ./export_2/Commune_dans_wikidata \\\n",
    "--embed-resources --standalone --css=style.css"
   ]
  },
  {
   "cell_type": "markdown",
   "id": "327baf5f",
   "metadata": {},
   "source": [
    "## 1_introduction"
   ]
  },
  {
   "cell_type": "code",
   "execution_count": 19,
   "id": "d36abbc0",
   "metadata": {},
   "outputs": [
    {
     "name": "stdout",
     "output_type": "stream",
     "text": [
      "[WARNING] This document format requires a nonempty <title> element.\r\n",
      "  Defaulting to '1_introduction' as the title.\r\n",
      "  To specify a title, use 'title' in metadata or --metadata title=\"...\".\r\n"
     ]
    }
   ],
   "source": [
    "!pandoc -f ipynb -t html 1_introduction.ipynb -o ./export_2/1_introduction.html \\\n",
    "--embed-resources --standalone --css=style.css"
   ]
  },
  {
   "cell_type": "markdown",
   "id": "9891e394",
   "metadata": {},
   "source": [
    "## 2_faire_une_requete_sur_wikidata_en_python"
   ]
  },
  {
   "cell_type": "code",
   "execution_count": 9,
   "id": "7a2d18cf",
   "metadata": {},
   "outputs": [
    {
     "name": "stdout",
     "output_type": "stream",
     "text": [
      "[WARNING] This document format requires a nonempty <title> element.\r\n",
      "  Defaulting to '2_faire_une_requete_sur_wikidata_en_python' as the title.\r\n",
      "  To specify a title, use 'title' in metadata or --metadata title=\"...\".\r\n"
     ]
    }
   ],
   "source": [
    "!pandoc -f ipynb -t html 2_faire_une_requete_sur_wikidata_en_python.ipynb -o ./export_2/2_faire_une_requete_sur_wikidata_en_python.html \n",
    "\\--embed-resources --standalone --css=style.css"
   ]
  },
  {
   "cell_type": "markdown",
   "id": "867e8acd",
   "metadata": {},
   "source": [
    "## 3_Portraits_de_communardes_et_communards"
   ]
  },
  {
   "cell_type": "code",
   "execution_count": 20,
   "id": "ec1ab306",
   "metadata": {},
   "outputs": [
    {
     "name": "stdout",
     "output_type": "stream",
     "text": [
      "[WARNING] This document format requires a nonempty <title> element.\r\n",
      "  Defaulting to '3_Portraits_de_communardes_et_communards' as the title.\r\n",
      "  To specify a title, use 'title' in metadata or --metadata title=\"...\".\r\n"
     ]
    }
   ],
   "source": [
    "!pandoc -f ipynb -t html 3_Portraits_de_communardes_et_communards.ipynb -o ./export_2/3_Portraits_de_communardes_et_communards.html \\\n",
    "--embed-resources --standalone --css=style.css"
   ]
  },
  {
   "cell_type": "code",
   "execution_count": 21,
   "id": "704ccc42",
   "metadata": {},
   "outputs": [
    {
     "name": "stdout",
     "output_type": "stream",
     "text": [
      "[NbConvertApp] Converting notebook 3_Portraits_de_communardes_et_communards.ipynb to html\n",
      "[NbConvertApp] Writing 765951 bytes to export_2/3_Portraits_de_communardes_et_communards.html\n"
     ]
    }
   ],
   "source": [
    "!jupyter nbconvert 3_Portraits_de_communardes_et_communards.ipynb \\\n",
    "--to html --output ./export_2/3_Portraits_de_communardes_et_communards "
   ]
  },
  {
   "cell_type": "markdown",
   "id": "a8d34807",
   "metadata": {},
   "source": [
    "## 4_Presentations_et_statistiques_a_propos_des_Communard-e-s"
   ]
  },
  {
   "cell_type": "code",
   "execution_count": 1,
   "id": "6af35661",
   "metadata": {},
   "outputs": [
    {
     "name": "stdout",
     "output_type": "stream",
     "text": [
      "[NbConvertApp] Converting notebook 4_Presentations_et_statistiques_a_propos_des_Communard-e-s.ipynb to html\n",
      "[NbConvertApp] Writing 707195 bytes to export_2/4_Presentations_et_statistiques_a_propos_des_Communard-e-s.html\n"
     ]
    }
   ],
   "source": [
    "!jupyter nbconvert 4_Presentations_et_statistiques_a_propos_des_Communard-e-s \\\n",
    "--to html --output ./export_2/4_Presentations_et_statistiques_a_propos_des_Communard-e-s "
   ]
  },
  {
   "cell_type": "markdown",
   "id": "77ab4127",
   "metadata": {},
   "source": [
    "## 5_ Les_communardes_et_communards_dans_des_cimetières"
   ]
  },
  {
   "cell_type": "code",
   "execution_count": 29,
   "id": "93a214f7",
   "metadata": {},
   "outputs": [
    {
     "name": "stdout",
     "output_type": "stream",
     "text": [
      "[NbConvertApp] Converting notebook 5_ Les_communardes_et_communards_dans_des_cimetières.ipynb to html\n",
      "[NbConvertApp] Writing 608177 bytes to export_2/5_Les_communardes_et_communards_dans_des_cimetières.html\n"
     ]
    }
   ],
   "source": [
    "!jupyter nbconvert \"5_ Les_communardes_et_communards_dans_des_cimetières\" \\\n",
    "--to html --output ./export_2/5_Les_communardes_et_communards_dans_des_cimetières "
   ]
  },
  {
   "cell_type": "markdown",
   "id": "b2aeb07a",
   "metadata": {},
   "source": [
    "## 6_Une_chronologie_de_la_Commune"
   ]
  },
  {
   "cell_type": "code",
   "execution_count": 30,
   "id": "9cf5d473",
   "metadata": {},
   "outputs": [
    {
     "name": "stdout",
     "output_type": "stream",
     "text": [
      "[NbConvertApp] Converting notebook 6_Une_chronologie_de_la_Commune.ipynb to html\n",
      "[NbConvertApp] Writing 607320 bytes to export_2/6_Une_chronologie_de_la_Commune.html\n"
     ]
    }
   ],
   "source": [
    "!jupyter nbconvert 6_Une_chronologie_de_la_Commune \\\n",
    "--to html --output ./export_2/6_Une_chronologie_de_la_Commune"
   ]
  },
  {
   "cell_type": "markdown",
   "id": "c09fbbd0",
   "metadata": {},
   "source": [
    "## 7_Média_sur_la_Commune"
   ]
  },
  {
   "cell_type": "code",
   "execution_count": 31,
   "id": "67529709",
   "metadata": {},
   "outputs": [
    {
     "name": "stdout",
     "output_type": "stream",
     "text": [
      "[NbConvertApp] Converting notebook 7_Média_sur_la_Commune.ipynb to html\n",
      "[NbConvertApp] Writing 634227 bytes to export_2/7_Média_sur_la_Commune.html\n"
     ]
    }
   ],
   "source": [
    "!jupyter nbconvert \"7_Média_sur_la_Commune\" \\\n",
    "--to html --output ./export_2/7_Média_sur_la_Commune"
   ]
  },
  {
   "cell_type": "code",
   "execution_count": null,
   "id": "4b09b345",
   "metadata": {},
   "outputs": [],
   "source": []
  }
 ],
 "metadata": {
  "hide_input": false,
  "kernelspec": {
   "display_name": "Python 3 (ipykernel)",
   "language": "python",
   "name": "python3"
  },
  "language_info": {
   "codemirror_mode": {
    "name": "ipython",
    "version": 3
   },
   "file_extension": ".py",
   "mimetype": "text/x-python",
   "name": "python",
   "nbconvert_exporter": "python",
   "pygments_lexer": "ipython3",
   "version": "3.11.4"
  },
  "toc": {
   "base_numbering": 1,
   "nav_menu": {},
   "number_sections": true,
   "sideBar": true,
   "skip_h1_title": false,
   "title_cell": "Table of Contents",
   "title_sidebar": "Contents",
   "toc_cell": false,
   "toc_position": {},
   "toc_section_display": true,
   "toc_window_display": false
  }
 },
 "nbformat": 4,
 "nbformat_minor": 5
}
